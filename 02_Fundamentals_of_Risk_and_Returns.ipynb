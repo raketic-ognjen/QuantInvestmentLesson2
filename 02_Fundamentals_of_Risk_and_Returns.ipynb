{
  "nbformat": 4,
  "nbformat_minor": 0,
  "metadata": {
    "colab": {
      "provenance": []
    },
    "kernelspec": {
      "name": "python3",
      "display_name": "Python 3"
    },
    "language_info": {
      "name": "python"
    }
  },
  "cells": [
    {
      "cell_type": "markdown",
      "source": [
        "# <font color='tomato' style=\"font-size:40px\"><center><b>02. Fundamentals of Risk and Returns</b></center></font>"
      ],
      "metadata": {
        "id": "B8wR_RJ3kUrA"
      }
    },
    {
      "cell_type": "markdown",
      "source": [
        "In this module we discuss returns, risk, and risk-adjusted performance measures. These concepts are key to portfolio analysis and management. In particular, we discuss simple and cumulative returns, expected returns, standard deviation, as well as a measure of downside risk - drawdown. We discuss, also, risk-adjusted performance measures including return-risk ratio as well as the Sharpe ratio.\n",
        "\n",
        "On the programming side of things, we review how to import and manipulate financial data using Pandas, how to plot the output of our analysis using Plotly, and how to implement in Python all of the concepts that we talk about in class.\n",
        "\n",
        "It may be useful to consult Lectures on Pandas and Plotly from the Bootcamp  if you have difficulties understanding the code that we are using. But, hopefully, it should be sufficiently clear as is."
      ],
      "metadata": {
        "id": "rtESFpyTklFx"
      }
    },
    {
      "cell_type": "markdown",
      "source": [
        "In every class, we import packages necessary for further work:\n",
        "* <font color='mediumseagreen'><b>Pandas</b></font>\n",
        "* <font color='mediumseagreen'><b>DateTime</b></font>\n",
        "* <font color='mediumseagreen'><b>NumPy</b></font>\n",
        "* <font color='mediumseagreen'><b>Plotly - Graph objects</b></font>\n",
        "* function <font color='DodgerBlue'><b>make_subplots</b></font> from <font color='mediumseagreen'><b>Plotly</b></font>"
      ],
      "metadata": {
        "id": "HJQJ22TBHZWK"
      }
    },
    {
      "cell_type": "code",
      "source": [
        "import datetime as dt\n",
        "import pandas as pd\n",
        "import numpy as np\n",
        "import plotly.graph_objects as go\n",
        "from plotly.subplots import make_subplots"
      ],
      "metadata": {
        "id": "BTxCv2UxHa90"
      },
      "execution_count": 2,
      "outputs": []
    },
    {
      "cell_type": "markdown",
      "source": [
        "## <font color='orange' style=\"font-size:25px\"><b>Returns</b></font>"
      ],
      "metadata": {
        "id": "5TcsO4SGHz88"
      }
    },
    {
      "cell_type": "markdown",
      "source": [
        "Suppose we want to compare performance of two stocks. Price of the first one was initially 10 and grew to 12 dollars per share, while the price of the second one was 1000 dollars and grew to 1002 dollars per share. Both increased by 2 dollars"
      ],
      "metadata": {
        "id": "dYPPP0DaHUmD"
      }
    },
    {
      "cell_type": "code",
      "source": [
        "12-10, 1002-1000"
      ],
      "metadata": {
        "colab": {
          "base_uri": "https://localhost:8080/"
        },
        "id": "63XGsAn2HTag",
        "outputId": "80decc87-8d27-42be-e1d6-da8006bb862c"
      },
      "execution_count": 1,
      "outputs": [
        {
          "output_type": "execute_result",
          "data": {
            "text/plain": [
              "(2, 2)"
            ]
          },
          "metadata": {},
          "execution_count": 1
        }
      ]
    },
    {
      "cell_type": "markdown",
      "source": [
        "On the other hand, it is clear that the first stock grew a lot, relative to the initial price, while the second stock barely moved. So, dollar returns, while important, do not tell investors the full story about their performance."
      ],
      "metadata": {
        "id": "UZ4k6WS9H1ma"
      }
    },
    {
      "cell_type": "markdown",
      "source": [
        "Most investors are concerned with returns (relative returns) instead of dollar returns (price changes of assets or absolute returns). There are good reason for that:\n",
        "\n",
        "* Return on an asset is a scale-free measure of the investment performance. Scale-free means that, using returns, we can compare two investments that have different dollar costs.\n",
        "\n",
        "* Also, (relative) returns have nicer statistical properties than dollar returns"
      ],
      "metadata": {
        "id": "UlIx1w3MIPiJ"
      }
    },
    {
      "cell_type": "markdown",
      "source": [
        "### <font color='MediumVioletRed' style=\"font-size:20px\"><b>Simple returns</b></font>"
      ],
      "metadata": {
        "id": "u9tmmOF7IUiX"
      }
    },
    {
      "cell_type": "markdown",
      "source": [
        "**Simple or arithmetic returns** for the unit time period is defined as (here $P_t$ is asset price at time $t$):\n",
        "\n",
        "$$r_{t+1}=\\frac{P_{t+1}−P_{t}}{P_{t}}=\\frac{ΔP_t}{P_{t}}=\\frac{P_{t+1}}{P_{t}}−1$$\n",
        "\n",
        "The unit time period can be 1 day (in which case this would be simple daily return), 1 week (this would be simple weekly return) etc."
      ],
      "metadata": {
        "id": "wbEzgmJLIVdM"
      }
    },
    {
      "cell_type": "markdown",
      "source": [
        "For the example above, simple returns would be"
      ],
      "metadata": {
        "id": "ebdz8v4aIWqc"
      }
    },
    {
      "cell_type": "code",
      "source": [
        "(12-10)/10,(1002-1000)/1000"
      ],
      "metadata": {
        "colab": {
          "base_uri": "https://localhost:8080/"
        },
        "id": "hDVhetzOIXJO",
        "outputId": "caa9a525-5a89-4940-8b54-2c98d3cb808c"
      },
      "execution_count": 3,
      "outputs": [
        {
          "output_type": "execute_result",
          "data": {
            "text/plain": [
              "(0.2, 0.002)"
            ]
          },
          "metadata": {},
          "execution_count": 3
        }
      ]
    },
    {
      "cell_type": "markdown",
      "source": [
        "Price at time $t+1$ is related to the simple return as follows:\n",
        "\n",
        "$$P_{t+1}=P_{t}(1+r_{t+1})$$"
      ],
      "metadata": {
        "id": "8lEPL2WaIduq"
      }
    },
    {
      "cell_type": "markdown",
      "source": [
        "So, if we know the price at time $t$, in order to forecast the price at time $t+1$ we need to forecast the return between $t$ and $t+1$. We need to, in other words, answer the following question: what is the one-day (one-week, one-month etc) return that we expect is to be realized in the next period."
      ],
      "metadata": {
        "id": "MnVzXNplIeo_"
      }
    },
    {
      "cell_type": "markdown",
      "source": [
        "It is convenient to use both net returns $r_t$  ( numbers like 0.03, -0.01, etc.) and gross returns $(1+r_t)$ (which will be something like 1.03, 0.99, etc.). Thus, price tomorrow would be price today times the gross return between today and tomorrow.\n",
        "\n",
        "We have seen this in the first lectures when we talked about $u$ and $d$. Those were gross returns on risky assets, while $u-1$ and $d-1$ are net returns."
      ],
      "metadata": {
        "id": "5nmLgJA9IgE6"
      }
    },
    {
      "cell_type": "markdown",
      "source": [
        "If you buy a stock for 10 dollars and sell it for 12, the net return (we from now on skip the word net and call it just return) is:"
      ],
      "metadata": {
        "id": "T4Mrhh0wIr1b"
      }
    },
    {
      "cell_type": "code",
      "source": [
        "(12-10)/10"
      ],
      "metadata": {
        "colab": {
          "base_uri": "https://localhost:8080/"
        },
        "id": "c--XQLfRIt6Q",
        "outputId": "c6c0f10b-cdc5-4efa-efd0-4134c6c57670"
      },
      "execution_count": 4,
      "outputs": [
        {
          "output_type": "execute_result",
          "data": {
            "text/plain": [
              "0.2"
            ]
          },
          "metadata": {},
          "execution_count": 4
        }
      ]
    },
    {
      "cell_type": "markdown",
      "source": [
        "On the other hand, gross return would be $\\frac{P_{t+1}}{P_{t}}$. In our example this is:"
      ],
      "metadata": {
        "id": "BioYWyY-IxzC"
      }
    },
    {
      "cell_type": "code",
      "source": [
        "12/10"
      ],
      "metadata": {
        "colab": {
          "base_uri": "https://localhost:8080/"
        },
        "id": "Iv7io_nGI0E2",
        "outputId": "633eff56-4b3e-47f0-8487-bbbfbef9931e"
      },
      "execution_count": 5,
      "outputs": [
        {
          "output_type": "execute_result",
          "data": {
            "text/plain": [
              "1.2"
            ]
          },
          "metadata": {},
          "execution_count": 5
        }
      ]
    },
    {
      "cell_type": "markdown",
      "source": [
        "If the stock had  paid dividends between t and t+1, the relevant return capturing the monetary gain/loss of the shareholder is\n",
        "\n",
        "$$TR_{t,t+1} = \\frac{P_{t+1} - P_{t} + D_{t,t+1}}{P_{t}}$$"
      ],
      "metadata": {
        "id": "eePkVJnUI5gq"
      }
    },
    {
      "cell_type": "markdown",
      "source": [
        "This is the **total return** (without dividends we sometimes cal returns **price return**).\n",
        "\n",
        "Having said that, utilizing adjusted stock prices, available in most data bases such as Yahoo Finance! takes care of the dividends. In that case, formally calculating price returns of adjusted stock prices is the same as calculating total returns.\n",
        "\n",
        "Unless otherwise stated, and for the simplicity of the exposition, we use price returns but apply them to adjusted stock prices unless otherwise stated."
      ],
      "metadata": {
        "id": "v8KJALOZI67I"
      }
    },
    {
      "cell_type": "markdown",
      "source": [
        "### <font color='MediumVioletRed' style=\"font-size:20px\"><b>Multiperiod returns</b></font>"
      ],
      "metadata": {
        "id": "A1F2Go2hI9lE"
      }
    },
    {
      "cell_type": "markdown",
      "source": [
        "Suppose you have purchased a stock at time $t$ and sold it at time $t+2$. What is the cumulative return on your investment? Clearly, it is\n",
        "\n",
        "$$r_{t,t+2} = \\frac{P_{t+2}}{P_{t}} -1$$\n",
        "\n",
        "If our unit of time measure is 1 day, one way to think of this expression is in terms of returns that are cumulated over the two days.  Thus, we call return over multiple periods **cumulative return**.\n",
        "\n",
        "We can calculate cumulative returns using either time series of prices or using returns data. Note that:\n",
        "\n",
        "$$r_{t,t+2}=\\frac{P_{t+2}}{P_{t}} -1 =\\frac{P_{t+2}}{P_{t+1}}\\frac{P_{t+1}}{P_{t}}-1 $$\n",
        "\n",
        "This can be rewritten in terms of gross returns as follows:"
      ],
      "metadata": {
        "id": "jmAqzmB9I-mG"
      }
    },
    {
      "cell_type": "markdown",
      "source": [
        "$$\\frac{P_{t+1}}{P_{t}} = 1+r_{t,t+1}$$\n",
        "\n",
        "$$\\frac{P_{t+2}}{P_{t+1}} = 1+r_{t+1,t+2}$$\n",
        "\n",
        "Thus, cumulative return for 2 periods is, therefore\n",
        "\n",
        "$$r_{t,t+2} = (1+r_{t,t+1})(1+r_{t+1,t+2}) -1$$\n"
      ],
      "metadata": {
        "id": "3BNqa7MRJAVq"
      }
    },
    {
      "cell_type": "markdown",
      "source": [
        "Suppose you buy a stock that gains 10 percent on the first day and loses 3 percent on the second day. Cumulative return for the two day period is:"
      ],
      "metadata": {
        "id": "I_bNhBneJBS8"
      }
    },
    {
      "cell_type": "code",
      "source": [
        "(1+0.1)*(1-0.03)-1"
      ],
      "metadata": {
        "colab": {
          "base_uri": "https://localhost:8080/"
        },
        "id": "ggRJ6A36JDGT",
        "outputId": "f6852c9c-6f4f-409e-99b8-ff5937ceaa99"
      },
      "execution_count": 6,
      "outputs": [
        {
          "output_type": "execute_result",
          "data": {
            "text/plain": [
              "0.06699999999999995"
            ]
          },
          "metadata": {},
          "execution_count": 6
        }
      ]
    },
    {
      "cell_type": "markdown",
      "source": [
        "Thus, the gain is 6.7 percent for the two day period."
      ],
      "metadata": {
        "id": "1s9KC2QFJJN6"
      }
    },
    {
      "cell_type": "markdown",
      "source": [
        "Q: You buy a stock at the closing price on Monday. On Tuesday, the stock closes at 10% above Monday's closing price. On Wednesday, it falls and closes at 10% below Tuesday’s closing price and you sell it at that closing price. Did you have a negative, positive or zero return?"
      ],
      "metadata": {
        "id": "LKFYxPkDJKPW"
      }
    },
    {
      "cell_type": "code",
      "source": [
        "((1+0.1)*(1-0.1)-1)"
      ],
      "metadata": {
        "colab": {
          "base_uri": "https://localhost:8080/"
        },
        "id": "vkUsnwa3JPSs",
        "outputId": "00f93a7d-93a0-46cd-c60a-cfeded33d243"
      },
      "execution_count": 9,
      "outputs": [
        {
          "output_type": "execute_result",
          "data": {
            "text/plain": [
              "-0.009999999999999898"
            ]
          },
          "metadata": {},
          "execution_count": 9
        }
      ]
    },
    {
      "cell_type": "markdown",
      "source": [
        "### <font color='MediumVioletRed' style=\"font-size:20px\"><b>Annualization</b></font>"
      ],
      "metadata": {
        "id": "QcPz9zRBJo3Q"
      }
    },
    {
      "cell_type": "markdown",
      "source": [
        "Suppose a monthly return is 1 percent. What would the annual return be provided that this return persists for 12 months?\n",
        "\n",
        "One way to answer this is to say 0.01x12 = 0.12. While many people calculate it this way, it would not be entirely accurate because it ignores accumulation of interest on interest (or, return on return).\n",
        "\n",
        "Cumulative returns for 12 months would satisfy:\n",
        "\n",
        "$$1+r_{t,t+12} = (1+r_{t,t+1})(1+r_{t+1,t+2})\\cdots (1+r_{t+11,t+12})$$"
      ],
      "metadata": {
        "id": "pbt2yYOQJp2u"
      }
    },
    {
      "cell_type": "markdown",
      "source": [
        "Assuming that return in period 1 persists in all other periods (i.e. that returns will be the same in all periods) we obtain the following expression:"
      ],
      "metadata": {
        "id": "yDGywChJJrb0"
      }
    },
    {
      "cell_type": "markdown",
      "source": [
        "$$1+r_{t,t+12} = (1+r_{t,t+1})^{12} \\,\\,\\,\\,\\,\\,\\,\\,\\,\\,\\,\\,\\,\\,\\,\\,\\,\\,\\,\\,\\, \\Longleftrightarrow  \\,\\,\\,\\,\\,\\,\\,\\,\\,\\,\\,\\,\\,\\,\\,\\,\\,\\,\\,\\,\\, r_{t,t+12} = (1+r_{t,t+1})^{12}-1$$"
      ],
      "metadata": {
        "id": "cQOJqMeKJv_C"
      }
    },
    {
      "cell_type": "markdown",
      "source": [
        "This implies that the annualized return would be equal to:"
      ],
      "metadata": {
        "id": "7trhHsyoJzd7"
      }
    },
    {
      "cell_type": "code",
      "source": [
        "(1+0.01)**12-1"
      ],
      "metadata": {
        "colab": {
          "base_uri": "https://localhost:8080/"
        },
        "id": "A1PzrTxtJ0Ia",
        "outputId": "80a1e20d-f934-4878-f964-d65ed2cff684"
      },
      "execution_count": 10,
      "outputs": [
        {
          "output_type": "execute_result",
          "data": {
            "text/plain": [
              "0.12682503013196977"
            ]
          },
          "metadata": {},
          "execution_count": 10
        }
      ]
    },
    {
      "cell_type": "markdown",
      "source": [
        "So, it is 12.68 percent"
      ],
      "metadata": {
        "id": "rlEWdesPJ4Sl"
      }
    },
    {
      "cell_type": "markdown",
      "source": [
        "If monthy return is very small, the difference is miniscule. Namely, using Taylor expansion,\n",
        "\n",
        "$$(1+r_{t,t+1})^{12}-1 \\approx (1 + 12 \\, r_{t,t+1}) -1 = 12 \\, r_{t,t+1}$$"
      ],
      "metadata": {
        "id": "sG-4J3UjJ6IJ"
      }
    },
    {
      "cell_type": "markdown",
      "source": [
        "Q: A stock gains 1% over a quarter (i.e. a 3 month period). What is it’s annualized return?"
      ],
      "metadata": {
        "id": "Ntyxk50aKFdJ"
      }
    },
    {
      "cell_type": "code",
      "source": [
        "(1+0.01)**4-1"
      ],
      "metadata": {
        "colab": {
          "base_uri": "https://localhost:8080/"
        },
        "id": "S6NM0rAbKGGL",
        "outputId": "ebad8525-0dd3-4586-f773-ed8005ec8ce3"
      },
      "execution_count": 11,
      "outputs": [
        {
          "output_type": "execute_result",
          "data": {
            "text/plain": [
              "0.040604010000000024"
            ]
          },
          "metadata": {},
          "execution_count": 11
        }
      ]
    },
    {
      "cell_type": "markdown",
      "source": [
        "Thus, one way to annualize is to use just multiplication of the single period by the number of periods (the first methods)\n",
        "\n",
        "The second, more sophisticated rule for annualization is to take into the account cumulation as we explained above."
      ],
      "metadata": {
        "id": "JzHw7maBKJw_"
      }
    },
    {
      "cell_type": "markdown",
      "source": [
        "### <font color='MediumVioletRed' style=\"font-size:20px\"><b>Importing financial data into Pandas</b></font>"
      ],
      "metadata": {
        "id": "Aha3eBG6Kq1a"
      }
    },
    {
      "cell_type": "markdown",
      "source": [
        "Let us import data from file 'fivepricesNew.csv'. If you remember the Bootcamp, you know that this can be easily done with <font color='mediumseagreen'><b>Pandas</b></font>' function <font color='DodgerBlue'><b>pdread_csv</b></font>. Google Colab users should upload the data first:"
      ],
      "metadata": {
        "id": "Rdk6-3dfKrnr"
      }
    },
    {
      "cell_type": "code",
      "source": [
        "from google.colab import files\n",
        "uploaded1=files.upload()"
      ],
      "metadata": {
        "colab": {
          "base_uri": "https://localhost:8080/",
          "height": 73
        },
        "id": "NERnttrrKKpR",
        "outputId": "166da6f6-4a77-4fe3-88c7-f02cef3921fe"
      },
      "execution_count": 12,
      "outputs": [
        {
          "output_type": "display_data",
          "data": {
            "text/plain": [
              "<IPython.core.display.HTML object>"
            ],
            "text/html": [
              "\n",
              "     <input type=\"file\" id=\"files-396b91e6-70e5-4667-944f-cd9bbe3d5600\" name=\"files[]\" multiple disabled\n",
              "        style=\"border:none\" />\n",
              "     <output id=\"result-396b91e6-70e5-4667-944f-cd9bbe3d5600\">\n",
              "      Upload widget is only available when the cell has been executed in the\n",
              "      current browser session. Please rerun this cell to enable.\n",
              "      </output>\n",
              "      <script>// Copyright 2017 Google LLC\n",
              "//\n",
              "// Licensed under the Apache License, Version 2.0 (the \"License\");\n",
              "// you may not use this file except in compliance with the License.\n",
              "// You may obtain a copy of the License at\n",
              "//\n",
              "//      http://www.apache.org/licenses/LICENSE-2.0\n",
              "//\n",
              "// Unless required by applicable law or agreed to in writing, software\n",
              "// distributed under the License is distributed on an \"AS IS\" BASIS,\n",
              "// WITHOUT WARRANTIES OR CONDITIONS OF ANY KIND, either express or implied.\n",
              "// See the License for the specific language governing permissions and\n",
              "// limitations under the License.\n",
              "\n",
              "/**\n",
              " * @fileoverview Helpers for google.colab Python module.\n",
              " */\n",
              "(function(scope) {\n",
              "function span(text, styleAttributes = {}) {\n",
              "  const element = document.createElement('span');\n",
              "  element.textContent = text;\n",
              "  for (const key of Object.keys(styleAttributes)) {\n",
              "    element.style[key] = styleAttributes[key];\n",
              "  }\n",
              "  return element;\n",
              "}\n",
              "\n",
              "// Max number of bytes which will be uploaded at a time.\n",
              "const MAX_PAYLOAD_SIZE = 100 * 1024;\n",
              "\n",
              "function _uploadFiles(inputId, outputId) {\n",
              "  const steps = uploadFilesStep(inputId, outputId);\n",
              "  const outputElement = document.getElementById(outputId);\n",
              "  // Cache steps on the outputElement to make it available for the next call\n",
              "  // to uploadFilesContinue from Python.\n",
              "  outputElement.steps = steps;\n",
              "\n",
              "  return _uploadFilesContinue(outputId);\n",
              "}\n",
              "\n",
              "// This is roughly an async generator (not supported in the browser yet),\n",
              "// where there are multiple asynchronous steps and the Python side is going\n",
              "// to poll for completion of each step.\n",
              "// This uses a Promise to block the python side on completion of each step,\n",
              "// then passes the result of the previous step as the input to the next step.\n",
              "function _uploadFilesContinue(outputId) {\n",
              "  const outputElement = document.getElementById(outputId);\n",
              "  const steps = outputElement.steps;\n",
              "\n",
              "  const next = steps.next(outputElement.lastPromiseValue);\n",
              "  return Promise.resolve(next.value.promise).then((value) => {\n",
              "    // Cache the last promise value to make it available to the next\n",
              "    // step of the generator.\n",
              "    outputElement.lastPromiseValue = value;\n",
              "    return next.value.response;\n",
              "  });\n",
              "}\n",
              "\n",
              "/**\n",
              " * Generator function which is called between each async step of the upload\n",
              " * process.\n",
              " * @param {string} inputId Element ID of the input file picker element.\n",
              " * @param {string} outputId Element ID of the output display.\n",
              " * @return {!Iterable<!Object>} Iterable of next steps.\n",
              " */\n",
              "function* uploadFilesStep(inputId, outputId) {\n",
              "  const inputElement = document.getElementById(inputId);\n",
              "  inputElement.disabled = false;\n",
              "\n",
              "  const outputElement = document.getElementById(outputId);\n",
              "  outputElement.innerHTML = '';\n",
              "\n",
              "  const pickedPromise = new Promise((resolve) => {\n",
              "    inputElement.addEventListener('change', (e) => {\n",
              "      resolve(e.target.files);\n",
              "    });\n",
              "  });\n",
              "\n",
              "  const cancel = document.createElement('button');\n",
              "  inputElement.parentElement.appendChild(cancel);\n",
              "  cancel.textContent = 'Cancel upload';\n",
              "  const cancelPromise = new Promise((resolve) => {\n",
              "    cancel.onclick = () => {\n",
              "      resolve(null);\n",
              "    };\n",
              "  });\n",
              "\n",
              "  // Wait for the user to pick the files.\n",
              "  const files = yield {\n",
              "    promise: Promise.race([pickedPromise, cancelPromise]),\n",
              "    response: {\n",
              "      action: 'starting',\n",
              "    }\n",
              "  };\n",
              "\n",
              "  cancel.remove();\n",
              "\n",
              "  // Disable the input element since further picks are not allowed.\n",
              "  inputElement.disabled = true;\n",
              "\n",
              "  if (!files) {\n",
              "    return {\n",
              "      response: {\n",
              "        action: 'complete',\n",
              "      }\n",
              "    };\n",
              "  }\n",
              "\n",
              "  for (const file of files) {\n",
              "    const li = document.createElement('li');\n",
              "    li.append(span(file.name, {fontWeight: 'bold'}));\n",
              "    li.append(span(\n",
              "        `(${file.type || 'n/a'}) - ${file.size} bytes, ` +\n",
              "        `last modified: ${\n",
              "            file.lastModifiedDate ? file.lastModifiedDate.toLocaleDateString() :\n",
              "                                    'n/a'} - `));\n",
              "    const percent = span('0% done');\n",
              "    li.appendChild(percent);\n",
              "\n",
              "    outputElement.appendChild(li);\n",
              "\n",
              "    const fileDataPromise = new Promise((resolve) => {\n",
              "      const reader = new FileReader();\n",
              "      reader.onload = (e) => {\n",
              "        resolve(e.target.result);\n",
              "      };\n",
              "      reader.readAsArrayBuffer(file);\n",
              "    });\n",
              "    // Wait for the data to be ready.\n",
              "    let fileData = yield {\n",
              "      promise: fileDataPromise,\n",
              "      response: {\n",
              "        action: 'continue',\n",
              "      }\n",
              "    };\n",
              "\n",
              "    // Use a chunked sending to avoid message size limits. See b/62115660.\n",
              "    let position = 0;\n",
              "    do {\n",
              "      const length = Math.min(fileData.byteLength - position, MAX_PAYLOAD_SIZE);\n",
              "      const chunk = new Uint8Array(fileData, position, length);\n",
              "      position += length;\n",
              "\n",
              "      const base64 = btoa(String.fromCharCode.apply(null, chunk));\n",
              "      yield {\n",
              "        response: {\n",
              "          action: 'append',\n",
              "          file: file.name,\n",
              "          data: base64,\n",
              "        },\n",
              "      };\n",
              "\n",
              "      let percentDone = fileData.byteLength === 0 ?\n",
              "          100 :\n",
              "          Math.round((position / fileData.byteLength) * 100);\n",
              "      percent.textContent = `${percentDone}% done`;\n",
              "\n",
              "    } while (position < fileData.byteLength);\n",
              "  }\n",
              "\n",
              "  // All done.\n",
              "  yield {\n",
              "    response: {\n",
              "      action: 'complete',\n",
              "    }\n",
              "  };\n",
              "}\n",
              "\n",
              "scope.google = scope.google || {};\n",
              "scope.google.colab = scope.google.colab || {};\n",
              "scope.google.colab._files = {\n",
              "  _uploadFiles,\n",
              "  _uploadFilesContinue,\n",
              "};\n",
              "})(self);\n",
              "</script> "
            ]
          },
          "metadata": {}
        },
        {
          "output_type": "stream",
          "name": "stdout",
          "text": [
            "Saving fivepricesNew.csv to fivepricesNew.csv\n"
          ]
        }
      ]
    },
    {
      "cell_type": "code",
      "source": [
        "prices = pd.read_csv('fivepricesNew.csv',index_col=0,parse_dates=True)\n",
        "prices"
      ],
      "metadata": {
        "colab": {
          "base_uri": "https://localhost:8080/",
          "height": 455
        },
        "id": "_mwIKrEZKs5G",
        "outputId": "eee999c3-9e0e-4624-ac19-b065710b1b8b"
      },
      "execution_count": 13,
      "outputs": [
        {
          "output_type": "execute_result",
          "data": {
            "text/plain": [
              "                  AMZN       YHOO         IBM        AAPL    ^GSPC\n",
              "Date                                                              \n",
              "2013-01-02  257.309998  20.080000  196.350006   78.432899  1462.42\n",
              "2013-01-03  258.480011  19.780001  195.270004   77.442299  1459.37\n",
              "2013-01-04  259.149994  19.860001  193.990005   75.285698  1466.47\n",
              "2013-01-07  268.459015  19.400000  193.139999   74.842903  1461.89\n",
              "2013-01-08  266.380005  19.660000  192.869995   75.044296  1457.15\n",
              "...                ...        ...         ...         ...      ...\n",
              "2014-12-24  303.029999  50.650002  161.820007  112.010002  2081.88\n",
              "2014-12-26  309.089996  50.860001  162.339996  113.989998  2088.77\n",
              "2014-12-29  312.040008  50.529999  160.509995  113.910004  2090.57\n",
              "2014-12-30  310.299988  51.220001  160.050003  112.519997  2080.35\n",
              "2014-12-31  310.350006  50.509998  160.440002  110.379997  2058.90\n",
              "\n",
              "[504 rows x 5 columns]"
            ],
            "text/html": [
              "\n",
              "  <div id=\"df-064c6f7d-8f9f-4e96-9fd3-a18c10fa2a75\" class=\"colab-df-container\">\n",
              "    <div>\n",
              "<style scoped>\n",
              "    .dataframe tbody tr th:only-of-type {\n",
              "        vertical-align: middle;\n",
              "    }\n",
              "\n",
              "    .dataframe tbody tr th {\n",
              "        vertical-align: top;\n",
              "    }\n",
              "\n",
              "    .dataframe thead th {\n",
              "        text-align: right;\n",
              "    }\n",
              "</style>\n",
              "<table border=\"1\" class=\"dataframe\">\n",
              "  <thead>\n",
              "    <tr style=\"text-align: right;\">\n",
              "      <th></th>\n",
              "      <th>AMZN</th>\n",
              "      <th>YHOO</th>\n",
              "      <th>IBM</th>\n",
              "      <th>AAPL</th>\n",
              "      <th>^GSPC</th>\n",
              "    </tr>\n",
              "    <tr>\n",
              "      <th>Date</th>\n",
              "      <th></th>\n",
              "      <th></th>\n",
              "      <th></th>\n",
              "      <th></th>\n",
              "      <th></th>\n",
              "    </tr>\n",
              "  </thead>\n",
              "  <tbody>\n",
              "    <tr>\n",
              "      <th>2013-01-02</th>\n",
              "      <td>257.309998</td>\n",
              "      <td>20.080000</td>\n",
              "      <td>196.350006</td>\n",
              "      <td>78.432899</td>\n",
              "      <td>1462.42</td>\n",
              "    </tr>\n",
              "    <tr>\n",
              "      <th>2013-01-03</th>\n",
              "      <td>258.480011</td>\n",
              "      <td>19.780001</td>\n",
              "      <td>195.270004</td>\n",
              "      <td>77.442299</td>\n",
              "      <td>1459.37</td>\n",
              "    </tr>\n",
              "    <tr>\n",
              "      <th>2013-01-04</th>\n",
              "      <td>259.149994</td>\n",
              "      <td>19.860001</td>\n",
              "      <td>193.990005</td>\n",
              "      <td>75.285698</td>\n",
              "      <td>1466.47</td>\n",
              "    </tr>\n",
              "    <tr>\n",
              "      <th>2013-01-07</th>\n",
              "      <td>268.459015</td>\n",
              "      <td>19.400000</td>\n",
              "      <td>193.139999</td>\n",
              "      <td>74.842903</td>\n",
              "      <td>1461.89</td>\n",
              "    </tr>\n",
              "    <tr>\n",
              "      <th>2013-01-08</th>\n",
              "      <td>266.380005</td>\n",
              "      <td>19.660000</td>\n",
              "      <td>192.869995</td>\n",
              "      <td>75.044296</td>\n",
              "      <td>1457.15</td>\n",
              "    </tr>\n",
              "    <tr>\n",
              "      <th>...</th>\n",
              "      <td>...</td>\n",
              "      <td>...</td>\n",
              "      <td>...</td>\n",
              "      <td>...</td>\n",
              "      <td>...</td>\n",
              "    </tr>\n",
              "    <tr>\n",
              "      <th>2014-12-24</th>\n",
              "      <td>303.029999</td>\n",
              "      <td>50.650002</td>\n",
              "      <td>161.820007</td>\n",
              "      <td>112.010002</td>\n",
              "      <td>2081.88</td>\n",
              "    </tr>\n",
              "    <tr>\n",
              "      <th>2014-12-26</th>\n",
              "      <td>309.089996</td>\n",
              "      <td>50.860001</td>\n",
              "      <td>162.339996</td>\n",
              "      <td>113.989998</td>\n",
              "      <td>2088.77</td>\n",
              "    </tr>\n",
              "    <tr>\n",
              "      <th>2014-12-29</th>\n",
              "      <td>312.040008</td>\n",
              "      <td>50.529999</td>\n",
              "      <td>160.509995</td>\n",
              "      <td>113.910004</td>\n",
              "      <td>2090.57</td>\n",
              "    </tr>\n",
              "    <tr>\n",
              "      <th>2014-12-30</th>\n",
              "      <td>310.299988</td>\n",
              "      <td>51.220001</td>\n",
              "      <td>160.050003</td>\n",
              "      <td>112.519997</td>\n",
              "      <td>2080.35</td>\n",
              "    </tr>\n",
              "    <tr>\n",
              "      <th>2014-12-31</th>\n",
              "      <td>310.350006</td>\n",
              "      <td>50.509998</td>\n",
              "      <td>160.440002</td>\n",
              "      <td>110.379997</td>\n",
              "      <td>2058.90</td>\n",
              "    </tr>\n",
              "  </tbody>\n",
              "</table>\n",
              "<p>504 rows × 5 columns</p>\n",
              "</div>\n",
              "    <div class=\"colab-df-buttons\">\n",
              "\n",
              "  <div class=\"colab-df-container\">\n",
              "    <button class=\"colab-df-convert\" onclick=\"convertToInteractive('df-064c6f7d-8f9f-4e96-9fd3-a18c10fa2a75')\"\n",
              "            title=\"Convert this dataframe to an interactive table.\"\n",
              "            style=\"display:none;\">\n",
              "\n",
              "  <svg xmlns=\"http://www.w3.org/2000/svg\" height=\"24px\" viewBox=\"0 -960 960 960\">\n",
              "    <path d=\"M120-120v-720h720v720H120Zm60-500h600v-160H180v160Zm220 220h160v-160H400v160Zm0 220h160v-160H400v160ZM180-400h160v-160H180v160Zm440 0h160v-160H620v160ZM180-180h160v-160H180v160Zm440 0h160v-160H620v160Z\"/>\n",
              "  </svg>\n",
              "    </button>\n",
              "\n",
              "  <style>\n",
              "    .colab-df-container {\n",
              "      display:flex;\n",
              "      gap: 12px;\n",
              "    }\n",
              "\n",
              "    .colab-df-convert {\n",
              "      background-color: #E8F0FE;\n",
              "      border: none;\n",
              "      border-radius: 50%;\n",
              "      cursor: pointer;\n",
              "      display: none;\n",
              "      fill: #1967D2;\n",
              "      height: 32px;\n",
              "      padding: 0 0 0 0;\n",
              "      width: 32px;\n",
              "    }\n",
              "\n",
              "    .colab-df-convert:hover {\n",
              "      background-color: #E2EBFA;\n",
              "      box-shadow: 0px 1px 2px rgba(60, 64, 67, 0.3), 0px 1px 3px 1px rgba(60, 64, 67, 0.15);\n",
              "      fill: #174EA6;\n",
              "    }\n",
              "\n",
              "    .colab-df-buttons div {\n",
              "      margin-bottom: 4px;\n",
              "    }\n",
              "\n",
              "    [theme=dark] .colab-df-convert {\n",
              "      background-color: #3B4455;\n",
              "      fill: #D2E3FC;\n",
              "    }\n",
              "\n",
              "    [theme=dark] .colab-df-convert:hover {\n",
              "      background-color: #434B5C;\n",
              "      box-shadow: 0px 1px 3px 1px rgba(0, 0, 0, 0.15);\n",
              "      filter: drop-shadow(0px 1px 2px rgba(0, 0, 0, 0.3));\n",
              "      fill: #FFFFFF;\n",
              "    }\n",
              "  </style>\n",
              "\n",
              "    <script>\n",
              "      const buttonEl =\n",
              "        document.querySelector('#df-064c6f7d-8f9f-4e96-9fd3-a18c10fa2a75 button.colab-df-convert');\n",
              "      buttonEl.style.display =\n",
              "        google.colab.kernel.accessAllowed ? 'block' : 'none';\n",
              "\n",
              "      async function convertToInteractive(key) {\n",
              "        const element = document.querySelector('#df-064c6f7d-8f9f-4e96-9fd3-a18c10fa2a75');\n",
              "        const dataTable =\n",
              "          await google.colab.kernel.invokeFunction('convertToInteractive',\n",
              "                                                    [key], {});\n",
              "        if (!dataTable) return;\n",
              "\n",
              "        const docLinkHtml = 'Like what you see? Visit the ' +\n",
              "          '<a target=\"_blank\" href=https://colab.research.google.com/notebooks/data_table.ipynb>data table notebook</a>'\n",
              "          + ' to learn more about interactive tables.';\n",
              "        element.innerHTML = '';\n",
              "        dataTable['output_type'] = 'display_data';\n",
              "        await google.colab.output.renderOutput(dataTable, element);\n",
              "        const docLink = document.createElement('div');\n",
              "        docLink.innerHTML = docLinkHtml;\n",
              "        element.appendChild(docLink);\n",
              "      }\n",
              "    </script>\n",
              "  </div>\n",
              "\n",
              "\n",
              "<div id=\"df-2a514253-fc6a-485b-8c3f-1c5591ede71b\">\n",
              "  <button class=\"colab-df-quickchart\" onclick=\"quickchart('df-2a514253-fc6a-485b-8c3f-1c5591ede71b')\"\n",
              "            title=\"Suggest charts.\"\n",
              "            style=\"display:none;\">\n",
              "\n",
              "<svg xmlns=\"http://www.w3.org/2000/svg\" height=\"24px\"viewBox=\"0 0 24 24\"\n",
              "     width=\"24px\">\n",
              "    <g>\n",
              "        <path d=\"M19 3H5c-1.1 0-2 .9-2 2v14c0 1.1.9 2 2 2h14c1.1 0 2-.9 2-2V5c0-1.1-.9-2-2-2zM9 17H7v-7h2v7zm4 0h-2V7h2v10zm4 0h-2v-4h2v4z\"/>\n",
              "    </g>\n",
              "</svg>\n",
              "  </button>\n",
              "\n",
              "<style>\n",
              "  .colab-df-quickchart {\n",
              "    background-color: #E8F0FE;\n",
              "    border: none;\n",
              "    border-radius: 50%;\n",
              "    cursor: pointer;\n",
              "    display: none;\n",
              "    fill: #1967D2;\n",
              "    height: 32px;\n",
              "    padding: 0 0 0 0;\n",
              "    width: 32px;\n",
              "  }\n",
              "\n",
              "  .colab-df-quickchart:hover {\n",
              "    background-color: #E2EBFA;\n",
              "    box-shadow: 0px 1px 2px rgba(60, 64, 67, 0.3), 0px 1px 3px 1px rgba(60, 64, 67, 0.15);\n",
              "    fill: #174EA6;\n",
              "  }\n",
              "\n",
              "  [theme=dark] .colab-df-quickchart {\n",
              "    background-color: #3B4455;\n",
              "    fill: #D2E3FC;\n",
              "  }\n",
              "\n",
              "  [theme=dark] .colab-df-quickchart:hover {\n",
              "    background-color: #434B5C;\n",
              "    box-shadow: 0px 1px 3px 1px rgba(0, 0, 0, 0.15);\n",
              "    filter: drop-shadow(0px 1px 2px rgba(0, 0, 0, 0.3));\n",
              "    fill: #FFFFFF;\n",
              "  }\n",
              "</style>\n",
              "\n",
              "  <script>\n",
              "    async function quickchart(key) {\n",
              "      const charts = await google.colab.kernel.invokeFunction(\n",
              "          'suggestCharts', [key], {});\n",
              "    }\n",
              "    (() => {\n",
              "      let quickchartButtonEl =\n",
              "        document.querySelector('#df-2a514253-fc6a-485b-8c3f-1c5591ede71b button');\n",
              "      quickchartButtonEl.style.display =\n",
              "        google.colab.kernel.accessAllowed ? 'block' : 'none';\n",
              "    })();\n",
              "  </script>\n",
              "</div>\n",
              "    </div>\n",
              "  </div>\n"
            ]
          },
          "metadata": {},
          "execution_count": 13
        }
      ]
    },
    {
      "cell_type": "markdown",
      "source": [
        "This file contains adjusted daily prices on 4 large US stocks and on the SP500 index. This index is one of the most frequently used proxies for the US stock market. It is constructed utilizing companies with the largest market cap.\n",
        "\n",
        "This is how we can calculate simple (daily) returns in <font color='Green'><b>Pandas</b></font>:"
      ],
      "metadata": {
        "id": "VXyUpyivK_zP"
      }
    },
    {
      "cell_type": "code",
      "source": [
        "returns = prices.pct_change()\n",
        "returns"
      ],
      "metadata": {
        "colab": {
          "base_uri": "https://localhost:8080/",
          "height": 455
        },
        "id": "VxS_jkgpLA7O",
        "outputId": "8b0a41dd-ff60-41fe-d1a4-37c77244ba15"
      },
      "execution_count": 14,
      "outputs": [
        {
          "output_type": "execute_result",
          "data": {
            "text/plain": [
              "                AMZN      YHOO       IBM      AAPL     ^GSPC\n",
              "Date                                                        \n",
              "2013-01-02       NaN       NaN       NaN       NaN       NaN\n",
              "2013-01-03  0.004547 -0.014940 -0.005500 -0.012630 -0.002086\n",
              "2013-01-04  0.002592  0.004044 -0.006555 -0.027848  0.004865\n",
              "2013-01-07  0.035921 -0.023162 -0.004382 -0.005882 -0.003123\n",
              "2013-01-08 -0.007744  0.013402 -0.001398  0.002691 -0.003242\n",
              "...              ...       ...       ...       ...       ...\n",
              "2014-12-24 -0.010627  0.012595 -0.002589 -0.004709 -0.000139\n",
              "2014-12-26  0.019998  0.004146  0.003213  0.017677  0.003310\n",
              "2014-12-29  0.009544 -0.006488 -0.011273 -0.000702  0.000862\n",
              "2014-12-30 -0.005576  0.013655 -0.002866 -0.012203 -0.004889\n",
              "2014-12-31  0.000161 -0.013862  0.002437 -0.019019 -0.010311\n",
              "\n",
              "[504 rows x 5 columns]"
            ],
            "text/html": [
              "\n",
              "  <div id=\"df-bb5f0237-2df5-4202-a469-d061b044dfff\" class=\"colab-df-container\">\n",
              "    <div>\n",
              "<style scoped>\n",
              "    .dataframe tbody tr th:only-of-type {\n",
              "        vertical-align: middle;\n",
              "    }\n",
              "\n",
              "    .dataframe tbody tr th {\n",
              "        vertical-align: top;\n",
              "    }\n",
              "\n",
              "    .dataframe thead th {\n",
              "        text-align: right;\n",
              "    }\n",
              "</style>\n",
              "<table border=\"1\" class=\"dataframe\">\n",
              "  <thead>\n",
              "    <tr style=\"text-align: right;\">\n",
              "      <th></th>\n",
              "      <th>AMZN</th>\n",
              "      <th>YHOO</th>\n",
              "      <th>IBM</th>\n",
              "      <th>AAPL</th>\n",
              "      <th>^GSPC</th>\n",
              "    </tr>\n",
              "    <tr>\n",
              "      <th>Date</th>\n",
              "      <th></th>\n",
              "      <th></th>\n",
              "      <th></th>\n",
              "      <th></th>\n",
              "      <th></th>\n",
              "    </tr>\n",
              "  </thead>\n",
              "  <tbody>\n",
              "    <tr>\n",
              "      <th>2013-01-02</th>\n",
              "      <td>NaN</td>\n",
              "      <td>NaN</td>\n",
              "      <td>NaN</td>\n",
              "      <td>NaN</td>\n",
              "      <td>NaN</td>\n",
              "    </tr>\n",
              "    <tr>\n",
              "      <th>2013-01-03</th>\n",
              "      <td>0.004547</td>\n",
              "      <td>-0.014940</td>\n",
              "      <td>-0.005500</td>\n",
              "      <td>-0.012630</td>\n",
              "      <td>-0.002086</td>\n",
              "    </tr>\n",
              "    <tr>\n",
              "      <th>2013-01-04</th>\n",
              "      <td>0.002592</td>\n",
              "      <td>0.004044</td>\n",
              "      <td>-0.006555</td>\n",
              "      <td>-0.027848</td>\n",
              "      <td>0.004865</td>\n",
              "    </tr>\n",
              "    <tr>\n",
              "      <th>2013-01-07</th>\n",
              "      <td>0.035921</td>\n",
              "      <td>-0.023162</td>\n",
              "      <td>-0.004382</td>\n",
              "      <td>-0.005882</td>\n",
              "      <td>-0.003123</td>\n",
              "    </tr>\n",
              "    <tr>\n",
              "      <th>2013-01-08</th>\n",
              "      <td>-0.007744</td>\n",
              "      <td>0.013402</td>\n",
              "      <td>-0.001398</td>\n",
              "      <td>0.002691</td>\n",
              "      <td>-0.003242</td>\n",
              "    </tr>\n",
              "    <tr>\n",
              "      <th>...</th>\n",
              "      <td>...</td>\n",
              "      <td>...</td>\n",
              "      <td>...</td>\n",
              "      <td>...</td>\n",
              "      <td>...</td>\n",
              "    </tr>\n",
              "    <tr>\n",
              "      <th>2014-12-24</th>\n",
              "      <td>-0.010627</td>\n",
              "      <td>0.012595</td>\n",
              "      <td>-0.002589</td>\n",
              "      <td>-0.004709</td>\n",
              "      <td>-0.000139</td>\n",
              "    </tr>\n",
              "    <tr>\n",
              "      <th>2014-12-26</th>\n",
              "      <td>0.019998</td>\n",
              "      <td>0.004146</td>\n",
              "      <td>0.003213</td>\n",
              "      <td>0.017677</td>\n",
              "      <td>0.003310</td>\n",
              "    </tr>\n",
              "    <tr>\n",
              "      <th>2014-12-29</th>\n",
              "      <td>0.009544</td>\n",
              "      <td>-0.006488</td>\n",
              "      <td>-0.011273</td>\n",
              "      <td>-0.000702</td>\n",
              "      <td>0.000862</td>\n",
              "    </tr>\n",
              "    <tr>\n",
              "      <th>2014-12-30</th>\n",
              "      <td>-0.005576</td>\n",
              "      <td>0.013655</td>\n",
              "      <td>-0.002866</td>\n",
              "      <td>-0.012203</td>\n",
              "      <td>-0.004889</td>\n",
              "    </tr>\n",
              "    <tr>\n",
              "      <th>2014-12-31</th>\n",
              "      <td>0.000161</td>\n",
              "      <td>-0.013862</td>\n",
              "      <td>0.002437</td>\n",
              "      <td>-0.019019</td>\n",
              "      <td>-0.010311</td>\n",
              "    </tr>\n",
              "  </tbody>\n",
              "</table>\n",
              "<p>504 rows × 5 columns</p>\n",
              "</div>\n",
              "    <div class=\"colab-df-buttons\">\n",
              "\n",
              "  <div class=\"colab-df-container\">\n",
              "    <button class=\"colab-df-convert\" onclick=\"convertToInteractive('df-bb5f0237-2df5-4202-a469-d061b044dfff')\"\n",
              "            title=\"Convert this dataframe to an interactive table.\"\n",
              "            style=\"display:none;\">\n",
              "\n",
              "  <svg xmlns=\"http://www.w3.org/2000/svg\" height=\"24px\" viewBox=\"0 -960 960 960\">\n",
              "    <path d=\"M120-120v-720h720v720H120Zm60-500h600v-160H180v160Zm220 220h160v-160H400v160Zm0 220h160v-160H400v160ZM180-400h160v-160H180v160Zm440 0h160v-160H620v160ZM180-180h160v-160H180v160Zm440 0h160v-160H620v160Z\"/>\n",
              "  </svg>\n",
              "    </button>\n",
              "\n",
              "  <style>\n",
              "    .colab-df-container {\n",
              "      display:flex;\n",
              "      gap: 12px;\n",
              "    }\n",
              "\n",
              "    .colab-df-convert {\n",
              "      background-color: #E8F0FE;\n",
              "      border: none;\n",
              "      border-radius: 50%;\n",
              "      cursor: pointer;\n",
              "      display: none;\n",
              "      fill: #1967D2;\n",
              "      height: 32px;\n",
              "      padding: 0 0 0 0;\n",
              "      width: 32px;\n",
              "    }\n",
              "\n",
              "    .colab-df-convert:hover {\n",
              "      background-color: #E2EBFA;\n",
              "      box-shadow: 0px 1px 2px rgba(60, 64, 67, 0.3), 0px 1px 3px 1px rgba(60, 64, 67, 0.15);\n",
              "      fill: #174EA6;\n",
              "    }\n",
              "\n",
              "    .colab-df-buttons div {\n",
              "      margin-bottom: 4px;\n",
              "    }\n",
              "\n",
              "    [theme=dark] .colab-df-convert {\n",
              "      background-color: #3B4455;\n",
              "      fill: #D2E3FC;\n",
              "    }\n",
              "\n",
              "    [theme=dark] .colab-df-convert:hover {\n",
              "      background-color: #434B5C;\n",
              "      box-shadow: 0px 1px 3px 1px rgba(0, 0, 0, 0.15);\n",
              "      filter: drop-shadow(0px 1px 2px rgba(0, 0, 0, 0.3));\n",
              "      fill: #FFFFFF;\n",
              "    }\n",
              "  </style>\n",
              "\n",
              "    <script>\n",
              "      const buttonEl =\n",
              "        document.querySelector('#df-bb5f0237-2df5-4202-a469-d061b044dfff button.colab-df-convert');\n",
              "      buttonEl.style.display =\n",
              "        google.colab.kernel.accessAllowed ? 'block' : 'none';\n",
              "\n",
              "      async function convertToInteractive(key) {\n",
              "        const element = document.querySelector('#df-bb5f0237-2df5-4202-a469-d061b044dfff');\n",
              "        const dataTable =\n",
              "          await google.colab.kernel.invokeFunction('convertToInteractive',\n",
              "                                                    [key], {});\n",
              "        if (!dataTable) return;\n",
              "\n",
              "        const docLinkHtml = 'Like what you see? Visit the ' +\n",
              "          '<a target=\"_blank\" href=https://colab.research.google.com/notebooks/data_table.ipynb>data table notebook</a>'\n",
              "          + ' to learn more about interactive tables.';\n",
              "        element.innerHTML = '';\n",
              "        dataTable['output_type'] = 'display_data';\n",
              "        await google.colab.output.renderOutput(dataTable, element);\n",
              "        const docLink = document.createElement('div');\n",
              "        docLink.innerHTML = docLinkHtml;\n",
              "        element.appendChild(docLink);\n",
              "      }\n",
              "    </script>\n",
              "  </div>\n",
              "\n",
              "\n",
              "<div id=\"df-98c072e4-eff0-4b77-8069-9861ee9c8ec6\">\n",
              "  <button class=\"colab-df-quickchart\" onclick=\"quickchart('df-98c072e4-eff0-4b77-8069-9861ee9c8ec6')\"\n",
              "            title=\"Suggest charts.\"\n",
              "            style=\"display:none;\">\n",
              "\n",
              "<svg xmlns=\"http://www.w3.org/2000/svg\" height=\"24px\"viewBox=\"0 0 24 24\"\n",
              "     width=\"24px\">\n",
              "    <g>\n",
              "        <path d=\"M19 3H5c-1.1 0-2 .9-2 2v14c0 1.1.9 2 2 2h14c1.1 0 2-.9 2-2V5c0-1.1-.9-2-2-2zM9 17H7v-7h2v7zm4 0h-2V7h2v10zm4 0h-2v-4h2v4z\"/>\n",
              "    </g>\n",
              "</svg>\n",
              "  </button>\n",
              "\n",
              "<style>\n",
              "  .colab-df-quickchart {\n",
              "    background-color: #E8F0FE;\n",
              "    border: none;\n",
              "    border-radius: 50%;\n",
              "    cursor: pointer;\n",
              "    display: none;\n",
              "    fill: #1967D2;\n",
              "    height: 32px;\n",
              "    padding: 0 0 0 0;\n",
              "    width: 32px;\n",
              "  }\n",
              "\n",
              "  .colab-df-quickchart:hover {\n",
              "    background-color: #E2EBFA;\n",
              "    box-shadow: 0px 1px 2px rgba(60, 64, 67, 0.3), 0px 1px 3px 1px rgba(60, 64, 67, 0.15);\n",
              "    fill: #174EA6;\n",
              "  }\n",
              "\n",
              "  [theme=dark] .colab-df-quickchart {\n",
              "    background-color: #3B4455;\n",
              "    fill: #D2E3FC;\n",
              "  }\n",
              "\n",
              "  [theme=dark] .colab-df-quickchart:hover {\n",
              "    background-color: #434B5C;\n",
              "    box-shadow: 0px 1px 3px 1px rgba(0, 0, 0, 0.15);\n",
              "    filter: drop-shadow(0px 1px 2px rgba(0, 0, 0, 0.3));\n",
              "    fill: #FFFFFF;\n",
              "  }\n",
              "</style>\n",
              "\n",
              "  <script>\n",
              "    async function quickchart(key) {\n",
              "      const charts = await google.colab.kernel.invokeFunction(\n",
              "          'suggestCharts', [key], {});\n",
              "    }\n",
              "    (() => {\n",
              "      let quickchartButtonEl =\n",
              "        document.querySelector('#df-98c072e4-eff0-4b77-8069-9861ee9c8ec6 button');\n",
              "      quickchartButtonEl.style.display =\n",
              "        google.colab.kernel.accessAllowed ? 'block' : 'none';\n",
              "    })();\n",
              "  </script>\n",
              "</div>\n",
              "    </div>\n",
              "  </div>\n"
            ]
          },
          "metadata": {},
          "execution_count": 14
        }
      ]
    },
    {
      "cell_type": "markdown",
      "source": [
        "Note that we did not have the data on the prices prior to '20131-01-02', thus we obtained a missing data symbol 'NaN'. We could drop the first row  containing the missing data."
      ],
      "metadata": {
        "id": "frLDRPR6LGo6"
      }
    },
    {
      "cell_type": "code",
      "source": [
        "returns = returns.dropna()\n",
        "returns"
      ],
      "metadata": {
        "colab": {
          "base_uri": "https://localhost:8080/",
          "height": 455
        },
        "id": "07pvHEy0LkhW",
        "outputId": "842b7e83-caaa-40a2-fbd3-3c34b60422b4"
      },
      "execution_count": 16,
      "outputs": [
        {
          "output_type": "execute_result",
          "data": {
            "text/plain": [
              "                AMZN      YHOO       IBM      AAPL     ^GSPC\n",
              "Date                                                        \n",
              "2013-01-03  0.004547 -0.014940 -0.005500 -0.012630 -0.002086\n",
              "2013-01-04  0.002592  0.004044 -0.006555 -0.027848  0.004865\n",
              "2013-01-07  0.035921 -0.023162 -0.004382 -0.005882 -0.003123\n",
              "2013-01-08 -0.007744  0.013402 -0.001398  0.002691 -0.003242\n",
              "2013-01-09 -0.000113 -0.016785 -0.002852 -0.015629  0.002656\n",
              "...              ...       ...       ...       ...       ...\n",
              "2014-12-24 -0.010627  0.012595 -0.002589 -0.004709 -0.000139\n",
              "2014-12-26  0.019998  0.004146  0.003213  0.017677  0.003310\n",
              "2014-12-29  0.009544 -0.006488 -0.011273 -0.000702  0.000862\n",
              "2014-12-30 -0.005576  0.013655 -0.002866 -0.012203 -0.004889\n",
              "2014-12-31  0.000161 -0.013862  0.002437 -0.019019 -0.010311\n",
              "\n",
              "[503 rows x 5 columns]"
            ],
            "text/html": [
              "\n",
              "  <div id=\"df-42adcc81-4f96-4b8e-8acf-ea4fce8c6977\" class=\"colab-df-container\">\n",
              "    <div>\n",
              "<style scoped>\n",
              "    .dataframe tbody tr th:only-of-type {\n",
              "        vertical-align: middle;\n",
              "    }\n",
              "\n",
              "    .dataframe tbody tr th {\n",
              "        vertical-align: top;\n",
              "    }\n",
              "\n",
              "    .dataframe thead th {\n",
              "        text-align: right;\n",
              "    }\n",
              "</style>\n",
              "<table border=\"1\" class=\"dataframe\">\n",
              "  <thead>\n",
              "    <tr style=\"text-align: right;\">\n",
              "      <th></th>\n",
              "      <th>AMZN</th>\n",
              "      <th>YHOO</th>\n",
              "      <th>IBM</th>\n",
              "      <th>AAPL</th>\n",
              "      <th>^GSPC</th>\n",
              "    </tr>\n",
              "    <tr>\n",
              "      <th>Date</th>\n",
              "      <th></th>\n",
              "      <th></th>\n",
              "      <th></th>\n",
              "      <th></th>\n",
              "      <th></th>\n",
              "    </tr>\n",
              "  </thead>\n",
              "  <tbody>\n",
              "    <tr>\n",
              "      <th>2013-01-03</th>\n",
              "      <td>0.004547</td>\n",
              "      <td>-0.014940</td>\n",
              "      <td>-0.005500</td>\n",
              "      <td>-0.012630</td>\n",
              "      <td>-0.002086</td>\n",
              "    </tr>\n",
              "    <tr>\n",
              "      <th>2013-01-04</th>\n",
              "      <td>0.002592</td>\n",
              "      <td>0.004044</td>\n",
              "      <td>-0.006555</td>\n",
              "      <td>-0.027848</td>\n",
              "      <td>0.004865</td>\n",
              "    </tr>\n",
              "    <tr>\n",
              "      <th>2013-01-07</th>\n",
              "      <td>0.035921</td>\n",
              "      <td>-0.023162</td>\n",
              "      <td>-0.004382</td>\n",
              "      <td>-0.005882</td>\n",
              "      <td>-0.003123</td>\n",
              "    </tr>\n",
              "    <tr>\n",
              "      <th>2013-01-08</th>\n",
              "      <td>-0.007744</td>\n",
              "      <td>0.013402</td>\n",
              "      <td>-0.001398</td>\n",
              "      <td>0.002691</td>\n",
              "      <td>-0.003242</td>\n",
              "    </tr>\n",
              "    <tr>\n",
              "      <th>2013-01-09</th>\n",
              "      <td>-0.000113</td>\n",
              "      <td>-0.016785</td>\n",
              "      <td>-0.002852</td>\n",
              "      <td>-0.015629</td>\n",
              "      <td>0.002656</td>\n",
              "    </tr>\n",
              "    <tr>\n",
              "      <th>...</th>\n",
              "      <td>...</td>\n",
              "      <td>...</td>\n",
              "      <td>...</td>\n",
              "      <td>...</td>\n",
              "      <td>...</td>\n",
              "    </tr>\n",
              "    <tr>\n",
              "      <th>2014-12-24</th>\n",
              "      <td>-0.010627</td>\n",
              "      <td>0.012595</td>\n",
              "      <td>-0.002589</td>\n",
              "      <td>-0.004709</td>\n",
              "      <td>-0.000139</td>\n",
              "    </tr>\n",
              "    <tr>\n",
              "      <th>2014-12-26</th>\n",
              "      <td>0.019998</td>\n",
              "      <td>0.004146</td>\n",
              "      <td>0.003213</td>\n",
              "      <td>0.017677</td>\n",
              "      <td>0.003310</td>\n",
              "    </tr>\n",
              "    <tr>\n",
              "      <th>2014-12-29</th>\n",
              "      <td>0.009544</td>\n",
              "      <td>-0.006488</td>\n",
              "      <td>-0.011273</td>\n",
              "      <td>-0.000702</td>\n",
              "      <td>0.000862</td>\n",
              "    </tr>\n",
              "    <tr>\n",
              "      <th>2014-12-30</th>\n",
              "      <td>-0.005576</td>\n",
              "      <td>0.013655</td>\n",
              "      <td>-0.002866</td>\n",
              "      <td>-0.012203</td>\n",
              "      <td>-0.004889</td>\n",
              "    </tr>\n",
              "    <tr>\n",
              "      <th>2014-12-31</th>\n",
              "      <td>0.000161</td>\n",
              "      <td>-0.013862</td>\n",
              "      <td>0.002437</td>\n",
              "      <td>-0.019019</td>\n",
              "      <td>-0.010311</td>\n",
              "    </tr>\n",
              "  </tbody>\n",
              "</table>\n",
              "<p>503 rows × 5 columns</p>\n",
              "</div>\n",
              "    <div class=\"colab-df-buttons\">\n",
              "\n",
              "  <div class=\"colab-df-container\">\n",
              "    <button class=\"colab-df-convert\" onclick=\"convertToInteractive('df-42adcc81-4f96-4b8e-8acf-ea4fce8c6977')\"\n",
              "            title=\"Convert this dataframe to an interactive table.\"\n",
              "            style=\"display:none;\">\n",
              "\n",
              "  <svg xmlns=\"http://www.w3.org/2000/svg\" height=\"24px\" viewBox=\"0 -960 960 960\">\n",
              "    <path d=\"M120-120v-720h720v720H120Zm60-500h600v-160H180v160Zm220 220h160v-160H400v160Zm0 220h160v-160H400v160ZM180-400h160v-160H180v160Zm440 0h160v-160H620v160ZM180-180h160v-160H180v160Zm440 0h160v-160H620v160Z\"/>\n",
              "  </svg>\n",
              "    </button>\n",
              "\n",
              "  <style>\n",
              "    .colab-df-container {\n",
              "      display:flex;\n",
              "      gap: 12px;\n",
              "    }\n",
              "\n",
              "    .colab-df-convert {\n",
              "      background-color: #E8F0FE;\n",
              "      border: none;\n",
              "      border-radius: 50%;\n",
              "      cursor: pointer;\n",
              "      display: none;\n",
              "      fill: #1967D2;\n",
              "      height: 32px;\n",
              "      padding: 0 0 0 0;\n",
              "      width: 32px;\n",
              "    }\n",
              "\n",
              "    .colab-df-convert:hover {\n",
              "      background-color: #E2EBFA;\n",
              "      box-shadow: 0px 1px 2px rgba(60, 64, 67, 0.3), 0px 1px 3px 1px rgba(60, 64, 67, 0.15);\n",
              "      fill: #174EA6;\n",
              "    }\n",
              "\n",
              "    .colab-df-buttons div {\n",
              "      margin-bottom: 4px;\n",
              "    }\n",
              "\n",
              "    [theme=dark] .colab-df-convert {\n",
              "      background-color: #3B4455;\n",
              "      fill: #D2E3FC;\n",
              "    }\n",
              "\n",
              "    [theme=dark] .colab-df-convert:hover {\n",
              "      background-color: #434B5C;\n",
              "      box-shadow: 0px 1px 3px 1px rgba(0, 0, 0, 0.15);\n",
              "      filter: drop-shadow(0px 1px 2px rgba(0, 0, 0, 0.3));\n",
              "      fill: #FFFFFF;\n",
              "    }\n",
              "  </style>\n",
              "\n",
              "    <script>\n",
              "      const buttonEl =\n",
              "        document.querySelector('#df-42adcc81-4f96-4b8e-8acf-ea4fce8c6977 button.colab-df-convert');\n",
              "      buttonEl.style.display =\n",
              "        google.colab.kernel.accessAllowed ? 'block' : 'none';\n",
              "\n",
              "      async function convertToInteractive(key) {\n",
              "        const element = document.querySelector('#df-42adcc81-4f96-4b8e-8acf-ea4fce8c6977');\n",
              "        const dataTable =\n",
              "          await google.colab.kernel.invokeFunction('convertToInteractive',\n",
              "                                                    [key], {});\n",
              "        if (!dataTable) return;\n",
              "\n",
              "        const docLinkHtml = 'Like what you see? Visit the ' +\n",
              "          '<a target=\"_blank\" href=https://colab.research.google.com/notebooks/data_table.ipynb>data table notebook</a>'\n",
              "          + ' to learn more about interactive tables.';\n",
              "        element.innerHTML = '';\n",
              "        dataTable['output_type'] = 'display_data';\n",
              "        await google.colab.output.renderOutput(dataTable, element);\n",
              "        const docLink = document.createElement('div');\n",
              "        docLink.innerHTML = docLinkHtml;\n",
              "        element.appendChild(docLink);\n",
              "      }\n",
              "    </script>\n",
              "  </div>\n",
              "\n",
              "\n",
              "<div id=\"df-7e6e2729-3ec6-4c61-93a0-09e41d03d586\">\n",
              "  <button class=\"colab-df-quickchart\" onclick=\"quickchart('df-7e6e2729-3ec6-4c61-93a0-09e41d03d586')\"\n",
              "            title=\"Suggest charts.\"\n",
              "            style=\"display:none;\">\n",
              "\n",
              "<svg xmlns=\"http://www.w3.org/2000/svg\" height=\"24px\"viewBox=\"0 0 24 24\"\n",
              "     width=\"24px\">\n",
              "    <g>\n",
              "        <path d=\"M19 3H5c-1.1 0-2 .9-2 2v14c0 1.1.9 2 2 2h14c1.1 0 2-.9 2-2V5c0-1.1-.9-2-2-2zM9 17H7v-7h2v7zm4 0h-2V7h2v10zm4 0h-2v-4h2v4z\"/>\n",
              "    </g>\n",
              "</svg>\n",
              "  </button>\n",
              "\n",
              "<style>\n",
              "  .colab-df-quickchart {\n",
              "    background-color: #E8F0FE;\n",
              "    border: none;\n",
              "    border-radius: 50%;\n",
              "    cursor: pointer;\n",
              "    display: none;\n",
              "    fill: #1967D2;\n",
              "    height: 32px;\n",
              "    padding: 0 0 0 0;\n",
              "    width: 32px;\n",
              "  }\n",
              "\n",
              "  .colab-df-quickchart:hover {\n",
              "    background-color: #E2EBFA;\n",
              "    box-shadow: 0px 1px 2px rgba(60, 64, 67, 0.3), 0px 1px 3px 1px rgba(60, 64, 67, 0.15);\n",
              "    fill: #174EA6;\n",
              "  }\n",
              "\n",
              "  [theme=dark] .colab-df-quickchart {\n",
              "    background-color: #3B4455;\n",
              "    fill: #D2E3FC;\n",
              "  }\n",
              "\n",
              "  [theme=dark] .colab-df-quickchart:hover {\n",
              "    background-color: #434B5C;\n",
              "    box-shadow: 0px 1px 3px 1px rgba(0, 0, 0, 0.15);\n",
              "    filter: drop-shadow(0px 1px 2px rgba(0, 0, 0, 0.3));\n",
              "    fill: #FFFFFF;\n",
              "  }\n",
              "</style>\n",
              "\n",
              "  <script>\n",
              "    async function quickchart(key) {\n",
              "      const charts = await google.colab.kernel.invokeFunction(\n",
              "          'suggestCharts', [key], {});\n",
              "    }\n",
              "    (() => {\n",
              "      let quickchartButtonEl =\n",
              "        document.querySelector('#df-7e6e2729-3ec6-4c61-93a0-09e41d03d586 button');\n",
              "      quickchartButtonEl.style.display =\n",
              "        google.colab.kernel.accessAllowed ? 'block' : 'none';\n",
              "    })();\n",
              "  </script>\n",
              "</div>\n",
              "    </div>\n",
              "  </div>\n"
            ]
          },
          "metadata": {},
          "execution_count": 16
        }
      ]
    },
    {
      "cell_type": "markdown",
      "source": [
        "We can now find out cumulative returns on all 5 stocks for the entire period of 2 years (from the beginning of Jan 2013 to the end of Dec 2014). Method <font color='DodgerBlue'><b>prod</b></font> calculates the cumulative product for the entire period.\n",
        "\n",
        "The Apple stock performed similar to the market, while Amazon had half of that cumulative return. On the other hand, IBM was the clear loser, and Yahoo! the clear winner. **If you invested 1000 dollars into a  Yahoo stock at the beginning of 2013, you would have ended up with over 2500 at the end of 2014 (minus the commisions).**"
      ],
      "metadata": {
        "id": "nO_vvZXNLrff"
      }
    },
    {
      "cell_type": "code",
      "source": [
        "(returns+1).prod()"
      ],
      "metadata": {
        "colab": {
          "base_uri": "https://localhost:8080/"
        },
        "id": "l0KYcgrvLsGq",
        "outputId": "4b3703c5-b911-47fd-f56f-270c8f10d0e7"
      },
      "execution_count": 17,
      "outputs": [
        {
          "output_type": "execute_result",
          "data": {
            "text/plain": [
              "AMZN     1.206133\n",
              "YHOO     2.515438\n",
              "IBM      0.817112\n",
              "AAPL     1.407318\n",
              "^GSPC    1.407872\n",
              "dtype: float64"
            ]
          },
          "metadata": {},
          "execution_count": 17
        }
      ]
    },
    {
      "cell_type": "markdown",
      "source": [
        "Suppose we want to see how our investment of, say, 1 dollar accumulated day after day, rather than in aggregate for the 2 years. In that case we can calculate gross cumulative returns for each day.\n",
        "\n",
        "The easiest way to do this is to divide stock prices at each point in time by the initial price."
      ],
      "metadata": {
        "id": "-P6Z9Hm6Lzmg"
      }
    },
    {
      "cell_type": "code",
      "source": [
        "prices_init = prices.iloc[0] #initial stock prices, i.e. row number 0\n",
        "prices_init"
      ],
      "metadata": {
        "colab": {
          "base_uri": "https://localhost:8080/"
        },
        "id": "siFPuuDWL3VY",
        "outputId": "822f8178-cf44-4739-aef6-abdfb3cc65e1"
      },
      "execution_count": 19,
      "outputs": [
        {
          "output_type": "execute_result",
          "data": {
            "text/plain": [
              "AMZN      257.309998\n",
              "YHOO       20.080000\n",
              "IBM       196.350006\n",
              "AAPL       78.432899\n",
              "^GSPC    1462.420000\n",
              "Name: 2013-01-02 00:00:00, dtype: float64"
            ]
          },
          "metadata": {},
          "execution_count": 19
        }
      ]
    },
    {
      "cell_type": "markdown",
      "source": [
        "Cumulative gross returns (how much would 1 dollar investment grow over time) is"
      ],
      "metadata": {
        "id": "WRa9fBPsMEuw"
      }
    },
    {
      "cell_type": "code",
      "source": [
        "cum_gross_return = prices/prices_init\n",
        "cum_gross_return"
      ],
      "metadata": {
        "colab": {
          "base_uri": "https://localhost:8080/",
          "height": 455
        },
        "id": "0r4a1zB1MFj1",
        "outputId": "980da91c-019e-4f97-99d6-05a4ae7d7901"
      },
      "execution_count": 20,
      "outputs": [
        {
          "output_type": "execute_result",
          "data": {
            "text/plain": [
              "                AMZN      YHOO       IBM      AAPL     ^GSPC\n",
              "Date                                                        \n",
              "2013-01-02  1.000000  1.000000  1.000000  1.000000  1.000000\n",
              "2013-01-03  1.004547  0.985060  0.994500  0.987370  0.997914\n",
              "2013-01-04  1.007151  0.989044  0.987981  0.959874  1.002769\n",
              "2013-01-07  1.043329  0.966135  0.983652  0.954228  0.999638\n",
              "2013-01-08  1.035249  0.979084  0.982276  0.956796  0.996396\n",
              "...              ...       ...       ...       ...       ...\n",
              "2014-12-24  1.177685  2.522410  0.824141  1.428100  1.423586\n",
              "2014-12-26  1.201236  2.532869  0.826789  1.453344  1.428297\n",
              "2014-12-29  1.212701  2.516434  0.817469  1.452324  1.429528\n",
              "2014-12-30  1.205938  2.550797  0.815126  1.434602  1.422539\n",
              "2014-12-31  1.206133  2.515438  0.817112  1.407318  1.407872\n",
              "\n",
              "[504 rows x 5 columns]"
            ],
            "text/html": [
              "\n",
              "  <div id=\"df-ac1536f3-1a71-4370-bd29-a2480d78a2c6\" class=\"colab-df-container\">\n",
              "    <div>\n",
              "<style scoped>\n",
              "    .dataframe tbody tr th:only-of-type {\n",
              "        vertical-align: middle;\n",
              "    }\n",
              "\n",
              "    .dataframe tbody tr th {\n",
              "        vertical-align: top;\n",
              "    }\n",
              "\n",
              "    .dataframe thead th {\n",
              "        text-align: right;\n",
              "    }\n",
              "</style>\n",
              "<table border=\"1\" class=\"dataframe\">\n",
              "  <thead>\n",
              "    <tr style=\"text-align: right;\">\n",
              "      <th></th>\n",
              "      <th>AMZN</th>\n",
              "      <th>YHOO</th>\n",
              "      <th>IBM</th>\n",
              "      <th>AAPL</th>\n",
              "      <th>^GSPC</th>\n",
              "    </tr>\n",
              "    <tr>\n",
              "      <th>Date</th>\n",
              "      <th></th>\n",
              "      <th></th>\n",
              "      <th></th>\n",
              "      <th></th>\n",
              "      <th></th>\n",
              "    </tr>\n",
              "  </thead>\n",
              "  <tbody>\n",
              "    <tr>\n",
              "      <th>2013-01-02</th>\n",
              "      <td>1.000000</td>\n",
              "      <td>1.000000</td>\n",
              "      <td>1.000000</td>\n",
              "      <td>1.000000</td>\n",
              "      <td>1.000000</td>\n",
              "    </tr>\n",
              "    <tr>\n",
              "      <th>2013-01-03</th>\n",
              "      <td>1.004547</td>\n",
              "      <td>0.985060</td>\n",
              "      <td>0.994500</td>\n",
              "      <td>0.987370</td>\n",
              "      <td>0.997914</td>\n",
              "    </tr>\n",
              "    <tr>\n",
              "      <th>2013-01-04</th>\n",
              "      <td>1.007151</td>\n",
              "      <td>0.989044</td>\n",
              "      <td>0.987981</td>\n",
              "      <td>0.959874</td>\n",
              "      <td>1.002769</td>\n",
              "    </tr>\n",
              "    <tr>\n",
              "      <th>2013-01-07</th>\n",
              "      <td>1.043329</td>\n",
              "      <td>0.966135</td>\n",
              "      <td>0.983652</td>\n",
              "      <td>0.954228</td>\n",
              "      <td>0.999638</td>\n",
              "    </tr>\n",
              "    <tr>\n",
              "      <th>2013-01-08</th>\n",
              "      <td>1.035249</td>\n",
              "      <td>0.979084</td>\n",
              "      <td>0.982276</td>\n",
              "      <td>0.956796</td>\n",
              "      <td>0.996396</td>\n",
              "    </tr>\n",
              "    <tr>\n",
              "      <th>...</th>\n",
              "      <td>...</td>\n",
              "      <td>...</td>\n",
              "      <td>...</td>\n",
              "      <td>...</td>\n",
              "      <td>...</td>\n",
              "    </tr>\n",
              "    <tr>\n",
              "      <th>2014-12-24</th>\n",
              "      <td>1.177685</td>\n",
              "      <td>2.522410</td>\n",
              "      <td>0.824141</td>\n",
              "      <td>1.428100</td>\n",
              "      <td>1.423586</td>\n",
              "    </tr>\n",
              "    <tr>\n",
              "      <th>2014-12-26</th>\n",
              "      <td>1.201236</td>\n",
              "      <td>2.532869</td>\n",
              "      <td>0.826789</td>\n",
              "      <td>1.453344</td>\n",
              "      <td>1.428297</td>\n",
              "    </tr>\n",
              "    <tr>\n",
              "      <th>2014-12-29</th>\n",
              "      <td>1.212701</td>\n",
              "      <td>2.516434</td>\n",
              "      <td>0.817469</td>\n",
              "      <td>1.452324</td>\n",
              "      <td>1.429528</td>\n",
              "    </tr>\n",
              "    <tr>\n",
              "      <th>2014-12-30</th>\n",
              "      <td>1.205938</td>\n",
              "      <td>2.550797</td>\n",
              "      <td>0.815126</td>\n",
              "      <td>1.434602</td>\n",
              "      <td>1.422539</td>\n",
              "    </tr>\n",
              "    <tr>\n",
              "      <th>2014-12-31</th>\n",
              "      <td>1.206133</td>\n",
              "      <td>2.515438</td>\n",
              "      <td>0.817112</td>\n",
              "      <td>1.407318</td>\n",
              "      <td>1.407872</td>\n",
              "    </tr>\n",
              "  </tbody>\n",
              "</table>\n",
              "<p>504 rows × 5 columns</p>\n",
              "</div>\n",
              "    <div class=\"colab-df-buttons\">\n",
              "\n",
              "  <div class=\"colab-df-container\">\n",
              "    <button class=\"colab-df-convert\" onclick=\"convertToInteractive('df-ac1536f3-1a71-4370-bd29-a2480d78a2c6')\"\n",
              "            title=\"Convert this dataframe to an interactive table.\"\n",
              "            style=\"display:none;\">\n",
              "\n",
              "  <svg xmlns=\"http://www.w3.org/2000/svg\" height=\"24px\" viewBox=\"0 -960 960 960\">\n",
              "    <path d=\"M120-120v-720h720v720H120Zm60-500h600v-160H180v160Zm220 220h160v-160H400v160Zm0 220h160v-160H400v160ZM180-400h160v-160H180v160Zm440 0h160v-160H620v160ZM180-180h160v-160H180v160Zm440 0h160v-160H620v160Z\"/>\n",
              "  </svg>\n",
              "    </button>\n",
              "\n",
              "  <style>\n",
              "    .colab-df-container {\n",
              "      display:flex;\n",
              "      gap: 12px;\n",
              "    }\n",
              "\n",
              "    .colab-df-convert {\n",
              "      background-color: #E8F0FE;\n",
              "      border: none;\n",
              "      border-radius: 50%;\n",
              "      cursor: pointer;\n",
              "      display: none;\n",
              "      fill: #1967D2;\n",
              "      height: 32px;\n",
              "      padding: 0 0 0 0;\n",
              "      width: 32px;\n",
              "    }\n",
              "\n",
              "    .colab-df-convert:hover {\n",
              "      background-color: #E2EBFA;\n",
              "      box-shadow: 0px 1px 2px rgba(60, 64, 67, 0.3), 0px 1px 3px 1px rgba(60, 64, 67, 0.15);\n",
              "      fill: #174EA6;\n",
              "    }\n",
              "\n",
              "    .colab-df-buttons div {\n",
              "      margin-bottom: 4px;\n",
              "    }\n",
              "\n",
              "    [theme=dark] .colab-df-convert {\n",
              "      background-color: #3B4455;\n",
              "      fill: #D2E3FC;\n",
              "    }\n",
              "\n",
              "    [theme=dark] .colab-df-convert:hover {\n",
              "      background-color: #434B5C;\n",
              "      box-shadow: 0px 1px 3px 1px rgba(0, 0, 0, 0.15);\n",
              "      filter: drop-shadow(0px 1px 2px rgba(0, 0, 0, 0.3));\n",
              "      fill: #FFFFFF;\n",
              "    }\n",
              "  </style>\n",
              "\n",
              "    <script>\n",
              "      const buttonEl =\n",
              "        document.querySelector('#df-ac1536f3-1a71-4370-bd29-a2480d78a2c6 button.colab-df-convert');\n",
              "      buttonEl.style.display =\n",
              "        google.colab.kernel.accessAllowed ? 'block' : 'none';\n",
              "\n",
              "      async function convertToInteractive(key) {\n",
              "        const element = document.querySelector('#df-ac1536f3-1a71-4370-bd29-a2480d78a2c6');\n",
              "        const dataTable =\n",
              "          await google.colab.kernel.invokeFunction('convertToInteractive',\n",
              "                                                    [key], {});\n",
              "        if (!dataTable) return;\n",
              "\n",
              "        const docLinkHtml = 'Like what you see? Visit the ' +\n",
              "          '<a target=\"_blank\" href=https://colab.research.google.com/notebooks/data_table.ipynb>data table notebook</a>'\n",
              "          + ' to learn more about interactive tables.';\n",
              "        element.innerHTML = '';\n",
              "        dataTable['output_type'] = 'display_data';\n",
              "        await google.colab.output.renderOutput(dataTable, element);\n",
              "        const docLink = document.createElement('div');\n",
              "        docLink.innerHTML = docLinkHtml;\n",
              "        element.appendChild(docLink);\n",
              "      }\n",
              "    </script>\n",
              "  </div>\n",
              "\n",
              "\n",
              "<div id=\"df-ccbb04f9-b9ba-4fb0-bf97-19f015fb616e\">\n",
              "  <button class=\"colab-df-quickchart\" onclick=\"quickchart('df-ccbb04f9-b9ba-4fb0-bf97-19f015fb616e')\"\n",
              "            title=\"Suggest charts.\"\n",
              "            style=\"display:none;\">\n",
              "\n",
              "<svg xmlns=\"http://www.w3.org/2000/svg\" height=\"24px\"viewBox=\"0 0 24 24\"\n",
              "     width=\"24px\">\n",
              "    <g>\n",
              "        <path d=\"M19 3H5c-1.1 0-2 .9-2 2v14c0 1.1.9 2 2 2h14c1.1 0 2-.9 2-2V5c0-1.1-.9-2-2-2zM9 17H7v-7h2v7zm4 0h-2V7h2v10zm4 0h-2v-4h2v4z\"/>\n",
              "    </g>\n",
              "</svg>\n",
              "  </button>\n",
              "\n",
              "<style>\n",
              "  .colab-df-quickchart {\n",
              "    background-color: #E8F0FE;\n",
              "    border: none;\n",
              "    border-radius: 50%;\n",
              "    cursor: pointer;\n",
              "    display: none;\n",
              "    fill: #1967D2;\n",
              "    height: 32px;\n",
              "    padding: 0 0 0 0;\n",
              "    width: 32px;\n",
              "  }\n",
              "\n",
              "  .colab-df-quickchart:hover {\n",
              "    background-color: #E2EBFA;\n",
              "    box-shadow: 0px 1px 2px rgba(60, 64, 67, 0.3), 0px 1px 3px 1px rgba(60, 64, 67, 0.15);\n",
              "    fill: #174EA6;\n",
              "  }\n",
              "\n",
              "  [theme=dark] .colab-df-quickchart {\n",
              "    background-color: #3B4455;\n",
              "    fill: #D2E3FC;\n",
              "  }\n",
              "\n",
              "  [theme=dark] .colab-df-quickchart:hover {\n",
              "    background-color: #434B5C;\n",
              "    box-shadow: 0px 1px 3px 1px rgba(0, 0, 0, 0.15);\n",
              "    filter: drop-shadow(0px 1px 2px rgba(0, 0, 0, 0.3));\n",
              "    fill: #FFFFFF;\n",
              "  }\n",
              "</style>\n",
              "\n",
              "  <script>\n",
              "    async function quickchart(key) {\n",
              "      const charts = await google.colab.kernel.invokeFunction(\n",
              "          'suggestCharts', [key], {});\n",
              "    }\n",
              "    (() => {\n",
              "      let quickchartButtonEl =\n",
              "        document.querySelector('#df-ccbb04f9-b9ba-4fb0-bf97-19f015fb616e button');\n",
              "      quickchartButtonEl.style.display =\n",
              "        google.colab.kernel.accessAllowed ? 'block' : 'none';\n",
              "    })();\n",
              "  </script>\n",
              "</div>\n",
              "    </div>\n",
              "  </div>\n"
            ]
          },
          "metadata": {},
          "execution_count": 20
        }
      ]
    },
    {
      "cell_type": "markdown",
      "source": [
        "It is often easier to see what is going on with the data when we use their graphical representation. For this purpose Aleksandar and I utilize Plotly. Plotly allows for powerful interactive plots, but for now it suffices to do simple stuff.\n",
        "\n",
        "Those unfamiliar with Plotly can of course learn some details of the implementation from the example we provide but can also check the literature from the Bootcamp or the Plotly manual."
      ],
      "metadata": {
        "id": "OA_IlwL9MMQa"
      }
    },
    {
      "cell_type": "code",
      "source": [
        "fig=go.Figure()\n",
        "\n",
        "fig.add_trace(go.Scatter(x=cum_gross_return,y=cum_gross_return['AMZN'],mode='lines',line=dict(color='red',width=2),name='AMZN'))\n",
        "fig.add_trace(go.Scatter(x=cum_gross_return,y=cum_gross_return['YHOO'],mode='lines',line=dict(color='blue',width=2),name='YHOO'))\n",
        "\n",
        "fig.update_layout(width=800,height=600)\n",
        "fig.update_layout(title=dict(text='<b>Gross cumulative returns</b>',font=dict(color='FireBrick',size=40),x=0.5,y=0.9))\n",
        "\n",
        "fig.show()"
      ],
      "metadata": {
        "colab": {
          "base_uri": "https://localhost:8080/",
          "height": 617
        },
        "id": "X61oKO_xMPy2",
        "outputId": "9a77f488-f225-472d-8f6e-9f7094095807"
      },
      "execution_count": 21,
      "outputs": [
        {
          "output_type": "display_data",
          "data": {
            "text/html": [
              "<html>\n",
              "<head><meta charset=\"utf-8\" /></head>\n",
              "<body>\n",
              "    <div>            <script src=\"https://cdnjs.cloudflare.com/ajax/libs/mathjax/2.7.5/MathJax.js?config=TeX-AMS-MML_SVG\"></script><script type=\"text/javascript\">if (window.MathJax && window.MathJax.Hub && window.MathJax.Hub.Config) {window.MathJax.Hub.Config({SVG: {font: \"STIX-Web\"}});}</script>                <script type=\"text/javascript\">window.PlotlyConfig = {MathJaxConfig: 'local'};</script>\n",
              "        <script charset=\"utf-8\" src=\"https://cdn.plot.ly/plotly-2.24.1.min.js\"></script>                <div id=\"ab20f0ad-a548-4045-b03e-d7716d4a402f\" class=\"plotly-graph-div\" style=\"height:600px; width:800px;\"></div>            <script type=\"text/javascript\">                                    window.PLOTLYENV=window.PLOTLYENV || {};                                    if (document.getElementById(\"ab20f0ad-a548-4045-b03e-d7716d4a402f\")) {                    Plotly.newPlot(                        \"ab20f0ad-a548-4045-b03e-d7716d4a402f\",                        [{\"line\":{\"color\":\"red\",\"width\":2},\"mode\":\"lines\",\"name\":\"AMZN\",\"x\":[[1.0,1.0,1.0,1.0,1.0],[1.0045470965407992,0.9850597992432663,0.994499609032607,0.9873700883612928,0.9979144158312933],[1.0071508931528592,0.9890438590200952,0.9879806441218134,0.9598739615535632,1.0027693822568071],[1.043329125972523,0.9661354430921731,0.9836516088603269,0.9542284377627092,0.9996375870133067],[1.0352493388698396,0.9790836617692575,0.9822764915106361,0.9567961500535361,0.9963963840757102],[1.0351327526497944,0.9626494022416311,0.9794754332834217,0.9418420002289579,0.9990426826766592],[1.0312074881461972,0.9457171237877178,0.9823274708826198,0.9535169838910563,1.006632841454575],[1.0413120551053165,0.9606574201619819,0.9903233555336264,0.947671175141924,1.0065849755884082],[1.0599277662890159,0.9676295013650579,0.9810032549828376,0.9138843135370468,1.0056481722077104],[1.056702018717053,0.9721115805661816,0.9803921264049301,0.8850507817539119,1.0067832770339573],[1.0451595165690524,0.9995019805757052,0.980850472711037,0.921789194576898,1.0069815784795066],[1.0511834500129815,1.0024900020019523,0.9862489833658324,0.9155775426651357,1.012663940591622],[1.0575570231943447,0.9970119790717609,0.9904252363555186,0.9106968755912681,1.0161102829556488],[1.0500563713813507,0.9910358415977524,0.9986248826503091,0.9193846088577624,1.0206096743753503],[1.0419726707113384,1.0014940582728848,1.0426279339952615,0.9362053282082744,1.0221482200735765],[1.0633865673783676,1.0179283173025033,1.041100034883065,0.820537068840745,1.0221550580544576],[1.1036881304607344,1.0144422769499692,1.0439011705230603,0.8011944039634017,1.0277211744915962],[1.0727916174058525,1.0114541609022079,1.0436974093885705,0.8193168778158754,1.0258202158066767],[1.0118145759137032,0.9810757389684294,1.0384516810055755,0.8346893010973511,1.0310581091615267],[1.0600598894102202,1.0019920776971796,1.0365164144499612,0.8320666295989902,1.0270373764034955],[1.0318293205720352,0.977589603496373,1.034224603978762,0.8296263445748621,1.0244047537643084],[1.029886139177361,0.9840637603946764,1.044970645916369,0.8262209181304642,1.0347027529711026],[1.010376640724822,0.9631474216659262,1.0378914538775763,0.80563131222903,1.022763638352867],[1.0372314215901264,0.9790836617692575,1.032798507766382,0.8339141335286003,1.0334172125654737],[1.0190820552866076,0.9885458395958002,1.0237840491719752,0.833013970198313,1.033984764978597],[1.0113482314221591,1.0119521798284947,1.0172650842611815,0.852813088046761,1.0321179961980826],[1.018032780083474,1.0209163387287503,1.0271453345271886,0.8651255009041519,1.0379576318704613],[0.9996113400142522,1.040836638608911,1.0194041124605802,0.8741408493700124,1.0373285376294088],[1.0054021010180914,1.0562748587899398,1.0187929059605971,0.8522304234977901,1.038983329002612],[1.0472581855093843,1.0532868378617006,1.0190475685449953,0.850608592597194,1.0395987472819026],[1.0463642793178436,1.0547808961345853,1.016806660032999,0.8498436385996015,1.0403167352744083],[1.0302358974488601,1.0465637188110108,1.0235802875281907,0.8381316912396262,1.0392294963143283],[1.0483463624267666,1.060259014184299,1.0202190021729771,0.837823141636584,1.0468538449966494],[1.0353659250898848,1.0418326774575009,1.0150750771990935,0.8175319203435879,1.0338685193036201],[1.0335393295266193,1.037350597758369,1.0100840114004968,0.8124511628726542,1.0273519235240218],[1.0315184636261487,1.0567728782142345,1.0241405146561897,0.8211018352881628,1.036364382325187],[1.0099490790248253,1.0323704991329503,1.0059077584108107,0.8065123126823871,1.0173889853803968],[1.0079669963045386,1.033864557405835,1.0142092855274936,0.8177512706431951,1.0236047100012309],[1.0230850042960011,1.0537848572859954,1.0304557958452745,0.8097367143260429,1.0366310635795462],[1.027049051591146,1.06100599576098,1.0228163766784828,0.8039623526359528,1.0357352880841344],[1.0327620095551238,1.0926295128192411,1.033409714266365,0.784054921438689,1.0381422573542485],[1.061404484658081,1.1304781300019051,1.0450216247790582,0.7650756193872638,1.0429288439709523],[1.0710427067370196,1.1429283292546948,1.0518461542334527,0.7852826997133473,1.052905458076339],[1.0640473011298184,1.1354581340058092,1.0612681356061338,0.7752983675620199,1.054047400883467],[1.0643970597899537,1.1304781300019051,1.066564765439037,0.7842589026775069,1.0559620355301487],[1.065601822538745,1.1404382326312281,1.0714540278285227,0.7863320310595764,1.0606939182998045],[1.0541370048965406,1.1254980313764862,1.0699261282070314,0.7975339280419013,1.064140260663831],[1.0653686504872908,1.1155378341256488,1.0723198195001227,0.7803396321668152,1.0615828558143352],[1.069138427056594,1.1125498126994018,1.0800101401168227,0.7801943064160708,1.0629778039140603],[1.0327620095551238,1.1170318923985336,1.0990577865838935,0.7877523610580666,1.068933685261416],[1.017527533877681,1.0991035745980222,1.0945759690506065,0.8080792816560554,1.0672036760985215],[1.0022541564859895,1.096115553669783,1.085867074490506,0.8300457852715353,1.0613230125408568],[0.9965022971963995,1.104083673721449,1.0870384301964124,0.8278044235321951,1.0587519317295988],[0.9998757044020897,1.1003485755989983,1.095288978450406,0.8234159571834817,1.0658429179032016],[0.9847654648612069,1.1384462500535708,1.0810287135509287,0.8245990873573658,1.0570150845858235],[1.001710008954584,1.1583665499337312,1.0801120204294203,0.8413191291854049,1.0645984053828585],[0.9949865585790205,1.1643425922882176,1.0732874914843202,0.8443612415079367,1.0610426553247356],[1.0116590883680456,1.17480080896335,1.0815380392290195,0.8399103259825069,1.0693029362289903],[1.0310520006005395,1.17480080896335,1.0740514023340282,0.8234159571834817,1.0686738419879376],[1.035676781647135,1.1717629195090158,1.0863254213059075,0.806257311781839,1.0730091218664952],[1.016711312580573,1.1703187297622262,1.0816399200509115,0.7812142613142113,1.0682088592880294],[1.0233647874395693,1.1842629872879005,1.0917239314514082,0.7828207230265204,1.0737339478398817],[1.006684548661315,1.1643425922882176,1.0830659388505106,0.7868241345041246,1.0624102515009368],[1.0068788193871563,1.1713147686108158,1.076190430533427,0.7790468268431276,1.0667113414750893],[0.992887948711403,1.1603585325113885,1.0665138639891287,0.7708130173794767,1.0621298942848154],[1.0063736917154285,1.1693226909136363,1.0660555171737272,0.7762954145986393,1.0688242775673198],[1.0148848355513722,1.1867529887918447,1.0655461914956366,0.7776978950721305,1.0726125189753968],[1.02899223298582,1.205179325518643,1.0797045755732217,0.7935624219256519,1.0856867384198794],[1.0487350224125143,1.2193725451967035,1.0843900768282178,0.7910851247545897,1.0895433596367663],[1.0604717952863563,1.229581704599927,1.076546973939717,0.7828347789903737,1.086452592278552],[1.0404570506280244,1.1942230894192156,1.0657498752173453,0.7647122565613457,1.061500800043763],[1.058412027671637,1.1847610067121954,1.0797045755732217,0.7763502278215152,1.076687955580476],[1.0392133861649846,1.1802789270130636,1.0678380019668356,0.7336576930280788,1.0612614707129278],[1.0082002868900577,1.1584163233403042,1.0550037558669574,0.7140766122548042,1.0541499705966821],[1.0116979896936582,1.1688246714893413,0.967659761126944,0.7113086637097507,1.0634769765183736],[1.0242508657191796,1.1927291262658533,0.956608077232955,0.7261353374360807,1.0684345126571027],[1.0450429303490074,1.2141433892993763,0.9758594074217347,0.7397227546687147,1.0795667455313793],[1.0445765858574632,1.2325697260261743,0.9763687330998255,0.7385051413886605,1.0795735835122604],[1.067583905647668,1.2549801225298014,0.9877768824780291,0.7438205209393848,1.083929377333461],[0.9902840930266288,1.2290836856736402,0.9896103466431214,0.7598941359448006,1.0819326869162074],[0.9705802643868977,1.2166334864208506,1.014260186977402,0.7834174435393447,1.0897074711779104],[0.9863977302372803,1.2315736871775846,1.0315252712385834,0.806476613504892,1.0924153116067887],[0.9647118184886261,1.210159329522547,1.0167048571331823,0.8001195872658308,1.0822472340367335],[0.9815009344976964,1.2435258670060791,1.0307613603888754,0.8114668585754544,1.0924289875685507],[1.0028758703777627,1.2485059656314978,1.0415583811891718,0.8195909927618042,1.103937309391283],[0.993820697155842,1.2534860647549246,1.0327476063164736,0.8391337966127681,1.1060434075026326],[1.001632324448788,1.2983067626426565,1.0370766415779602,0.8353968641272523,1.111828339327963],[1.00532429797823,1.3152390415945778,1.0431372596733521,0.8448355441315377,1.11643030046088],[1.0110761576564564,1.3067729021186172,1.035090395650362,0.8319582675461229,1.1123138359705147],[1.0245618411991313,1.3361553798253203,1.041354697467463,0.8250364261555921,1.1171209365298613],[1.0279818594969354,1.3142430027459882,1.031168805245074,0.8282608277992478,1.1171688023960284],[1.0428276751886303,1.3266932019987778,1.0349376133785615,0.8084439090023553,1.1284993367158545],[1.035948855801474,1.3615537977551946,1.0354978405065605,0.7811046347409621,1.134270592579423],[1.0264661208795565,1.3237051805725306,1.042475151723461,0.791537735460497,1.1285882304673076],[1.0489292931383558,1.3207171596442915,1.0615736996404401,0.7891369433025072,1.140212797965017],[1.0401072923565253,1.3237051805725306,1.0572956437509375,0.8067494640579363,1.1394059162210581],[1.0448874428033497,1.344621519301281,1.062643175033749,0.8007940774396065,1.1413684167339069],[1.0219579260530063,1.3217131984928814,1.0541889435673413,0.8038794760619246,1.1319251651372382],[1.0174497308378196,1.2958167611387121,1.0499617891277468,0.8053112844069499,1.1286155823908315],[1.0172165583977295,1.311254981319741,1.0477208801064561,0.8107936814986149,1.12799332613066],[1.038785942999053,1.2983067626426565,1.0582123368724459,0.8040337508634456,1.1351458541321917],[1.0319459067920804,1.28535854446358,1.0589253462722454,0.8104290541523149,1.1271454165014154],[1.0369981310046075,1.311254981319741,1.0662592008954361,0.8225043157616541,1.1312823949344237],[1.0462089103062508,1.3097609235448642,1.0594346719503362,0.8191448020659098,1.1150968941890838],[1.037192520264514,1.3142430027459882,1.0641710741459458,0.8209387085889738,1.1217160596818971],[1.032606640543531,1.307768940967207,1.0501145708902526,0.8183696343696613,1.1155345249654682],[1.0383195985075087,1.2823705230373328,1.0325439225947648,0.8107197541028608,1.100162743944968],[1.0408844937939559,1.3052788438457326,1.0379424332495601,0.7986074802190903,1.1095034258284213],[1.0760172464437503,1.3466135969984607,1.0509294611119444,0.8047120347258645,1.1237401020226747],[1.0923400175726403,1.3316733006241965,1.044155833616753,0.7993915969661153,1.1233503371124574],[1.0678947625935542,1.314741022170283,1.0388591258617739,0.7970418244698557,1.1119445850029404],[1.055808231059577,1.2893426042404088,1.024700741784189,0.7871875460340944,1.102638093023892],[1.0718200267085154,1.3132470590169205,1.0377896509777598,0.794063474548474,1.1189398394442087],[1.0648245025672491,1.308764979815797,1.0297936878953833,0.7832899187370448,1.1123548638558005],[1.0806420278789821,1.3217131984928814,1.0340717442941805,0.7868419841566209,1.1207724183203183],[1.0950216176131977,1.3276892408473675,1.0433918448449695,0.7864225434599476,1.1295045199053622],[1.08103068786473,1.3067729021186172,1.0284695499176764,0.7704496545535587,1.1138592196496218],[1.0626870504467334,1.2624502231571724,1.0050929461111944,0.7592260657810378,1.0860012855404055],[1.0623760753554181,1.2544821031055065,0.9954672810168046,0.7531456835286692,1.0889005894339518],[1.0516885776847096,1.1984562064679531,0.9856887562378334,0.7331833904044777,1.0756759344100872],[1.0574327279850708,1.242778885429398,0.993022610861024,0.7333478787771572,1.0858918778463094],[1.0787377478099203,1.2592131449570245,0.9924114822831167,0.7250414065656317,1.0963061227280808],[1.078659944770059,1.2684262655116585,0.9964348755882213,0.7172283510230878,1.1031030757238003],[1.0792040923014647,1.251493987057745,0.9733129343661375,0.7222364456186492,1.0983711929541444],[1.096342966582034,1.2569721051074587,0.9741787260377375,0.7453504775111242,1.104306560358857],[1.1026777569718496,1.244521905854669,0.9752991802937356,0.7622350079668379,1.1037048180413287],[1.1038436183950282,1.274402402985667,0.984211835988326,0.7664424006832599,1.1046142694985024],[1.111033413262136,1.278884482684799,0.9927679482766261,0.7602855619943735,1.1158832619903996],[1.1293381485772476,1.2711653247855192,0.993022610861024,0.7559697586485298,1.121743411605421],[1.132991339315142,1.3284362224240487,0.9742806068596297,0.7692652112827386,1.1298532569302935],[1.136100382132995,1.3227091422219488,0.9791188898771315,0.7663149245850116,1.1300583963567237],[1.1645874878357234,1.3466135969984607,0.9819200260264214,0.7782588678309053,1.145375473530176],[1.195250828450515,1.356075679705481,0.978202196755623,0.7768423800976125,1.148910709645656],[1.1914422687010278,1.3615537977551946,0.9880315455717218,0.7785368250420315,1.1504902832291681],[1.1926081301242064,1.3386453818272726,0.9872676347220138,0.7835538686883694,1.1462233831594206],[1.1996813387712693,1.4770916318808431,0.9908326817210117,0.7837642213606457,1.1494030442690881],[1.1818817311278855,1.4770916318808431,1.0083524285665912,0.7864008515422538,1.1551879760944188],[1.1862345569428432,1.4497012313733117,0.9856887562378334,0.7740004553252555,1.1570479068940522],[1.1794334220614833,1.3874502351093636,0.9884898918778287,0.7764777526238151,1.1594001723171181],[1.1700283720339983,1.3625498366037843,0.993022610861024,0.7631453362917292,1.1572530463204824],[1.161789301575121,1.386454196260774,1.001324137977707,0.8023418836638423,1.152842548652234],[1.1791224465815318,1.407868554413819,1.0044308381613032,0.7986814076148444,1.1557897184119472],[1.2125840919909907,1.3999004343621533,1.0050929461111944,0.8032165128112384,1.156747035735288],[1.1896156735263985,1.390886502055325,0.9992869906002004,0.8156016371205559,1.1524254318184926],[1.175274985506432,1.3969123183143917,0.998268339244019,0.8256739527589882,1.152856224613996],[1.1706502040712001,1.3989043955135636,0.993328175404625,0.82423450858762,1.1526989510537329],[1.1875559059116794,1.39243023861526,0.9972497658099131,0.8317861917961572,1.1671544426361782],[1.1822703911136332,1.3769920184342312,0.993939381904608,0.8424666574623998,1.1690690772828598],[1.1697562978796594,1.3779880572828211,0.9956709647385135,0.8550531853932171,1.1673390681199656],[1.168823608896571,1.3605577589066047,0.9727018057882301,0.8474033537029707,1.1606583607992231],[1.153899990165015,1.3640437997571466,0.9603259065037534,0.8469111529778167,1.1562410251500936],[1.1493528932355797,1.3685258789582706,0.957117325498265,0.8396807619842438,1.1607335785889141],[1.1552602408480999,1.3784860767071159,0.9565571757830467,0.8277317606568227,1.156589762175025],[1.1530449852990867,1.411852614190648,0.9630251613218564,0.8512461190730928,1.155256355903229],[1.1424740738484234,1.411354594766353,0.9596128971039538,0.8916997725913982,1.1584633689364205],[1.132252920669259,1.3969123183143917,0.9550801781207583,0.9079646746727664,1.1524664597037786],[1.1133263529283093,1.351693242437025,0.9462184238760765,0.9068898092711438,1.1360074397231985],[1.1069138780326973,1.3605577589066047,0.9439266134048773,0.9149400161892369,1.1322533882195265],[1.1098286501247085,1.3401394401001572,0.9382734401656837,0.9247943432015526,1.125572680898784],[1.1157358788145277,1.3505976567752895,0.9399541220589755,0.9126450569158533,1.1298737708729365],[1.1059422873353602,1.3476095407275281,0.9414820211711723,0.9149948779886671,1.1233434991315763],[1.1259959337079408,1.389442217687021,0.9431627025551694,0.9160875443387344,1.1330260800590801],[1.127084110625323,1.3939242968881447,0.9443340587703705,0.9125545930920363,1.1374981195552576],[1.1123158609053596,1.379731077210084,0.9408708925932648,0.9161066098075608,1.132902996403222],[1.091795870041235,1.3446712927078537,0.930685000370876,0.8899148151191107,1.1149191066861777],[1.0943219821474983,1.3500996373509946,0.9277310824590802,0.8941145720091896,1.1179825221208681],[1.1036493476691869,1.3595617205560229,0.9301756746927852,0.8955795016593971,1.120177513983671],[1.0919902593011412,1.3505976567752895,0.9282913095870793,0.8874120810457637,1.116621763925548],[1.1223815261502301,1.3834661753325348,0.9368984007380685,0.8898956523696782,1.1212715909246318],[1.1411916262051995,1.3979083566649735,0.9326712462984741,0.9083127171419468,1.13037294347725],[1.1429793200542162,1.4058764767166394,0.9378659953094852,0.9020819023532547,1.131740539653451],[1.1498192381157601,1.4028884557884003,0.9321619206203834,0.9074546729991678,1.13180208148138],[1.1647817585615647,1.4561752931520928,0.9420931497490795,0.9219345203276424,1.1431121018585633],[1.1673078706678286,1.4681274729805878,0.9503437754158542,0.9009344713568658,1.1515091423804378],[1.1645098029412908,1.4536852911501406,0.9712248076166472,0.851883548395883,1.1550238645532747],[1.1614783264838058,1.4765936124565484,0.9713775898884476,0.8609537586611734,1.1511193774702206],[1.157825254279976,1.4571713320006827,0.978711445020933,0.846765827227072,1.15424433473284],[1.1505965580872557,1.4750996493031858,0.9837025103102353,0.8198460422389067,1.1608156343594862],[1.1821150217134044,1.4940239103347568,0.9786605435710246,0.8293165304514379,1.1657116286702862],[1.2126773133979465,1.5156872306401883,0.9901705737711205,0.8463654519992252,1.1799072769792536],[1.212778362716832,1.5453187656188,0.9849248453881254,0.8602435693099025,1.1777327990590938],[1.2294119904029723,1.5400896097214725,0.9677616419488362,0.8513379446978975,1.169233188824004],[1.2105631071678191,1.5069721290118412,0.9727018057882301,0.8936479540434809,1.1637149382530325],[1.2208231620612322,1.5572709454472946,0.9675069788551436,0.8908429930964984,1.1606925507036283],[1.2150713023830058,1.560756985799829,0.9649605057995464,0.877055436890244,1.1575128895939606],[1.2363297115043772,1.6309761021154427,0.9687802153829422,0.8855977471253877,1.1615472983137538],[1.228129543148385,1.6708167018757638,0.9519734779371621,0.879277733160758,1.1568154155440982],[1.2150325192028217,1.6518923457246708,0.9431117236924803,0.8683486380274258,1.1498406750454724],[1.2473281846550375,1.7086654136799422,0.949223321159856,0.8887673842502194,1.1590377593304249],[1.2456181757004532,1.700199179582467,0.941991346849263,0.8916807071225717,1.1582650674908712],[1.2232715896616992,1.687001998752996,0.9363890750599778,0.8804800260840745,1.147864498570862],[1.2399052173478393,1.737549777340836,0.9376114101378681,0.8797877349618544,1.1559606679339725],[1.20488905091809,1.700199179582467,0.9269670936872968,0.888384809970817,1.1461276514270864],[1.178461831364146,1.6399402610156981,0.910211335104206,0.8759806687692275,1.1319935449460483],[1.1590300174174033,1.6439242256730051,0.9234530260602828,0.886268443738018,1.1326431531297438],[1.1860169214039122,1.6867529414810876,0.9410236748650654,0.8918235037050551,1.1573692919954595],[1.208227470754133,1.700697294126284,0.948102866903858,0.8976042368286038,1.1646449036528495],[1.2074929660642149,1.693227098379391,0.9522281405215602,0.9034843828267459,1.1693904623842672],[1.1907815349495774,1.6623506575193254,0.9404634477370664,0.908292289744635,1.1611301814800126],[1.2066767443784705,1.6478586071627834,0.9510058054436699,0.9127254043216202,1.1771857605886134],[1.2077649212958528,1.6307270448435343,0.8903997777874273,0.9188925052857169,1.1851246563914608],[1.2783451978859295,1.6648904329278504,0.8850521690918347,0.9268891147972641,1.192885764691402],[1.2686642782822055,1.6962152144271525,0.8803666678368389,0.9496053492067077,1.192995172385498],[1.2923711150040447,1.6902389823316295,0.891112787187227,0.9468832648337534,1.1998399912473845],[1.2698924062327224,1.6484063048741289,0.8951871598643154,0.9561587208582435,1.194171305097031],[1.291088549215392,1.6474104562645837,0.9055258343585048,0.9688166470165537,1.198062116218323],[1.4122654307622597,1.6060757036098634,0.9006875508317084,0.9579768484672625,1.2033273614966973],[1.3919397110126126,1.61105570711576,0.9032340238873056,0.9651128846677695,1.2049274490228523],[1.4095838311103386,1.6518425723180978,0.9275273208152959,0.9410731552621162,1.2116560222097619],[1.4032878239007065,1.6220119432151874,0.9174942108647075,0.9560414097545996,1.205748006728573],[1.4147526415429108,1.6404381853204708,0.912706906709895,0.9520456341033384,1.2011186936721323],[1.3952120692880534,1.6524402336750608,0.9128087096097115,0.9471790716973759,1.2046060639214453],[1.394193748964537,1.6528883845732605,0.9181054173646904,0.9594188216793945,1.2089071538955978],[1.3947845075880567,1.64193233821487,0.9057804969429029,0.9570486704898749,1.205515515378619],[1.384244669939712,1.637450259013746,0.9126050258880027,0.9487995406694862,1.210657677001135],[1.335198790581311,1.5991036224067874,0.9167303000149996,0.9334488091782068,1.1946978296248685],[1.3614317394094135,1.6494023437227188,0.9166793985650912,0.9481442132451432,1.210739732771707],[1.37724143642058,1.6840138827052347,0.9313980097706754,0.9453902232558392,1.2116149943244758],[1.358400381097357,1.6967131387319252,0.9323656817548731,0.9471421079994989,1.2087430423544536],[1.3844001574853695,1.7482569561683545,0.9348102744978728,0.9482793252972317,1.2185281929951723],[1.4278341281986784,1.777390377101157,0.9279857450434783,0.9619866313783252,1.224422532514599],[1.434728603021059,1.7664343307427663,0.9329768103327805,0.9562148473055532,1.229592046060639],[1.4231082978331973,1.7417827992700512,0.9394957752435742,0.944627798426508,1.2250447887747704],[1.418289245672124,1.7246016537832736,0.9434682670987704,0.9463043938459279,1.2225420877723225],[1.4090785849045455,1.773904336250615,0.9431627025551694,0.9380171329603891,1.218097400199669],[1.433757012323722,1.8077688936564498,0.9377641924096686,0.9491934958873204,1.227998796515365],[1.4469317207750811,1.8172311666025147,0.9233511457476853,0.9467596310007026,1.2340914374803407],[1.4637597377211278,1.807270969351677,0.9113317893602041,0.9539364244602321,1.2325323778394714],[1.482142157930672,1.8247011721103634,0.9030302627528158,0.9715310469866107,1.2327170033232586],[1.5028953212348872,1.8406374117156872,0.9114845716320047,0.9944079762075881,1.235780418757949],[1.5297501021001916,1.8416334505642769,0.9151005200809108,1.0128224145309896,1.2348094254728463],[1.5246200748478032,1.8431274137176392,0.9038960539151213,1.0040059892224196,1.2314519768602727],[1.4949283249303487,1.8207172069550488,0.8967659604264203,1.0314944314997545,1.2275201378536946],[1.4999805491428757,1.8989044433223286,0.8950343775925148,1.0290873166123577,1.2259200503275391],[1.4942675907902618,1.9357569265368804,0.8967659604264203,1.0343707908017274,1.220600101202117],[1.5038281287520405,1.9352590022321077,0.9048637264086136,1.0200171063470673,1.2343170908494139],[1.4958222307332532,1.9357569265368804,0.9037942510153046,1.0316920900091655,1.2365599485783836],[1.5070537577899383,2.0029881165457697,0.9020625902593237,1.0300894219854997,1.2326281095718055],[1.4853290037883862,1.949950146214941,0.8922841428931333,1.0224573912436978,1.2186786285745546],[1.481675813439128,1.9596612861938698,0.8829640423423445,1.0209631824260081,1.2140835054225187],[1.4932960000929247,1.9785856423449628,0.8800611038025326,1.0098351642628831,1.2139604217666606],[1.511678538836534,1.9785856423449628,0.9057804969429029,1.0154271879277974,1.2216326363151488],[1.5065485115841455,1.9676294062455357,0.8951361804923316,1.010855167737578,1.2178443949070719],[1.538844177036361,1.9940239581435217,0.9101094542823138,1.0031682750688486,1.238119008219253],[1.535851720049917,2.00199207769718,0.9178507542709977,0.991675678135978,1.2374010202267474],[1.5630951612896056,1.9980079228008285,0.9168321808368918,0.99998083712307,1.2433637395549841],[1.565893347161572,2.030378517053301,0.9280875479432948,1.0383576172747147,1.2499760670669164],[1.5514360729215602,2.0343624817106076,0.9331295926045811,1.0339500855846724,1.2536207108764923],[1.5716063051255496,2.0244024746988147,0.9439775927768611,1.027083008840463,1.2595697542429671],[1.5470832471066023,2.016434354647149,0.9426024754271703,1.0201446311493674,1.2591457994283448],[1.5287785114028543,2.00199207769718,0.9493761034316566,1.0099983881151806,1.2589201460592716],[1.5498426497983848,2.01394416290416,0.955283939255248,1.02183776299685,1.2639050341215246],[1.5466558039406708,1.9716135611418868,0.9448942858983694,1.007467542114127,1.2527044214384375],[1.5407096735366028,1.9980079228008285,0.950547459137563,0.9853377659422977,1.2522873046046963],[1.5297890038144404,1.988545840093808,0.9472879766821662,0.9907105365882108,1.2491418333994337],[1.5468889763807607,2.03784852256115,0.9661828408774366,0.9836204131363575,1.256738830158231],[1.5620069843722235,2.0428287163060905,0.9573210866327547,0.9898537569658133,1.2564721489038717],[1.5584703802430102,2.03784852256115,0.9543162672710505,0.977212367235566,1.256909779680256],[1.5454510411918796,2.053286837861701,0.9537050607710676,0.9706934301136458,1.2598090835738023],[1.5194901661294797,1.9915339561415697,0.9379169746814691,0.9757754521049615,1.2439654818725125],[1.544984696311699,2.0488047586605767,0.9468805318259678,0.9951908284342315,1.2574226282463314],[1.5384944183762257,2.045318717810035,0.9561497309268482,1.015172235731301,1.2639187100832867],[1.538222344610523,2.008964158900256,0.9613444799378593,1.0095074519104084,1.2622160528439164],[1.5530293775106703,1.9925298047511149,0.9681181074330508,0.9847729994948798,1.2572995445904733],[1.581943925990694,1.9681275207893527,0.9596637985538622,1.0000726627478747,1.260786914839786],[1.572189235837139,2.0009960393465978,0.9281894287651871,1.004515991023516,1.2615117408131726],[1.5540398695336197,1.9616533638910494,0.930634020998892,1.013022602208662,1.2502974521683237],[1.506354240858304,1.8879482072229012,0.9148968363592019,0.9946081638852604,1.2241968791455258],[1.5012242136059155,1.8251992866541804,0.90603508211452,1.0026774361446824,1.2182273218364081],[1.5328980466322932,1.9033865225234523,0.9006875508317084,0.922535083105664,1.225708072920228],[1.493140631081332,1.737549777340836,0.8983956629477283,0.9120623923668824,1.213194567907988],[1.5662431058217072,1.7584662106911007,0.9032849253372139,0.910299126684791,1.226863691689118],[1.3939994782386957,1.793227069893335,0.8998216817473275,0.9117895419413353,1.2189316338671516],[1.3452644558261815,1.738047891884653,0.8805703515585478,0.9134827710694242,1.1911010516814595],[1.3522599799674477,1.7758964139477944,0.8802647870149467,0.9267068253486425,1.2002024042340778],[1.346430435783425,1.767430369591356,0.8873949584257231,0.9336273049381854,1.1977680830404398],[1.3780653670955536,1.804780967349725,0.8895848880750302,0.9334819791874407,1.2126680433801507],[1.4032878239007065,1.8540836498170665,0.9027246982092149,0.9465415450939797,1.2287988402784424],[1.4024717207490272,1.8804780114760082,0.9021644710812158,0.9634987382975683,1.230727150886886],[1.406047226592489,1.9173306849296043,0.9152024003935083,0.976193628281253,1.244341570820968],[1.3573122041799748,1.8979084044737389,0.9179526350928898,0.9761209654058807,1.2440065097577986],[1.3882088357689217,1.9183267237781942,0.9261013020156967,0.9916209134896563,1.2512342555490215],[1.388791766480511,1.903884446828225,0.9355232833883778,0.9908201630339625,1.2572516787243062],[1.3744121767462956,1.9076195449506754,0.9329768103327805,0.9944627408539098,1.2587081686519603],[1.3500447248070708,1.882968203218997,0.9317544752548903,0.9787614378526861,1.2504957536138728],[1.3594496563004905,1.881972164868415,0.9384262224374843,0.967433329292495,1.2580380465256218],[1.3476351989208522,1.8570717663628358,0.9309395855424931,0.9566865236077844,1.2556242392746269],[1.3671446973733912,1.8635457330220946,0.9343009483104875,0.9608761640798136,1.263392185555449],[1.3925615430498144,1.855577612970429,0.9331804940544893,0.9508765113167533,1.2616895283160787],[1.3983132841939758,1.8735059302729322,0.9374076490033784,0.9422971399756289,1.2617168802396028],[1.3995958503712647,1.915836721776242,0.9435701479206626,0.9610941525784328,1.2679599567839608],[1.4072519897299163,1.9257967292860427,0.9430608222425719,0.9584893793091226,1.2714883549185596],[1.3982355996881795,1.904880485676815,0.9384262224374843,0.9612586410786098,1.2621066451498202],[1.414247395337118,1.9736056388390664,0.9495288851941625,0.9675965532722901,1.2813760752724934],[1.4471648928265353,1.967131481940763,0.9530939321931602,0.969636462941074,1.2813076954636833],[1.4463487900634922,1.9750996019924287,0.9556404052487574,0.9667040744723977,1.2835095253073672],[1.445960130077744,1.9272859429373945,0.9558440889704664,0.9661392108718712,1.2842001613763487],[1.4400139996736763,1.8949202884259773,0.9492742226097644,0.9670138887233192,1.2836052570397014],[1.4333683523379739,1.8705180039662075,0.9511585877154705,0.9764307795293046,1.277081823279222],[1.4404415609850365,1.8675298879184459,0.9484084309381644,0.9773781201286275,1.2774715881894394],[1.4438226779572285,1.8540836498170665,0.9365927587816866,0.9665216878706674,1.2625237619835614],[1.4524891908047652,1.8725098914243425,0.9279857450434783,0.9556666174136955,1.2589611739445576],[1.4575415335513573,1.9477092014848973,0.9463203046979687,0.9594009234503439,1.2710644001039373],[1.4720375909715528,1.9646414799388108,0.9514132508091631,0.9678884691666634,1.2802409704462465],[1.4505072266185433,1.922808802979318,0.9407181103214644,0.9676335169701673,1.2723909683948522],[1.4339512830495633,1.8809761260198252,0.9569645432264644,0.9629709356755249,1.2800768589051024],[1.4015001300516898,1.8894421703762636,0.9507002414093636,0.9705659054388436,1.2763228074014303],[1.3674167711390939,1.8266932498075428,0.9587471054323538,0.9820764006007647,1.2701139207614776],[1.378531711975734,1.789342652049174,0.993328175404625,0.9926408196837452,1.2757073891221398],[1.3346158598697218,1.7654382918941767,0.9810032549828376,0.9831511687217813,1.2667769860915468],[1.315417217974433,1.7724103730972527,0.9667939694553439,0.9789259263528631,1.264370016821433],[1.3147177010427986,1.7878486888958114,0.9699515710888486,0.9778332600027958,1.2702370044173354],[1.3072363815528638,1.7878486888958114,0.9803412249550217,0.9776140069837949,1.2803025122741756],[1.3329835350322978,1.8172311666025147,0.990578018627319,0.9865579569671673,1.2893149710753409],[1.3289805864115403,1.8247011721103634,0.9857397356098172,0.988196324295826,1.292993804789322],[1.2965683347392796,1.780876417453691,0.9813597983891277,0.9813484103010494,1.2915373148616676],[1.2552951809595758,1.7061752219369533,0.9766742976434265,0.9686534231642561,1.2753449761354465],[1.2349306780297449,1.6469123417207665,0.9906798994492112,0.953444321015684,1.2616348244690307],[1.2711127058826728,1.6847610540229525,0.9844155197100347,0.9533894590887563,1.2663667072386866],[1.2895145769493415,1.736553738492246,1.0014769202495073,0.965921222373252,1.2801931045800796],[1.2324044473894165,1.663346696367915,0.9965876578600219,0.9534633864845105,1.2534565993353481],[1.2114959150736087,1.6368725448680181,0.9940921636671138,0.9464141176997833,1.2415653505832798],[1.227740883162637,1.665587640599951,1.007231974310593,0.950184220194533,1.2517676180577397],[1.2284014983800227,1.7036852199350012,1.0034122647271972,0.9434089690751286,1.2602262004075435],[1.2579378792858846,1.8102588951603942,1.0002545851716171,0.9453214513497162,1.273444017450527],[1.262718148266774,1.811753048552801,0.9677106625768523,0.9561217571603665,1.2751808645943026],[1.285880837068571,1.8127490874013907,0.9792207706990237,0.9674690284699902,1.2799948031345305],[1.279857022158707,1.799800773604784,0.9786095641990408,0.9684329054973756,1.2852326964893805],[1.2614355820894851,1.7649401778483673,0.9764705359996421,0.9557762438594473,1.2823880964428824],[1.3102871907220446,1.7549801703385666,0.9687802153829422,1.0341323749057962,1.2845899262865659],[1.180793554210503,1.7171314580363806,0.965775396021238,1.041727441949721,1.2741893573665568],[1.1526174239877263,1.6927291740746182,0.9836516088603269,1.082071468894777,1.2783126598378032],[1.1673856737076898,1.7843626480452697,0.9936847188109154,1.0788661327199476,1.2843984628218978],[1.181959534167747,1.790338690399756,1.0006111285779073,1.0747862159742765,1.288241408077023],[1.1965722959534162,1.81822701521206,0.985637854787925,1.07731706197533,1.2880567825932359],[1.1970386408335967,1.8361553325145632,0.9749936157501347,1.0793212725941164,1.2863199354494605],[1.2049667354238864,1.8381474102117428,0.9740768452158454,1.0945840693023428,1.2887269047195744],[1.1557265853396441,1.8172311666025147,0.9678125433987445,1.082654133443748,1.277143365107151],[1.137577219036125,1.6967131387319252,0.9640947146372408,1.0788661327199476,1.2843164070513258],[1.120516147795417,1.6892429434830396,0.9621084687096427,1.070961251552599,1.2825522079840266],[1.1357506234728598,1.681274823431374,0.9680672059831426,1.0665027487773808,1.284501032535113],[1.1770237776411998,1.7156374948830182,0.9807486698112202,1.0797765096213934,1.2969256437959],[1.1839416168880335,1.7131474933790736,0.9788133253335305,1.0814709059892578,1.2974726822663802],[1.1566592743227324,1.7016931427358293,0.9611407962161506,1.08167109366693,1.2913732033205234],[1.147215441115064,1.6832669011285535,0.9496307660160547,1.0724721913595638,1.2792836531229057],[1.1569702498026841,1.6638446206726878,0.9526864873369617,1.088300921754984,1.2840770777204906],[1.1532976085963014,1.6877489803296772,0.9523809227933607,1.1011960965694494,1.2890140999165765],[1.1705336178511552,1.6867529414810876,0.9416348034429727,1.1014140850680685,1.2806375733373447],[1.185379552465551,1.7111554156818942,0.9492742226097644,1.1043286725883006,1.2910313042764732],[1.1849908924798032,1.7280876941358077,0.9456581967480775,1.1060779308830928,1.2940810437494017],[1.2134778792598304,1.7440239342391393,0.9469824121385653,1.1185727304697113,1.29957878037773],[1.2079593105557591,1.7490039377450357,0.9410745763149736,1.1395180146666688,1.3073604026203143],[1.2053942971238831,1.7320716592911223,0.9324165832047814,1.1365677280964395,1.30590391269266],[1.219462911378147,1.738047891884653,0.9358797493818871,1.1572771255657268,1.3129128430956907],[1.2146826423972577,1.7255976926318632,0.938935548115575,1.1529421594704508,1.3153334883275665],[1.2002642694828582,1.736553738492246,0.9457091756107666,1.1450182128342756,1.3162908056509073],[1.1938517945872464,1.7255976926318632,0.9389864495654834,1.1612104520402717,1.315791633046594],[1.1922583718527073,1.72958165728917,0.939699458965283,1.174470205624483,1.31828065808728],[1.257510436119953,1.740039779342788,0.947186095860274,1.1790791895125792,1.3268828380355848],[1.281217272841792,1.7888445375053568,0.9491723417878722,1.175836889639873,1.3330233448667277],[1.2727838135116443,1.7948207700988874,0.9484084309381644,1.194651703191121,1.3342746953679516],[1.2918658691868878,1.8082670077022591,0.9385790047092848,1.2016641055585773,1.3339464722856633],[1.302708854403254,1.8242032478055907,0.9281894287651871,1.196691710140511,1.3292282654777696],[1.2666045110561224,1.8316732533134394,0.9229437003821922,1.1766746037934437,1.3198055278237442],[1.268003544530755,1.8396413733651051,0.9297682298365867,1.1637973272080289,1.3239425062567525],[1.2732501580031883,1.7335658121855213,0.9286987544432778,1.1755270755164489,1.3250502591594753],[1.2654774324244913,1.714641456532436,0.9282403302150954,1.1739971675212637,1.3279290491103786],[1.29952200854554,1.740039779342788,0.9350649370822709,1.1752721233199523,1.3381791824510059],[1.27084063211697,1.7270916557852256,0.9310924452270745,1.1711922065742812,1.339888677671257],[1.2599588637204202,1.695717100381343,0.9246243822754839,1.1590799812670651,1.342206753189918],[1.2717733211000584,1.6752987810768876,0.927629201637188,1.1580599777923701,1.342028965687012],[1.2598033761747625,1.6671813408055036,0.9212121175482866,1.1510475754249139,1.333392595834302],[1.2725506410715541,1.655876500621022,0.920397227326595,1.1520675788996089,1.3399228675756623],[1.2657495061901942,1.6762948199254775,0.9186146651207057,1.1589524565922626,1.33834329399215],[1.2613967989093013,1.7056772976321806,0.9254392719878811,1.1727222118500724,1.340900698841646],[1.262212902060981,1.749502052288853,0.9231983634758849,1.1848344371572885,1.3404015262373326],[1.2917881842924552,1.7604580981492357,0.9490705388880556,1.1923567439177374,1.3493524432105686],[1.293575878141472,1.7868526500472217,0.9594601148321532,1.1918468395247448,1.3502413807250992],[1.311616367602811,1.799800773604784,0.9601731242319528,1.1988591446115948,1.3576400760383474],[1.2962962609735769,1.7689243327447184,0.9576775526262639,1.2235682087013926,1.3523132889320442],[1.2584431254916775,1.7196214600383326,0.9535013770493589,1.2156888130128833,1.3427811435839225],[1.2823831342649705,1.7355576996436564,0.9596128971039538,1.2161988148139795,1.3490173821473994],[1.2744161379604322,1.7395418550380153,0.9559459692830639,1.2116727073724138,1.34344442772938],[1.3454588450860878,1.7644422535435946,0.9574738689045551,1.214031380342896,1.3454206042039905],[1.3809024546817688,1.7778884911469663,0.9669467517271445,1.229713520594687,1.3519371999835887],[1.3774824363839646,1.7734064119458424,0.959969440510244,1.2153063360140872,1.3493250912870447],[1.3831564930223297,1.6827689768237808,0.9796791170051306,1.208421458448931,1.3549937774373981],[1.3697641494206754,1.6538844229238425,0.9803412249550217,1.1868730823056908,1.3389587122714404],[1.3938828924072868,1.6598606555173732,0.9803921264049301,1.203959064831961,1.3527030538422613],[1.398157915182383,1.6573704637743845,0.9719887963884306,1.1976989708757864,1.34956442061788],[1.402355134528982,1.6733067033797082,0.9884898918778287,1.2076565044513383,1.3563340216900752],[1.39186202611818,1.7285856184405803,0.9861471804660157,1.2391484069103293,1.3587136390366652],[1.3936885031473805,1.8012947367581464,0.9943468267608064,1.2371083999609394,1.3593769231821227],[1.2592204454631732,1.7988047347561944,0.9900686929492283,1.2452809760642038,1.3527851096128334],[1.2452295157147055,1.7878486888958114,0.9970969835381125,1.2624803787248693,1.3531748745230507],[1.2436360925915302,1.7768924527963843,0.9909345620336092,1.2543205453610242,1.3470480436536698],[1.2533909012791504,1.8227090944131839,0.9880315455717218,1.2513881570198455,1.347130099424242],[1.2163926513518417,1.78336660919668,0.9761649719653358,1.2188762509586621,1.3201884547530804],[1.1933465487700894,1.773904336250615,0.9633307258654574,1.2256336038490159,1.3164138893067654],[1.2189576651723542,1.8194721113325583,0.9658262974711463,1.2187487262838597,1.325877654846077],[1.213788854739782,1.7778884911469663,0.9528902484714514,1.2127564246717046,1.3130359267515488],[1.2198904726895075,1.782370570846098,0.9471351944103658,1.210716417594817,1.3130564406941918],[1.2104077381562264,1.7758964139477944,0.9386299840812686,1.2045965913078596,1.3057603150941588],[1.231199684251989,1.788346613200584,0.9504965576876546,1.2079114566478346,1.320817548994133],[1.2371458146560568,1.782370570846098,0.9547746135771574,1.2238486463767284,1.3244621928037088],[1.2409933942652216,1.7689243327447184,0.9541125056272661,1.223593694180232,1.32229455286443],[1.2680424462450037,1.8022907756067361,0.9572192058108625,1.239785836105622,1.3311634140670943],[1.2949749120047407,1.8107570097042114,0.9568627403266476,1.2431007988537006,1.336948345892425],[1.2966072364535286,1.816235127753925,0.9543162672710505,1.2492207225487617,1.3368662901218527],[1.300104939257129,1.8615538455639595,0.9644002786715473,1.2642654334777628,1.3482720422313699],[1.3024367806375512,1.8839642420675868,0.9680163045332342,1.2817325314568366,1.3550142913800411],[1.3049628927438146,1.8675298879184459,0.9681690868050348,1.2822425330029377,1.358371739992615],[1.2938090505815623,1.874501969121522,0.9739240629440449,1.2823700572952477,1.362378796788884],[1.2886790229405374,1.892928210728798,0.9697478878764344,1.2918048468402739,1.359664118379125],[1.298122856148206,1.877988009474056,0.9735675974598302,1.2946098075322612,1.3661738761778421],[1.3284753402057472,1.881972164868415,0.9828876980106189,1.2863097063717017,1.3676098521628532],[1.333721953678181,1.9013944453242806,0.9791188898771315,1.3021321151851926,1.3676782319716632],[1.3214410328842972,1.9078686017245763,0.9778456533493329,1.3036621198234963,1.3653669944338835],[1.3176324731348101,1.917828609234377,0.9793735529708242,1.306849557769275,1.36990057575799],[1.3306129108603282,1.955677321536563,0.9756047448373367,1.3170493987199974,1.3691552358419605],[1.3174769855891524,1.9357569265368804,0.9775909902556402,1.2614604725307803,1.3680885108245238],[1.3444872543887507,1.9516931666402118,0.9711229273040497,1.2510056800210492,1.365989250694055],[1.3461583620177222,1.9716135611418868,0.9737712806722444,1.2618429495295767,1.3728682594603465],[1.3304574229260342,2.082171391263631,0.9683727705267435,1.254065593164528,1.3686492252567661],[1.2815281297876784,2.0308764413580738,0.9676088596770357,1.2493481499429582,1.359691470302649],[1.2876685309175877,2.0488047586605767,0.9755028640154445,1.2877249300946025,1.3646490064413779],[1.2845205863854863,2.054780801015063,0.9764196345497338,1.2932073271862676,1.365852491076435],[1.287124501531611,2.1354582291253315,0.9741787260377375,1.2961398134455402,1.3577084558471573],[1.2587541005829928,2.119023874976191,0.9768779813651353,1.2957572392936352,1.3567443005429356],[1.2737943059232302,2.126991994529849,0.9827349157388185,1.2859399724948177,1.3668987021512287],[1.2591815437489244,2.1210159521753624,0.9819200260264214,1.2951198090783624,1.3686697391994092],[1.2630679065382728,2.095866496397875,0.9867583090439231,1.29779724547804,1.3753641224819133],[1.287629747737404,2.0383466371049668,0.9880315455717218,1.2872149285485015,1.374707676317337],[1.2611247251435986,1.9248008806764976,0.9834988265885264,1.2884898846021853,1.363691689118037],[1.257743608560043,1.9447210854371357,0.9759103088716431,1.30863451536906,1.3558143351431189],[1.275543098057998,1.986055838091856,0.9794244544207326,1.2972872439319387,1.3664337194513203],[1.2511367444045247,1.9397410814332317,0.962617716465658,1.2478182420752704,1.3443402032247918],[1.2561112841112554,2.024900399003587,0.967965325670545,1.284537492148824,1.3558690389901669],[1.2507093012385928,2.017928317800511,0.9658262974711463,1.2763776586574815,1.352415858645259],[1.2531188271248115,2.0293824782047114,0.9667939694553439,1.284537492148824,1.348648131179825],[1.2337646980725012,2.007968120051666,0.9532467144649608,1.2645203858017566,1.330780487137758],[1.2374567901360085,2.0169322789519217,0.9519225764872538,1.2737002226402965,1.3307873251186388],[1.25428468854799,2.043326640610863,0.9608861336317525,1.2701303076957215,1.3456462575730639],[1.2521861381417232,2.06772911481167,0.9627704987374583,1.2701303076957215,1.343540159461714],[1.2318993197176884,2.0383466371049668,0.9458110564326588,1.2590379885825942,1.3232176802833657],[1.2541293195363974,2.045816832353852,0.9644002786715473,1.2851750192622102,1.3463232176802833],[1.225642213833669,2.0468126809633973,0.949427004881565,1.2879798817811088,1.318506311456353],[1.210174565716136,1.9721114854466595,0.946931433275876,1.2842825404623177,1.3034080496710931],[1.1909759242094837,1.9113546425751182,0.9346574922260723,1.2725526943633017,1.2819436276856169],[1.198204502256775,1.8909363232706629,0.9360835110256714,1.2590379885825942,1.2839676700263947],[1.1891104273206057,1.8834661275237696,0.9256429557095899,1.2436108006547968,1.2735671011063852],[1.1770237776411998,1.8981574617456474,0.9159154097933079,1.2272911339271069,1.2737517265901723],[1.1800552540986848,1.9148406829276523,0.9271708553310811,1.2452682333247844,1.2901628807045855],[1.1900431166923302,1.9561752458413357,0.8612172184699515,1.271915265168009,1.3019583977243199],[1.2254867262880111,2.0009960393465978,0.8313215718306004,1.3064670805154837,1.3274435524678272],[1.2163149668460456,2.0916334744686593,0.8239877172074098,1.3130969093685225,1.3177541335594425],[1.217131069997725,2.1215138764801353,0.825973963135008,1.336556502373486,1.3339669862283063],[1.1156192929831188,2.1663346699853974,0.8254647148696982,1.3415288979190496,1.3433760479205699],[1.1269286226910293,2.2260956642473935,0.8243951620636084,1.3401264175730558,1.3413588435606734],[1.1487699625239902,2.28436250561499,0.833206014858382,1.3609084785552035,1.357373394783988],[1.1430570045600126,2.26245022365518,0.8324930054585825,1.3685583092254694,1.3554929500417117],[1.162294547780914,2.272410420906018,0.8370257244417778,1.3639684891067856,1.3639378564297535],[1.187128344600319,2.293326664515246,0.837280309613395,1.3769731925764068,1.379938731691306],[1.1881388366232686,2.307768940967207,0.8370766258916862,1.3948228641973952,1.379774620150162],[1.1768295069153583,2.344621614420803,0.8283676539188047,1.384623024521648,1.3758701330671077],[1.1523842515476361,2.363545780332852,0.8241405768919912,1.3879379867597368,1.3837132971376211],[1.1528507145732452,2.3869522161830767,0.8223071132361937,1.3858979793003567,1.3889375145307092],[1.1653646892731542,2.417828657043142,0.8254138134197898,1.3898504686518314,1.3894230111732608],[1.185768093917234,2.460657372851225,0.8326457877303829,1.3875555095059453,1.3937582910518183],[1.2125840919909907,2.4427290555487216,0.8316781157461853,1.3986477310834715,1.394729284336921],[1.2106409105963165,2.5199202525694036,0.8246498251573011,1.4184098858715302,1.3937514530709372],[1.229956138323014,2.5149402490635073,0.8290806633186042,1.4384269923460948,1.3944899550060856],[1.274027477974684,2.5771912453274552,0.8360580524575802,1.4557666624209824,1.394825016069255],[1.2554894516854171,2.6080676861875207,0.8360580524575802,1.4533441789827863,1.3958507132014057],[1.2627958327725701,2.5771912453274552,0.8244970428855005,1.472213853695977,1.4030169171646996],[1.2690529382679534,2.518924403959858,0.8221542535516122,1.4620140140202298,1.4009108190533497],[1.2845983894253474,2.552290846821876,0.8181308602465075,1.4829235992946872,1.403666525348395],[1.29272087366418,2.541832725266266,0.8195568790461066,1.484963605479092,1.4110173547954759],[1.304418863357838,2.5811754002238065,0.8258211808632075,1.5124393052720024,1.4150586014961501],[1.3020870219774159,2.575697282174093,0.8238349349356093,1.4993707905696818,1.413431162046471],[1.2963740640134382,2.5861554042277106,0.824802606919807,1.5172204621906704,1.4173971909574539],[1.3160779517258836,2.576693321022683,0.8259230616850998,1.516327983390778,1.413793575033164],[1.2669542693276215,2.495019854063824,0.8227144806796112,1.4671139338581034,1.4041383460291845],[1.2681590324650487,2.5234062934199457,0.828469534740697,1.4615040124741285,1.4131029389641827],[1.2300338228288104,2.50398401296408,0.837891516113378,1.4780787280414334,1.4184228880896048],[1.231704930457782,2.510458169862383,0.8354978253295812,1.4724688066574585,1.4167749346972827],[1.2149936178772094,2.5393427232643138,0.831525333474385,1.4662214550582109,1.4191340381012294],[1.1917143424667305,2.4711154944068348,0.8243442606137001,1.43307211954674,1.4088360388944352],[1.2144883716714163,2.51543817336828,0.8300993146747857,1.4550017079133997,1.408500977831266],[1.1886051811148126,2.4504483080695154,0.8174687522966163,1.42733467259548,1.3854706582240397],[1.1945124101932683,2.487051734510166,0.8203208673085953,1.4231273284556125,1.3917547626536835],[1.1943570407930393,2.5019921255059447,0.7913419917128283,1.3990303065103515,1.3691894257463655],[1.1894990873063536,2.481075691657672,0.7795263195563507,1.37984186760298,1.3605051900274887],[1.146710195297907,2.4327688577998763,0.7711229895398511,1.3609722885129274,1.3489558403194704],[1.161556129523667,2.496015892912414,0.7737712654952651,1.3949503897646804,1.3764103335567073],[1.157086836022729,2.5353585683679625,0.8030557056346331,1.4362595574925188,1.4094651331354877],[1.165520176818812,2.5338646052146,0.8072828600742274,1.4251672390168788,1.4159065111253948],[1.1913256824809828,2.5473108433159797,0.8222052324143014,1.4399569969843986,1.421301678040508],[1.1903346413151574,2.4910358894065174,0.8262796050913899,1.4348570771465248,1.4237838651003132],[1.1776845113926502,2.5224104448104003,0.8241405768919912,1.4280997240011761,1.423585563654764],[1.2012358601801953,2.53286856636601,0.8267888528474051,1.4533441789827863,1.4282969324817767],[1.2127006778223997,2.5164342122168697,0.8174687522966163,1.4523242727886974,1.4295277690403578],[1.2059383261212235,2.5507968836685135,0.8151260408848034,1.43460202728693,1.42253935257997],[1.2061327153811299,2.51543817336828,0.817112286303107,1.4073175673958904,1.4078718835902135]],\"y\":[1.0,1.0045470965407992,1.0071508931528592,1.043329125972523,1.0352493388698396,1.0351327526497944,1.0312074881461972,1.0413120551053165,1.0599277662890159,1.056702018717053,1.0451595165690524,1.0511834500129815,1.0575570231943447,1.0500563713813507,1.0419726707113384,1.0633865673783676,1.1036881304607344,1.0727916174058525,1.0118145759137032,1.0600598894102202,1.0318293205720352,1.029886139177361,1.010376640724822,1.0372314215901264,1.0190820552866076,1.0113482314221591,1.018032780083474,0.9996113400142522,1.0054021010180914,1.0472581855093843,1.0463642793178436,1.0302358974488601,1.0483463624267666,1.0353659250898848,1.0335393295266193,1.0315184636261487,1.0099490790248253,1.0079669963045386,1.0230850042960011,1.027049051591146,1.0327620095551238,1.061404484658081,1.0710427067370196,1.0640473011298184,1.0643970597899537,1.065601822538745,1.0541370048965406,1.0653686504872908,1.069138427056594,1.0327620095551238,1.017527533877681,1.0022541564859895,0.9965022971963995,0.9998757044020897,0.9847654648612069,1.001710008954584,0.9949865585790205,1.0116590883680456,1.0310520006005395,1.035676781647135,1.016711312580573,1.0233647874395693,1.006684548661315,1.0068788193871563,0.992887948711403,1.0063736917154285,1.0148848355513722,1.02899223298582,1.0487350224125143,1.0604717952863563,1.0404570506280244,1.058412027671637,1.0392133861649846,1.0082002868900577,1.0116979896936582,1.0242508657191796,1.0450429303490074,1.0445765858574632,1.067583905647668,0.9902840930266288,0.9705802643868977,0.9863977302372803,0.9647118184886261,0.9815009344976964,1.0028758703777627,0.993820697155842,1.001632324448788,1.00532429797823,1.0110761576564564,1.0245618411991313,1.0279818594969354,1.0428276751886303,1.035948855801474,1.0264661208795565,1.0489292931383558,1.0401072923565253,1.0448874428033497,1.0219579260530063,1.0174497308378196,1.0172165583977295,1.038785942999053,1.0319459067920804,1.0369981310046075,1.0462089103062508,1.037192520264514,1.032606640543531,1.0383195985075087,1.0408844937939559,1.0760172464437503,1.0923400175726403,1.0678947625935542,1.055808231059577,1.0718200267085154,1.0648245025672491,1.0806420278789821,1.0950216176131977,1.08103068786473,1.0626870504467334,1.0623760753554181,1.0516885776847096,1.0574327279850708,1.0787377478099203,1.078659944770059,1.0792040923014647,1.096342966582034,1.1026777569718496,1.1038436183950282,1.111033413262136,1.1293381485772476,1.132991339315142,1.136100382132995,1.1645874878357234,1.195250828450515,1.1914422687010278,1.1926081301242064,1.1996813387712693,1.1818817311278855,1.1862345569428432,1.1794334220614833,1.1700283720339983,1.161789301575121,1.1791224465815318,1.2125840919909907,1.1896156735263985,1.175274985506432,1.1706502040712001,1.1875559059116794,1.1822703911136332,1.1697562978796594,1.168823608896571,1.153899990165015,1.1493528932355797,1.1552602408480999,1.1530449852990867,1.1424740738484234,1.132252920669259,1.1133263529283093,1.1069138780326973,1.1098286501247085,1.1157358788145277,1.1059422873353602,1.1259959337079408,1.127084110625323,1.1123158609053596,1.091795870041235,1.0943219821474983,1.1036493476691869,1.0919902593011412,1.1223815261502301,1.1411916262051995,1.1429793200542162,1.1498192381157601,1.1647817585615647,1.1673078706678286,1.1645098029412908,1.1614783264838058,1.157825254279976,1.1505965580872557,1.1821150217134044,1.2126773133979465,1.212778362716832,1.2294119904029723,1.2105631071678191,1.2208231620612322,1.2150713023830058,1.2363297115043772,1.228129543148385,1.2150325192028217,1.2473281846550375,1.2456181757004532,1.2232715896616992,1.2399052173478393,1.20488905091809,1.178461831364146,1.1590300174174033,1.1860169214039122,1.208227470754133,1.2074929660642149,1.1907815349495774,1.2066767443784705,1.2077649212958528,1.2783451978859295,1.2686642782822055,1.2923711150040447,1.2698924062327224,1.291088549215392,1.4122654307622597,1.3919397110126126,1.4095838311103386,1.4032878239007065,1.4147526415429108,1.3952120692880534,1.394193748964537,1.3947845075880567,1.384244669939712,1.335198790581311,1.3614317394094135,1.37724143642058,1.358400381097357,1.3844001574853695,1.4278341281986784,1.434728603021059,1.4231082978331973,1.418289245672124,1.4090785849045455,1.433757012323722,1.4469317207750811,1.4637597377211278,1.482142157930672,1.5028953212348872,1.5297501021001916,1.5246200748478032,1.4949283249303487,1.4999805491428757,1.4942675907902618,1.5038281287520405,1.4958222307332532,1.5070537577899383,1.4853290037883862,1.481675813439128,1.4932960000929247,1.511678538836534,1.5065485115841455,1.538844177036361,1.535851720049917,1.5630951612896056,1.565893347161572,1.5514360729215602,1.5716063051255496,1.5470832471066023,1.5287785114028543,1.5498426497983848,1.5466558039406708,1.5407096735366028,1.5297890038144404,1.5468889763807607,1.5620069843722235,1.5584703802430102,1.5454510411918796,1.5194901661294797,1.544984696311699,1.5384944183762257,1.538222344610523,1.5530293775106703,1.581943925990694,1.572189235837139,1.5540398695336197,1.506354240858304,1.5012242136059155,1.5328980466322932,1.493140631081332,1.5662431058217072,1.3939994782386957,1.3452644558261815,1.3522599799674477,1.346430435783425,1.3780653670955536,1.4032878239007065,1.4024717207490272,1.406047226592489,1.3573122041799748,1.3882088357689217,1.388791766480511,1.3744121767462956,1.3500447248070708,1.3594496563004905,1.3476351989208522,1.3671446973733912,1.3925615430498144,1.3983132841939758,1.3995958503712647,1.4072519897299163,1.3982355996881795,1.414247395337118,1.4471648928265353,1.4463487900634922,1.445960130077744,1.4400139996736763,1.4333683523379739,1.4404415609850365,1.4438226779572285,1.4524891908047652,1.4575415335513573,1.4720375909715528,1.4505072266185433,1.4339512830495633,1.4015001300516898,1.3674167711390939,1.378531711975734,1.3346158598697218,1.315417217974433,1.3147177010427986,1.3072363815528638,1.3329835350322978,1.3289805864115403,1.2965683347392796,1.2552951809595758,1.2349306780297449,1.2711127058826728,1.2895145769493415,1.2324044473894165,1.2114959150736087,1.227740883162637,1.2284014983800227,1.2579378792858846,1.262718148266774,1.285880837068571,1.279857022158707,1.2614355820894851,1.3102871907220446,1.180793554210503,1.1526174239877263,1.1673856737076898,1.181959534167747,1.1965722959534162,1.1970386408335967,1.2049667354238864,1.1557265853396441,1.137577219036125,1.120516147795417,1.1357506234728598,1.1770237776411998,1.1839416168880335,1.1566592743227324,1.147215441115064,1.1569702498026841,1.1532976085963014,1.1705336178511552,1.185379552465551,1.1849908924798032,1.2134778792598304,1.2079593105557591,1.2053942971238831,1.219462911378147,1.2146826423972577,1.2002642694828582,1.1938517945872464,1.1922583718527073,1.257510436119953,1.281217272841792,1.2727838135116443,1.2918658691868878,1.302708854403254,1.2666045110561224,1.268003544530755,1.2732501580031883,1.2654774324244913,1.29952200854554,1.27084063211697,1.2599588637204202,1.2717733211000584,1.2598033761747625,1.2725506410715541,1.2657495061901942,1.2613967989093013,1.262212902060981,1.2917881842924552,1.293575878141472,1.311616367602811,1.2962962609735769,1.2584431254916775,1.2823831342649705,1.2744161379604322,1.3454588450860878,1.3809024546817688,1.3774824363839646,1.3831564930223297,1.3697641494206754,1.3938828924072868,1.398157915182383,1.402355134528982,1.39186202611818,1.3936885031473805,1.2592204454631732,1.2452295157147055,1.2436360925915302,1.2533909012791504,1.2163926513518417,1.1933465487700894,1.2189576651723542,1.213788854739782,1.2198904726895075,1.2104077381562264,1.231199684251989,1.2371458146560568,1.2409933942652216,1.2680424462450037,1.2949749120047407,1.2966072364535286,1.300104939257129,1.3024367806375512,1.3049628927438146,1.2938090505815623,1.2886790229405374,1.298122856148206,1.3284753402057472,1.333721953678181,1.3214410328842972,1.3176324731348101,1.3306129108603282,1.3174769855891524,1.3444872543887507,1.3461583620177222,1.3304574229260342,1.2815281297876784,1.2876685309175877,1.2845205863854863,1.287124501531611,1.2587541005829928,1.2737943059232302,1.2591815437489244,1.2630679065382728,1.287629747737404,1.2611247251435986,1.257743608560043,1.275543098057998,1.2511367444045247,1.2561112841112554,1.2507093012385928,1.2531188271248115,1.2337646980725012,1.2374567901360085,1.25428468854799,1.2521861381417232,1.2318993197176884,1.2541293195363974,1.225642213833669,1.210174565716136,1.1909759242094837,1.198204502256775,1.1891104273206057,1.1770237776411998,1.1800552540986848,1.1900431166923302,1.2254867262880111,1.2163149668460456,1.217131069997725,1.1156192929831188,1.1269286226910293,1.1487699625239902,1.1430570045600126,1.162294547780914,1.187128344600319,1.1881388366232686,1.1768295069153583,1.1523842515476361,1.1528507145732452,1.1653646892731542,1.185768093917234,1.2125840919909907,1.2106409105963165,1.229956138323014,1.274027477974684,1.2554894516854171,1.2627958327725701,1.2690529382679534,1.2845983894253474,1.29272087366418,1.304418863357838,1.3020870219774159,1.2963740640134382,1.3160779517258836,1.2669542693276215,1.2681590324650487,1.2300338228288104,1.231704930457782,1.2149936178772094,1.1917143424667305,1.2144883716714163,1.1886051811148126,1.1945124101932683,1.1943570407930393,1.1894990873063536,1.146710195297907,1.161556129523667,1.157086836022729,1.165520176818812,1.1913256824809828,1.1903346413151574,1.1776845113926502,1.2012358601801953,1.2127006778223997,1.2059383261212235,1.2061327153811299],\"type\":\"scatter\"},{\"line\":{\"color\":\"blue\",\"width\":2},\"mode\":\"lines\",\"name\":\"YHOO\",\"x\":[[1.0,1.0,1.0,1.0,1.0],[1.0045470965407992,0.9850597992432663,0.994499609032607,0.9873700883612928,0.9979144158312933],[1.0071508931528592,0.9890438590200952,0.9879806441218134,0.9598739615535632,1.0027693822568071],[1.043329125972523,0.9661354430921731,0.9836516088603269,0.9542284377627092,0.9996375870133067],[1.0352493388698396,0.9790836617692575,0.9822764915106361,0.9567961500535361,0.9963963840757102],[1.0351327526497944,0.9626494022416311,0.9794754332834217,0.9418420002289579,0.9990426826766592],[1.0312074881461972,0.9457171237877178,0.9823274708826198,0.9535169838910563,1.006632841454575],[1.0413120551053165,0.9606574201619819,0.9903233555336264,0.947671175141924,1.0065849755884082],[1.0599277662890159,0.9676295013650579,0.9810032549828376,0.9138843135370468,1.0056481722077104],[1.056702018717053,0.9721115805661816,0.9803921264049301,0.8850507817539119,1.0067832770339573],[1.0451595165690524,0.9995019805757052,0.980850472711037,0.921789194576898,1.0069815784795066],[1.0511834500129815,1.0024900020019523,0.9862489833658324,0.9155775426651357,1.012663940591622],[1.0575570231943447,0.9970119790717609,0.9904252363555186,0.9106968755912681,1.0161102829556488],[1.0500563713813507,0.9910358415977524,0.9986248826503091,0.9193846088577624,1.0206096743753503],[1.0419726707113384,1.0014940582728848,1.0426279339952615,0.9362053282082744,1.0221482200735765],[1.0633865673783676,1.0179283173025033,1.041100034883065,0.820537068840745,1.0221550580544576],[1.1036881304607344,1.0144422769499692,1.0439011705230603,0.8011944039634017,1.0277211744915962],[1.0727916174058525,1.0114541609022079,1.0436974093885705,0.8193168778158754,1.0258202158066767],[1.0118145759137032,0.9810757389684294,1.0384516810055755,0.8346893010973511,1.0310581091615267],[1.0600598894102202,1.0019920776971796,1.0365164144499612,0.8320666295989902,1.0270373764034955],[1.0318293205720352,0.977589603496373,1.034224603978762,0.8296263445748621,1.0244047537643084],[1.029886139177361,0.9840637603946764,1.044970645916369,0.8262209181304642,1.0347027529711026],[1.010376640724822,0.9631474216659262,1.0378914538775763,0.80563131222903,1.022763638352867],[1.0372314215901264,0.9790836617692575,1.032798507766382,0.8339141335286003,1.0334172125654737],[1.0190820552866076,0.9885458395958002,1.0237840491719752,0.833013970198313,1.033984764978597],[1.0113482314221591,1.0119521798284947,1.0172650842611815,0.852813088046761,1.0321179961980826],[1.018032780083474,1.0209163387287503,1.0271453345271886,0.8651255009041519,1.0379576318704613],[0.9996113400142522,1.040836638608911,1.0194041124605802,0.8741408493700124,1.0373285376294088],[1.0054021010180914,1.0562748587899398,1.0187929059605971,0.8522304234977901,1.038983329002612],[1.0472581855093843,1.0532868378617006,1.0190475685449953,0.850608592597194,1.0395987472819026],[1.0463642793178436,1.0547808961345853,1.016806660032999,0.8498436385996015,1.0403167352744083],[1.0302358974488601,1.0465637188110108,1.0235802875281907,0.8381316912396262,1.0392294963143283],[1.0483463624267666,1.060259014184299,1.0202190021729771,0.837823141636584,1.0468538449966494],[1.0353659250898848,1.0418326774575009,1.0150750771990935,0.8175319203435879,1.0338685193036201],[1.0335393295266193,1.037350597758369,1.0100840114004968,0.8124511628726542,1.0273519235240218],[1.0315184636261487,1.0567728782142345,1.0241405146561897,0.8211018352881628,1.036364382325187],[1.0099490790248253,1.0323704991329503,1.0059077584108107,0.8065123126823871,1.0173889853803968],[1.0079669963045386,1.033864557405835,1.0142092855274936,0.8177512706431951,1.0236047100012309],[1.0230850042960011,1.0537848572859954,1.0304557958452745,0.8097367143260429,1.0366310635795462],[1.027049051591146,1.06100599576098,1.0228163766784828,0.8039623526359528,1.0357352880841344],[1.0327620095551238,1.0926295128192411,1.033409714266365,0.784054921438689,1.0381422573542485],[1.061404484658081,1.1304781300019051,1.0450216247790582,0.7650756193872638,1.0429288439709523],[1.0710427067370196,1.1429283292546948,1.0518461542334527,0.7852826997133473,1.052905458076339],[1.0640473011298184,1.1354581340058092,1.0612681356061338,0.7752983675620199,1.054047400883467],[1.0643970597899537,1.1304781300019051,1.066564765439037,0.7842589026775069,1.0559620355301487],[1.065601822538745,1.1404382326312281,1.0714540278285227,0.7863320310595764,1.0606939182998045],[1.0541370048965406,1.1254980313764862,1.0699261282070314,0.7975339280419013,1.064140260663831],[1.0653686504872908,1.1155378341256488,1.0723198195001227,0.7803396321668152,1.0615828558143352],[1.069138427056594,1.1125498126994018,1.0800101401168227,0.7801943064160708,1.0629778039140603],[1.0327620095551238,1.1170318923985336,1.0990577865838935,0.7877523610580666,1.068933685261416],[1.017527533877681,1.0991035745980222,1.0945759690506065,0.8080792816560554,1.0672036760985215],[1.0022541564859895,1.096115553669783,1.085867074490506,0.8300457852715353,1.0613230125408568],[0.9965022971963995,1.104083673721449,1.0870384301964124,0.8278044235321951,1.0587519317295988],[0.9998757044020897,1.1003485755989983,1.095288978450406,0.8234159571834817,1.0658429179032016],[0.9847654648612069,1.1384462500535708,1.0810287135509287,0.8245990873573658,1.0570150845858235],[1.001710008954584,1.1583665499337312,1.0801120204294203,0.8413191291854049,1.0645984053828585],[0.9949865585790205,1.1643425922882176,1.0732874914843202,0.8443612415079367,1.0610426553247356],[1.0116590883680456,1.17480080896335,1.0815380392290195,0.8399103259825069,1.0693029362289903],[1.0310520006005395,1.17480080896335,1.0740514023340282,0.8234159571834817,1.0686738419879376],[1.035676781647135,1.1717629195090158,1.0863254213059075,0.806257311781839,1.0730091218664952],[1.016711312580573,1.1703187297622262,1.0816399200509115,0.7812142613142113,1.0682088592880294],[1.0233647874395693,1.1842629872879005,1.0917239314514082,0.7828207230265204,1.0737339478398817],[1.006684548661315,1.1643425922882176,1.0830659388505106,0.7868241345041246,1.0624102515009368],[1.0068788193871563,1.1713147686108158,1.076190430533427,0.7790468268431276,1.0667113414750893],[0.992887948711403,1.1603585325113885,1.0665138639891287,0.7708130173794767,1.0621298942848154],[1.0063736917154285,1.1693226909136363,1.0660555171737272,0.7762954145986393,1.0688242775673198],[1.0148848355513722,1.1867529887918447,1.0655461914956366,0.7776978950721305,1.0726125189753968],[1.02899223298582,1.205179325518643,1.0797045755732217,0.7935624219256519,1.0856867384198794],[1.0487350224125143,1.2193725451967035,1.0843900768282178,0.7910851247545897,1.0895433596367663],[1.0604717952863563,1.229581704599927,1.076546973939717,0.7828347789903737,1.086452592278552],[1.0404570506280244,1.1942230894192156,1.0657498752173453,0.7647122565613457,1.061500800043763],[1.058412027671637,1.1847610067121954,1.0797045755732217,0.7763502278215152,1.076687955580476],[1.0392133861649846,1.1802789270130636,1.0678380019668356,0.7336576930280788,1.0612614707129278],[1.0082002868900577,1.1584163233403042,1.0550037558669574,0.7140766122548042,1.0541499705966821],[1.0116979896936582,1.1688246714893413,0.967659761126944,0.7113086637097507,1.0634769765183736],[1.0242508657191796,1.1927291262658533,0.956608077232955,0.7261353374360807,1.0684345126571027],[1.0450429303490074,1.2141433892993763,0.9758594074217347,0.7397227546687147,1.0795667455313793],[1.0445765858574632,1.2325697260261743,0.9763687330998255,0.7385051413886605,1.0795735835122604],[1.067583905647668,1.2549801225298014,0.9877768824780291,0.7438205209393848,1.083929377333461],[0.9902840930266288,1.2290836856736402,0.9896103466431214,0.7598941359448006,1.0819326869162074],[0.9705802643868977,1.2166334864208506,1.014260186977402,0.7834174435393447,1.0897074711779104],[0.9863977302372803,1.2315736871775846,1.0315252712385834,0.806476613504892,1.0924153116067887],[0.9647118184886261,1.210159329522547,1.0167048571331823,0.8001195872658308,1.0822472340367335],[0.9815009344976964,1.2435258670060791,1.0307613603888754,0.8114668585754544,1.0924289875685507],[1.0028758703777627,1.2485059656314978,1.0415583811891718,0.8195909927618042,1.103937309391283],[0.993820697155842,1.2534860647549246,1.0327476063164736,0.8391337966127681,1.1060434075026326],[1.001632324448788,1.2983067626426565,1.0370766415779602,0.8353968641272523,1.111828339327963],[1.00532429797823,1.3152390415945778,1.0431372596733521,0.8448355441315377,1.11643030046088],[1.0110761576564564,1.3067729021186172,1.035090395650362,0.8319582675461229,1.1123138359705147],[1.0245618411991313,1.3361553798253203,1.041354697467463,0.8250364261555921,1.1171209365298613],[1.0279818594969354,1.3142430027459882,1.031168805245074,0.8282608277992478,1.1171688023960284],[1.0428276751886303,1.3266932019987778,1.0349376133785615,0.8084439090023553,1.1284993367158545],[1.035948855801474,1.3615537977551946,1.0354978405065605,0.7811046347409621,1.134270592579423],[1.0264661208795565,1.3237051805725306,1.042475151723461,0.791537735460497,1.1285882304673076],[1.0489292931383558,1.3207171596442915,1.0615736996404401,0.7891369433025072,1.140212797965017],[1.0401072923565253,1.3237051805725306,1.0572956437509375,0.8067494640579363,1.1394059162210581],[1.0448874428033497,1.344621519301281,1.062643175033749,0.8007940774396065,1.1413684167339069],[1.0219579260530063,1.3217131984928814,1.0541889435673413,0.8038794760619246,1.1319251651372382],[1.0174497308378196,1.2958167611387121,1.0499617891277468,0.8053112844069499,1.1286155823908315],[1.0172165583977295,1.311254981319741,1.0477208801064561,0.8107936814986149,1.12799332613066],[1.038785942999053,1.2983067626426565,1.0582123368724459,0.8040337508634456,1.1351458541321917],[1.0319459067920804,1.28535854446358,1.0589253462722454,0.8104290541523149,1.1271454165014154],[1.0369981310046075,1.311254981319741,1.0662592008954361,0.8225043157616541,1.1312823949344237],[1.0462089103062508,1.3097609235448642,1.0594346719503362,0.8191448020659098,1.1150968941890838],[1.037192520264514,1.3142430027459882,1.0641710741459458,0.8209387085889738,1.1217160596818971],[1.032606640543531,1.307768940967207,1.0501145708902526,0.8183696343696613,1.1155345249654682],[1.0383195985075087,1.2823705230373328,1.0325439225947648,0.8107197541028608,1.100162743944968],[1.0408844937939559,1.3052788438457326,1.0379424332495601,0.7986074802190903,1.1095034258284213],[1.0760172464437503,1.3466135969984607,1.0509294611119444,0.8047120347258645,1.1237401020226747],[1.0923400175726403,1.3316733006241965,1.044155833616753,0.7993915969661153,1.1233503371124574],[1.0678947625935542,1.314741022170283,1.0388591258617739,0.7970418244698557,1.1119445850029404],[1.055808231059577,1.2893426042404088,1.024700741784189,0.7871875460340944,1.102638093023892],[1.0718200267085154,1.3132470590169205,1.0377896509777598,0.794063474548474,1.1189398394442087],[1.0648245025672491,1.308764979815797,1.0297936878953833,0.7832899187370448,1.1123548638558005],[1.0806420278789821,1.3217131984928814,1.0340717442941805,0.7868419841566209,1.1207724183203183],[1.0950216176131977,1.3276892408473675,1.0433918448449695,0.7864225434599476,1.1295045199053622],[1.08103068786473,1.3067729021186172,1.0284695499176764,0.7704496545535587,1.1138592196496218],[1.0626870504467334,1.2624502231571724,1.0050929461111944,0.7592260657810378,1.0860012855404055],[1.0623760753554181,1.2544821031055065,0.9954672810168046,0.7531456835286692,1.0889005894339518],[1.0516885776847096,1.1984562064679531,0.9856887562378334,0.7331833904044777,1.0756759344100872],[1.0574327279850708,1.242778885429398,0.993022610861024,0.7333478787771572,1.0858918778463094],[1.0787377478099203,1.2592131449570245,0.9924114822831167,0.7250414065656317,1.0963061227280808],[1.078659944770059,1.2684262655116585,0.9964348755882213,0.7172283510230878,1.1031030757238003],[1.0792040923014647,1.251493987057745,0.9733129343661375,0.7222364456186492,1.0983711929541444],[1.096342966582034,1.2569721051074587,0.9741787260377375,0.7453504775111242,1.104306560358857],[1.1026777569718496,1.244521905854669,0.9752991802937356,0.7622350079668379,1.1037048180413287],[1.1038436183950282,1.274402402985667,0.984211835988326,0.7664424006832599,1.1046142694985024],[1.111033413262136,1.278884482684799,0.9927679482766261,0.7602855619943735,1.1158832619903996],[1.1293381485772476,1.2711653247855192,0.993022610861024,0.7559697586485298,1.121743411605421],[1.132991339315142,1.3284362224240487,0.9742806068596297,0.7692652112827386,1.1298532569302935],[1.136100382132995,1.3227091422219488,0.9791188898771315,0.7663149245850116,1.1300583963567237],[1.1645874878357234,1.3466135969984607,0.9819200260264214,0.7782588678309053,1.145375473530176],[1.195250828450515,1.356075679705481,0.978202196755623,0.7768423800976125,1.148910709645656],[1.1914422687010278,1.3615537977551946,0.9880315455717218,0.7785368250420315,1.1504902832291681],[1.1926081301242064,1.3386453818272726,0.9872676347220138,0.7835538686883694,1.1462233831594206],[1.1996813387712693,1.4770916318808431,0.9908326817210117,0.7837642213606457,1.1494030442690881],[1.1818817311278855,1.4770916318808431,1.0083524285665912,0.7864008515422538,1.1551879760944188],[1.1862345569428432,1.4497012313733117,0.9856887562378334,0.7740004553252555,1.1570479068940522],[1.1794334220614833,1.3874502351093636,0.9884898918778287,0.7764777526238151,1.1594001723171181],[1.1700283720339983,1.3625498366037843,0.993022610861024,0.7631453362917292,1.1572530463204824],[1.161789301575121,1.386454196260774,1.001324137977707,0.8023418836638423,1.152842548652234],[1.1791224465815318,1.407868554413819,1.0044308381613032,0.7986814076148444,1.1557897184119472],[1.2125840919909907,1.3999004343621533,1.0050929461111944,0.8032165128112384,1.156747035735288],[1.1896156735263985,1.390886502055325,0.9992869906002004,0.8156016371205559,1.1524254318184926],[1.175274985506432,1.3969123183143917,0.998268339244019,0.8256739527589882,1.152856224613996],[1.1706502040712001,1.3989043955135636,0.993328175404625,0.82423450858762,1.1526989510537329],[1.1875559059116794,1.39243023861526,0.9972497658099131,0.8317861917961572,1.1671544426361782],[1.1822703911136332,1.3769920184342312,0.993939381904608,0.8424666574623998,1.1690690772828598],[1.1697562978796594,1.3779880572828211,0.9956709647385135,0.8550531853932171,1.1673390681199656],[1.168823608896571,1.3605577589066047,0.9727018057882301,0.8474033537029707,1.1606583607992231],[1.153899990165015,1.3640437997571466,0.9603259065037534,0.8469111529778167,1.1562410251500936],[1.1493528932355797,1.3685258789582706,0.957117325498265,0.8396807619842438,1.1607335785889141],[1.1552602408480999,1.3784860767071159,0.9565571757830467,0.8277317606568227,1.156589762175025],[1.1530449852990867,1.411852614190648,0.9630251613218564,0.8512461190730928,1.155256355903229],[1.1424740738484234,1.411354594766353,0.9596128971039538,0.8916997725913982,1.1584633689364205],[1.132252920669259,1.3969123183143917,0.9550801781207583,0.9079646746727664,1.1524664597037786],[1.1133263529283093,1.351693242437025,0.9462184238760765,0.9068898092711438,1.1360074397231985],[1.1069138780326973,1.3605577589066047,0.9439266134048773,0.9149400161892369,1.1322533882195265],[1.1098286501247085,1.3401394401001572,0.9382734401656837,0.9247943432015526,1.125572680898784],[1.1157358788145277,1.3505976567752895,0.9399541220589755,0.9126450569158533,1.1298737708729365],[1.1059422873353602,1.3476095407275281,0.9414820211711723,0.9149948779886671,1.1233434991315763],[1.1259959337079408,1.389442217687021,0.9431627025551694,0.9160875443387344,1.1330260800590801],[1.127084110625323,1.3939242968881447,0.9443340587703705,0.9125545930920363,1.1374981195552576],[1.1123158609053596,1.379731077210084,0.9408708925932648,0.9161066098075608,1.132902996403222],[1.091795870041235,1.3446712927078537,0.930685000370876,0.8899148151191107,1.1149191066861777],[1.0943219821474983,1.3500996373509946,0.9277310824590802,0.8941145720091896,1.1179825221208681],[1.1036493476691869,1.3595617205560229,0.9301756746927852,0.8955795016593971,1.120177513983671],[1.0919902593011412,1.3505976567752895,0.9282913095870793,0.8874120810457637,1.116621763925548],[1.1223815261502301,1.3834661753325348,0.9368984007380685,0.8898956523696782,1.1212715909246318],[1.1411916262051995,1.3979083566649735,0.9326712462984741,0.9083127171419468,1.13037294347725],[1.1429793200542162,1.4058764767166394,0.9378659953094852,0.9020819023532547,1.131740539653451],[1.1498192381157601,1.4028884557884003,0.9321619206203834,0.9074546729991678,1.13180208148138],[1.1647817585615647,1.4561752931520928,0.9420931497490795,0.9219345203276424,1.1431121018585633],[1.1673078706678286,1.4681274729805878,0.9503437754158542,0.9009344713568658,1.1515091423804378],[1.1645098029412908,1.4536852911501406,0.9712248076166472,0.851883548395883,1.1550238645532747],[1.1614783264838058,1.4765936124565484,0.9713775898884476,0.8609537586611734,1.1511193774702206],[1.157825254279976,1.4571713320006827,0.978711445020933,0.846765827227072,1.15424433473284],[1.1505965580872557,1.4750996493031858,0.9837025103102353,0.8198460422389067,1.1608156343594862],[1.1821150217134044,1.4940239103347568,0.9786605435710246,0.8293165304514379,1.1657116286702862],[1.2126773133979465,1.5156872306401883,0.9901705737711205,0.8463654519992252,1.1799072769792536],[1.212778362716832,1.5453187656188,0.9849248453881254,0.8602435693099025,1.1777327990590938],[1.2294119904029723,1.5400896097214725,0.9677616419488362,0.8513379446978975,1.169233188824004],[1.2105631071678191,1.5069721290118412,0.9727018057882301,0.8936479540434809,1.1637149382530325],[1.2208231620612322,1.5572709454472946,0.9675069788551436,0.8908429930964984,1.1606925507036283],[1.2150713023830058,1.560756985799829,0.9649605057995464,0.877055436890244,1.1575128895939606],[1.2363297115043772,1.6309761021154427,0.9687802153829422,0.8855977471253877,1.1615472983137538],[1.228129543148385,1.6708167018757638,0.9519734779371621,0.879277733160758,1.1568154155440982],[1.2150325192028217,1.6518923457246708,0.9431117236924803,0.8683486380274258,1.1498406750454724],[1.2473281846550375,1.7086654136799422,0.949223321159856,0.8887673842502194,1.1590377593304249],[1.2456181757004532,1.700199179582467,0.941991346849263,0.8916807071225717,1.1582650674908712],[1.2232715896616992,1.687001998752996,0.9363890750599778,0.8804800260840745,1.147864498570862],[1.2399052173478393,1.737549777340836,0.9376114101378681,0.8797877349618544,1.1559606679339725],[1.20488905091809,1.700199179582467,0.9269670936872968,0.888384809970817,1.1461276514270864],[1.178461831364146,1.6399402610156981,0.910211335104206,0.8759806687692275,1.1319935449460483],[1.1590300174174033,1.6439242256730051,0.9234530260602828,0.886268443738018,1.1326431531297438],[1.1860169214039122,1.6867529414810876,0.9410236748650654,0.8918235037050551,1.1573692919954595],[1.208227470754133,1.700697294126284,0.948102866903858,0.8976042368286038,1.1646449036528495],[1.2074929660642149,1.693227098379391,0.9522281405215602,0.9034843828267459,1.1693904623842672],[1.1907815349495774,1.6623506575193254,0.9404634477370664,0.908292289744635,1.1611301814800126],[1.2066767443784705,1.6478586071627834,0.9510058054436699,0.9127254043216202,1.1771857605886134],[1.2077649212958528,1.6307270448435343,0.8903997777874273,0.9188925052857169,1.1851246563914608],[1.2783451978859295,1.6648904329278504,0.8850521690918347,0.9268891147972641,1.192885764691402],[1.2686642782822055,1.6962152144271525,0.8803666678368389,0.9496053492067077,1.192995172385498],[1.2923711150040447,1.6902389823316295,0.891112787187227,0.9468832648337534,1.1998399912473845],[1.2698924062327224,1.6484063048741289,0.8951871598643154,0.9561587208582435,1.194171305097031],[1.291088549215392,1.6474104562645837,0.9055258343585048,0.9688166470165537,1.198062116218323],[1.4122654307622597,1.6060757036098634,0.9006875508317084,0.9579768484672625,1.2033273614966973],[1.3919397110126126,1.61105570711576,0.9032340238873056,0.9651128846677695,1.2049274490228523],[1.4095838311103386,1.6518425723180978,0.9275273208152959,0.9410731552621162,1.2116560222097619],[1.4032878239007065,1.6220119432151874,0.9174942108647075,0.9560414097545996,1.205748006728573],[1.4147526415429108,1.6404381853204708,0.912706906709895,0.9520456341033384,1.2011186936721323],[1.3952120692880534,1.6524402336750608,0.9128087096097115,0.9471790716973759,1.2046060639214453],[1.394193748964537,1.6528883845732605,0.9181054173646904,0.9594188216793945,1.2089071538955978],[1.3947845075880567,1.64193233821487,0.9057804969429029,0.9570486704898749,1.205515515378619],[1.384244669939712,1.637450259013746,0.9126050258880027,0.9487995406694862,1.210657677001135],[1.335198790581311,1.5991036224067874,0.9167303000149996,0.9334488091782068,1.1946978296248685],[1.3614317394094135,1.6494023437227188,0.9166793985650912,0.9481442132451432,1.210739732771707],[1.37724143642058,1.6840138827052347,0.9313980097706754,0.9453902232558392,1.2116149943244758],[1.358400381097357,1.6967131387319252,0.9323656817548731,0.9471421079994989,1.2087430423544536],[1.3844001574853695,1.7482569561683545,0.9348102744978728,0.9482793252972317,1.2185281929951723],[1.4278341281986784,1.777390377101157,0.9279857450434783,0.9619866313783252,1.224422532514599],[1.434728603021059,1.7664343307427663,0.9329768103327805,0.9562148473055532,1.229592046060639],[1.4231082978331973,1.7417827992700512,0.9394957752435742,0.944627798426508,1.2250447887747704],[1.418289245672124,1.7246016537832736,0.9434682670987704,0.9463043938459279,1.2225420877723225],[1.4090785849045455,1.773904336250615,0.9431627025551694,0.9380171329603891,1.218097400199669],[1.433757012323722,1.8077688936564498,0.9377641924096686,0.9491934958873204,1.227998796515365],[1.4469317207750811,1.8172311666025147,0.9233511457476853,0.9467596310007026,1.2340914374803407],[1.4637597377211278,1.807270969351677,0.9113317893602041,0.9539364244602321,1.2325323778394714],[1.482142157930672,1.8247011721103634,0.9030302627528158,0.9715310469866107,1.2327170033232586],[1.5028953212348872,1.8406374117156872,0.9114845716320047,0.9944079762075881,1.235780418757949],[1.5297501021001916,1.8416334505642769,0.9151005200809108,1.0128224145309896,1.2348094254728463],[1.5246200748478032,1.8431274137176392,0.9038960539151213,1.0040059892224196,1.2314519768602727],[1.4949283249303487,1.8207172069550488,0.8967659604264203,1.0314944314997545,1.2275201378536946],[1.4999805491428757,1.8989044433223286,0.8950343775925148,1.0290873166123577,1.2259200503275391],[1.4942675907902618,1.9357569265368804,0.8967659604264203,1.0343707908017274,1.220600101202117],[1.5038281287520405,1.9352590022321077,0.9048637264086136,1.0200171063470673,1.2343170908494139],[1.4958222307332532,1.9357569265368804,0.9037942510153046,1.0316920900091655,1.2365599485783836],[1.5070537577899383,2.0029881165457697,0.9020625902593237,1.0300894219854997,1.2326281095718055],[1.4853290037883862,1.949950146214941,0.8922841428931333,1.0224573912436978,1.2186786285745546],[1.481675813439128,1.9596612861938698,0.8829640423423445,1.0209631824260081,1.2140835054225187],[1.4932960000929247,1.9785856423449628,0.8800611038025326,1.0098351642628831,1.2139604217666606],[1.511678538836534,1.9785856423449628,0.9057804969429029,1.0154271879277974,1.2216326363151488],[1.5065485115841455,1.9676294062455357,0.8951361804923316,1.010855167737578,1.2178443949070719],[1.538844177036361,1.9940239581435217,0.9101094542823138,1.0031682750688486,1.238119008219253],[1.535851720049917,2.00199207769718,0.9178507542709977,0.991675678135978,1.2374010202267474],[1.5630951612896056,1.9980079228008285,0.9168321808368918,0.99998083712307,1.2433637395549841],[1.565893347161572,2.030378517053301,0.9280875479432948,1.0383576172747147,1.2499760670669164],[1.5514360729215602,2.0343624817106076,0.9331295926045811,1.0339500855846724,1.2536207108764923],[1.5716063051255496,2.0244024746988147,0.9439775927768611,1.027083008840463,1.2595697542429671],[1.5470832471066023,2.016434354647149,0.9426024754271703,1.0201446311493674,1.2591457994283448],[1.5287785114028543,2.00199207769718,0.9493761034316566,1.0099983881151806,1.2589201460592716],[1.5498426497983848,2.01394416290416,0.955283939255248,1.02183776299685,1.2639050341215246],[1.5466558039406708,1.9716135611418868,0.9448942858983694,1.007467542114127,1.2527044214384375],[1.5407096735366028,1.9980079228008285,0.950547459137563,0.9853377659422977,1.2522873046046963],[1.5297890038144404,1.988545840093808,0.9472879766821662,0.9907105365882108,1.2491418333994337],[1.5468889763807607,2.03784852256115,0.9661828408774366,0.9836204131363575,1.256738830158231],[1.5620069843722235,2.0428287163060905,0.9573210866327547,0.9898537569658133,1.2564721489038717],[1.5584703802430102,2.03784852256115,0.9543162672710505,0.977212367235566,1.256909779680256],[1.5454510411918796,2.053286837861701,0.9537050607710676,0.9706934301136458,1.2598090835738023],[1.5194901661294797,1.9915339561415697,0.9379169746814691,0.9757754521049615,1.2439654818725125],[1.544984696311699,2.0488047586605767,0.9468805318259678,0.9951908284342315,1.2574226282463314],[1.5384944183762257,2.045318717810035,0.9561497309268482,1.015172235731301,1.2639187100832867],[1.538222344610523,2.008964158900256,0.9613444799378593,1.0095074519104084,1.2622160528439164],[1.5530293775106703,1.9925298047511149,0.9681181074330508,0.9847729994948798,1.2572995445904733],[1.581943925990694,1.9681275207893527,0.9596637985538622,1.0000726627478747,1.260786914839786],[1.572189235837139,2.0009960393465978,0.9281894287651871,1.004515991023516,1.2615117408131726],[1.5540398695336197,1.9616533638910494,0.930634020998892,1.013022602208662,1.2502974521683237],[1.506354240858304,1.8879482072229012,0.9148968363592019,0.9946081638852604,1.2241968791455258],[1.5012242136059155,1.8251992866541804,0.90603508211452,1.0026774361446824,1.2182273218364081],[1.5328980466322932,1.9033865225234523,0.9006875508317084,0.922535083105664,1.225708072920228],[1.493140631081332,1.737549777340836,0.8983956629477283,0.9120623923668824,1.213194567907988],[1.5662431058217072,1.7584662106911007,0.9032849253372139,0.910299126684791,1.226863691689118],[1.3939994782386957,1.793227069893335,0.8998216817473275,0.9117895419413353,1.2189316338671516],[1.3452644558261815,1.738047891884653,0.8805703515585478,0.9134827710694242,1.1911010516814595],[1.3522599799674477,1.7758964139477944,0.8802647870149467,0.9267068253486425,1.2002024042340778],[1.346430435783425,1.767430369591356,0.8873949584257231,0.9336273049381854,1.1977680830404398],[1.3780653670955536,1.804780967349725,0.8895848880750302,0.9334819791874407,1.2126680433801507],[1.4032878239007065,1.8540836498170665,0.9027246982092149,0.9465415450939797,1.2287988402784424],[1.4024717207490272,1.8804780114760082,0.9021644710812158,0.9634987382975683,1.230727150886886],[1.406047226592489,1.9173306849296043,0.9152024003935083,0.976193628281253,1.244341570820968],[1.3573122041799748,1.8979084044737389,0.9179526350928898,0.9761209654058807,1.2440065097577986],[1.3882088357689217,1.9183267237781942,0.9261013020156967,0.9916209134896563,1.2512342555490215],[1.388791766480511,1.903884446828225,0.9355232833883778,0.9908201630339625,1.2572516787243062],[1.3744121767462956,1.9076195449506754,0.9329768103327805,0.9944627408539098,1.2587081686519603],[1.3500447248070708,1.882968203218997,0.9317544752548903,0.9787614378526861,1.2504957536138728],[1.3594496563004905,1.881972164868415,0.9384262224374843,0.967433329292495,1.2580380465256218],[1.3476351989208522,1.8570717663628358,0.9309395855424931,0.9566865236077844,1.2556242392746269],[1.3671446973733912,1.8635457330220946,0.9343009483104875,0.9608761640798136,1.263392185555449],[1.3925615430498144,1.855577612970429,0.9331804940544893,0.9508765113167533,1.2616895283160787],[1.3983132841939758,1.8735059302729322,0.9374076490033784,0.9422971399756289,1.2617168802396028],[1.3995958503712647,1.915836721776242,0.9435701479206626,0.9610941525784328,1.2679599567839608],[1.4072519897299163,1.9257967292860427,0.9430608222425719,0.9584893793091226,1.2714883549185596],[1.3982355996881795,1.904880485676815,0.9384262224374843,0.9612586410786098,1.2621066451498202],[1.414247395337118,1.9736056388390664,0.9495288851941625,0.9675965532722901,1.2813760752724934],[1.4471648928265353,1.967131481940763,0.9530939321931602,0.969636462941074,1.2813076954636833],[1.4463487900634922,1.9750996019924287,0.9556404052487574,0.9667040744723977,1.2835095253073672],[1.445960130077744,1.9272859429373945,0.9558440889704664,0.9661392108718712,1.2842001613763487],[1.4400139996736763,1.8949202884259773,0.9492742226097644,0.9670138887233192,1.2836052570397014],[1.4333683523379739,1.8705180039662075,0.9511585877154705,0.9764307795293046,1.277081823279222],[1.4404415609850365,1.8675298879184459,0.9484084309381644,0.9773781201286275,1.2774715881894394],[1.4438226779572285,1.8540836498170665,0.9365927587816866,0.9665216878706674,1.2625237619835614],[1.4524891908047652,1.8725098914243425,0.9279857450434783,0.9556666174136955,1.2589611739445576],[1.4575415335513573,1.9477092014848973,0.9463203046979687,0.9594009234503439,1.2710644001039373],[1.4720375909715528,1.9646414799388108,0.9514132508091631,0.9678884691666634,1.2802409704462465],[1.4505072266185433,1.922808802979318,0.9407181103214644,0.9676335169701673,1.2723909683948522],[1.4339512830495633,1.8809761260198252,0.9569645432264644,0.9629709356755249,1.2800768589051024],[1.4015001300516898,1.8894421703762636,0.9507002414093636,0.9705659054388436,1.2763228074014303],[1.3674167711390939,1.8266932498075428,0.9587471054323538,0.9820764006007647,1.2701139207614776],[1.378531711975734,1.789342652049174,0.993328175404625,0.9926408196837452,1.2757073891221398],[1.3346158598697218,1.7654382918941767,0.9810032549828376,0.9831511687217813,1.2667769860915468],[1.315417217974433,1.7724103730972527,0.9667939694553439,0.9789259263528631,1.264370016821433],[1.3147177010427986,1.7878486888958114,0.9699515710888486,0.9778332600027958,1.2702370044173354],[1.3072363815528638,1.7878486888958114,0.9803412249550217,0.9776140069837949,1.2803025122741756],[1.3329835350322978,1.8172311666025147,0.990578018627319,0.9865579569671673,1.2893149710753409],[1.3289805864115403,1.8247011721103634,0.9857397356098172,0.988196324295826,1.292993804789322],[1.2965683347392796,1.780876417453691,0.9813597983891277,0.9813484103010494,1.2915373148616676],[1.2552951809595758,1.7061752219369533,0.9766742976434265,0.9686534231642561,1.2753449761354465],[1.2349306780297449,1.6469123417207665,0.9906798994492112,0.953444321015684,1.2616348244690307],[1.2711127058826728,1.6847610540229525,0.9844155197100347,0.9533894590887563,1.2663667072386866],[1.2895145769493415,1.736553738492246,1.0014769202495073,0.965921222373252,1.2801931045800796],[1.2324044473894165,1.663346696367915,0.9965876578600219,0.9534633864845105,1.2534565993353481],[1.2114959150736087,1.6368725448680181,0.9940921636671138,0.9464141176997833,1.2415653505832798],[1.227740883162637,1.665587640599951,1.007231974310593,0.950184220194533,1.2517676180577397],[1.2284014983800227,1.7036852199350012,1.0034122647271972,0.9434089690751286,1.2602262004075435],[1.2579378792858846,1.8102588951603942,1.0002545851716171,0.9453214513497162,1.273444017450527],[1.262718148266774,1.811753048552801,0.9677106625768523,0.9561217571603665,1.2751808645943026],[1.285880837068571,1.8127490874013907,0.9792207706990237,0.9674690284699902,1.2799948031345305],[1.279857022158707,1.799800773604784,0.9786095641990408,0.9684329054973756,1.2852326964893805],[1.2614355820894851,1.7649401778483673,0.9764705359996421,0.9557762438594473,1.2823880964428824],[1.3102871907220446,1.7549801703385666,0.9687802153829422,1.0341323749057962,1.2845899262865659],[1.180793554210503,1.7171314580363806,0.965775396021238,1.041727441949721,1.2741893573665568],[1.1526174239877263,1.6927291740746182,0.9836516088603269,1.082071468894777,1.2783126598378032],[1.1673856737076898,1.7843626480452697,0.9936847188109154,1.0788661327199476,1.2843984628218978],[1.181959534167747,1.790338690399756,1.0006111285779073,1.0747862159742765,1.288241408077023],[1.1965722959534162,1.81822701521206,0.985637854787925,1.07731706197533,1.2880567825932359],[1.1970386408335967,1.8361553325145632,0.9749936157501347,1.0793212725941164,1.2863199354494605],[1.2049667354238864,1.8381474102117428,0.9740768452158454,1.0945840693023428,1.2887269047195744],[1.1557265853396441,1.8172311666025147,0.9678125433987445,1.082654133443748,1.277143365107151],[1.137577219036125,1.6967131387319252,0.9640947146372408,1.0788661327199476,1.2843164070513258],[1.120516147795417,1.6892429434830396,0.9621084687096427,1.070961251552599,1.2825522079840266],[1.1357506234728598,1.681274823431374,0.9680672059831426,1.0665027487773808,1.284501032535113],[1.1770237776411998,1.7156374948830182,0.9807486698112202,1.0797765096213934,1.2969256437959],[1.1839416168880335,1.7131474933790736,0.9788133253335305,1.0814709059892578,1.2974726822663802],[1.1566592743227324,1.7016931427358293,0.9611407962161506,1.08167109366693,1.2913732033205234],[1.147215441115064,1.6832669011285535,0.9496307660160547,1.0724721913595638,1.2792836531229057],[1.1569702498026841,1.6638446206726878,0.9526864873369617,1.088300921754984,1.2840770777204906],[1.1532976085963014,1.6877489803296772,0.9523809227933607,1.1011960965694494,1.2890140999165765],[1.1705336178511552,1.6867529414810876,0.9416348034429727,1.1014140850680685,1.2806375733373447],[1.185379552465551,1.7111554156818942,0.9492742226097644,1.1043286725883006,1.2910313042764732],[1.1849908924798032,1.7280876941358077,0.9456581967480775,1.1060779308830928,1.2940810437494017],[1.2134778792598304,1.7440239342391393,0.9469824121385653,1.1185727304697113,1.29957878037773],[1.2079593105557591,1.7490039377450357,0.9410745763149736,1.1395180146666688,1.3073604026203143],[1.2053942971238831,1.7320716592911223,0.9324165832047814,1.1365677280964395,1.30590391269266],[1.219462911378147,1.738047891884653,0.9358797493818871,1.1572771255657268,1.3129128430956907],[1.2146826423972577,1.7255976926318632,0.938935548115575,1.1529421594704508,1.3153334883275665],[1.2002642694828582,1.736553738492246,0.9457091756107666,1.1450182128342756,1.3162908056509073],[1.1938517945872464,1.7255976926318632,0.9389864495654834,1.1612104520402717,1.315791633046594],[1.1922583718527073,1.72958165728917,0.939699458965283,1.174470205624483,1.31828065808728],[1.257510436119953,1.740039779342788,0.947186095860274,1.1790791895125792,1.3268828380355848],[1.281217272841792,1.7888445375053568,0.9491723417878722,1.175836889639873,1.3330233448667277],[1.2727838135116443,1.7948207700988874,0.9484084309381644,1.194651703191121,1.3342746953679516],[1.2918658691868878,1.8082670077022591,0.9385790047092848,1.2016641055585773,1.3339464722856633],[1.302708854403254,1.8242032478055907,0.9281894287651871,1.196691710140511,1.3292282654777696],[1.2666045110561224,1.8316732533134394,0.9229437003821922,1.1766746037934437,1.3198055278237442],[1.268003544530755,1.8396413733651051,0.9297682298365867,1.1637973272080289,1.3239425062567525],[1.2732501580031883,1.7335658121855213,0.9286987544432778,1.1755270755164489,1.3250502591594753],[1.2654774324244913,1.714641456532436,0.9282403302150954,1.1739971675212637,1.3279290491103786],[1.29952200854554,1.740039779342788,0.9350649370822709,1.1752721233199523,1.3381791824510059],[1.27084063211697,1.7270916557852256,0.9310924452270745,1.1711922065742812,1.339888677671257],[1.2599588637204202,1.695717100381343,0.9246243822754839,1.1590799812670651,1.342206753189918],[1.2717733211000584,1.6752987810768876,0.927629201637188,1.1580599777923701,1.342028965687012],[1.2598033761747625,1.6671813408055036,0.9212121175482866,1.1510475754249139,1.333392595834302],[1.2725506410715541,1.655876500621022,0.920397227326595,1.1520675788996089,1.3399228675756623],[1.2657495061901942,1.6762948199254775,0.9186146651207057,1.1589524565922626,1.33834329399215],[1.2613967989093013,1.7056772976321806,0.9254392719878811,1.1727222118500724,1.340900698841646],[1.262212902060981,1.749502052288853,0.9231983634758849,1.1848344371572885,1.3404015262373326],[1.2917881842924552,1.7604580981492357,0.9490705388880556,1.1923567439177374,1.3493524432105686],[1.293575878141472,1.7868526500472217,0.9594601148321532,1.1918468395247448,1.3502413807250992],[1.311616367602811,1.799800773604784,0.9601731242319528,1.1988591446115948,1.3576400760383474],[1.2962962609735769,1.7689243327447184,0.9576775526262639,1.2235682087013926,1.3523132889320442],[1.2584431254916775,1.7196214600383326,0.9535013770493589,1.2156888130128833,1.3427811435839225],[1.2823831342649705,1.7355576996436564,0.9596128971039538,1.2161988148139795,1.3490173821473994],[1.2744161379604322,1.7395418550380153,0.9559459692830639,1.2116727073724138,1.34344442772938],[1.3454588450860878,1.7644422535435946,0.9574738689045551,1.214031380342896,1.3454206042039905],[1.3809024546817688,1.7778884911469663,0.9669467517271445,1.229713520594687,1.3519371999835887],[1.3774824363839646,1.7734064119458424,0.959969440510244,1.2153063360140872,1.3493250912870447],[1.3831564930223297,1.6827689768237808,0.9796791170051306,1.208421458448931,1.3549937774373981],[1.3697641494206754,1.6538844229238425,0.9803412249550217,1.1868730823056908,1.3389587122714404],[1.3938828924072868,1.6598606555173732,0.9803921264049301,1.203959064831961,1.3527030538422613],[1.398157915182383,1.6573704637743845,0.9719887963884306,1.1976989708757864,1.34956442061788],[1.402355134528982,1.6733067033797082,0.9884898918778287,1.2076565044513383,1.3563340216900752],[1.39186202611818,1.7285856184405803,0.9861471804660157,1.2391484069103293,1.3587136390366652],[1.3936885031473805,1.8012947367581464,0.9943468267608064,1.2371083999609394,1.3593769231821227],[1.2592204454631732,1.7988047347561944,0.9900686929492283,1.2452809760642038,1.3527851096128334],[1.2452295157147055,1.7878486888958114,0.9970969835381125,1.2624803787248693,1.3531748745230507],[1.2436360925915302,1.7768924527963843,0.9909345620336092,1.2543205453610242,1.3470480436536698],[1.2533909012791504,1.8227090944131839,0.9880315455717218,1.2513881570198455,1.347130099424242],[1.2163926513518417,1.78336660919668,0.9761649719653358,1.2188762509586621,1.3201884547530804],[1.1933465487700894,1.773904336250615,0.9633307258654574,1.2256336038490159,1.3164138893067654],[1.2189576651723542,1.8194721113325583,0.9658262974711463,1.2187487262838597,1.325877654846077],[1.213788854739782,1.7778884911469663,0.9528902484714514,1.2127564246717046,1.3130359267515488],[1.2198904726895075,1.782370570846098,0.9471351944103658,1.210716417594817,1.3130564406941918],[1.2104077381562264,1.7758964139477944,0.9386299840812686,1.2045965913078596,1.3057603150941588],[1.231199684251989,1.788346613200584,0.9504965576876546,1.2079114566478346,1.320817548994133],[1.2371458146560568,1.782370570846098,0.9547746135771574,1.2238486463767284,1.3244621928037088],[1.2409933942652216,1.7689243327447184,0.9541125056272661,1.223593694180232,1.32229455286443],[1.2680424462450037,1.8022907756067361,0.9572192058108625,1.239785836105622,1.3311634140670943],[1.2949749120047407,1.8107570097042114,0.9568627403266476,1.2431007988537006,1.336948345892425],[1.2966072364535286,1.816235127753925,0.9543162672710505,1.2492207225487617,1.3368662901218527],[1.300104939257129,1.8615538455639595,0.9644002786715473,1.2642654334777628,1.3482720422313699],[1.3024367806375512,1.8839642420675868,0.9680163045332342,1.2817325314568366,1.3550142913800411],[1.3049628927438146,1.8675298879184459,0.9681690868050348,1.2822425330029377,1.358371739992615],[1.2938090505815623,1.874501969121522,0.9739240629440449,1.2823700572952477,1.362378796788884],[1.2886790229405374,1.892928210728798,0.9697478878764344,1.2918048468402739,1.359664118379125],[1.298122856148206,1.877988009474056,0.9735675974598302,1.2946098075322612,1.3661738761778421],[1.3284753402057472,1.881972164868415,0.9828876980106189,1.2863097063717017,1.3676098521628532],[1.333721953678181,1.9013944453242806,0.9791188898771315,1.3021321151851926,1.3676782319716632],[1.3214410328842972,1.9078686017245763,0.9778456533493329,1.3036621198234963,1.3653669944338835],[1.3176324731348101,1.917828609234377,0.9793735529708242,1.306849557769275,1.36990057575799],[1.3306129108603282,1.955677321536563,0.9756047448373367,1.3170493987199974,1.3691552358419605],[1.3174769855891524,1.9357569265368804,0.9775909902556402,1.2614604725307803,1.3680885108245238],[1.3444872543887507,1.9516931666402118,0.9711229273040497,1.2510056800210492,1.365989250694055],[1.3461583620177222,1.9716135611418868,0.9737712806722444,1.2618429495295767,1.3728682594603465],[1.3304574229260342,2.082171391263631,0.9683727705267435,1.254065593164528,1.3686492252567661],[1.2815281297876784,2.0308764413580738,0.9676088596770357,1.2493481499429582,1.359691470302649],[1.2876685309175877,2.0488047586605767,0.9755028640154445,1.2877249300946025,1.3646490064413779],[1.2845205863854863,2.054780801015063,0.9764196345497338,1.2932073271862676,1.365852491076435],[1.287124501531611,2.1354582291253315,0.9741787260377375,1.2961398134455402,1.3577084558471573],[1.2587541005829928,2.119023874976191,0.9768779813651353,1.2957572392936352,1.3567443005429356],[1.2737943059232302,2.126991994529849,0.9827349157388185,1.2859399724948177,1.3668987021512287],[1.2591815437489244,2.1210159521753624,0.9819200260264214,1.2951198090783624,1.3686697391994092],[1.2630679065382728,2.095866496397875,0.9867583090439231,1.29779724547804,1.3753641224819133],[1.287629747737404,2.0383466371049668,0.9880315455717218,1.2872149285485015,1.374707676317337],[1.2611247251435986,1.9248008806764976,0.9834988265885264,1.2884898846021853,1.363691689118037],[1.257743608560043,1.9447210854371357,0.9759103088716431,1.30863451536906,1.3558143351431189],[1.275543098057998,1.986055838091856,0.9794244544207326,1.2972872439319387,1.3664337194513203],[1.2511367444045247,1.9397410814332317,0.962617716465658,1.2478182420752704,1.3443402032247918],[1.2561112841112554,2.024900399003587,0.967965325670545,1.284537492148824,1.3558690389901669],[1.2507093012385928,2.017928317800511,0.9658262974711463,1.2763776586574815,1.352415858645259],[1.2531188271248115,2.0293824782047114,0.9667939694553439,1.284537492148824,1.348648131179825],[1.2337646980725012,2.007968120051666,0.9532467144649608,1.2645203858017566,1.330780487137758],[1.2374567901360085,2.0169322789519217,0.9519225764872538,1.2737002226402965,1.3307873251186388],[1.25428468854799,2.043326640610863,0.9608861336317525,1.2701303076957215,1.3456462575730639],[1.2521861381417232,2.06772911481167,0.9627704987374583,1.2701303076957215,1.343540159461714],[1.2318993197176884,2.0383466371049668,0.9458110564326588,1.2590379885825942,1.3232176802833657],[1.2541293195363974,2.045816832353852,0.9644002786715473,1.2851750192622102,1.3463232176802833],[1.225642213833669,2.0468126809633973,0.949427004881565,1.2879798817811088,1.318506311456353],[1.210174565716136,1.9721114854466595,0.946931433275876,1.2842825404623177,1.3034080496710931],[1.1909759242094837,1.9113546425751182,0.9346574922260723,1.2725526943633017,1.2819436276856169],[1.198204502256775,1.8909363232706629,0.9360835110256714,1.2590379885825942,1.2839676700263947],[1.1891104273206057,1.8834661275237696,0.9256429557095899,1.2436108006547968,1.2735671011063852],[1.1770237776411998,1.8981574617456474,0.9159154097933079,1.2272911339271069,1.2737517265901723],[1.1800552540986848,1.9148406829276523,0.9271708553310811,1.2452682333247844,1.2901628807045855],[1.1900431166923302,1.9561752458413357,0.8612172184699515,1.271915265168009,1.3019583977243199],[1.2254867262880111,2.0009960393465978,0.8313215718306004,1.3064670805154837,1.3274435524678272],[1.2163149668460456,2.0916334744686593,0.8239877172074098,1.3130969093685225,1.3177541335594425],[1.217131069997725,2.1215138764801353,0.825973963135008,1.336556502373486,1.3339669862283063],[1.1156192929831188,2.1663346699853974,0.8254647148696982,1.3415288979190496,1.3433760479205699],[1.1269286226910293,2.2260956642473935,0.8243951620636084,1.3401264175730558,1.3413588435606734],[1.1487699625239902,2.28436250561499,0.833206014858382,1.3609084785552035,1.357373394783988],[1.1430570045600126,2.26245022365518,0.8324930054585825,1.3685583092254694,1.3554929500417117],[1.162294547780914,2.272410420906018,0.8370257244417778,1.3639684891067856,1.3639378564297535],[1.187128344600319,2.293326664515246,0.837280309613395,1.3769731925764068,1.379938731691306],[1.1881388366232686,2.307768940967207,0.8370766258916862,1.3948228641973952,1.379774620150162],[1.1768295069153583,2.344621614420803,0.8283676539188047,1.384623024521648,1.3758701330671077],[1.1523842515476361,2.363545780332852,0.8241405768919912,1.3879379867597368,1.3837132971376211],[1.1528507145732452,2.3869522161830767,0.8223071132361937,1.3858979793003567,1.3889375145307092],[1.1653646892731542,2.417828657043142,0.8254138134197898,1.3898504686518314,1.3894230111732608],[1.185768093917234,2.460657372851225,0.8326457877303829,1.3875555095059453,1.3937582910518183],[1.2125840919909907,2.4427290555487216,0.8316781157461853,1.3986477310834715,1.394729284336921],[1.2106409105963165,2.5199202525694036,0.8246498251573011,1.4184098858715302,1.3937514530709372],[1.229956138323014,2.5149402490635073,0.8290806633186042,1.4384269923460948,1.3944899550060856],[1.274027477974684,2.5771912453274552,0.8360580524575802,1.4557666624209824,1.394825016069255],[1.2554894516854171,2.6080676861875207,0.8360580524575802,1.4533441789827863,1.3958507132014057],[1.2627958327725701,2.5771912453274552,0.8244970428855005,1.472213853695977,1.4030169171646996],[1.2690529382679534,2.518924403959858,0.8221542535516122,1.4620140140202298,1.4009108190533497],[1.2845983894253474,2.552290846821876,0.8181308602465075,1.4829235992946872,1.403666525348395],[1.29272087366418,2.541832725266266,0.8195568790461066,1.484963605479092,1.4110173547954759],[1.304418863357838,2.5811754002238065,0.8258211808632075,1.5124393052720024,1.4150586014961501],[1.3020870219774159,2.575697282174093,0.8238349349356093,1.4993707905696818,1.413431162046471],[1.2963740640134382,2.5861554042277106,0.824802606919807,1.5172204621906704,1.4173971909574539],[1.3160779517258836,2.576693321022683,0.8259230616850998,1.516327983390778,1.413793575033164],[1.2669542693276215,2.495019854063824,0.8227144806796112,1.4671139338581034,1.4041383460291845],[1.2681590324650487,2.5234062934199457,0.828469534740697,1.4615040124741285,1.4131029389641827],[1.2300338228288104,2.50398401296408,0.837891516113378,1.4780787280414334,1.4184228880896048],[1.231704930457782,2.510458169862383,0.8354978253295812,1.4724688066574585,1.4167749346972827],[1.2149936178772094,2.5393427232643138,0.831525333474385,1.4662214550582109,1.4191340381012294],[1.1917143424667305,2.4711154944068348,0.8243442606137001,1.43307211954674,1.4088360388944352],[1.2144883716714163,2.51543817336828,0.8300993146747857,1.4550017079133997,1.408500977831266],[1.1886051811148126,2.4504483080695154,0.8174687522966163,1.42733467259548,1.3854706582240397],[1.1945124101932683,2.487051734510166,0.8203208673085953,1.4231273284556125,1.3917547626536835],[1.1943570407930393,2.5019921255059447,0.7913419917128283,1.3990303065103515,1.3691894257463655],[1.1894990873063536,2.481075691657672,0.7795263195563507,1.37984186760298,1.3605051900274887],[1.146710195297907,2.4327688577998763,0.7711229895398511,1.3609722885129274,1.3489558403194704],[1.161556129523667,2.496015892912414,0.7737712654952651,1.3949503897646804,1.3764103335567073],[1.157086836022729,2.5353585683679625,0.8030557056346331,1.4362595574925188,1.4094651331354877],[1.165520176818812,2.5338646052146,0.8072828600742274,1.4251672390168788,1.4159065111253948],[1.1913256824809828,2.5473108433159797,0.8222052324143014,1.4399569969843986,1.421301678040508],[1.1903346413151574,2.4910358894065174,0.8262796050913899,1.4348570771465248,1.4237838651003132],[1.1776845113926502,2.5224104448104003,0.8241405768919912,1.4280997240011761,1.423585563654764],[1.2012358601801953,2.53286856636601,0.8267888528474051,1.4533441789827863,1.4282969324817767],[1.2127006778223997,2.5164342122168697,0.8174687522966163,1.4523242727886974,1.4295277690403578],[1.2059383261212235,2.5507968836685135,0.8151260408848034,1.43460202728693,1.42253935257997],[1.2061327153811299,2.51543817336828,0.817112286303107,1.4073175673958904,1.4078718835902135]],\"y\":[1.0,0.9850597992432663,0.9890438590200952,0.9661354430921731,0.9790836617692575,0.9626494022416311,0.9457171237877178,0.9606574201619819,0.9676295013650579,0.9721115805661816,0.9995019805757052,1.0024900020019523,0.9970119790717609,0.9910358415977524,1.0014940582728848,1.0179283173025033,1.0144422769499692,1.0114541609022079,0.9810757389684294,1.0019920776971796,0.977589603496373,0.9840637603946764,0.9631474216659262,0.9790836617692575,0.9885458395958002,1.0119521798284947,1.0209163387287503,1.040836638608911,1.0562748587899398,1.0532868378617006,1.0547808961345853,1.0465637188110108,1.060259014184299,1.0418326774575009,1.037350597758369,1.0567728782142345,1.0323704991329503,1.033864557405835,1.0537848572859954,1.06100599576098,1.0926295128192411,1.1304781300019051,1.1429283292546948,1.1354581340058092,1.1304781300019051,1.1404382326312281,1.1254980313764862,1.1155378341256488,1.1125498126994018,1.1170318923985336,1.0991035745980222,1.096115553669783,1.104083673721449,1.1003485755989983,1.1384462500535708,1.1583665499337312,1.1643425922882176,1.17480080896335,1.17480080896335,1.1717629195090158,1.1703187297622262,1.1842629872879005,1.1643425922882176,1.1713147686108158,1.1603585325113885,1.1693226909136363,1.1867529887918447,1.205179325518643,1.2193725451967035,1.229581704599927,1.1942230894192156,1.1847610067121954,1.1802789270130636,1.1584163233403042,1.1688246714893413,1.1927291262658533,1.2141433892993763,1.2325697260261743,1.2549801225298014,1.2290836856736402,1.2166334864208506,1.2315736871775846,1.210159329522547,1.2435258670060791,1.2485059656314978,1.2534860647549246,1.2983067626426565,1.3152390415945778,1.3067729021186172,1.3361553798253203,1.3142430027459882,1.3266932019987778,1.3615537977551946,1.3237051805725306,1.3207171596442915,1.3237051805725306,1.344621519301281,1.3217131984928814,1.2958167611387121,1.311254981319741,1.2983067626426565,1.28535854446358,1.311254981319741,1.3097609235448642,1.3142430027459882,1.307768940967207,1.2823705230373328,1.3052788438457326,1.3466135969984607,1.3316733006241965,1.314741022170283,1.2893426042404088,1.3132470590169205,1.308764979815797,1.3217131984928814,1.3276892408473675,1.3067729021186172,1.2624502231571724,1.2544821031055065,1.1984562064679531,1.242778885429398,1.2592131449570245,1.2684262655116585,1.251493987057745,1.2569721051074587,1.244521905854669,1.274402402985667,1.278884482684799,1.2711653247855192,1.3284362224240487,1.3227091422219488,1.3466135969984607,1.356075679705481,1.3615537977551946,1.3386453818272726,1.4770916318808431,1.4770916318808431,1.4497012313733117,1.3874502351093636,1.3625498366037843,1.386454196260774,1.407868554413819,1.3999004343621533,1.390886502055325,1.3969123183143917,1.3989043955135636,1.39243023861526,1.3769920184342312,1.3779880572828211,1.3605577589066047,1.3640437997571466,1.3685258789582706,1.3784860767071159,1.411852614190648,1.411354594766353,1.3969123183143917,1.351693242437025,1.3605577589066047,1.3401394401001572,1.3505976567752895,1.3476095407275281,1.389442217687021,1.3939242968881447,1.379731077210084,1.3446712927078537,1.3500996373509946,1.3595617205560229,1.3505976567752895,1.3834661753325348,1.3979083566649735,1.4058764767166394,1.4028884557884003,1.4561752931520928,1.4681274729805878,1.4536852911501406,1.4765936124565484,1.4571713320006827,1.4750996493031858,1.4940239103347568,1.5156872306401883,1.5453187656188,1.5400896097214725,1.5069721290118412,1.5572709454472946,1.560756985799829,1.6309761021154427,1.6708167018757638,1.6518923457246708,1.7086654136799422,1.700199179582467,1.687001998752996,1.737549777340836,1.700199179582467,1.6399402610156981,1.6439242256730051,1.6867529414810876,1.700697294126284,1.693227098379391,1.6623506575193254,1.6478586071627834,1.6307270448435343,1.6648904329278504,1.6962152144271525,1.6902389823316295,1.6484063048741289,1.6474104562645837,1.6060757036098634,1.61105570711576,1.6518425723180978,1.6220119432151874,1.6404381853204708,1.6524402336750608,1.6528883845732605,1.64193233821487,1.637450259013746,1.5991036224067874,1.6494023437227188,1.6840138827052347,1.6967131387319252,1.7482569561683545,1.777390377101157,1.7664343307427663,1.7417827992700512,1.7246016537832736,1.773904336250615,1.8077688936564498,1.8172311666025147,1.807270969351677,1.8247011721103634,1.8406374117156872,1.8416334505642769,1.8431274137176392,1.8207172069550488,1.8989044433223286,1.9357569265368804,1.9352590022321077,1.9357569265368804,2.0029881165457697,1.949950146214941,1.9596612861938698,1.9785856423449628,1.9785856423449628,1.9676294062455357,1.9940239581435217,2.00199207769718,1.9980079228008285,2.030378517053301,2.0343624817106076,2.0244024746988147,2.016434354647149,2.00199207769718,2.01394416290416,1.9716135611418868,1.9980079228008285,1.988545840093808,2.03784852256115,2.0428287163060905,2.03784852256115,2.053286837861701,1.9915339561415697,2.0488047586605767,2.045318717810035,2.008964158900256,1.9925298047511149,1.9681275207893527,2.0009960393465978,1.9616533638910494,1.8879482072229012,1.8251992866541804,1.9033865225234523,1.737549777340836,1.7584662106911007,1.793227069893335,1.738047891884653,1.7758964139477944,1.767430369591356,1.804780967349725,1.8540836498170665,1.8804780114760082,1.9173306849296043,1.8979084044737389,1.9183267237781942,1.903884446828225,1.9076195449506754,1.882968203218997,1.881972164868415,1.8570717663628358,1.8635457330220946,1.855577612970429,1.8735059302729322,1.915836721776242,1.9257967292860427,1.904880485676815,1.9736056388390664,1.967131481940763,1.9750996019924287,1.9272859429373945,1.8949202884259773,1.8705180039662075,1.8675298879184459,1.8540836498170665,1.8725098914243425,1.9477092014848973,1.9646414799388108,1.922808802979318,1.8809761260198252,1.8894421703762636,1.8266932498075428,1.789342652049174,1.7654382918941767,1.7724103730972527,1.7878486888958114,1.7878486888958114,1.8172311666025147,1.8247011721103634,1.780876417453691,1.7061752219369533,1.6469123417207665,1.6847610540229525,1.736553738492246,1.663346696367915,1.6368725448680181,1.665587640599951,1.7036852199350012,1.8102588951603942,1.811753048552801,1.8127490874013907,1.799800773604784,1.7649401778483673,1.7549801703385666,1.7171314580363806,1.6927291740746182,1.7843626480452697,1.790338690399756,1.81822701521206,1.8361553325145632,1.8381474102117428,1.8172311666025147,1.6967131387319252,1.6892429434830396,1.681274823431374,1.7156374948830182,1.7131474933790736,1.7016931427358293,1.6832669011285535,1.6638446206726878,1.6877489803296772,1.6867529414810876,1.7111554156818942,1.7280876941358077,1.7440239342391393,1.7490039377450357,1.7320716592911223,1.738047891884653,1.7255976926318632,1.736553738492246,1.7255976926318632,1.72958165728917,1.740039779342788,1.7888445375053568,1.7948207700988874,1.8082670077022591,1.8242032478055907,1.8316732533134394,1.8396413733651051,1.7335658121855213,1.714641456532436,1.740039779342788,1.7270916557852256,1.695717100381343,1.6752987810768876,1.6671813408055036,1.655876500621022,1.6762948199254775,1.7056772976321806,1.749502052288853,1.7604580981492357,1.7868526500472217,1.799800773604784,1.7689243327447184,1.7196214600383326,1.7355576996436564,1.7395418550380153,1.7644422535435946,1.7778884911469663,1.7734064119458424,1.6827689768237808,1.6538844229238425,1.6598606555173732,1.6573704637743845,1.6733067033797082,1.7285856184405803,1.8012947367581464,1.7988047347561944,1.7878486888958114,1.7768924527963843,1.8227090944131839,1.78336660919668,1.773904336250615,1.8194721113325583,1.7778884911469663,1.782370570846098,1.7758964139477944,1.788346613200584,1.782370570846098,1.7689243327447184,1.8022907756067361,1.8107570097042114,1.816235127753925,1.8615538455639595,1.8839642420675868,1.8675298879184459,1.874501969121522,1.892928210728798,1.877988009474056,1.881972164868415,1.9013944453242806,1.9078686017245763,1.917828609234377,1.955677321536563,1.9357569265368804,1.9516931666402118,1.9716135611418868,2.082171391263631,2.0308764413580738,2.0488047586605767,2.054780801015063,2.1354582291253315,2.119023874976191,2.126991994529849,2.1210159521753624,2.095866496397875,2.0383466371049668,1.9248008806764976,1.9447210854371357,1.986055838091856,1.9397410814332317,2.024900399003587,2.017928317800511,2.0293824782047114,2.007968120051666,2.0169322789519217,2.043326640610863,2.06772911481167,2.0383466371049668,2.045816832353852,2.0468126809633973,1.9721114854466595,1.9113546425751182,1.8909363232706629,1.8834661275237696,1.8981574617456474,1.9148406829276523,1.9561752458413357,2.0009960393465978,2.0916334744686593,2.1215138764801353,2.1663346699853974,2.2260956642473935,2.28436250561499,2.26245022365518,2.272410420906018,2.293326664515246,2.307768940967207,2.344621614420803,2.363545780332852,2.3869522161830767,2.417828657043142,2.460657372851225,2.4427290555487216,2.5199202525694036,2.5149402490635073,2.5771912453274552,2.6080676861875207,2.5771912453274552,2.518924403959858,2.552290846821876,2.541832725266266,2.5811754002238065,2.575697282174093,2.5861554042277106,2.576693321022683,2.495019854063824,2.5234062934199457,2.50398401296408,2.510458169862383,2.5393427232643138,2.4711154944068348,2.51543817336828,2.4504483080695154,2.487051734510166,2.5019921255059447,2.481075691657672,2.4327688577998763,2.496015892912414,2.5353585683679625,2.5338646052146,2.5473108433159797,2.4910358894065174,2.5224104448104003,2.53286856636601,2.5164342122168697,2.5507968836685135,2.51543817336828],\"type\":\"scatter\"}],                        {\"template\":{\"data\":{\"histogram2dcontour\":[{\"type\":\"histogram2dcontour\",\"colorbar\":{\"outlinewidth\":0,\"ticks\":\"\"},\"colorscale\":[[0.0,\"#0d0887\"],[0.1111111111111111,\"#46039f\"],[0.2222222222222222,\"#7201a8\"],[0.3333333333333333,\"#9c179e\"],[0.4444444444444444,\"#bd3786\"],[0.5555555555555556,\"#d8576b\"],[0.6666666666666666,\"#ed7953\"],[0.7777777777777778,\"#fb9f3a\"],[0.8888888888888888,\"#fdca26\"],[1.0,\"#f0f921\"]]}],\"choropleth\":[{\"type\":\"choropleth\",\"colorbar\":{\"outlinewidth\":0,\"ticks\":\"\"}}],\"histogram2d\":[{\"type\":\"histogram2d\",\"colorbar\":{\"outlinewidth\":0,\"ticks\":\"\"},\"colorscale\":[[0.0,\"#0d0887\"],[0.1111111111111111,\"#46039f\"],[0.2222222222222222,\"#7201a8\"],[0.3333333333333333,\"#9c179e\"],[0.4444444444444444,\"#bd3786\"],[0.5555555555555556,\"#d8576b\"],[0.6666666666666666,\"#ed7953\"],[0.7777777777777778,\"#fb9f3a\"],[0.8888888888888888,\"#fdca26\"],[1.0,\"#f0f921\"]]}],\"heatmap\":[{\"type\":\"heatmap\",\"colorbar\":{\"outlinewidth\":0,\"ticks\":\"\"},\"colorscale\":[[0.0,\"#0d0887\"],[0.1111111111111111,\"#46039f\"],[0.2222222222222222,\"#7201a8\"],[0.3333333333333333,\"#9c179e\"],[0.4444444444444444,\"#bd3786\"],[0.5555555555555556,\"#d8576b\"],[0.6666666666666666,\"#ed7953\"],[0.7777777777777778,\"#fb9f3a\"],[0.8888888888888888,\"#fdca26\"],[1.0,\"#f0f921\"]]}],\"heatmapgl\":[{\"type\":\"heatmapgl\",\"colorbar\":{\"outlinewidth\":0,\"ticks\":\"\"},\"colorscale\":[[0.0,\"#0d0887\"],[0.1111111111111111,\"#46039f\"],[0.2222222222222222,\"#7201a8\"],[0.3333333333333333,\"#9c179e\"],[0.4444444444444444,\"#bd3786\"],[0.5555555555555556,\"#d8576b\"],[0.6666666666666666,\"#ed7953\"],[0.7777777777777778,\"#fb9f3a\"],[0.8888888888888888,\"#fdca26\"],[1.0,\"#f0f921\"]]}],\"contourcarpet\":[{\"type\":\"contourcarpet\",\"colorbar\":{\"outlinewidth\":0,\"ticks\":\"\"}}],\"contour\":[{\"type\":\"contour\",\"colorbar\":{\"outlinewidth\":0,\"ticks\":\"\"},\"colorscale\":[[0.0,\"#0d0887\"],[0.1111111111111111,\"#46039f\"],[0.2222222222222222,\"#7201a8\"],[0.3333333333333333,\"#9c179e\"],[0.4444444444444444,\"#bd3786\"],[0.5555555555555556,\"#d8576b\"],[0.6666666666666666,\"#ed7953\"],[0.7777777777777778,\"#fb9f3a\"],[0.8888888888888888,\"#fdca26\"],[1.0,\"#f0f921\"]]}],\"surface\":[{\"type\":\"surface\",\"colorbar\":{\"outlinewidth\":0,\"ticks\":\"\"},\"colorscale\":[[0.0,\"#0d0887\"],[0.1111111111111111,\"#46039f\"],[0.2222222222222222,\"#7201a8\"],[0.3333333333333333,\"#9c179e\"],[0.4444444444444444,\"#bd3786\"],[0.5555555555555556,\"#d8576b\"],[0.6666666666666666,\"#ed7953\"],[0.7777777777777778,\"#fb9f3a\"],[0.8888888888888888,\"#fdca26\"],[1.0,\"#f0f921\"]]}],\"mesh3d\":[{\"type\":\"mesh3d\",\"colorbar\":{\"outlinewidth\":0,\"ticks\":\"\"}}],\"scatter\":[{\"fillpattern\":{\"fillmode\":\"overlay\",\"size\":10,\"solidity\":0.2},\"type\":\"scatter\"}],\"parcoords\":[{\"type\":\"parcoords\",\"line\":{\"colorbar\":{\"outlinewidth\":0,\"ticks\":\"\"}}}],\"scatterpolargl\":[{\"type\":\"scatterpolargl\",\"marker\":{\"colorbar\":{\"outlinewidth\":0,\"ticks\":\"\"}}}],\"bar\":[{\"error_x\":{\"color\":\"#2a3f5f\"},\"error_y\":{\"color\":\"#2a3f5f\"},\"marker\":{\"line\":{\"color\":\"#E5ECF6\",\"width\":0.5},\"pattern\":{\"fillmode\":\"overlay\",\"size\":10,\"solidity\":0.2}},\"type\":\"bar\"}],\"scattergeo\":[{\"type\":\"scattergeo\",\"marker\":{\"colorbar\":{\"outlinewidth\":0,\"ticks\":\"\"}}}],\"scatterpolar\":[{\"type\":\"scatterpolar\",\"marker\":{\"colorbar\":{\"outlinewidth\":0,\"ticks\":\"\"}}}],\"histogram\":[{\"marker\":{\"pattern\":{\"fillmode\":\"overlay\",\"size\":10,\"solidity\":0.2}},\"type\":\"histogram\"}],\"scattergl\":[{\"type\":\"scattergl\",\"marker\":{\"colorbar\":{\"outlinewidth\":0,\"ticks\":\"\"}}}],\"scatter3d\":[{\"type\":\"scatter3d\",\"line\":{\"colorbar\":{\"outlinewidth\":0,\"ticks\":\"\"}},\"marker\":{\"colorbar\":{\"outlinewidth\":0,\"ticks\":\"\"}}}],\"scattermapbox\":[{\"type\":\"scattermapbox\",\"marker\":{\"colorbar\":{\"outlinewidth\":0,\"ticks\":\"\"}}}],\"scatterternary\":[{\"type\":\"scatterternary\",\"marker\":{\"colorbar\":{\"outlinewidth\":0,\"ticks\":\"\"}}}],\"scattercarpet\":[{\"type\":\"scattercarpet\",\"marker\":{\"colorbar\":{\"outlinewidth\":0,\"ticks\":\"\"}}}],\"carpet\":[{\"aaxis\":{\"endlinecolor\":\"#2a3f5f\",\"gridcolor\":\"white\",\"linecolor\":\"white\",\"minorgridcolor\":\"white\",\"startlinecolor\":\"#2a3f5f\"},\"baxis\":{\"endlinecolor\":\"#2a3f5f\",\"gridcolor\":\"white\",\"linecolor\":\"white\",\"minorgridcolor\":\"white\",\"startlinecolor\":\"#2a3f5f\"},\"type\":\"carpet\"}],\"table\":[{\"cells\":{\"fill\":{\"color\":\"#EBF0F8\"},\"line\":{\"color\":\"white\"}},\"header\":{\"fill\":{\"color\":\"#C8D4E3\"},\"line\":{\"color\":\"white\"}},\"type\":\"table\"}],\"barpolar\":[{\"marker\":{\"line\":{\"color\":\"#E5ECF6\",\"width\":0.5},\"pattern\":{\"fillmode\":\"overlay\",\"size\":10,\"solidity\":0.2}},\"type\":\"barpolar\"}],\"pie\":[{\"automargin\":true,\"type\":\"pie\"}]},\"layout\":{\"autotypenumbers\":\"strict\",\"colorway\":[\"#636efa\",\"#EF553B\",\"#00cc96\",\"#ab63fa\",\"#FFA15A\",\"#19d3f3\",\"#FF6692\",\"#B6E880\",\"#FF97FF\",\"#FECB52\"],\"font\":{\"color\":\"#2a3f5f\"},\"hovermode\":\"closest\",\"hoverlabel\":{\"align\":\"left\"},\"paper_bgcolor\":\"white\",\"plot_bgcolor\":\"#E5ECF6\",\"polar\":{\"bgcolor\":\"#E5ECF6\",\"angularaxis\":{\"gridcolor\":\"white\",\"linecolor\":\"white\",\"ticks\":\"\"},\"radialaxis\":{\"gridcolor\":\"white\",\"linecolor\":\"white\",\"ticks\":\"\"}},\"ternary\":{\"bgcolor\":\"#E5ECF6\",\"aaxis\":{\"gridcolor\":\"white\",\"linecolor\":\"white\",\"ticks\":\"\"},\"baxis\":{\"gridcolor\":\"white\",\"linecolor\":\"white\",\"ticks\":\"\"},\"caxis\":{\"gridcolor\":\"white\",\"linecolor\":\"white\",\"ticks\":\"\"}},\"coloraxis\":{\"colorbar\":{\"outlinewidth\":0,\"ticks\":\"\"}},\"colorscale\":{\"sequential\":[[0.0,\"#0d0887\"],[0.1111111111111111,\"#46039f\"],[0.2222222222222222,\"#7201a8\"],[0.3333333333333333,\"#9c179e\"],[0.4444444444444444,\"#bd3786\"],[0.5555555555555556,\"#d8576b\"],[0.6666666666666666,\"#ed7953\"],[0.7777777777777778,\"#fb9f3a\"],[0.8888888888888888,\"#fdca26\"],[1.0,\"#f0f921\"]],\"sequentialminus\":[[0.0,\"#0d0887\"],[0.1111111111111111,\"#46039f\"],[0.2222222222222222,\"#7201a8\"],[0.3333333333333333,\"#9c179e\"],[0.4444444444444444,\"#bd3786\"],[0.5555555555555556,\"#d8576b\"],[0.6666666666666666,\"#ed7953\"],[0.7777777777777778,\"#fb9f3a\"],[0.8888888888888888,\"#fdca26\"],[1.0,\"#f0f921\"]],\"diverging\":[[0,\"#8e0152\"],[0.1,\"#c51b7d\"],[0.2,\"#de77ae\"],[0.3,\"#f1b6da\"],[0.4,\"#fde0ef\"],[0.5,\"#f7f7f7\"],[0.6,\"#e6f5d0\"],[0.7,\"#b8e186\"],[0.8,\"#7fbc41\"],[0.9,\"#4d9221\"],[1,\"#276419\"]]},\"xaxis\":{\"gridcolor\":\"white\",\"linecolor\":\"white\",\"ticks\":\"\",\"title\":{\"standoff\":15},\"zerolinecolor\":\"white\",\"automargin\":true,\"zerolinewidth\":2},\"yaxis\":{\"gridcolor\":\"white\",\"linecolor\":\"white\",\"ticks\":\"\",\"title\":{\"standoff\":15},\"zerolinecolor\":\"white\",\"automargin\":true,\"zerolinewidth\":2},\"scene\":{\"xaxis\":{\"backgroundcolor\":\"#E5ECF6\",\"gridcolor\":\"white\",\"linecolor\":\"white\",\"showbackground\":true,\"ticks\":\"\",\"zerolinecolor\":\"white\",\"gridwidth\":2},\"yaxis\":{\"backgroundcolor\":\"#E5ECF6\",\"gridcolor\":\"white\",\"linecolor\":\"white\",\"showbackground\":true,\"ticks\":\"\",\"zerolinecolor\":\"white\",\"gridwidth\":2},\"zaxis\":{\"backgroundcolor\":\"#E5ECF6\",\"gridcolor\":\"white\",\"linecolor\":\"white\",\"showbackground\":true,\"ticks\":\"\",\"zerolinecolor\":\"white\",\"gridwidth\":2}},\"shapedefaults\":{\"line\":{\"color\":\"#2a3f5f\"}},\"annotationdefaults\":{\"arrowcolor\":\"#2a3f5f\",\"arrowhead\":0,\"arrowwidth\":1},\"geo\":{\"bgcolor\":\"white\",\"landcolor\":\"#E5ECF6\",\"subunitcolor\":\"white\",\"showland\":true,\"showlakes\":true,\"lakecolor\":\"white\"},\"title\":{\"x\":0.05},\"mapbox\":{\"style\":\"light\"}}},\"width\":800,\"height\":600,\"title\":{\"font\":{\"color\":\"FireBrick\",\"size\":40},\"text\":\"\\u003cb\\u003eGross cumulative returns\\u003c\\u002fb\\u003e\",\"x\":0.5,\"y\":0.9}},                        {\"responsive\": true}                    ).then(function(){\n",
              "                            \n",
              "var gd = document.getElementById('ab20f0ad-a548-4045-b03e-d7716d4a402f');\n",
              "var x = new MutationObserver(function (mutations, observer) {{\n",
              "        var display = window.getComputedStyle(gd).display;\n",
              "        if (!display || display === 'none') {{\n",
              "            console.log([gd, 'removed!']);\n",
              "            Plotly.purge(gd);\n",
              "            observer.disconnect();\n",
              "        }}\n",
              "}});\n",
              "\n",
              "// Listen for the removal of the full notebook cells\n",
              "var notebookContainer = gd.closest('#notebook-container');\n",
              "if (notebookContainer) {{\n",
              "    x.observe(notebookContainer, {childList: true});\n",
              "}}\n",
              "\n",
              "// Listen for the clearing of the current output cell\n",
              "var outputEl = gd.closest('.output');\n",
              "if (outputEl) {{\n",
              "    x.observe(outputEl, {childList: true});\n",
              "}}\n",
              "\n",
              "                        })                };                            </script>        </div>\n",
              "</body>\n",
              "</html>"
            ]
          },
          "metadata": {}
        }
      ]
    },
    {
      "cell_type": "markdown",
      "source": [
        "## <font color='orange' style=\"font-size:25px\"><b>Measures of risk and reward</b></font>  "
      ],
      "metadata": {
        "id": "nc3qHjwKNgDn"
      }
    },
    {
      "cell_type": "markdown",
      "source": [
        "**Expected returns** on investment measure our prediction of gain (or loss) when undertaking an investment. **Volatility** (whose square is variance) measures risk of our investment. Below we briefly discuss these concepts."
      ],
      "metadata": {
        "id": "jazYJaO6Ng9A"
      }
    },
    {
      "cell_type": "markdown",
      "source": [
        "### <font color='MediumVioletRed' style=\"font-size:20px\"><b>Expected returns</b></font>"
      ],
      "metadata": {
        "id": "OYnk8PHcNiOZ"
      }
    },
    {
      "cell_type": "markdown",
      "source": [
        "If there are $S$ possible states of the world, the expected return would be:\n",
        "\n",
        "$$ \\mathbb{E}(r) = \\sum_{s=1}^{S}p_s r_s  $$\n",
        "\n",
        "Here $p_s$ is probability of realization of state $s$ while $r_s$ is return in that state.\n",
        "\n",
        "Of course, strictly speaking, we do not know either possible values of returns or probability with which they are realized. What we do know are past returns.\n"
      ],
      "metadata": {
        "id": "fTx7fj49Nm8v"
      }
    },
    {
      "cell_type": "markdown",
      "source": [
        "In practice, we *estimate* expected returns. We mention here two approaches. Both are based on past returns. While past performance is not necessarily indicative of future performance, we still proceed as these approaches are used a lot in practice.\n",
        "\n",
        "The first approach of estimating expected return on an asset is **sample mean of returns** (daily, weekly, or monthly):"
      ],
      "metadata": {
        "id": "5cF9weN2Nv0m"
      }
    },
    {
      "cell_type": "markdown",
      "source": [
        "$$\\overline{r}=\\frac{1}{N}\\sum_{t=1}^{N}r_t$$\n",
        "\n",
        "Here, $N$ is the number of past returns, and $r_t$ return realization at time $t$.\n",
        "\n",
        "Investors usually think in terms of annual quantities (i.e. 12 months returns). On the other hand, returns we are observed are usually daily, weekly or monthly.\n",
        "\n",
        "How do we annualize?\n"
      ],
      "metadata": {
        "id": "TwnVl063NyVn"
      }
    },
    {
      "cell_type": "markdown",
      "source": [
        "$$\\overline{r}_a=252 \\overline{r}_d\\,\\,\\,\\,\\,\\,\\,\\,\\,\\,\\,\\,\\,\\,\\,\\, \\Longleftrightarrow \\,\\,\\,\\,\\,\\,\\,\\,\\,\\,\\,\\,\\,\\,\\,\\, \\overline{r}_a=52 \\overline{r}_w \\,\\,\\,\\,\\,\\,\\,\\,\\,\\,\\,\\,\\,\\,\\,\\, \\Longleftrightarrow \\,\\,\\,\\,\\,\\,\\,\\,\\,\\,\\,\\,\\,\\,\\,\\, \\overline{r}_a=12 \\overline{r}_m$$"
      ],
      "metadata": {
        "id": "znROTn-_Nzjt"
      }
    },
    {
      "cell_type": "markdown",
      "source": [
        "Note that in this definition, daily (weekly, or monthly) expected return is estimated using the arithmetic mean of the simple daily (weekly, monthly) returns. This quantity is annualized not taking into the account accumulation of returns on returns, i.e. using the simple multiplication by the number of trading periods in one year."
      ],
      "metadata": {
        "id": "fVwhVq8mN0bK"
      }
    },
    {
      "cell_type": "markdown",
      "source": [
        "Let us calculate the expected returns using this approach:"
      ],
      "metadata": {
        "id": "isCensrPN1ZJ"
      }
    },
    {
      "cell_type": "code",
      "source": [
        "returns.mean() #daily expected returns"
      ],
      "metadata": {
        "colab": {
          "base_uri": "https://localhost:8080/"
        },
        "id": "Uu3cpU4_N10P",
        "outputId": "d8889227-3716-4acd-e563-39413a21d3c9"
      },
      "execution_count": 22,
      "outputs": [
        {
          "output_type": "execute_result",
          "data": {
            "text/plain": [
              "AMZN     0.000550\n",
              "YHOO     0.002014\n",
              "IBM     -0.000338\n",
              "AAPL     0.000807\n",
              "^GSPC    0.000705\n",
              "dtype: float64"
            ]
          },
          "metadata": {},
          "execution_count": 22
        }
      ]
    },
    {
      "cell_type": "code",
      "source": [
        "ExpRet1 =returns.mean()*252 #anualized daily returns\n",
        "ExpRet1"
      ],
      "metadata": {
        "colab": {
          "base_uri": "https://localhost:8080/"
        },
        "id": "4dDbKf_tN-XF",
        "outputId": "4dbc07b3-03e0-45de-9beb-aad17ebffcf5"
      },
      "execution_count": 23,
      "outputs": [
        {
          "output_type": "execute_result",
          "data": {
            "text/plain": [
              "AMZN     0.138659\n",
              "YHOO     0.507439\n",
              "IBM     -0.085088\n",
              "AAPL     0.203447\n",
              "^GSPC    0.177588\n",
              "dtype: float64"
            ]
          },
          "metadata": {},
          "execution_count": 23
        }
      ]
    },
    {
      "cell_type": "markdown",
      "source": [
        "Note that the expected annual return on Yahoo, using this method would be close to 51 percent. The IBM would be expected to lose money.\n",
        "\n",
        "Another way for estimating the expected returns is to use **annualized compounded sample returns**. We  calculate, namely, the geometric average of gross returns and then annualize them taking into the account interest on interest.\n",
        "\n",
        "This is how that is done:"
      ],
      "metadata": {
        "id": "m18muxptOFYN"
      }
    },
    {
      "cell_type": "markdown",
      "source": [
        "$$\\overline{r}_a=\\left(\\left(\\prod_{t=1}^{N}(1+r_t)\\right)^{\\frac{1}{N}}\\right)^n-1 = \\left(\\prod_{t=1}^{N}(1+r_t)\\right)^{\\frac{n}{N}}-1$$"
      ],
      "metadata": {
        "id": "VvfFu8g0OGdp"
      }
    },
    {
      "cell_type": "markdown",
      "source": [
        "where compounding factor $n$ (small n) is number of periods, i.e. 252 for daily , 52 for weekly and 12 for monthly compounding and $N$ is the size of the sample that we use for calculation."
      ],
      "metadata": {
        "id": "nP8dnVR8ORdd"
      }
    },
    {
      "cell_type": "markdown",
      "source": [
        "Let's calculate expected returns using this approach:"
      ],
      "metadata": {
        "id": "Y8njW9sNOTFN"
      }
    },
    {
      "cell_type": "code",
      "source": [
        "ExpRet2=(1+returns).prod()**(252/len(returns))-1\n",
        "ExpRet2"
      ],
      "metadata": {
        "colab": {
          "base_uri": "https://localhost:8080/"
        },
        "id": "6q1GK5ICOTmj",
        "outputId": "34d85a06-b192-4011-ac7d-b666410dfeef"
      },
      "execution_count": 24,
      "outputs": [
        {
          "output_type": "execute_result",
          "data": {
            "text/plain": [
              "AMZN     0.098445\n",
              "YHOO     0.587468\n",
              "IBM     -0.096239\n",
              "AAPL     0.186707\n",
              "^GSPC    0.186941\n",
              "dtype: float64"
            ]
          },
          "metadata": {},
          "execution_count": 24
        }
      ]
    },
    {
      "cell_type": "markdown",
      "source": [
        "The numbers obtained clearly indicate that the two methods do not give identical estimates for the returns. In fact, when we use other methods such as CAPM, multi-factor models, or Black-Litterman, discrepancy between different estimates may be even bigger. One should bear this in mind when attempting to use portfolio optimization in practice - the results are very sensitive to the way we prepare inputs."
      ],
      "metadata": {
        "id": "TLwyigNSOdZ4"
      }
    },
    {
      "cell_type": "markdown",
      "source": [
        "Before we continue any further, I would like to introduce the concept of **excess returns with respect to a benchmark**.\n",
        "\n",
        "Here we take as a benchmark a market proxy, in this case SP500 index. In that case, stocks that are expected to do better than the market are said to be expected to **outperform the market**. Here we use simple mean approach.\n"
      ],
      "metadata": {
        "id": "keGsDnsKOn5i"
      }
    },
    {
      "cell_type": "code",
      "source": [
        "ExpRet1.iloc[-1] #expect return on SP500, i.e. on the market"
      ],
      "metadata": {
        "colab": {
          "base_uri": "https://localhost:8080/"
        },
        "id": "zNrKraO9Oody",
        "outputId": "639392d6-52fe-42fb-9a23-953b45479dc7"
      },
      "execution_count": 26,
      "outputs": [
        {
          "output_type": "execute_result",
          "data": {
            "text/plain": [
              "0.17758845046197477"
            ]
          },
          "metadata": {},
          "execution_count": 26
        }
      ]
    },
    {
      "cell_type": "code",
      "source": [
        "ExpRet1.iloc[:-1]-ExpRet1.iloc[-1] #Anualized expected return on individual stocks with respect to the market"
      ],
      "metadata": {
        "colab": {
          "base_uri": "https://localhost:8080/"
        },
        "id": "I-iZydSoO1Rg",
        "outputId": "35566759-9415-48a8-954b-fc262e2c8d6b"
      },
      "execution_count": 27,
      "outputs": [
        {
          "output_type": "execute_result",
          "data": {
            "text/plain": [
              "AMZN   -0.038929\n",
              "YHOO    0.329851\n",
              "IBM    -0.262676\n",
              "AAPL    0.025858\n",
              "dtype: float64"
            ]
          },
          "metadata": {},
          "execution_count": 27
        }
      ]
    },
    {
      "cell_type": "markdown",
      "source": [
        "Note that Amazon, using the first method for calculating the expected return, is expected to underperform the market by close to 4 percent annually while IBM is expected to underperform by 26 percent. On the other hand, Yahoo is expected to outperform the market by 33 percent. Apple, according to this method, is also expected to overperform but just slightly."
      ],
      "metadata": {
        "id": "lp1X9N_9O06E"
      }
    },
    {
      "cell_type": "markdown",
      "source": [
        "However, if we use the second method for expected returns calculation (i.e. annualized compounded returns) only Yahoo stock is expected to outperform the market"
      ],
      "metadata": {
        "id": "ZvPiwnAyPThg"
      }
    },
    {
      "cell_type": "code",
      "source": [
        "ExpRet2.iloc[:-1]-ExpRet2.iloc[-1]"
      ],
      "metadata": {
        "id": "95ruBjhqPUP_",
        "outputId": "1784b68e-e072-4e3f-fda0-50f6c8572408",
        "colab": {
          "base_uri": "https://localhost:8080/"
        }
      },
      "execution_count": 28,
      "outputs": [
        {
          "output_type": "execute_result",
          "data": {
            "text/plain": [
              "AMZN   -0.088496\n",
              "YHOO    0.400527\n",
              "IBM    -0.283180\n",
              "AAPL   -0.000234\n",
              "dtype: float64"
            ]
          },
          "metadata": {},
          "execution_count": 28
        }
      ]
    },
    {
      "cell_type": "markdown",
      "source": [
        "### <font color='MediumVioletRed' style=\"font-size:20px\"><b>Measuring risk - Variance and Volatility</b></font>"
      ],
      "metadata": {
        "id": "UNDOtlYNPkJ2"
      }
    },
    {
      "cell_type": "markdown",
      "source": [
        "Variance is a measure of squared deviation from the mean.\n",
        "\n",
        "$$ \\mathbb{V}(r) = \\mathbb{E}((r- \\mathbb{E}(r))^2)  $$\n",
        "\n",
        "We can estimate variance, like the mean, using many different methods. Here we focus on sample variance. It can be estimated as follows:"
      ],
      "metadata": {
        "id": "v22WB4XfPlCf"
      }
    },
    {
      "cell_type": "markdown",
      "source": [
        "$$\\sigma_{d}^2 = \\frac{1}{N-1} \\sum_{t=1}^{N} (r_t - \\overline{r})^2$$"
      ],
      "metadata": {
        "id": "VzskMZy-Pl6v"
      }
    },
    {
      "cell_type": "markdown",
      "source": [
        "While variance can be used as a measure of risk, it has the units of the square of returns. Taking its square root we obtain the quantity - the standard deviation - that has the same dimensions as the expected returns. Thus, the two can be compared.\n",
        "\n",
        "We commonly use it to measure volatility of returns:"
      ],
      "metadata": {
        "id": "uIpwUh6CPm2U"
      }
    },
    {
      "cell_type": "markdown",
      "source": [
        "$$\\sigma_{d} = \\sqrt{ \\frac{1}{N-1} \\sum_{i=1}^{N} (r_i - \\overline{r})^2}$$"
      ],
      "metadata": {
        "id": "cHTMpvq9PnvU"
      }
    },
    {
      "cell_type": "markdown",
      "source": [
        "How to annualize daily volatility? If we use daily data, annualizing is often done by the square root law (in the statistics course you shall revisit the conditions under which this is a sensible thing to do):"
      ],
      "metadata": {
        "id": "ZiGO-KRgP4DE"
      }
    },
    {
      "cell_type": "markdown",
      "source": [
        "$$\\sigma_a = \\sigma_d \\sqrt{252}$$"
      ],
      "metadata": {
        "id": "BWlqv92MP41h"
      }
    },
    {
      "cell_type": "markdown",
      "source": [
        "If we use weekly data we need to multiply by square root of 52, and if we use monthly by square root of 12. Now, let us calculate volatility of returns in our five assets. Here we will use <font color='mediumseagreen'><b>Pandas</b></font> method <font color='DeepPink'><b>std</b></font>:"
      ],
      "metadata": {
        "id": "-V4NImJSP9F1"
      }
    },
    {
      "cell_type": "code",
      "source": [
        "vol=returns.std()*252**0.5\n",
        "vol"
      ],
      "metadata": {
        "id": "B002GdDPP_XM",
        "outputId": "c569857c-16ce-4cc4-c423-c3795a4cdc4e",
        "colab": {
          "base_uri": "https://localhost:8080/"
        }
      },
      "execution_count": 29,
      "outputs": [
        {
          "output_type": "execute_result",
          "data": {
            "text/plain": [
              "AMZN     0.297614\n",
              "YHOO     0.300029\n",
              "IBM      0.178456\n",
              "AAPL     0.252674\n",
              "^GSPC    0.110939\n",
              "dtype: float64"
            ]
          },
          "metadata": {},
          "execution_count": 29
        }
      ]
    },
    {
      "cell_type": "markdown",
      "source": [
        "So, Yahoo has just marginally higher volatility than Amazon, but much higher expected return. On the other hand, the least risky is SP500 index. Why would that be?"
      ],
      "metadata": {
        "id": "TBcJeKOEQEYL"
      }
    },
    {
      "cell_type": "markdown",
      "source": [
        "We can perform the same calculation using <font color='mediumseagreen'><b>NumPy</b></font>'s function <font color='DodgerBlue'><b>np.std</b></font>. Note, however, that it by default calculates the standard deviation of the population instead of standard deviation of the sample.\n",
        "\n",
        "However, there is a way in which you can still use <font color='mediumseagreen'><b>NumPy</b></font> to calculate volatility of returns. Basically, you have to set argument **ddof** (degrees of freedom) to 1:"
      ],
      "metadata": {
        "id": "eJOEc-IdQFQy"
      }
    },
    {
      "cell_type": "code",
      "source": [
        "np.std(returns,ddof=1)*np.sqrt(252)"
      ],
      "metadata": {
        "id": "lA57w8cuQKU2",
        "outputId": "40b7cc29-192e-4026-f57b-2ab72951901a",
        "colab": {
          "base_uri": "https://localhost:8080/"
        }
      },
      "execution_count": 30,
      "outputs": [
        {
          "output_type": "execute_result",
          "data": {
            "text/plain": [
              "AMZN     0.297614\n",
              "YHOO     0.300029\n",
              "IBM      0.178456\n",
              "AAPL     0.252674\n",
              "^GSPC    0.110939\n",
              "dtype: float64"
            ]
          },
          "metadata": {},
          "execution_count": 30
        }
      ]
    },
    {
      "cell_type": "markdown",
      "source": [
        "Annualized standard deviation is one possible proxy of volatility of returns. We sometimes use the two words interchangeably."
      ],
      "metadata": {
        "id": "QgQ2go7QQRC_"
      }
    },
    {
      "cell_type": "markdown",
      "source": [
        "### <font color='MediumVioletRed' style=\"font-size:20px\"><b>Risk-adjusted performance ratios</b></font>"
      ],
      "metadata": {
        "id": "lEdT2pefQWuH"
      }
    },
    {
      "cell_type": "markdown",
      "source": [
        "Higher expected returns is usually is positively correlated with higher risks."
      ],
      "metadata": {
        "id": "KFj7_GqLQalU"
      }
    },
    {
      "cell_type": "markdown",
      "source": [
        "In order to tell somehow which investments are more attractive, we may need to compare expected returns with risk. One way to do that is to calculate the **expected return per unit of risk**.\n",
        "\n",
        "It is the ratio of expected returns and the corresponding volatility of returns. Since we can calculate the expected returns in two different ways, our comparisons may depend on the type of expected returns calculatons that we use"
      ],
      "metadata": {
        "id": "ugr-hncbQbim"
      }
    },
    {
      "cell_type": "code",
      "source": [
        "ExpRet1/vol #comparison using the sample mean"
      ],
      "metadata": {
        "id": "2dBxVlfaQgsK",
        "outputId": "abb968e9-997c-418d-b662-0e05542e787f",
        "colab": {
          "base_uri": "https://localhost:8080/"
        }
      },
      "execution_count": 31,
      "outputs": [
        {
          "output_type": "execute_result",
          "data": {
            "text/plain": [
              "AMZN     0.465903\n",
              "YHOO     1.691300\n",
              "IBM     -0.476800\n",
              "AAPL     0.805175\n",
              "^GSPC    1.600770\n",
              "dtype: float64"
            ]
          },
          "metadata": {},
          "execution_count": 31
        }
      ]
    },
    {
      "cell_type": "markdown",
      "source": [
        "Note that Yahoo seems to provide the best risk-return tradeoff, followed by the market proxy, SP500 portfolio."
      ],
      "metadata": {
        "id": "EBnXqpCqQnGy"
      }
    },
    {
      "cell_type": "code",
      "source": [
        "ExpRet2/vol"
      ],
      "metadata": {
        "id": "GK0D-46PQoIU",
        "outputId": "3ad0d9dd-9ad6-4de5-bf3e-26328b659712",
        "colab": {
          "base_uri": "https://localhost:8080/"
        }
      },
      "execution_count": 32,
      "outputs": [
        {
          "output_type": "execute_result",
          "data": {
            "text/plain": [
              "AMZN     0.330782\n",
              "YHOO     1.958039\n",
              "IBM     -0.539287\n",
              "AAPL     0.738925\n",
              "^GSPC    1.685076\n",
              "dtype: float64"
            ]
          },
          "metadata": {},
          "execution_count": 32
        }
      ]
    },
    {
      "cell_type": "markdown",
      "source": [
        "Yahoo looks even better when we use the second (cumulative) approach."
      ],
      "metadata": {
        "id": "ag9uhh4yQrJU"
      }
    },
    {
      "cell_type": "markdown",
      "source": [
        "The second, much more commonly used way, is to compare the corresponding **Sharpe ratios**, i.e. excess expected returns (with respect to risk free rate) with the corresponding volatility."
      ],
      "metadata": {
        "id": "2s406zCxQr_C"
      }
    },
    {
      "cell_type": "markdown",
      "source": [
        "$$\\text{Sharpe} = \\frac{\\overline{r}_a - r_f}{\\sigma_a}$$"
      ],
      "metadata": {
        "id": "ZNHXroJBQxfI"
      }
    },
    {
      "cell_type": "markdown",
      "source": [
        "This is very similar to previous ratio except that now in the numerator we have excess annualized expected return on the portfolio with respect to the risk-free rate (also annual). The numerator is called the **risk premium** on risky asset (or portfolio) a.\n",
        "\n",
        "Essentially, we use here risk-free rate as  a benchmark of performance. Again, we consider both approaches. Suppose that the risk free rate is 3 percent per annum."
      ],
      "metadata": {
        "id": "DVqjt3pPQyU6"
      }
    },
    {
      "cell_type": "code",
      "source": [
        "rf=0.03\n",
        "(ExpRet1-rf)/vol"
      ],
      "metadata": {
        "id": "-Ia2Gjm9Qz44",
        "outputId": "d9e6445b-c1fc-48f1-df92-b4d5e0b38a46",
        "colab": {
          "base_uri": "https://localhost:8080/"
        }
      },
      "execution_count": 33,
      "outputs": [
        {
          "output_type": "execute_result",
          "data": {
            "text/plain": [
              "AMZN     0.365101\n",
              "YHOO     1.591310\n",
              "IBM     -0.644909\n",
              "AAPL     0.686445\n",
              "^GSPC    1.330352\n",
              "dtype: float64"
            ]
          },
          "metadata": {},
          "execution_count": 33
        }
      ]
    },
    {
      "cell_type": "markdown",
      "source": [
        "Yahoo looks the most attractive followed by the market proxy."
      ],
      "metadata": {
        "id": "jTid_4qiRKGj"
      }
    },
    {
      "cell_type": "markdown",
      "source": [
        "Let's now use the second measure of expected returns in calculation of the Sharpe ratio:"
      ],
      "metadata": {
        "id": "QJgOsJ3-RLMn"
      }
    },
    {
      "cell_type": "code",
      "source": [
        "(ExpRet2-rf)/vol"
      ],
      "metadata": {
        "id": "1dDG6YPtRMB9",
        "outputId": "3632b548-5c24-400d-b3ce-8fe0bad42704",
        "colab": {
          "base_uri": "https://localhost:8080/"
        }
      },
      "execution_count": 34,
      "outputs": [
        {
          "output_type": "execute_result",
          "data": {
            "text/plain": [
              "AMZN     0.229980\n",
              "YHOO     1.858048\n",
              "IBM     -0.707396\n",
              "AAPL     0.620195\n",
              "^GSPC    1.414658\n",
              "dtype: float64"
            ]
          },
          "metadata": {},
          "execution_count": 34
        }
      ]
    },
    {
      "cell_type": "markdown",
      "source": [
        "We would rank the assets similarly using the second method for the expected return estimation but the actual values of the Sharpe ratio vary substantially."
      ],
      "metadata": {
        "id": "KV7H8FPTRQsT"
      }
    },
    {
      "cell_type": "markdown",
      "source": [
        "## <font color='orange' style=\"font-size:25px\"><b>Let us now write functions that do these calculations (and will be used a lot)</b></font>"
      ],
      "metadata": {
        "id": "kpE3blfhRVg2"
      }
    },
    {
      "cell_type": "markdown",
      "source": [
        "In order to avoid unnecessary repetitions in our calculations, we here present the functions that can later be used to automatize expected returns, standard deviation, and Sharpe ratio calculations."
      ],
      "metadata": {
        "id": "B5-uirn6RYTD"
      }
    },
    {
      "cell_type": "code",
      "source": [
        "def expRet(ret,n=252,com=False):\n",
        "  \"\"\"Calculates expected return in one of two methods. Parameters are\n",
        "  -ret: Pandas' DataFrame or Series of returns\n",
        "  -n: optional, number of compounding periods in year(252 for days, 52 for weeks, 12 for months, 4 for quarters...)\n",
        "  -com: optional, determines wheter expected returns are calculate as sample mean or anualized compounded return\n",
        "      Selecting True we use compounded returns estimation\n",
        "\"\"\"\n",
        "  if com:\n",
        "    return (1+ret).prod()**(n/len(ret))-1\n",
        "  else:\n",
        "    return ret.mean()*n\n"
      ],
      "metadata": {
        "id": "QTqtDZN8RXos"
      },
      "execution_count": 36,
      "outputs": []
    },
    {
      "cell_type": "markdown",
      "source": [
        "Applying this function on previously created data set of returns to calculate expected return based on first method (annualized sample mean):"
      ],
      "metadata": {
        "id": "hJjk4g7ESq3w"
      }
    },
    {
      "cell_type": "code",
      "source": [
        "er1=expRet(returns,252) #Using the arithmetic mean\n",
        "er1"
      ],
      "metadata": {
        "id": "n0asFG3OSr_Z",
        "outputId": "c2057b91-fcc0-4f17-c28f-2c7f53ae0f08",
        "colab": {
          "base_uri": "https://localhost:8080/"
        }
      },
      "execution_count": 37,
      "outputs": [
        {
          "output_type": "execute_result",
          "data": {
            "text/plain": [
              "AMZN     0.138659\n",
              "YHOO     0.507439\n",
              "IBM     -0.085088\n",
              "AAPL     0.203447\n",
              "^GSPC    0.177588\n",
              "dtype: float64"
            ]
          },
          "metadata": {},
          "execution_count": 37
        }
      ]
    },
    {
      "cell_type": "markdown",
      "source": [
        "Now calculate expected returns using the second method (i.e. annualized compounded sample returns):"
      ],
      "metadata": {
        "id": "RZc5E2OsS1Jg"
      }
    },
    {
      "cell_type": "code",
      "source": [
        "er2=expRet(returns,252,True) #Using the geometric mean\n",
        "er2"
      ],
      "metadata": {
        "id": "L29Wgh3vS17i",
        "outputId": "622897a4-7fbf-4113-faec-7fe05d2454ab",
        "colab": {
          "base_uri": "https://localhost:8080/"
        }
      },
      "execution_count": 38,
      "outputs": [
        {
          "output_type": "execute_result",
          "data": {
            "text/plain": [
              "AMZN     0.098445\n",
              "YHOO     0.587468\n",
              "IBM     -0.096239\n",
              "AAPL     0.186707\n",
              "^GSPC    0.186941\n",
              "dtype: float64"
            ]
          },
          "metadata": {},
          "execution_count": 38
        }
      ]
    },
    {
      "cell_type": "markdown",
      "source": [
        "Next, let us now define function which calculates annualized volatility of sample returns:"
      ],
      "metadata": {
        "id": "onGvBqCiS9vC"
      }
    },
    {
      "cell_type": "code",
      "source": [
        "def annualize_vol(ret,n=252):\n",
        "  \"\"\"Calculates volatility of sample returns. Parameters are:\n",
        "  -ret: pandas' DataFrame or series of returns\n",
        "  - n: optional, number of compounding periods in a year(252 for days, 52 for weeks, 12 for months, 4 for quarters)\n",
        "  \"\"\"\n",
        "  return ret.std()*n**0.5"
      ],
      "metadata": {
        "id": "wlIG1IA_S-vk"
      },
      "execution_count": 39,
      "outputs": []
    },
    {
      "cell_type": "markdown",
      "source": [
        "Now use it to calculate volatility of each stock. Which stock is the most risky? Is this the same stock which has the highest returns? What do you concludes?"
      ],
      "metadata": {
        "id": "Xcl9UAAKTkvq"
      }
    },
    {
      "cell_type": "code",
      "source": [
        "annualize_vol(returns,252)"
      ],
      "metadata": {
        "id": "oCUbq2FpTlbo",
        "outputId": "91d3d9e9-2710-4e79-fa50-caf95e78f3a9",
        "colab": {
          "base_uri": "https://localhost:8080/"
        }
      },
      "execution_count": 40,
      "outputs": [
        {
          "output_type": "execute_result",
          "data": {
            "text/plain": [
              "AMZN     0.297614\n",
              "YHOO     0.300029\n",
              "IBM      0.178456\n",
              "AAPL     0.252674\n",
              "^GSPC    0.110939\n",
              "dtype: float64"
            ]
          },
          "metadata": {},
          "execution_count": 40
        }
      ]
    },
    {
      "cell_type": "markdown",
      "source": [
        "Finally, we are going to define function which calculates the Sharpe ratio. In its construction we consider both approaches of expected returns calculation. Also, we give user the opportunity to set her own annualized risk-free rate:"
      ],
      "metadata": {
        "id": "6948NKRgTqEc"
      }
    },
    {
      "cell_type": "code",
      "source": [
        "def sharpe(ret,n=252,rf=0,com=False):\n",
        "  \"\"\"Calculate Sharpe's ratio. Parameters are:\n",
        "  -ret: Pandas' DataFrame or series of returns\n",
        "  -rf: optional, risk free rate(should be given as decimal, if it is omitted, we asume it to be zero)\n",
        "  -n: optional, number of compounding periods in a year(252 for days, 52 for weeks, 12 for months, 4 for quarters...)\n",
        "  com: optional, determines whether expected returns are calcualted as annualized sample mean or annualized compounded return\n",
        "    selecting True we select compounded returns estimation for the expected returns\n",
        "    \"\"\"\n",
        "  return(expRet(ret,n,com)-rf)/annualize_vol(ret,n)"
      ],
      "metadata": {
        "id": "SjJRjSXATq0A"
      },
      "execution_count": 43,
      "outputs": []
    },
    {
      "cell_type": "markdown",
      "source": [
        "Calculate the Sharpe ratio for each stock in the sample under assumption that risk-free rate is 3% annually. If we calculate expected returns using the first approach, the Sharpe ratio is:"
      ],
      "metadata": {
        "id": "eQI0cptVUt4G"
      }
    },
    {
      "cell_type": "code",
      "source": [
        "sharpe(returns,252,rf=0.03)"
      ],
      "metadata": {
        "id": "ByTgAmtrUu12",
        "outputId": "6c4119a1-8646-440c-a2db-e5899582422a",
        "colab": {
          "base_uri": "https://localhost:8080/"
        }
      },
      "execution_count": 44,
      "outputs": [
        {
          "output_type": "execute_result",
          "data": {
            "text/plain": [
              "AMZN     0.365101\n",
              "YHOO     1.591310\n",
              "IBM     -0.644909\n",
              "AAPL     0.686445\n",
              "^GSPC    1.330352\n",
              "dtype: float64"
            ]
          },
          "metadata": {},
          "execution_count": 44
        }
      ]
    },
    {
      "cell_type": "markdown",
      "source": [
        "Note that the second argument n is an optional argument equal by default to 252. Thus, we could skip 252 as the second argument."
      ],
      "metadata": {
        "id": "-IoFBC7TU1Pl"
      }
    },
    {
      "cell_type": "code",
      "source": [
        "sharpe(returns,rf=0.03)"
      ],
      "metadata": {
        "id": "1teFSUNuU2I1",
        "outputId": "57a1a2e0-a9f6-46d2-e834-529293c67265",
        "colab": {
          "base_uri": "https://localhost:8080/"
        }
      },
      "execution_count": 45,
      "outputs": [
        {
          "output_type": "execute_result",
          "data": {
            "text/plain": [
              "AMZN     0.365101\n",
              "YHOO     1.591310\n",
              "IBM     -0.644909\n",
              "AAPL     0.686445\n",
              "^GSPC    1.330352\n",
              "dtype: float64"
            ]
          },
          "metadata": {},
          "execution_count": 45
        }
      ]
    },
    {
      "cell_type": "markdown",
      "source": [
        "The second approach leads to:"
      ],
      "metadata": {
        "id": "shl_Whq_U52e"
      }
    },
    {
      "cell_type": "code",
      "source": [
        "sharpe(returns,252,rf=0.03,com=True)"
      ],
      "metadata": {
        "id": "r1_ECWz4U6dE",
        "outputId": "28c44cc1-18ba-4c15-964b-a2eee72324c4",
        "colab": {
          "base_uri": "https://localhost:8080/"
        }
      },
      "execution_count": 46,
      "outputs": [
        {
          "output_type": "execute_result",
          "data": {
            "text/plain": [
              "AMZN     0.229980\n",
              "YHOO     1.858048\n",
              "IBM     -0.707396\n",
              "AAPL     0.620195\n",
              "^GSPC    1.414658\n",
              "dtype: float64"
            ]
          },
          "metadata": {},
          "execution_count": 46
        }
      ]
    },
    {
      "cell_type": "markdown",
      "source": [
        "### <font color='MediumVioletRed' style=\"font-size:20px\"><b>Data set for Fama-French model</b></font>"
      ],
      "metadata": {
        "id": "fbyySmq5VLAF"
      }
    }
  ]
}