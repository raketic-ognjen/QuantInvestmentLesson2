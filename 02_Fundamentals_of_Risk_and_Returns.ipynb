{
  "nbformat": 4,
  "nbformat_minor": 0,
  "metadata": {
    "colab": {
      "provenance": []
    },
    "kernelspec": {
      "name": "python3",
      "display_name": "Python 3"
    },
    "language_info": {
      "name": "python"
    }
  },
  "cells": [
    {
      "cell_type": "markdown",
      "source": [
        "# <font color='tomato' style=\"font-size:40px\"><center><b>02. Fundamentals of Risk and Returns</b></center></font>"
      ],
      "metadata": {
        "id": "B8wR_RJ3kUrA"
      }
    },
    {
      "cell_type": "markdown",
      "source": [
        "In this module we discuss returns, risk, and risk-adjusted performance measures. These concepts are key to portfolio analysis and management. In particular, we discuss simple and cumulative returns, expected returns, standard deviation, as well as a measure of downside risk - drawdown. We discuss, also, risk-adjusted performance measures including return-risk ratio as well as the Sharpe ratio.\n",
        "\n",
        "On the programming side of things, we review how to import and manipulate financial data using Pandas, how to plot the output of our analysis using Plotly, and how to implement in Python all of the concepts that we talk about in class.\n",
        "\n",
        "It may be useful to consult Lectures on Pandas and Plotly from the Bootcamp  if you have difficulties understanding the code that we are using. But, hopefully, it should be sufficiently clear as is."
      ],
      "metadata": {
        "id": "rtESFpyTklFx"
      }
    }
  ]
}