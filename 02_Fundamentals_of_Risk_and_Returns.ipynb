{
  "nbformat": 4,
  "nbformat_minor": 0,
  "metadata": {
    "colab": {
      "provenance": []
    },
    "kernelspec": {
      "name": "python3",
      "display_name": "Python 3"
    },
    "language_info": {
      "name": "python"
    }
  },
  "cells": [
    {
      "cell_type": "markdown",
      "source": [
        "# <font color='tomato' style=\"font-size:40px\"><center><b>02. Fundamentals of Risk and Returns</b></center></font>"
      ],
      "metadata": {
        "id": "B8wR_RJ3kUrA"
      }
    },
    {
      "cell_type": "markdown",
      "source": [
        "In this module we discuss returns, risk, and risk-adjusted performance measures. These concepts are key to portfolio analysis and management. In particular, we discuss simple and cumulative returns, expected returns, standard deviation, as well as a measure of downside risk - drawdown. We discuss, also, risk-adjusted performance measures including return-risk ratio as well as the Sharpe ratio.\n",
        "\n",
        "On the programming side of things, we review how to import and manipulate financial data using Pandas, how to plot the output of our analysis using Plotly, and how to implement in Python all of the concepts that we talk about in class.\n",
        "\n",
        "It may be useful to consult Lectures on Pandas and Plotly from the Bootcamp  if you have difficulties understanding the code that we are using. But, hopefully, it should be sufficiently clear as is."
      ],
      "metadata": {
        "id": "rtESFpyTklFx"
      }
    },
    {
      "cell_type": "markdown",
      "source": [
        "In every class, we import packages necessary for further work:\n",
        "* <font color='mediumseagreen'><b>Pandas</b></font>\n",
        "* <font color='mediumseagreen'><b>DateTime</b></font>\n",
        "* <font color='mediumseagreen'><b>NumPy</b></font>\n",
        "* <font color='mediumseagreen'><b>Plotly - Graph objects</b></font>\n",
        "* function <font color='DodgerBlue'><b>make_subplots</b></font> from <font color='mediumseagreen'><b>Plotly</b></font>"
      ],
      "metadata": {
        "id": "HJQJ22TBHZWK"
      }
    },
    {
      "cell_type": "code",
      "source": [
        "import datetime as dt\n",
        "import pandas as pd\n",
        "import numpy as np\n",
        "import plotly.graph_objects as go\n",
        "from plotly.subplots import make_subplots"
      ],
      "metadata": {
        "id": "BTxCv2UxHa90"
      },
      "execution_count": 2,
      "outputs": []
    },
    {
      "cell_type": "markdown",
      "source": [
        "## <font color='orange' style=\"font-size:25px\"><b>Returns</b></font>"
      ],
      "metadata": {
        "id": "5TcsO4SGHz88"
      }
    },
    {
      "cell_type": "markdown",
      "source": [
        "Suppose we want to compare performance of two stocks. Price of the first one was initially 10 and grew to 12 dollars per share, while the price of the second one was 1000 dollars and grew to 1002 dollars per share. Both increased by 2 dollars"
      ],
      "metadata": {
        "id": "dYPPP0DaHUmD"
      }
    },
    {
      "cell_type": "code",
      "source": [
        "12-10, 1002-1000"
      ],
      "metadata": {
        "colab": {
          "base_uri": "https://localhost:8080/"
        },
        "id": "63XGsAn2HTag",
        "outputId": "80decc87-8d27-42be-e1d6-da8006bb862c"
      },
      "execution_count": 1,
      "outputs": [
        {
          "output_type": "execute_result",
          "data": {
            "text/plain": [
              "(2, 2)"
            ]
          },
          "metadata": {},
          "execution_count": 1
        }
      ]
    },
    {
      "cell_type": "markdown",
      "source": [
        "On the other hand, it is clear that the first stock grew a lot, relative to the initial price, while the second stock barely moved. So, dollar returns, while important, do not tell investors the full story about their performance."
      ],
      "metadata": {
        "id": "UZ4k6WS9H1ma"
      }
    },
    {
      "cell_type": "markdown",
      "source": [
        "Most investors are concerned with returns (relative returns) instead of dollar returns (price changes of assets or absolute returns). There are good reason for that:\n",
        "\n",
        "* Return on an asset is a scale-free measure of the investment performance. Scale-free means that, using returns, we can compare two investments that have different dollar costs.\n",
        "\n",
        "* Also, (relative) returns have nicer statistical properties than dollar returns"
      ],
      "metadata": {
        "id": "UlIx1w3MIPiJ"
      }
    },
    {
      "cell_type": "markdown",
      "source": [
        "### <font color='MediumVioletRed' style=\"font-size:20px\"><b>Simple returns</b></font>"
      ],
      "metadata": {
        "id": "u9tmmOF7IUiX"
      }
    },
    {
      "cell_type": "markdown",
      "source": [
        "**Simple or arithmetic returns** for the unit time period is defined as (here $P_t$ is asset price at time $t$):\n",
        "\n",
        "$$r_{t+1}=\\frac{P_{t+1}−P_{t}}{P_{t}}=\\frac{ΔP_t}{P_{t}}=\\frac{P_{t+1}}{P_{t}}−1$$\n",
        "\n",
        "The unit time period can be 1 day (in which case this would be simple daily return), 1 week (this would be simple weekly return) etc."
      ],
      "metadata": {
        "id": "wbEzgmJLIVdM"
      }
    },
    {
      "cell_type": "markdown",
      "source": [
        "For the example above, simple returns would be"
      ],
      "metadata": {
        "id": "ebdz8v4aIWqc"
      }
    },
    {
      "cell_type": "code",
      "source": [
        "(12-10)/10,(1002-1000)/1000"
      ],
      "metadata": {
        "colab": {
          "base_uri": "https://localhost:8080/"
        },
        "id": "hDVhetzOIXJO",
        "outputId": "caa9a525-5a89-4940-8b54-2c98d3cb808c"
      },
      "execution_count": 3,
      "outputs": [
        {
          "output_type": "execute_result",
          "data": {
            "text/plain": [
              "(0.2, 0.002)"
            ]
          },
          "metadata": {},
          "execution_count": 3
        }
      ]
    },
    {
      "cell_type": "markdown",
      "source": [
        "Price at time $t+1$ is related to the simple return as follows:\n",
        "\n",
        "$$P_{t+1}=P_{t}(1+r_{t+1})$$"
      ],
      "metadata": {
        "id": "8lEPL2WaIduq"
      }
    },
    {
      "cell_type": "markdown",
      "source": [
        "So, if we know the price at time $t$, in order to forecast the price at time $t+1$ we need to forecast the return between $t$ and $t+1$. We need to, in other words, answer the following question: what is the one-day (one-week, one-month etc) return that we expect is to be realized in the next period."
      ],
      "metadata": {
        "id": "MnVzXNplIeo_"
      }
    },
    {
      "cell_type": "markdown",
      "source": [
        "It is convenient to use both net returns $r_t$  ( numbers like 0.03, -0.01, etc.) and gross returns $(1+r_t)$ (which will be something like 1.03, 0.99, etc.). Thus, price tomorrow would be price today times the gross return between today and tomorrow.\n",
        "\n",
        "We have seen this in the first lectures when we talked about $u$ and $d$. Those were gross returns on risky assets, while $u-1$ and $d-1$ are net returns."
      ],
      "metadata": {
        "id": "5nmLgJA9IgE6"
      }
    },
    {
      "cell_type": "markdown",
      "source": [
        "If you buy a stock for 10 dollars and sell it for 12, the net return (we from now on skip the word net and call it just return) is:"
      ],
      "metadata": {
        "id": "T4Mrhh0wIr1b"
      }
    },
    {
      "cell_type": "code",
      "source": [
        "(12-10)/10"
      ],
      "metadata": {
        "colab": {
          "base_uri": "https://localhost:8080/"
        },
        "id": "c--XQLfRIt6Q",
        "outputId": "c6c0f10b-cdc5-4efa-efd0-4134c6c57670"
      },
      "execution_count": 4,
      "outputs": [
        {
          "output_type": "execute_result",
          "data": {
            "text/plain": [
              "0.2"
            ]
          },
          "metadata": {},
          "execution_count": 4
        }
      ]
    },
    {
      "cell_type": "markdown",
      "source": [
        "On the other hand, gross return would be $\\frac{P_{t+1}}{P_{t}}$. In our example this is:"
      ],
      "metadata": {
        "id": "BioYWyY-IxzC"
      }
    },
    {
      "cell_type": "code",
      "source": [
        "12/10"
      ],
      "metadata": {
        "colab": {
          "base_uri": "https://localhost:8080/"
        },
        "id": "Iv7io_nGI0E2",
        "outputId": "633eff56-4b3e-47f0-8487-bbbfbef9931e"
      },
      "execution_count": 5,
      "outputs": [
        {
          "output_type": "execute_result",
          "data": {
            "text/plain": [
              "1.2"
            ]
          },
          "metadata": {},
          "execution_count": 5
        }
      ]
    },
    {
      "cell_type": "markdown",
      "source": [
        "If the stock had  paid dividends between t and t+1, the relevant return capturing the monetary gain/loss of the shareholder is\n",
        "\n",
        "$$TR_{t,t+1} = \\frac{P_{t+1} - P_{t} + D_{t,t+1}}{P_{t}}$$"
      ],
      "metadata": {
        "id": "eePkVJnUI5gq"
      }
    },
    {
      "cell_type": "markdown",
      "source": [
        "This is the **total return** (without dividends we sometimes cal returns **price return**).\n",
        "\n",
        "Having said that, utilizing adjusted stock prices, available in most data bases such as Yahoo Finance! takes care of the dividends. In that case, formally calculating price returns of adjusted stock prices is the same as calculating total returns.\n",
        "\n",
        "Unless otherwise stated, and for the simplicity of the exposition, we use price returns but apply them to adjusted stock prices unless otherwise stated."
      ],
      "metadata": {
        "id": "v8KJALOZI67I"
      }
    },
    {
      "cell_type": "markdown",
      "source": [
        "### <font color='MediumVioletRed' style=\"font-size:20px\"><b>Multiperiod returns</b></font>"
      ],
      "metadata": {
        "id": "A1F2Go2hI9lE"
      }
    },
    {
      "cell_type": "markdown",
      "source": [
        "Suppose you have purchased a stock at time $t$ and sold it at time $t+2$. What is the cumulative return on your investment? Clearly, it is\n",
        "\n",
        "$$r_{t,t+2} = \\frac{P_{t+2}}{P_{t}} -1$$\n",
        "\n",
        "If our unit of time measure is 1 day, one way to think of this expression is in terms of returns that are cumulated over the two days.  Thus, we call return over multiple periods **cumulative return**.\n",
        "\n",
        "We can calculate cumulative returns using either time series of prices or using returns data. Note that:\n",
        "\n",
        "$$r_{t,t+2}=\\frac{P_{t+2}}{P_{t}} -1 =\\frac{P_{t+2}}{P_{t+1}}\\frac{P_{t+1}}{P_{t}}-1 $$\n",
        "\n",
        "This can be rewritten in terms of gross returns as follows:"
      ],
      "metadata": {
        "id": "jmAqzmB9I-mG"
      }
    },
    {
      "cell_type": "markdown",
      "source": [
        "$$\\frac{P_{t+1}}{P_{t}} = 1+r_{t,t+1}$$\n",
        "\n",
        "$$\\frac{P_{t+2}}{P_{t+1}} = 1+r_{t+1,t+2}$$\n",
        "\n",
        "Thus, cumulative return for 2 periods is, therefore\n",
        "\n",
        "$$r_{t,t+2} = (1+r_{t,t+1})(1+r_{t+1,t+2}) -1$$\n"
      ],
      "metadata": {
        "id": "3BNqa7MRJAVq"
      }
    },
    {
      "cell_type": "markdown",
      "source": [
        "Suppose you buy a stock that gains 10 percent on the first day and loses 3 percent on the second day. Cumulative return for the two day period is:"
      ],
      "metadata": {
        "id": "I_bNhBneJBS8"
      }
    },
    {
      "cell_type": "code",
      "source": [
        "(1+0.1)*(1-0.03)-1"
      ],
      "metadata": {
        "colab": {
          "base_uri": "https://localhost:8080/"
        },
        "id": "ggRJ6A36JDGT",
        "outputId": "f6852c9c-6f4f-409e-99b8-ff5937ceaa99"
      },
      "execution_count": 6,
      "outputs": [
        {
          "output_type": "execute_result",
          "data": {
            "text/plain": [
              "0.06699999999999995"
            ]
          },
          "metadata": {},
          "execution_count": 6
        }
      ]
    },
    {
      "cell_type": "markdown",
      "source": [
        "Thus, the gain is 6.7 percent for the two day period."
      ],
      "metadata": {
        "id": "1s9KC2QFJJN6"
      }
    },
    {
      "cell_type": "markdown",
      "source": [
        "Q: You buy a stock at the closing price on Monday. On Tuesday, the stock closes at 10% above Monday's closing price. On Wednesday, it falls and closes at 10% below Tuesday’s closing price and you sell it at that closing price. Did you have a negative, positive or zero return?"
      ],
      "metadata": {
        "id": "LKFYxPkDJKPW"
      }
    },
    {
      "cell_type": "code",
      "source": [
        "((1+0.1)*(1-0.1)-1)"
      ],
      "metadata": {
        "colab": {
          "base_uri": "https://localhost:8080/"
        },
        "id": "vkUsnwa3JPSs",
        "outputId": "00f93a7d-93a0-46cd-c60a-cfeded33d243"
      },
      "execution_count": 9,
      "outputs": [
        {
          "output_type": "execute_result",
          "data": {
            "text/plain": [
              "-0.009999999999999898"
            ]
          },
          "metadata": {},
          "execution_count": 9
        }
      ]
    },
    {
      "cell_type": "markdown",
      "source": [
        "### <font color='MediumVioletRed' style=\"font-size:20px\"><b>Annualization</b></font>"
      ],
      "metadata": {
        "id": "QcPz9zRBJo3Q"
      }
    },
    {
      "cell_type": "markdown",
      "source": [
        "Suppose a monthly return is 1 percent. What would the annual return be provided that this return persists for 12 months?\n",
        "\n",
        "One way to answer this is to say 0.01x12 = 0.12. While many people calculate it this way, it would not be entirely accurate because it ignores accumulation of interest on interest (or, return on return).\n",
        "\n",
        "Cumulative returns for 12 months would satisfy:\n",
        "\n",
        "$$1+r_{t,t+12} = (1+r_{t,t+1})(1+r_{t+1,t+2})\\cdots (1+r_{t+11,t+12})$$"
      ],
      "metadata": {
        "id": "pbt2yYOQJp2u"
      }
    },
    {
      "cell_type": "markdown",
      "source": [
        "Assuming that return in period 1 persists in all other periods (i.e. that returns will be the same in all periods) we obtain the following expression:"
      ],
      "metadata": {
        "id": "yDGywChJJrb0"
      }
    },
    {
      "cell_type": "markdown",
      "source": [
        "$$1+r_{t,t+12} = (1+r_{t,t+1})^{12} \\,\\,\\,\\,\\,\\,\\,\\,\\,\\,\\,\\,\\,\\,\\,\\,\\,\\,\\,\\,\\, \\Longleftrightarrow  \\,\\,\\,\\,\\,\\,\\,\\,\\,\\,\\,\\,\\,\\,\\,\\,\\,\\,\\,\\,\\, r_{t,t+12} = (1+r_{t,t+1})^{12}-1$$"
      ],
      "metadata": {
        "id": "cQOJqMeKJv_C"
      }
    },
    {
      "cell_type": "markdown",
      "source": [
        "This implies that the annualized return would be equal to:"
      ],
      "metadata": {
        "id": "7trhHsyoJzd7"
      }
    },
    {
      "cell_type": "code",
      "source": [
        "(1+0.01)**12-1"
      ],
      "metadata": {
        "colab": {
          "base_uri": "https://localhost:8080/"
        },
        "id": "A1PzrTxtJ0Ia",
        "outputId": "80a1e20d-f934-4878-f964-d65ed2cff684"
      },
      "execution_count": 10,
      "outputs": [
        {
          "output_type": "execute_result",
          "data": {
            "text/plain": [
              "0.12682503013196977"
            ]
          },
          "metadata": {},
          "execution_count": 10
        }
      ]
    },
    {
      "cell_type": "markdown",
      "source": [
        "So, it is 12.68 percent"
      ],
      "metadata": {
        "id": "rlEWdesPJ4Sl"
      }
    },
    {
      "cell_type": "markdown",
      "source": [
        "If monthy return is very small, the difference is miniscule. Namely, using Taylor expansion,\n",
        "\n",
        "$$(1+r_{t,t+1})^{12}-1 \\approx (1 + 12 \\, r_{t,t+1}) -1 = 12 \\, r_{t,t+1}$$"
      ],
      "metadata": {
        "id": "sG-4J3UjJ6IJ"
      }
    },
    {
      "cell_type": "markdown",
      "source": [
        "Q: A stock gains 1% over a quarter (i.e. a 3 month period). What is it’s annualized return?"
      ],
      "metadata": {
        "id": "Ntyxk50aKFdJ"
      }
    },
    {
      "cell_type": "code",
      "source": [
        "(1+0.01)**4-1"
      ],
      "metadata": {
        "colab": {
          "base_uri": "https://localhost:8080/"
        },
        "id": "S6NM0rAbKGGL",
        "outputId": "ebad8525-0dd3-4586-f773-ed8005ec8ce3"
      },
      "execution_count": 11,
      "outputs": [
        {
          "output_type": "execute_result",
          "data": {
            "text/plain": [
              "0.040604010000000024"
            ]
          },
          "metadata": {},
          "execution_count": 11
        }
      ]
    },
    {
      "cell_type": "markdown",
      "source": [
        "Thus, one way to annualize is to use just multiplication of the single period by the number of periods (the first methods)\n",
        "\n",
        "The second, more sophisticated rule for annualization is to take into the account cumulation as we explained above."
      ],
      "metadata": {
        "id": "JzHw7maBKJw_"
      }
    },
    {
      "cell_type": "markdown",
      "source": [
        "### <font color='MediumVioletRed' style=\"font-size:20px\"><b>Importing financial data into Pandas</b></font>"
      ],
      "metadata": {
        "id": "Aha3eBG6Kq1a"
      }
    },
    {
      "cell_type": "markdown",
      "source": [
        "Let us import data from file 'fivepricesNew.csv'. If you remember the Bootcamp, you know that this can be easily done with <font color='mediumseagreen'><b>Pandas</b></font>' function <font color='DodgerBlue'><b>pdread_csv</b></font>. Google Colab users should upload the data first:"
      ],
      "metadata": {
        "id": "Rdk6-3dfKrnr"
      }
    },
    {
      "cell_type": "code",
      "source": [
        "from google.colab import files\n",
        "uploaded1=files.upload()"
      ],
      "metadata": {
        "colab": {
          "base_uri": "https://localhost:8080/",
          "height": 73
        },
        "id": "NERnttrrKKpR",
        "outputId": "166da6f6-4a77-4fe3-88c7-f02cef3921fe"
      },
      "execution_count": 12,
      "outputs": [
        {
          "output_type": "display_data",
          "data": {
            "text/plain": [
              "<IPython.core.display.HTML object>"
            ],
            "text/html": [
              "\n",
              "     <input type=\"file\" id=\"files-396b91e6-70e5-4667-944f-cd9bbe3d5600\" name=\"files[]\" multiple disabled\n",
              "        style=\"border:none\" />\n",
              "     <output id=\"result-396b91e6-70e5-4667-944f-cd9bbe3d5600\">\n",
              "      Upload widget is only available when the cell has been executed in the\n",
              "      current browser session. Please rerun this cell to enable.\n",
              "      </output>\n",
              "      <script>// Copyright 2017 Google LLC\n",
              "//\n",
              "// Licensed under the Apache License, Version 2.0 (the \"License\");\n",
              "// you may not use this file except in compliance with the License.\n",
              "// You may obtain a copy of the License at\n",
              "//\n",
              "//      http://www.apache.org/licenses/LICENSE-2.0\n",
              "//\n",
              "// Unless required by applicable law or agreed to in writing, software\n",
              "// distributed under the License is distributed on an \"AS IS\" BASIS,\n",
              "// WITHOUT WARRANTIES OR CONDITIONS OF ANY KIND, either express or implied.\n",
              "// See the License for the specific language governing permissions and\n",
              "// limitations under the License.\n",
              "\n",
              "/**\n",
              " * @fileoverview Helpers for google.colab Python module.\n",
              " */\n",
              "(function(scope) {\n",
              "function span(text, styleAttributes = {}) {\n",
              "  const element = document.createElement('span');\n",
              "  element.textContent = text;\n",
              "  for (const key of Object.keys(styleAttributes)) {\n",
              "    element.style[key] = styleAttributes[key];\n",
              "  }\n",
              "  return element;\n",
              "}\n",
              "\n",
              "// Max number of bytes which will be uploaded at a time.\n",
              "const MAX_PAYLOAD_SIZE = 100 * 1024;\n",
              "\n",
              "function _uploadFiles(inputId, outputId) {\n",
              "  const steps = uploadFilesStep(inputId, outputId);\n",
              "  const outputElement = document.getElementById(outputId);\n",
              "  // Cache steps on the outputElement to make it available for the next call\n",
              "  // to uploadFilesContinue from Python.\n",
              "  outputElement.steps = steps;\n",
              "\n",
              "  return _uploadFilesContinue(outputId);\n",
              "}\n",
              "\n",
              "// This is roughly an async generator (not supported in the browser yet),\n",
              "// where there are multiple asynchronous steps and the Python side is going\n",
              "// to poll for completion of each step.\n",
              "// This uses a Promise to block the python side on completion of each step,\n",
              "// then passes the result of the previous step as the input to the next step.\n",
              "function _uploadFilesContinue(outputId) {\n",
              "  const outputElement = document.getElementById(outputId);\n",
              "  const steps = outputElement.steps;\n",
              "\n",
              "  const next = steps.next(outputElement.lastPromiseValue);\n",
              "  return Promise.resolve(next.value.promise).then((value) => {\n",
              "    // Cache the last promise value to make it available to the next\n",
              "    // step of the generator.\n",
              "    outputElement.lastPromiseValue = value;\n",
              "    return next.value.response;\n",
              "  });\n",
              "}\n",
              "\n",
              "/**\n",
              " * Generator function which is called between each async step of the upload\n",
              " * process.\n",
              " * @param {string} inputId Element ID of the input file picker element.\n",
              " * @param {string} outputId Element ID of the output display.\n",
              " * @return {!Iterable<!Object>} Iterable of next steps.\n",
              " */\n",
              "function* uploadFilesStep(inputId, outputId) {\n",
              "  const inputElement = document.getElementById(inputId);\n",
              "  inputElement.disabled = false;\n",
              "\n",
              "  const outputElement = document.getElementById(outputId);\n",
              "  outputElement.innerHTML = '';\n",
              "\n",
              "  const pickedPromise = new Promise((resolve) => {\n",
              "    inputElement.addEventListener('change', (e) => {\n",
              "      resolve(e.target.files);\n",
              "    });\n",
              "  });\n",
              "\n",
              "  const cancel = document.createElement('button');\n",
              "  inputElement.parentElement.appendChild(cancel);\n",
              "  cancel.textContent = 'Cancel upload';\n",
              "  const cancelPromise = new Promise((resolve) => {\n",
              "    cancel.onclick = () => {\n",
              "      resolve(null);\n",
              "    };\n",
              "  });\n",
              "\n",
              "  // Wait for the user to pick the files.\n",
              "  const files = yield {\n",
              "    promise: Promise.race([pickedPromise, cancelPromise]),\n",
              "    response: {\n",
              "      action: 'starting',\n",
              "    }\n",
              "  };\n",
              "\n",
              "  cancel.remove();\n",
              "\n",
              "  // Disable the input element since further picks are not allowed.\n",
              "  inputElement.disabled = true;\n",
              "\n",
              "  if (!files) {\n",
              "    return {\n",
              "      response: {\n",
              "        action: 'complete',\n",
              "      }\n",
              "    };\n",
              "  }\n",
              "\n",
              "  for (const file of files) {\n",
              "    const li = document.createElement('li');\n",
              "    li.append(span(file.name, {fontWeight: 'bold'}));\n",
              "    li.append(span(\n",
              "        `(${file.type || 'n/a'}) - ${file.size} bytes, ` +\n",
              "        `last modified: ${\n",
              "            file.lastModifiedDate ? file.lastModifiedDate.toLocaleDateString() :\n",
              "                                    'n/a'} - `));\n",
              "    const percent = span('0% done');\n",
              "    li.appendChild(percent);\n",
              "\n",
              "    outputElement.appendChild(li);\n",
              "\n",
              "    const fileDataPromise = new Promise((resolve) => {\n",
              "      const reader = new FileReader();\n",
              "      reader.onload = (e) => {\n",
              "        resolve(e.target.result);\n",
              "      };\n",
              "      reader.readAsArrayBuffer(file);\n",
              "    });\n",
              "    // Wait for the data to be ready.\n",
              "    let fileData = yield {\n",
              "      promise: fileDataPromise,\n",
              "      response: {\n",
              "        action: 'continue',\n",
              "      }\n",
              "    };\n",
              "\n",
              "    // Use a chunked sending to avoid message size limits. See b/62115660.\n",
              "    let position = 0;\n",
              "    do {\n",
              "      const length = Math.min(fileData.byteLength - position, MAX_PAYLOAD_SIZE);\n",
              "      const chunk = new Uint8Array(fileData, position, length);\n",
              "      position += length;\n",
              "\n",
              "      const base64 = btoa(String.fromCharCode.apply(null, chunk));\n",
              "      yield {\n",
              "        response: {\n",
              "          action: 'append',\n",
              "          file: file.name,\n",
              "          data: base64,\n",
              "        },\n",
              "      };\n",
              "\n",
              "      let percentDone = fileData.byteLength === 0 ?\n",
              "          100 :\n",
              "          Math.round((position / fileData.byteLength) * 100);\n",
              "      percent.textContent = `${percentDone}% done`;\n",
              "\n",
              "    } while (position < fileData.byteLength);\n",
              "  }\n",
              "\n",
              "  // All done.\n",
              "  yield {\n",
              "    response: {\n",
              "      action: 'complete',\n",
              "    }\n",
              "  };\n",
              "}\n",
              "\n",
              "scope.google = scope.google || {};\n",
              "scope.google.colab = scope.google.colab || {};\n",
              "scope.google.colab._files = {\n",
              "  _uploadFiles,\n",
              "  _uploadFilesContinue,\n",
              "};\n",
              "})(self);\n",
              "</script> "
            ]
          },
          "metadata": {}
        },
        {
          "output_type": "stream",
          "name": "stdout",
          "text": [
            "Saving fivepricesNew.csv to fivepricesNew.csv\n"
          ]
        }
      ]
    },
    {
      "cell_type": "code",
      "source": [
        "prices = pd.read_csv('fivepricesNew.csv',index_col=0,parse_dates=True)\n",
        "prices"
      ],
      "metadata": {
        "colab": {
          "base_uri": "https://localhost:8080/",
          "height": 455
        },
        "id": "_mwIKrEZKs5G",
        "outputId": "eee999c3-9e0e-4624-ac19-b065710b1b8b"
      },
      "execution_count": 13,
      "outputs": [
        {
          "output_type": "execute_result",
          "data": {
            "text/plain": [
              "                  AMZN       YHOO         IBM        AAPL    ^GSPC\n",
              "Date                                                              \n",
              "2013-01-02  257.309998  20.080000  196.350006   78.432899  1462.42\n",
              "2013-01-03  258.480011  19.780001  195.270004   77.442299  1459.37\n",
              "2013-01-04  259.149994  19.860001  193.990005   75.285698  1466.47\n",
              "2013-01-07  268.459015  19.400000  193.139999   74.842903  1461.89\n",
              "2013-01-08  266.380005  19.660000  192.869995   75.044296  1457.15\n",
              "...                ...        ...         ...         ...      ...\n",
              "2014-12-24  303.029999  50.650002  161.820007  112.010002  2081.88\n",
              "2014-12-26  309.089996  50.860001  162.339996  113.989998  2088.77\n",
              "2014-12-29  312.040008  50.529999  160.509995  113.910004  2090.57\n",
              "2014-12-30  310.299988  51.220001  160.050003  112.519997  2080.35\n",
              "2014-12-31  310.350006  50.509998  160.440002  110.379997  2058.90\n",
              "\n",
              "[504 rows x 5 columns]"
            ],
            "text/html": [
              "\n",
              "  <div id=\"df-064c6f7d-8f9f-4e96-9fd3-a18c10fa2a75\" class=\"colab-df-container\">\n",
              "    <div>\n",
              "<style scoped>\n",
              "    .dataframe tbody tr th:only-of-type {\n",
              "        vertical-align: middle;\n",
              "    }\n",
              "\n",
              "    .dataframe tbody tr th {\n",
              "        vertical-align: top;\n",
              "    }\n",
              "\n",
              "    .dataframe thead th {\n",
              "        text-align: right;\n",
              "    }\n",
              "</style>\n",
              "<table border=\"1\" class=\"dataframe\">\n",
              "  <thead>\n",
              "    <tr style=\"text-align: right;\">\n",
              "      <th></th>\n",
              "      <th>AMZN</th>\n",
              "      <th>YHOO</th>\n",
              "      <th>IBM</th>\n",
              "      <th>AAPL</th>\n",
              "      <th>^GSPC</th>\n",
              "    </tr>\n",
              "    <tr>\n",
              "      <th>Date</th>\n",
              "      <th></th>\n",
              "      <th></th>\n",
              "      <th></th>\n",
              "      <th></th>\n",
              "      <th></th>\n",
              "    </tr>\n",
              "  </thead>\n",
              "  <tbody>\n",
              "    <tr>\n",
              "      <th>2013-01-02</th>\n",
              "      <td>257.309998</td>\n",
              "      <td>20.080000</td>\n",
              "      <td>196.350006</td>\n",
              "      <td>78.432899</td>\n",
              "      <td>1462.42</td>\n",
              "    </tr>\n",
              "    <tr>\n",
              "      <th>2013-01-03</th>\n",
              "      <td>258.480011</td>\n",
              "      <td>19.780001</td>\n",
              "      <td>195.270004</td>\n",
              "      <td>77.442299</td>\n",
              "      <td>1459.37</td>\n",
              "    </tr>\n",
              "    <tr>\n",
              "      <th>2013-01-04</th>\n",
              "      <td>259.149994</td>\n",
              "      <td>19.860001</td>\n",
              "      <td>193.990005</td>\n",
              "      <td>75.285698</td>\n",
              "      <td>1466.47</td>\n",
              "    </tr>\n",
              "    <tr>\n",
              "      <th>2013-01-07</th>\n",
              "      <td>268.459015</td>\n",
              "      <td>19.400000</td>\n",
              "      <td>193.139999</td>\n",
              "      <td>74.842903</td>\n",
              "      <td>1461.89</td>\n",
              "    </tr>\n",
              "    <tr>\n",
              "      <th>2013-01-08</th>\n",
              "      <td>266.380005</td>\n",
              "      <td>19.660000</td>\n",
              "      <td>192.869995</td>\n",
              "      <td>75.044296</td>\n",
              "      <td>1457.15</td>\n",
              "    </tr>\n",
              "    <tr>\n",
              "      <th>...</th>\n",
              "      <td>...</td>\n",
              "      <td>...</td>\n",
              "      <td>...</td>\n",
              "      <td>...</td>\n",
              "      <td>...</td>\n",
              "    </tr>\n",
              "    <tr>\n",
              "      <th>2014-12-24</th>\n",
              "      <td>303.029999</td>\n",
              "      <td>50.650002</td>\n",
              "      <td>161.820007</td>\n",
              "      <td>112.010002</td>\n",
              "      <td>2081.88</td>\n",
              "    </tr>\n",
              "    <tr>\n",
              "      <th>2014-12-26</th>\n",
              "      <td>309.089996</td>\n",
              "      <td>50.860001</td>\n",
              "      <td>162.339996</td>\n",
              "      <td>113.989998</td>\n",
              "      <td>2088.77</td>\n",
              "    </tr>\n",
              "    <tr>\n",
              "      <th>2014-12-29</th>\n",
              "      <td>312.040008</td>\n",
              "      <td>50.529999</td>\n",
              "      <td>160.509995</td>\n",
              "      <td>113.910004</td>\n",
              "      <td>2090.57</td>\n",
              "    </tr>\n",
              "    <tr>\n",
              "      <th>2014-12-30</th>\n",
              "      <td>310.299988</td>\n",
              "      <td>51.220001</td>\n",
              "      <td>160.050003</td>\n",
              "      <td>112.519997</td>\n",
              "      <td>2080.35</td>\n",
              "    </tr>\n",
              "    <tr>\n",
              "      <th>2014-12-31</th>\n",
              "      <td>310.350006</td>\n",
              "      <td>50.509998</td>\n",
              "      <td>160.440002</td>\n",
              "      <td>110.379997</td>\n",
              "      <td>2058.90</td>\n",
              "    </tr>\n",
              "  </tbody>\n",
              "</table>\n",
              "<p>504 rows × 5 columns</p>\n",
              "</div>\n",
              "    <div class=\"colab-df-buttons\">\n",
              "\n",
              "  <div class=\"colab-df-container\">\n",
              "    <button class=\"colab-df-convert\" onclick=\"convertToInteractive('df-064c6f7d-8f9f-4e96-9fd3-a18c10fa2a75')\"\n",
              "            title=\"Convert this dataframe to an interactive table.\"\n",
              "            style=\"display:none;\">\n",
              "\n",
              "  <svg xmlns=\"http://www.w3.org/2000/svg\" height=\"24px\" viewBox=\"0 -960 960 960\">\n",
              "    <path d=\"M120-120v-720h720v720H120Zm60-500h600v-160H180v160Zm220 220h160v-160H400v160Zm0 220h160v-160H400v160ZM180-400h160v-160H180v160Zm440 0h160v-160H620v160ZM180-180h160v-160H180v160Zm440 0h160v-160H620v160Z\"/>\n",
              "  </svg>\n",
              "    </button>\n",
              "\n",
              "  <style>\n",
              "    .colab-df-container {\n",
              "      display:flex;\n",
              "      gap: 12px;\n",
              "    }\n",
              "\n",
              "    .colab-df-convert {\n",
              "      background-color: #E8F0FE;\n",
              "      border: none;\n",
              "      border-radius: 50%;\n",
              "      cursor: pointer;\n",
              "      display: none;\n",
              "      fill: #1967D2;\n",
              "      height: 32px;\n",
              "      padding: 0 0 0 0;\n",
              "      width: 32px;\n",
              "    }\n",
              "\n",
              "    .colab-df-convert:hover {\n",
              "      background-color: #E2EBFA;\n",
              "      box-shadow: 0px 1px 2px rgba(60, 64, 67, 0.3), 0px 1px 3px 1px rgba(60, 64, 67, 0.15);\n",
              "      fill: #174EA6;\n",
              "    }\n",
              "\n",
              "    .colab-df-buttons div {\n",
              "      margin-bottom: 4px;\n",
              "    }\n",
              "\n",
              "    [theme=dark] .colab-df-convert {\n",
              "      background-color: #3B4455;\n",
              "      fill: #D2E3FC;\n",
              "    }\n",
              "\n",
              "    [theme=dark] .colab-df-convert:hover {\n",
              "      background-color: #434B5C;\n",
              "      box-shadow: 0px 1px 3px 1px rgba(0, 0, 0, 0.15);\n",
              "      filter: drop-shadow(0px 1px 2px rgba(0, 0, 0, 0.3));\n",
              "      fill: #FFFFFF;\n",
              "    }\n",
              "  </style>\n",
              "\n",
              "    <script>\n",
              "      const buttonEl =\n",
              "        document.querySelector('#df-064c6f7d-8f9f-4e96-9fd3-a18c10fa2a75 button.colab-df-convert');\n",
              "      buttonEl.style.display =\n",
              "        google.colab.kernel.accessAllowed ? 'block' : 'none';\n",
              "\n",
              "      async function convertToInteractive(key) {\n",
              "        const element = document.querySelector('#df-064c6f7d-8f9f-4e96-9fd3-a18c10fa2a75');\n",
              "        const dataTable =\n",
              "          await google.colab.kernel.invokeFunction('convertToInteractive',\n",
              "                                                    [key], {});\n",
              "        if (!dataTable) return;\n",
              "\n",
              "        const docLinkHtml = 'Like what you see? Visit the ' +\n",
              "          '<a target=\"_blank\" href=https://colab.research.google.com/notebooks/data_table.ipynb>data table notebook</a>'\n",
              "          + ' to learn more about interactive tables.';\n",
              "        element.innerHTML = '';\n",
              "        dataTable['output_type'] = 'display_data';\n",
              "        await google.colab.output.renderOutput(dataTable, element);\n",
              "        const docLink = document.createElement('div');\n",
              "        docLink.innerHTML = docLinkHtml;\n",
              "        element.appendChild(docLink);\n",
              "      }\n",
              "    </script>\n",
              "  </div>\n",
              "\n",
              "\n",
              "<div id=\"df-2a514253-fc6a-485b-8c3f-1c5591ede71b\">\n",
              "  <button class=\"colab-df-quickchart\" onclick=\"quickchart('df-2a514253-fc6a-485b-8c3f-1c5591ede71b')\"\n",
              "            title=\"Suggest charts.\"\n",
              "            style=\"display:none;\">\n",
              "\n",
              "<svg xmlns=\"http://www.w3.org/2000/svg\" height=\"24px\"viewBox=\"0 0 24 24\"\n",
              "     width=\"24px\">\n",
              "    <g>\n",
              "        <path d=\"M19 3H5c-1.1 0-2 .9-2 2v14c0 1.1.9 2 2 2h14c1.1 0 2-.9 2-2V5c0-1.1-.9-2-2-2zM9 17H7v-7h2v7zm4 0h-2V7h2v10zm4 0h-2v-4h2v4z\"/>\n",
              "    </g>\n",
              "</svg>\n",
              "  </button>\n",
              "\n",
              "<style>\n",
              "  .colab-df-quickchart {\n",
              "    background-color: #E8F0FE;\n",
              "    border: none;\n",
              "    border-radius: 50%;\n",
              "    cursor: pointer;\n",
              "    display: none;\n",
              "    fill: #1967D2;\n",
              "    height: 32px;\n",
              "    padding: 0 0 0 0;\n",
              "    width: 32px;\n",
              "  }\n",
              "\n",
              "  .colab-df-quickchart:hover {\n",
              "    background-color: #E2EBFA;\n",
              "    box-shadow: 0px 1px 2px rgba(60, 64, 67, 0.3), 0px 1px 3px 1px rgba(60, 64, 67, 0.15);\n",
              "    fill: #174EA6;\n",
              "  }\n",
              "\n",
              "  [theme=dark] .colab-df-quickchart {\n",
              "    background-color: #3B4455;\n",
              "    fill: #D2E3FC;\n",
              "  }\n",
              "\n",
              "  [theme=dark] .colab-df-quickchart:hover {\n",
              "    background-color: #434B5C;\n",
              "    box-shadow: 0px 1px 3px 1px rgba(0, 0, 0, 0.15);\n",
              "    filter: drop-shadow(0px 1px 2px rgba(0, 0, 0, 0.3));\n",
              "    fill: #FFFFFF;\n",
              "  }\n",
              "</style>\n",
              "\n",
              "  <script>\n",
              "    async function quickchart(key) {\n",
              "      const charts = await google.colab.kernel.invokeFunction(\n",
              "          'suggestCharts', [key], {});\n",
              "    }\n",
              "    (() => {\n",
              "      let quickchartButtonEl =\n",
              "        document.querySelector('#df-2a514253-fc6a-485b-8c3f-1c5591ede71b button');\n",
              "      quickchartButtonEl.style.display =\n",
              "        google.colab.kernel.accessAllowed ? 'block' : 'none';\n",
              "    })();\n",
              "  </script>\n",
              "</div>\n",
              "    </div>\n",
              "  </div>\n"
            ]
          },
          "metadata": {},
          "execution_count": 13
        }
      ]
    },
    {
      "cell_type": "markdown",
      "source": [
        "This file contains adjusted daily prices on 4 large US stocks and on the SP500 index. This index is one of the most frequently used proxies for the US stock market. It is constructed utilizing companies with the largest market cap.\n",
        "\n",
        "This is how we can calculate simple (daily) returns in <font color='Green'><b>Pandas</b></font>:"
      ],
      "metadata": {
        "id": "VXyUpyivK_zP"
      }
    },
    {
      "cell_type": "code",
      "source": [
        "returns = prices.pct_change()\n",
        "returns"
      ],
      "metadata": {
        "colab": {
          "base_uri": "https://localhost:8080/",
          "height": 455
        },
        "id": "VxS_jkgpLA7O",
        "outputId": "8b0a41dd-ff60-41fe-d1a4-37c77244ba15"
      },
      "execution_count": 14,
      "outputs": [
        {
          "output_type": "execute_result",
          "data": {
            "text/plain": [
              "                AMZN      YHOO       IBM      AAPL     ^GSPC\n",
              "Date                                                        \n",
              "2013-01-02       NaN       NaN       NaN       NaN       NaN\n",
              "2013-01-03  0.004547 -0.014940 -0.005500 -0.012630 -0.002086\n",
              "2013-01-04  0.002592  0.004044 -0.006555 -0.027848  0.004865\n",
              "2013-01-07  0.035921 -0.023162 -0.004382 -0.005882 -0.003123\n",
              "2013-01-08 -0.007744  0.013402 -0.001398  0.002691 -0.003242\n",
              "...              ...       ...       ...       ...       ...\n",
              "2014-12-24 -0.010627  0.012595 -0.002589 -0.004709 -0.000139\n",
              "2014-12-26  0.019998  0.004146  0.003213  0.017677  0.003310\n",
              "2014-12-29  0.009544 -0.006488 -0.011273 -0.000702  0.000862\n",
              "2014-12-30 -0.005576  0.013655 -0.002866 -0.012203 -0.004889\n",
              "2014-12-31  0.000161 -0.013862  0.002437 -0.019019 -0.010311\n",
              "\n",
              "[504 rows x 5 columns]"
            ],
            "text/html": [
              "\n",
              "  <div id=\"df-bb5f0237-2df5-4202-a469-d061b044dfff\" class=\"colab-df-container\">\n",
              "    <div>\n",
              "<style scoped>\n",
              "    .dataframe tbody tr th:only-of-type {\n",
              "        vertical-align: middle;\n",
              "    }\n",
              "\n",
              "    .dataframe tbody tr th {\n",
              "        vertical-align: top;\n",
              "    }\n",
              "\n",
              "    .dataframe thead th {\n",
              "        text-align: right;\n",
              "    }\n",
              "</style>\n",
              "<table border=\"1\" class=\"dataframe\">\n",
              "  <thead>\n",
              "    <tr style=\"text-align: right;\">\n",
              "      <th></th>\n",
              "      <th>AMZN</th>\n",
              "      <th>YHOO</th>\n",
              "      <th>IBM</th>\n",
              "      <th>AAPL</th>\n",
              "      <th>^GSPC</th>\n",
              "    </tr>\n",
              "    <tr>\n",
              "      <th>Date</th>\n",
              "      <th></th>\n",
              "      <th></th>\n",
              "      <th></th>\n",
              "      <th></th>\n",
              "      <th></th>\n",
              "    </tr>\n",
              "  </thead>\n",
              "  <tbody>\n",
              "    <tr>\n",
              "      <th>2013-01-02</th>\n",
              "      <td>NaN</td>\n",
              "      <td>NaN</td>\n",
              "      <td>NaN</td>\n",
              "      <td>NaN</td>\n",
              "      <td>NaN</td>\n",
              "    </tr>\n",
              "    <tr>\n",
              "      <th>2013-01-03</th>\n",
              "      <td>0.004547</td>\n",
              "      <td>-0.014940</td>\n",
              "      <td>-0.005500</td>\n",
              "      <td>-0.012630</td>\n",
              "      <td>-0.002086</td>\n",
              "    </tr>\n",
              "    <tr>\n",
              "      <th>2013-01-04</th>\n",
              "      <td>0.002592</td>\n",
              "      <td>0.004044</td>\n",
              "      <td>-0.006555</td>\n",
              "      <td>-0.027848</td>\n",
              "      <td>0.004865</td>\n",
              "    </tr>\n",
              "    <tr>\n",
              "      <th>2013-01-07</th>\n",
              "      <td>0.035921</td>\n",
              "      <td>-0.023162</td>\n",
              "      <td>-0.004382</td>\n",
              "      <td>-0.005882</td>\n",
              "      <td>-0.003123</td>\n",
              "    </tr>\n",
              "    <tr>\n",
              "      <th>2013-01-08</th>\n",
              "      <td>-0.007744</td>\n",
              "      <td>0.013402</td>\n",
              "      <td>-0.001398</td>\n",
              "      <td>0.002691</td>\n",
              "      <td>-0.003242</td>\n",
              "    </tr>\n",
              "    <tr>\n",
              "      <th>...</th>\n",
              "      <td>...</td>\n",
              "      <td>...</td>\n",
              "      <td>...</td>\n",
              "      <td>...</td>\n",
              "      <td>...</td>\n",
              "    </tr>\n",
              "    <tr>\n",
              "      <th>2014-12-24</th>\n",
              "      <td>-0.010627</td>\n",
              "      <td>0.012595</td>\n",
              "      <td>-0.002589</td>\n",
              "      <td>-0.004709</td>\n",
              "      <td>-0.000139</td>\n",
              "    </tr>\n",
              "    <tr>\n",
              "      <th>2014-12-26</th>\n",
              "      <td>0.019998</td>\n",
              "      <td>0.004146</td>\n",
              "      <td>0.003213</td>\n",
              "      <td>0.017677</td>\n",
              "      <td>0.003310</td>\n",
              "    </tr>\n",
              "    <tr>\n",
              "      <th>2014-12-29</th>\n",
              "      <td>0.009544</td>\n",
              "      <td>-0.006488</td>\n",
              "      <td>-0.011273</td>\n",
              "      <td>-0.000702</td>\n",
              "      <td>0.000862</td>\n",
              "    </tr>\n",
              "    <tr>\n",
              "      <th>2014-12-30</th>\n",
              "      <td>-0.005576</td>\n",
              "      <td>0.013655</td>\n",
              "      <td>-0.002866</td>\n",
              "      <td>-0.012203</td>\n",
              "      <td>-0.004889</td>\n",
              "    </tr>\n",
              "    <tr>\n",
              "      <th>2014-12-31</th>\n",
              "      <td>0.000161</td>\n",
              "      <td>-0.013862</td>\n",
              "      <td>0.002437</td>\n",
              "      <td>-0.019019</td>\n",
              "      <td>-0.010311</td>\n",
              "    </tr>\n",
              "  </tbody>\n",
              "</table>\n",
              "<p>504 rows × 5 columns</p>\n",
              "</div>\n",
              "    <div class=\"colab-df-buttons\">\n",
              "\n",
              "  <div class=\"colab-df-container\">\n",
              "    <button class=\"colab-df-convert\" onclick=\"convertToInteractive('df-bb5f0237-2df5-4202-a469-d061b044dfff')\"\n",
              "            title=\"Convert this dataframe to an interactive table.\"\n",
              "            style=\"display:none;\">\n",
              "\n",
              "  <svg xmlns=\"http://www.w3.org/2000/svg\" height=\"24px\" viewBox=\"0 -960 960 960\">\n",
              "    <path d=\"M120-120v-720h720v720H120Zm60-500h600v-160H180v160Zm220 220h160v-160H400v160Zm0 220h160v-160H400v160ZM180-400h160v-160H180v160Zm440 0h160v-160H620v160ZM180-180h160v-160H180v160Zm440 0h160v-160H620v160Z\"/>\n",
              "  </svg>\n",
              "    </button>\n",
              "\n",
              "  <style>\n",
              "    .colab-df-container {\n",
              "      display:flex;\n",
              "      gap: 12px;\n",
              "    }\n",
              "\n",
              "    .colab-df-convert {\n",
              "      background-color: #E8F0FE;\n",
              "      border: none;\n",
              "      border-radius: 50%;\n",
              "      cursor: pointer;\n",
              "      display: none;\n",
              "      fill: #1967D2;\n",
              "      height: 32px;\n",
              "      padding: 0 0 0 0;\n",
              "      width: 32px;\n",
              "    }\n",
              "\n",
              "    .colab-df-convert:hover {\n",
              "      background-color: #E2EBFA;\n",
              "      box-shadow: 0px 1px 2px rgba(60, 64, 67, 0.3), 0px 1px 3px 1px rgba(60, 64, 67, 0.15);\n",
              "      fill: #174EA6;\n",
              "    }\n",
              "\n",
              "    .colab-df-buttons div {\n",
              "      margin-bottom: 4px;\n",
              "    }\n",
              "\n",
              "    [theme=dark] .colab-df-convert {\n",
              "      background-color: #3B4455;\n",
              "      fill: #D2E3FC;\n",
              "    }\n",
              "\n",
              "    [theme=dark] .colab-df-convert:hover {\n",
              "      background-color: #434B5C;\n",
              "      box-shadow: 0px 1px 3px 1px rgba(0, 0, 0, 0.15);\n",
              "      filter: drop-shadow(0px 1px 2px rgba(0, 0, 0, 0.3));\n",
              "      fill: #FFFFFF;\n",
              "    }\n",
              "  </style>\n",
              "\n",
              "    <script>\n",
              "      const buttonEl =\n",
              "        document.querySelector('#df-bb5f0237-2df5-4202-a469-d061b044dfff button.colab-df-convert');\n",
              "      buttonEl.style.display =\n",
              "        google.colab.kernel.accessAllowed ? 'block' : 'none';\n",
              "\n",
              "      async function convertToInteractive(key) {\n",
              "        const element = document.querySelector('#df-bb5f0237-2df5-4202-a469-d061b044dfff');\n",
              "        const dataTable =\n",
              "          await google.colab.kernel.invokeFunction('convertToInteractive',\n",
              "                                                    [key], {});\n",
              "        if (!dataTable) return;\n",
              "\n",
              "        const docLinkHtml = 'Like what you see? Visit the ' +\n",
              "          '<a target=\"_blank\" href=https://colab.research.google.com/notebooks/data_table.ipynb>data table notebook</a>'\n",
              "          + ' to learn more about interactive tables.';\n",
              "        element.innerHTML = '';\n",
              "        dataTable['output_type'] = 'display_data';\n",
              "        await google.colab.output.renderOutput(dataTable, element);\n",
              "        const docLink = document.createElement('div');\n",
              "        docLink.innerHTML = docLinkHtml;\n",
              "        element.appendChild(docLink);\n",
              "      }\n",
              "    </script>\n",
              "  </div>\n",
              "\n",
              "\n",
              "<div id=\"df-98c072e4-eff0-4b77-8069-9861ee9c8ec6\">\n",
              "  <button class=\"colab-df-quickchart\" onclick=\"quickchart('df-98c072e4-eff0-4b77-8069-9861ee9c8ec6')\"\n",
              "            title=\"Suggest charts.\"\n",
              "            style=\"display:none;\">\n",
              "\n",
              "<svg xmlns=\"http://www.w3.org/2000/svg\" height=\"24px\"viewBox=\"0 0 24 24\"\n",
              "     width=\"24px\">\n",
              "    <g>\n",
              "        <path d=\"M19 3H5c-1.1 0-2 .9-2 2v14c0 1.1.9 2 2 2h14c1.1 0 2-.9 2-2V5c0-1.1-.9-2-2-2zM9 17H7v-7h2v7zm4 0h-2V7h2v10zm4 0h-2v-4h2v4z\"/>\n",
              "    </g>\n",
              "</svg>\n",
              "  </button>\n",
              "\n",
              "<style>\n",
              "  .colab-df-quickchart {\n",
              "    background-color: #E8F0FE;\n",
              "    border: none;\n",
              "    border-radius: 50%;\n",
              "    cursor: pointer;\n",
              "    display: none;\n",
              "    fill: #1967D2;\n",
              "    height: 32px;\n",
              "    padding: 0 0 0 0;\n",
              "    width: 32px;\n",
              "  }\n",
              "\n",
              "  .colab-df-quickchart:hover {\n",
              "    background-color: #E2EBFA;\n",
              "    box-shadow: 0px 1px 2px rgba(60, 64, 67, 0.3), 0px 1px 3px 1px rgba(60, 64, 67, 0.15);\n",
              "    fill: #174EA6;\n",
              "  }\n",
              "\n",
              "  [theme=dark] .colab-df-quickchart {\n",
              "    background-color: #3B4455;\n",
              "    fill: #D2E3FC;\n",
              "  }\n",
              "\n",
              "  [theme=dark] .colab-df-quickchart:hover {\n",
              "    background-color: #434B5C;\n",
              "    box-shadow: 0px 1px 3px 1px rgba(0, 0, 0, 0.15);\n",
              "    filter: drop-shadow(0px 1px 2px rgba(0, 0, 0, 0.3));\n",
              "    fill: #FFFFFF;\n",
              "  }\n",
              "</style>\n",
              "\n",
              "  <script>\n",
              "    async function quickchart(key) {\n",
              "      const charts = await google.colab.kernel.invokeFunction(\n",
              "          'suggestCharts', [key], {});\n",
              "    }\n",
              "    (() => {\n",
              "      let quickchartButtonEl =\n",
              "        document.querySelector('#df-98c072e4-eff0-4b77-8069-9861ee9c8ec6 button');\n",
              "      quickchartButtonEl.style.display =\n",
              "        google.colab.kernel.accessAllowed ? 'block' : 'none';\n",
              "    })();\n",
              "  </script>\n",
              "</div>\n",
              "    </div>\n",
              "  </div>\n"
            ]
          },
          "metadata": {},
          "execution_count": 14
        }
      ]
    },
    {
      "cell_type": "markdown",
      "source": [
        "Note that we did not have the data on the prices prior to '20131-01-02', thus we obtained a missing data symbol 'NaN'. We could drop the first row  containing the missing data."
      ],
      "metadata": {
        "id": "frLDRPR6LGo6"
      }
    },
    {
      "cell_type": "code",
      "source": [
        "returns = returns.dropna()\n",
        "returns"
      ],
      "metadata": {
        "colab": {
          "base_uri": "https://localhost:8080/",
          "height": 455
        },
        "id": "07pvHEy0LkhW",
        "outputId": "842b7e83-caaa-40a2-fbd3-3c34b60422b4"
      },
      "execution_count": 16,
      "outputs": [
        {
          "output_type": "execute_result",
          "data": {
            "text/plain": [
              "                AMZN      YHOO       IBM      AAPL     ^GSPC\n",
              "Date                                                        \n",
              "2013-01-03  0.004547 -0.014940 -0.005500 -0.012630 -0.002086\n",
              "2013-01-04  0.002592  0.004044 -0.006555 -0.027848  0.004865\n",
              "2013-01-07  0.035921 -0.023162 -0.004382 -0.005882 -0.003123\n",
              "2013-01-08 -0.007744  0.013402 -0.001398  0.002691 -0.003242\n",
              "2013-01-09 -0.000113 -0.016785 -0.002852 -0.015629  0.002656\n",
              "...              ...       ...       ...       ...       ...\n",
              "2014-12-24 -0.010627  0.012595 -0.002589 -0.004709 -0.000139\n",
              "2014-12-26  0.019998  0.004146  0.003213  0.017677  0.003310\n",
              "2014-12-29  0.009544 -0.006488 -0.011273 -0.000702  0.000862\n",
              "2014-12-30 -0.005576  0.013655 -0.002866 -0.012203 -0.004889\n",
              "2014-12-31  0.000161 -0.013862  0.002437 -0.019019 -0.010311\n",
              "\n",
              "[503 rows x 5 columns]"
            ],
            "text/html": [
              "\n",
              "  <div id=\"df-42adcc81-4f96-4b8e-8acf-ea4fce8c6977\" class=\"colab-df-container\">\n",
              "    <div>\n",
              "<style scoped>\n",
              "    .dataframe tbody tr th:only-of-type {\n",
              "        vertical-align: middle;\n",
              "    }\n",
              "\n",
              "    .dataframe tbody tr th {\n",
              "        vertical-align: top;\n",
              "    }\n",
              "\n",
              "    .dataframe thead th {\n",
              "        text-align: right;\n",
              "    }\n",
              "</style>\n",
              "<table border=\"1\" class=\"dataframe\">\n",
              "  <thead>\n",
              "    <tr style=\"text-align: right;\">\n",
              "      <th></th>\n",
              "      <th>AMZN</th>\n",
              "      <th>YHOO</th>\n",
              "      <th>IBM</th>\n",
              "      <th>AAPL</th>\n",
              "      <th>^GSPC</th>\n",
              "    </tr>\n",
              "    <tr>\n",
              "      <th>Date</th>\n",
              "      <th></th>\n",
              "      <th></th>\n",
              "      <th></th>\n",
              "      <th></th>\n",
              "      <th></th>\n",
              "    </tr>\n",
              "  </thead>\n",
              "  <tbody>\n",
              "    <tr>\n",
              "      <th>2013-01-03</th>\n",
              "      <td>0.004547</td>\n",
              "      <td>-0.014940</td>\n",
              "      <td>-0.005500</td>\n",
              "      <td>-0.012630</td>\n",
              "      <td>-0.002086</td>\n",
              "    </tr>\n",
              "    <tr>\n",
              "      <th>2013-01-04</th>\n",
              "      <td>0.002592</td>\n",
              "      <td>0.004044</td>\n",
              "      <td>-0.006555</td>\n",
              "      <td>-0.027848</td>\n",
              "      <td>0.004865</td>\n",
              "    </tr>\n",
              "    <tr>\n",
              "      <th>2013-01-07</th>\n",
              "      <td>0.035921</td>\n",
              "      <td>-0.023162</td>\n",
              "      <td>-0.004382</td>\n",
              "      <td>-0.005882</td>\n",
              "      <td>-0.003123</td>\n",
              "    </tr>\n",
              "    <tr>\n",
              "      <th>2013-01-08</th>\n",
              "      <td>-0.007744</td>\n",
              "      <td>0.013402</td>\n",
              "      <td>-0.001398</td>\n",
              "      <td>0.002691</td>\n",
              "      <td>-0.003242</td>\n",
              "    </tr>\n",
              "    <tr>\n",
              "      <th>2013-01-09</th>\n",
              "      <td>-0.000113</td>\n",
              "      <td>-0.016785</td>\n",
              "      <td>-0.002852</td>\n",
              "      <td>-0.015629</td>\n",
              "      <td>0.002656</td>\n",
              "    </tr>\n",
              "    <tr>\n",
              "      <th>...</th>\n",
              "      <td>...</td>\n",
              "      <td>...</td>\n",
              "      <td>...</td>\n",
              "      <td>...</td>\n",
              "      <td>...</td>\n",
              "    </tr>\n",
              "    <tr>\n",
              "      <th>2014-12-24</th>\n",
              "      <td>-0.010627</td>\n",
              "      <td>0.012595</td>\n",
              "      <td>-0.002589</td>\n",
              "      <td>-0.004709</td>\n",
              "      <td>-0.000139</td>\n",
              "    </tr>\n",
              "    <tr>\n",
              "      <th>2014-12-26</th>\n",
              "      <td>0.019998</td>\n",
              "      <td>0.004146</td>\n",
              "      <td>0.003213</td>\n",
              "      <td>0.017677</td>\n",
              "      <td>0.003310</td>\n",
              "    </tr>\n",
              "    <tr>\n",
              "      <th>2014-12-29</th>\n",
              "      <td>0.009544</td>\n",
              "      <td>-0.006488</td>\n",
              "      <td>-0.011273</td>\n",
              "      <td>-0.000702</td>\n",
              "      <td>0.000862</td>\n",
              "    </tr>\n",
              "    <tr>\n",
              "      <th>2014-12-30</th>\n",
              "      <td>-0.005576</td>\n",
              "      <td>0.013655</td>\n",
              "      <td>-0.002866</td>\n",
              "      <td>-0.012203</td>\n",
              "      <td>-0.004889</td>\n",
              "    </tr>\n",
              "    <tr>\n",
              "      <th>2014-12-31</th>\n",
              "      <td>0.000161</td>\n",
              "      <td>-0.013862</td>\n",
              "      <td>0.002437</td>\n",
              "      <td>-0.019019</td>\n",
              "      <td>-0.010311</td>\n",
              "    </tr>\n",
              "  </tbody>\n",
              "</table>\n",
              "<p>503 rows × 5 columns</p>\n",
              "</div>\n",
              "    <div class=\"colab-df-buttons\">\n",
              "\n",
              "  <div class=\"colab-df-container\">\n",
              "    <button class=\"colab-df-convert\" onclick=\"convertToInteractive('df-42adcc81-4f96-4b8e-8acf-ea4fce8c6977')\"\n",
              "            title=\"Convert this dataframe to an interactive table.\"\n",
              "            style=\"display:none;\">\n",
              "\n",
              "  <svg xmlns=\"http://www.w3.org/2000/svg\" height=\"24px\" viewBox=\"0 -960 960 960\">\n",
              "    <path d=\"M120-120v-720h720v720H120Zm60-500h600v-160H180v160Zm220 220h160v-160H400v160Zm0 220h160v-160H400v160ZM180-400h160v-160H180v160Zm440 0h160v-160H620v160ZM180-180h160v-160H180v160Zm440 0h160v-160H620v160Z\"/>\n",
              "  </svg>\n",
              "    </button>\n",
              "\n",
              "  <style>\n",
              "    .colab-df-container {\n",
              "      display:flex;\n",
              "      gap: 12px;\n",
              "    }\n",
              "\n",
              "    .colab-df-convert {\n",
              "      background-color: #E8F0FE;\n",
              "      border: none;\n",
              "      border-radius: 50%;\n",
              "      cursor: pointer;\n",
              "      display: none;\n",
              "      fill: #1967D2;\n",
              "      height: 32px;\n",
              "      padding: 0 0 0 0;\n",
              "      width: 32px;\n",
              "    }\n",
              "\n",
              "    .colab-df-convert:hover {\n",
              "      background-color: #E2EBFA;\n",
              "      box-shadow: 0px 1px 2px rgba(60, 64, 67, 0.3), 0px 1px 3px 1px rgba(60, 64, 67, 0.15);\n",
              "      fill: #174EA6;\n",
              "    }\n",
              "\n",
              "    .colab-df-buttons div {\n",
              "      margin-bottom: 4px;\n",
              "    }\n",
              "\n",
              "    [theme=dark] .colab-df-convert {\n",
              "      background-color: #3B4455;\n",
              "      fill: #D2E3FC;\n",
              "    }\n",
              "\n",
              "    [theme=dark] .colab-df-convert:hover {\n",
              "      background-color: #434B5C;\n",
              "      box-shadow: 0px 1px 3px 1px rgba(0, 0, 0, 0.15);\n",
              "      filter: drop-shadow(0px 1px 2px rgba(0, 0, 0, 0.3));\n",
              "      fill: #FFFFFF;\n",
              "    }\n",
              "  </style>\n",
              "\n",
              "    <script>\n",
              "      const buttonEl =\n",
              "        document.querySelector('#df-42adcc81-4f96-4b8e-8acf-ea4fce8c6977 button.colab-df-convert');\n",
              "      buttonEl.style.display =\n",
              "        google.colab.kernel.accessAllowed ? 'block' : 'none';\n",
              "\n",
              "      async function convertToInteractive(key) {\n",
              "        const element = document.querySelector('#df-42adcc81-4f96-4b8e-8acf-ea4fce8c6977');\n",
              "        const dataTable =\n",
              "          await google.colab.kernel.invokeFunction('convertToInteractive',\n",
              "                                                    [key], {});\n",
              "        if (!dataTable) return;\n",
              "\n",
              "        const docLinkHtml = 'Like what you see? Visit the ' +\n",
              "          '<a target=\"_blank\" href=https://colab.research.google.com/notebooks/data_table.ipynb>data table notebook</a>'\n",
              "          + ' to learn more about interactive tables.';\n",
              "        element.innerHTML = '';\n",
              "        dataTable['output_type'] = 'display_data';\n",
              "        await google.colab.output.renderOutput(dataTable, element);\n",
              "        const docLink = document.createElement('div');\n",
              "        docLink.innerHTML = docLinkHtml;\n",
              "        element.appendChild(docLink);\n",
              "      }\n",
              "    </script>\n",
              "  </div>\n",
              "\n",
              "\n",
              "<div id=\"df-7e6e2729-3ec6-4c61-93a0-09e41d03d586\">\n",
              "  <button class=\"colab-df-quickchart\" onclick=\"quickchart('df-7e6e2729-3ec6-4c61-93a0-09e41d03d586')\"\n",
              "            title=\"Suggest charts.\"\n",
              "            style=\"display:none;\">\n",
              "\n",
              "<svg xmlns=\"http://www.w3.org/2000/svg\" height=\"24px\"viewBox=\"0 0 24 24\"\n",
              "     width=\"24px\">\n",
              "    <g>\n",
              "        <path d=\"M19 3H5c-1.1 0-2 .9-2 2v14c0 1.1.9 2 2 2h14c1.1 0 2-.9 2-2V5c0-1.1-.9-2-2-2zM9 17H7v-7h2v7zm4 0h-2V7h2v10zm4 0h-2v-4h2v4z\"/>\n",
              "    </g>\n",
              "</svg>\n",
              "  </button>\n",
              "\n",
              "<style>\n",
              "  .colab-df-quickchart {\n",
              "    background-color: #E8F0FE;\n",
              "    border: none;\n",
              "    border-radius: 50%;\n",
              "    cursor: pointer;\n",
              "    display: none;\n",
              "    fill: #1967D2;\n",
              "    height: 32px;\n",
              "    padding: 0 0 0 0;\n",
              "    width: 32px;\n",
              "  }\n",
              "\n",
              "  .colab-df-quickchart:hover {\n",
              "    background-color: #E2EBFA;\n",
              "    box-shadow: 0px 1px 2px rgba(60, 64, 67, 0.3), 0px 1px 3px 1px rgba(60, 64, 67, 0.15);\n",
              "    fill: #174EA6;\n",
              "  }\n",
              "\n",
              "  [theme=dark] .colab-df-quickchart {\n",
              "    background-color: #3B4455;\n",
              "    fill: #D2E3FC;\n",
              "  }\n",
              "\n",
              "  [theme=dark] .colab-df-quickchart:hover {\n",
              "    background-color: #434B5C;\n",
              "    box-shadow: 0px 1px 3px 1px rgba(0, 0, 0, 0.15);\n",
              "    filter: drop-shadow(0px 1px 2px rgba(0, 0, 0, 0.3));\n",
              "    fill: #FFFFFF;\n",
              "  }\n",
              "</style>\n",
              "\n",
              "  <script>\n",
              "    async function quickchart(key) {\n",
              "      const charts = await google.colab.kernel.invokeFunction(\n",
              "          'suggestCharts', [key], {});\n",
              "    }\n",
              "    (() => {\n",
              "      let quickchartButtonEl =\n",
              "        document.querySelector('#df-7e6e2729-3ec6-4c61-93a0-09e41d03d586 button');\n",
              "      quickchartButtonEl.style.display =\n",
              "        google.colab.kernel.accessAllowed ? 'block' : 'none';\n",
              "    })();\n",
              "  </script>\n",
              "</div>\n",
              "    </div>\n",
              "  </div>\n"
            ]
          },
          "metadata": {},
          "execution_count": 16
        }
      ]
    },
    {
      "cell_type": "markdown",
      "source": [
        "We can now find out cumulative returns on all 5 stocks for the entire period of 2 years (from the beginning of Jan 2013 to the end of Dec 2014). Method <font color='DodgerBlue'><b>prod</b></font> calculates the cumulative product for the entire period.\n",
        "\n",
        "The Apple stock performed similar to the market, while Amazon had half of that cumulative return. On the other hand, IBM was the clear loser, and Yahoo! the clear winner. **If you invested 1000 dollars into a  Yahoo stock at the beginning of 2013, you would have ended up with over 2500 at the end of 2014 (minus the commisions).**"
      ],
      "metadata": {
        "id": "nO_vvZXNLrff"
      }
    },
    {
      "cell_type": "code",
      "source": [
        "(returns+1).prod()"
      ],
      "metadata": {
        "colab": {
          "base_uri": "https://localhost:8080/"
        },
        "id": "l0KYcgrvLsGq",
        "outputId": "4b3703c5-b911-47fd-f56f-270c8f10d0e7"
      },
      "execution_count": 17,
      "outputs": [
        {
          "output_type": "execute_result",
          "data": {
            "text/plain": [
              "AMZN     1.206133\n",
              "YHOO     2.515438\n",
              "IBM      0.817112\n",
              "AAPL     1.407318\n",
              "^GSPC    1.407872\n",
              "dtype: float64"
            ]
          },
          "metadata": {},
          "execution_count": 17
        }
      ]
    },
    {
      "cell_type": "markdown",
      "source": [
        "Suppose we want to see how our investment of, say, 1 dollar accumulated day after day, rather than in aggregate for the 2 years. In that case we can calculate gross cumulative returns for each day.\n",
        "\n",
        "The easiest way to do this is to divide stock prices at each point in time by the initial price."
      ],
      "metadata": {
        "id": "-P6Z9Hm6Lzmg"
      }
    },
    {
      "cell_type": "code",
      "source": [
        "prices_init = prices.iloc[0] #initial stock prices, i.e. row number 0\n",
        "prices_init"
      ],
      "metadata": {
        "colab": {
          "base_uri": "https://localhost:8080/"
        },
        "id": "siFPuuDWL3VY",
        "outputId": "822f8178-cf44-4739-aef6-abdfb3cc65e1"
      },
      "execution_count": 19,
      "outputs": [
        {
          "output_type": "execute_result",
          "data": {
            "text/plain": [
              "AMZN      257.309998\n",
              "YHOO       20.080000\n",
              "IBM       196.350006\n",
              "AAPL       78.432899\n",
              "^GSPC    1462.420000\n",
              "Name: 2013-01-02 00:00:00, dtype: float64"
            ]
          },
          "metadata": {},
          "execution_count": 19
        }
      ]
    },
    {
      "cell_type": "markdown",
      "source": [
        "Cumulative gross returns (how much would 1 dollar investment grow over time) is"
      ],
      "metadata": {
        "id": "WRa9fBPsMEuw"
      }
    },
    {
      "cell_type": "code",
      "source": [
        "cum_gross_return = prices/prices_init\n",
        "cum_gross_return"
      ],
      "metadata": {
        "colab": {
          "base_uri": "https://localhost:8080/",
          "height": 455
        },
        "id": "0r4a1zB1MFj1",
        "outputId": "980da91c-019e-4f97-99d6-05a4ae7d7901"
      },
      "execution_count": 20,
      "outputs": [
        {
          "output_type": "execute_result",
          "data": {
            "text/plain": [
              "                AMZN      YHOO       IBM      AAPL     ^GSPC\n",
              "Date                                                        \n",
              "2013-01-02  1.000000  1.000000  1.000000  1.000000  1.000000\n",
              "2013-01-03  1.004547  0.985060  0.994500  0.987370  0.997914\n",
              "2013-01-04  1.007151  0.989044  0.987981  0.959874  1.002769\n",
              "2013-01-07  1.043329  0.966135  0.983652  0.954228  0.999638\n",
              "2013-01-08  1.035249  0.979084  0.982276  0.956796  0.996396\n",
              "...              ...       ...       ...       ...       ...\n",
              "2014-12-24  1.177685  2.522410  0.824141  1.428100  1.423586\n",
              "2014-12-26  1.201236  2.532869  0.826789  1.453344  1.428297\n",
              "2014-12-29  1.212701  2.516434  0.817469  1.452324  1.429528\n",
              "2014-12-30  1.205938  2.550797  0.815126  1.434602  1.422539\n",
              "2014-12-31  1.206133  2.515438  0.817112  1.407318  1.407872\n",
              "\n",
              "[504 rows x 5 columns]"
            ],
            "text/html": [
              "\n",
              "  <div id=\"df-ac1536f3-1a71-4370-bd29-a2480d78a2c6\" class=\"colab-df-container\">\n",
              "    <div>\n",
              "<style scoped>\n",
              "    .dataframe tbody tr th:only-of-type {\n",
              "        vertical-align: middle;\n",
              "    }\n",
              "\n",
              "    .dataframe tbody tr th {\n",
              "        vertical-align: top;\n",
              "    }\n",
              "\n",
              "    .dataframe thead th {\n",
              "        text-align: right;\n",
              "    }\n",
              "</style>\n",
              "<table border=\"1\" class=\"dataframe\">\n",
              "  <thead>\n",
              "    <tr style=\"text-align: right;\">\n",
              "      <th></th>\n",
              "      <th>AMZN</th>\n",
              "      <th>YHOO</th>\n",
              "      <th>IBM</th>\n",
              "      <th>AAPL</th>\n",
              "      <th>^GSPC</th>\n",
              "    </tr>\n",
              "    <tr>\n",
              "      <th>Date</th>\n",
              "      <th></th>\n",
              "      <th></th>\n",
              "      <th></th>\n",
              "      <th></th>\n",
              "      <th></th>\n",
              "    </tr>\n",
              "  </thead>\n",
              "  <tbody>\n",
              "    <tr>\n",
              "      <th>2013-01-02</th>\n",
              "      <td>1.000000</td>\n",
              "      <td>1.000000</td>\n",
              "      <td>1.000000</td>\n",
              "      <td>1.000000</td>\n",
              "      <td>1.000000</td>\n",
              "    </tr>\n",
              "    <tr>\n",
              "      <th>2013-01-03</th>\n",
              "      <td>1.004547</td>\n",
              "      <td>0.985060</td>\n",
              "      <td>0.994500</td>\n",
              "      <td>0.987370</td>\n",
              "      <td>0.997914</td>\n",
              "    </tr>\n",
              "    <tr>\n",
              "      <th>2013-01-04</th>\n",
              "      <td>1.007151</td>\n",
              "      <td>0.989044</td>\n",
              "      <td>0.987981</td>\n",
              "      <td>0.959874</td>\n",
              "      <td>1.002769</td>\n",
              "    </tr>\n",
              "    <tr>\n",
              "      <th>2013-01-07</th>\n",
              "      <td>1.043329</td>\n",
              "      <td>0.966135</td>\n",
              "      <td>0.983652</td>\n",
              "      <td>0.954228</td>\n",
              "      <td>0.999638</td>\n",
              "    </tr>\n",
              "    <tr>\n",
              "      <th>2013-01-08</th>\n",
              "      <td>1.035249</td>\n",
              "      <td>0.979084</td>\n",
              "      <td>0.982276</td>\n",
              "      <td>0.956796</td>\n",
              "      <td>0.996396</td>\n",
              "    </tr>\n",
              "    <tr>\n",
              "      <th>...</th>\n",
              "      <td>...</td>\n",
              "      <td>...</td>\n",
              "      <td>...</td>\n",
              "      <td>...</td>\n",
              "      <td>...</td>\n",
              "    </tr>\n",
              "    <tr>\n",
              "      <th>2014-12-24</th>\n",
              "      <td>1.177685</td>\n",
              "      <td>2.522410</td>\n",
              "      <td>0.824141</td>\n",
              "      <td>1.428100</td>\n",
              "      <td>1.423586</td>\n",
              "    </tr>\n",
              "    <tr>\n",
              "      <th>2014-12-26</th>\n",
              "      <td>1.201236</td>\n",
              "      <td>2.532869</td>\n",
              "      <td>0.826789</td>\n",
              "      <td>1.453344</td>\n",
              "      <td>1.428297</td>\n",
              "    </tr>\n",
              "    <tr>\n",
              "      <th>2014-12-29</th>\n",
              "      <td>1.212701</td>\n",
              "      <td>2.516434</td>\n",
              "      <td>0.817469</td>\n",
              "      <td>1.452324</td>\n",
              "      <td>1.429528</td>\n",
              "    </tr>\n",
              "    <tr>\n",
              "      <th>2014-12-30</th>\n",
              "      <td>1.205938</td>\n",
              "      <td>2.550797</td>\n",
              "      <td>0.815126</td>\n",
              "      <td>1.434602</td>\n",
              "      <td>1.422539</td>\n",
              "    </tr>\n",
              "    <tr>\n",
              "      <th>2014-12-31</th>\n",
              "      <td>1.206133</td>\n",
              "      <td>2.515438</td>\n",
              "      <td>0.817112</td>\n",
              "      <td>1.407318</td>\n",
              "      <td>1.407872</td>\n",
              "    </tr>\n",
              "  </tbody>\n",
              "</table>\n",
              "<p>504 rows × 5 columns</p>\n",
              "</div>\n",
              "    <div class=\"colab-df-buttons\">\n",
              "\n",
              "  <div class=\"colab-df-container\">\n",
              "    <button class=\"colab-df-convert\" onclick=\"convertToInteractive('df-ac1536f3-1a71-4370-bd29-a2480d78a2c6')\"\n",
              "            title=\"Convert this dataframe to an interactive table.\"\n",
              "            style=\"display:none;\">\n",
              "\n",
              "  <svg xmlns=\"http://www.w3.org/2000/svg\" height=\"24px\" viewBox=\"0 -960 960 960\">\n",
              "    <path d=\"M120-120v-720h720v720H120Zm60-500h600v-160H180v160Zm220 220h160v-160H400v160Zm0 220h160v-160H400v160ZM180-400h160v-160H180v160Zm440 0h160v-160H620v160ZM180-180h160v-160H180v160Zm440 0h160v-160H620v160Z\"/>\n",
              "  </svg>\n",
              "    </button>\n",
              "\n",
              "  <style>\n",
              "    .colab-df-container {\n",
              "      display:flex;\n",
              "      gap: 12px;\n",
              "    }\n",
              "\n",
              "    .colab-df-convert {\n",
              "      background-color: #E8F0FE;\n",
              "      border: none;\n",
              "      border-radius: 50%;\n",
              "      cursor: pointer;\n",
              "      display: none;\n",
              "      fill: #1967D2;\n",
              "      height: 32px;\n",
              "      padding: 0 0 0 0;\n",
              "      width: 32px;\n",
              "    }\n",
              "\n",
              "    .colab-df-convert:hover {\n",
              "      background-color: #E2EBFA;\n",
              "      box-shadow: 0px 1px 2px rgba(60, 64, 67, 0.3), 0px 1px 3px 1px rgba(60, 64, 67, 0.15);\n",
              "      fill: #174EA6;\n",
              "    }\n",
              "\n",
              "    .colab-df-buttons div {\n",
              "      margin-bottom: 4px;\n",
              "    }\n",
              "\n",
              "    [theme=dark] .colab-df-convert {\n",
              "      background-color: #3B4455;\n",
              "      fill: #D2E3FC;\n",
              "    }\n",
              "\n",
              "    [theme=dark] .colab-df-convert:hover {\n",
              "      background-color: #434B5C;\n",
              "      box-shadow: 0px 1px 3px 1px rgba(0, 0, 0, 0.15);\n",
              "      filter: drop-shadow(0px 1px 2px rgba(0, 0, 0, 0.3));\n",
              "      fill: #FFFFFF;\n",
              "    }\n",
              "  </style>\n",
              "\n",
              "    <script>\n",
              "      const buttonEl =\n",
              "        document.querySelector('#df-ac1536f3-1a71-4370-bd29-a2480d78a2c6 button.colab-df-convert');\n",
              "      buttonEl.style.display =\n",
              "        google.colab.kernel.accessAllowed ? 'block' : 'none';\n",
              "\n",
              "      async function convertToInteractive(key) {\n",
              "        const element = document.querySelector('#df-ac1536f3-1a71-4370-bd29-a2480d78a2c6');\n",
              "        const dataTable =\n",
              "          await google.colab.kernel.invokeFunction('convertToInteractive',\n",
              "                                                    [key], {});\n",
              "        if (!dataTable) return;\n",
              "\n",
              "        const docLinkHtml = 'Like what you see? Visit the ' +\n",
              "          '<a target=\"_blank\" href=https://colab.research.google.com/notebooks/data_table.ipynb>data table notebook</a>'\n",
              "          + ' to learn more about interactive tables.';\n",
              "        element.innerHTML = '';\n",
              "        dataTable['output_type'] = 'display_data';\n",
              "        await google.colab.output.renderOutput(dataTable, element);\n",
              "        const docLink = document.createElement('div');\n",
              "        docLink.innerHTML = docLinkHtml;\n",
              "        element.appendChild(docLink);\n",
              "      }\n",
              "    </script>\n",
              "  </div>\n",
              "\n",
              "\n",
              "<div id=\"df-ccbb04f9-b9ba-4fb0-bf97-19f015fb616e\">\n",
              "  <button class=\"colab-df-quickchart\" onclick=\"quickchart('df-ccbb04f9-b9ba-4fb0-bf97-19f015fb616e')\"\n",
              "            title=\"Suggest charts.\"\n",
              "            style=\"display:none;\">\n",
              "\n",
              "<svg xmlns=\"http://www.w3.org/2000/svg\" height=\"24px\"viewBox=\"0 0 24 24\"\n",
              "     width=\"24px\">\n",
              "    <g>\n",
              "        <path d=\"M19 3H5c-1.1 0-2 .9-2 2v14c0 1.1.9 2 2 2h14c1.1 0 2-.9 2-2V5c0-1.1-.9-2-2-2zM9 17H7v-7h2v7zm4 0h-2V7h2v10zm4 0h-2v-4h2v4z\"/>\n",
              "    </g>\n",
              "</svg>\n",
              "  </button>\n",
              "\n",
              "<style>\n",
              "  .colab-df-quickchart {\n",
              "    background-color: #E8F0FE;\n",
              "    border: none;\n",
              "    border-radius: 50%;\n",
              "    cursor: pointer;\n",
              "    display: none;\n",
              "    fill: #1967D2;\n",
              "    height: 32px;\n",
              "    padding: 0 0 0 0;\n",
              "    width: 32px;\n",
              "  }\n",
              "\n",
              "  .colab-df-quickchart:hover {\n",
              "    background-color: #E2EBFA;\n",
              "    box-shadow: 0px 1px 2px rgba(60, 64, 67, 0.3), 0px 1px 3px 1px rgba(60, 64, 67, 0.15);\n",
              "    fill: #174EA6;\n",
              "  }\n",
              "\n",
              "  [theme=dark] .colab-df-quickchart {\n",
              "    background-color: #3B4455;\n",
              "    fill: #D2E3FC;\n",
              "  }\n",
              "\n",
              "  [theme=dark] .colab-df-quickchart:hover {\n",
              "    background-color: #434B5C;\n",
              "    box-shadow: 0px 1px 3px 1px rgba(0, 0, 0, 0.15);\n",
              "    filter: drop-shadow(0px 1px 2px rgba(0, 0, 0, 0.3));\n",
              "    fill: #FFFFFF;\n",
              "  }\n",
              "</style>\n",
              "\n",
              "  <script>\n",
              "    async function quickchart(key) {\n",
              "      const charts = await google.colab.kernel.invokeFunction(\n",
              "          'suggestCharts', [key], {});\n",
              "    }\n",
              "    (() => {\n",
              "      let quickchartButtonEl =\n",
              "        document.querySelector('#df-ccbb04f9-b9ba-4fb0-bf97-19f015fb616e button');\n",
              "      quickchartButtonEl.style.display =\n",
              "        google.colab.kernel.accessAllowed ? 'block' : 'none';\n",
              "    })();\n",
              "  </script>\n",
              "</div>\n",
              "    </div>\n",
              "  </div>\n"
            ]
          },
          "metadata": {},
          "execution_count": 20
        }
      ]
    },
    {
      "cell_type": "markdown",
      "source": [
        "It is often easier to see what is going on with the data when we use their graphical representation. For this purpose Aleksandar and I utilize Plotly. Plotly allows for powerful interactive plots, but for now it suffices to do simple stuff.\n",
        "\n",
        "Those unfamiliar with Plotly can of course learn some details of the implementation from the example we provide but can also check the literature from the Bootcamp or the Plotly manual."
      ],
      "metadata": {
        "id": "OA_IlwL9MMQa"
      }
    },
    {
      "cell_type": "code",
      "source": [
        "fig=go.Figure()\n",
        "\n",
        "fig.add_trace(go.Scatter(x=cum_gross_return,y=cum_gross_return['AMZN'],mode='lines',line=dict(color='red',width=2),name='AMZN'))\n",
        "fig.add_trace(go.Scatter(x=cum_gross_return,y=cum_gross_return['YHOO'],mode='lines',line=dict(color='blue',width=2),name='YHOO'))\n",
        "\n",
        "fig.update_layout(width=800,height=600)\n",
        "fig.update_layout(title=dict(text='<b>Gross cumulative returns</b>',font=dict(color='FireBrick',size=40),x=0.5,y=0.9))\n",
        "\n",
        "fig.show()"
      ],
      "metadata": {
        "colab": {
          "base_uri": "https://localhost:8080/",
          "height": 617
        },
        "id": "X61oKO_xMPy2",
        "outputId": "9a77f488-f225-472d-8f6e-9f7094095807"
      },
      "execution_count": 21,
      "outputs": [
        {
          "output_type": "display_data",
          "data": {
            "text/html": [
              "<html>\n",
              "<head><meta charset=\"utf-8\" /></head>\n",
              "<body>\n",
              "    <div>            <script src=\"https://cdnjs.cloudflare.com/ajax/libs/mathjax/2.7.5/MathJax.js?config=TeX-AMS-MML_SVG\"></script><script type=\"text/javascript\">if (window.MathJax && window.MathJax.Hub && window.MathJax.Hub.Config) {window.MathJax.Hub.Config({SVG: {font: \"STIX-Web\"}});}</script>                <script type=\"text/javascript\">window.PlotlyConfig = {MathJaxConfig: 'local'};</script>\n",
              "        <script charset=\"utf-8\" src=\"https://cdn.plot.ly/plotly-2.24.1.min.js\"></script>                <div id=\"ab20f0ad-a548-4045-b03e-d7716d4a402f\" class=\"plotly-graph-div\" style=\"height:600px; width:800px;\"></div>            <script type=\"text/javascript\">                                    window.PLOTLYENV=window.PLOTLYENV || {};                                    if (document.getElementById(\"ab20f0ad-a548-4045-b03e-d7716d4a402f\")) {                    Plotly.newPlot(                        \"ab20f0ad-a548-4045-b03e-d7716d4a402f\",                        [{\"line\":{\"color\":\"red\",\"width\":2},\"mode\":\"lines\",\"name\":\"AMZN\",\"x\":[[1.0,1.0,1.0,1.0,1.0],[1.0045470965407992,0.9850597992432663,0.994499609032607,0.9873700883612928,0.9979144158312933],[1.0071508931528592,0.9890438590200952,0.9879806441218134,0.9598739615535632,1.0027693822568071],[1.043329125972523,0.9661354430921731,0.9836516088603269,0.9542284377627092,0.9996375870133067],[1.0352493388698396,0.9790836617692575,0.9822764915106361,0.9567961500535361,0.9963963840757102],[1.0351327526497944,0.9626494022416311,0.9794754332834217,0.9418420002289579,0.9990426826766592],[1.0312074881461972,0.9457171237877178,0.9823274708826198,0.9535169838910563,1.006632841454575],[1.0413120551053165,0.9606574201619819,0.9903233555336264,0.947671175141924,1.0065849755884082],[1.0599277662890159,0.9676295013650579,0.9810032549828376,0.9138843135370468,1.0056481722077104],[1.056702018717053,0.9721115805661816,0.9803921264049301,0.8850507817539119,1.0067832770339573],[1.0451595165690524,0.9995019805757052,0.980850472711037,0.921789194576898,1.0069815784795066],[1.0511834500129815,1.0024900020019523,0.9862489833658324,0.9155775426651357,1.012663940591622],[1.0575570231943447,0.9970119790717609,0.9904252363555186,0.9106968755912681,1.0161102829556488],[1.0500563713813507,0.9910358415977524,0.9986248826503091,0.9193846088577624,1.0206096743753503],[1.0419726707113384,1.0014940582728848,1.0426279339952615,0.9362053282082744,1.0221482200735765],[1.0633865673783676,1.0179283173025033,1.041100034883065,0.820537068840745,1.0221550580544576],[1.1036881304607344,1.0144422769499692,1.0439011705230603,0.8011944039634017,1.0277211744915962],[1.0727916174058525,1.0114541609022079,1.0436974093885705,0.8193168778158754,1.0258202158066767],[1.0118145759137032,0.9810757389684294,1.0384516810055755,0.8346893010973511,1.0310581091615267],[1.0600598894102202,1.0019920776971796,1.0365164144499612,0.8320666295989902,1.0270373764034955],[1.0318293205720352,0.977589603496373,1.034224603978762,0.8296263445748621,1.0244047537643084],[1.029886139177361,0.9840637603946764,1.044970645916369,0.8262209181304642,1.0347027529711026],[1.010376640724822,0.9631474216659262,1.0378914538775763,0.80563131222903,1.022763638352867],[1.0372314215901264,0.9790836617692575,1.032798507766382,0.8339141335286003,1.0334172125654737],[1.0190820552866076,0.9885458395958002,1.0237840491719752,0.833013970198313,1.033984764978597],[1.0113482314221591,1.0119521798284947,1.0172650842611815,0.852813088046761,1.0321179961980826],[1.018032780083474,1.0209163387287503,1.0271453345271886,0.8651255009041519,1.0379576318704613],[0.9996113400142522,1.040836638608911,1.0194041124605802,0.8741408493700124,1.0373285376294088],[1.0054021010180914,1.0562748587899398,1.0187929059605971,0.8522304234977901,1.038983329002612],[1.0472581855093843,1.0532868378617006,1.0190475685449953,0.850608592597194,1.0395987472819026],[1.0463642793178436,1.0547808961345853,1.016806660032999,0.8498436385996015,1.0403167352744083],[1.0302358974488601,1.0465637188110108,1.0235802875281907,0.8381316912396262,1.0392294963143283],[1.0483463624267666,1.060259014184299,1.0202190021729771,0.837823141636584,1.0468538449966494],[1.0353659250898848,1.0418326774575009,1.0150750771990935,0.8175319203435879,1.0338685193036201],[1.0335393295266193,1.037350597758369,1.0100840114004968,0.8124511628726542,1.0273519235240218],[1.0315184636261487,1.0567728782142345,1.0241405146561897,0.8211018352881628,1.036364382325187],[1.0099490790248253,1.0323704991329503,1.0059077584108107,0.8065123126823871,1.0173889853803968],[1.0079669963045386,1.033864557405835,1.0142092855274936,0.8177512706431951,1.0236047100012309],[1.0230850042960011,1.0537848572859954,1.0304557958452745,0.8097367143260429,1.0366310635795462],[1.027049051591146,1.06100599576098,1.0228163766784828,0.8039623526359528,1.0357352880841344],[1.0327620095551238,1.0926295128192411,1.033409714266365,0.784054921438689,1.0381422573542485],[1.061404484658081,1.1304781300019051,1.0450216247790582,0.7650756193872638,1.0429288439709523],[1.0710427067370196,1.1429283292546948,1.0518461542334527,0.7852826997133473,1.052905458076339],[1.0640473011298184,1.1354581340058092,1.0612681356061338,0.7752983675620199,1.054047400883467],[1.0643970597899537,1.1304781300019051,1.066564765439037,0.7842589026775069,1.0559620355301487],[1.065601822538745,1.1404382326312281,1.0714540278285227,0.7863320310595764,1.0606939182998045],[1.0541370048965406,1.1254980313764862,1.0699261282070314,0.7975339280419013,1.064140260663831],[1.0653686504872908,1.1155378341256488,1.0723198195001227,0.7803396321668152,1.0615828558143352],[1.069138427056594,1.1125498126994018,1.0800101401168227,0.7801943064160708,1.0629778039140603],[1.0327620095551238,1.1170318923985336,1.0990577865838935,0.7877523610580666,1.068933685261416],[1.017527533877681,1.0991035745980222,1.0945759690506065,0.8080792816560554,1.0672036760985215],[1.0022541564859895,1.096115553669783,1.085867074490506,0.8300457852715353,1.0613230125408568],[0.9965022971963995,1.104083673721449,1.0870384301964124,0.8278044235321951,1.0587519317295988],[0.9998757044020897,1.1003485755989983,1.095288978450406,0.8234159571834817,1.0658429179032016],[0.9847654648612069,1.1384462500535708,1.0810287135509287,0.8245990873573658,1.0570150845858235],[1.001710008954584,1.1583665499337312,1.0801120204294203,0.8413191291854049,1.0645984053828585],[0.9949865585790205,1.1643425922882176,1.0732874914843202,0.8443612415079367,1.0610426553247356],[1.0116590883680456,1.17480080896335,1.0815380392290195,0.8399103259825069,1.0693029362289903],[1.0310520006005395,1.17480080896335,1.0740514023340282,0.8234159571834817,1.0686738419879376],[1.035676781647135,1.1717629195090158,1.0863254213059075,0.806257311781839,1.0730091218664952],[1.016711312580573,1.1703187297622262,1.0816399200509115,0.7812142613142113,1.0682088592880294],[1.0233647874395693,1.1842629872879005,1.0917239314514082,0.7828207230265204,1.0737339478398817],[1.006684548661315,1.1643425922882176,1.0830659388505106,0.7868241345041246,1.0624102515009368],[1.0068788193871563,1.1713147686108158,1.076190430533427,0.7790468268431276,1.0667113414750893],[0.992887948711403,1.1603585325113885,1.0665138639891287,0.7708130173794767,1.0621298942848154],[1.0063736917154285,1.1693226909136363,1.0660555171737272,0.7762954145986393,1.0688242775673198],[1.0148848355513722,1.1867529887918447,1.0655461914956366,0.7776978950721305,1.0726125189753968],[1.02899223298582,1.205179325518643,1.0797045755732217,0.7935624219256519,1.0856867384198794],[1.0487350224125143,1.2193725451967035,1.0843900768282178,0.7910851247545897,1.0895433596367663],[1.0604717952863563,1.229581704599927,1.076546973939717,0.7828347789903737,1.086452592278552],[1.0404570506280244,1.1942230894192156,1.0657498752173453,0.7647122565613457,1.061500800043763],[1.058412027671637,1.1847610067121954,1.0797045755732217,0.7763502278215152,1.076687955580476],[1.0392133861649846,1.1802789270130636,1.0678380019668356,0.7336576930280788,1.0612614707129278],[1.0082002868900577,1.1584163233403042,1.0550037558669574,0.7140766122548042,1.0541499705966821],[1.0116979896936582,1.1688246714893413,0.967659761126944,0.7113086637097507,1.0634769765183736],[1.0242508657191796,1.1927291262658533,0.956608077232955,0.7261353374360807,1.0684345126571027],[1.0450429303490074,1.2141433892993763,0.9758594074217347,0.7397227546687147,1.0795667455313793],[1.0445765858574632,1.2325697260261743,0.9763687330998255,0.7385051413886605,1.0795735835122604],[1.067583905647668,1.2549801225298014,0.9877768824780291,0.7438205209393848,1.083929377333461],[0.9902840930266288,1.2290836856736402,0.9896103466431214,0.7598941359448006,1.0819326869162074],[0.9705802643868977,1.2166334864208506,1.014260186977402,0.7834174435393447,1.0897074711779104],[0.9863977302372803,1.2315736871775846,1.0315252712385834,0.806476613504892,1.0924153116067887],[0.9647118184886261,1.210159329522547,1.0167048571331823,0.8001195872658308,1.0822472340367335],[0.9815009344976964,1.2435258670060791,1.0307613603888754,0.8114668585754544,1.0924289875685507],[1.0028758703777627,1.2485059656314978,1.0415583811891718,0.8195909927618042,1.103937309391283],[0.993820697155842,1.2534860647549246,1.0327476063164736,0.8391337966127681,1.1060434075026326],[1.001632324448788,1.2983067626426565,1.0370766415779602,0.8353968641272523,1.111828339327963],[1.00532429797823,1.3152390415945778,1.0431372596733521,0.8448355441315377,1.11643030046088],[1.0110761576564564,1.3067729021186172,1.035090395650362,0.8319582675461229,1.1123138359705147],[1.0245618411991313,1.3361553798253203,1.041354697467463,0.8250364261555921,1.1171209365298613],[1.0279818594969354,1.3142430027459882,1.031168805245074,0.8282608277992478,1.1171688023960284],[1.0428276751886303,1.3266932019987778,1.0349376133785615,0.8084439090023553,1.1284993367158545],[1.035948855801474,1.3615537977551946,1.0354978405065605,0.7811046347409621,1.134270592579423],[1.0264661208795565,1.3237051805725306,1.042475151723461,0.791537735460497,1.1285882304673076],[1.0489292931383558,1.3207171596442915,1.0615736996404401,0.7891369433025072,1.140212797965017],[1.0401072923565253,1.3237051805725306,1.0572956437509375,0.8067494640579363,1.1394059162210581],[1.0448874428033497,1.344621519301281,1.062643175033749,0.8007940774396065,1.1413684167339069],[1.0219579260530063,1.3217131984928814,1.0541889435673413,0.8038794760619246,1.1319251651372382],[1.0174497308378196,1.2958167611387121,1.0499617891277468,0.8053112844069499,1.1286155823908315],[1.0172165583977295,1.311254981319741,1.0477208801064561,0.8107936814986149,1.12799332613066],[1.038785942999053,1.2983067626426565,1.0582123368724459,0.8040337508634456,1.1351458541321917],[1.0319459067920804,1.28535854446358,1.0589253462722454,0.8104290541523149,1.1271454165014154],[1.0369981310046075,1.311254981319741,1.0662592008954361,0.8225043157616541,1.1312823949344237],[1.0462089103062508,1.3097609235448642,1.0594346719503362,0.8191448020659098,1.1150968941890838],[1.037192520264514,1.3142430027459882,1.0641710741459458,0.8209387085889738,1.1217160596818971],[1.032606640543531,1.307768940967207,1.0501145708902526,0.8183696343696613,1.1155345249654682],[1.0383195985075087,1.2823705230373328,1.0325439225947648,0.8107197541028608,1.100162743944968],[1.0408844937939559,1.3052788438457326,1.0379424332495601,0.7986074802190903,1.1095034258284213],[1.0760172464437503,1.3466135969984607,1.0509294611119444,0.8047120347258645,1.1237401020226747],[1.0923400175726403,1.3316733006241965,1.044155833616753,0.7993915969661153,1.1233503371124574],[1.0678947625935542,1.314741022170283,1.0388591258617739,0.7970418244698557,1.1119445850029404],[1.055808231059577,1.2893426042404088,1.024700741784189,0.7871875460340944,1.102638093023892],[1.0718200267085154,1.3132470590169205,1.0377896509777598,0.794063474548474,1.1189398394442087],[1.0648245025672491,1.308764979815797,1.0297936878953833,0.7832899187370448,1.1123548638558005],[1.0806420278789821,1.3217131984928814,1.0340717442941805,0.7868419841566209,1.1207724183203183],[1.0950216176131977,1.3276892408473675,1.0433918448449695,0.7864225434599476,1.1295045199053622],[1.08103068786473,1.3067729021186172,1.0284695499176764,0.7704496545535587,1.1138592196496218],[1.0626870504467334,1.2624502231571724,1.0050929461111944,0.7592260657810378,1.0860012855404055],[1.0623760753554181,1.2544821031055065,0.9954672810168046,0.7531456835286692,1.0889005894339518],[1.0516885776847096,1.1984562064679531,0.9856887562378334,0.7331833904044777,1.0756759344100872],[1.0574327279850708,1.242778885429398,0.993022610861024,0.7333478787771572,1.0858918778463094],[1.0787377478099203,1.2592131449570245,0.9924114822831167,0.7250414065656317,1.0963061227280808],[1.078659944770059,1.2684262655116585,0.9964348755882213,0.7172283510230878,1.1031030757238003],[1.0792040923014647,1.251493987057745,0.9733129343661375,0.7222364456186492,1.0983711929541444],[1.096342966582034,1.2569721051074587,0.9741787260377375,0.7453504775111242,1.104306560358857],[1.1026777569718496,1.244521905854669,0.9752991802937356,0.7622350079668379,1.1037048180413287],[1.1038436183950282,1.274402402985667,0.984211835988326,0.7664424006832599,1.1046142694985024],[1.111033413262136,1.278884482684799,0.9927679482766261,0.7602855619943735,1.1158832619903996],[1.1293381485772476,1.2711653247855192,0.993022610861024,0.7559697586485298,1.121743411605421],[1.132991339315142,1.3284362224240487,0.9742806068596297,0.7692652112827386,1.1298532569302935],[1.136100382132995,1.3227091422219488,0.9791188898771315,0.7663149245850116,1.1300583963567237],[1.1645874878357234,1.3466135969984607,0.9819200260264214,0.7782588678309053,1.145375473530176],[1.195250828450515,1.356075679705481,0.978202196755623,0.7768423800976125,1.148910709645656],[1.1914422687010278,1.3615537977551946,0.9880315455717218,0.7785368250420315,1.1504902832291681],[1.1926081301242064,1.3386453818272726,0.9872676347220138,0.7835538686883694,1.1462233831594206],[1.1996813387712693,1.4770916318808431,0.9908326817210117,0.7837642213606457,1.1494030442690881],[1.1818817311278855,1.4770916318808431,1.0083524285665912,0.7864008515422538,1.1551879760944188],[1.1862345569428432,1.4497012313733117,0.9856887562378334,0.7740004553252555,1.1570479068940522],[1.1794334220614833,1.3874502351093636,0.9884898918778287,0.7764777526238151,1.1594001723171181],[1.1700283720339983,1.3625498366037843,0.993022610861024,0.7631453362917292,1.1572530463204824],[1.161789301575121,1.386454196260774,1.001324137977707,0.8023418836638423,1.152842548652234],[1.1791224465815318,1.407868554413819,1.0044308381613032,0.7986814076148444,1.1557897184119472],[1.2125840919909907,1.3999004343621533,1.0050929461111944,0.8032165128112384,1.156747035735288],[1.1896156735263985,1.390886502055325,0.9992869906002004,0.8156016371205559,1.1524254318184926],[1.175274985506432,1.3969123183143917,0.998268339244019,0.8256739527589882,1.152856224613996],[1.1706502040712001,1.3989043955135636,0.993328175404625,0.82423450858762,1.1526989510537329],[1.1875559059116794,1.39243023861526,0.9972497658099131,0.8317861917961572,1.1671544426361782],[1.1822703911136332,1.3769920184342312,0.993939381904608,0.8424666574623998,1.1690690772828598],[1.1697562978796594,1.3779880572828211,0.9956709647385135,0.8550531853932171,1.1673390681199656],[1.168823608896571,1.3605577589066047,0.9727018057882301,0.8474033537029707,1.1606583607992231],[1.153899990165015,1.3640437997571466,0.9603259065037534,0.8469111529778167,1.1562410251500936],[1.1493528932355797,1.3685258789582706,0.957117325498265,0.8396807619842438,1.1607335785889141],[1.1552602408480999,1.3784860767071159,0.9565571757830467,0.8277317606568227,1.156589762175025],[1.1530449852990867,1.411852614190648,0.9630251613218564,0.8512461190730928,1.155256355903229],[1.1424740738484234,1.411354594766353,0.9596128971039538,0.8916997725913982,1.1584633689364205],[1.132252920669259,1.3969123183143917,0.9550801781207583,0.9079646746727664,1.1524664597037786],[1.1133263529283093,1.351693242437025,0.9462184238760765,0.9068898092711438,1.1360074397231985],[1.1069138780326973,1.3605577589066047,0.9439266134048773,0.9149400161892369,1.1322533882195265],[1.1098286501247085,1.3401394401001572,0.9382734401656837,0.9247943432015526,1.125572680898784],[1.1157358788145277,1.3505976567752895,0.9399541220589755,0.9126450569158533,1.1298737708729365],[1.1059422873353602,1.3476095407275281,0.9414820211711723,0.9149948779886671,1.1233434991315763],[1.1259959337079408,1.389442217687021,0.9431627025551694,0.9160875443387344,1.1330260800590801],[1.127084110625323,1.3939242968881447,0.9443340587703705,0.9125545930920363,1.1374981195552576],[1.1123158609053596,1.379731077210084,0.9408708925932648,0.9161066098075608,1.132902996403222],[1.091795870041235,1.3446712927078537,0.930685000370876,0.8899148151191107,1.1149191066861777],[1.0943219821474983,1.3500996373509946,0.9277310824590802,0.8941145720091896,1.1179825221208681],[1.1036493476691869,1.3595617205560229,0.9301756746927852,0.8955795016593971,1.120177513983671],[1.0919902593011412,1.3505976567752895,0.9282913095870793,0.8874120810457637,1.116621763925548],[1.1223815261502301,1.3834661753325348,0.9368984007380685,0.8898956523696782,1.1212715909246318],[1.1411916262051995,1.3979083566649735,0.9326712462984741,0.9083127171419468,1.13037294347725],[1.1429793200542162,1.4058764767166394,0.9378659953094852,0.9020819023532547,1.131740539653451],[1.1498192381157601,1.4028884557884003,0.9321619206203834,0.9074546729991678,1.13180208148138],[1.1647817585615647,1.4561752931520928,0.9420931497490795,0.9219345203276424,1.1431121018585633],[1.1673078706678286,1.4681274729805878,0.9503437754158542,0.9009344713568658,1.1515091423804378],[1.1645098029412908,1.4536852911501406,0.9712248076166472,0.851883548395883,1.1550238645532747],[1.1614783264838058,1.4765936124565484,0.9713775898884476,0.8609537586611734,1.1511193774702206],[1.157825254279976,1.4571713320006827,0.978711445020933,0.846765827227072,1.15424433473284],[1.1505965580872557,1.4750996493031858,0.9837025103102353,0.8198460422389067,1.1608156343594862],[1.1821150217134044,1.4940239103347568,0.9786605435710246,0.8293165304514379,1.1657116286702862],[1.2126773133979465,1.5156872306401883,0.9901705737711205,0.8463654519992252,1.1799072769792536],[1.212778362716832,1.5453187656188,0.9849248453881254,0.8602435693099025,1.1777327990590938],[1.2294119904029723,1.5400896097214725,0.9677616419488362,0.8513379446978975,1.169233188824004],[1.2105631071678191,1.5069721290118412,0.9727018057882301,0.8936479540434809,1.1637149382530325],[1.2208231620612322,1.5572709454472946,0.9675069788551436,0.8908429930964984,1.1606925507036283],[1.2150713023830058,1.560756985799829,0.9649605057995464,0.877055436890244,1.1575128895939606],[1.2363297115043772,1.6309761021154427,0.9687802153829422,0.8855977471253877,1.1615472983137538],[1.228129543148385,1.6708167018757638,0.9519734779371621,0.879277733160758,1.1568154155440982],[1.2150325192028217,1.6518923457246708,0.9431117236924803,0.8683486380274258,1.1498406750454724],[1.2473281846550375,1.7086654136799422,0.949223321159856,0.8887673842502194,1.1590377593304249],[1.2456181757004532,1.700199179582467,0.941991346849263,0.8916807071225717,1.1582650674908712],[1.2232715896616992,1.687001998752996,0.9363890750599778,0.8804800260840745,1.147864498570862],[1.2399052173478393,1.737549777340836,0.9376114101378681,0.8797877349618544,1.1559606679339725],[1.20488905091809,1.700199179582467,0.9269670936872968,0.888384809970817,1.1461276514270864],[1.178461831364146,1.6399402610156981,0.910211335104206,0.8759806687692275,1.1319935449460483],[1.1590300174174033,1.6439242256730051,0.9234530260602828,0.886268443738018,1.1326431531297438],[1.1860169214039122,1.6867529414810876,0.9410236748650654,0.8918235037050551,1.1573692919954595],[1.208227470754133,1.700697294126284,0.948102866903858,0.8976042368286038,1.1646449036528495],[1.2074929660642149,1.693227098379391,0.9522281405215602,0.9034843828267459,1.1693904623842672],[1.1907815349495774,1.6623506575193254,0.9404634477370664,0.908292289744635,1.1611301814800126],[1.2066767443784705,1.6478586071627834,0.9510058054436699,0.9127254043216202,1.1771857605886134],[1.2077649212958528,1.6307270448435343,0.8903997777874273,0.9188925052857169,1.1851246563914608],[1.2783451978859295,1.6648904329278504,0.8850521690918347,0.9268891147972641,1.192885764691402],[1.2686642782822055,1.6962152144271525,0.8803666678368389,0.9496053492067077,1.192995172385498],[1.2923711150040447,1.6902389823316295,0.891112787187227,0.9468832648337534,1.1998399912473845],[1.2698924062327224,1.6484063048741289,0.8951871598643154,0.9561587208582435,1.194171305097031],[1.291088549215392,1.6474104562645837,0.9055258343585048,0.9688166470165537,1.198062116218323],[1.4122654307622597,1.6060757036098634,0.9006875508317084,0.9579768484672625,1.2033273614966973],[1.3919397110126126,1.61105570711576,0.9032340238873056,0.9651128846677695,1.2049274490228523],[1.4095838311103386,1.6518425723180978,0.9275273208152959,0.9410731552621162,1.2116560222097619],[1.4032878239007065,1.6220119432151874,0.9174942108647075,0.9560414097545996,1.205748006728573],[1.4147526415429108,1.6404381853204708,0.912706906709895,0.9520456341033384,1.2011186936721323],[1.3952120692880534,1.6524402336750608,0.9128087096097115,0.9471790716973759,1.2046060639214453],[1.394193748964537,1.6528883845732605,0.9181054173646904,0.9594188216793945,1.2089071538955978],[1.3947845075880567,1.64193233821487,0.9057804969429029,0.9570486704898749,1.205515515378619],[1.384244669939712,1.637450259013746,0.9126050258880027,0.9487995406694862,1.210657677001135],[1.335198790581311,1.5991036224067874,0.9167303000149996,0.9334488091782068,1.1946978296248685],[1.3614317394094135,1.6494023437227188,0.9166793985650912,0.9481442132451432,1.210739732771707],[1.37724143642058,1.6840138827052347,0.9313980097706754,0.9453902232558392,1.2116149943244758],[1.358400381097357,1.6967131387319252,0.9323656817548731,0.9471421079994989,1.2087430423544536],[1.3844001574853695,1.7482569561683545,0.9348102744978728,0.9482793252972317,1.2185281929951723],[1.4278341281986784,1.777390377101157,0.9279857450434783,0.9619866313783252,1.224422532514599],[1.434728603021059,1.7664343307427663,0.9329768103327805,0.9562148473055532,1.229592046060639],[1.4231082978331973,1.7417827992700512,0.9394957752435742,0.944627798426508,1.2250447887747704],[1.418289245672124,1.7246016537832736,0.9434682670987704,0.9463043938459279,1.2225420877723225],[1.4090785849045455,1.773904336250615,0.9431627025551694,0.9380171329603891,1.218097400199669],[1.433757012323722,1.8077688936564498,0.9377641924096686,0.9491934958873204,1.227998796515365],[1.4469317207750811,1.8172311666025147,0.9233511457476853,0.9467596310007026,1.2340914374803407],[1.4637597377211278,1.807270969351677,0.9113317893602041,0.9539364244602321,1.2325323778394714],[1.482142157930672,1.8247011721103634,0.9030302627528158,0.9715310469866107,1.2327170033232586],[1.5028953212348872,1.8406374117156872,0.9114845716320047,0.9944079762075881,1.235780418757949],[1.5297501021001916,1.8416334505642769,0.9151005200809108,1.0128224145309896,1.2348094254728463],[1.5246200748478032,1.8431274137176392,0.9038960539151213,1.0040059892224196,1.2314519768602727],[1.4949283249303487,1.8207172069550488,0.8967659604264203,1.0314944314997545,1.2275201378536946],[1.4999805491428757,1.8989044433223286,0.8950343775925148,1.0290873166123577,1.2259200503275391],[1.4942675907902618,1.9357569265368804,0.8967659604264203,1.0343707908017274,1.220600101202117],[1.5038281287520405,1.9352590022321077,0.9048637264086136,1.0200171063470673,1.2343170908494139],[1.4958222307332532,1.9357569265368804,0.9037942510153046,1.0316920900091655,1.2365599485783836],[1.5070537577899383,2.0029881165457697,0.9020625902593237,1.0300894219854997,1.2326281095718055],[1.4853290037883862,1.949950146214941,0.8922841428931333,1.0224573912436978,1.2186786285745546],[1.481675813439128,1.9596612861938698,0.8829640423423445,1.0209631824260081,1.2140835054225187],[1.4932960000929247,1.9785856423449628,0.8800611038025326,1.0098351642628831,1.2139604217666606],[1.511678538836534,1.9785856423449628,0.9057804969429029,1.0154271879277974,1.2216326363151488],[1.5065485115841455,1.9676294062455357,0.8951361804923316,1.010855167737578,1.2178443949070719],[1.538844177036361,1.9940239581435217,0.9101094542823138,1.0031682750688486,1.238119008219253],[1.535851720049917,2.00199207769718,0.9178507542709977,0.991675678135978,1.2374010202267474],[1.5630951612896056,1.9980079228008285,0.9168321808368918,0.99998083712307,1.2433637395549841],[1.565893347161572,2.030378517053301,0.9280875479432948,1.0383576172747147,1.2499760670669164],[1.5514360729215602,2.0343624817106076,0.9331295926045811,1.0339500855846724,1.2536207108764923],[1.5716063051255496,2.0244024746988147,0.9439775927768611,1.027083008840463,1.2595697542429671],[1.5470832471066023,2.016434354647149,0.9426024754271703,1.0201446311493674,1.2591457994283448],[1.5287785114028543,2.00199207769718,0.9493761034316566,1.0099983881151806,1.2589201460592716],[1.5498426497983848,2.01394416290416,0.955283939255248,1.02183776299685,1.2639050341215246],[1.5466558039406708,1.9716135611418868,0.9448942858983694,1.007467542114127,1.2527044214384375],[1.5407096735366028,1.9980079228008285,0.950547459137563,0.9853377659422977,1.2522873046046963],[1.5297890038144404,1.988545840093808,0.9472879766821662,0.9907105365882108,1.2491418333994337],[1.5468889763807607,2.03784852256115,0.9661828408774366,0.9836204131363575,1.256738830158231],[1.5620069843722235,2.0428287163060905,0.9573210866327547,0.9898537569658133,1.2564721489038717],[1.5584703802430102,2.03784852256115,0.9543162672710505,0.977212367235566,1.256909779680256],[1.5454510411918796,2.053286837861701,0.9537050607710676,0.9706934301136458,1.2598090835738023],[1.5194901661294797,1.9915339561415697,0.9379169746814691,0.9757754521049615,1.2439654818725125],[1.544984696311699,2.0488047586605767,0.9468805318259678,0.9951908284342315,1.2574226282463314],[1.5384944183762257,2.045318717810035,0.9561497309268482,1.015172235731301,1.2639187100832867],[1.538222344610523,2.008964158900256,0.9613444799378593,1.0095074519104084,1.2622160528439164],[1.5530293775106703,1.9925298047511149,0.9681181074330508,0.9847729994948798,1.2572995445904733],[1.581943925990694,1.9681275207893527,0.9596637985538622,1.0000726627478747,1.260786914839786],[1.572189235837139,2.0009960393465978,0.9281894287651871,1.004515991023516,1.2615117408131726],[1.5540398695336197,1.9616533638910494,0.930634020998892,1.013022602208662,1.2502974521683237],[1.506354240858304,1.8879482072229012,0.9148968363592019,0.9946081638852604,1.2241968791455258],[1.5012242136059155,1.8251992866541804,0.90603508211452,1.0026774361446824,1.2182273218364081],[1.5328980466322932,1.9033865225234523,0.9006875508317084,0.922535083105664,1.225708072920228],[1.493140631081332,1.737549777340836,0.8983956629477283,0.9120623923668824,1.213194567907988],[1.5662431058217072,1.7584662106911007,0.9032849253372139,0.910299126684791,1.226863691689118],[1.3939994782386957,1.793227069893335,0.8998216817473275,0.9117895419413353,1.2189316338671516],[1.3452644558261815,1.738047891884653,0.8805703515585478,0.9134827710694242,1.1911010516814595],[1.3522599799674477,1.7758964139477944,0.8802647870149467,0.9267068253486425,1.2002024042340778],[1.346430435783425,1.767430369591356,0.8873949584257231,0.9336273049381854,1.1977680830404398],[1.3780653670955536,1.804780967349725,0.8895848880750302,0.9334819791874407,1.2126680433801507],[1.4032878239007065,1.8540836498170665,0.9027246982092149,0.9465415450939797,1.2287988402784424],[1.4024717207490272,1.8804780114760082,0.9021644710812158,0.9634987382975683,1.230727150886886],[1.406047226592489,1.9173306849296043,0.9152024003935083,0.976193628281253,1.244341570820968],[1.3573122041799748,1.8979084044737389,0.9179526350928898,0.9761209654058807,1.2440065097577986],[1.3882088357689217,1.9183267237781942,0.9261013020156967,0.9916209134896563,1.2512342555490215],[1.388791766480511,1.903884446828225,0.9355232833883778,0.9908201630339625,1.2572516787243062],[1.3744121767462956,1.9076195449506754,0.9329768103327805,0.9944627408539098,1.2587081686519603],[1.3500447248070708,1.882968203218997,0.9317544752548903,0.9787614378526861,1.2504957536138728],[1.3594496563004905,1.881972164868415,0.9384262224374843,0.967433329292495,1.2580380465256218],[1.3476351989208522,1.8570717663628358,0.9309395855424931,0.9566865236077844,1.2556242392746269],[1.3671446973733912,1.8635457330220946,0.9343009483104875,0.9608761640798136,1.263392185555449],[1.3925615430498144,1.855577612970429,0.9331804940544893,0.9508765113167533,1.2616895283160787],[1.3983132841939758,1.8735059302729322,0.9374076490033784,0.9422971399756289,1.2617168802396028],[1.3995958503712647,1.915836721776242,0.9435701479206626,0.9610941525784328,1.2679599567839608],[1.4072519897299163,1.9257967292860427,0.9430608222425719,0.9584893793091226,1.2714883549185596],[1.3982355996881795,1.904880485676815,0.9384262224374843,0.9612586410786098,1.2621066451498202],[1.414247395337118,1.9736056388390664,0.9495288851941625,0.9675965532722901,1.2813760752724934],[1.4471648928265353,1.967131481940763,0.9530939321931602,0.969636462941074,1.2813076954636833],[1.4463487900634922,1.9750996019924287,0.9556404052487574,0.9667040744723977,1.2835095253073672],[1.445960130077744,1.9272859429373945,0.9558440889704664,0.9661392108718712,1.2842001613763487],[1.4400139996736763,1.8949202884259773,0.9492742226097644,0.9670138887233192,1.2836052570397014],[1.4333683523379739,1.8705180039662075,0.9511585877154705,0.9764307795293046,1.277081823279222],[1.4404415609850365,1.8675298879184459,0.9484084309381644,0.9773781201286275,1.2774715881894394],[1.4438226779572285,1.8540836498170665,0.9365927587816866,0.9665216878706674,1.2625237619835614],[1.4524891908047652,1.8725098914243425,0.9279857450434783,0.9556666174136955,1.2589611739445576],[1.4575415335513573,1.9477092014848973,0.9463203046979687,0.9594009234503439,1.2710644001039373],[1.4720375909715528,1.9646414799388108,0.9514132508091631,0.9678884691666634,1.2802409704462465],[1.4505072266185433,1.922808802979318,0.9407181103214644,0.9676335169701673,1.2723909683948522],[1.4339512830495633,1.8809761260198252,0.9569645432264644,0.9629709356755249,1.2800768589051024],[1.4015001300516898,1.8894421703762636,0.9507002414093636,0.9705659054388436,1.2763228074014303],[1.3674167711390939,1.8266932498075428,0.9587471054323538,0.9820764006007647,1.2701139207614776],[1.378531711975734,1.789342652049174,0.993328175404625,0.9926408196837452,1.2757073891221398],[1.3346158598697218,1.7654382918941767,0.9810032549828376,0.9831511687217813,1.2667769860915468],[1.315417217974433,1.7724103730972527,0.9667939694553439,0.9789259263528631,1.264370016821433],[1.3147177010427986,1.7878486888958114,0.9699515710888486,0.9778332600027958,1.2702370044173354],[1.3072363815528638,1.7878486888958114,0.9803412249550217,0.9776140069837949,1.2803025122741756],[1.3329835350322978,1.8172311666025147,0.990578018627319,0.9865579569671673,1.2893149710753409],[1.3289805864115403,1.8247011721103634,0.9857397356098172,0.988196324295826,1.292993804789322],[1.2965683347392796,1.780876417453691,0.9813597983891277,0.9813484103010494,1.2915373148616676],[1.2552951809595758,1.7061752219369533,0.9766742976434265,0.9686534231642561,1.2753449761354465],[1.2349306780297449,1.6469123417207665,0.9906798994492112,0.953444321015684,1.2616348244690307],[1.2711127058826728,1.6847610540229525,0.9844155197100347,0.9533894590887563,1.2663667072386866],[1.2895145769493415,1.736553738492246,1.0014769202495073,0.965921222373252,1.2801931045800796],[1.2324044473894165,1.663346696367915,0.9965876578600219,0.9534633864845105,1.2534565993353481],[1.2114959150736087,1.6368725448680181,0.9940921636671138,0.9464141176997833,1.2415653505832798],[1.227740883162637,1.665587640599951,1.007231974310593,0.950184220194533,1.2517676180577397],[1.2284014983800227,1.7036852199350012,1.0034122647271972,0.9434089690751286,1.2602262004075435],[1.2579378792858846,1.8102588951603942,1.0002545851716171,0.9453214513497162,1.273444017450527],[1.262718148266774,1.811753048552801,0.9677106625768523,0.9561217571603665,1.2751808645943026],[1.285880837068571,1.8127490874013907,0.9792207706990237,0.9674690284699902,1.2799948031345305],[1.279857022158707,1.799800773604784,0.9786095641990408,0.9684329054973756,1.2852326964893805],[1.2614355820894851,1.7649401778483673,0.9764705359996421,0.9557762438594473,1.2823880964428824],[1.3102871907220446,1.7549801703385666,0.9687802153829422,1.0341323749057962,1.2845899262865659],[1.180793554210503,1.7171314580363806,0.965775396021238,1.041727441949721,1.2741893573665568],[1.1526174239877263,1.6927291740746182,0.9836516088603269,1.082071468894777,1.2783126598378032],[1.1673856737076898,1.7843626480452697,0.9936847188109154,1.0788661327199476,1.2843984628218978],[1.181959534167747,1.790338690399756,1.0006111285779073,1.0747862159742765,1.288241408077023],[1.1965722959534162,1.81822701521206,0.985637854787925,1.07731706197533,1.2880567825932359],[1.1970386408335967,1.8361553325145632,0.9749936157501347,1.0793212725941164,1.2863199354494605],[1.2049667354238864,1.8381474102117428,0.9740768452158454,1.0945840693023428,1.2887269047195744],[1.1557265853396441,1.8172311666025147,0.9678125433987445,1.082654133443748,1.277143365107151],[1.137577219036125,1.6967131387319252,0.9640947146372408,1.0788661327199476,1.2843164070513258],[1.120516147795417,1.6892429434830396,0.9621084687096427,1.070961251552599,1.2825522079840266],[1.1357506234728598,1.681274823431374,0.9680672059831426,1.0665027487773808,1.284501032535113],[1.1770237776411998,1.7156374948830182,0.9807486698112202,1.0797765096213934,1.2969256437959],[1.1839416168880335,1.7131474933790736,0.9788133253335305,1.0814709059892578,1.2974726822663802],[1.1566592743227324,1.7016931427358293,0.9611407962161506,1.08167109366693,1.2913732033205234],[1.147215441115064,1.6832669011285535,0.9496307660160547,1.0724721913595638,1.2792836531229057],[1.1569702498026841,1.6638446206726878,0.9526864873369617,1.088300921754984,1.2840770777204906],[1.1532976085963014,1.6877489803296772,0.9523809227933607,1.1011960965694494,1.2890140999165765],[1.1705336178511552,1.6867529414810876,0.9416348034429727,1.1014140850680685,1.2806375733373447],[1.185379552465551,1.7111554156818942,0.9492742226097644,1.1043286725883006,1.2910313042764732],[1.1849908924798032,1.7280876941358077,0.9456581967480775,1.1060779308830928,1.2940810437494017],[1.2134778792598304,1.7440239342391393,0.9469824121385653,1.1185727304697113,1.29957878037773],[1.2079593105557591,1.7490039377450357,0.9410745763149736,1.1395180146666688,1.3073604026203143],[1.2053942971238831,1.7320716592911223,0.9324165832047814,1.1365677280964395,1.30590391269266],[1.219462911378147,1.738047891884653,0.9358797493818871,1.1572771255657268,1.3129128430956907],[1.2146826423972577,1.7255976926318632,0.938935548115575,1.1529421594704508,1.3153334883275665],[1.2002642694828582,1.736553738492246,0.9457091756107666,1.1450182128342756,1.3162908056509073],[1.1938517945872464,1.7255976926318632,0.9389864495654834,1.1612104520402717,1.315791633046594],[1.1922583718527073,1.72958165728917,0.939699458965283,1.174470205624483,1.31828065808728],[1.257510436119953,1.740039779342788,0.947186095860274,1.1790791895125792,1.3268828380355848],[1.281217272841792,1.7888445375053568,0.9491723417878722,1.175836889639873,1.3330233448667277],[1.2727838135116443,1.7948207700988874,0.9484084309381644,1.194651703191121,1.3342746953679516],[1.2918658691868878,1.8082670077022591,0.9385790047092848,1.2016641055585773,1.3339464722856633],[1.302708854403254,1.8242032478055907,0.9281894287651871,1.196691710140511,1.3292282654777696],[1.2666045110561224,1.8316732533134394,0.9229437003821922,1.1766746037934437,1.3198055278237442],[1.268003544530755,1.8396413733651051,0.9297682298365867,1.1637973272080289,1.3239425062567525],[1.2732501580031883,1.7335658121855213,0.9286987544432778,1.1755270755164489,1.3250502591594753],[1.2654774324244913,1.714641456532436,0.9282403302150954,1.1739971675212637,1.3279290491103786],[1.29952200854554,1.740039779342788,0.9350649370822709,1.1752721233199523,1.3381791824510059],[1.27084063211697,1.7270916557852256,0.9310924452270745,1.1711922065742812,1.339888677671257],[1.2599588637204202,1.695717100381343,0.9246243822754839,1.1590799812670651,1.342206753189918],[1.2717733211000584,1.6752987810768876,0.927629201637188,1.1580599777923701,1.342028965687012],[1.2598033761747625,1.6671813408055036,0.9212121175482866,1.1510475754249139,1.333392595834302],[1.2725506410715541,1.655876500621022,0.920397227326595,1.1520675788996089,1.3399228675756623],[1.2657495061901942,1.6762948199254775,0.9186146651207057,1.1589524565922626,1.33834329399215],[1.2613967989093013,1.7056772976321806,0.9254392719878811,1.1727222118500724,1.340900698841646],[1.262212902060981,1.749502052288853,0.9231983634758849,1.1848344371572885,1.3404015262373326],[1.2917881842924552,1.7604580981492357,0.9490705388880556,1.1923567439177374,1.3493524432105686],[1.293575878141472,1.7868526500472217,0.9594601148321532,1.1918468395247448,1.3502413807250992],[1.311616367602811,1.799800773604784,0.9601731242319528,1.1988591446115948,1.3576400760383474],[1.2962962609735769,1.7689243327447184,0.9576775526262639,1.2235682087013926,1.3523132889320442],[1.2584431254916775,1.7196214600383326,0.9535013770493589,1.2156888130128833,1.3427811435839225],[1.2823831342649705,1.7355576996436564,0.9596128971039538,1.2161988148139795,1.3490173821473994],[1.2744161379604322,1.7395418550380153,0.9559459692830639,1.2116727073724138,1.34344442772938],[1.3454588450860878,1.7644422535435946,0.9574738689045551,1.214031380342896,1.3454206042039905],[1.3809024546817688,1.7778884911469663,0.9669467517271445,1.229713520594687,1.3519371999835887],[1.3774824363839646,1.7734064119458424,0.959969440510244,1.2153063360140872,1.3493250912870447],[1.3831564930223297,1.6827689768237808,0.9796791170051306,1.208421458448931,1.3549937774373981],[1.3697641494206754,1.6538844229238425,0.9803412249550217,1.1868730823056908,1.3389587122714404],[1.3938828924072868,1.6598606555173732,0.9803921264049301,1.203959064831961,1.3527030538422613],[1.398157915182383,1.6573704637743845,0.9719887963884306,1.1976989708757864,1.34956442061788],[1.402355134528982,1.6733067033797082,0.9884898918778287,1.2076565044513383,1.3563340216900752],[1.39186202611818,1.7285856184405803,0.9861471804660157,1.2391484069103293,1.3587136390366652],[1.3936885031473805,1.8012947367581464,0.9943468267608064,1.2371083999609394,1.3593769231821227],[1.2592204454631732,1.7988047347561944,0.9900686929492283,1.2452809760642038,1.3527851096128334],[1.2452295157147055,1.7878486888958114,0.9970969835381125,1.2624803787248693,1.3531748745230507],[1.2436360925915302,1.7768924527963843,0.9909345620336092,1.2543205453610242,1.3470480436536698],[1.2533909012791504,1.8227090944131839,0.9880315455717218,1.2513881570198455,1.347130099424242],[1.2163926513518417,1.78336660919668,0.9761649719653358,1.2188762509586621,1.3201884547530804],[1.1933465487700894,1.773904336250615,0.9633307258654574,1.2256336038490159,1.3164138893067654],[1.2189576651723542,1.8194721113325583,0.9658262974711463,1.2187487262838597,1.325877654846077],[1.213788854739782,1.7778884911469663,0.9528902484714514,1.2127564246717046,1.3130359267515488],[1.2198904726895075,1.782370570846098,0.9471351944103658,1.210716417594817,1.3130564406941918],[1.2104077381562264,1.7758964139477944,0.9386299840812686,1.2045965913078596,1.3057603150941588],[1.231199684251989,1.788346613200584,0.9504965576876546,1.2079114566478346,1.320817548994133],[1.2371458146560568,1.782370570846098,0.9547746135771574,1.2238486463767284,1.3244621928037088],[1.2409933942652216,1.7689243327447184,0.9541125056272661,1.223593694180232,1.32229455286443],[1.2680424462450037,1.8022907756067361,0.9572192058108625,1.239785836105622,1.3311634140670943],[1.2949749120047407,1.8107570097042114,0.9568627403266476,1.2431007988537006,1.336948345892425],[1.2966072364535286,1.816235127753925,0.9543162672710505,1.2492207225487617,1.3368662901218527],[1.300104939257129,1.8615538455639595,0.9644002786715473,1.2642654334777628,1.3482720422313699],[1.3024367806375512,1.8839642420675868,0.9680163045332342,1.2817325314568366,1.3550142913800411],[1.3049628927438146,1.8675298879184459,0.9681690868050348,1.2822425330029377,1.358371739992615],[1.2938090505815623,1.874501969121522,0.9739240629440449,1.2823700572952477,1.362378796788884],[1.2886790229405374,1.892928210728798,0.9697478878764344,1.2918048468402739,1.359664118379125],[1.298122856148206,1.877988009474056,0.9735675974598302,1.2946098075322612,1.3661738761778421],[1.3284753402057472,1.881972164868415,0.9828876980106189,1.2863097063717017,1.3676098521628532],[1.333721953678181,1.9013944453242806,0.9791188898771315,1.3021321151851926,1.3676782319716632],[1.3214410328842972,1.9078686017245763,0.9778456533493329,1.3036621198234963,1.3653669944338835],[1.3176324731348101,1.917828609234377,0.9793735529708242,1.306849557769275,1.36990057575799],[1.3306129108603282,1.955677321536563,0.9756047448373367,1.3170493987199974,1.3691552358419605],[1.3174769855891524,1.9357569265368804,0.9775909902556402,1.2614604725307803,1.3680885108245238],[1.3444872543887507,1.9516931666402118,0.9711229273040497,1.2510056800210492,1.365989250694055],[1.3461583620177222,1.9716135611418868,0.9737712806722444,1.2618429495295767,1.3728682594603465],[1.3304574229260342,2.082171391263631,0.9683727705267435,1.254065593164528,1.3686492252567661],[1.2815281297876784,2.0308764413580738,0.9676088596770357,1.2493481499429582,1.359691470302649],[1.2876685309175877,2.0488047586605767,0.9755028640154445,1.2877249300946025,1.3646490064413779],[1.2845205863854863,2.054780801015063,0.9764196345497338,1.2932073271862676,1.365852491076435],[1.287124501531611,2.1354582291253315,0.9741787260377375,1.2961398134455402,1.3577084558471573],[1.2587541005829928,2.119023874976191,0.9768779813651353,1.2957572392936352,1.3567443005429356],[1.2737943059232302,2.126991994529849,0.9827349157388185,1.2859399724948177,1.3668987021512287],[1.2591815437489244,2.1210159521753624,0.9819200260264214,1.2951198090783624,1.3686697391994092],[1.2630679065382728,2.095866496397875,0.9867583090439231,1.29779724547804,1.3753641224819133],[1.287629747737404,2.0383466371049668,0.9880315455717218,1.2872149285485015,1.374707676317337],[1.2611247251435986,1.9248008806764976,0.9834988265885264,1.2884898846021853,1.363691689118037],[1.257743608560043,1.9447210854371357,0.9759103088716431,1.30863451536906,1.3558143351431189],[1.275543098057998,1.986055838091856,0.9794244544207326,1.2972872439319387,1.3664337194513203],[1.2511367444045247,1.9397410814332317,0.962617716465658,1.2478182420752704,1.3443402032247918],[1.2561112841112554,2.024900399003587,0.967965325670545,1.284537492148824,1.3558690389901669],[1.2507093012385928,2.017928317800511,0.9658262974711463,1.2763776586574815,1.352415858645259],[1.2531188271248115,2.0293824782047114,0.9667939694553439,1.284537492148824,1.348648131179825],[1.2337646980725012,2.007968120051666,0.9532467144649608,1.2645203858017566,1.330780487137758],[1.2374567901360085,2.0169322789519217,0.9519225764872538,1.2737002226402965,1.3307873251186388],[1.25428468854799,2.043326640610863,0.9608861336317525,1.2701303076957215,1.3456462575730639],[1.2521861381417232,2.06772911481167,0.9627704987374583,1.2701303076957215,1.343540159461714],[1.2318993197176884,2.0383466371049668,0.9458110564326588,1.2590379885825942,1.3232176802833657],[1.2541293195363974,2.045816832353852,0.9644002786715473,1.2851750192622102,1.3463232176802833],[1.225642213833669,2.0468126809633973,0.949427004881565,1.2879798817811088,1.318506311456353],[1.210174565716136,1.9721114854466595,0.946931433275876,1.2842825404623177,1.3034080496710931],[1.1909759242094837,1.9113546425751182,0.9346574922260723,1.2725526943633017,1.2819436276856169],[1.198204502256775,1.8909363232706629,0.9360835110256714,1.2590379885825942,1.2839676700263947],[1.1891104273206057,1.8834661275237696,0.9256429557095899,1.2436108006547968,1.2735671011063852],[1.1770237776411998,1.8981574617456474,0.9159154097933079,1.2272911339271069,1.2737517265901723],[1.1800552540986848,1.9148406829276523,0.9271708553310811,1.2452682333247844,1.2901628807045855],[1.1900431166923302,1.9561752458413357,0.8612172184699515,1.271915265168009,1.3019583977243199],[1.2254867262880111,2.0009960393465978,0.8313215718306004,1.3064670805154837,1.3274435524678272],[1.2163149668460456,2.0916334744686593,0.8239877172074098,1.3130969093685225,1.3177541335594425],[1.217131069997725,2.1215138764801353,0.825973963135008,1.336556502373486,1.3339669862283063],[1.1156192929831188,2.1663346699853974,0.8254647148696982,1.3415288979190496,1.3433760479205699],[1.1269286226910293,2.2260956642473935,0.8243951620636084,1.3401264175730558,1.3413588435606734],[1.1487699625239902,2.28436250561499,0.833206014858382,1.3609084785552035,1.357373394783988],[1.1430570045600126,2.26245022365518,0.8324930054585825,1.3685583092254694,1.3554929500417117],[1.162294547780914,2.272410420906018,0.8370257244417778,1.3639684891067856,1.3639378564297535],[1.187128344600319,2.293326664515246,0.837280309613395,1.3769731925764068,1.379938731691306],[1.1881388366232686,2.307768940967207,0.8370766258916862,1.3948228641973952,1.379774620150162],[1.1768295069153583,2.344621614420803,0.8283676539188047,1.384623024521648,1.3758701330671077],[1.1523842515476361,2.363545780332852,0.8241405768919912,1.3879379867597368,1.3837132971376211],[1.1528507145732452,2.3869522161830767,0.8223071132361937,1.3858979793003567,1.3889375145307092],[1.1653646892731542,2.417828657043142,0.8254138134197898,1.3898504686518314,1.3894230111732608],[1.185768093917234,2.460657372851225,0.8326457877303829,1.3875555095059453,1.3937582910518183],[1.2125840919909907,2.4427290555487216,0.8316781157461853,1.3986477310834715,1.394729284336921],[1.2106409105963165,2.5199202525694036,0.8246498251573011,1.4184098858715302,1.3937514530709372],[1.229956138323014,2.5149402490635073,0.8290806633186042,1.4384269923460948,1.3944899550060856],[1.274027477974684,2.5771912453274552,0.8360580524575802,1.4557666624209824,1.394825016069255],[1.2554894516854171,2.6080676861875207,0.8360580524575802,1.4533441789827863,1.3958507132014057],[1.2627958327725701,2.5771912453274552,0.8244970428855005,1.472213853695977,1.4030169171646996],[1.2690529382679534,2.518924403959858,0.8221542535516122,1.4620140140202298,1.4009108190533497],[1.2845983894253474,2.552290846821876,0.8181308602465075,1.4829235992946872,1.403666525348395],[1.29272087366418,2.541832725266266,0.8195568790461066,1.484963605479092,1.4110173547954759],[1.304418863357838,2.5811754002238065,0.8258211808632075,1.5124393052720024,1.4150586014961501],[1.3020870219774159,2.575697282174093,0.8238349349356093,1.4993707905696818,1.413431162046471],[1.2963740640134382,2.5861554042277106,0.824802606919807,1.5172204621906704,1.4173971909574539],[1.3160779517258836,2.576693321022683,0.8259230616850998,1.516327983390778,1.413793575033164],[1.2669542693276215,2.495019854063824,0.8227144806796112,1.4671139338581034,1.4041383460291845],[1.2681590324650487,2.5234062934199457,0.828469534740697,1.4615040124741285,1.4131029389641827],[1.2300338228288104,2.50398401296408,0.837891516113378,1.4780787280414334,1.4184228880896048],[1.231704930457782,2.510458169862383,0.8354978253295812,1.4724688066574585,1.4167749346972827],[1.2149936178772094,2.5393427232643138,0.831525333474385,1.4662214550582109,1.4191340381012294],[1.1917143424667305,2.4711154944068348,0.8243442606137001,1.43307211954674,1.4088360388944352],[1.2144883716714163,2.51543817336828,0.8300993146747857,1.4550017079133997,1.408500977831266],[1.1886051811148126,2.4504483080695154,0.8174687522966163,1.42733467259548,1.3854706582240397],[1.1945124101932683,2.487051734510166,0.8203208673085953,1.4231273284556125,1.3917547626536835],[1.1943570407930393,2.5019921255059447,0.7913419917128283,1.3990303065103515,1.3691894257463655],[1.1894990873063536,2.481075691657672,0.7795263195563507,1.37984186760298,1.3605051900274887],[1.146710195297907,2.4327688577998763,0.7711229895398511,1.3609722885129274,1.3489558403194704],[1.161556129523667,2.496015892912414,0.7737712654952651,1.3949503897646804,1.3764103335567073],[1.157086836022729,2.5353585683679625,0.8030557056346331,1.4362595574925188,1.4094651331354877],[1.165520176818812,2.5338646052146,0.8072828600742274,1.4251672390168788,1.4159065111253948],[1.1913256824809828,2.5473108433159797,0.8222052324143014,1.4399569969843986,1.421301678040508],[1.1903346413151574,2.4910358894065174,0.8262796050913899,1.4348570771465248,1.4237838651003132],[1.1776845113926502,2.5224104448104003,0.8241405768919912,1.4280997240011761,1.423585563654764],[1.2012358601801953,2.53286856636601,0.8267888528474051,1.4533441789827863,1.4282969324817767],[1.2127006778223997,2.5164342122168697,0.8174687522966163,1.4523242727886974,1.4295277690403578],[1.2059383261212235,2.5507968836685135,0.8151260408848034,1.43460202728693,1.42253935257997],[1.2061327153811299,2.51543817336828,0.817112286303107,1.4073175673958904,1.4078718835902135]],\"y\":[1.0,1.0045470965407992,1.0071508931528592,1.043329125972523,1.0352493388698396,1.0351327526497944,1.0312074881461972,1.0413120551053165,1.0599277662890159,1.056702018717053,1.0451595165690524,1.0511834500129815,1.0575570231943447,1.0500563713813507,1.0419726707113384,1.0633865673783676,1.1036881304607344,1.0727916174058525,1.0118145759137032,1.0600598894102202,1.0318293205720352,1.029886139177361,1.010376640724822,1.0372314215901264,1.0190820552866076,1.0113482314221591,1.018032780083474,0.9996113400142522,1.0054021010180914,1.0472581855093843,1.0463642793178436,1.0302358974488601,1.0483463624267666,1.0353659250898848,1.0335393295266193,1.0315184636261487,1.0099490790248253,1.0079669963045386,1.0230850042960011,1.027049051591146,1.0327620095551238,1.061404484658081,1.0710427067370196,1.0640473011298184,1.0643970597899537,1.065601822538745,1.0541370048965406,1.0653686504872908,1.069138427056594,1.0327620095551238,1.017527533877681,1.0022541564859895,0.9965022971963995,0.9998757044020897,0.9847654648612069,1.001710008954584,0.9949865585790205,1.0116590883680456,1.0310520006005395,1.035676781647135,1.016711312580573,1.0233647874395693,1.006684548661315,1.0068788193871563,0.992887948711403,1.0063736917154285,1.0148848355513722,1.02899223298582,1.0487350224125143,1.0604717952863563,1.0404570506280244,1.058412027671637,1.0392133861649846,1.0082002868900577,1.0116979896936582,1.0242508657191796,1.0450429303490074,1.0445765858574632,1.067583905647668,0.9902840930266288,0.9705802643868977,0.9863977302372803,0.9647118184886261,0.9815009344976964,1.0028758703777627,0.993820697155842,1.001632324448788,1.00532429797823,1.0110761576564564,1.0245618411991313,1.0279818594969354,1.0428276751886303,1.035948855801474,1.0264661208795565,1.0489292931383558,1.0401072923565253,1.0448874428033497,1.0219579260530063,1.0174497308378196,1.0172165583977295,1.038785942999053,1.0319459067920804,1.0369981310046075,1.0462089103062508,1.037192520264514,1.032606640543531,1.0383195985075087,1.0408844937939559,1.0760172464437503,1.0923400175726403,1.0678947625935542,1.055808231059577,1.0718200267085154,1.0648245025672491,1.0806420278789821,1.0950216176131977,1.08103068786473,1.0626870504467334,1.0623760753554181,1.0516885776847096,1.0574327279850708,1.0787377478099203,1.078659944770059,1.0792040923014647,1.096342966582034,1.1026777569718496,1.1038436183950282,1.111033413262136,1.1293381485772476,1.132991339315142,1.136100382132995,1.1645874878357234,1.195250828450515,1.1914422687010278,1.1926081301242064,1.1996813387712693,1.1818817311278855,1.1862345569428432,1.1794334220614833,1.1700283720339983,1.161789301575121,1.1791224465815318,1.2125840919909907,1.1896156735263985,1.175274985506432,1.1706502040712001,1.1875559059116794,1.1822703911136332,1.1697562978796594,1.168823608896571,1.153899990165015,1.1493528932355797,1.1552602408480999,1.1530449852990867,1.1424740738484234,1.132252920669259,1.1133263529283093,1.1069138780326973,1.1098286501247085,1.1157358788145277,1.1059422873353602,1.1259959337079408,1.127084110625323,1.1123158609053596,1.091795870041235,1.0943219821474983,1.1036493476691869,1.0919902593011412,1.1223815261502301,1.1411916262051995,1.1429793200542162,1.1498192381157601,1.1647817585615647,1.1673078706678286,1.1645098029412908,1.1614783264838058,1.157825254279976,1.1505965580872557,1.1821150217134044,1.2126773133979465,1.212778362716832,1.2294119904029723,1.2105631071678191,1.2208231620612322,1.2150713023830058,1.2363297115043772,1.228129543148385,1.2150325192028217,1.2473281846550375,1.2456181757004532,1.2232715896616992,1.2399052173478393,1.20488905091809,1.178461831364146,1.1590300174174033,1.1860169214039122,1.208227470754133,1.2074929660642149,1.1907815349495774,1.2066767443784705,1.2077649212958528,1.2783451978859295,1.2686642782822055,1.2923711150040447,1.2698924062327224,1.291088549215392,1.4122654307622597,1.3919397110126126,1.4095838311103386,1.4032878239007065,1.4147526415429108,1.3952120692880534,1.394193748964537,1.3947845075880567,1.384244669939712,1.335198790581311,1.3614317394094135,1.37724143642058,1.358400381097357,1.3844001574853695,1.4278341281986784,1.434728603021059,1.4231082978331973,1.418289245672124,1.4090785849045455,1.433757012323722,1.4469317207750811,1.4637597377211278,1.482142157930672,1.5028953212348872,1.5297501021001916,1.5246200748478032,1.4949283249303487,1.4999805491428757,1.4942675907902618,1.5038281287520405,1.4958222307332532,1.5070537577899383,1.4853290037883862,1.481675813439128,1.4932960000929247,1.511678538836534,1.5065485115841455,1.538844177036361,1.535851720049917,1.5630951612896056,1.565893347161572,1.5514360729215602,1.5716063051255496,1.5470832471066023,1.5287785114028543,1.5498426497983848,1.5466558039406708,1.5407096735366028,1.5297890038144404,1.5468889763807607,1.5620069843722235,1.5584703802430102,1.5454510411918796,1.5194901661294797,1.544984696311699,1.5384944183762257,1.538222344610523,1.5530293775106703,1.581943925990694,1.572189235837139,1.5540398695336197,1.506354240858304,1.5012242136059155,1.5328980466322932,1.493140631081332,1.5662431058217072,1.3939994782386957,1.3452644558261815,1.3522599799674477,1.346430435783425,1.3780653670955536,1.4032878239007065,1.4024717207490272,1.406047226592489,1.3573122041799748,1.3882088357689217,1.388791766480511,1.3744121767462956,1.3500447248070708,1.3594496563004905,1.3476351989208522,1.3671446973733912,1.3925615430498144,1.3983132841939758,1.3995958503712647,1.4072519897299163,1.3982355996881795,1.414247395337118,1.4471648928265353,1.4463487900634922,1.445960130077744,1.4400139996736763,1.4333683523379739,1.4404415609850365,1.4438226779572285,1.4524891908047652,1.4575415335513573,1.4720375909715528,1.4505072266185433,1.4339512830495633,1.4015001300516898,1.3674167711390939,1.378531711975734,1.3346158598697218,1.315417217974433,1.3147177010427986,1.3072363815528638,1.3329835350322978,1.3289805864115403,1.2965683347392796,1.2552951809595758,1.2349306780297449,1.2711127058826728,1.2895145769493415,1.2324044473894165,1.2114959150736087,1.227740883162637,1.2284014983800227,1.2579378792858846,1.262718148266774,1.285880837068571,1.279857022158707,1.2614355820894851,1.3102871907220446,1.180793554210503,1.1526174239877263,1.1673856737076898,1.181959534167747,1.1965722959534162,1.1970386408335967,1.2049667354238864,1.1557265853396441,1.137577219036125,1.120516147795417,1.1357506234728598,1.1770237776411998,1.1839416168880335,1.1566592743227324,1.147215441115064,1.1569702498026841,1.1532976085963014,1.1705336178511552,1.185379552465551,1.1849908924798032,1.2134778792598304,1.2079593105557591,1.2053942971238831,1.219462911378147,1.2146826423972577,1.2002642694828582,1.1938517945872464,1.1922583718527073,1.257510436119953,1.281217272841792,1.2727838135116443,1.2918658691868878,1.302708854403254,1.2666045110561224,1.268003544530755,1.2732501580031883,1.2654774324244913,1.29952200854554,1.27084063211697,1.2599588637204202,1.2717733211000584,1.2598033761747625,1.2725506410715541,1.2657495061901942,1.2613967989093013,1.262212902060981,1.2917881842924552,1.293575878141472,1.311616367602811,1.2962962609735769,1.2584431254916775,1.2823831342649705,1.2744161379604322,1.3454588450860878,1.3809024546817688,1.3774824363839646,1.3831564930223297,1.3697641494206754,1.3938828924072868,1.398157915182383,1.402355134528982,1.39186202611818,1.3936885031473805,1.2592204454631732,1.2452295157147055,1.2436360925915302,1.2533909012791504,1.2163926513518417,1.1933465487700894,1.2189576651723542,1.213788854739782,1.2198904726895075,1.2104077381562264,1.231199684251989,1.2371458146560568,1.2409933942652216,1.2680424462450037,1.2949749120047407,1.2966072364535286,1.300104939257129,1.3024367806375512,1.3049628927438146,1.2938090505815623,1.2886790229405374,1.298122856148206,1.3284753402057472,1.333721953678181,1.3214410328842972,1.3176324731348101,1.3306129108603282,1.3174769855891524,1.3444872543887507,1.3461583620177222,1.3304574229260342,1.2815281297876784,1.2876685309175877,1.2845205863854863,1.287124501531611,1.2587541005829928,1.2737943059232302,1.2591815437489244,1.2630679065382728,1.287629747737404,1.2611247251435986,1.257743608560043,1.275543098057998,1.2511367444045247,1.2561112841112554,1.2507093012385928,1.2531188271248115,1.2337646980725012,1.2374567901360085,1.25428468854799,1.2521861381417232,1.2318993197176884,1.2541293195363974,1.225642213833669,1.210174565716136,1.1909759242094837,1.198204502256775,1.1891104273206057,1.1770237776411998,1.1800552540986848,1.1900431166923302,1.2254867262880111,1.2163149668460456,1.217131069997725,1.1156192929831188,1.1269286226910293,1.1487699625239902,1.1430570045600126,1.162294547780914,1.187128344600319,1.1881388366232686,1.1768295069153583,1.1523842515476361,1.1528507145732452,1.1653646892731542,1.185768093917234,1.2125840919909907,1.2106409105963165,1.229956138323014,1.274027477974684,1.2554894516854171,1.2627958327725701,1.2690529382679534,1.2845983894253474,1.29272087366418,1.304418863357838,1.3020870219774159,1.2963740640134382,1.3160779517258836,1.2669542693276215,1.2681590324650487,1.2300338228288104,1.231704930457782,1.2149936178772094,1.1917143424667305,1.2144883716714163,1.1886051811148126,1.1945124101932683,1.1943570407930393,1.1894990873063536,1.146710195297907,1.161556129523667,1.157086836022729,1.165520176818812,1.1913256824809828,1.1903346413151574,1.1776845113926502,1.2012358601801953,1.2127006778223997,1.2059383261212235,1.2061327153811299],\"type\":\"scatter\"},{\"line\":{\"color\":\"blue\",\"width\":2},\"mode\":\"lines\",\"name\":\"YHOO\",\"x\":[[1.0,1.0,1.0,1.0,1.0],[1.0045470965407992,0.9850597992432663,0.994499609032607,0.9873700883612928,0.9979144158312933],[1.0071508931528592,0.9890438590200952,0.9879806441218134,0.9598739615535632,1.0027693822568071],[1.043329125972523,0.9661354430921731,0.9836516088603269,0.9542284377627092,0.9996375870133067],[1.0352493388698396,0.9790836617692575,0.9822764915106361,0.9567961500535361,0.9963963840757102],[1.0351327526497944,0.9626494022416311,0.9794754332834217,0.9418420002289579,0.9990426826766592],[1.0312074881461972,0.9457171237877178,0.9823274708826198,0.9535169838910563,1.006632841454575],[1.0413120551053165,0.9606574201619819,0.9903233555336264,0.947671175141924,1.0065849755884082],[1.0599277662890159,0.9676295013650579,0.9810032549828376,0.9138843135370468,1.0056481722077104],[1.056702018717053,0.9721115805661816,0.9803921264049301,0.8850507817539119,1.0067832770339573],[1.0451595165690524,0.9995019805757052,0.980850472711037,0.921789194576898,1.0069815784795066],[1.0511834500129815,1.0024900020019523,0.9862489833658324,0.9155775426651357,1.012663940591622],[1.0575570231943447,0.9970119790717609,0.9904252363555186,0.9106968755912681,1.0161102829556488],[1.0500563713813507,0.9910358415977524,0.9986248826503091,0.9193846088577624,1.0206096743753503],[1.0419726707113384,1.0014940582728848,1.0426279339952615,0.9362053282082744,1.0221482200735765],[1.0633865673783676,1.0179283173025033,1.041100034883065,0.820537068840745,1.0221550580544576],[1.1036881304607344,1.0144422769499692,1.0439011705230603,0.8011944039634017,1.0277211744915962],[1.0727916174058525,1.0114541609022079,1.0436974093885705,0.8193168778158754,1.0258202158066767],[1.0118145759137032,0.9810757389684294,1.0384516810055755,0.8346893010973511,1.0310581091615267],[1.0600598894102202,1.0019920776971796,1.0365164144499612,0.8320666295989902,1.0270373764034955],[1.0318293205720352,0.977589603496373,1.034224603978762,0.8296263445748621,1.0244047537643084],[1.029886139177361,0.9840637603946764,1.044970645916369,0.8262209181304642,1.0347027529711026],[1.010376640724822,0.9631474216659262,1.0378914538775763,0.80563131222903,1.022763638352867],[1.0372314215901264,0.9790836617692575,1.032798507766382,0.8339141335286003,1.0334172125654737],[1.0190820552866076,0.9885458395958002,1.0237840491719752,0.833013970198313,1.033984764978597],[1.0113482314221591,1.0119521798284947,1.0172650842611815,0.852813088046761,1.0321179961980826],[1.018032780083474,1.0209163387287503,1.0271453345271886,0.8651255009041519,1.0379576318704613],[0.9996113400142522,1.040836638608911,1.0194041124605802,0.8741408493700124,1.0373285376294088],[1.0054021010180914,1.0562748587899398,1.0187929059605971,0.8522304234977901,1.038983329002612],[1.0472581855093843,1.0532868378617006,1.0190475685449953,0.850608592597194,1.0395987472819026],[1.0463642793178436,1.0547808961345853,1.016806660032999,0.8498436385996015,1.0403167352744083],[1.0302358974488601,1.0465637188110108,1.0235802875281907,0.8381316912396262,1.0392294963143283],[1.0483463624267666,1.060259014184299,1.0202190021729771,0.837823141636584,1.0468538449966494],[1.0353659250898848,1.0418326774575009,1.0150750771990935,0.8175319203435879,1.0338685193036201],[1.0335393295266193,1.037350597758369,1.0100840114004968,0.8124511628726542,1.0273519235240218],[1.0315184636261487,1.0567728782142345,1.0241405146561897,0.8211018352881628,1.036364382325187],[1.0099490790248253,1.0323704991329503,1.0059077584108107,0.8065123126823871,1.0173889853803968],[1.0079669963045386,1.033864557405835,1.0142092855274936,0.8177512706431951,1.0236047100012309],[1.0230850042960011,1.0537848572859954,1.0304557958452745,0.8097367143260429,1.0366310635795462],[1.027049051591146,1.06100599576098,1.0228163766784828,0.8039623526359528,1.0357352880841344],[1.0327620095551238,1.0926295128192411,1.033409714266365,0.784054921438689,1.0381422573542485],[1.061404484658081,1.1304781300019051,1.0450216247790582,0.7650756193872638,1.0429288439709523],[1.0710427067370196,1.1429283292546948,1.0518461542334527,0.7852826997133473,1.052905458076339],[1.0640473011298184,1.1354581340058092,1.0612681356061338,0.7752983675620199,1.054047400883467],[1.0643970597899537,1.1304781300019051,1.066564765439037,0.7842589026775069,1.0559620355301487],[1.065601822538745,1.1404382326312281,1.0714540278285227,0.7863320310595764,1.0606939182998045],[1.0541370048965406,1.1254980313764862,1.0699261282070314,0.7975339280419013,1.064140260663831],[1.0653686504872908,1.1155378341256488,1.0723198195001227,0.7803396321668152,1.0615828558143352],[1.069138427056594,1.1125498126994018,1.0800101401168227,0.7801943064160708,1.0629778039140603],[1.0327620095551238,1.1170318923985336,1.0990577865838935,0.7877523610580666,1.068933685261416],[1.017527533877681,1.0991035745980222,1.0945759690506065,0.8080792816560554,1.0672036760985215],[1.0022541564859895,1.096115553669783,1.085867074490506,0.8300457852715353,1.0613230125408568],[0.9965022971963995,1.104083673721449,1.0870384301964124,0.8278044235321951,1.0587519317295988],[0.9998757044020897,1.1003485755989983,1.095288978450406,0.8234159571834817,1.0658429179032016],[0.9847654648612069,1.1384462500535708,1.0810287135509287,0.8245990873573658,1.0570150845858235],[1.001710008954584,1.1583665499337312,1.0801120204294203,0.8413191291854049,1.0645984053828585],[0.9949865585790205,1.1643425922882176,1.0732874914843202,0.8443612415079367,1.0610426553247356],[1.0116590883680456,1.17480080896335,1.0815380392290195,0.8399103259825069,1.0693029362289903],[1.0310520006005395,1.17480080896335,1.0740514023340282,0.8234159571834817,1.0686738419879376],[1.035676781647135,1.1717629195090158,1.0863254213059075,0.806257311781839,1.0730091218664952],[1.016711312580573,1.1703187297622262,1.0816399200509115,0.7812142613142113,1.0682088592880294],[1.0233647874395693,1.1842629872879005,1.0917239314514082,0.7828207230265204,1.0737339478398817],[1.006684548661315,1.1643425922882176,1.0830659388505106,0.7868241345041246,1.0624102515009368],[1.0068788193871563,1.1713147686108158,1.076190430533427,0.7790468268431276,1.0667113414750893],[0.992887948711403,1.1603585325113885,1.0665138639891287,0.7708130173794767,1.0621298942848154],[1.0063736917154285,1.1693226909136363,1.0660555171737272,0.7762954145986393,1.0688242775673198],[1.0148848355513722,1.1867529887918447,1.0655461914956366,0.7776978950721305,1.0726125189753968],[1.02899223298582,1.205179325518643,1.0797045755732217,0.7935624219256519,1.0856867384198794],[1.0487350224125143,1.2193725451967035,1.0843900768282178,0.7910851247545897,1.0895433596367663],[1.0604717952863563,1.229581704599927,1.076546973939717,0.7828347789903737,1.086452592278552],[1.0404570506280244,1.1942230894192156,1.0657498752173453,0.7647122565613457,1.061500800043763],[1.058412027671637,1.1847610067121954,1.0797045755732217,0.7763502278215152,1.076687955580476],[1.0392133861649846,1.1802789270130636,1.0678380019668356,0.7336576930280788,1.0612614707129278],[1.0082002868900577,1.1584163233403042,1.0550037558669574,0.7140766122548042,1.0541499705966821],[1.0116979896936582,1.1688246714893413,0.967659761126944,0.7113086637097507,1.0634769765183736],[1.0242508657191796,1.1927291262658533,0.956608077232955,0.7261353374360807,1.0684345126571027],[1.0450429303490074,1.2141433892993763,0.9758594074217347,0.7397227546687147,1.0795667455313793],[1.0445765858574632,1.2325697260261743,0.9763687330998255,0.7385051413886605,1.0795735835122604],[1.067583905647668,1.2549801225298014,0.9877768824780291,0.7438205209393848,1.083929377333461],[0.9902840930266288,1.2290836856736402,0.9896103466431214,0.7598941359448006,1.0819326869162074],[0.9705802643868977,1.2166334864208506,1.014260186977402,0.7834174435393447,1.0897074711779104],[0.9863977302372803,1.2315736871775846,1.0315252712385834,0.806476613504892,1.0924153116067887],[0.9647118184886261,1.210159329522547,1.0167048571331823,0.8001195872658308,1.0822472340367335],[0.9815009344976964,1.2435258670060791,1.0307613603888754,0.8114668585754544,1.0924289875685507],[1.0028758703777627,1.2485059656314978,1.0415583811891718,0.8195909927618042,1.103937309391283],[0.993820697155842,1.2534860647549246,1.0327476063164736,0.8391337966127681,1.1060434075026326],[1.001632324448788,1.2983067626426565,1.0370766415779602,0.8353968641272523,1.111828339327963],[1.00532429797823,1.3152390415945778,1.0431372596733521,0.8448355441315377,1.11643030046088],[1.0110761576564564,1.3067729021186172,1.035090395650362,0.8319582675461229,1.1123138359705147],[1.0245618411991313,1.3361553798253203,1.041354697467463,0.8250364261555921,1.1171209365298613],[1.0279818594969354,1.3142430027459882,1.031168805245074,0.8282608277992478,1.1171688023960284],[1.0428276751886303,1.3266932019987778,1.0349376133785615,0.8084439090023553,1.1284993367158545],[1.035948855801474,1.3615537977551946,1.0354978405065605,0.7811046347409621,1.134270592579423],[1.0264661208795565,1.3237051805725306,1.042475151723461,0.791537735460497,1.1285882304673076],[1.0489292931383558,1.3207171596442915,1.0615736996404401,0.7891369433025072,1.140212797965017],[1.0401072923565253,1.3237051805725306,1.0572956437509375,0.8067494640579363,1.1394059162210581],[1.0448874428033497,1.344621519301281,1.062643175033749,0.8007940774396065,1.1413684167339069],[1.0219579260530063,1.3217131984928814,1.0541889435673413,0.8038794760619246,1.1319251651372382],[1.0174497308378196,1.2958167611387121,1.0499617891277468,0.8053112844069499,1.1286155823908315],[1.0172165583977295,1.311254981319741,1.0477208801064561,0.8107936814986149,1.12799332613066],[1.038785942999053,1.2983067626426565,1.0582123368724459,0.8040337508634456,1.1351458541321917],[1.0319459067920804,1.28535854446358,1.0589253462722454,0.8104290541523149,1.1271454165014154],[1.0369981310046075,1.311254981319741,1.0662592008954361,0.8225043157616541,1.1312823949344237],[1.0462089103062508,1.3097609235448642,1.0594346719503362,0.8191448020659098,1.1150968941890838],[1.037192520264514,1.3142430027459882,1.0641710741459458,0.8209387085889738,1.1217160596818971],[1.032606640543531,1.307768940967207,1.0501145708902526,0.8183696343696613,1.1155345249654682],[1.0383195985075087,1.2823705230373328,1.0325439225947648,0.8107197541028608,1.100162743944968],[1.0408844937939559,1.3052788438457326,1.0379424332495601,0.7986074802190903,1.1095034258284213],[1.0760172464437503,1.3466135969984607,1.0509294611119444,0.8047120347258645,1.1237401020226747],[1.0923400175726403,1.3316733006241965,1.044155833616753,0.7993915969661153,1.1233503371124574],[1.0678947625935542,1.314741022170283,1.0388591258617739,0.7970418244698557,1.1119445850029404],[1.055808231059577,1.2893426042404088,1.024700741784189,0.7871875460340944,1.102638093023892],[1.0718200267085154,1.3132470590169205,1.0377896509777598,0.794063474548474,1.1189398394442087],[1.0648245025672491,1.308764979815797,1.0297936878953833,0.7832899187370448,1.1123548638558005],[1.0806420278789821,1.3217131984928814,1.0340717442941805,0.7868419841566209,1.1207724183203183],[1.0950216176131977,1.3276892408473675,1.0433918448449695,0.7864225434599476,1.1295045199053622],[1.08103068786473,1.3067729021186172,1.0284695499176764,0.7704496545535587,1.1138592196496218],[1.0626870504467334,1.2624502231571724,1.0050929461111944,0.7592260657810378,1.0860012855404055],[1.0623760753554181,1.2544821031055065,0.9954672810168046,0.7531456835286692,1.0889005894339518],[1.0516885776847096,1.1984562064679531,0.9856887562378334,0.7331833904044777,1.0756759344100872],[1.0574327279850708,1.242778885429398,0.993022610861024,0.7333478787771572,1.0858918778463094],[1.0787377478099203,1.2592131449570245,0.9924114822831167,0.7250414065656317,1.0963061227280808],[1.078659944770059,1.2684262655116585,0.9964348755882213,0.7172283510230878,1.1031030757238003],[1.0792040923014647,1.251493987057745,0.9733129343661375,0.7222364456186492,1.0983711929541444],[1.096342966582034,1.2569721051074587,0.9741787260377375,0.7453504775111242,1.104306560358857],[1.1026777569718496,1.244521905854669,0.9752991802937356,0.7622350079668379,1.1037048180413287],[1.1038436183950282,1.274402402985667,0.984211835988326,0.7664424006832599,1.1046142694985024],[1.111033413262136,1.278884482684799,0.9927679482766261,0.7602855619943735,1.1158832619903996],[1.1293381485772476,1.2711653247855192,0.993022610861024,0.7559697586485298,1.121743411605421],[1.132991339315142,1.3284362224240487,0.9742806068596297,0.7692652112827386,1.1298532569302935],[1.136100382132995,1.3227091422219488,0.9791188898771315,0.7663149245850116,1.1300583963567237],[1.1645874878357234,1.3466135969984607,0.9819200260264214,0.7782588678309053,1.145375473530176],[1.195250828450515,1.356075679705481,0.978202196755623,0.7768423800976125,1.148910709645656],[1.1914422687010278,1.3615537977551946,0.9880315455717218,0.7785368250420315,1.1504902832291681],[1.1926081301242064,1.3386453818272726,0.9872676347220138,0.7835538686883694,1.1462233831594206],[1.1996813387712693,1.4770916318808431,0.9908326817210117,0.7837642213606457,1.1494030442690881],[1.1818817311278855,1.4770916318808431,1.0083524285665912,0.7864008515422538,1.1551879760944188],[1.1862345569428432,1.4497012313733117,0.9856887562378334,0.7740004553252555,1.1570479068940522],[1.1794334220614833,1.3874502351093636,0.9884898918778287,0.7764777526238151,1.1594001723171181],[1.1700283720339983,1.3625498366037843,0.993022610861024,0.7631453362917292,1.1572530463204824],[1.161789301575121,1.386454196260774,1.001324137977707,0.8023418836638423,1.152842548652234],[1.1791224465815318,1.407868554413819,1.0044308381613032,0.7986814076148444,1.1557897184119472],[1.2125840919909907,1.3999004343621533,1.0050929461111944,0.8032165128112384,1.156747035735288],[1.1896156735263985,1.390886502055325,0.9992869906002004,0.8156016371205559,1.1524254318184926],[1.175274985506432,1.3969123183143917,0.998268339244019,0.8256739527589882,1.152856224613996],[1.1706502040712001,1.3989043955135636,0.993328175404625,0.82423450858762,1.1526989510537329],[1.1875559059116794,1.39243023861526,0.9972497658099131,0.8317861917961572,1.1671544426361782],[1.1822703911136332,1.3769920184342312,0.993939381904608,0.8424666574623998,1.1690690772828598],[1.1697562978796594,1.3779880572828211,0.9956709647385135,0.8550531853932171,1.1673390681199656],[1.168823608896571,1.3605577589066047,0.9727018057882301,0.8474033537029707,1.1606583607992231],[1.153899990165015,1.3640437997571466,0.9603259065037534,0.8469111529778167,1.1562410251500936],[1.1493528932355797,1.3685258789582706,0.957117325498265,0.8396807619842438,1.1607335785889141],[1.1552602408480999,1.3784860767071159,0.9565571757830467,0.8277317606568227,1.156589762175025],[1.1530449852990867,1.411852614190648,0.9630251613218564,0.8512461190730928,1.155256355903229],[1.1424740738484234,1.411354594766353,0.9596128971039538,0.8916997725913982,1.1584633689364205],[1.132252920669259,1.3969123183143917,0.9550801781207583,0.9079646746727664,1.1524664597037786],[1.1133263529283093,1.351693242437025,0.9462184238760765,0.9068898092711438,1.1360074397231985],[1.1069138780326973,1.3605577589066047,0.9439266134048773,0.9149400161892369,1.1322533882195265],[1.1098286501247085,1.3401394401001572,0.9382734401656837,0.9247943432015526,1.125572680898784],[1.1157358788145277,1.3505976567752895,0.9399541220589755,0.9126450569158533,1.1298737708729365],[1.1059422873353602,1.3476095407275281,0.9414820211711723,0.9149948779886671,1.1233434991315763],[1.1259959337079408,1.389442217687021,0.9431627025551694,0.9160875443387344,1.1330260800590801],[1.127084110625323,1.3939242968881447,0.9443340587703705,0.9125545930920363,1.1374981195552576],[1.1123158609053596,1.379731077210084,0.9408708925932648,0.9161066098075608,1.132902996403222],[1.091795870041235,1.3446712927078537,0.930685000370876,0.8899148151191107,1.1149191066861777],[1.0943219821474983,1.3500996373509946,0.9277310824590802,0.8941145720091896,1.1179825221208681],[1.1036493476691869,1.3595617205560229,0.9301756746927852,0.8955795016593971,1.120177513983671],[1.0919902593011412,1.3505976567752895,0.9282913095870793,0.8874120810457637,1.116621763925548],[1.1223815261502301,1.3834661753325348,0.9368984007380685,0.8898956523696782,1.1212715909246318],[1.1411916262051995,1.3979083566649735,0.9326712462984741,0.9083127171419468,1.13037294347725],[1.1429793200542162,1.4058764767166394,0.9378659953094852,0.9020819023532547,1.131740539653451],[1.1498192381157601,1.4028884557884003,0.9321619206203834,0.9074546729991678,1.13180208148138],[1.1647817585615647,1.4561752931520928,0.9420931497490795,0.9219345203276424,1.1431121018585633],[1.1673078706678286,1.4681274729805878,0.9503437754158542,0.9009344713568658,1.1515091423804378],[1.1645098029412908,1.4536852911501406,0.9712248076166472,0.851883548395883,1.1550238645532747],[1.1614783264838058,1.4765936124565484,0.9713775898884476,0.8609537586611734,1.1511193774702206],[1.157825254279976,1.4571713320006827,0.978711445020933,0.846765827227072,1.15424433473284],[1.1505965580872557,1.4750996493031858,0.9837025103102353,0.8198460422389067,1.1608156343594862],[1.1821150217134044,1.4940239103347568,0.9786605435710246,0.8293165304514379,1.1657116286702862],[1.2126773133979465,1.5156872306401883,0.9901705737711205,0.8463654519992252,1.1799072769792536],[1.212778362716832,1.5453187656188,0.9849248453881254,0.8602435693099025,1.1777327990590938],[1.2294119904029723,1.5400896097214725,0.9677616419488362,0.8513379446978975,1.169233188824004],[1.2105631071678191,1.5069721290118412,0.9727018057882301,0.8936479540434809,1.1637149382530325],[1.2208231620612322,1.5572709454472946,0.9675069788551436,0.8908429930964984,1.1606925507036283],[1.2150713023830058,1.560756985799829,0.9649605057995464,0.877055436890244,1.1575128895939606],[1.2363297115043772,1.6309761021154427,0.9687802153829422,0.8855977471253877,1.1615472983137538],[1.228129543148385,1.6708167018757638,0.9519734779371621,0.879277733160758,1.1568154155440982],[1.2150325192028217,1.6518923457246708,0.9431117236924803,0.8683486380274258,1.1498406750454724],[1.2473281846550375,1.7086654136799422,0.949223321159856,0.8887673842502194,1.1590377593304249],[1.2456181757004532,1.700199179582467,0.941991346849263,0.8916807071225717,1.1582650674908712],[1.2232715896616992,1.687001998752996,0.9363890750599778,0.8804800260840745,1.147864498570862],[1.2399052173478393,1.737549777340836,0.9376114101378681,0.8797877349618544,1.1559606679339725],[1.20488905091809,1.700199179582467,0.9269670936872968,0.888384809970817,1.1461276514270864],[1.178461831364146,1.6399402610156981,0.910211335104206,0.8759806687692275,1.1319935449460483],[1.1590300174174033,1.6439242256730051,0.9234530260602828,0.886268443738018,1.1326431531297438],[1.1860169214039122,1.6867529414810876,0.9410236748650654,0.8918235037050551,1.1573692919954595],[1.208227470754133,1.700697294126284,0.948102866903858,0.8976042368286038,1.1646449036528495],[1.2074929660642149,1.693227098379391,0.9522281405215602,0.9034843828267459,1.1693904623842672],[1.1907815349495774,1.6623506575193254,0.9404634477370664,0.908292289744635,1.1611301814800126],[1.2066767443784705,1.6478586071627834,0.9510058054436699,0.9127254043216202,1.1771857605886134],[1.2077649212958528,1.6307270448435343,0.8903997777874273,0.9188925052857169,1.1851246563914608],[1.2783451978859295,1.6648904329278504,0.8850521690918347,0.9268891147972641,1.192885764691402],[1.2686642782822055,1.6962152144271525,0.8803666678368389,0.9496053492067077,1.192995172385498],[1.2923711150040447,1.6902389823316295,0.891112787187227,0.9468832648337534,1.1998399912473845],[1.2698924062327224,1.6484063048741289,0.8951871598643154,0.9561587208582435,1.194171305097031],[1.291088549215392,1.6474104562645837,0.9055258343585048,0.9688166470165537,1.198062116218323],[1.4122654307622597,1.6060757036098634,0.9006875508317084,0.9579768484672625,1.2033273614966973],[1.3919397110126126,1.61105570711576,0.9032340238873056,0.9651128846677695,1.2049274490228523],[1.4095838311103386,1.6518425723180978,0.9275273208152959,0.9410731552621162,1.2116560222097619],[1.4032878239007065,1.6220119432151874,0.9174942108647075,0.9560414097545996,1.205748006728573],[1.4147526415429108,1.6404381853204708,0.912706906709895,0.9520456341033384,1.2011186936721323],[1.3952120692880534,1.6524402336750608,0.9128087096097115,0.9471790716973759,1.2046060639214453],[1.394193748964537,1.6528883845732605,0.9181054173646904,0.9594188216793945,1.2089071538955978],[1.3947845075880567,1.64193233821487,0.9057804969429029,0.9570486704898749,1.205515515378619],[1.384244669939712,1.637450259013746,0.9126050258880027,0.9487995406694862,1.210657677001135],[1.335198790581311,1.5991036224067874,0.9167303000149996,0.9334488091782068,1.1946978296248685],[1.3614317394094135,1.6494023437227188,0.9166793985650912,0.9481442132451432,1.210739732771707],[1.37724143642058,1.6840138827052347,0.9313980097706754,0.9453902232558392,1.2116149943244758],[1.358400381097357,1.6967131387319252,0.9323656817548731,0.9471421079994989,1.2087430423544536],[1.3844001574853695,1.7482569561683545,0.9348102744978728,0.9482793252972317,1.2185281929951723],[1.4278341281986784,1.777390377101157,0.9279857450434783,0.9619866313783252,1.224422532514599],[1.434728603021059,1.7664343307427663,0.9329768103327805,0.9562148473055532,1.229592046060639],[1.4231082978331973,1.7417827992700512,0.9394957752435742,0.944627798426508,1.2250447887747704],[1.418289245672124,1.7246016537832736,0.9434682670987704,0.9463043938459279,1.2225420877723225],[1.4090785849045455,1.773904336250615,0.9431627025551694,0.9380171329603891,1.218097400199669],[1.433757012323722,1.8077688936564498,0.9377641924096686,0.9491934958873204,1.227998796515365],[1.4469317207750811,1.8172311666025147,0.9233511457476853,0.9467596310007026,1.2340914374803407],[1.4637597377211278,1.807270969351677,0.9113317893602041,0.9539364244602321,1.2325323778394714],[1.482142157930672,1.8247011721103634,0.9030302627528158,0.9715310469866107,1.2327170033232586],[1.5028953212348872,1.8406374117156872,0.9114845716320047,0.9944079762075881,1.235780418757949],[1.5297501021001916,1.8416334505642769,0.9151005200809108,1.0128224145309896,1.2348094254728463],[1.5246200748478032,1.8431274137176392,0.9038960539151213,1.0040059892224196,1.2314519768602727],[1.4949283249303487,1.8207172069550488,0.8967659604264203,1.0314944314997545,1.2275201378536946],[1.4999805491428757,1.8989044433223286,0.8950343775925148,1.0290873166123577,1.2259200503275391],[1.4942675907902618,1.9357569265368804,0.8967659604264203,1.0343707908017274,1.220600101202117],[1.5038281287520405,1.9352590022321077,0.9048637264086136,1.0200171063470673,1.2343170908494139],[1.4958222307332532,1.9357569265368804,0.9037942510153046,1.0316920900091655,1.2365599485783836],[1.5070537577899383,2.0029881165457697,0.9020625902593237,1.0300894219854997,1.2326281095718055],[1.4853290037883862,1.949950146214941,0.8922841428931333,1.0224573912436978,1.2186786285745546],[1.481675813439128,1.9596612861938698,0.8829640423423445,1.0209631824260081,1.2140835054225187],[1.4932960000929247,1.9785856423449628,0.8800611038025326,1.0098351642628831,1.2139604217666606],[1.511678538836534,1.9785856423449628,0.9057804969429029,1.0154271879277974,1.2216326363151488],[1.5065485115841455,1.9676294062455357,0.8951361804923316,1.010855167737578,1.2178443949070719],[1.538844177036361,1.9940239581435217,0.9101094542823138,1.0031682750688486,1.238119008219253],[1.535851720049917,2.00199207769718,0.9178507542709977,0.991675678135978,1.2374010202267474],[1.5630951612896056,1.9980079228008285,0.9168321808368918,0.99998083712307,1.2433637395549841],[1.565893347161572,2.030378517053301,0.9280875479432948,1.0383576172747147,1.2499760670669164],[1.5514360729215602,2.0343624817106076,0.9331295926045811,1.0339500855846724,1.2536207108764923],[1.5716063051255496,2.0244024746988147,0.9439775927768611,1.027083008840463,1.2595697542429671],[1.5470832471066023,2.016434354647149,0.9426024754271703,1.0201446311493674,1.2591457994283448],[1.5287785114028543,2.00199207769718,0.9493761034316566,1.0099983881151806,1.2589201460592716],[1.5498426497983848,2.01394416290416,0.955283939255248,1.02183776299685,1.2639050341215246],[1.5466558039406708,1.9716135611418868,0.9448942858983694,1.007467542114127,1.2527044214384375],[1.5407096735366028,1.9980079228008285,0.950547459137563,0.9853377659422977,1.2522873046046963],[1.5297890038144404,1.988545840093808,0.9472879766821662,0.9907105365882108,1.2491418333994337],[1.5468889763807607,2.03784852256115,0.9661828408774366,0.9836204131363575,1.256738830158231],[1.5620069843722235,2.0428287163060905,0.9573210866327547,0.9898537569658133,1.2564721489038717],[1.5584703802430102,2.03784852256115,0.9543162672710505,0.977212367235566,1.256909779680256],[1.5454510411918796,2.053286837861701,0.9537050607710676,0.9706934301136458,1.2598090835738023],[1.5194901661294797,1.9915339561415697,0.9379169746814691,0.9757754521049615,1.2439654818725125],[1.544984696311699,2.0488047586605767,0.9468805318259678,0.9951908284342315,1.2574226282463314],[1.5384944183762257,2.045318717810035,0.9561497309268482,1.015172235731301,1.2639187100832867],[1.538222344610523,2.008964158900256,0.9613444799378593,1.0095074519104084,1.2622160528439164],[1.5530293775106703,1.9925298047511149,0.9681181074330508,0.9847729994948798,1.2572995445904733],[1.581943925990694,1.9681275207893527,0.9596637985538622,1.0000726627478747,1.260786914839786],[1.572189235837139,2.0009960393465978,0.9281894287651871,1.004515991023516,1.2615117408131726],[1.5540398695336197,1.9616533638910494,0.930634020998892,1.013022602208662,1.2502974521683237],[1.506354240858304,1.8879482072229012,0.9148968363592019,0.9946081638852604,1.2241968791455258],[1.5012242136059155,1.8251992866541804,0.90603508211452,1.0026774361446824,1.2182273218364081],[1.5328980466322932,1.9033865225234523,0.9006875508317084,0.922535083105664,1.225708072920228],[1.493140631081332,1.737549777340836,0.8983956629477283,0.9120623923668824,1.213194567907988],[1.5662431058217072,1.7584662106911007,0.9032849253372139,0.910299126684791,1.226863691689118],[1.3939994782386957,1.793227069893335,0.8998216817473275,0.9117895419413353,1.2189316338671516],[1.3452644558261815,1.738047891884653,0.8805703515585478,0.9134827710694242,1.1911010516814595],[1.3522599799674477,1.7758964139477944,0.8802647870149467,0.9267068253486425,1.2002024042340778],[1.346430435783425,1.767430369591356,0.8873949584257231,0.9336273049381854,1.1977680830404398],[1.3780653670955536,1.804780967349725,0.8895848880750302,0.9334819791874407,1.2126680433801507],[1.4032878239007065,1.8540836498170665,0.9027246982092149,0.9465415450939797,1.2287988402784424],[1.4024717207490272,1.8804780114760082,0.9021644710812158,0.9634987382975683,1.230727150886886],[1.406047226592489,1.9173306849296043,0.9152024003935083,0.976193628281253,1.244341570820968],[1.3573122041799748,1.8979084044737389,0.9179526350928898,0.9761209654058807,1.2440065097577986],[1.3882088357689217,1.9183267237781942,0.9261013020156967,0.9916209134896563,1.2512342555490215],[1.388791766480511,1.903884446828225,0.9355232833883778,0.9908201630339625,1.2572516787243062],[1.3744121767462956,1.9076195449506754,0.9329768103327805,0.9944627408539098,1.2587081686519603],[1.3500447248070708,1.882968203218997,0.9317544752548903,0.9787614378526861,1.2504957536138728],[1.3594496563004905,1.881972164868415,0.9384262224374843,0.967433329292495,1.2580380465256218],[1.3476351989208522,1.8570717663628358,0.9309395855424931,0.9566865236077844,1.2556242392746269],[1.3671446973733912,1.8635457330220946,0.9343009483104875,0.9608761640798136,1.263392185555449],[1.3925615430498144,1.855577612970429,0.9331804940544893,0.9508765113167533,1.2616895283160787],[1.3983132841939758,1.8735059302729322,0.9374076490033784,0.9422971399756289,1.2617168802396028],[1.3995958503712647,1.915836721776242,0.9435701479206626,0.9610941525784328,1.2679599567839608],[1.4072519897299163,1.9257967292860427,0.9430608222425719,0.9584893793091226,1.2714883549185596],[1.3982355996881795,1.904880485676815,0.9384262224374843,0.9612586410786098,1.2621066451498202],[1.414247395337118,1.9736056388390664,0.9495288851941625,0.9675965532722901,1.2813760752724934],[1.4471648928265353,1.967131481940763,0.9530939321931602,0.969636462941074,1.2813076954636833],[1.4463487900634922,1.9750996019924287,0.9556404052487574,0.9667040744723977,1.2835095253073672],[1.445960130077744,1.9272859429373945,0.9558440889704664,0.9661392108718712,1.2842001613763487],[1.4400139996736763,1.8949202884259773,0.9492742226097644,0.9670138887233192,1.2836052570397014],[1.4333683523379739,1.8705180039662075,0.9511585877154705,0.9764307795293046,1.277081823279222],[1.4404415609850365,1.8675298879184459,0.9484084309381644,0.9773781201286275,1.2774715881894394],[1.4438226779572285,1.8540836498170665,0.9365927587816866,0.9665216878706674,1.2625237619835614],[1.4524891908047652,1.8725098914243425,0.9279857450434783,0.9556666174136955,1.2589611739445576],[1.4575415335513573,1.9477092014848973,0.9463203046979687,0.9594009234503439,1.2710644001039373],[1.4720375909715528,1.9646414799388108,0.9514132508091631,0.9678884691666634,1.2802409704462465],[1.4505072266185433,1.922808802979318,0.9407181103214644,0.9676335169701673,1.2723909683948522],[1.4339512830495633,1.8809761260198252,0.9569645432264644,0.9629709356755249,1.2800768589051024],[1.4015001300516898,1.8894421703762636,0.9507002414093636,0.9705659054388436,1.2763228074014303],[1.3674167711390939,1.8266932498075428,0.9587471054323538,0.9820764006007647,1.2701139207614776],[1.378531711975734,1.789342652049174,0.993328175404625,0.9926408196837452,1.2757073891221398],[1.3346158598697218,1.7654382918941767,0.9810032549828376,0.9831511687217813,1.2667769860915468],[1.315417217974433,1.7724103730972527,0.9667939694553439,0.9789259263528631,1.264370016821433],[1.3147177010427986,1.7878486888958114,0.9699515710888486,0.9778332600027958,1.2702370044173354],[1.3072363815528638,1.7878486888958114,0.9803412249550217,0.9776140069837949,1.2803025122741756],[1.3329835350322978,1.8172311666025147,0.990578018627319,0.9865579569671673,1.2893149710753409],[1.3289805864115403,1.8247011721103634,0.9857397356098172,0.988196324295826,1.292993804789322],[1.2965683347392796,1.780876417453691,0.9813597983891277,0.9813484103010494,1.2915373148616676],[1.2552951809595758,1.7061752219369533,0.9766742976434265,0.9686534231642561,1.2753449761354465],[1.2349306780297449,1.6469123417207665,0.9906798994492112,0.953444321015684,1.2616348244690307],[1.2711127058826728,1.6847610540229525,0.9844155197100347,0.9533894590887563,1.2663667072386866],[1.2895145769493415,1.736553738492246,1.0014769202495073,0.965921222373252,1.2801931045800796],[1.2324044473894165,1.663346696367915,0.9965876578600219,0.9534633864845105,1.2534565993353481],[1.2114959150736087,1.6368725448680181,0.9940921636671138,0.9464141176997833,1.2415653505832798],[1.227740883162637,1.665587640599951,1.007231974310593,0.950184220194533,1.2517676180577397],[1.2284014983800227,1.7036852199350012,1.0034122647271972,0.9434089690751286,1.2602262004075435],[1.2579378792858846,1.8102588951603942,1.0002545851716171,0.9453214513497162,1.273444017450527],[1.262718148266774,1.811753048552801,0.9677106625768523,0.9561217571603665,1.2751808645943026],[1.285880837068571,1.8127490874013907,0.9792207706990237,0.9674690284699902,1.2799948031345305],[1.279857022158707,1.799800773604784,0.9786095641990408,0.9684329054973756,1.2852326964893805],[1.2614355820894851,1.7649401778483673,0.9764705359996421,0.9557762438594473,1.2823880964428824],[1.3102871907220446,1.7549801703385666,0.9687802153829422,1.0341323749057962,1.2845899262865659],[1.180793554210503,1.7171314580363806,0.965775396021238,1.041727441949721,1.2741893573665568],[1.1526174239877263,1.6927291740746182,0.9836516088603269,1.082071468894777,1.2783126598378032],[1.1673856737076898,1.7843626480452697,0.9936847188109154,1.0788661327199476,1.2843984628218978],[1.181959534167747,1.790338690399756,1.0006111285779073,1.0747862159742765,1.288241408077023],[1.1965722959534162,1.81822701521206,0.985637854787925,1.07731706197533,1.2880567825932359],[1.1970386408335967,1.8361553325145632,0.9749936157501347,1.0793212725941164,1.2863199354494605],[1.2049667354238864,1.8381474102117428,0.9740768452158454,1.0945840693023428,1.2887269047195744],[1.1557265853396441,1.8172311666025147,0.9678125433987445,1.082654133443748,1.277143365107151],[1.137577219036125,1.6967131387319252,0.9640947146372408,1.0788661327199476,1.2843164070513258],[1.120516147795417,1.6892429434830396,0.9621084687096427,1.070961251552599,1.2825522079840266],[1.1357506234728598,1.681274823431374,0.9680672059831426,1.0665027487773808,1.284501032535113],[1.1770237776411998,1.7156374948830182,0.9807486698112202,1.0797765096213934,1.2969256437959],[1.1839416168880335,1.7131474933790736,0.9788133253335305,1.0814709059892578,1.2974726822663802],[1.1566592743227324,1.7016931427358293,0.9611407962161506,1.08167109366693,1.2913732033205234],[1.147215441115064,1.6832669011285535,0.9496307660160547,1.0724721913595638,1.2792836531229057],[1.1569702498026841,1.6638446206726878,0.9526864873369617,1.088300921754984,1.2840770777204906],[1.1532976085963014,1.6877489803296772,0.9523809227933607,1.1011960965694494,1.2890140999165765],[1.1705336178511552,1.6867529414810876,0.9416348034429727,1.1014140850680685,1.2806375733373447],[1.185379552465551,1.7111554156818942,0.9492742226097644,1.1043286725883006,1.2910313042764732],[1.1849908924798032,1.7280876941358077,0.9456581967480775,1.1060779308830928,1.2940810437494017],[1.2134778792598304,1.7440239342391393,0.9469824121385653,1.1185727304697113,1.29957878037773],[1.2079593105557591,1.7490039377450357,0.9410745763149736,1.1395180146666688,1.3073604026203143],[1.2053942971238831,1.7320716592911223,0.9324165832047814,1.1365677280964395,1.30590391269266],[1.219462911378147,1.738047891884653,0.9358797493818871,1.1572771255657268,1.3129128430956907],[1.2146826423972577,1.7255976926318632,0.938935548115575,1.1529421594704508,1.3153334883275665],[1.2002642694828582,1.736553738492246,0.9457091756107666,1.1450182128342756,1.3162908056509073],[1.1938517945872464,1.7255976926318632,0.9389864495654834,1.1612104520402717,1.315791633046594],[1.1922583718527073,1.72958165728917,0.939699458965283,1.174470205624483,1.31828065808728],[1.257510436119953,1.740039779342788,0.947186095860274,1.1790791895125792,1.3268828380355848],[1.281217272841792,1.7888445375053568,0.9491723417878722,1.175836889639873,1.3330233448667277],[1.2727838135116443,1.7948207700988874,0.9484084309381644,1.194651703191121,1.3342746953679516],[1.2918658691868878,1.8082670077022591,0.9385790047092848,1.2016641055585773,1.3339464722856633],[1.302708854403254,1.8242032478055907,0.9281894287651871,1.196691710140511,1.3292282654777696],[1.2666045110561224,1.8316732533134394,0.9229437003821922,1.1766746037934437,1.3198055278237442],[1.268003544530755,1.8396413733651051,0.9297682298365867,1.1637973272080289,1.3239425062567525],[1.2732501580031883,1.7335658121855213,0.9286987544432778,1.1755270755164489,1.3250502591594753],[1.2654774324244913,1.714641456532436,0.9282403302150954,1.1739971675212637,1.3279290491103786],[1.29952200854554,1.740039779342788,0.9350649370822709,1.1752721233199523,1.3381791824510059],[1.27084063211697,1.7270916557852256,0.9310924452270745,1.1711922065742812,1.339888677671257],[1.2599588637204202,1.695717100381343,0.9246243822754839,1.1590799812670651,1.342206753189918],[1.2717733211000584,1.6752987810768876,0.927629201637188,1.1580599777923701,1.342028965687012],[1.2598033761747625,1.6671813408055036,0.9212121175482866,1.1510475754249139,1.333392595834302],[1.2725506410715541,1.655876500621022,0.920397227326595,1.1520675788996089,1.3399228675756623],[1.2657495061901942,1.6762948199254775,0.9186146651207057,1.1589524565922626,1.33834329399215],[1.2613967989093013,1.7056772976321806,0.9254392719878811,1.1727222118500724,1.340900698841646],[1.262212902060981,1.749502052288853,0.9231983634758849,1.1848344371572885,1.3404015262373326],[1.2917881842924552,1.7604580981492357,0.9490705388880556,1.1923567439177374,1.3493524432105686],[1.293575878141472,1.7868526500472217,0.9594601148321532,1.1918468395247448,1.3502413807250992],[1.311616367602811,1.799800773604784,0.9601731242319528,1.1988591446115948,1.3576400760383474],[1.2962962609735769,1.7689243327447184,0.9576775526262639,1.2235682087013926,1.3523132889320442],[1.2584431254916775,1.7196214600383326,0.9535013770493589,1.2156888130128833,1.3427811435839225],[1.2823831342649705,1.7355576996436564,0.9596128971039538,1.2161988148139795,1.3490173821473994],[1.2744161379604322,1.7395418550380153,0.9559459692830639,1.2116727073724138,1.34344442772938],[1.3454588450860878,1.7644422535435946,0.9574738689045551,1.214031380342896,1.3454206042039905],[1.3809024546817688,1.7778884911469663,0.9669467517271445,1.229713520594687,1.3519371999835887],[1.3774824363839646,1.7734064119458424,0.959969440510244,1.2153063360140872,1.3493250912870447],[1.3831564930223297,1.6827689768237808,0.9796791170051306,1.208421458448931,1.3549937774373981],[1.3697641494206754,1.6538844229238425,0.9803412249550217,1.1868730823056908,1.3389587122714404],[1.3938828924072868,1.6598606555173732,0.9803921264049301,1.203959064831961,1.3527030538422613],[1.398157915182383,1.6573704637743845,0.9719887963884306,1.1976989708757864,1.34956442061788],[1.402355134528982,1.6733067033797082,0.9884898918778287,1.2076565044513383,1.3563340216900752],[1.39186202611818,1.7285856184405803,0.9861471804660157,1.2391484069103293,1.3587136390366652],[1.3936885031473805,1.8012947367581464,0.9943468267608064,1.2371083999609394,1.3593769231821227],[1.2592204454631732,1.7988047347561944,0.9900686929492283,1.2452809760642038,1.3527851096128334],[1.2452295157147055,1.7878486888958114,0.9970969835381125,1.2624803787248693,1.3531748745230507],[1.2436360925915302,1.7768924527963843,0.9909345620336092,1.2543205453610242,1.3470480436536698],[1.2533909012791504,1.8227090944131839,0.9880315455717218,1.2513881570198455,1.347130099424242],[1.2163926513518417,1.78336660919668,0.9761649719653358,1.2188762509586621,1.3201884547530804],[1.1933465487700894,1.773904336250615,0.9633307258654574,1.2256336038490159,1.3164138893067654],[1.2189576651723542,1.8194721113325583,0.9658262974711463,1.2187487262838597,1.325877654846077],[1.213788854739782,1.7778884911469663,0.9528902484714514,1.2127564246717046,1.3130359267515488],[1.2198904726895075,1.782370570846098,0.9471351944103658,1.210716417594817,1.3130564406941918],[1.2104077381562264,1.7758964139477944,0.9386299840812686,1.2045965913078596,1.3057603150941588],[1.231199684251989,1.788346613200584,0.9504965576876546,1.2079114566478346,1.320817548994133],[1.2371458146560568,1.782370570846098,0.9547746135771574,1.2238486463767284,1.3244621928037088],[1.2409933942652216,1.7689243327447184,0.9541125056272661,1.223593694180232,1.32229455286443],[1.2680424462450037,1.8022907756067361,0.9572192058108625,1.239785836105622,1.3311634140670943],[1.2949749120047407,1.8107570097042114,0.9568627403266476,1.2431007988537006,1.336948345892425],[1.2966072364535286,1.816235127753925,0.9543162672710505,1.2492207225487617,1.3368662901218527],[1.300104939257129,1.8615538455639595,0.9644002786715473,1.2642654334777628,1.3482720422313699],[1.3024367806375512,1.8839642420675868,0.9680163045332342,1.2817325314568366,1.3550142913800411],[1.3049628927438146,1.8675298879184459,0.9681690868050348,1.2822425330029377,1.358371739992615],[1.2938090505815623,1.874501969121522,0.9739240629440449,1.2823700572952477,1.362378796788884],[1.2886790229405374,1.892928210728798,0.9697478878764344,1.2918048468402739,1.359664118379125],[1.298122856148206,1.877988009474056,0.9735675974598302,1.2946098075322612,1.3661738761778421],[1.3284753402057472,1.881972164868415,0.9828876980106189,1.2863097063717017,1.3676098521628532],[1.333721953678181,1.9013944453242806,0.9791188898771315,1.3021321151851926,1.3676782319716632],[1.3214410328842972,1.9078686017245763,0.9778456533493329,1.3036621198234963,1.3653669944338835],[1.3176324731348101,1.917828609234377,0.9793735529708242,1.306849557769275,1.36990057575799],[1.3306129108603282,1.955677321536563,0.9756047448373367,1.3170493987199974,1.3691552358419605],[1.3174769855891524,1.9357569265368804,0.9775909902556402,1.2614604725307803,1.3680885108245238],[1.3444872543887507,1.9516931666402118,0.9711229273040497,1.2510056800210492,1.365989250694055],[1.3461583620177222,1.9716135611418868,0.9737712806722444,1.2618429495295767,1.3728682594603465],[1.3304574229260342,2.082171391263631,0.9683727705267435,1.254065593164528,1.3686492252567661],[1.2815281297876784,2.0308764413580738,0.9676088596770357,1.2493481499429582,1.359691470302649],[1.2876685309175877,2.0488047586605767,0.9755028640154445,1.2877249300946025,1.3646490064413779],[1.2845205863854863,2.054780801015063,0.9764196345497338,1.2932073271862676,1.365852491076435],[1.287124501531611,2.1354582291253315,0.9741787260377375,1.2961398134455402,1.3577084558471573],[1.2587541005829928,2.119023874976191,0.9768779813651353,1.2957572392936352,1.3567443005429356],[1.2737943059232302,2.126991994529849,0.9827349157388185,1.2859399724948177,1.3668987021512287],[1.2591815437489244,2.1210159521753624,0.9819200260264214,1.2951198090783624,1.3686697391994092],[1.2630679065382728,2.095866496397875,0.9867583090439231,1.29779724547804,1.3753641224819133],[1.287629747737404,2.0383466371049668,0.9880315455717218,1.2872149285485015,1.374707676317337],[1.2611247251435986,1.9248008806764976,0.9834988265885264,1.2884898846021853,1.363691689118037],[1.257743608560043,1.9447210854371357,0.9759103088716431,1.30863451536906,1.3558143351431189],[1.275543098057998,1.986055838091856,0.9794244544207326,1.2972872439319387,1.3664337194513203],[1.2511367444045247,1.9397410814332317,0.962617716465658,1.2478182420752704,1.3443402032247918],[1.2561112841112554,2.024900399003587,0.967965325670545,1.284537492148824,1.3558690389901669],[1.2507093012385928,2.017928317800511,0.9658262974711463,1.2763776586574815,1.352415858645259],[1.2531188271248115,2.0293824782047114,0.9667939694553439,1.284537492148824,1.348648131179825],[1.2337646980725012,2.007968120051666,0.9532467144649608,1.2645203858017566,1.330780487137758],[1.2374567901360085,2.0169322789519217,0.9519225764872538,1.2737002226402965,1.3307873251186388],[1.25428468854799,2.043326640610863,0.9608861336317525,1.2701303076957215,1.3456462575730639],[1.2521861381417232,2.06772911481167,0.9627704987374583,1.2701303076957215,1.343540159461714],[1.2318993197176884,2.0383466371049668,0.9458110564326588,1.2590379885825942,1.3232176802833657],[1.2541293195363974,2.045816832353852,0.9644002786715473,1.2851750192622102,1.3463232176802833],[1.225642213833669,2.0468126809633973,0.949427004881565,1.2879798817811088,1.318506311456353],[1.210174565716136,1.9721114854466595,0.946931433275876,1.2842825404623177,1.3034080496710931],[1.1909759242094837,1.9113546425751182,0.9346574922260723,1.2725526943633017,1.2819436276856169],[1.198204502256775,1.8909363232706629,0.9360835110256714,1.2590379885825942,1.2839676700263947],[1.1891104273206057,1.8834661275237696,0.9256429557095899,1.2436108006547968,1.2735671011063852],[1.1770237776411998,1.8981574617456474,0.9159154097933079,1.2272911339271069,1.2737517265901723],[1.1800552540986848,1.9148406829276523,0.9271708553310811,1.2452682333247844,1.2901628807045855],[1.1900431166923302,1.9561752458413357,0.8612172184699515,1.271915265168009,1.3019583977243199],[1.2254867262880111,2.0009960393465978,0.8313215718306004,1.3064670805154837,1.3274435524678272],[1.2163149668460456,2.0916334744686593,0.8239877172074098,1.3130969093685225,1.3177541335594425],[1.217131069997725,2.1215138764801353,0.825973963135008,1.336556502373486,1.3339669862283063],[1.1156192929831188,2.1663346699853974,0.8254647148696982,1.3415288979190496,1.3433760479205699],[1.1269286226910293,2.2260956642473935,0.8243951620636084,1.3401264175730558,1.3413588435606734],[1.1487699625239902,2.28436250561499,0.833206014858382,1.3609084785552035,1.357373394783988],[1.1430570045600126,2.26245022365518,0.8324930054585825,1.3685583092254694,1.3554929500417117],[1.162294547780914,2.272410420906018,0.8370257244417778,1.3639684891067856,1.3639378564297535],[1.187128344600319,2.293326664515246,0.837280309613395,1.3769731925764068,1.379938731691306],[1.1881388366232686,2.307768940967207,0.8370766258916862,1.3948228641973952,1.379774620150162],[1.1768295069153583,2.344621614420803,0.8283676539188047,1.384623024521648,1.3758701330671077],[1.1523842515476361,2.363545780332852,0.8241405768919912,1.3879379867597368,1.3837132971376211],[1.1528507145732452,2.3869522161830767,0.8223071132361937,1.3858979793003567,1.3889375145307092],[1.1653646892731542,2.417828657043142,0.8254138134197898,1.3898504686518314,1.3894230111732608],[1.185768093917234,2.460657372851225,0.8326457877303829,1.3875555095059453,1.3937582910518183],[1.2125840919909907,2.4427290555487216,0.8316781157461853,1.3986477310834715,1.394729284336921],[1.2106409105963165,2.5199202525694036,0.8246498251573011,1.4184098858715302,1.3937514530709372],[1.229956138323014,2.5149402490635073,0.8290806633186042,1.4384269923460948,1.3944899550060856],[1.274027477974684,2.5771912453274552,0.8360580524575802,1.4557666624209824,1.394825016069255],[1.2554894516854171,2.6080676861875207,0.8360580524575802,1.4533441789827863,1.3958507132014057],[1.2627958327725701,2.5771912453274552,0.8244970428855005,1.472213853695977,1.4030169171646996],[1.2690529382679534,2.518924403959858,0.8221542535516122,1.4620140140202298,1.4009108190533497],[1.2845983894253474,2.552290846821876,0.8181308602465075,1.4829235992946872,1.403666525348395],[1.29272087366418,2.541832725266266,0.8195568790461066,1.484963605479092,1.4110173547954759],[1.304418863357838,2.5811754002238065,0.8258211808632075,1.5124393052720024,1.4150586014961501],[1.3020870219774159,2.575697282174093,0.8238349349356093,1.4993707905696818,1.413431162046471],[1.2963740640134382,2.5861554042277106,0.824802606919807,1.5172204621906704,1.4173971909574539],[1.3160779517258836,2.576693321022683,0.8259230616850998,1.516327983390778,1.413793575033164],[1.2669542693276215,2.495019854063824,0.8227144806796112,1.4671139338581034,1.4041383460291845],[1.2681590324650487,2.5234062934199457,0.828469534740697,1.4615040124741285,1.4131029389641827],[1.2300338228288104,2.50398401296408,0.837891516113378,1.4780787280414334,1.4184228880896048],[1.231704930457782,2.510458169862383,0.8354978253295812,1.4724688066574585,1.4167749346972827],[1.2149936178772094,2.5393427232643138,0.831525333474385,1.4662214550582109,1.4191340381012294],[1.1917143424667305,2.4711154944068348,0.8243442606137001,1.43307211954674,1.4088360388944352],[1.2144883716714163,2.51543817336828,0.8300993146747857,1.4550017079133997,1.408500977831266],[1.1886051811148126,2.4504483080695154,0.8174687522966163,1.42733467259548,1.3854706582240397],[1.1945124101932683,2.487051734510166,0.8203208673085953,1.4231273284556125,1.3917547626536835],[1.1943570407930393,2.5019921255059447,0.7913419917128283,1.3990303065103515,1.3691894257463655],[1.1894990873063536,2.481075691657672,0.7795263195563507,1.37984186760298,1.3605051900274887],[1.146710195297907,2.4327688577998763,0.7711229895398511,1.3609722885129274,1.3489558403194704],[1.161556129523667,2.496015892912414,0.7737712654952651,1.3949503897646804,1.3764103335567073],[1.157086836022729,2.5353585683679625,0.8030557056346331,1.4362595574925188,1.4094651331354877],[1.165520176818812,2.5338646052146,0.8072828600742274,1.4251672390168788,1.4159065111253948],[1.1913256824809828,2.5473108433159797,0.8222052324143014,1.4399569969843986,1.421301678040508],[1.1903346413151574,2.4910358894065174,0.8262796050913899,1.4348570771465248,1.4237838651003132],[1.1776845113926502,2.5224104448104003,0.8241405768919912,1.4280997240011761,1.423585563654764],[1.2012358601801953,2.53286856636601,0.8267888528474051,1.4533441789827863,1.4282969324817767],[1.2127006778223997,2.5164342122168697,0.8174687522966163,1.4523242727886974,1.4295277690403578],[1.2059383261212235,2.5507968836685135,0.8151260408848034,1.43460202728693,1.42253935257997],[1.2061327153811299,2.51543817336828,0.817112286303107,1.4073175673958904,1.4078718835902135]],\"y\":[1.0,0.9850597992432663,0.9890438590200952,0.9661354430921731,0.9790836617692575,0.9626494022416311,0.9457171237877178,0.9606574201619819,0.9676295013650579,0.9721115805661816,0.9995019805757052,1.0024900020019523,0.9970119790717609,0.9910358415977524,1.0014940582728848,1.0179283173025033,1.0144422769499692,1.0114541609022079,0.9810757389684294,1.0019920776971796,0.977589603496373,0.9840637603946764,0.9631474216659262,0.9790836617692575,0.9885458395958002,1.0119521798284947,1.0209163387287503,1.040836638608911,1.0562748587899398,1.0532868378617006,1.0547808961345853,1.0465637188110108,1.060259014184299,1.0418326774575009,1.037350597758369,1.0567728782142345,1.0323704991329503,1.033864557405835,1.0537848572859954,1.06100599576098,1.0926295128192411,1.1304781300019051,1.1429283292546948,1.1354581340058092,1.1304781300019051,1.1404382326312281,1.1254980313764862,1.1155378341256488,1.1125498126994018,1.1170318923985336,1.0991035745980222,1.096115553669783,1.104083673721449,1.1003485755989983,1.1384462500535708,1.1583665499337312,1.1643425922882176,1.17480080896335,1.17480080896335,1.1717629195090158,1.1703187297622262,1.1842629872879005,1.1643425922882176,1.1713147686108158,1.1603585325113885,1.1693226909136363,1.1867529887918447,1.205179325518643,1.2193725451967035,1.229581704599927,1.1942230894192156,1.1847610067121954,1.1802789270130636,1.1584163233403042,1.1688246714893413,1.1927291262658533,1.2141433892993763,1.2325697260261743,1.2549801225298014,1.2290836856736402,1.2166334864208506,1.2315736871775846,1.210159329522547,1.2435258670060791,1.2485059656314978,1.2534860647549246,1.2983067626426565,1.3152390415945778,1.3067729021186172,1.3361553798253203,1.3142430027459882,1.3266932019987778,1.3615537977551946,1.3237051805725306,1.3207171596442915,1.3237051805725306,1.344621519301281,1.3217131984928814,1.2958167611387121,1.311254981319741,1.2983067626426565,1.28535854446358,1.311254981319741,1.3097609235448642,1.3142430027459882,1.307768940967207,1.2823705230373328,1.3052788438457326,1.3466135969984607,1.3316733006241965,1.314741022170283,1.2893426042404088,1.3132470590169205,1.308764979815797,1.3217131984928814,1.3276892408473675,1.3067729021186172,1.2624502231571724,1.2544821031055065,1.1984562064679531,1.242778885429398,1.2592131449570245,1.2684262655116585,1.251493987057745,1.2569721051074587,1.244521905854669,1.274402402985667,1.278884482684799,1.2711653247855192,1.3284362224240487,1.3227091422219488,1.3466135969984607,1.356075679705481,1.3615537977551946,1.3386453818272726,1.4770916318808431,1.4770916318808431,1.4497012313733117,1.3874502351093636,1.3625498366037843,1.386454196260774,1.407868554413819,1.3999004343621533,1.390886502055325,1.3969123183143917,1.3989043955135636,1.39243023861526,1.3769920184342312,1.3779880572828211,1.3605577589066047,1.3640437997571466,1.3685258789582706,1.3784860767071159,1.411852614190648,1.411354594766353,1.3969123183143917,1.351693242437025,1.3605577589066047,1.3401394401001572,1.3505976567752895,1.3476095407275281,1.389442217687021,1.3939242968881447,1.379731077210084,1.3446712927078537,1.3500996373509946,1.3595617205560229,1.3505976567752895,1.3834661753325348,1.3979083566649735,1.4058764767166394,1.4028884557884003,1.4561752931520928,1.4681274729805878,1.4536852911501406,1.4765936124565484,1.4571713320006827,1.4750996493031858,1.4940239103347568,1.5156872306401883,1.5453187656188,1.5400896097214725,1.5069721290118412,1.5572709454472946,1.560756985799829,1.6309761021154427,1.6708167018757638,1.6518923457246708,1.7086654136799422,1.700199179582467,1.687001998752996,1.737549777340836,1.700199179582467,1.6399402610156981,1.6439242256730051,1.6867529414810876,1.700697294126284,1.693227098379391,1.6623506575193254,1.6478586071627834,1.6307270448435343,1.6648904329278504,1.6962152144271525,1.6902389823316295,1.6484063048741289,1.6474104562645837,1.6060757036098634,1.61105570711576,1.6518425723180978,1.6220119432151874,1.6404381853204708,1.6524402336750608,1.6528883845732605,1.64193233821487,1.637450259013746,1.5991036224067874,1.6494023437227188,1.6840138827052347,1.6967131387319252,1.7482569561683545,1.777390377101157,1.7664343307427663,1.7417827992700512,1.7246016537832736,1.773904336250615,1.8077688936564498,1.8172311666025147,1.807270969351677,1.8247011721103634,1.8406374117156872,1.8416334505642769,1.8431274137176392,1.8207172069550488,1.8989044433223286,1.9357569265368804,1.9352590022321077,1.9357569265368804,2.0029881165457697,1.949950146214941,1.9596612861938698,1.9785856423449628,1.9785856423449628,1.9676294062455357,1.9940239581435217,2.00199207769718,1.9980079228008285,2.030378517053301,2.0343624817106076,2.0244024746988147,2.016434354647149,2.00199207769718,2.01394416290416,1.9716135611418868,1.9980079228008285,1.988545840093808,2.03784852256115,2.0428287163060905,2.03784852256115,2.053286837861701,1.9915339561415697,2.0488047586605767,2.045318717810035,2.008964158900256,1.9925298047511149,1.9681275207893527,2.0009960393465978,1.9616533638910494,1.8879482072229012,1.8251992866541804,1.9033865225234523,1.737549777340836,1.7584662106911007,1.793227069893335,1.738047891884653,1.7758964139477944,1.767430369591356,1.804780967349725,1.8540836498170665,1.8804780114760082,1.9173306849296043,1.8979084044737389,1.9183267237781942,1.903884446828225,1.9076195449506754,1.882968203218997,1.881972164868415,1.8570717663628358,1.8635457330220946,1.855577612970429,1.8735059302729322,1.915836721776242,1.9257967292860427,1.904880485676815,1.9736056388390664,1.967131481940763,1.9750996019924287,1.9272859429373945,1.8949202884259773,1.8705180039662075,1.8675298879184459,1.8540836498170665,1.8725098914243425,1.9477092014848973,1.9646414799388108,1.922808802979318,1.8809761260198252,1.8894421703762636,1.8266932498075428,1.789342652049174,1.7654382918941767,1.7724103730972527,1.7878486888958114,1.7878486888958114,1.8172311666025147,1.8247011721103634,1.780876417453691,1.7061752219369533,1.6469123417207665,1.6847610540229525,1.736553738492246,1.663346696367915,1.6368725448680181,1.665587640599951,1.7036852199350012,1.8102588951603942,1.811753048552801,1.8127490874013907,1.799800773604784,1.7649401778483673,1.7549801703385666,1.7171314580363806,1.6927291740746182,1.7843626480452697,1.790338690399756,1.81822701521206,1.8361553325145632,1.8381474102117428,1.8172311666025147,1.6967131387319252,1.6892429434830396,1.681274823431374,1.7156374948830182,1.7131474933790736,1.7016931427358293,1.6832669011285535,1.6638446206726878,1.6877489803296772,1.6867529414810876,1.7111554156818942,1.7280876941358077,1.7440239342391393,1.7490039377450357,1.7320716592911223,1.738047891884653,1.7255976926318632,1.736553738492246,1.7255976926318632,1.72958165728917,1.740039779342788,1.7888445375053568,1.7948207700988874,1.8082670077022591,1.8242032478055907,1.8316732533134394,1.8396413733651051,1.7335658121855213,1.714641456532436,1.740039779342788,1.7270916557852256,1.695717100381343,1.6752987810768876,1.6671813408055036,1.655876500621022,1.6762948199254775,1.7056772976321806,1.749502052288853,1.7604580981492357,1.7868526500472217,1.799800773604784,1.7689243327447184,1.7196214600383326,1.7355576996436564,1.7395418550380153,1.7644422535435946,1.7778884911469663,1.7734064119458424,1.6827689768237808,1.6538844229238425,1.6598606555173732,1.6573704637743845,1.6733067033797082,1.7285856184405803,1.8012947367581464,1.7988047347561944,1.7878486888958114,1.7768924527963843,1.8227090944131839,1.78336660919668,1.773904336250615,1.8194721113325583,1.7778884911469663,1.782370570846098,1.7758964139477944,1.788346613200584,1.782370570846098,1.7689243327447184,1.8022907756067361,1.8107570097042114,1.816235127753925,1.8615538455639595,1.8839642420675868,1.8675298879184459,1.874501969121522,1.892928210728798,1.877988009474056,1.881972164868415,1.9013944453242806,1.9078686017245763,1.917828609234377,1.955677321536563,1.9357569265368804,1.9516931666402118,1.9716135611418868,2.082171391263631,2.0308764413580738,2.0488047586605767,2.054780801015063,2.1354582291253315,2.119023874976191,2.126991994529849,2.1210159521753624,2.095866496397875,2.0383466371049668,1.9248008806764976,1.9447210854371357,1.986055838091856,1.9397410814332317,2.024900399003587,2.017928317800511,2.0293824782047114,2.007968120051666,2.0169322789519217,2.043326640610863,2.06772911481167,2.0383466371049668,2.045816832353852,2.0468126809633973,1.9721114854466595,1.9113546425751182,1.8909363232706629,1.8834661275237696,1.8981574617456474,1.9148406829276523,1.9561752458413357,2.0009960393465978,2.0916334744686593,2.1215138764801353,2.1663346699853974,2.2260956642473935,2.28436250561499,2.26245022365518,2.272410420906018,2.293326664515246,2.307768940967207,2.344621614420803,2.363545780332852,2.3869522161830767,2.417828657043142,2.460657372851225,2.4427290555487216,2.5199202525694036,2.5149402490635073,2.5771912453274552,2.6080676861875207,2.5771912453274552,2.518924403959858,2.552290846821876,2.541832725266266,2.5811754002238065,2.575697282174093,2.5861554042277106,2.576693321022683,2.495019854063824,2.5234062934199457,2.50398401296408,2.510458169862383,2.5393427232643138,2.4711154944068348,2.51543817336828,2.4504483080695154,2.487051734510166,2.5019921255059447,2.481075691657672,2.4327688577998763,2.496015892912414,2.5353585683679625,2.5338646052146,2.5473108433159797,2.4910358894065174,2.5224104448104003,2.53286856636601,2.5164342122168697,2.5507968836685135,2.51543817336828],\"type\":\"scatter\"}],                        {\"template\":{\"data\":{\"histogram2dcontour\":[{\"type\":\"histogram2dcontour\",\"colorbar\":{\"outlinewidth\":0,\"ticks\":\"\"},\"colorscale\":[[0.0,\"#0d0887\"],[0.1111111111111111,\"#46039f\"],[0.2222222222222222,\"#7201a8\"],[0.3333333333333333,\"#9c179e\"],[0.4444444444444444,\"#bd3786\"],[0.5555555555555556,\"#d8576b\"],[0.6666666666666666,\"#ed7953\"],[0.7777777777777778,\"#fb9f3a\"],[0.8888888888888888,\"#fdca26\"],[1.0,\"#f0f921\"]]}],\"choropleth\":[{\"type\":\"choropleth\",\"colorbar\":{\"outlinewidth\":0,\"ticks\":\"\"}}],\"histogram2d\":[{\"type\":\"histogram2d\",\"colorbar\":{\"outlinewidth\":0,\"ticks\":\"\"},\"colorscale\":[[0.0,\"#0d0887\"],[0.1111111111111111,\"#46039f\"],[0.2222222222222222,\"#7201a8\"],[0.3333333333333333,\"#9c179e\"],[0.4444444444444444,\"#bd3786\"],[0.5555555555555556,\"#d8576b\"],[0.6666666666666666,\"#ed7953\"],[0.7777777777777778,\"#fb9f3a\"],[0.8888888888888888,\"#fdca26\"],[1.0,\"#f0f921\"]]}],\"heatmap\":[{\"type\":\"heatmap\",\"colorbar\":{\"outlinewidth\":0,\"ticks\":\"\"},\"colorscale\":[[0.0,\"#0d0887\"],[0.1111111111111111,\"#46039f\"],[0.2222222222222222,\"#7201a8\"],[0.3333333333333333,\"#9c179e\"],[0.4444444444444444,\"#bd3786\"],[0.5555555555555556,\"#d8576b\"],[0.6666666666666666,\"#ed7953\"],[0.7777777777777778,\"#fb9f3a\"],[0.8888888888888888,\"#fdca26\"],[1.0,\"#f0f921\"]]}],\"heatmapgl\":[{\"type\":\"heatmapgl\",\"colorbar\":{\"outlinewidth\":0,\"ticks\":\"\"},\"colorscale\":[[0.0,\"#0d0887\"],[0.1111111111111111,\"#46039f\"],[0.2222222222222222,\"#7201a8\"],[0.3333333333333333,\"#9c179e\"],[0.4444444444444444,\"#bd3786\"],[0.5555555555555556,\"#d8576b\"],[0.6666666666666666,\"#ed7953\"],[0.7777777777777778,\"#fb9f3a\"],[0.8888888888888888,\"#fdca26\"],[1.0,\"#f0f921\"]]}],\"contourcarpet\":[{\"type\":\"contourcarpet\",\"colorbar\":{\"outlinewidth\":0,\"ticks\":\"\"}}],\"contour\":[{\"type\":\"contour\",\"colorbar\":{\"outlinewidth\":0,\"ticks\":\"\"},\"colorscale\":[[0.0,\"#0d0887\"],[0.1111111111111111,\"#46039f\"],[0.2222222222222222,\"#7201a8\"],[0.3333333333333333,\"#9c179e\"],[0.4444444444444444,\"#bd3786\"],[0.5555555555555556,\"#d8576b\"],[0.6666666666666666,\"#ed7953\"],[0.7777777777777778,\"#fb9f3a\"],[0.8888888888888888,\"#fdca26\"],[1.0,\"#f0f921\"]]}],\"surface\":[{\"type\":\"surface\",\"colorbar\":{\"outlinewidth\":0,\"ticks\":\"\"},\"colorscale\":[[0.0,\"#0d0887\"],[0.1111111111111111,\"#46039f\"],[0.2222222222222222,\"#7201a8\"],[0.3333333333333333,\"#9c179e\"],[0.4444444444444444,\"#bd3786\"],[0.5555555555555556,\"#d8576b\"],[0.6666666666666666,\"#ed7953\"],[0.7777777777777778,\"#fb9f3a\"],[0.8888888888888888,\"#fdca26\"],[1.0,\"#f0f921\"]]}],\"mesh3d\":[{\"type\":\"mesh3d\",\"colorbar\":{\"outlinewidth\":0,\"ticks\":\"\"}}],\"scatter\":[{\"fillpattern\":{\"fillmode\":\"overlay\",\"size\":10,\"solidity\":0.2},\"type\":\"scatter\"}],\"parcoords\":[{\"type\":\"parcoords\",\"line\":{\"colorbar\":{\"outlinewidth\":0,\"ticks\":\"\"}}}],\"scatterpolargl\":[{\"type\":\"scatterpolargl\",\"marker\":{\"colorbar\":{\"outlinewidth\":0,\"ticks\":\"\"}}}],\"bar\":[{\"error_x\":{\"color\":\"#2a3f5f\"},\"error_y\":{\"color\":\"#2a3f5f\"},\"marker\":{\"line\":{\"color\":\"#E5ECF6\",\"width\":0.5},\"pattern\":{\"fillmode\":\"overlay\",\"size\":10,\"solidity\":0.2}},\"type\":\"bar\"}],\"scattergeo\":[{\"type\":\"scattergeo\",\"marker\":{\"colorbar\":{\"outlinewidth\":0,\"ticks\":\"\"}}}],\"scatterpolar\":[{\"type\":\"scatterpolar\",\"marker\":{\"colorbar\":{\"outlinewidth\":0,\"ticks\":\"\"}}}],\"histogram\":[{\"marker\":{\"pattern\":{\"fillmode\":\"overlay\",\"size\":10,\"solidity\":0.2}},\"type\":\"histogram\"}],\"scattergl\":[{\"type\":\"scattergl\",\"marker\":{\"colorbar\":{\"outlinewidth\":0,\"ticks\":\"\"}}}],\"scatter3d\":[{\"type\":\"scatter3d\",\"line\":{\"colorbar\":{\"outlinewidth\":0,\"ticks\":\"\"}},\"marker\":{\"colorbar\":{\"outlinewidth\":0,\"ticks\":\"\"}}}],\"scattermapbox\":[{\"type\":\"scattermapbox\",\"marker\":{\"colorbar\":{\"outlinewidth\":0,\"ticks\":\"\"}}}],\"scatterternary\":[{\"type\":\"scatterternary\",\"marker\":{\"colorbar\":{\"outlinewidth\":0,\"ticks\":\"\"}}}],\"scattercarpet\":[{\"type\":\"scattercarpet\",\"marker\":{\"colorbar\":{\"outlinewidth\":0,\"ticks\":\"\"}}}],\"carpet\":[{\"aaxis\":{\"endlinecolor\":\"#2a3f5f\",\"gridcolor\":\"white\",\"linecolor\":\"white\",\"minorgridcolor\":\"white\",\"startlinecolor\":\"#2a3f5f\"},\"baxis\":{\"endlinecolor\":\"#2a3f5f\",\"gridcolor\":\"white\",\"linecolor\":\"white\",\"minorgridcolor\":\"white\",\"startlinecolor\":\"#2a3f5f\"},\"type\":\"carpet\"}],\"table\":[{\"cells\":{\"fill\":{\"color\":\"#EBF0F8\"},\"line\":{\"color\":\"white\"}},\"header\":{\"fill\":{\"color\":\"#C8D4E3\"},\"line\":{\"color\":\"white\"}},\"type\":\"table\"}],\"barpolar\":[{\"marker\":{\"line\":{\"color\":\"#E5ECF6\",\"width\":0.5},\"pattern\":{\"fillmode\":\"overlay\",\"size\":10,\"solidity\":0.2}},\"type\":\"barpolar\"}],\"pie\":[{\"automargin\":true,\"type\":\"pie\"}]},\"layout\":{\"autotypenumbers\":\"strict\",\"colorway\":[\"#636efa\",\"#EF553B\",\"#00cc96\",\"#ab63fa\",\"#FFA15A\",\"#19d3f3\",\"#FF6692\",\"#B6E880\",\"#FF97FF\",\"#FECB52\"],\"font\":{\"color\":\"#2a3f5f\"},\"hovermode\":\"closest\",\"hoverlabel\":{\"align\":\"left\"},\"paper_bgcolor\":\"white\",\"plot_bgcolor\":\"#E5ECF6\",\"polar\":{\"bgcolor\":\"#E5ECF6\",\"angularaxis\":{\"gridcolor\":\"white\",\"linecolor\":\"white\",\"ticks\":\"\"},\"radialaxis\":{\"gridcolor\":\"white\",\"linecolor\":\"white\",\"ticks\":\"\"}},\"ternary\":{\"bgcolor\":\"#E5ECF6\",\"aaxis\":{\"gridcolor\":\"white\",\"linecolor\":\"white\",\"ticks\":\"\"},\"baxis\":{\"gridcolor\":\"white\",\"linecolor\":\"white\",\"ticks\":\"\"},\"caxis\":{\"gridcolor\":\"white\",\"linecolor\":\"white\",\"ticks\":\"\"}},\"coloraxis\":{\"colorbar\":{\"outlinewidth\":0,\"ticks\":\"\"}},\"colorscale\":{\"sequential\":[[0.0,\"#0d0887\"],[0.1111111111111111,\"#46039f\"],[0.2222222222222222,\"#7201a8\"],[0.3333333333333333,\"#9c179e\"],[0.4444444444444444,\"#bd3786\"],[0.5555555555555556,\"#d8576b\"],[0.6666666666666666,\"#ed7953\"],[0.7777777777777778,\"#fb9f3a\"],[0.8888888888888888,\"#fdca26\"],[1.0,\"#f0f921\"]],\"sequentialminus\":[[0.0,\"#0d0887\"],[0.1111111111111111,\"#46039f\"],[0.2222222222222222,\"#7201a8\"],[0.3333333333333333,\"#9c179e\"],[0.4444444444444444,\"#bd3786\"],[0.5555555555555556,\"#d8576b\"],[0.6666666666666666,\"#ed7953\"],[0.7777777777777778,\"#fb9f3a\"],[0.8888888888888888,\"#fdca26\"],[1.0,\"#f0f921\"]],\"diverging\":[[0,\"#8e0152\"],[0.1,\"#c51b7d\"],[0.2,\"#de77ae\"],[0.3,\"#f1b6da\"],[0.4,\"#fde0ef\"],[0.5,\"#f7f7f7\"],[0.6,\"#e6f5d0\"],[0.7,\"#b8e186\"],[0.8,\"#7fbc41\"],[0.9,\"#4d9221\"],[1,\"#276419\"]]},\"xaxis\":{\"gridcolor\":\"white\",\"linecolor\":\"white\",\"ticks\":\"\",\"title\":{\"standoff\":15},\"zerolinecolor\":\"white\",\"automargin\":true,\"zerolinewidth\":2},\"yaxis\":{\"gridcolor\":\"white\",\"linecolor\":\"white\",\"ticks\":\"\",\"title\":{\"standoff\":15},\"zerolinecolor\":\"white\",\"automargin\":true,\"zerolinewidth\":2},\"scene\":{\"xaxis\":{\"backgroundcolor\":\"#E5ECF6\",\"gridcolor\":\"white\",\"linecolor\":\"white\",\"showbackground\":true,\"ticks\":\"\",\"zerolinecolor\":\"white\",\"gridwidth\":2},\"yaxis\":{\"backgroundcolor\":\"#E5ECF6\",\"gridcolor\":\"white\",\"linecolor\":\"white\",\"showbackground\":true,\"ticks\":\"\",\"zerolinecolor\":\"white\",\"gridwidth\":2},\"zaxis\":{\"backgroundcolor\":\"#E5ECF6\",\"gridcolor\":\"white\",\"linecolor\":\"white\",\"showbackground\":true,\"ticks\":\"\",\"zerolinecolor\":\"white\",\"gridwidth\":2}},\"shapedefaults\":{\"line\":{\"color\":\"#2a3f5f\"}},\"annotationdefaults\":{\"arrowcolor\":\"#2a3f5f\",\"arrowhead\":0,\"arrowwidth\":1},\"geo\":{\"bgcolor\":\"white\",\"landcolor\":\"#E5ECF6\",\"subunitcolor\":\"white\",\"showland\":true,\"showlakes\":true,\"lakecolor\":\"white\"},\"title\":{\"x\":0.05},\"mapbox\":{\"style\":\"light\"}}},\"width\":800,\"height\":600,\"title\":{\"font\":{\"color\":\"FireBrick\",\"size\":40},\"text\":\"\\u003cb\\u003eGross cumulative returns\\u003c\\u002fb\\u003e\",\"x\":0.5,\"y\":0.9}},                        {\"responsive\": true}                    ).then(function(){\n",
              "                            \n",
              "var gd = document.getElementById('ab20f0ad-a548-4045-b03e-d7716d4a402f');\n",
              "var x = new MutationObserver(function (mutations, observer) {{\n",
              "        var display = window.getComputedStyle(gd).display;\n",
              "        if (!display || display === 'none') {{\n",
              "            console.log([gd, 'removed!']);\n",
              "            Plotly.purge(gd);\n",
              "            observer.disconnect();\n",
              "        }}\n",
              "}});\n",
              "\n",
              "// Listen for the removal of the full notebook cells\n",
              "var notebookContainer = gd.closest('#notebook-container');\n",
              "if (notebookContainer) {{\n",
              "    x.observe(notebookContainer, {childList: true});\n",
              "}}\n",
              "\n",
              "// Listen for the clearing of the current output cell\n",
              "var outputEl = gd.closest('.output');\n",
              "if (outputEl) {{\n",
              "    x.observe(outputEl, {childList: true});\n",
              "}}\n",
              "\n",
              "                        })                };                            </script>        </div>\n",
              "</body>\n",
              "</html>"
            ]
          },
          "metadata": {}
        }
      ]
    },
    {
      "cell_type": "markdown",
      "source": [
        "## <font color='orange' style=\"font-size:25px\"><b>Measures of risk and reward</b></font>  "
      ],
      "metadata": {
        "id": "nc3qHjwKNgDn"
      }
    },
    {
      "cell_type": "markdown",
      "source": [
        "**Expected returns** on investment measure our prediction of gain (or loss) when undertaking an investment. **Volatility** (whose square is variance) measures risk of our investment. Below we briefly discuss these concepts."
      ],
      "metadata": {
        "id": "jazYJaO6Ng9A"
      }
    },
    {
      "cell_type": "markdown",
      "source": [
        "### <font color='MediumVioletRed' style=\"font-size:20px\"><b>Expected returns</b></font>"
      ],
      "metadata": {
        "id": "OYnk8PHcNiOZ"
      }
    },
    {
      "cell_type": "markdown",
      "source": [
        "If there are $S$ possible states of the world, the expected return would be:\n",
        "\n",
        "$$ \\mathbb{E}(r) = \\sum_{s=1}^{S}p_s r_s  $$\n",
        "\n",
        "Here $p_s$ is probability of realization of state $s$ while $r_s$ is return in that state.\n",
        "\n",
        "Of course, strictly speaking, we do not know either possible values of returns or probability with which they are realized. What we do know are past returns.\n"
      ],
      "metadata": {
        "id": "fTx7fj49Nm8v"
      }
    },
    {
      "cell_type": "markdown",
      "source": [
        "In practice, we *estimate* expected returns. We mention here two approaches. Both are based on past returns. While past performance is not necessarily indicative of future performance, we still proceed as these approaches are used a lot in practice.\n",
        "\n",
        "The first approach of estimating expected return on an asset is **sample mean of returns** (daily, weekly, or monthly):"
      ],
      "metadata": {
        "id": "5cF9weN2Nv0m"
      }
    },
    {
      "cell_type": "markdown",
      "source": [
        "$$\\overline{r}=\\frac{1}{N}\\sum_{t=1}^{N}r_t$$\n",
        "\n",
        "Here, $N$ is the number of past returns, and $r_t$ return realization at time $t$.\n",
        "\n",
        "Investors usually think in terms of annual quantities (i.e. 12 months returns). On the other hand, returns we are observed are usually daily, weekly or monthly.\n",
        "\n",
        "How do we annualize?\n"
      ],
      "metadata": {
        "id": "TwnVl063NyVn"
      }
    },
    {
      "cell_type": "markdown",
      "source": [
        "$$\\overline{r}_a=252 \\overline{r}_d\\,\\,\\,\\,\\,\\,\\,\\,\\,\\,\\,\\,\\,\\,\\,\\, \\Longleftrightarrow \\,\\,\\,\\,\\,\\,\\,\\,\\,\\,\\,\\,\\,\\,\\,\\, \\overline{r}_a=52 \\overline{r}_w \\,\\,\\,\\,\\,\\,\\,\\,\\,\\,\\,\\,\\,\\,\\,\\, \\Longleftrightarrow \\,\\,\\,\\,\\,\\,\\,\\,\\,\\,\\,\\,\\,\\,\\,\\, \\overline{r}_a=12 \\overline{r}_m$$"
      ],
      "metadata": {
        "id": "znROTn-_Nzjt"
      }
    },
    {
      "cell_type": "markdown",
      "source": [
        "Note that in this definition, daily (weekly, or monthly) expected return is estimated using the arithmetic mean of the simple daily (weekly, monthly) returns. This quantity is annualized not taking into the account accumulation of returns on returns, i.e. using the simple multiplication by the number of trading periods in one year."
      ],
      "metadata": {
        "id": "fVwhVq8mN0bK"
      }
    },
    {
      "cell_type": "markdown",
      "source": [
        "Let us calculate the expected returns using this approach:"
      ],
      "metadata": {
        "id": "isCensrPN1ZJ"
      }
    },
    {
      "cell_type": "code",
      "source": [
        "returns.mean() #daily expected returns"
      ],
      "metadata": {
        "colab": {
          "base_uri": "https://localhost:8080/"
        },
        "id": "Uu3cpU4_N10P",
        "outputId": "d8889227-3716-4acd-e563-39413a21d3c9"
      },
      "execution_count": 22,
      "outputs": [
        {
          "output_type": "execute_result",
          "data": {
            "text/plain": [
              "AMZN     0.000550\n",
              "YHOO     0.002014\n",
              "IBM     -0.000338\n",
              "AAPL     0.000807\n",
              "^GSPC    0.000705\n",
              "dtype: float64"
            ]
          },
          "metadata": {},
          "execution_count": 22
        }
      ]
    },
    {
      "cell_type": "code",
      "source": [
        "ExpRet1 =returns.mean()*252 #anualized daily returns\n",
        "ExpRet1"
      ],
      "metadata": {
        "colab": {
          "base_uri": "https://localhost:8080/"
        },
        "id": "4dDbKf_tN-XF",
        "outputId": "4dbc07b3-03e0-45de-9beb-aad17ebffcf5"
      },
      "execution_count": 23,
      "outputs": [
        {
          "output_type": "execute_result",
          "data": {
            "text/plain": [
              "AMZN     0.138659\n",
              "YHOO     0.507439\n",
              "IBM     -0.085088\n",
              "AAPL     0.203447\n",
              "^GSPC    0.177588\n",
              "dtype: float64"
            ]
          },
          "metadata": {},
          "execution_count": 23
        }
      ]
    },
    {
      "cell_type": "markdown",
      "source": [
        "Note that the expected annual return on Yahoo, using this method would be close to 51 percent. The IBM would be expected to lose money.\n",
        "\n",
        "Another way for estimating the expected returns is to use **annualized compounded sample returns**. We  calculate, namely, the geometric average of gross returns and then annualize them taking into the account interest on interest.\n",
        "\n",
        "This is how that is done:"
      ],
      "metadata": {
        "id": "m18muxptOFYN"
      }
    },
    {
      "cell_type": "markdown",
      "source": [
        "$$\\overline{r}_a=\\left(\\left(\\prod_{t=1}^{N}(1+r_t)\\right)^{\\frac{1}{N}}\\right)^n-1 = \\left(\\prod_{t=1}^{N}(1+r_t)\\right)^{\\frac{n}{N}}-1$$"
      ],
      "metadata": {
        "id": "VvfFu8g0OGdp"
      }
    },
    {
      "cell_type": "markdown",
      "source": [
        "where compounding factor $n$ (small n) is number of periods, i.e. 252 for daily , 52 for weekly and 12 for monthly compounding and $N$ is the size of the sample that we use for calculation."
      ],
      "metadata": {
        "id": "nP8dnVR8ORdd"
      }
    },
    {
      "cell_type": "markdown",
      "source": [
        "Let's calculate expected returns using this approach:"
      ],
      "metadata": {
        "id": "Y8njW9sNOTFN"
      }
    },
    {
      "cell_type": "code",
      "source": [
        "ExpRet2=(1+returns).prod()**(252/len(returns))-1\n",
        "ExpRet2"
      ],
      "metadata": {
        "colab": {
          "base_uri": "https://localhost:8080/"
        },
        "id": "6q1GK5ICOTmj",
        "outputId": "34d85a06-b192-4011-ac7d-b666410dfeef"
      },
      "execution_count": 24,
      "outputs": [
        {
          "output_type": "execute_result",
          "data": {
            "text/plain": [
              "AMZN     0.098445\n",
              "YHOO     0.587468\n",
              "IBM     -0.096239\n",
              "AAPL     0.186707\n",
              "^GSPC    0.186941\n",
              "dtype: float64"
            ]
          },
          "metadata": {},
          "execution_count": 24
        }
      ]
    },
    {
      "cell_type": "markdown",
      "source": [
        "The numbers obtained clearly indicate that the two methods do not give identical estimates for the returns. In fact, when we use other methods such as CAPM, multi-factor models, or Black-Litterman, discrepancy between different estimates may be even bigger. One should bear this in mind when attempting to use portfolio optimization in practice - the results are very sensitive to the way we prepare inputs."
      ],
      "metadata": {
        "id": "TLwyigNSOdZ4"
      }
    },
    {
      "cell_type": "markdown",
      "source": [
        "Before we continue any further, I would like to introduce the concept of **excess returns with respect to a benchmark**.\n",
        "\n",
        "Here we take as a benchmark a market proxy, in this case SP500 index. In that case, stocks that are expected to do better than the market are said to be expected to **outperform the market**. Here we use simple mean approach.\n"
      ],
      "metadata": {
        "id": "keGsDnsKOn5i"
      }
    },
    {
      "cell_type": "code",
      "source": [
        "ExpRet1.iloc[-1] #expect return on SP500, i.e. on the market"
      ],
      "metadata": {
        "colab": {
          "base_uri": "https://localhost:8080/"
        },
        "id": "zNrKraO9Oody",
        "outputId": "639392d6-52fe-42fb-9a23-953b45479dc7"
      },
      "execution_count": 26,
      "outputs": [
        {
          "output_type": "execute_result",
          "data": {
            "text/plain": [
              "0.17758845046197477"
            ]
          },
          "metadata": {},
          "execution_count": 26
        }
      ]
    },
    {
      "cell_type": "code",
      "source": [
        "ExpRet1.iloc[:-1]-ExpRet1.iloc[-1] #Anualized expected return on individual stocks with respect to the market"
      ],
      "metadata": {
        "colab": {
          "base_uri": "https://localhost:8080/"
        },
        "id": "I-iZydSoO1Rg",
        "outputId": "35566759-9415-48a8-954b-fc262e2c8d6b"
      },
      "execution_count": 27,
      "outputs": [
        {
          "output_type": "execute_result",
          "data": {
            "text/plain": [
              "AMZN   -0.038929\n",
              "YHOO    0.329851\n",
              "IBM    -0.262676\n",
              "AAPL    0.025858\n",
              "dtype: float64"
            ]
          },
          "metadata": {},
          "execution_count": 27
        }
      ]
    },
    {
      "cell_type": "markdown",
      "source": [
        "Note that Amazon, using the first method for calculating the expected return, is expected to underperform the market by close to 4 percent annually while IBM is expected to underperform by 26 percent. On the other hand, Yahoo is expected to outperform the market by 33 percent. Apple, according to this method, is also expected to overperform but just slightly."
      ],
      "metadata": {
        "id": "lp1X9N_9O06E"
      }
    },
    {
      "cell_type": "markdown",
      "source": [
        "However, if we use the second method for expected returns calculation (i.e. annualized compounded returns) only Yahoo stock is expected to outperform the market"
      ],
      "metadata": {
        "id": "ZvPiwnAyPThg"
      }
    },
    {
      "cell_type": "code",
      "source": [
        "ExpRet2.iloc[:-1]-ExpRet2.iloc[-1]"
      ],
      "metadata": {
        "colab": {
          "base_uri": "https://localhost:8080/"
        },
        "id": "95ruBjhqPUP_",
        "outputId": "1784b68e-e072-4e3f-fda0-50f6c8572408"
      },
      "execution_count": 28,
      "outputs": [
        {
          "output_type": "execute_result",
          "data": {
            "text/plain": [
              "AMZN   -0.088496\n",
              "YHOO    0.400527\n",
              "IBM    -0.283180\n",
              "AAPL   -0.000234\n",
              "dtype: float64"
            ]
          },
          "metadata": {},
          "execution_count": 28
        }
      ]
    },
    {
      "cell_type": "markdown",
      "source": [
        "### <font color='MediumVioletRed' style=\"font-size:20px\"><b>Measuring risk - Variance and Volatility</b></font>"
      ],
      "metadata": {
        "id": "UNDOtlYNPkJ2"
      }
    },
    {
      "cell_type": "markdown",
      "source": [
        "Variance is a measure of squared deviation from the mean.\n",
        "\n",
        "$$ \\mathbb{V}(r) = \\mathbb{E}((r- \\mathbb{E}(r))^2)  $$\n",
        "\n",
        "We can estimate variance, like the mean, using many different methods. Here we focus on sample variance. It can be estimated as follows:"
      ],
      "metadata": {
        "id": "v22WB4XfPlCf"
      }
    },
    {
      "cell_type": "markdown",
      "source": [
        "$$\\sigma_{d}^2 = \\frac{1}{N-1} \\sum_{t=1}^{N} (r_t - \\overline{r})^2$$"
      ],
      "metadata": {
        "id": "VzskMZy-Pl6v"
      }
    },
    {
      "cell_type": "markdown",
      "source": [
        "While variance can be used as a measure of risk, it has the units of the square of returns. Taking its square root we obtain the quantity - the standard deviation - that has the same dimensions as the expected returns. Thus, the two can be compared.\n",
        "\n",
        "We commonly use it to measure volatility of returns:"
      ],
      "metadata": {
        "id": "uIpwUh6CPm2U"
      }
    },
    {
      "cell_type": "markdown",
      "source": [
        "$$\\sigma_{d} = \\sqrt{ \\frac{1}{N-1} \\sum_{i=1}^{N} (r_i - \\overline{r})^2}$$"
      ],
      "metadata": {
        "id": "cHTMpvq9PnvU"
      }
    },
    {
      "cell_type": "markdown",
      "source": [
        "How to annualize daily volatility? If we use daily data, annualizing is often done by the square root law (in the statistics course you shall revisit the conditions under which this is a sensible thing to do):"
      ],
      "metadata": {
        "id": "ZiGO-KRgP4DE"
      }
    },
    {
      "cell_type": "markdown",
      "source": [
        "$$\\sigma_a = \\sigma_d \\sqrt{252}$$"
      ],
      "metadata": {
        "id": "BWlqv92MP41h"
      }
    },
    {
      "cell_type": "markdown",
      "source": [
        "If we use weekly data we need to multiply by square root of 52, and if we use monthly by square root of 12. Now, let us calculate volatility of returns in our five assets. Here we will use <font color='mediumseagreen'><b>Pandas</b></font> method <font color='DeepPink'><b>std</b></font>:"
      ],
      "metadata": {
        "id": "-V4NImJSP9F1"
      }
    },
    {
      "cell_type": "code",
      "source": [
        "vol=returns.std()*252**0.5\n",
        "vol"
      ],
      "metadata": {
        "colab": {
          "base_uri": "https://localhost:8080/"
        },
        "id": "B002GdDPP_XM",
        "outputId": "c569857c-16ce-4cc4-c423-c3795a4cdc4e"
      },
      "execution_count": 29,
      "outputs": [
        {
          "output_type": "execute_result",
          "data": {
            "text/plain": [
              "AMZN     0.297614\n",
              "YHOO     0.300029\n",
              "IBM      0.178456\n",
              "AAPL     0.252674\n",
              "^GSPC    0.110939\n",
              "dtype: float64"
            ]
          },
          "metadata": {},
          "execution_count": 29
        }
      ]
    },
    {
      "cell_type": "markdown",
      "source": [
        "So, Yahoo has just marginally higher volatility than Amazon, but much higher expected return. On the other hand, the least risky is SP500 index. Why would that be?"
      ],
      "metadata": {
        "id": "TBcJeKOEQEYL"
      }
    },
    {
      "cell_type": "markdown",
      "source": [
        "We can perform the same calculation using <font color='mediumseagreen'><b>NumPy</b></font>'s function <font color='DodgerBlue'><b>np.std</b></font>. Note, however, that it by default calculates the standard deviation of the population instead of standard deviation of the sample.\n",
        "\n",
        "However, there is a way in which you can still use <font color='mediumseagreen'><b>NumPy</b></font> to calculate volatility of returns. Basically, you have to set argument **ddof** (degrees of freedom) to 1:"
      ],
      "metadata": {
        "id": "eJOEc-IdQFQy"
      }
    },
    {
      "cell_type": "code",
      "source": [
        "np.std(returns,ddof=1)*np.sqrt(252)"
      ],
      "metadata": {
        "colab": {
          "base_uri": "https://localhost:8080/"
        },
        "id": "lA57w8cuQKU2",
        "outputId": "40b7cc29-192e-4026-f57b-2ab72951901a"
      },
      "execution_count": 30,
      "outputs": [
        {
          "output_type": "execute_result",
          "data": {
            "text/plain": [
              "AMZN     0.297614\n",
              "YHOO     0.300029\n",
              "IBM      0.178456\n",
              "AAPL     0.252674\n",
              "^GSPC    0.110939\n",
              "dtype: float64"
            ]
          },
          "metadata": {},
          "execution_count": 30
        }
      ]
    },
    {
      "cell_type": "markdown",
      "source": [
        "Annualized standard deviation is one possible proxy of volatility of returns. We sometimes use the two words interchangeably."
      ],
      "metadata": {
        "id": "QgQ2go7QQRC_"
      }
    },
    {
      "cell_type": "markdown",
      "source": [
        "### <font color='MediumVioletRed' style=\"font-size:20px\"><b>Risk-adjusted performance ratios</b></font>"
      ],
      "metadata": {
        "id": "lEdT2pefQWuH"
      }
    },
    {
      "cell_type": "markdown",
      "source": [
        "Higher expected returns is usually is positively correlated with higher risks."
      ],
      "metadata": {
        "id": "KFj7_GqLQalU"
      }
    },
    {
      "cell_type": "markdown",
      "source": [
        "In order to tell somehow which investments are more attractive, we may need to compare expected returns with risk. One way to do that is to calculate the **expected return per unit of risk**.\n",
        "\n",
        "It is the ratio of expected returns and the corresponding volatility of returns. Since we can calculate the expected returns in two different ways, our comparisons may depend on the type of expected returns calculatons that we use"
      ],
      "metadata": {
        "id": "ugr-hncbQbim"
      }
    },
    {
      "cell_type": "code",
      "source": [
        "ExpRet1/vol #comparison using the sample mean"
      ],
      "metadata": {
        "colab": {
          "base_uri": "https://localhost:8080/"
        },
        "id": "2dBxVlfaQgsK",
        "outputId": "abb968e9-997c-418d-b662-0e05542e787f"
      },
      "execution_count": 31,
      "outputs": [
        {
          "output_type": "execute_result",
          "data": {
            "text/plain": [
              "AMZN     0.465903\n",
              "YHOO     1.691300\n",
              "IBM     -0.476800\n",
              "AAPL     0.805175\n",
              "^GSPC    1.600770\n",
              "dtype: float64"
            ]
          },
          "metadata": {},
          "execution_count": 31
        }
      ]
    },
    {
      "cell_type": "markdown",
      "source": [
        "Note that Yahoo seems to provide the best risk-return tradeoff, followed by the market proxy, SP500 portfolio."
      ],
      "metadata": {
        "id": "EBnXqpCqQnGy"
      }
    },
    {
      "cell_type": "code",
      "source": [
        "ExpRet2/vol"
      ],
      "metadata": {
        "colab": {
          "base_uri": "https://localhost:8080/"
        },
        "id": "GK0D-46PQoIU",
        "outputId": "3ad0d9dd-9ad6-4de5-bf3e-26328b659712"
      },
      "execution_count": 32,
      "outputs": [
        {
          "output_type": "execute_result",
          "data": {
            "text/plain": [
              "AMZN     0.330782\n",
              "YHOO     1.958039\n",
              "IBM     -0.539287\n",
              "AAPL     0.738925\n",
              "^GSPC    1.685076\n",
              "dtype: float64"
            ]
          },
          "metadata": {},
          "execution_count": 32
        }
      ]
    },
    {
      "cell_type": "markdown",
      "source": [
        "Yahoo looks even better when we use the second (cumulative) approach."
      ],
      "metadata": {
        "id": "ag9uhh4yQrJU"
      }
    },
    {
      "cell_type": "markdown",
      "source": [
        "The second, much more commonly used way, is to compare the corresponding **Sharpe ratios**, i.e. excess expected returns (with respect to risk free rate) with the corresponding volatility."
      ],
      "metadata": {
        "id": "2s406zCxQr_C"
      }
    },
    {
      "cell_type": "markdown",
      "source": [
        "$$\\text{Sharpe} = \\frac{\\overline{r}_a - r_f}{\\sigma_a}$$"
      ],
      "metadata": {
        "id": "ZNHXroJBQxfI"
      }
    },
    {
      "cell_type": "markdown",
      "source": [
        "This is very similar to previous ratio except that now in the numerator we have excess annualized expected return on the portfolio with respect to the risk-free rate (also annual). The numerator is called the **risk premium** on risky asset (or portfolio) a.\n",
        "\n",
        "Essentially, we use here risk-free rate as  a benchmark of performance. Again, we consider both approaches. Suppose that the risk free rate is 3 percent per annum."
      ],
      "metadata": {
        "id": "DVqjt3pPQyU6"
      }
    },
    {
      "cell_type": "code",
      "source": [
        "rf=0.03\n",
        "(ExpRet1-rf)/vol"
      ],
      "metadata": {
        "colab": {
          "base_uri": "https://localhost:8080/"
        },
        "id": "-Ia2Gjm9Qz44",
        "outputId": "d9e6445b-c1fc-48f1-df92-b4d5e0b38a46"
      },
      "execution_count": 33,
      "outputs": [
        {
          "output_type": "execute_result",
          "data": {
            "text/plain": [
              "AMZN     0.365101\n",
              "YHOO     1.591310\n",
              "IBM     -0.644909\n",
              "AAPL     0.686445\n",
              "^GSPC    1.330352\n",
              "dtype: float64"
            ]
          },
          "metadata": {},
          "execution_count": 33
        }
      ]
    },
    {
      "cell_type": "markdown",
      "source": [
        "Yahoo looks the most attractive followed by the market proxy."
      ],
      "metadata": {
        "id": "jTid_4qiRKGj"
      }
    },
    {
      "cell_type": "markdown",
      "source": [
        "Let's now use the second measure of expected returns in calculation of the Sharpe ratio:"
      ],
      "metadata": {
        "id": "QJgOsJ3-RLMn"
      }
    },
    {
      "cell_type": "code",
      "source": [
        "(ExpRet2-rf)/vol"
      ],
      "metadata": {
        "colab": {
          "base_uri": "https://localhost:8080/"
        },
        "id": "1dDG6YPtRMB9",
        "outputId": "3632b548-5c24-400d-b3ce-8fe0bad42704"
      },
      "execution_count": 34,
      "outputs": [
        {
          "output_type": "execute_result",
          "data": {
            "text/plain": [
              "AMZN     0.229980\n",
              "YHOO     1.858048\n",
              "IBM     -0.707396\n",
              "AAPL     0.620195\n",
              "^GSPC    1.414658\n",
              "dtype: float64"
            ]
          },
          "metadata": {},
          "execution_count": 34
        }
      ]
    },
    {
      "cell_type": "markdown",
      "source": [
        "We would rank the assets similarly using the second method for the expected return estimation but the actual values of the Sharpe ratio vary substantially."
      ],
      "metadata": {
        "id": "KV7H8FPTRQsT"
      }
    },
    {
      "cell_type": "markdown",
      "source": [
        "## <font color='orange' style=\"font-size:25px\"><b>Let us now write functions that do these calculations (and will be used a lot)</b></font>"
      ],
      "metadata": {
        "id": "kpE3blfhRVg2"
      }
    },
    {
      "cell_type": "markdown",
      "source": [
        "In order to avoid unnecessary repetitions in our calculations, we here present the functions that can later be used to automatize expected returns, standard deviation, and Sharpe ratio calculations."
      ],
      "metadata": {
        "id": "B5-uirn6RYTD"
      }
    },
    {
      "cell_type": "code",
      "source": [
        "def expRet(ret,n=252,com=False):\n",
        "  \"\"\"Calculates expected return in one of two methods. Parameters are\n",
        "  -ret: Pandas' DataFrame or Series of returns\n",
        "  -n: optional, number of compounding periods in year(252 for days, 52 for weeks, 12 for months, 4 for quarters...)\n",
        "  -com: optional, determines wheter expected returns are calculate as sample mean or anualized compounded return\n",
        "      Selecting True we use compounded returns estimation\n",
        "\"\"\"\n",
        "  if com:\n",
        "    return (1+ret).prod()**(n/len(ret))-1\n",
        "  else:\n",
        "    return ret.mean()*n\n"
      ],
      "metadata": {
        "id": "QTqtDZN8RXos"
      },
      "execution_count": 36,
      "outputs": []
    },
    {
      "cell_type": "markdown",
      "source": [
        "Applying this function on previously created data set of returns to calculate expected return based on first method (annualized sample mean):"
      ],
      "metadata": {
        "id": "hJjk4g7ESq3w"
      }
    },
    {
      "cell_type": "code",
      "source": [
        "er1=expRet(returns,252) #Using the arithmetic mean\n",
        "er1"
      ],
      "metadata": {
        "colab": {
          "base_uri": "https://localhost:8080/"
        },
        "id": "n0asFG3OSr_Z",
        "outputId": "c2057b91-fcc0-4f17-c28f-2c7f53ae0f08"
      },
      "execution_count": 37,
      "outputs": [
        {
          "output_type": "execute_result",
          "data": {
            "text/plain": [
              "AMZN     0.138659\n",
              "YHOO     0.507439\n",
              "IBM     -0.085088\n",
              "AAPL     0.203447\n",
              "^GSPC    0.177588\n",
              "dtype: float64"
            ]
          },
          "metadata": {},
          "execution_count": 37
        }
      ]
    },
    {
      "cell_type": "markdown",
      "source": [
        "Now calculate expected returns using the second method (i.e. annualized compounded sample returns):"
      ],
      "metadata": {
        "id": "RZc5E2OsS1Jg"
      }
    },
    {
      "cell_type": "code",
      "source": [
        "er2=expRet(returns,252,True) #Using the geometric mean\n",
        "er2"
      ],
      "metadata": {
        "colab": {
          "base_uri": "https://localhost:8080/"
        },
        "id": "L29Wgh3vS17i",
        "outputId": "622897a4-7fbf-4113-faec-7fe05d2454ab"
      },
      "execution_count": 38,
      "outputs": [
        {
          "output_type": "execute_result",
          "data": {
            "text/plain": [
              "AMZN     0.098445\n",
              "YHOO     0.587468\n",
              "IBM     -0.096239\n",
              "AAPL     0.186707\n",
              "^GSPC    0.186941\n",
              "dtype: float64"
            ]
          },
          "metadata": {},
          "execution_count": 38
        }
      ]
    },
    {
      "cell_type": "markdown",
      "source": [
        "Next, let us now define function which calculates annualized volatility of sample returns:"
      ],
      "metadata": {
        "id": "onGvBqCiS9vC"
      }
    },
    {
      "cell_type": "code",
      "source": [
        "def annualize_vol(ret,n=252):\n",
        "  \"\"\"Calculates volatility of sample returns. Parameters are:\n",
        "  -ret: pandas' DataFrame or series of returns\n",
        "  - n: optional, number of compounding periods in a year(252 for days, 52 for weeks, 12 for months, 4 for quarters)\n",
        "  \"\"\"\n",
        "  return ret.std()*n**0.5"
      ],
      "metadata": {
        "id": "wlIG1IA_S-vk"
      },
      "execution_count": 39,
      "outputs": []
    },
    {
      "cell_type": "markdown",
      "source": [
        "Now use it to calculate volatility of each stock. Which stock is the most risky? Is this the same stock which has the highest returns? What do you concludes?"
      ],
      "metadata": {
        "id": "Xcl9UAAKTkvq"
      }
    },
    {
      "cell_type": "code",
      "source": [
        "annualize_vol(returns,252)"
      ],
      "metadata": {
        "colab": {
          "base_uri": "https://localhost:8080/"
        },
        "id": "oCUbq2FpTlbo",
        "outputId": "91d3d9e9-2710-4e79-fa50-caf95e78f3a9"
      },
      "execution_count": 40,
      "outputs": [
        {
          "output_type": "execute_result",
          "data": {
            "text/plain": [
              "AMZN     0.297614\n",
              "YHOO     0.300029\n",
              "IBM      0.178456\n",
              "AAPL     0.252674\n",
              "^GSPC    0.110939\n",
              "dtype: float64"
            ]
          },
          "metadata": {},
          "execution_count": 40
        }
      ]
    },
    {
      "cell_type": "markdown",
      "source": [
        "Finally, we are going to define function which calculates the Sharpe ratio. In its construction we consider both approaches of expected returns calculation. Also, we give user the opportunity to set her own annualized risk-free rate:"
      ],
      "metadata": {
        "id": "6948NKRgTqEc"
      }
    },
    {
      "cell_type": "code",
      "source": [
        "def sharpe(ret,n=252,rf=0,com=False):\n",
        "  \"\"\"Calculate Sharpe's ratio. Parameters are:\n",
        "  -ret: Pandas' DataFrame or series of returns\n",
        "  -rf: optional, risk free rate(should be given as decimal, if it is omitted, we asume it to be zero)\n",
        "  -n: optional, number of compounding periods in a year(252 for days, 52 for weeks, 12 for months, 4 for quarters...)\n",
        "  com: optional, determines whether expected returns are calcualted as annualized sample mean or annualized compounded return\n",
        "    selecting True we select compounded returns estimation for the expected returns\n",
        "    \"\"\"\n",
        "  return(expRet(ret,n,com)-rf)/annualize_vol(ret,n)"
      ],
      "metadata": {
        "id": "SjJRjSXATq0A"
      },
      "execution_count": 43,
      "outputs": []
    },
    {
      "cell_type": "markdown",
      "source": [
        "Calculate the Sharpe ratio for each stock in the sample under assumption that risk-free rate is 3% annually. If we calculate expected returns using the first approach, the Sharpe ratio is:"
      ],
      "metadata": {
        "id": "eQI0cptVUt4G"
      }
    },
    {
      "cell_type": "code",
      "source": [
        "sharpe(returns,252,rf=0.03)"
      ],
      "metadata": {
        "colab": {
          "base_uri": "https://localhost:8080/"
        },
        "id": "ByTgAmtrUu12",
        "outputId": "6c4119a1-8646-440c-a2db-e5899582422a"
      },
      "execution_count": 44,
      "outputs": [
        {
          "output_type": "execute_result",
          "data": {
            "text/plain": [
              "AMZN     0.365101\n",
              "YHOO     1.591310\n",
              "IBM     -0.644909\n",
              "AAPL     0.686445\n",
              "^GSPC    1.330352\n",
              "dtype: float64"
            ]
          },
          "metadata": {},
          "execution_count": 44
        }
      ]
    },
    {
      "cell_type": "markdown",
      "source": [
        "Note that the second argument n is an optional argument equal by default to 252. Thus, we could skip 252 as the second argument."
      ],
      "metadata": {
        "id": "-IoFBC7TU1Pl"
      }
    },
    {
      "cell_type": "code",
      "source": [
        "sharpe(returns,rf=0.03)"
      ],
      "metadata": {
        "colab": {
          "base_uri": "https://localhost:8080/"
        },
        "id": "1teFSUNuU2I1",
        "outputId": "57a1a2e0-a9f6-46d2-e834-529293c67265"
      },
      "execution_count": 45,
      "outputs": [
        {
          "output_type": "execute_result",
          "data": {
            "text/plain": [
              "AMZN     0.365101\n",
              "YHOO     1.591310\n",
              "IBM     -0.644909\n",
              "AAPL     0.686445\n",
              "^GSPC    1.330352\n",
              "dtype: float64"
            ]
          },
          "metadata": {},
          "execution_count": 45
        }
      ]
    },
    {
      "cell_type": "markdown",
      "source": [
        "The second approach leads to:"
      ],
      "metadata": {
        "id": "shl_Whq_U52e"
      }
    },
    {
      "cell_type": "code",
      "source": [
        "sharpe(returns,252,rf=0.03,com=True)"
      ],
      "metadata": {
        "colab": {
          "base_uri": "https://localhost:8080/"
        },
        "id": "r1_ECWz4U6dE",
        "outputId": "28c44cc1-18ba-4c15-964b-a2eee72324c4"
      },
      "execution_count": 46,
      "outputs": [
        {
          "output_type": "execute_result",
          "data": {
            "text/plain": [
              "AMZN     0.229980\n",
              "YHOO     1.858048\n",
              "IBM     -0.707396\n",
              "AAPL     0.620195\n",
              "^GSPC    1.414658\n",
              "dtype: float64"
            ]
          },
          "metadata": {},
          "execution_count": 46
        }
      ]
    },
    {
      "cell_type": "markdown",
      "source": [
        "### <font color='MediumVioletRed' style=\"font-size:20px\"><b>Data set for Fama-French model</b></font>"
      ],
      "metadata": {
        "id": "fbyySmq5VLAF"
      }
    },
    {
      "cell_type": "markdown",
      "source": [
        "Here we have a large data set capturing historical performance of the US stock market. The data represents monthly returns in percentage points. Portfolios are formed by market caps. Thus, one portfolio are stocks in the first decile by market cap, the second decile by market cap, etc."
      ],
      "metadata": {
        "id": "3NUIP6XIWFfH"
      }
    },
    {
      "cell_type": "code",
      "source": [
        "from google.colab import files\n",
        "uploaded2=files.upload()"
      ],
      "metadata": {
        "id": "ocZ_G5AAWFKJ",
        "outputId": "c4a9a24c-0b91-4b49-bebf-8dd6f68227ae",
        "colab": {
          "base_uri": "https://localhost:8080/",
          "height": 73
        }
      },
      "execution_count": 47,
      "outputs": [
        {
          "output_type": "display_data",
          "data": {
            "text/plain": [
              "<IPython.core.display.HTML object>"
            ],
            "text/html": [
              "\n",
              "     <input type=\"file\" id=\"files-a74b6348-2859-4efe-911c-533bd1f61e36\" name=\"files[]\" multiple disabled\n",
              "        style=\"border:none\" />\n",
              "     <output id=\"result-a74b6348-2859-4efe-911c-533bd1f61e36\">\n",
              "      Upload widget is only available when the cell has been executed in the\n",
              "      current browser session. Please rerun this cell to enable.\n",
              "      </output>\n",
              "      <script>// Copyright 2017 Google LLC\n",
              "//\n",
              "// Licensed under the Apache License, Version 2.0 (the \"License\");\n",
              "// you may not use this file except in compliance with the License.\n",
              "// You may obtain a copy of the License at\n",
              "//\n",
              "//      http://www.apache.org/licenses/LICENSE-2.0\n",
              "//\n",
              "// Unless required by applicable law or agreed to in writing, software\n",
              "// distributed under the License is distributed on an \"AS IS\" BASIS,\n",
              "// WITHOUT WARRANTIES OR CONDITIONS OF ANY KIND, either express or implied.\n",
              "// See the License for the specific language governing permissions and\n",
              "// limitations under the License.\n",
              "\n",
              "/**\n",
              " * @fileoverview Helpers for google.colab Python module.\n",
              " */\n",
              "(function(scope) {\n",
              "function span(text, styleAttributes = {}) {\n",
              "  const element = document.createElement('span');\n",
              "  element.textContent = text;\n",
              "  for (const key of Object.keys(styleAttributes)) {\n",
              "    element.style[key] = styleAttributes[key];\n",
              "  }\n",
              "  return element;\n",
              "}\n",
              "\n",
              "// Max number of bytes which will be uploaded at a time.\n",
              "const MAX_PAYLOAD_SIZE = 100 * 1024;\n",
              "\n",
              "function _uploadFiles(inputId, outputId) {\n",
              "  const steps = uploadFilesStep(inputId, outputId);\n",
              "  const outputElement = document.getElementById(outputId);\n",
              "  // Cache steps on the outputElement to make it available for the next call\n",
              "  // to uploadFilesContinue from Python.\n",
              "  outputElement.steps = steps;\n",
              "\n",
              "  return _uploadFilesContinue(outputId);\n",
              "}\n",
              "\n",
              "// This is roughly an async generator (not supported in the browser yet),\n",
              "// where there are multiple asynchronous steps and the Python side is going\n",
              "// to poll for completion of each step.\n",
              "// This uses a Promise to block the python side on completion of each step,\n",
              "// then passes the result of the previous step as the input to the next step.\n",
              "function _uploadFilesContinue(outputId) {\n",
              "  const outputElement = document.getElementById(outputId);\n",
              "  const steps = outputElement.steps;\n",
              "\n",
              "  const next = steps.next(outputElement.lastPromiseValue);\n",
              "  return Promise.resolve(next.value.promise).then((value) => {\n",
              "    // Cache the last promise value to make it available to the next\n",
              "    // step of the generator.\n",
              "    outputElement.lastPromiseValue = value;\n",
              "    return next.value.response;\n",
              "  });\n",
              "}\n",
              "\n",
              "/**\n",
              " * Generator function which is called between each async step of the upload\n",
              " * process.\n",
              " * @param {string} inputId Element ID of the input file picker element.\n",
              " * @param {string} outputId Element ID of the output display.\n",
              " * @return {!Iterable<!Object>} Iterable of next steps.\n",
              " */\n",
              "function* uploadFilesStep(inputId, outputId) {\n",
              "  const inputElement = document.getElementById(inputId);\n",
              "  inputElement.disabled = false;\n",
              "\n",
              "  const outputElement = document.getElementById(outputId);\n",
              "  outputElement.innerHTML = '';\n",
              "\n",
              "  const pickedPromise = new Promise((resolve) => {\n",
              "    inputElement.addEventListener('change', (e) => {\n",
              "      resolve(e.target.files);\n",
              "    });\n",
              "  });\n",
              "\n",
              "  const cancel = document.createElement('button');\n",
              "  inputElement.parentElement.appendChild(cancel);\n",
              "  cancel.textContent = 'Cancel upload';\n",
              "  const cancelPromise = new Promise((resolve) => {\n",
              "    cancel.onclick = () => {\n",
              "      resolve(null);\n",
              "    };\n",
              "  });\n",
              "\n",
              "  // Wait for the user to pick the files.\n",
              "  const files = yield {\n",
              "    promise: Promise.race([pickedPromise, cancelPromise]),\n",
              "    response: {\n",
              "      action: 'starting',\n",
              "    }\n",
              "  };\n",
              "\n",
              "  cancel.remove();\n",
              "\n",
              "  // Disable the input element since further picks are not allowed.\n",
              "  inputElement.disabled = true;\n",
              "\n",
              "  if (!files) {\n",
              "    return {\n",
              "      response: {\n",
              "        action: 'complete',\n",
              "      }\n",
              "    };\n",
              "  }\n",
              "\n",
              "  for (const file of files) {\n",
              "    const li = document.createElement('li');\n",
              "    li.append(span(file.name, {fontWeight: 'bold'}));\n",
              "    li.append(span(\n",
              "        `(${file.type || 'n/a'}) - ${file.size} bytes, ` +\n",
              "        `last modified: ${\n",
              "            file.lastModifiedDate ? file.lastModifiedDate.toLocaleDateString() :\n",
              "                                    'n/a'} - `));\n",
              "    const percent = span('0% done');\n",
              "    li.appendChild(percent);\n",
              "\n",
              "    outputElement.appendChild(li);\n",
              "\n",
              "    const fileDataPromise = new Promise((resolve) => {\n",
              "      const reader = new FileReader();\n",
              "      reader.onload = (e) => {\n",
              "        resolve(e.target.result);\n",
              "      };\n",
              "      reader.readAsArrayBuffer(file);\n",
              "    });\n",
              "    // Wait for the data to be ready.\n",
              "    let fileData = yield {\n",
              "      promise: fileDataPromise,\n",
              "      response: {\n",
              "        action: 'continue',\n",
              "      }\n",
              "    };\n",
              "\n",
              "    // Use a chunked sending to avoid message size limits. See b/62115660.\n",
              "    let position = 0;\n",
              "    do {\n",
              "      const length = Math.min(fileData.byteLength - position, MAX_PAYLOAD_SIZE);\n",
              "      const chunk = new Uint8Array(fileData, position, length);\n",
              "      position += length;\n",
              "\n",
              "      const base64 = btoa(String.fromCharCode.apply(null, chunk));\n",
              "      yield {\n",
              "        response: {\n",
              "          action: 'append',\n",
              "          file: file.name,\n",
              "          data: base64,\n",
              "        },\n",
              "      };\n",
              "\n",
              "      let percentDone = fileData.byteLength === 0 ?\n",
              "          100 :\n",
              "          Math.round((position / fileData.byteLength) * 100);\n",
              "      percent.textContent = `${percentDone}% done`;\n",
              "\n",
              "    } while (position < fileData.byteLength);\n",
              "  }\n",
              "\n",
              "  // All done.\n",
              "  yield {\n",
              "    response: {\n",
              "      action: 'complete',\n",
              "    }\n",
              "  };\n",
              "}\n",
              "\n",
              "scope.google = scope.google || {};\n",
              "scope.google.colab = scope.google.colab || {};\n",
              "scope.google.colab._files = {\n",
              "  _uploadFiles,\n",
              "  _uploadFilesContinue,\n",
              "};\n",
              "})(self);\n",
              "</script> "
            ]
          },
          "metadata": {}
        },
        {
          "output_type": "stream",
          "name": "stdout",
          "text": [
            "Saving Portfolios_Formed_on_ME_Branko.csv to Portfolios_Formed_on_ME_Branko.csv\n"
          ]
        }
      ]
    },
    {
      "cell_type": "code",
      "source": [
        "returnsFF = pd.read_csv(\"Portfolios_Formed_on_ME_Branko.csv\",header=0,index_col=0,parse_dates=True,na_values=-99.99)\n",
        "returnsFF"
      ],
      "metadata": {
        "id": "K-0IZn7BWOwB",
        "outputId": "27eee63b-7c3a-4562-c8b2-11ed093883fb",
        "colab": {
          "base_uri": "https://localhost:8080/",
          "height": 461
        }
      },
      "execution_count": 49,
      "outputs": [
        {
          "output_type": "execute_result",
          "data": {
            "text/plain": [
              "        <= 0  Lo 30  Med 40  Hi 30  Lo 20  Qnt 2  Qnt 3  Qnt 4  Hi 20  Lo 10  \\\n",
              "192607   NaN   0.14    1.59   3.42   0.37   0.78   1.68   1.39   3.67  -0.12   \n",
              "192608   NaN   3.21    2.77   2.91   2.26   3.51   3.75   1.53   3.07   1.33   \n",
              "192609   NaN  -1.74   -0.88   0.80  -1.39  -1.06   0.05  -0.26   0.81   0.59   \n",
              "192610   NaN  -2.94   -3.28  -2.79  -2.57  -3.93  -2.67  -3.38  -2.74  -4.33   \n",
              "192611   NaN  -0.38    3.73   2.74  -0.95   2.94   3.52   3.25   2.71  -3.30   \n",
              "...      ...    ...     ...    ...    ...    ...    ...    ...    ...    ...   \n",
              "201908   NaN  -6.47   -5.13  -1.94  -6.33  -5.41  -5.66  -4.38  -1.75  -5.63   \n",
              "201909   NaN   2.78    1.65   1.64   2.92   2.35   1.67   1.73   1.62   2.48   \n",
              "201910   NaN   0.90    1.88   2.31   0.06   2.73   2.14   0.87   2.43  -1.83   \n",
              "201911   NaN   5.28    4.41   3.90   5.05   4.62   4.34   5.03   3.78   3.17   \n",
              "201912   NaN   5.78    2.45   2.86   6.22   4.07   2.43   2.00   2.94   5.04   \n",
              "\n",
              "        2-Dec  3-Dec  4-Dec  5-Dec  6-Dec  7-Dec  8-Dec  9-Dec  Hi 10  \n",
              "192607   0.52  -0.05   1.31   1.21   2.04   1.58   1.29   3.53   3.71  \n",
              "192608   2.55   4.00   3.20   2.81   4.45   1.61   1.49   0.61   3.79  \n",
              "192609  -2.00  -2.01  -0.46  -0.06   0.14  -2.02   0.74  -0.77   1.25  \n",
              "192610  -2.01  -3.25  -4.35  -2.93  -2.48  -3.60  -3.26  -3.36  -2.56  \n",
              "192611  -0.23   0.08   4.74   3.64   3.44   3.63   3.05   3.86   2.40  \n",
              "...       ...    ...    ...    ...    ...    ...    ...    ...    ...  \n",
              "201908  -6.73  -6.62  -4.64  -6.17  -5.28  -4.69  -4.19  -2.64  -1.58  \n",
              "201909   3.17   2.62   2.18   1.10   2.09   1.43   1.91   1.27   1.69  \n",
              "201910   1.15   1.90   3.24   3.06   1.46   1.07   0.75   0.45   2.82  \n",
              "201911   6.12   5.55   4.06   4.54   4.19   4.62   5.28   3.83   3.78  \n",
              "201912   6.86   5.26   3.35   2.47   2.41   2.13   1.92   2.59   3.01  \n",
              "\n",
              "[1122 rows x 19 columns]"
            ],
            "text/html": [
              "\n",
              "  <div id=\"df-63a96de3-6faa-49d7-bbdb-6a0f2d9ab463\" class=\"colab-df-container\">\n",
              "    <div>\n",
              "<style scoped>\n",
              "    .dataframe tbody tr th:only-of-type {\n",
              "        vertical-align: middle;\n",
              "    }\n",
              "\n",
              "    .dataframe tbody tr th {\n",
              "        vertical-align: top;\n",
              "    }\n",
              "\n",
              "    .dataframe thead th {\n",
              "        text-align: right;\n",
              "    }\n",
              "</style>\n",
              "<table border=\"1\" class=\"dataframe\">\n",
              "  <thead>\n",
              "    <tr style=\"text-align: right;\">\n",
              "      <th></th>\n",
              "      <th>&lt;= 0</th>\n",
              "      <th>Lo 30</th>\n",
              "      <th>Med 40</th>\n",
              "      <th>Hi 30</th>\n",
              "      <th>Lo 20</th>\n",
              "      <th>Qnt 2</th>\n",
              "      <th>Qnt 3</th>\n",
              "      <th>Qnt 4</th>\n",
              "      <th>Hi 20</th>\n",
              "      <th>Lo 10</th>\n",
              "      <th>2-Dec</th>\n",
              "      <th>3-Dec</th>\n",
              "      <th>4-Dec</th>\n",
              "      <th>5-Dec</th>\n",
              "      <th>6-Dec</th>\n",
              "      <th>7-Dec</th>\n",
              "      <th>8-Dec</th>\n",
              "      <th>9-Dec</th>\n",
              "      <th>Hi 10</th>\n",
              "    </tr>\n",
              "  </thead>\n",
              "  <tbody>\n",
              "    <tr>\n",
              "      <th>192607</th>\n",
              "      <td>NaN</td>\n",
              "      <td>0.14</td>\n",
              "      <td>1.59</td>\n",
              "      <td>3.42</td>\n",
              "      <td>0.37</td>\n",
              "      <td>0.78</td>\n",
              "      <td>1.68</td>\n",
              "      <td>1.39</td>\n",
              "      <td>3.67</td>\n",
              "      <td>-0.12</td>\n",
              "      <td>0.52</td>\n",
              "      <td>-0.05</td>\n",
              "      <td>1.31</td>\n",
              "      <td>1.21</td>\n",
              "      <td>2.04</td>\n",
              "      <td>1.58</td>\n",
              "      <td>1.29</td>\n",
              "      <td>3.53</td>\n",
              "      <td>3.71</td>\n",
              "    </tr>\n",
              "    <tr>\n",
              "      <th>192608</th>\n",
              "      <td>NaN</td>\n",
              "      <td>3.21</td>\n",
              "      <td>2.77</td>\n",
              "      <td>2.91</td>\n",
              "      <td>2.26</td>\n",
              "      <td>3.51</td>\n",
              "      <td>3.75</td>\n",
              "      <td>1.53</td>\n",
              "      <td>3.07</td>\n",
              "      <td>1.33</td>\n",
              "      <td>2.55</td>\n",
              "      <td>4.00</td>\n",
              "      <td>3.20</td>\n",
              "      <td>2.81</td>\n",
              "      <td>4.45</td>\n",
              "      <td>1.61</td>\n",
              "      <td>1.49</td>\n",
              "      <td>0.61</td>\n",
              "      <td>3.79</td>\n",
              "    </tr>\n",
              "    <tr>\n",
              "      <th>192609</th>\n",
              "      <td>NaN</td>\n",
              "      <td>-1.74</td>\n",
              "      <td>-0.88</td>\n",
              "      <td>0.80</td>\n",
              "      <td>-1.39</td>\n",
              "      <td>-1.06</td>\n",
              "      <td>0.05</td>\n",
              "      <td>-0.26</td>\n",
              "      <td>0.81</td>\n",
              "      <td>0.59</td>\n",
              "      <td>-2.00</td>\n",
              "      <td>-2.01</td>\n",
              "      <td>-0.46</td>\n",
              "      <td>-0.06</td>\n",
              "      <td>0.14</td>\n",
              "      <td>-2.02</td>\n",
              "      <td>0.74</td>\n",
              "      <td>-0.77</td>\n",
              "      <td>1.25</td>\n",
              "    </tr>\n",
              "    <tr>\n",
              "      <th>192610</th>\n",
              "      <td>NaN</td>\n",
              "      <td>-2.94</td>\n",
              "      <td>-3.28</td>\n",
              "      <td>-2.79</td>\n",
              "      <td>-2.57</td>\n",
              "      <td>-3.93</td>\n",
              "      <td>-2.67</td>\n",
              "      <td>-3.38</td>\n",
              "      <td>-2.74</td>\n",
              "      <td>-4.33</td>\n",
              "      <td>-2.01</td>\n",
              "      <td>-3.25</td>\n",
              "      <td>-4.35</td>\n",
              "      <td>-2.93</td>\n",
              "      <td>-2.48</td>\n",
              "      <td>-3.60</td>\n",
              "      <td>-3.26</td>\n",
              "      <td>-3.36</td>\n",
              "      <td>-2.56</td>\n",
              "    </tr>\n",
              "    <tr>\n",
              "      <th>192611</th>\n",
              "      <td>NaN</td>\n",
              "      <td>-0.38</td>\n",
              "      <td>3.73</td>\n",
              "      <td>2.74</td>\n",
              "      <td>-0.95</td>\n",
              "      <td>2.94</td>\n",
              "      <td>3.52</td>\n",
              "      <td>3.25</td>\n",
              "      <td>2.71</td>\n",
              "      <td>-3.30</td>\n",
              "      <td>-0.23</td>\n",
              "      <td>0.08</td>\n",
              "      <td>4.74</td>\n",
              "      <td>3.64</td>\n",
              "      <td>3.44</td>\n",
              "      <td>3.63</td>\n",
              "      <td>3.05</td>\n",
              "      <td>3.86</td>\n",
              "      <td>2.40</td>\n",
              "    </tr>\n",
              "    <tr>\n",
              "      <th>...</th>\n",
              "      <td>...</td>\n",
              "      <td>...</td>\n",
              "      <td>...</td>\n",
              "      <td>...</td>\n",
              "      <td>...</td>\n",
              "      <td>...</td>\n",
              "      <td>...</td>\n",
              "      <td>...</td>\n",
              "      <td>...</td>\n",
              "      <td>...</td>\n",
              "      <td>...</td>\n",
              "      <td>...</td>\n",
              "      <td>...</td>\n",
              "      <td>...</td>\n",
              "      <td>...</td>\n",
              "      <td>...</td>\n",
              "      <td>...</td>\n",
              "      <td>...</td>\n",
              "      <td>...</td>\n",
              "    </tr>\n",
              "    <tr>\n",
              "      <th>201908</th>\n",
              "      <td>NaN</td>\n",
              "      <td>-6.47</td>\n",
              "      <td>-5.13</td>\n",
              "      <td>-1.94</td>\n",
              "      <td>-6.33</td>\n",
              "      <td>-5.41</td>\n",
              "      <td>-5.66</td>\n",
              "      <td>-4.38</td>\n",
              "      <td>-1.75</td>\n",
              "      <td>-5.63</td>\n",
              "      <td>-6.73</td>\n",
              "      <td>-6.62</td>\n",
              "      <td>-4.64</td>\n",
              "      <td>-6.17</td>\n",
              "      <td>-5.28</td>\n",
              "      <td>-4.69</td>\n",
              "      <td>-4.19</td>\n",
              "      <td>-2.64</td>\n",
              "      <td>-1.58</td>\n",
              "    </tr>\n",
              "    <tr>\n",
              "      <th>201909</th>\n",
              "      <td>NaN</td>\n",
              "      <td>2.78</td>\n",
              "      <td>1.65</td>\n",
              "      <td>1.64</td>\n",
              "      <td>2.92</td>\n",
              "      <td>2.35</td>\n",
              "      <td>1.67</td>\n",
              "      <td>1.73</td>\n",
              "      <td>1.62</td>\n",
              "      <td>2.48</td>\n",
              "      <td>3.17</td>\n",
              "      <td>2.62</td>\n",
              "      <td>2.18</td>\n",
              "      <td>1.10</td>\n",
              "      <td>2.09</td>\n",
              "      <td>1.43</td>\n",
              "      <td>1.91</td>\n",
              "      <td>1.27</td>\n",
              "      <td>1.69</td>\n",
              "    </tr>\n",
              "    <tr>\n",
              "      <th>201910</th>\n",
              "      <td>NaN</td>\n",
              "      <td>0.90</td>\n",
              "      <td>1.88</td>\n",
              "      <td>2.31</td>\n",
              "      <td>0.06</td>\n",
              "      <td>2.73</td>\n",
              "      <td>2.14</td>\n",
              "      <td>0.87</td>\n",
              "      <td>2.43</td>\n",
              "      <td>-1.83</td>\n",
              "      <td>1.15</td>\n",
              "      <td>1.90</td>\n",
              "      <td>3.24</td>\n",
              "      <td>3.06</td>\n",
              "      <td>1.46</td>\n",
              "      <td>1.07</td>\n",
              "      <td>0.75</td>\n",
              "      <td>0.45</td>\n",
              "      <td>2.82</td>\n",
              "    </tr>\n",
              "    <tr>\n",
              "      <th>201911</th>\n",
              "      <td>NaN</td>\n",
              "      <td>5.28</td>\n",
              "      <td>4.41</td>\n",
              "      <td>3.90</td>\n",
              "      <td>5.05</td>\n",
              "      <td>4.62</td>\n",
              "      <td>4.34</td>\n",
              "      <td>5.03</td>\n",
              "      <td>3.78</td>\n",
              "      <td>3.17</td>\n",
              "      <td>6.12</td>\n",
              "      <td>5.55</td>\n",
              "      <td>4.06</td>\n",
              "      <td>4.54</td>\n",
              "      <td>4.19</td>\n",
              "      <td>4.62</td>\n",
              "      <td>5.28</td>\n",
              "      <td>3.83</td>\n",
              "      <td>3.78</td>\n",
              "    </tr>\n",
              "    <tr>\n",
              "      <th>201912</th>\n",
              "      <td>NaN</td>\n",
              "      <td>5.78</td>\n",
              "      <td>2.45</td>\n",
              "      <td>2.86</td>\n",
              "      <td>6.22</td>\n",
              "      <td>4.07</td>\n",
              "      <td>2.43</td>\n",
              "      <td>2.00</td>\n",
              "      <td>2.94</td>\n",
              "      <td>5.04</td>\n",
              "      <td>6.86</td>\n",
              "      <td>5.26</td>\n",
              "      <td>3.35</td>\n",
              "      <td>2.47</td>\n",
              "      <td>2.41</td>\n",
              "      <td>2.13</td>\n",
              "      <td>1.92</td>\n",
              "      <td>2.59</td>\n",
              "      <td>3.01</td>\n",
              "    </tr>\n",
              "  </tbody>\n",
              "</table>\n",
              "<p>1122 rows × 19 columns</p>\n",
              "</div>\n",
              "    <div class=\"colab-df-buttons\">\n",
              "\n",
              "  <div class=\"colab-df-container\">\n",
              "    <button class=\"colab-df-convert\" onclick=\"convertToInteractive('df-63a96de3-6faa-49d7-bbdb-6a0f2d9ab463')\"\n",
              "            title=\"Convert this dataframe to an interactive table.\"\n",
              "            style=\"display:none;\">\n",
              "\n",
              "  <svg xmlns=\"http://www.w3.org/2000/svg\" height=\"24px\" viewBox=\"0 -960 960 960\">\n",
              "    <path d=\"M120-120v-720h720v720H120Zm60-500h600v-160H180v160Zm220 220h160v-160H400v160Zm0 220h160v-160H400v160ZM180-400h160v-160H180v160Zm440 0h160v-160H620v160ZM180-180h160v-160H180v160Zm440 0h160v-160H620v160Z\"/>\n",
              "  </svg>\n",
              "    </button>\n",
              "\n",
              "  <style>\n",
              "    .colab-df-container {\n",
              "      display:flex;\n",
              "      gap: 12px;\n",
              "    }\n",
              "\n",
              "    .colab-df-convert {\n",
              "      background-color: #E8F0FE;\n",
              "      border: none;\n",
              "      border-radius: 50%;\n",
              "      cursor: pointer;\n",
              "      display: none;\n",
              "      fill: #1967D2;\n",
              "      height: 32px;\n",
              "      padding: 0 0 0 0;\n",
              "      width: 32px;\n",
              "    }\n",
              "\n",
              "    .colab-df-convert:hover {\n",
              "      background-color: #E2EBFA;\n",
              "      box-shadow: 0px 1px 2px rgba(60, 64, 67, 0.3), 0px 1px 3px 1px rgba(60, 64, 67, 0.15);\n",
              "      fill: #174EA6;\n",
              "    }\n",
              "\n",
              "    .colab-df-buttons div {\n",
              "      margin-bottom: 4px;\n",
              "    }\n",
              "\n",
              "    [theme=dark] .colab-df-convert {\n",
              "      background-color: #3B4455;\n",
              "      fill: #D2E3FC;\n",
              "    }\n",
              "\n",
              "    [theme=dark] .colab-df-convert:hover {\n",
              "      background-color: #434B5C;\n",
              "      box-shadow: 0px 1px 3px 1px rgba(0, 0, 0, 0.15);\n",
              "      filter: drop-shadow(0px 1px 2px rgba(0, 0, 0, 0.3));\n",
              "      fill: #FFFFFF;\n",
              "    }\n",
              "  </style>\n",
              "\n",
              "    <script>\n",
              "      const buttonEl =\n",
              "        document.querySelector('#df-63a96de3-6faa-49d7-bbdb-6a0f2d9ab463 button.colab-df-convert');\n",
              "      buttonEl.style.display =\n",
              "        google.colab.kernel.accessAllowed ? 'block' : 'none';\n",
              "\n",
              "      async function convertToInteractive(key) {\n",
              "        const element = document.querySelector('#df-63a96de3-6faa-49d7-bbdb-6a0f2d9ab463');\n",
              "        const dataTable =\n",
              "          await google.colab.kernel.invokeFunction('convertToInteractive',\n",
              "                                                    [key], {});\n",
              "        if (!dataTable) return;\n",
              "\n",
              "        const docLinkHtml = 'Like what you see? Visit the ' +\n",
              "          '<a target=\"_blank\" href=https://colab.research.google.com/notebooks/data_table.ipynb>data table notebook</a>'\n",
              "          + ' to learn more about interactive tables.';\n",
              "        element.innerHTML = '';\n",
              "        dataTable['output_type'] = 'display_data';\n",
              "        await google.colab.output.renderOutput(dataTable, element);\n",
              "        const docLink = document.createElement('div');\n",
              "        docLink.innerHTML = docLinkHtml;\n",
              "        element.appendChild(docLink);\n",
              "      }\n",
              "    </script>\n",
              "  </div>\n",
              "\n",
              "\n",
              "<div id=\"df-cb86b2a9-c45a-4da8-bb6e-0e80d804c843\">\n",
              "  <button class=\"colab-df-quickchart\" onclick=\"quickchart('df-cb86b2a9-c45a-4da8-bb6e-0e80d804c843')\"\n",
              "            title=\"Suggest charts.\"\n",
              "            style=\"display:none;\">\n",
              "\n",
              "<svg xmlns=\"http://www.w3.org/2000/svg\" height=\"24px\"viewBox=\"0 0 24 24\"\n",
              "     width=\"24px\">\n",
              "    <g>\n",
              "        <path d=\"M19 3H5c-1.1 0-2 .9-2 2v14c0 1.1.9 2 2 2h14c1.1 0 2-.9 2-2V5c0-1.1-.9-2-2-2zM9 17H7v-7h2v7zm4 0h-2V7h2v10zm4 0h-2v-4h2v4z\"/>\n",
              "    </g>\n",
              "</svg>\n",
              "  </button>\n",
              "\n",
              "<style>\n",
              "  .colab-df-quickchart {\n",
              "    background-color: #E8F0FE;\n",
              "    border: none;\n",
              "    border-radius: 50%;\n",
              "    cursor: pointer;\n",
              "    display: none;\n",
              "    fill: #1967D2;\n",
              "    height: 32px;\n",
              "    padding: 0 0 0 0;\n",
              "    width: 32px;\n",
              "  }\n",
              "\n",
              "  .colab-df-quickchart:hover {\n",
              "    background-color: #E2EBFA;\n",
              "    box-shadow: 0px 1px 2px rgba(60, 64, 67, 0.3), 0px 1px 3px 1px rgba(60, 64, 67, 0.15);\n",
              "    fill: #174EA6;\n",
              "  }\n",
              "\n",
              "  [theme=dark] .colab-df-quickchart {\n",
              "    background-color: #3B4455;\n",
              "    fill: #D2E3FC;\n",
              "  }\n",
              "\n",
              "  [theme=dark] .colab-df-quickchart:hover {\n",
              "    background-color: #434B5C;\n",
              "    box-shadow: 0px 1px 3px 1px rgba(0, 0, 0, 0.15);\n",
              "    filter: drop-shadow(0px 1px 2px rgba(0, 0, 0, 0.3));\n",
              "    fill: #FFFFFF;\n",
              "  }\n",
              "</style>\n",
              "\n",
              "  <script>\n",
              "    async function quickchart(key) {\n",
              "      const charts = await google.colab.kernel.invokeFunction(\n",
              "          'suggestCharts', [key], {});\n",
              "    }\n",
              "    (() => {\n",
              "      let quickchartButtonEl =\n",
              "        document.querySelector('#df-cb86b2a9-c45a-4da8-bb6e-0e80d804c843 button');\n",
              "      quickchartButtonEl.style.display =\n",
              "        google.colab.kernel.accessAllowed ? 'block' : 'none';\n",
              "    })();\n",
              "  </script>\n",
              "</div>\n",
              "    </div>\n",
              "  </div>\n"
            ]
          },
          "metadata": {},
          "execution_count": 49
        }
      ]
    },
    {
      "cell_type": "markdown",
      "source": [
        "Note that here we had to parse the data slightly different. This data set we use again, thus it is convenient to learn how to parse it. It requires some adjustments that some of the other datasets do not require. But, none of the steps is too complicated.\n",
        "\n",
        "We won't bother ourselves with the whole data set. Instead, focus only on two portfolios: Ones with the lowest and the highest companies with respect to market caps."
      ],
      "metadata": {
        "id": "W1Hp4lwVW3Ma"
      }
    },
    {
      "cell_type": "code",
      "source": [
        "returns = returnsFF[['Lo 10','Hi 10']]\n",
        "returns"
      ],
      "metadata": {
        "id": "AzDzZBSbW8qQ",
        "outputId": "d74e1aa0-0199-4b17-9ad7-78c910454850",
        "colab": {
          "base_uri": "https://localhost:8080/",
          "height": 424
        }
      },
      "execution_count": 50,
      "outputs": [
        {
          "output_type": "execute_result",
          "data": {
            "text/plain": [
              "        Lo 10  Hi 10\n",
              "192607  -0.12   3.71\n",
              "192608   1.33   3.79\n",
              "192609   0.59   1.25\n",
              "192610  -4.33  -2.56\n",
              "192611  -3.30   2.40\n",
              "...       ...    ...\n",
              "201908  -5.63  -1.58\n",
              "201909   2.48   1.69\n",
              "201910  -1.83   2.82\n",
              "201911   3.17   3.78\n",
              "201912   5.04   3.01\n",
              "\n",
              "[1122 rows x 2 columns]"
            ],
            "text/html": [
              "\n",
              "  <div id=\"df-084be6ef-7fd2-4380-bd02-cb52c1624900\" class=\"colab-df-container\">\n",
              "    <div>\n",
              "<style scoped>\n",
              "    .dataframe tbody tr th:only-of-type {\n",
              "        vertical-align: middle;\n",
              "    }\n",
              "\n",
              "    .dataframe tbody tr th {\n",
              "        vertical-align: top;\n",
              "    }\n",
              "\n",
              "    .dataframe thead th {\n",
              "        text-align: right;\n",
              "    }\n",
              "</style>\n",
              "<table border=\"1\" class=\"dataframe\">\n",
              "  <thead>\n",
              "    <tr style=\"text-align: right;\">\n",
              "      <th></th>\n",
              "      <th>Lo 10</th>\n",
              "      <th>Hi 10</th>\n",
              "    </tr>\n",
              "  </thead>\n",
              "  <tbody>\n",
              "    <tr>\n",
              "      <th>192607</th>\n",
              "      <td>-0.12</td>\n",
              "      <td>3.71</td>\n",
              "    </tr>\n",
              "    <tr>\n",
              "      <th>192608</th>\n",
              "      <td>1.33</td>\n",
              "      <td>3.79</td>\n",
              "    </tr>\n",
              "    <tr>\n",
              "      <th>192609</th>\n",
              "      <td>0.59</td>\n",
              "      <td>1.25</td>\n",
              "    </tr>\n",
              "    <tr>\n",
              "      <th>192610</th>\n",
              "      <td>-4.33</td>\n",
              "      <td>-2.56</td>\n",
              "    </tr>\n",
              "    <tr>\n",
              "      <th>192611</th>\n",
              "      <td>-3.30</td>\n",
              "      <td>2.40</td>\n",
              "    </tr>\n",
              "    <tr>\n",
              "      <th>...</th>\n",
              "      <td>...</td>\n",
              "      <td>...</td>\n",
              "    </tr>\n",
              "    <tr>\n",
              "      <th>201908</th>\n",
              "      <td>-5.63</td>\n",
              "      <td>-1.58</td>\n",
              "    </tr>\n",
              "    <tr>\n",
              "      <th>201909</th>\n",
              "      <td>2.48</td>\n",
              "      <td>1.69</td>\n",
              "    </tr>\n",
              "    <tr>\n",
              "      <th>201910</th>\n",
              "      <td>-1.83</td>\n",
              "      <td>2.82</td>\n",
              "    </tr>\n",
              "    <tr>\n",
              "      <th>201911</th>\n",
              "      <td>3.17</td>\n",
              "      <td>3.78</td>\n",
              "    </tr>\n",
              "    <tr>\n",
              "      <th>201912</th>\n",
              "      <td>5.04</td>\n",
              "      <td>3.01</td>\n",
              "    </tr>\n",
              "  </tbody>\n",
              "</table>\n",
              "<p>1122 rows × 2 columns</p>\n",
              "</div>\n",
              "    <div class=\"colab-df-buttons\">\n",
              "\n",
              "  <div class=\"colab-df-container\">\n",
              "    <button class=\"colab-df-convert\" onclick=\"convertToInteractive('df-084be6ef-7fd2-4380-bd02-cb52c1624900')\"\n",
              "            title=\"Convert this dataframe to an interactive table.\"\n",
              "            style=\"display:none;\">\n",
              "\n",
              "  <svg xmlns=\"http://www.w3.org/2000/svg\" height=\"24px\" viewBox=\"0 -960 960 960\">\n",
              "    <path d=\"M120-120v-720h720v720H120Zm60-500h600v-160H180v160Zm220 220h160v-160H400v160Zm0 220h160v-160H400v160ZM180-400h160v-160H180v160Zm440 0h160v-160H620v160ZM180-180h160v-160H180v160Zm440 0h160v-160H620v160Z\"/>\n",
              "  </svg>\n",
              "    </button>\n",
              "\n",
              "  <style>\n",
              "    .colab-df-container {\n",
              "      display:flex;\n",
              "      gap: 12px;\n",
              "    }\n",
              "\n",
              "    .colab-df-convert {\n",
              "      background-color: #E8F0FE;\n",
              "      border: none;\n",
              "      border-radius: 50%;\n",
              "      cursor: pointer;\n",
              "      display: none;\n",
              "      fill: #1967D2;\n",
              "      height: 32px;\n",
              "      padding: 0 0 0 0;\n",
              "      width: 32px;\n",
              "    }\n",
              "\n",
              "    .colab-df-convert:hover {\n",
              "      background-color: #E2EBFA;\n",
              "      box-shadow: 0px 1px 2px rgba(60, 64, 67, 0.3), 0px 1px 3px 1px rgba(60, 64, 67, 0.15);\n",
              "      fill: #174EA6;\n",
              "    }\n",
              "\n",
              "    .colab-df-buttons div {\n",
              "      margin-bottom: 4px;\n",
              "    }\n",
              "\n",
              "    [theme=dark] .colab-df-convert {\n",
              "      background-color: #3B4455;\n",
              "      fill: #D2E3FC;\n",
              "    }\n",
              "\n",
              "    [theme=dark] .colab-df-convert:hover {\n",
              "      background-color: #434B5C;\n",
              "      box-shadow: 0px 1px 3px 1px rgba(0, 0, 0, 0.15);\n",
              "      filter: drop-shadow(0px 1px 2px rgba(0, 0, 0, 0.3));\n",
              "      fill: #FFFFFF;\n",
              "    }\n",
              "  </style>\n",
              "\n",
              "    <script>\n",
              "      const buttonEl =\n",
              "        document.querySelector('#df-084be6ef-7fd2-4380-bd02-cb52c1624900 button.colab-df-convert');\n",
              "      buttonEl.style.display =\n",
              "        google.colab.kernel.accessAllowed ? 'block' : 'none';\n",
              "\n",
              "      async function convertToInteractive(key) {\n",
              "        const element = document.querySelector('#df-084be6ef-7fd2-4380-bd02-cb52c1624900');\n",
              "        const dataTable =\n",
              "          await google.colab.kernel.invokeFunction('convertToInteractive',\n",
              "                                                    [key], {});\n",
              "        if (!dataTable) return;\n",
              "\n",
              "        const docLinkHtml = 'Like what you see? Visit the ' +\n",
              "          '<a target=\"_blank\" href=https://colab.research.google.com/notebooks/data_table.ipynb>data table notebook</a>'\n",
              "          + ' to learn more about interactive tables.';\n",
              "        element.innerHTML = '';\n",
              "        dataTable['output_type'] = 'display_data';\n",
              "        await google.colab.output.renderOutput(dataTable, element);\n",
              "        const docLink = document.createElement('div');\n",
              "        docLink.innerHTML = docLinkHtml;\n",
              "        element.appendChild(docLink);\n",
              "      }\n",
              "    </script>\n",
              "  </div>\n",
              "\n",
              "\n",
              "<div id=\"df-f9d16e02-891a-4013-b06b-4498a97f4923\">\n",
              "  <button class=\"colab-df-quickchart\" onclick=\"quickchart('df-f9d16e02-891a-4013-b06b-4498a97f4923')\"\n",
              "            title=\"Suggest charts.\"\n",
              "            style=\"display:none;\">\n",
              "\n",
              "<svg xmlns=\"http://www.w3.org/2000/svg\" height=\"24px\"viewBox=\"0 0 24 24\"\n",
              "     width=\"24px\">\n",
              "    <g>\n",
              "        <path d=\"M19 3H5c-1.1 0-2 .9-2 2v14c0 1.1.9 2 2 2h14c1.1 0 2-.9 2-2V5c0-1.1-.9-2-2-2zM9 17H7v-7h2v7zm4 0h-2V7h2v10zm4 0h-2v-4h2v4z\"/>\n",
              "    </g>\n",
              "</svg>\n",
              "  </button>\n",
              "\n",
              "<style>\n",
              "  .colab-df-quickchart {\n",
              "    background-color: #E8F0FE;\n",
              "    border: none;\n",
              "    border-radius: 50%;\n",
              "    cursor: pointer;\n",
              "    display: none;\n",
              "    fill: #1967D2;\n",
              "    height: 32px;\n",
              "    padding: 0 0 0 0;\n",
              "    width: 32px;\n",
              "  }\n",
              "\n",
              "  .colab-df-quickchart:hover {\n",
              "    background-color: #E2EBFA;\n",
              "    box-shadow: 0px 1px 2px rgba(60, 64, 67, 0.3), 0px 1px 3px 1px rgba(60, 64, 67, 0.15);\n",
              "    fill: #174EA6;\n",
              "  }\n",
              "\n",
              "  [theme=dark] .colab-df-quickchart {\n",
              "    background-color: #3B4455;\n",
              "    fill: #D2E3FC;\n",
              "  }\n",
              "\n",
              "  [theme=dark] .colab-df-quickchart:hover {\n",
              "    background-color: #434B5C;\n",
              "    box-shadow: 0px 1px 3px 1px rgba(0, 0, 0, 0.15);\n",
              "    filter: drop-shadow(0px 1px 2px rgba(0, 0, 0, 0.3));\n",
              "    fill: #FFFFFF;\n",
              "  }\n",
              "</style>\n",
              "\n",
              "  <script>\n",
              "    async function quickchart(key) {\n",
              "      const charts = await google.colab.kernel.invokeFunction(\n",
              "          'suggestCharts', [key], {});\n",
              "    }\n",
              "    (() => {\n",
              "      let quickchartButtonEl =\n",
              "        document.querySelector('#df-f9d16e02-891a-4013-b06b-4498a97f4923 button');\n",
              "      quickchartButtonEl.style.display =\n",
              "        google.colab.kernel.accessAllowed ? 'block' : 'none';\n",
              "    })();\n",
              "  </script>\n",
              "</div>\n",
              "    </div>\n",
              "  </div>\n"
            ]
          },
          "metadata": {},
          "execution_count": 50
        }
      ]
    },
    {
      "cell_type": "markdown",
      "source": [
        "Note that indices here are not a <font color='mediumseagreen'><b>DataTime</b></font> object. We can use <font color='DodgerBlue'><b>pd.to_datetime</b></font> to transform strings into <font color='mediumseagreen'><b>DataTime</b></font> object of a chosen format:"
      ],
      "metadata": {
        "id": "LZnJ8aIJXIYA"
      }
    },
    {
      "cell_type": "code",
      "source": [
        "pd.to_datetime(returns.index,format=\"%Y%m\")"
      ],
      "metadata": {
        "id": "uYLtuzh3XJGv",
        "outputId": "5452ddd3-dbb3-4d5a-fb95-0214eee8c39a",
        "colab": {
          "base_uri": "https://localhost:8080/"
        }
      },
      "execution_count": 53,
      "outputs": [
        {
          "output_type": "execute_result",
          "data": {
            "text/plain": [
              "DatetimeIndex(['1926-07-01', '1926-08-01', '1926-09-01', '1926-10-01',\n",
              "               '1926-11-01', '1926-12-01', '1927-01-01', '1927-02-01',\n",
              "               '1927-03-01', '1927-04-01',\n",
              "               ...\n",
              "               '2019-03-01', '2019-04-01', '2019-05-01', '2019-06-01',\n",
              "               '2019-07-01', '2019-08-01', '2019-09-01', '2019-10-01',\n",
              "               '2019-11-01', '2019-12-01'],\n",
              "              dtype='datetime64[ns]', length=1122, freq=None)"
            ]
          },
          "metadata": {},
          "execution_count": 53
        }
      ]
    },
    {
      "cell_type": "markdown",
      "source": [
        "Let's save it as index of our data set:"
      ],
      "metadata": {
        "id": "Lj4pIMkrXUgp"
      }
    },
    {
      "cell_type": "code",
      "source": [
        "returns.index=pd.to_datetime(returns.index,format=\"%Y%m\")\n",
        "returns"
      ],
      "metadata": {
        "id": "V-t81VXAXVmp",
        "outputId": "42eec0ad-d8f3-4f24-bb71-4c8939083e21",
        "colab": {
          "base_uri": "https://localhost:8080/",
          "height": 424
        }
      },
      "execution_count": 54,
      "outputs": [
        {
          "output_type": "execute_result",
          "data": {
            "text/plain": [
              "            Lo 10  Hi 10\n",
              "1926-07-01  -0.12   3.71\n",
              "1926-08-01   1.33   3.79\n",
              "1926-09-01   0.59   1.25\n",
              "1926-10-01  -4.33  -2.56\n",
              "1926-11-01  -3.30   2.40\n",
              "...           ...    ...\n",
              "2019-08-01  -5.63  -1.58\n",
              "2019-09-01   2.48   1.69\n",
              "2019-10-01  -1.83   2.82\n",
              "2019-11-01   3.17   3.78\n",
              "2019-12-01   5.04   3.01\n",
              "\n",
              "[1122 rows x 2 columns]"
            ],
            "text/html": [
              "\n",
              "  <div id=\"df-07b26ef1-5938-4f24-bf08-6fa358bf7651\" class=\"colab-df-container\">\n",
              "    <div>\n",
              "<style scoped>\n",
              "    .dataframe tbody tr th:only-of-type {\n",
              "        vertical-align: middle;\n",
              "    }\n",
              "\n",
              "    .dataframe tbody tr th {\n",
              "        vertical-align: top;\n",
              "    }\n",
              "\n",
              "    .dataframe thead th {\n",
              "        text-align: right;\n",
              "    }\n",
              "</style>\n",
              "<table border=\"1\" class=\"dataframe\">\n",
              "  <thead>\n",
              "    <tr style=\"text-align: right;\">\n",
              "      <th></th>\n",
              "      <th>Lo 10</th>\n",
              "      <th>Hi 10</th>\n",
              "    </tr>\n",
              "  </thead>\n",
              "  <tbody>\n",
              "    <tr>\n",
              "      <th>1926-07-01</th>\n",
              "      <td>-0.12</td>\n",
              "      <td>3.71</td>\n",
              "    </tr>\n",
              "    <tr>\n",
              "      <th>1926-08-01</th>\n",
              "      <td>1.33</td>\n",
              "      <td>3.79</td>\n",
              "    </tr>\n",
              "    <tr>\n",
              "      <th>1926-09-01</th>\n",
              "      <td>0.59</td>\n",
              "      <td>1.25</td>\n",
              "    </tr>\n",
              "    <tr>\n",
              "      <th>1926-10-01</th>\n",
              "      <td>-4.33</td>\n",
              "      <td>-2.56</td>\n",
              "    </tr>\n",
              "    <tr>\n",
              "      <th>1926-11-01</th>\n",
              "      <td>-3.30</td>\n",
              "      <td>2.40</td>\n",
              "    </tr>\n",
              "    <tr>\n",
              "      <th>...</th>\n",
              "      <td>...</td>\n",
              "      <td>...</td>\n",
              "    </tr>\n",
              "    <tr>\n",
              "      <th>2019-08-01</th>\n",
              "      <td>-5.63</td>\n",
              "      <td>-1.58</td>\n",
              "    </tr>\n",
              "    <tr>\n",
              "      <th>2019-09-01</th>\n",
              "      <td>2.48</td>\n",
              "      <td>1.69</td>\n",
              "    </tr>\n",
              "    <tr>\n",
              "      <th>2019-10-01</th>\n",
              "      <td>-1.83</td>\n",
              "      <td>2.82</td>\n",
              "    </tr>\n",
              "    <tr>\n",
              "      <th>2019-11-01</th>\n",
              "      <td>3.17</td>\n",
              "      <td>3.78</td>\n",
              "    </tr>\n",
              "    <tr>\n",
              "      <th>2019-12-01</th>\n",
              "      <td>5.04</td>\n",
              "      <td>3.01</td>\n",
              "    </tr>\n",
              "  </tbody>\n",
              "</table>\n",
              "<p>1122 rows × 2 columns</p>\n",
              "</div>\n",
              "    <div class=\"colab-df-buttons\">\n",
              "\n",
              "  <div class=\"colab-df-container\">\n",
              "    <button class=\"colab-df-convert\" onclick=\"convertToInteractive('df-07b26ef1-5938-4f24-bf08-6fa358bf7651')\"\n",
              "            title=\"Convert this dataframe to an interactive table.\"\n",
              "            style=\"display:none;\">\n",
              "\n",
              "  <svg xmlns=\"http://www.w3.org/2000/svg\" height=\"24px\" viewBox=\"0 -960 960 960\">\n",
              "    <path d=\"M120-120v-720h720v720H120Zm60-500h600v-160H180v160Zm220 220h160v-160H400v160Zm0 220h160v-160H400v160ZM180-400h160v-160H180v160Zm440 0h160v-160H620v160ZM180-180h160v-160H180v160Zm440 0h160v-160H620v160Z\"/>\n",
              "  </svg>\n",
              "    </button>\n",
              "\n",
              "  <style>\n",
              "    .colab-df-container {\n",
              "      display:flex;\n",
              "      gap: 12px;\n",
              "    }\n",
              "\n",
              "    .colab-df-convert {\n",
              "      background-color: #E8F0FE;\n",
              "      border: none;\n",
              "      border-radius: 50%;\n",
              "      cursor: pointer;\n",
              "      display: none;\n",
              "      fill: #1967D2;\n",
              "      height: 32px;\n",
              "      padding: 0 0 0 0;\n",
              "      width: 32px;\n",
              "    }\n",
              "\n",
              "    .colab-df-convert:hover {\n",
              "      background-color: #E2EBFA;\n",
              "      box-shadow: 0px 1px 2px rgba(60, 64, 67, 0.3), 0px 1px 3px 1px rgba(60, 64, 67, 0.15);\n",
              "      fill: #174EA6;\n",
              "    }\n",
              "\n",
              "    .colab-df-buttons div {\n",
              "      margin-bottom: 4px;\n",
              "    }\n",
              "\n",
              "    [theme=dark] .colab-df-convert {\n",
              "      background-color: #3B4455;\n",
              "      fill: #D2E3FC;\n",
              "    }\n",
              "\n",
              "    [theme=dark] .colab-df-convert:hover {\n",
              "      background-color: #434B5C;\n",
              "      box-shadow: 0px 1px 3px 1px rgba(0, 0, 0, 0.15);\n",
              "      filter: drop-shadow(0px 1px 2px rgba(0, 0, 0, 0.3));\n",
              "      fill: #FFFFFF;\n",
              "    }\n",
              "  </style>\n",
              "\n",
              "    <script>\n",
              "      const buttonEl =\n",
              "        document.querySelector('#df-07b26ef1-5938-4f24-bf08-6fa358bf7651 button.colab-df-convert');\n",
              "      buttonEl.style.display =\n",
              "        google.colab.kernel.accessAllowed ? 'block' : 'none';\n",
              "\n",
              "      async function convertToInteractive(key) {\n",
              "        const element = document.querySelector('#df-07b26ef1-5938-4f24-bf08-6fa358bf7651');\n",
              "        const dataTable =\n",
              "          await google.colab.kernel.invokeFunction('convertToInteractive',\n",
              "                                                    [key], {});\n",
              "        if (!dataTable) return;\n",
              "\n",
              "        const docLinkHtml = 'Like what you see? Visit the ' +\n",
              "          '<a target=\"_blank\" href=https://colab.research.google.com/notebooks/data_table.ipynb>data table notebook</a>'\n",
              "          + ' to learn more about interactive tables.';\n",
              "        element.innerHTML = '';\n",
              "        dataTable['output_type'] = 'display_data';\n",
              "        await google.colab.output.renderOutput(dataTable, element);\n",
              "        const docLink = document.createElement('div');\n",
              "        docLink.innerHTML = docLinkHtml;\n",
              "        element.appendChild(docLink);\n",
              "      }\n",
              "    </script>\n",
              "  </div>\n",
              "\n",
              "\n",
              "<div id=\"df-a9f6436d-a885-4428-85d4-efd4a77df4d7\">\n",
              "  <button class=\"colab-df-quickchart\" onclick=\"quickchart('df-a9f6436d-a885-4428-85d4-efd4a77df4d7')\"\n",
              "            title=\"Suggest charts.\"\n",
              "            style=\"display:none;\">\n",
              "\n",
              "<svg xmlns=\"http://www.w3.org/2000/svg\" height=\"24px\"viewBox=\"0 0 24 24\"\n",
              "     width=\"24px\">\n",
              "    <g>\n",
              "        <path d=\"M19 3H5c-1.1 0-2 .9-2 2v14c0 1.1.9 2 2 2h14c1.1 0 2-.9 2-2V5c0-1.1-.9-2-2-2zM9 17H7v-7h2v7zm4 0h-2V7h2v10zm4 0h-2v-4h2v4z\"/>\n",
              "    </g>\n",
              "</svg>\n",
              "  </button>\n",
              "\n",
              "<style>\n",
              "  .colab-df-quickchart {\n",
              "    background-color: #E8F0FE;\n",
              "    border: none;\n",
              "    border-radius: 50%;\n",
              "    cursor: pointer;\n",
              "    display: none;\n",
              "    fill: #1967D2;\n",
              "    height: 32px;\n",
              "    padding: 0 0 0 0;\n",
              "    width: 32px;\n",
              "  }\n",
              "\n",
              "  .colab-df-quickchart:hover {\n",
              "    background-color: #E2EBFA;\n",
              "    box-shadow: 0px 1px 2px rgba(60, 64, 67, 0.3), 0px 1px 3px 1px rgba(60, 64, 67, 0.15);\n",
              "    fill: #174EA6;\n",
              "  }\n",
              "\n",
              "  [theme=dark] .colab-df-quickchart {\n",
              "    background-color: #3B4455;\n",
              "    fill: #D2E3FC;\n",
              "  }\n",
              "\n",
              "  [theme=dark] .colab-df-quickchart:hover {\n",
              "    background-color: #434B5C;\n",
              "    box-shadow: 0px 1px 3px 1px rgba(0, 0, 0, 0.15);\n",
              "    filter: drop-shadow(0px 1px 2px rgba(0, 0, 0, 0.3));\n",
              "    fill: #FFFFFF;\n",
              "  }\n",
              "</style>\n",
              "\n",
              "  <script>\n",
              "    async function quickchart(key) {\n",
              "      const charts = await google.colab.kernel.invokeFunction(\n",
              "          'suggestCharts', [key], {});\n",
              "    }\n",
              "    (() => {\n",
              "      let quickchartButtonEl =\n",
              "        document.querySelector('#df-a9f6436d-a885-4428-85d4-efd4a77df4d7 button');\n",
              "      quickchartButtonEl.style.display =\n",
              "        google.colab.kernel.accessAllowed ? 'block' : 'none';\n",
              "    })();\n",
              "  </script>\n",
              "</div>\n",
              "    </div>\n",
              "  </div>\n"
            ]
          },
          "metadata": {},
          "execution_count": 54
        }
      ]
    },
    {
      "cell_type": "markdown",
      "source": [
        "The numbers are in percentage points. Thus, I transform returns from percentage points to decimals:"
      ],
      "metadata": {
        "id": "LclyGyA9Xf-a"
      }
    },
    {
      "cell_type": "code",
      "source": [
        "returns = returns*0.01\n",
        "returns"
      ],
      "metadata": {
        "id": "qCGqQyKwXhI2",
        "outputId": "03aaa478-739d-49bb-d9a3-ddfd522cfa7b",
        "colab": {
          "base_uri": "https://localhost:8080/",
          "height": 424
        }
      },
      "execution_count": 55,
      "outputs": [
        {
          "output_type": "execute_result",
          "data": {
            "text/plain": [
              "             Lo 10   Hi 10\n",
              "1926-07-01 -0.0012  0.0371\n",
              "1926-08-01  0.0133  0.0379\n",
              "1926-09-01  0.0059  0.0125\n",
              "1926-10-01 -0.0433 -0.0256\n",
              "1926-11-01 -0.0330  0.0240\n",
              "...            ...     ...\n",
              "2019-08-01 -0.0563 -0.0158\n",
              "2019-09-01  0.0248  0.0169\n",
              "2019-10-01 -0.0183  0.0282\n",
              "2019-11-01  0.0317  0.0378\n",
              "2019-12-01  0.0504  0.0301\n",
              "\n",
              "[1122 rows x 2 columns]"
            ],
            "text/html": [
              "\n",
              "  <div id=\"df-4d9a5f3f-c1c3-4b09-9799-745246590eb9\" class=\"colab-df-container\">\n",
              "    <div>\n",
              "<style scoped>\n",
              "    .dataframe tbody tr th:only-of-type {\n",
              "        vertical-align: middle;\n",
              "    }\n",
              "\n",
              "    .dataframe tbody tr th {\n",
              "        vertical-align: top;\n",
              "    }\n",
              "\n",
              "    .dataframe thead th {\n",
              "        text-align: right;\n",
              "    }\n",
              "</style>\n",
              "<table border=\"1\" class=\"dataframe\">\n",
              "  <thead>\n",
              "    <tr style=\"text-align: right;\">\n",
              "      <th></th>\n",
              "      <th>Lo 10</th>\n",
              "      <th>Hi 10</th>\n",
              "    </tr>\n",
              "  </thead>\n",
              "  <tbody>\n",
              "    <tr>\n",
              "      <th>1926-07-01</th>\n",
              "      <td>-0.0012</td>\n",
              "      <td>0.0371</td>\n",
              "    </tr>\n",
              "    <tr>\n",
              "      <th>1926-08-01</th>\n",
              "      <td>0.0133</td>\n",
              "      <td>0.0379</td>\n",
              "    </tr>\n",
              "    <tr>\n",
              "      <th>1926-09-01</th>\n",
              "      <td>0.0059</td>\n",
              "      <td>0.0125</td>\n",
              "    </tr>\n",
              "    <tr>\n",
              "      <th>1926-10-01</th>\n",
              "      <td>-0.0433</td>\n",
              "      <td>-0.0256</td>\n",
              "    </tr>\n",
              "    <tr>\n",
              "      <th>1926-11-01</th>\n",
              "      <td>-0.0330</td>\n",
              "      <td>0.0240</td>\n",
              "    </tr>\n",
              "    <tr>\n",
              "      <th>...</th>\n",
              "      <td>...</td>\n",
              "      <td>...</td>\n",
              "    </tr>\n",
              "    <tr>\n",
              "      <th>2019-08-01</th>\n",
              "      <td>-0.0563</td>\n",
              "      <td>-0.0158</td>\n",
              "    </tr>\n",
              "    <tr>\n",
              "      <th>2019-09-01</th>\n",
              "      <td>0.0248</td>\n",
              "      <td>0.0169</td>\n",
              "    </tr>\n",
              "    <tr>\n",
              "      <th>2019-10-01</th>\n",
              "      <td>-0.0183</td>\n",
              "      <td>0.0282</td>\n",
              "    </tr>\n",
              "    <tr>\n",
              "      <th>2019-11-01</th>\n",
              "      <td>0.0317</td>\n",
              "      <td>0.0378</td>\n",
              "    </tr>\n",
              "    <tr>\n",
              "      <th>2019-12-01</th>\n",
              "      <td>0.0504</td>\n",
              "      <td>0.0301</td>\n",
              "    </tr>\n",
              "  </tbody>\n",
              "</table>\n",
              "<p>1122 rows × 2 columns</p>\n",
              "</div>\n",
              "    <div class=\"colab-df-buttons\">\n",
              "\n",
              "  <div class=\"colab-df-container\">\n",
              "    <button class=\"colab-df-convert\" onclick=\"convertToInteractive('df-4d9a5f3f-c1c3-4b09-9799-745246590eb9')\"\n",
              "            title=\"Convert this dataframe to an interactive table.\"\n",
              "            style=\"display:none;\">\n",
              "\n",
              "  <svg xmlns=\"http://www.w3.org/2000/svg\" height=\"24px\" viewBox=\"0 -960 960 960\">\n",
              "    <path d=\"M120-120v-720h720v720H120Zm60-500h600v-160H180v160Zm220 220h160v-160H400v160Zm0 220h160v-160H400v160ZM180-400h160v-160H180v160Zm440 0h160v-160H620v160ZM180-180h160v-160H180v160Zm440 0h160v-160H620v160Z\"/>\n",
              "  </svg>\n",
              "    </button>\n",
              "\n",
              "  <style>\n",
              "    .colab-df-container {\n",
              "      display:flex;\n",
              "      gap: 12px;\n",
              "    }\n",
              "\n",
              "    .colab-df-convert {\n",
              "      background-color: #E8F0FE;\n",
              "      border: none;\n",
              "      border-radius: 50%;\n",
              "      cursor: pointer;\n",
              "      display: none;\n",
              "      fill: #1967D2;\n",
              "      height: 32px;\n",
              "      padding: 0 0 0 0;\n",
              "      width: 32px;\n",
              "    }\n",
              "\n",
              "    .colab-df-convert:hover {\n",
              "      background-color: #E2EBFA;\n",
              "      box-shadow: 0px 1px 2px rgba(60, 64, 67, 0.3), 0px 1px 3px 1px rgba(60, 64, 67, 0.15);\n",
              "      fill: #174EA6;\n",
              "    }\n",
              "\n",
              "    .colab-df-buttons div {\n",
              "      margin-bottom: 4px;\n",
              "    }\n",
              "\n",
              "    [theme=dark] .colab-df-convert {\n",
              "      background-color: #3B4455;\n",
              "      fill: #D2E3FC;\n",
              "    }\n",
              "\n",
              "    [theme=dark] .colab-df-convert:hover {\n",
              "      background-color: #434B5C;\n",
              "      box-shadow: 0px 1px 3px 1px rgba(0, 0, 0, 0.15);\n",
              "      filter: drop-shadow(0px 1px 2px rgba(0, 0, 0, 0.3));\n",
              "      fill: #FFFFFF;\n",
              "    }\n",
              "  </style>\n",
              "\n",
              "    <script>\n",
              "      const buttonEl =\n",
              "        document.querySelector('#df-4d9a5f3f-c1c3-4b09-9799-745246590eb9 button.colab-df-convert');\n",
              "      buttonEl.style.display =\n",
              "        google.colab.kernel.accessAllowed ? 'block' : 'none';\n",
              "\n",
              "      async function convertToInteractive(key) {\n",
              "        const element = document.querySelector('#df-4d9a5f3f-c1c3-4b09-9799-745246590eb9');\n",
              "        const dataTable =\n",
              "          await google.colab.kernel.invokeFunction('convertToInteractive',\n",
              "                                                    [key], {});\n",
              "        if (!dataTable) return;\n",
              "\n",
              "        const docLinkHtml = 'Like what you see? Visit the ' +\n",
              "          '<a target=\"_blank\" href=https://colab.research.google.com/notebooks/data_table.ipynb>data table notebook</a>'\n",
              "          + ' to learn more about interactive tables.';\n",
              "        element.innerHTML = '';\n",
              "        dataTable['output_type'] = 'display_data';\n",
              "        await google.colab.output.renderOutput(dataTable, element);\n",
              "        const docLink = document.createElement('div');\n",
              "        docLink.innerHTML = docLinkHtml;\n",
              "        element.appendChild(docLink);\n",
              "      }\n",
              "    </script>\n",
              "  </div>\n",
              "\n",
              "\n",
              "<div id=\"df-09b66eed-0205-4b88-9bf4-f41c62de028c\">\n",
              "  <button class=\"colab-df-quickchart\" onclick=\"quickchart('df-09b66eed-0205-4b88-9bf4-f41c62de028c')\"\n",
              "            title=\"Suggest charts.\"\n",
              "            style=\"display:none;\">\n",
              "\n",
              "<svg xmlns=\"http://www.w3.org/2000/svg\" height=\"24px\"viewBox=\"0 0 24 24\"\n",
              "     width=\"24px\">\n",
              "    <g>\n",
              "        <path d=\"M19 3H5c-1.1 0-2 .9-2 2v14c0 1.1.9 2 2 2h14c1.1 0 2-.9 2-2V5c0-1.1-.9-2-2-2zM9 17H7v-7h2v7zm4 0h-2V7h2v10zm4 0h-2v-4h2v4z\"/>\n",
              "    </g>\n",
              "</svg>\n",
              "  </button>\n",
              "\n",
              "<style>\n",
              "  .colab-df-quickchart {\n",
              "    background-color: #E8F0FE;\n",
              "    border: none;\n",
              "    border-radius: 50%;\n",
              "    cursor: pointer;\n",
              "    display: none;\n",
              "    fill: #1967D2;\n",
              "    height: 32px;\n",
              "    padding: 0 0 0 0;\n",
              "    width: 32px;\n",
              "  }\n",
              "\n",
              "  .colab-df-quickchart:hover {\n",
              "    background-color: #E2EBFA;\n",
              "    box-shadow: 0px 1px 2px rgba(60, 64, 67, 0.3), 0px 1px 3px 1px rgba(60, 64, 67, 0.15);\n",
              "    fill: #174EA6;\n",
              "  }\n",
              "\n",
              "  [theme=dark] .colab-df-quickchart {\n",
              "    background-color: #3B4455;\n",
              "    fill: #D2E3FC;\n",
              "  }\n",
              "\n",
              "  [theme=dark] .colab-df-quickchart:hover {\n",
              "    background-color: #434B5C;\n",
              "    box-shadow: 0px 1px 3px 1px rgba(0, 0, 0, 0.15);\n",
              "    filter: drop-shadow(0px 1px 2px rgba(0, 0, 0, 0.3));\n",
              "    fill: #FFFFFF;\n",
              "  }\n",
              "</style>\n",
              "\n",
              "  <script>\n",
              "    async function quickchart(key) {\n",
              "      const charts = await google.colab.kernel.invokeFunction(\n",
              "          'suggestCharts', [key], {});\n",
              "    }\n",
              "    (() => {\n",
              "      let quickchartButtonEl =\n",
              "        document.querySelector('#df-09b66eed-0205-4b88-9bf4-f41c62de028c button');\n",
              "      quickchartButtonEl.style.display =\n",
              "        google.colab.kernel.accessAllowed ? 'block' : 'none';\n",
              "    })();\n",
              "  </script>\n",
              "</div>\n",
              "    </div>\n",
              "  </div>\n"
            ]
          },
          "metadata": {},
          "execution_count": 55
        }
      ]
    },
    {
      "cell_type": "markdown",
      "source": [
        "Also I will change the names of columns since ticker symbols of this two portfolios may not be familiar to people without financial background. We will use labels *small* and *large cap*:"
      ],
      "metadata": {
        "id": "tGqC6M5MXo9e"
      }
    },
    {
      "cell_type": "code",
      "source": [
        "returns.columns=['SmallCap','LargeCap']\n",
        "returns"
      ],
      "metadata": {
        "id": "tzhUYqC7Xpph",
        "outputId": "d7b04dd7-7591-4c1c-c264-68c8ce4303d9",
        "colab": {
          "base_uri": "https://localhost:8080/",
          "height": 424
        }
      },
      "execution_count": 56,
      "outputs": [
        {
          "output_type": "execute_result",
          "data": {
            "text/plain": [
              "            SmallCap  LargeCap\n",
              "1926-07-01   -0.0012    0.0371\n",
              "1926-08-01    0.0133    0.0379\n",
              "1926-09-01    0.0059    0.0125\n",
              "1926-10-01   -0.0433   -0.0256\n",
              "1926-11-01   -0.0330    0.0240\n",
              "...              ...       ...\n",
              "2019-08-01   -0.0563   -0.0158\n",
              "2019-09-01    0.0248    0.0169\n",
              "2019-10-01   -0.0183    0.0282\n",
              "2019-11-01    0.0317    0.0378\n",
              "2019-12-01    0.0504    0.0301\n",
              "\n",
              "[1122 rows x 2 columns]"
            ],
            "text/html": [
              "\n",
              "  <div id=\"df-3443cbb8-9b82-48fd-9058-92eaad237048\" class=\"colab-df-container\">\n",
              "    <div>\n",
              "<style scoped>\n",
              "    .dataframe tbody tr th:only-of-type {\n",
              "        vertical-align: middle;\n",
              "    }\n",
              "\n",
              "    .dataframe tbody tr th {\n",
              "        vertical-align: top;\n",
              "    }\n",
              "\n",
              "    .dataframe thead th {\n",
              "        text-align: right;\n",
              "    }\n",
              "</style>\n",
              "<table border=\"1\" class=\"dataframe\">\n",
              "  <thead>\n",
              "    <tr style=\"text-align: right;\">\n",
              "      <th></th>\n",
              "      <th>SmallCap</th>\n",
              "      <th>LargeCap</th>\n",
              "    </tr>\n",
              "  </thead>\n",
              "  <tbody>\n",
              "    <tr>\n",
              "      <th>1926-07-01</th>\n",
              "      <td>-0.0012</td>\n",
              "      <td>0.0371</td>\n",
              "    </tr>\n",
              "    <tr>\n",
              "      <th>1926-08-01</th>\n",
              "      <td>0.0133</td>\n",
              "      <td>0.0379</td>\n",
              "    </tr>\n",
              "    <tr>\n",
              "      <th>1926-09-01</th>\n",
              "      <td>0.0059</td>\n",
              "      <td>0.0125</td>\n",
              "    </tr>\n",
              "    <tr>\n",
              "      <th>1926-10-01</th>\n",
              "      <td>-0.0433</td>\n",
              "      <td>-0.0256</td>\n",
              "    </tr>\n",
              "    <tr>\n",
              "      <th>1926-11-01</th>\n",
              "      <td>-0.0330</td>\n",
              "      <td>0.0240</td>\n",
              "    </tr>\n",
              "    <tr>\n",
              "      <th>...</th>\n",
              "      <td>...</td>\n",
              "      <td>...</td>\n",
              "    </tr>\n",
              "    <tr>\n",
              "      <th>2019-08-01</th>\n",
              "      <td>-0.0563</td>\n",
              "      <td>-0.0158</td>\n",
              "    </tr>\n",
              "    <tr>\n",
              "      <th>2019-09-01</th>\n",
              "      <td>0.0248</td>\n",
              "      <td>0.0169</td>\n",
              "    </tr>\n",
              "    <tr>\n",
              "      <th>2019-10-01</th>\n",
              "      <td>-0.0183</td>\n",
              "      <td>0.0282</td>\n",
              "    </tr>\n",
              "    <tr>\n",
              "      <th>2019-11-01</th>\n",
              "      <td>0.0317</td>\n",
              "      <td>0.0378</td>\n",
              "    </tr>\n",
              "    <tr>\n",
              "      <th>2019-12-01</th>\n",
              "      <td>0.0504</td>\n",
              "      <td>0.0301</td>\n",
              "    </tr>\n",
              "  </tbody>\n",
              "</table>\n",
              "<p>1122 rows × 2 columns</p>\n",
              "</div>\n",
              "    <div class=\"colab-df-buttons\">\n",
              "\n",
              "  <div class=\"colab-df-container\">\n",
              "    <button class=\"colab-df-convert\" onclick=\"convertToInteractive('df-3443cbb8-9b82-48fd-9058-92eaad237048')\"\n",
              "            title=\"Convert this dataframe to an interactive table.\"\n",
              "            style=\"display:none;\">\n",
              "\n",
              "  <svg xmlns=\"http://www.w3.org/2000/svg\" height=\"24px\" viewBox=\"0 -960 960 960\">\n",
              "    <path d=\"M120-120v-720h720v720H120Zm60-500h600v-160H180v160Zm220 220h160v-160H400v160Zm0 220h160v-160H400v160ZM180-400h160v-160H180v160Zm440 0h160v-160H620v160ZM180-180h160v-160H180v160Zm440 0h160v-160H620v160Z\"/>\n",
              "  </svg>\n",
              "    </button>\n",
              "\n",
              "  <style>\n",
              "    .colab-df-container {\n",
              "      display:flex;\n",
              "      gap: 12px;\n",
              "    }\n",
              "\n",
              "    .colab-df-convert {\n",
              "      background-color: #E8F0FE;\n",
              "      border: none;\n",
              "      border-radius: 50%;\n",
              "      cursor: pointer;\n",
              "      display: none;\n",
              "      fill: #1967D2;\n",
              "      height: 32px;\n",
              "      padding: 0 0 0 0;\n",
              "      width: 32px;\n",
              "    }\n",
              "\n",
              "    .colab-df-convert:hover {\n",
              "      background-color: #E2EBFA;\n",
              "      box-shadow: 0px 1px 2px rgba(60, 64, 67, 0.3), 0px 1px 3px 1px rgba(60, 64, 67, 0.15);\n",
              "      fill: #174EA6;\n",
              "    }\n",
              "\n",
              "    .colab-df-buttons div {\n",
              "      margin-bottom: 4px;\n",
              "    }\n",
              "\n",
              "    [theme=dark] .colab-df-convert {\n",
              "      background-color: #3B4455;\n",
              "      fill: #D2E3FC;\n",
              "    }\n",
              "\n",
              "    [theme=dark] .colab-df-convert:hover {\n",
              "      background-color: #434B5C;\n",
              "      box-shadow: 0px 1px 3px 1px rgba(0, 0, 0, 0.15);\n",
              "      filter: drop-shadow(0px 1px 2px rgba(0, 0, 0, 0.3));\n",
              "      fill: #FFFFFF;\n",
              "    }\n",
              "  </style>\n",
              "\n",
              "    <script>\n",
              "      const buttonEl =\n",
              "        document.querySelector('#df-3443cbb8-9b82-48fd-9058-92eaad237048 button.colab-df-convert');\n",
              "      buttonEl.style.display =\n",
              "        google.colab.kernel.accessAllowed ? 'block' : 'none';\n",
              "\n",
              "      async function convertToInteractive(key) {\n",
              "        const element = document.querySelector('#df-3443cbb8-9b82-48fd-9058-92eaad237048');\n",
              "        const dataTable =\n",
              "          await google.colab.kernel.invokeFunction('convertToInteractive',\n",
              "                                                    [key], {});\n",
              "        if (!dataTable) return;\n",
              "\n",
              "        const docLinkHtml = 'Like what you see? Visit the ' +\n",
              "          '<a target=\"_blank\" href=https://colab.research.google.com/notebooks/data_table.ipynb>data table notebook</a>'\n",
              "          + ' to learn more about interactive tables.';\n",
              "        element.innerHTML = '';\n",
              "        dataTable['output_type'] = 'display_data';\n",
              "        await google.colab.output.renderOutput(dataTable, element);\n",
              "        const docLink = document.createElement('div');\n",
              "        docLink.innerHTML = docLinkHtml;\n",
              "        element.appendChild(docLink);\n",
              "      }\n",
              "    </script>\n",
              "  </div>\n",
              "\n",
              "\n",
              "<div id=\"df-8aa46ab0-b5f4-4289-a230-4d253e481e2a\">\n",
              "  <button class=\"colab-df-quickchart\" onclick=\"quickchart('df-8aa46ab0-b5f4-4289-a230-4d253e481e2a')\"\n",
              "            title=\"Suggest charts.\"\n",
              "            style=\"display:none;\">\n",
              "\n",
              "<svg xmlns=\"http://www.w3.org/2000/svg\" height=\"24px\"viewBox=\"0 0 24 24\"\n",
              "     width=\"24px\">\n",
              "    <g>\n",
              "        <path d=\"M19 3H5c-1.1 0-2 .9-2 2v14c0 1.1.9 2 2 2h14c1.1 0 2-.9 2-2V5c0-1.1-.9-2-2-2zM9 17H7v-7h2v7zm4 0h-2V7h2v10zm4 0h-2v-4h2v4z\"/>\n",
              "    </g>\n",
              "</svg>\n",
              "  </button>\n",
              "\n",
              "<style>\n",
              "  .colab-df-quickchart {\n",
              "    background-color: #E8F0FE;\n",
              "    border: none;\n",
              "    border-radius: 50%;\n",
              "    cursor: pointer;\n",
              "    display: none;\n",
              "    fill: #1967D2;\n",
              "    height: 32px;\n",
              "    padding: 0 0 0 0;\n",
              "    width: 32px;\n",
              "  }\n",
              "\n",
              "  .colab-df-quickchart:hover {\n",
              "    background-color: #E2EBFA;\n",
              "    box-shadow: 0px 1px 2px rgba(60, 64, 67, 0.3), 0px 1px 3px 1px rgba(60, 64, 67, 0.15);\n",
              "    fill: #174EA6;\n",
              "  }\n",
              "\n",
              "  [theme=dark] .colab-df-quickchart {\n",
              "    background-color: #3B4455;\n",
              "    fill: #D2E3FC;\n",
              "  }\n",
              "\n",
              "  [theme=dark] .colab-df-quickchart:hover {\n",
              "    background-color: #434B5C;\n",
              "    box-shadow: 0px 1px 3px 1px rgba(0, 0, 0, 0.15);\n",
              "    filter: drop-shadow(0px 1px 2px rgba(0, 0, 0, 0.3));\n",
              "    fill: #FFFFFF;\n",
              "  }\n",
              "</style>\n",
              "\n",
              "  <script>\n",
              "    async function quickchart(key) {\n",
              "      const charts = await google.colab.kernel.invokeFunction(\n",
              "          'suggestCharts', [key], {});\n",
              "    }\n",
              "    (() => {\n",
              "      let quickchartButtonEl =\n",
              "        document.querySelector('#df-8aa46ab0-b5f4-4289-a230-4d253e481e2a button');\n",
              "      quickchartButtonEl.style.display =\n",
              "        google.colab.kernel.accessAllowed ? 'block' : 'none';\n",
              "    })();\n",
              "  </script>\n",
              "</div>\n",
              "    </div>\n",
              "  </div>\n"
            ]
          },
          "metadata": {},
          "execution_count": 56
        }
      ]
    },
    {
      "cell_type": "markdown",
      "source": [
        "We can summarize the whole thing as the following list of commands\n",
        "\n",
        "\n",
        "```python\n",
        "# Summary of the data trasformation needed for the FF data set\n",
        "returnsFF = pd.read_csv(\"Portfolios_Formed_on_ME_Branko.csv\", header = 0, index_col=0, parse_dates=True, na_values=-99.99)\n",
        "returns =returnsFF[['Lo 10', 'Hi 10']]\n",
        "returns.columns = ['SmallCap', 'LargeCap']\n",
        "returns.index=pd.to_datetime(returns.index, format =\"%Y%m\")\n",
        "returns = returns*0.01\n",
        "```\n",
        "\n",
        "\n"
      ],
      "metadata": {
        "id": "cSsTtonAXz41"
      }
    },
    {
      "cell_type": "markdown",
      "source": [
        "Now let's plot the two series of returns:"
      ],
      "metadata": {
        "id": "54rfjN-HX3Bw"
      }
    },
    {
      "cell_type": "code",
      "source": [
        "fig = go.Figure()\n",
        "\n",
        "fig.add_trace(go.Scatter(x=returns.index,y=returns['SmallCap'],line=dict(color='Purple'),name=\"SmallCap\"))\n",
        "fig.add_trace(go.Scatter(x=returns.index,y=returns['LargeCap'],line=dict(color='Orange'),name=\"LargeCap\"))\n",
        "\n",
        "fig.update_layout(title=dict(text='Returns',font=dict(size=30),x=0.5,y=0.9),yaxis=dict(zerolinecolor='Black'))\n",
        "\n",
        "fig.show()"
      ],
      "metadata": {
        "id": "eC5UN0vuX4zq",
        "outputId": "ce5bd422-506b-4360-fd2b-a19a8e52ba6b",
        "colab": {
          "base_uri": "https://localhost:8080/",
          "height": 542
        }
      },
      "execution_count": 57,
      "outputs": [
        {
          "output_type": "display_data",
          "data": {
            "text/html": [
              "<html>\n",
              "<head><meta charset=\"utf-8\" /></head>\n",
              "<body>\n",
              "    <div>            <script src=\"https://cdnjs.cloudflare.com/ajax/libs/mathjax/2.7.5/MathJax.js?config=TeX-AMS-MML_SVG\"></script><script type=\"text/javascript\">if (window.MathJax && window.MathJax.Hub && window.MathJax.Hub.Config) {window.MathJax.Hub.Config({SVG: {font: \"STIX-Web\"}});}</script>                <script type=\"text/javascript\">window.PlotlyConfig = {MathJaxConfig: 'local'};</script>\n",
              "        <script charset=\"utf-8\" src=\"https://cdn.plot.ly/plotly-2.24.1.min.js\"></script>                <div id=\"f8ddfb7f-e6fa-4734-ab7e-3693adb3557d\" class=\"plotly-graph-div\" style=\"height:525px; width:100%;\"></div>            <script type=\"text/javascript\">                                    window.PLOTLYENV=window.PLOTLYENV || {};                                    if (document.getElementById(\"f8ddfb7f-e6fa-4734-ab7e-3693adb3557d\")) {                    Plotly.newPlot(                        \"f8ddfb7f-e6fa-4734-ab7e-3693adb3557d\",                        [{\"line\":{\"color\":\"Purple\"},\"name\":\"SmallCap\",\"x\":[\"1926-07-01T00:00:00\",\"1926-08-01T00:00:00\",\"1926-09-01T00:00:00\",\"1926-10-01T00:00:00\",\"1926-11-01T00:00:00\",\"1926-12-01T00:00:00\",\"1927-01-01T00:00:00\",\"1927-02-01T00:00:00\",\"1927-03-01T00:00:00\",\"1927-04-01T00:00:00\",\"1927-05-01T00:00:00\",\"1927-06-01T00:00:00\",\"1927-07-01T00:00:00\",\"1927-08-01T00:00:00\",\"1927-09-01T00:00:00\",\"1927-10-01T00:00:00\",\"1927-11-01T00:00:00\",\"1927-12-01T00:00:00\",\"1928-01-01T00:00:00\",\"1928-02-01T00:00:00\",\"1928-03-01T00:00:00\",\"1928-04-01T00:00:00\",\"1928-05-01T00:00:00\",\"1928-06-01T00:00:00\",\"1928-07-01T00:00:00\",\"1928-08-01T00:00:00\",\"1928-09-01T00:00:00\",\"1928-10-01T00:00:00\",\"1928-11-01T00:00:00\",\"1928-12-01T00:00:00\",\"1929-01-01T00:00:00\",\"1929-02-01T00:00:00\",\"1929-03-01T00:00:00\",\"1929-04-01T00:00:00\",\"1929-05-01T00:00:00\",\"1929-06-01T00:00:00\",\"1929-07-01T00:00:00\",\"1929-08-01T00:00:00\",\"1929-09-01T00:00:00\",\"1929-10-01T00:00:00\",\"1929-11-01T00:00:00\",\"1929-12-01T00:00:00\",\"1930-01-01T00:00:00\",\"1930-02-01T00:00:00\",\"1930-03-01T00:00:00\",\"1930-04-01T00:00:00\",\"1930-05-01T00:00:00\",\"1930-06-01T00:00:00\",\"1930-07-01T00:00:00\",\"1930-08-01T00:00:00\",\"1930-09-01T00:00:00\",\"1930-10-01T00:00:00\",\"1930-11-01T00:00:00\",\"1930-12-01T00:00:00\",\"1931-01-01T00:00:00\",\"1931-02-01T00:00:00\",\"1931-03-01T00:00:00\",\"1931-04-01T00:00:00\",\"1931-05-01T00:00:00\",\"1931-06-01T00:00:00\",\"1931-07-01T00:00:00\",\"1931-08-01T00:00:00\",\"1931-09-01T00:00:00\",\"1931-10-01T00:00:00\",\"1931-11-01T00:00:00\",\"1931-12-01T00:00:00\",\"1932-01-01T00:00:00\",\"1932-02-01T00:00:00\",\"1932-03-01T00:00:00\",\"1932-04-01T00:00:00\",\"1932-05-01T00:00:00\",\"1932-06-01T00:00:00\",\"1932-07-01T00:00:00\",\"1932-08-01T00:00:00\",\"1932-09-01T00:00:00\",\"1932-10-01T00:00:00\",\"1932-11-01T00:00:00\",\"1932-12-01T00:00:00\",\"1933-01-01T00:00:00\",\"1933-02-01T00:00:00\",\"1933-03-01T00:00:00\",\"1933-04-01T00:00:00\",\"1933-05-01T00:00:00\",\"1933-06-01T00:00:00\",\"1933-07-01T00:00:00\",\"1933-08-01T00:00:00\",\"1933-09-01T00:00:00\",\"1933-10-01T00:00:00\",\"1933-11-01T00:00:00\",\"1933-12-01T00:00:00\",\"1934-01-01T00:00:00\",\"1934-02-01T00:00:00\",\"1934-03-01T00:00:00\",\"1934-04-01T00:00:00\",\"1934-05-01T00:00:00\",\"1934-06-01T00:00:00\",\"1934-07-01T00:00:00\",\"1934-08-01T00:00:00\",\"1934-09-01T00:00:00\",\"1934-10-01T00:00:00\",\"1934-11-01T00:00:00\",\"1934-12-01T00:00:00\",\"1935-01-01T00:00:00\",\"1935-02-01T00:00:00\",\"1935-03-01T00:00:00\",\"1935-04-01T00:00:00\",\"1935-05-01T00:00:00\",\"1935-06-01T00:00:00\",\"1935-07-01T00:00:00\",\"1935-08-01T00:00:00\",\"1935-09-01T00:00:00\",\"1935-10-01T00:00:00\",\"1935-11-01T00:00:00\",\"1935-12-01T00:00:00\",\"1936-01-01T00:00:00\",\"1936-02-01T00:00:00\",\"1936-03-01T00:00:00\",\"1936-04-01T00:00:00\",\"1936-05-01T00:00:00\",\"1936-06-01T00:00:00\",\"1936-07-01T00:00:00\",\"1936-08-01T00:00:00\",\"1936-09-01T00:00:00\",\"1936-10-01T00:00:00\",\"1936-11-01T00:00:00\",\"1936-12-01T00:00:00\",\"1937-01-01T00:00:00\",\"1937-02-01T00:00:00\",\"1937-03-01T00:00:00\",\"1937-04-01T00:00:00\",\"1937-05-01T00:00:00\",\"1937-06-01T00:00:00\",\"1937-07-01T00:00:00\",\"1937-08-01T00:00:00\",\"1937-09-01T00:00:00\",\"1937-10-01T00:00:00\",\"1937-11-01T00:00:00\",\"1937-12-01T00:00:00\",\"1938-01-01T00:00:00\",\"1938-02-01T00:00:00\",\"1938-03-01T00:00:00\",\"1938-04-01T00:00:00\",\"1938-05-01T00:00:00\",\"1938-06-01T00:00:00\",\"1938-07-01T00:00:00\",\"1938-08-01T00:00:00\",\"1938-09-01T00:00:00\",\"1938-10-01T00:00:00\",\"1938-11-01T00:00:00\",\"1938-12-01T00:00:00\",\"1939-01-01T00:00:00\",\"1939-02-01T00:00:00\",\"1939-03-01T00:00:00\",\"1939-04-01T00:00:00\",\"1939-05-01T00:00:00\",\"1939-06-01T00:00:00\",\"1939-07-01T00:00:00\",\"1939-08-01T00:00:00\",\"1939-09-01T00:00:00\",\"1939-10-01T00:00:00\",\"1939-11-01T00:00:00\",\"1939-12-01T00:00:00\",\"1940-01-01T00:00:00\",\"1940-02-01T00:00:00\",\"1940-03-01T00:00:00\",\"1940-04-01T00:00:00\",\"1940-05-01T00:00:00\",\"1940-06-01T00:00:00\",\"1940-07-01T00:00:00\",\"1940-08-01T00:00:00\",\"1940-09-01T00:00:00\",\"1940-10-01T00:00:00\",\"1940-11-01T00:00:00\",\"1940-12-01T00:00:00\",\"1941-01-01T00:00:00\",\"1941-02-01T00:00:00\",\"1941-03-01T00:00:00\",\"1941-04-01T00:00:00\",\"1941-05-01T00:00:00\",\"1941-06-01T00:00:00\",\"1941-07-01T00:00:00\",\"1941-08-01T00:00:00\",\"1941-09-01T00:00:00\",\"1941-10-01T00:00:00\",\"1941-11-01T00:00:00\",\"1941-12-01T00:00:00\",\"1942-01-01T00:00:00\",\"1942-02-01T00:00:00\",\"1942-03-01T00:00:00\",\"1942-04-01T00:00:00\",\"1942-05-01T00:00:00\",\"1942-06-01T00:00:00\",\"1942-07-01T00:00:00\",\"1942-08-01T00:00:00\",\"1942-09-01T00:00:00\",\"1942-10-01T00:00:00\",\"1942-11-01T00:00:00\",\"1942-12-01T00:00:00\",\"1943-01-01T00:00:00\",\"1943-02-01T00:00:00\",\"1943-03-01T00:00:00\",\"1943-04-01T00:00:00\",\"1943-05-01T00:00:00\",\"1943-06-01T00:00:00\",\"1943-07-01T00:00:00\",\"1943-08-01T00:00:00\",\"1943-09-01T00:00:00\",\"1943-10-01T00:00:00\",\"1943-11-01T00:00:00\",\"1943-12-01T00:00:00\",\"1944-01-01T00:00:00\",\"1944-02-01T00:00:00\",\"1944-03-01T00:00:00\",\"1944-04-01T00:00:00\",\"1944-05-01T00:00:00\",\"1944-06-01T00:00:00\",\"1944-07-01T00:00:00\",\"1944-08-01T00:00:00\",\"1944-09-01T00:00:00\",\"1944-10-01T00:00:00\",\"1944-11-01T00:00:00\",\"1944-12-01T00:00:00\",\"1945-01-01T00:00:00\",\"1945-02-01T00:00:00\",\"1945-03-01T00:00:00\",\"1945-04-01T00:00:00\",\"1945-05-01T00:00:00\",\"1945-06-01T00:00:00\",\"1945-07-01T00:00:00\",\"1945-08-01T00:00:00\",\"1945-09-01T00:00:00\",\"1945-10-01T00:00:00\",\"1945-11-01T00:00:00\",\"1945-12-01T00:00:00\",\"1946-01-01T00:00:00\",\"1946-02-01T00:00:00\",\"1946-03-01T00:00:00\",\"1946-04-01T00:00:00\",\"1946-05-01T00:00:00\",\"1946-06-01T00:00:00\",\"1946-07-01T00:00:00\",\"1946-08-01T00:00:00\",\"1946-09-01T00:00:00\",\"1946-10-01T00:00:00\",\"1946-11-01T00:00:00\",\"1946-12-01T00:00:00\",\"1947-01-01T00:00:00\",\"1947-02-01T00:00:00\",\"1947-03-01T00:00:00\",\"1947-04-01T00:00:00\",\"1947-05-01T00:00:00\",\"1947-06-01T00:00:00\",\"1947-07-01T00:00:00\",\"1947-08-01T00:00:00\",\"1947-09-01T00:00:00\",\"1947-10-01T00:00:00\",\"1947-11-01T00:00:00\",\"1947-12-01T00:00:00\",\"1948-01-01T00:00:00\",\"1948-02-01T00:00:00\",\"1948-03-01T00:00:00\",\"1948-04-01T00:00:00\",\"1948-05-01T00:00:00\",\"1948-06-01T00:00:00\",\"1948-07-01T00:00:00\",\"1948-08-01T00:00:00\",\"1948-09-01T00:00:00\",\"1948-10-01T00:00:00\",\"1948-11-01T00:00:00\",\"1948-12-01T00:00:00\",\"1949-01-01T00:00:00\",\"1949-02-01T00:00:00\",\"1949-03-01T00:00:00\",\"1949-04-01T00:00:00\",\"1949-05-01T00:00:00\",\"1949-06-01T00:00:00\",\"1949-07-01T00:00:00\",\"1949-08-01T00:00:00\",\"1949-09-01T00:00:00\",\"1949-10-01T00:00:00\",\"1949-11-01T00:00:00\",\"1949-12-01T00:00:00\",\"1950-01-01T00:00:00\",\"1950-02-01T00:00:00\",\"1950-03-01T00:00:00\",\"1950-04-01T00:00:00\",\"1950-05-01T00:00:00\",\"1950-06-01T00:00:00\",\"1950-07-01T00:00:00\",\"1950-08-01T00:00:00\",\"1950-09-01T00:00:00\",\"1950-10-01T00:00:00\",\"1950-11-01T00:00:00\",\"1950-12-01T00:00:00\",\"1951-01-01T00:00:00\",\"1951-02-01T00:00:00\",\"1951-03-01T00:00:00\",\"1951-04-01T00:00:00\",\"1951-05-01T00:00:00\",\"1951-06-01T00:00:00\",\"1951-07-01T00:00:00\",\"1951-08-01T00:00:00\",\"1951-09-01T00:00:00\",\"1951-10-01T00:00:00\",\"1951-11-01T00:00:00\",\"1951-12-01T00:00:00\",\"1952-01-01T00:00:00\",\"1952-02-01T00:00:00\",\"1952-03-01T00:00:00\",\"1952-04-01T00:00:00\",\"1952-05-01T00:00:00\",\"1952-06-01T00:00:00\",\"1952-07-01T00:00:00\",\"1952-08-01T00:00:00\",\"1952-09-01T00:00:00\",\"1952-10-01T00:00:00\",\"1952-11-01T00:00:00\",\"1952-12-01T00:00:00\",\"1953-01-01T00:00:00\",\"1953-02-01T00:00:00\",\"1953-03-01T00:00:00\",\"1953-04-01T00:00:00\",\"1953-05-01T00:00:00\",\"1953-06-01T00:00:00\",\"1953-07-01T00:00:00\",\"1953-08-01T00:00:00\",\"1953-09-01T00:00:00\",\"1953-10-01T00:00:00\",\"1953-11-01T00:00:00\",\"1953-12-01T00:00:00\",\"1954-01-01T00:00:00\",\"1954-02-01T00:00:00\",\"1954-03-01T00:00:00\",\"1954-04-01T00:00:00\",\"1954-05-01T00:00:00\",\"1954-06-01T00:00:00\",\"1954-07-01T00:00:00\",\"1954-08-01T00:00:00\",\"1954-09-01T00:00:00\",\"1954-10-01T00:00:00\",\"1954-11-01T00:00:00\",\"1954-12-01T00:00:00\",\"1955-01-01T00:00:00\",\"1955-02-01T00:00:00\",\"1955-03-01T00:00:00\",\"1955-04-01T00:00:00\",\"1955-05-01T00:00:00\",\"1955-06-01T00:00:00\",\"1955-07-01T00:00:00\",\"1955-08-01T00:00:00\",\"1955-09-01T00:00:00\",\"1955-10-01T00:00:00\",\"1955-11-01T00:00:00\",\"1955-12-01T00:00:00\",\"1956-01-01T00:00:00\",\"1956-02-01T00:00:00\",\"1956-03-01T00:00:00\",\"1956-04-01T00:00:00\",\"1956-05-01T00:00:00\",\"1956-06-01T00:00:00\",\"1956-07-01T00:00:00\",\"1956-08-01T00:00:00\",\"1956-09-01T00:00:00\",\"1956-10-01T00:00:00\",\"1956-11-01T00:00:00\",\"1956-12-01T00:00:00\",\"1957-01-01T00:00:00\",\"1957-02-01T00:00:00\",\"1957-03-01T00:00:00\",\"1957-04-01T00:00:00\",\"1957-05-01T00:00:00\",\"1957-06-01T00:00:00\",\"1957-07-01T00:00:00\",\"1957-08-01T00:00:00\",\"1957-09-01T00:00:00\",\"1957-10-01T00:00:00\",\"1957-11-01T00:00:00\",\"1957-12-01T00:00:00\",\"1958-01-01T00:00:00\",\"1958-02-01T00:00:00\",\"1958-03-01T00:00:00\",\"1958-04-01T00:00:00\",\"1958-05-01T00:00:00\",\"1958-06-01T00:00:00\",\"1958-07-01T00:00:00\",\"1958-08-01T00:00:00\",\"1958-09-01T00:00:00\",\"1958-10-01T00:00:00\",\"1958-11-01T00:00:00\",\"1958-12-01T00:00:00\",\"1959-01-01T00:00:00\",\"1959-02-01T00:00:00\",\"1959-03-01T00:00:00\",\"1959-04-01T00:00:00\",\"1959-05-01T00:00:00\",\"1959-06-01T00:00:00\",\"1959-07-01T00:00:00\",\"1959-08-01T00:00:00\",\"1959-09-01T00:00:00\",\"1959-10-01T00:00:00\",\"1959-11-01T00:00:00\",\"1959-12-01T00:00:00\",\"1960-01-01T00:00:00\",\"1960-02-01T00:00:00\",\"1960-03-01T00:00:00\",\"1960-04-01T00:00:00\",\"1960-05-01T00:00:00\",\"1960-06-01T00:00:00\",\"1960-07-01T00:00:00\",\"1960-08-01T00:00:00\",\"1960-09-01T00:00:00\",\"1960-10-01T00:00:00\",\"1960-11-01T00:00:00\",\"1960-12-01T00:00:00\",\"1961-01-01T00:00:00\",\"1961-02-01T00:00:00\",\"1961-03-01T00:00:00\",\"1961-04-01T00:00:00\",\"1961-05-01T00:00:00\",\"1961-06-01T00:00:00\",\"1961-07-01T00:00:00\",\"1961-08-01T00:00:00\",\"1961-09-01T00:00:00\",\"1961-10-01T00:00:00\",\"1961-11-01T00:00:00\",\"1961-12-01T00:00:00\",\"1962-01-01T00:00:00\",\"1962-02-01T00:00:00\",\"1962-03-01T00:00:00\",\"1962-04-01T00:00:00\",\"1962-05-01T00:00:00\",\"1962-06-01T00:00:00\",\"1962-07-01T00:00:00\",\"1962-08-01T00:00:00\",\"1962-09-01T00:00:00\",\"1962-10-01T00:00:00\",\"1962-11-01T00:00:00\",\"1962-12-01T00:00:00\",\"1963-01-01T00:00:00\",\"1963-02-01T00:00:00\",\"1963-03-01T00:00:00\",\"1963-04-01T00:00:00\",\"1963-05-01T00:00:00\",\"1963-06-01T00:00:00\",\"1963-07-01T00:00:00\",\"1963-08-01T00:00:00\",\"1963-09-01T00:00:00\",\"1963-10-01T00:00:00\",\"1963-11-01T00:00:00\",\"1963-12-01T00:00:00\",\"1964-01-01T00:00:00\",\"1964-02-01T00:00:00\",\"1964-03-01T00:00:00\",\"1964-04-01T00:00:00\",\"1964-05-01T00:00:00\",\"1964-06-01T00:00:00\",\"1964-07-01T00:00:00\",\"1964-08-01T00:00:00\",\"1964-09-01T00:00:00\",\"1964-10-01T00:00:00\",\"1964-11-01T00:00:00\",\"1964-12-01T00:00:00\",\"1965-01-01T00:00:00\",\"1965-02-01T00:00:00\",\"1965-03-01T00:00:00\",\"1965-04-01T00:00:00\",\"1965-05-01T00:00:00\",\"1965-06-01T00:00:00\",\"1965-07-01T00:00:00\",\"1965-08-01T00:00:00\",\"1965-09-01T00:00:00\",\"1965-10-01T00:00:00\",\"1965-11-01T00:00:00\",\"1965-12-01T00:00:00\",\"1966-01-01T00:00:00\",\"1966-02-01T00:00:00\",\"1966-03-01T00:00:00\",\"1966-04-01T00:00:00\",\"1966-05-01T00:00:00\",\"1966-06-01T00:00:00\",\"1966-07-01T00:00:00\",\"1966-08-01T00:00:00\",\"1966-09-01T00:00:00\",\"1966-10-01T00:00:00\",\"1966-11-01T00:00:00\",\"1966-12-01T00:00:00\",\"1967-01-01T00:00:00\",\"1967-02-01T00:00:00\",\"1967-03-01T00:00:00\",\"1967-04-01T00:00:00\",\"1967-05-01T00:00:00\",\"1967-06-01T00:00:00\",\"1967-07-01T00:00:00\",\"1967-08-01T00:00:00\",\"1967-09-01T00:00:00\",\"1967-10-01T00:00:00\",\"1967-11-01T00:00:00\",\"1967-12-01T00:00:00\",\"1968-01-01T00:00:00\",\"1968-02-01T00:00:00\",\"1968-03-01T00:00:00\",\"1968-04-01T00:00:00\",\"1968-05-01T00:00:00\",\"1968-06-01T00:00:00\",\"1968-07-01T00:00:00\",\"1968-08-01T00:00:00\",\"1968-09-01T00:00:00\",\"1968-10-01T00:00:00\",\"1968-11-01T00:00:00\",\"1968-12-01T00:00:00\",\"1969-01-01T00:00:00\",\"1969-02-01T00:00:00\",\"1969-03-01T00:00:00\",\"1969-04-01T00:00:00\",\"1969-05-01T00:00:00\",\"1969-06-01T00:00:00\",\"1969-07-01T00:00:00\",\"1969-08-01T00:00:00\",\"1969-09-01T00:00:00\",\"1969-10-01T00:00:00\",\"1969-11-01T00:00:00\",\"1969-12-01T00:00:00\",\"1970-01-01T00:00:00\",\"1970-02-01T00:00:00\",\"1970-03-01T00:00:00\",\"1970-04-01T00:00:00\",\"1970-05-01T00:00:00\",\"1970-06-01T00:00:00\",\"1970-07-01T00:00:00\",\"1970-08-01T00:00:00\",\"1970-09-01T00:00:00\",\"1970-10-01T00:00:00\",\"1970-11-01T00:00:00\",\"1970-12-01T00:00:00\",\"1971-01-01T00:00:00\",\"1971-02-01T00:00:00\",\"1971-03-01T00:00:00\",\"1971-04-01T00:00:00\",\"1971-05-01T00:00:00\",\"1971-06-01T00:00:00\",\"1971-07-01T00:00:00\",\"1971-08-01T00:00:00\",\"1971-09-01T00:00:00\",\"1971-10-01T00:00:00\",\"1971-11-01T00:00:00\",\"1971-12-01T00:00:00\",\"1972-01-01T00:00:00\",\"1972-02-01T00:00:00\",\"1972-03-01T00:00:00\",\"1972-04-01T00:00:00\",\"1972-05-01T00:00:00\",\"1972-06-01T00:00:00\",\"1972-07-01T00:00:00\",\"1972-08-01T00:00:00\",\"1972-09-01T00:00:00\",\"1972-10-01T00:00:00\",\"1972-11-01T00:00:00\",\"1972-12-01T00:00:00\",\"1973-01-01T00:00:00\",\"1973-02-01T00:00:00\",\"1973-03-01T00:00:00\",\"1973-04-01T00:00:00\",\"1973-05-01T00:00:00\",\"1973-06-01T00:00:00\",\"1973-07-01T00:00:00\",\"1973-08-01T00:00:00\",\"1973-09-01T00:00:00\",\"1973-10-01T00:00:00\",\"1973-11-01T00:00:00\",\"1973-12-01T00:00:00\",\"1974-01-01T00:00:00\",\"1974-02-01T00:00:00\",\"1974-03-01T00:00:00\",\"1974-04-01T00:00:00\",\"1974-05-01T00:00:00\",\"1974-06-01T00:00:00\",\"1974-07-01T00:00:00\",\"1974-08-01T00:00:00\",\"1974-09-01T00:00:00\",\"1974-10-01T00:00:00\",\"1974-11-01T00:00:00\",\"1974-12-01T00:00:00\",\"1975-01-01T00:00:00\",\"1975-02-01T00:00:00\",\"1975-03-01T00:00:00\",\"1975-04-01T00:00:00\",\"1975-05-01T00:00:00\",\"1975-06-01T00:00:00\",\"1975-07-01T00:00:00\",\"1975-08-01T00:00:00\",\"1975-09-01T00:00:00\",\"1975-10-01T00:00:00\",\"1975-11-01T00:00:00\",\"1975-12-01T00:00:00\",\"1976-01-01T00:00:00\",\"1976-02-01T00:00:00\",\"1976-03-01T00:00:00\",\"1976-04-01T00:00:00\",\"1976-05-01T00:00:00\",\"1976-06-01T00:00:00\",\"1976-07-01T00:00:00\",\"1976-08-01T00:00:00\",\"1976-09-01T00:00:00\",\"1976-10-01T00:00:00\",\"1976-11-01T00:00:00\",\"1976-12-01T00:00:00\",\"1977-01-01T00:00:00\",\"1977-02-01T00:00:00\",\"1977-03-01T00:00:00\",\"1977-04-01T00:00:00\",\"1977-05-01T00:00:00\",\"1977-06-01T00:00:00\",\"1977-07-01T00:00:00\",\"1977-08-01T00:00:00\",\"1977-09-01T00:00:00\",\"1977-10-01T00:00:00\",\"1977-11-01T00:00:00\",\"1977-12-01T00:00:00\",\"1978-01-01T00:00:00\",\"1978-02-01T00:00:00\",\"1978-03-01T00:00:00\",\"1978-04-01T00:00:00\",\"1978-05-01T00:00:00\",\"1978-06-01T00:00:00\",\"1978-07-01T00:00:00\",\"1978-08-01T00:00:00\",\"1978-09-01T00:00:00\",\"1978-10-01T00:00:00\",\"1978-11-01T00:00:00\",\"1978-12-01T00:00:00\",\"1979-01-01T00:00:00\",\"1979-02-01T00:00:00\",\"1979-03-01T00:00:00\",\"1979-04-01T00:00:00\",\"1979-05-01T00:00:00\",\"1979-06-01T00:00:00\",\"1979-07-01T00:00:00\",\"1979-08-01T00:00:00\",\"1979-09-01T00:00:00\",\"1979-10-01T00:00:00\",\"1979-11-01T00:00:00\",\"1979-12-01T00:00:00\",\"1980-01-01T00:00:00\",\"1980-02-01T00:00:00\",\"1980-03-01T00:00:00\",\"1980-04-01T00:00:00\",\"1980-05-01T00:00:00\",\"1980-06-01T00:00:00\",\"1980-07-01T00:00:00\",\"1980-08-01T00:00:00\",\"1980-09-01T00:00:00\",\"1980-10-01T00:00:00\",\"1980-11-01T00:00:00\",\"1980-12-01T00:00:00\",\"1981-01-01T00:00:00\",\"1981-02-01T00:00:00\",\"1981-03-01T00:00:00\",\"1981-04-01T00:00:00\",\"1981-05-01T00:00:00\",\"1981-06-01T00:00:00\",\"1981-07-01T00:00:00\",\"1981-08-01T00:00:00\",\"1981-09-01T00:00:00\",\"1981-10-01T00:00:00\",\"1981-11-01T00:00:00\",\"1981-12-01T00:00:00\",\"1982-01-01T00:00:00\",\"1982-02-01T00:00:00\",\"1982-03-01T00:00:00\",\"1982-04-01T00:00:00\",\"1982-05-01T00:00:00\",\"1982-06-01T00:00:00\",\"1982-07-01T00:00:00\",\"1982-08-01T00:00:00\",\"1982-09-01T00:00:00\",\"1982-10-01T00:00:00\",\"1982-11-01T00:00:00\",\"1982-12-01T00:00:00\",\"1983-01-01T00:00:00\",\"1983-02-01T00:00:00\",\"1983-03-01T00:00:00\",\"1983-04-01T00:00:00\",\"1983-05-01T00:00:00\",\"1983-06-01T00:00:00\",\"1983-07-01T00:00:00\",\"1983-08-01T00:00:00\",\"1983-09-01T00:00:00\",\"1983-10-01T00:00:00\",\"1983-11-01T00:00:00\",\"1983-12-01T00:00:00\",\"1984-01-01T00:00:00\",\"1984-02-01T00:00:00\",\"1984-03-01T00:00:00\",\"1984-04-01T00:00:00\",\"1984-05-01T00:00:00\",\"1984-06-01T00:00:00\",\"1984-07-01T00:00:00\",\"1984-08-01T00:00:00\",\"1984-09-01T00:00:00\",\"1984-10-01T00:00:00\",\"1984-11-01T00:00:00\",\"1984-12-01T00:00:00\",\"1985-01-01T00:00:00\",\"1985-02-01T00:00:00\",\"1985-03-01T00:00:00\",\"1985-04-01T00:00:00\",\"1985-05-01T00:00:00\",\"1985-06-01T00:00:00\",\"1985-07-01T00:00:00\",\"1985-08-01T00:00:00\",\"1985-09-01T00:00:00\",\"1985-10-01T00:00:00\",\"1985-11-01T00:00:00\",\"1985-12-01T00:00:00\",\"1986-01-01T00:00:00\",\"1986-02-01T00:00:00\",\"1986-03-01T00:00:00\",\"1986-04-01T00:00:00\",\"1986-05-01T00:00:00\",\"1986-06-01T00:00:00\",\"1986-07-01T00:00:00\",\"1986-08-01T00:00:00\",\"1986-09-01T00:00:00\",\"1986-10-01T00:00:00\",\"1986-11-01T00:00:00\",\"1986-12-01T00:00:00\",\"1987-01-01T00:00:00\",\"1987-02-01T00:00:00\",\"1987-03-01T00:00:00\",\"1987-04-01T00:00:00\",\"1987-05-01T00:00:00\",\"1987-06-01T00:00:00\",\"1987-07-01T00:00:00\",\"1987-08-01T00:00:00\",\"1987-09-01T00:00:00\",\"1987-10-01T00:00:00\",\"1987-11-01T00:00:00\",\"1987-12-01T00:00:00\",\"1988-01-01T00:00:00\",\"1988-02-01T00:00:00\",\"1988-03-01T00:00:00\",\"1988-04-01T00:00:00\",\"1988-05-01T00:00:00\",\"1988-06-01T00:00:00\",\"1988-07-01T00:00:00\",\"1988-08-01T00:00:00\",\"1988-09-01T00:00:00\",\"1988-10-01T00:00:00\",\"1988-11-01T00:00:00\",\"1988-12-01T00:00:00\",\"1989-01-01T00:00:00\",\"1989-02-01T00:00:00\",\"1989-03-01T00:00:00\",\"1989-04-01T00:00:00\",\"1989-05-01T00:00:00\",\"1989-06-01T00:00:00\",\"1989-07-01T00:00:00\",\"1989-08-01T00:00:00\",\"1989-09-01T00:00:00\",\"1989-10-01T00:00:00\",\"1989-11-01T00:00:00\",\"1989-12-01T00:00:00\",\"1990-01-01T00:00:00\",\"1990-02-01T00:00:00\",\"1990-03-01T00:00:00\",\"1990-04-01T00:00:00\",\"1990-05-01T00:00:00\",\"1990-06-01T00:00:00\",\"1990-07-01T00:00:00\",\"1990-08-01T00:00:00\",\"1990-09-01T00:00:00\",\"1990-10-01T00:00:00\",\"1990-11-01T00:00:00\",\"1990-12-01T00:00:00\",\"1991-01-01T00:00:00\",\"1991-02-01T00:00:00\",\"1991-03-01T00:00:00\",\"1991-04-01T00:00:00\",\"1991-05-01T00:00:00\",\"1991-06-01T00:00:00\",\"1991-07-01T00:00:00\",\"1991-08-01T00:00:00\",\"1991-09-01T00:00:00\",\"1991-10-01T00:00:00\",\"1991-11-01T00:00:00\",\"1991-12-01T00:00:00\",\"1992-01-01T00:00:00\",\"1992-02-01T00:00:00\",\"1992-03-01T00:00:00\",\"1992-04-01T00:00:00\",\"1992-05-01T00:00:00\",\"1992-06-01T00:00:00\",\"1992-07-01T00:00:00\",\"1992-08-01T00:00:00\",\"1992-09-01T00:00:00\",\"1992-10-01T00:00:00\",\"1992-11-01T00:00:00\",\"1992-12-01T00:00:00\",\"1993-01-01T00:00:00\",\"1993-02-01T00:00:00\",\"1993-03-01T00:00:00\",\"1993-04-01T00:00:00\",\"1993-05-01T00:00:00\",\"1993-06-01T00:00:00\",\"1993-07-01T00:00:00\",\"1993-08-01T00:00:00\",\"1993-09-01T00:00:00\",\"1993-10-01T00:00:00\",\"1993-11-01T00:00:00\",\"1993-12-01T00:00:00\",\"1994-01-01T00:00:00\",\"1994-02-01T00:00:00\",\"1994-03-01T00:00:00\",\"1994-04-01T00:00:00\",\"1994-05-01T00:00:00\",\"1994-06-01T00:00:00\",\"1994-07-01T00:00:00\",\"1994-08-01T00:00:00\",\"1994-09-01T00:00:00\",\"1994-10-01T00:00:00\",\"1994-11-01T00:00:00\",\"1994-12-01T00:00:00\",\"1995-01-01T00:00:00\",\"1995-02-01T00:00:00\",\"1995-03-01T00:00:00\",\"1995-04-01T00:00:00\",\"1995-05-01T00:00:00\",\"1995-06-01T00:00:00\",\"1995-07-01T00:00:00\",\"1995-08-01T00:00:00\",\"1995-09-01T00:00:00\",\"1995-10-01T00:00:00\",\"1995-11-01T00:00:00\",\"1995-12-01T00:00:00\",\"1996-01-01T00:00:00\",\"1996-02-01T00:00:00\",\"1996-03-01T00:00:00\",\"1996-04-01T00:00:00\",\"1996-05-01T00:00:00\",\"1996-06-01T00:00:00\",\"1996-07-01T00:00:00\",\"1996-08-01T00:00:00\",\"1996-09-01T00:00:00\",\"1996-10-01T00:00:00\",\"1996-11-01T00:00:00\",\"1996-12-01T00:00:00\",\"1997-01-01T00:00:00\",\"1997-02-01T00:00:00\",\"1997-03-01T00:00:00\",\"1997-04-01T00:00:00\",\"1997-05-01T00:00:00\",\"1997-06-01T00:00:00\",\"1997-07-01T00:00:00\",\"1997-08-01T00:00:00\",\"1997-09-01T00:00:00\",\"1997-10-01T00:00:00\",\"1997-11-01T00:00:00\",\"1997-12-01T00:00:00\",\"1998-01-01T00:00:00\",\"1998-02-01T00:00:00\",\"1998-03-01T00:00:00\",\"1998-04-01T00:00:00\",\"1998-05-01T00:00:00\",\"1998-06-01T00:00:00\",\"1998-07-01T00:00:00\",\"1998-08-01T00:00:00\",\"1998-09-01T00:00:00\",\"1998-10-01T00:00:00\",\"1998-11-01T00:00:00\",\"1998-12-01T00:00:00\",\"1999-01-01T00:00:00\",\"1999-02-01T00:00:00\",\"1999-03-01T00:00:00\",\"1999-04-01T00:00:00\",\"1999-05-01T00:00:00\",\"1999-06-01T00:00:00\",\"1999-07-01T00:00:00\",\"1999-08-01T00:00:00\",\"1999-09-01T00:00:00\",\"1999-10-01T00:00:00\",\"1999-11-01T00:00:00\",\"1999-12-01T00:00:00\",\"2000-01-01T00:00:00\",\"2000-02-01T00:00:00\",\"2000-03-01T00:00:00\",\"2000-04-01T00:00:00\",\"2000-05-01T00:00:00\",\"2000-06-01T00:00:00\",\"2000-07-01T00:00:00\",\"2000-08-01T00:00:00\",\"2000-09-01T00:00:00\",\"2000-10-01T00:00:00\",\"2000-11-01T00:00:00\",\"2000-12-01T00:00:00\",\"2001-01-01T00:00:00\",\"2001-02-01T00:00:00\",\"2001-03-01T00:00:00\",\"2001-04-01T00:00:00\",\"2001-05-01T00:00:00\",\"2001-06-01T00:00:00\",\"2001-07-01T00:00:00\",\"2001-08-01T00:00:00\",\"2001-09-01T00:00:00\",\"2001-10-01T00:00:00\",\"2001-11-01T00:00:00\",\"2001-12-01T00:00:00\",\"2002-01-01T00:00:00\",\"2002-02-01T00:00:00\",\"2002-03-01T00:00:00\",\"2002-04-01T00:00:00\",\"2002-05-01T00:00:00\",\"2002-06-01T00:00:00\",\"2002-07-01T00:00:00\",\"2002-08-01T00:00:00\",\"2002-09-01T00:00:00\",\"2002-10-01T00:00:00\",\"2002-11-01T00:00:00\",\"2002-12-01T00:00:00\",\"2003-01-01T00:00:00\",\"2003-02-01T00:00:00\",\"2003-03-01T00:00:00\",\"2003-04-01T00:00:00\",\"2003-05-01T00:00:00\",\"2003-06-01T00:00:00\",\"2003-07-01T00:00:00\",\"2003-08-01T00:00:00\",\"2003-09-01T00:00:00\",\"2003-10-01T00:00:00\",\"2003-11-01T00:00:00\",\"2003-12-01T00:00:00\",\"2004-01-01T00:00:00\",\"2004-02-01T00:00:00\",\"2004-03-01T00:00:00\",\"2004-04-01T00:00:00\",\"2004-05-01T00:00:00\",\"2004-06-01T00:00:00\",\"2004-07-01T00:00:00\",\"2004-08-01T00:00:00\",\"2004-09-01T00:00:00\",\"2004-10-01T00:00:00\",\"2004-11-01T00:00:00\",\"2004-12-01T00:00:00\",\"2005-01-01T00:00:00\",\"2005-02-01T00:00:00\",\"2005-03-01T00:00:00\",\"2005-04-01T00:00:00\",\"2005-05-01T00:00:00\",\"2005-06-01T00:00:00\",\"2005-07-01T00:00:00\",\"2005-08-01T00:00:00\",\"2005-09-01T00:00:00\",\"2005-10-01T00:00:00\",\"2005-11-01T00:00:00\",\"2005-12-01T00:00:00\",\"2006-01-01T00:00:00\",\"2006-02-01T00:00:00\",\"2006-03-01T00:00:00\",\"2006-04-01T00:00:00\",\"2006-05-01T00:00:00\",\"2006-06-01T00:00:00\",\"2006-07-01T00:00:00\",\"2006-08-01T00:00:00\",\"2006-09-01T00:00:00\",\"2006-10-01T00:00:00\",\"2006-11-01T00:00:00\",\"2006-12-01T00:00:00\",\"2007-01-01T00:00:00\",\"2007-02-01T00:00:00\",\"2007-03-01T00:00:00\",\"2007-04-01T00:00:00\",\"2007-05-01T00:00:00\",\"2007-06-01T00:00:00\",\"2007-07-01T00:00:00\",\"2007-08-01T00:00:00\",\"2007-09-01T00:00:00\",\"2007-10-01T00:00:00\",\"2007-11-01T00:00:00\",\"2007-12-01T00:00:00\",\"2008-01-01T00:00:00\",\"2008-02-01T00:00:00\",\"2008-03-01T00:00:00\",\"2008-04-01T00:00:00\",\"2008-05-01T00:00:00\",\"2008-06-01T00:00:00\",\"2008-07-01T00:00:00\",\"2008-08-01T00:00:00\",\"2008-09-01T00:00:00\",\"2008-10-01T00:00:00\",\"2008-11-01T00:00:00\",\"2008-12-01T00:00:00\",\"2009-01-01T00:00:00\",\"2009-02-01T00:00:00\",\"2009-03-01T00:00:00\",\"2009-04-01T00:00:00\",\"2009-05-01T00:00:00\",\"2009-06-01T00:00:00\",\"2009-07-01T00:00:00\",\"2009-08-01T00:00:00\",\"2009-09-01T00:00:00\",\"2009-10-01T00:00:00\",\"2009-11-01T00:00:00\",\"2009-12-01T00:00:00\",\"2010-01-01T00:00:00\",\"2010-02-01T00:00:00\",\"2010-03-01T00:00:00\",\"2010-04-01T00:00:00\",\"2010-05-01T00:00:00\",\"2010-06-01T00:00:00\",\"2010-07-01T00:00:00\",\"2010-08-01T00:00:00\",\"2010-09-01T00:00:00\",\"2010-10-01T00:00:00\",\"2010-11-01T00:00:00\",\"2010-12-01T00:00:00\",\"2011-01-01T00:00:00\",\"2011-02-01T00:00:00\",\"2011-03-01T00:00:00\",\"2011-04-01T00:00:00\",\"2011-05-01T00:00:00\",\"2011-06-01T00:00:00\",\"2011-07-01T00:00:00\",\"2011-08-01T00:00:00\",\"2011-09-01T00:00:00\",\"2011-10-01T00:00:00\",\"2011-11-01T00:00:00\",\"2011-12-01T00:00:00\",\"2012-01-01T00:00:00\",\"2012-02-01T00:00:00\",\"2012-03-01T00:00:00\",\"2012-04-01T00:00:00\",\"2012-05-01T00:00:00\",\"2012-06-01T00:00:00\",\"2012-07-01T00:00:00\",\"2012-08-01T00:00:00\",\"2012-09-01T00:00:00\",\"2012-10-01T00:00:00\",\"2012-11-01T00:00:00\",\"2012-12-01T00:00:00\",\"2013-01-01T00:00:00\",\"2013-02-01T00:00:00\",\"2013-03-01T00:00:00\",\"2013-04-01T00:00:00\",\"2013-05-01T00:00:00\",\"2013-06-01T00:00:00\",\"2013-07-01T00:00:00\",\"2013-08-01T00:00:00\",\"2013-09-01T00:00:00\",\"2013-10-01T00:00:00\",\"2013-11-01T00:00:00\",\"2013-12-01T00:00:00\",\"2014-01-01T00:00:00\",\"2014-02-01T00:00:00\",\"2014-03-01T00:00:00\",\"2014-04-01T00:00:00\",\"2014-05-01T00:00:00\",\"2014-06-01T00:00:00\",\"2014-07-01T00:00:00\",\"2014-08-01T00:00:00\",\"2014-09-01T00:00:00\",\"2014-10-01T00:00:00\",\"2014-11-01T00:00:00\",\"2014-12-01T00:00:00\",\"2015-01-01T00:00:00\",\"2015-02-01T00:00:00\",\"2015-03-01T00:00:00\",\"2015-04-01T00:00:00\",\"2015-05-01T00:00:00\",\"2015-06-01T00:00:00\",\"2015-07-01T00:00:00\",\"2015-08-01T00:00:00\",\"2015-09-01T00:00:00\",\"2015-10-01T00:00:00\",\"2015-11-01T00:00:00\",\"2015-12-01T00:00:00\",\"2016-01-01T00:00:00\",\"2016-02-01T00:00:00\",\"2016-03-01T00:00:00\",\"2016-04-01T00:00:00\",\"2016-05-01T00:00:00\",\"2016-06-01T00:00:00\",\"2016-07-01T00:00:00\",\"2016-08-01T00:00:00\",\"2016-09-01T00:00:00\",\"2016-10-01T00:00:00\",\"2016-11-01T00:00:00\",\"2016-12-01T00:00:00\",\"2017-01-01T00:00:00\",\"2017-02-01T00:00:00\",\"2017-03-01T00:00:00\",\"2017-04-01T00:00:00\",\"2017-05-01T00:00:00\",\"2017-06-01T00:00:00\",\"2017-07-01T00:00:00\",\"2017-08-01T00:00:00\",\"2017-09-01T00:00:00\",\"2017-10-01T00:00:00\",\"2017-11-01T00:00:00\",\"2017-12-01T00:00:00\",\"2018-01-01T00:00:00\",\"2018-02-01T00:00:00\",\"2018-03-01T00:00:00\",\"2018-04-01T00:00:00\",\"2018-05-01T00:00:00\",\"2018-06-01T00:00:00\",\"2018-07-01T00:00:00\",\"2018-08-01T00:00:00\",\"2018-09-01T00:00:00\",\"2018-10-01T00:00:00\",\"2018-11-01T00:00:00\",\"2018-12-01T00:00:00\",\"2019-01-01T00:00:00\",\"2019-02-01T00:00:00\",\"2019-03-01T00:00:00\",\"2019-04-01T00:00:00\",\"2019-05-01T00:00:00\",\"2019-06-01T00:00:00\",\"2019-07-01T00:00:00\",\"2019-08-01T00:00:00\",\"2019-09-01T00:00:00\",\"2019-10-01T00:00:00\",\"2019-11-01T00:00:00\",\"2019-12-01T00:00:00\"],\"y\":[-0.0012,0.013300000000000001,0.0059,-0.0433,-0.033,-0.024900000000000002,0.0167,0.0644,-0.0546,0.052300000000000006,0.0994,-0.0362,0.0618,-0.011000000000000001,-0.0025,-0.045,0.1462,0.0334,0.1077,-0.0124,0.045,0.2384,0.0892,-0.11660000000000001,-0.0176,0.015600000000000001,0.07980000000000001,0.0309,0.11699999999999999,-0.0438,0.048499999999999995,-0.0004,-0.018500000000000003,0.0373,-0.15789999999999998,0.0808,-0.011000000000000001,-0.031200000000000002,-0.0501,-0.2237,-0.12810000000000002,-0.1082,0.1545,0.0452,0.11750000000000001,-0.0911,-0.0801,-0.2127,0.0383,-0.052000000000000005,-0.17070000000000002,-0.0901,-0.0547,-0.2013,0.1949,0.2604,-0.0216,-0.17440000000000003,-0.12140000000000001,0.22190000000000001,-0.027000000000000003,-0.08140000000000001,-0.299,0.0088,-0.1066,-0.2377,0.1408,-0.0097,-0.1068,-0.18230000000000002,-0.0866,0.0044,0.4754,1.228,-0.1547,-0.20829999999999999,-0.1235,-0.1232,0.0062,-0.19920000000000002,0.08710000000000001,0.5002000000000001,1.0397,0.3054,-0.033,0.018000000000000002,-0.1841,-0.0931,0.019,-0.045700000000000005,0.4414,0.07830000000000001,0.0152,0.0195,-0.1456,-0.0392,-0.2066,0.054400000000000004,-0.04360000000000001,-0.0334,0.1577,0.020800000000000003,-0.0418,-0.1342,-0.1084,0.0858,0.0076,-0.0487,0.18239999999999998,0.1605,0.0040999999999999995,0.0599,0.34750000000000003,0.0379,0.3965,0.0529,0.0101,-0.24920000000000003,0.071,-0.0345,0.07740000000000001,0.029300000000000003,0.0545,0.0616,0.2629,0.058600000000000006,0.1727,0.0588,-0.010400000000000001,-0.1616,-0.042,-0.134,0.1274,-0.0986,-0.22760000000000002,-0.0931,-0.1305,-0.12150000000000001,0.0513,-0.015,-0.2888,0.1577,-0.08449999999999999,0.2779,0.1606,-0.1261,-0.0529,0.20809999999999998,-0.0694,-0.060300000000000006,-0.05740000000000001,-0.0037,-0.2021,-0.0003,0.04650000000000001,-0.096,0.1335,-0.1216,1.0225,-0.1303,-0.19039999999999999,-0.047,-0.0333,0.049,0.0040999999999999995,0.020800000000000003,-0.3418,0.0478,0.023100000000000002,-0.0091,0.0451,-0.0161,-0.0184,-0.0746,0.050800000000000005,-0.010400000000000001,0.029900000000000003,-0.052300000000000006,-0.0034999999999999996,0.1104,0.2651,-0.0126,-0.057999999999999996,-0.085,-0.073,-0.1623,0.358,-0.022400000000000003,-0.0758,-0.023799999999999998,-0.0253,0.0421,0.0741,0.0309,0.1311,0.1233,-0.041299999999999996,-0.0092,0.4061,0.3762,0.0736,0.11480000000000001,0.2052,-0.0412,-0.0689,-0.0345,0.04730000000000001,-0.0188,-0.1373,0.13240000000000002,0.0876,0.0496,0.0513,-0.0382,0.0819,0.1793,-0.0259,0.049,-0.0055000000000000005,-0.0021,0.0319,0.1069,0.0654,0.1252,-0.11710000000000001,0.1023,0.055400000000000005,0.11460000000000001,-0.0422,0.0516,0.060700000000000004,0.1335,0.1501,0.0216,0.16890000000000002,-0.0751,0.0232,0.10060000000000001,0.027700000000000002,-0.0564,-0.0529,-0.08710000000000001,-0.1718,-0.0039000000000000003,-0.0084,0.0139,0.055999999999999994,0.0054,-0.041299999999999996,-0.111,-0.0644,0.0654,0.0792,-0.0346,0.0128,0.0379,-0.0288,0.0204,0.0229,-0.0723,0.0971,0.0589,0.1183,-0.011000000000000001,-0.061399999999999996,-0.0111,-0.052199999999999996,0.0519,-0.1035,-0.028900000000000002,0.034300000000000004,-0.0496,0.0719,-0.0248,-0.058499999999999996,-0.0089,0.0759,0.0123,0.0556,0.0765,-0.0167,0.0934,0.0565,0.026000000000000002,-0.0018,0.0622,0.0374,-0.0976,0.0934,0.0455,0.0432,-0.0021,0.029500000000000002,0.1573,0.0789,0.0051,-0.0704,0.038700000000000005,-0.0242,-0.0695,0.038700000000000005,0.0678,0.0118,-0.0138,-0.013300000000000001,-0.0026000000000000003,0.0195,-0.032,0.0085,-0.0443,0.01,0.025400000000000002,-0.0004,-0.0036,-0.006600000000000001,-0.0044,0.0369,0.005600000000000001,0.0576,0.027200000000000002,-0.0144,-0.021400000000000002,0.0139,-0.0433,0.0006,-0.049800000000000004,-0.041600000000000005,0.0263,0.0203,-0.0291,0.0873,-0.0015,0.026099999999999998,0.0116,0.032,0.015600000000000001,0.1193,-0.0037,0.0418,0.0042,0.059699999999999996,0.12869999999999998,0.0392,0.042800000000000005,0.002,0.0315,0.0171,0.048,0.026099999999999998,0.0006,0.0025,-0.0196,0.0347,0.0219,-0.0146,0.0327,0.022799999999999997,0.0072,-0.0431,0.0046,0.0163,-0.010400000000000001,-0.032799999999999996,0.0004,0.0039000000000000003,0.0068000000000000005,0.0425,-0.029900000000000003,0.0078000000000000005,0.034,0.0083,0.0196,0.0084,-0.046,-0.0593,-0.09369999999999999,-0.0033000000000000004,-0.0446,0.1291,-0.0195,0.0327,0.0514,0.0638,0.0364,0.0538,0.0455,0.0667,0.023700000000000002,0.023,0.036000000000000004,0.08220000000000001,0.0354,0.0024,0.0144,0.0005,-0.013999999999999999,0.0388,-0.016399999999999998,-0.0373,-0.001,0.0026000000000000003,0.0146,0.0009,-0.013000000000000001,-0.0123,-0.0336,0.0067,0.0337,-0.0138,0.0535,-0.061399999999999996,-0.0318,0.02,0.0232,0.0886,0.061500000000000006,0.0599,0.036000000000000004,0.04650000000000001,-0.0533,-0.0074,0.013000000000000001,-0.0373,0.0204,0.042800000000000005,-0.0046,0.0383,0.026000000000000002,-0.011000000000000001,-0.0718,-0.1127,-0.08320000000000001,0.07490000000000001,0.0329,-0.0599,-0.0404,0.13369999999999999,-0.0146,0.1076,-0.0036,0.0201,0.0302,0.0663,-0.0188,-0.0023,0.025400000000000002,-0.0019,0.006999999999999999,-0.02,-0.023100000000000002,0.047599999999999996,0.0271,0.023100000000000002,0.0005,0.0077,0.0125,0.0376,-0.0043,0.0509,0.0268,0.001,-0.0171,0.0844,0.0322,0.023,0.051500000000000004,-0.0013000000000000002,-0.0974,0.026400000000000003,0.040999999999999995,0.030299999999999997,0.08109999999999999,0.0717,0.0519,0.0855,0.055,0.005,0.0699,-0.1308,-0.0016,-0.020499999999999997,-0.11699999999999999,-0.0222,-0.05280000000000001,0.0408,0.0147,0.2068,0.06559999999999999,0.0692,0.0493,-0.0024,0.133,0.1039,0.013000000000000001,0.0889,-0.010900000000000002,-0.011000000000000001,0.1165,0.057,-0.07490000000000001,-0.015300000000000001,0.1706,0.1472,0.0154,-0.0223,0.046900000000000004,0.0735,0.0015,0.0709,0.034100000000000005,-0.005699999999999999,-0.10800000000000001,0.0304,0.0011,0.0128,-0.1376,-0.1158,0.0414,-0.033,0.10779999999999999,-0.0706,-0.0868,-0.0188,0.027999999999999997,-0.0414,-0.1886,-0.0965,-0.0809,0.0406,0.059699999999999996,0.1674,-0.08810000000000001,-0.0281,0.09150000000000001,0.17420000000000002,0.0683,0.0617,0.0146,-0.0651,-0.029900000000000003,-0.0672,0.031200000000000002,-0.002,-0.0698,-0.055400000000000005,0.1286,0.1471,0.04650000000000001,-0.0088,0.0051,-0.028300000000000002,-0.04190000000000001,-0.0368,-0.0012,-0.0444,-0.0322,0.0431,-0.0286,-0.028300000000000002,-0.0808,-0.024100000000000003,-0.0724,-0.09369999999999999,-0.035,0.1204,-0.0587,0.0736,0.0002,-0.195,-0.048499999999999995,0.138,0.0012,0.0159,-0.0517,-0.0718,-0.0278,-0.0559,-0.0803,-0.0772,0.0705,-0.0587,-0.08470000000000001,0.26940000000000003,0.0442,0.0833,0.0313,0.0797,0.0741,0.0075,-0.0588,-0.0336,0.0073,0.0175,-0.0126,0.1978,0.1264,0.0172,-0.0102,-0.0296,0.0195,-0.0004,-0.0181,0.013000000000000001,-0.0176,0.0221,0.1054,0.0535,0.0042,0.010900000000000002,0.0213,0.0070999999999999995,0.059800000000000006,0.0181,-0.0016,0.0213,-0.022400000000000003,0.0772,0.026400000000000003,-0.0014000000000000002,0.0374,0.076,0.0835,0.0819,0.008100000000000001,0.048600000000000004,0.1041,0.0036,-0.20850000000000002,0.0442,0.0196,0.1005,-0.0158,0.0801,0.0319,0.0026000000000000003,0.0535,0.0181,0.0729,-0.0063,-0.1026,0.0707,0.08470000000000001,0.1158,-0.0054,-0.1913,0.0524,0.066,0.0444,0.09330000000000001,0.0818,0.0449,0.0611,0.0756,-0.0442,-0.0003,-0.0044,0.0716,0.0357,0.034300000000000004,-0.015700000000000002,-0.0246,-0.0844,-0.10160000000000001,0.0736,0.0116,-0.0212,-0.0124,-0.04360000000000001,-0.0118,0.0479,-0.018600000000000002,-0.0273,-0.0171,0.0442,0.032,0.1295,0.1176,0.0203,0.1158,0.0535,0.0563,0.0792,0.1034,0.046,-0.024700000000000003,-0.0278,-0.008,-0.05940000000000001,0.0257,-0.0219,0.0070999999999999995,-0.0563,0.0037,-0.0245,-0.0517,0.0087,-0.0545,0.0776,-0.0014000000000000002,-0.0223,-0.0378,0.0011,0.1291,0.0431,-0.013200000000000002,-0.0094,0.023700000000000002,0.0178,0.0242,-0.0045000000000000005,-0.060700000000000004,0.0125,0.045899999999999996,0.0317,0.0488,0.0591,0.041299999999999996,0.018000000000000002,0.0348,0.0113,-0.08130000000000001,0.0003,-0.061900000000000004,0.0143,-0.0129,-0.04190000000000001,0.1075,0.0808,0.0334,-0.0197,-0.001,0.0172,0.0206,0.01,-0.0118,-0.2892,-0.053200000000000004,0.016399999999999998,0.07400000000000001,0.0611,0.043,0.0113,-0.023700000000000002,0.050800000000000005,0.0009,-0.022400000000000003,0.011000000000000001,-0.017,-0.04360000000000001,0.0211,0.0493,0.0036,0.0187,0.0286,0.0292,-0.0115,0.0263,0.0197,-0.0008,-0.056900000000000006,-0.0122,-0.0215,-0.0556,0.0122,0.0202,-0.021400000000000002,0.0403,0.0134,-0.04,-0.12460000000000002,-0.0858,-0.0699,0.016200000000000003,-0.0117,0.0727,0.12890000000000001,0.0965,0.0269,0.0262,-0.0402,0.021800000000000003,0.0187,0.0089,0.0232,-0.0124,0.027999999999999997,0.1668,0.0513,-0.010900000000000002,-0.0521,0.0024,-0.0471,0.0244,-0.0329,0.0076,0.0134,0.0742,0.0487,0.0793,-0.0203,0.0364,-0.016399999999999998,0.034100000000000005,0.013999999999999999,0.0141,0.0367,0.037700000000000004,0.050300000000000004,-0.029500000000000002,0.0006,0.055400000000000005,-0.009000000000000001,-0.0452,-0.0147,-0.0045000000000000005,-0.0213,0.0063,0.026600000000000002,0.0148,0.0045000000000000005,-0.0386,-0.0235,0.030699999999999998,0.022000000000000002,0.0203,0.0296,0.0236,0.0763,0.05280000000000001,0.04730000000000001,0.0233,-0.05,0.0055000000000000005,0.008100000000000001,0.025099999999999997,0.0305,0.0288,0.073,0.08750000000000001,-0.0484,-0.0906,0.0326,0.0209,-0.0263,0.0138,0.0033000000000000004,0.065,-0.014499999999999999,-0.046,-0.0301,0.0796,0.0518,0.0483,0.0424,0.1014,-0.020499999999999997,-0.0271,-0.0352,-0.0045000000000000005,0.0521,0.050800000000000005,0.0281,-0.0425,-0.0311,-0.0626,-0.20870000000000002,0.011399999999999999,0.010900000000000002,0.0795,0.005600000000000001,0.0728,-0.0525,-0.037000000000000005,0.08140000000000001,0.0317,0.0382,0.022799999999999997,-0.028900000000000002,-0.0245,-0.0051,0.12210000000000001,0.129,0.106,0.2954,-0.1036,-0.182,-0.1038,0.18530000000000002,-0.0189,0.0383,-0.033100000000000004,-0.0731,-0.0919,-0.023799999999999998,0.1777,-0.0323,-0.0113,0.0288,0.0892,0.0203,-0.0076,-0.031200000000000002,-0.1107,0.0668,0.05740000000000001,0.0669,0.0455,-0.0391,0.0785,0.0196,0.0178,-0.0403,-0.1135,-0.0048,-0.08,0.0332,0.11470000000000001,-0.0384,0.0209,-0.011399999999999999,0.0181,0.09480000000000001,0.141,0.055099999999999996,0.0904,0.0519,0.045,0.09460000000000002,0.0493,0.0275,0.0837,0.0034000000000000002,-0.0045000000000000005,-0.0396,-0.0031,0.0176,-0.0702,-0.0146,0.0382,0.013700000000000002,0.08140000000000001,0.0644,-0.0348,0.0096,-0.042,-0.058300000000000005,0.0426,0.039900000000000005,0.0789,-0.0101,0.0116,-0.035,0.032100000000000004,0.011000000000000001,0.0866,0.0123,0.053,0.0033000000000000004,-0.0584,-0.0126,-0.0358,0.0213,0.0085,0.053099999999999994,0.0248,0.023700000000000002,0.015600000000000001,-0.0046,0.008199999999999999,0.018600000000000002,0.0225,-0.0036,-0.060700000000000004,-0.0147,0.0173,0.01,-0.08800000000000001,-0.0044,-0.0678,-0.032799999999999996,-0.022799999999999997,0.0092,0.035,-0.0704,0.0256,0.0265,-0.09390000000000001,-0.20379999999999998,-0.1565,0.027200000000000002,-0.0765,-0.1285,0.09119999999999999,0.1501,0.0864,0.0524,0.1018,0.0752,0.0649,-0.08130000000000001,0.0174,0.0665,-0.0121,0.042,0.0787,0.1045,-0.0868,-0.09380000000000001,0.0545,-0.086,0.1121,0.044800000000000006,0.027000000000000003,0.0925,0.004,0.042800000000000005,0.0128,0.0025,-0.0271,-0.0248,-0.0246,-0.1067,-0.1103,0.10210000000000001,-0.0221,0.0141,0.0817,0.0268,0.047599999999999996,-0.0113,-0.058499999999999996,0.0605,-0.0184,0.0253,0.04730000000000001,-0.0298,-0.008199999999999999,0.0174,0.0713,0.008100000000000001,0.0538,0.005699999999999999,0.0454,0.0147,0.0792,-0.026600000000000002,0.0668,0.0179,0.053700000000000005,0.0263,0.0061,0.0438,-0.0099,-0.0565,-0.0072,0.0472,-0.0608,0.0379,-0.0492,0.032400000000000005,-0.0103,0.0468,-0.0361,0.046,0.0151,-0.0182,0.017,0.010900000000000002,-0.0492,-0.038900000000000004,-0.0599,0.0386,0.0269,-0.0409,-0.09670000000000001,-0.006600000000000001,0.051100000000000007,0.0455,-0.0012,-0.0023,0.0447,0.0325,0.04730000000000001,-0.0677,0.0983,0.0323,-0.0029,0.0103,0.0217,0.0013000000000000002,-0.0206,0.046900000000000004,-0.0121,-0.0165,0.09029999999999999,-0.0087,0.029500000000000002,0.009300000000000001,0.0221,-0.0386,0.010700000000000001,0.0148,0.0762,0.011200000000000002,-0.01,0.029300000000000003,-0.018500000000000003,-0.1039,-0.021400000000000002,-0.1278,0.1177,0.0406,-0.0302,0.0125,-0.065,0.0487,-0.03,-0.0563,0.0248,-0.0183,0.0317,0.0504],\"type\":\"scatter\"},{\"line\":{\"color\":\"Orange\"},\"name\":\"LargeCap\",\"x\":[\"1926-07-01T00:00:00\",\"1926-08-01T00:00:00\",\"1926-09-01T00:00:00\",\"1926-10-01T00:00:00\",\"1926-11-01T00:00:00\",\"1926-12-01T00:00:00\",\"1927-01-01T00:00:00\",\"1927-02-01T00:00:00\",\"1927-03-01T00:00:00\",\"1927-04-01T00:00:00\",\"1927-05-01T00:00:00\",\"1927-06-01T00:00:00\",\"1927-07-01T00:00:00\",\"1927-08-01T00:00:00\",\"1927-09-01T00:00:00\",\"1927-10-01T00:00:00\",\"1927-11-01T00:00:00\",\"1927-12-01T00:00:00\",\"1928-01-01T00:00:00\",\"1928-02-01T00:00:00\",\"1928-03-01T00:00:00\",\"1928-04-01T00:00:00\",\"1928-05-01T00:00:00\",\"1928-06-01T00:00:00\",\"1928-07-01T00:00:00\",\"1928-08-01T00:00:00\",\"1928-09-01T00:00:00\",\"1928-10-01T00:00:00\",\"1928-11-01T00:00:00\",\"1928-12-01T00:00:00\",\"1929-01-01T00:00:00\",\"1929-02-01T00:00:00\",\"1929-03-01T00:00:00\",\"1929-04-01T00:00:00\",\"1929-05-01T00:00:00\",\"1929-06-01T00:00:00\",\"1929-07-01T00:00:00\",\"1929-08-01T00:00:00\",\"1929-09-01T00:00:00\",\"1929-10-01T00:00:00\",\"1929-11-01T00:00:00\",\"1929-12-01T00:00:00\",\"1930-01-01T00:00:00\",\"1930-02-01T00:00:00\",\"1930-03-01T00:00:00\",\"1930-04-01T00:00:00\",\"1930-05-01T00:00:00\",\"1930-06-01T00:00:00\",\"1930-07-01T00:00:00\",\"1930-08-01T00:00:00\",\"1930-09-01T00:00:00\",\"1930-10-01T00:00:00\",\"1930-11-01T00:00:00\",\"1930-12-01T00:00:00\",\"1931-01-01T00:00:00\",\"1931-02-01T00:00:00\",\"1931-03-01T00:00:00\",\"1931-04-01T00:00:00\",\"1931-05-01T00:00:00\",\"1931-06-01T00:00:00\",\"1931-07-01T00:00:00\",\"1931-08-01T00:00:00\",\"1931-09-01T00:00:00\",\"1931-10-01T00:00:00\",\"1931-11-01T00:00:00\",\"1931-12-01T00:00:00\",\"1932-01-01T00:00:00\",\"1932-02-01T00:00:00\",\"1932-03-01T00:00:00\",\"1932-04-01T00:00:00\",\"1932-05-01T00:00:00\",\"1932-06-01T00:00:00\",\"1932-07-01T00:00:00\",\"1932-08-01T00:00:00\",\"1932-09-01T00:00:00\",\"1932-10-01T00:00:00\",\"1932-11-01T00:00:00\",\"1932-12-01T00:00:00\",\"1933-01-01T00:00:00\",\"1933-02-01T00:00:00\",\"1933-03-01T00:00:00\",\"1933-04-01T00:00:00\",\"1933-05-01T00:00:00\",\"1933-06-01T00:00:00\",\"1933-07-01T00:00:00\",\"1933-08-01T00:00:00\",\"1933-09-01T00:00:00\",\"1933-10-01T00:00:00\",\"1933-11-01T00:00:00\",\"1933-12-01T00:00:00\",\"1934-01-01T00:00:00\",\"1934-02-01T00:00:00\",\"1934-03-01T00:00:00\",\"1934-04-01T00:00:00\",\"1934-05-01T00:00:00\",\"1934-06-01T00:00:00\",\"1934-07-01T00:00:00\",\"1934-08-01T00:00:00\",\"1934-09-01T00:00:00\",\"1934-10-01T00:00:00\",\"1934-11-01T00:00:00\",\"1934-12-01T00:00:00\",\"1935-01-01T00:00:00\",\"1935-02-01T00:00:00\",\"1935-03-01T00:00:00\",\"1935-04-01T00:00:00\",\"1935-05-01T00:00:00\",\"1935-06-01T00:00:00\",\"1935-07-01T00:00:00\",\"1935-08-01T00:00:00\",\"1935-09-01T00:00:00\",\"1935-10-01T00:00:00\",\"1935-11-01T00:00:00\",\"1935-12-01T00:00:00\",\"1936-01-01T00:00:00\",\"1936-02-01T00:00:00\",\"1936-03-01T00:00:00\",\"1936-04-01T00:00:00\",\"1936-05-01T00:00:00\",\"1936-06-01T00:00:00\",\"1936-07-01T00:00:00\",\"1936-08-01T00:00:00\",\"1936-09-01T00:00:00\",\"1936-10-01T00:00:00\",\"1936-11-01T00:00:00\",\"1936-12-01T00:00:00\",\"1937-01-01T00:00:00\",\"1937-02-01T00:00:00\",\"1937-03-01T00:00:00\",\"1937-04-01T00:00:00\",\"1937-05-01T00:00:00\",\"1937-06-01T00:00:00\",\"1937-07-01T00:00:00\",\"1937-08-01T00:00:00\",\"1937-09-01T00:00:00\",\"1937-10-01T00:00:00\",\"1937-11-01T00:00:00\",\"1937-12-01T00:00:00\",\"1938-01-01T00:00:00\",\"1938-02-01T00:00:00\",\"1938-03-01T00:00:00\",\"1938-04-01T00:00:00\",\"1938-05-01T00:00:00\",\"1938-06-01T00:00:00\",\"1938-07-01T00:00:00\",\"1938-08-01T00:00:00\",\"1938-09-01T00:00:00\",\"1938-10-01T00:00:00\",\"1938-11-01T00:00:00\",\"1938-12-01T00:00:00\",\"1939-01-01T00:00:00\",\"1939-02-01T00:00:00\",\"1939-03-01T00:00:00\",\"1939-04-01T00:00:00\",\"1939-05-01T00:00:00\",\"1939-06-01T00:00:00\",\"1939-07-01T00:00:00\",\"1939-08-01T00:00:00\",\"1939-09-01T00:00:00\",\"1939-10-01T00:00:00\",\"1939-11-01T00:00:00\",\"1939-12-01T00:00:00\",\"1940-01-01T00:00:00\",\"1940-02-01T00:00:00\",\"1940-03-01T00:00:00\",\"1940-04-01T00:00:00\",\"1940-05-01T00:00:00\",\"1940-06-01T00:00:00\",\"1940-07-01T00:00:00\",\"1940-08-01T00:00:00\",\"1940-09-01T00:00:00\",\"1940-10-01T00:00:00\",\"1940-11-01T00:00:00\",\"1940-12-01T00:00:00\",\"1941-01-01T00:00:00\",\"1941-02-01T00:00:00\",\"1941-03-01T00:00:00\",\"1941-04-01T00:00:00\",\"1941-05-01T00:00:00\",\"1941-06-01T00:00:00\",\"1941-07-01T00:00:00\",\"1941-08-01T00:00:00\",\"1941-09-01T00:00:00\",\"1941-10-01T00:00:00\",\"1941-11-01T00:00:00\",\"1941-12-01T00:00:00\",\"1942-01-01T00:00:00\",\"1942-02-01T00:00:00\",\"1942-03-01T00:00:00\",\"1942-04-01T00:00:00\",\"1942-05-01T00:00:00\",\"1942-06-01T00:00:00\",\"1942-07-01T00:00:00\",\"1942-08-01T00:00:00\",\"1942-09-01T00:00:00\",\"1942-10-01T00:00:00\",\"1942-11-01T00:00:00\",\"1942-12-01T00:00:00\",\"1943-01-01T00:00:00\",\"1943-02-01T00:00:00\",\"1943-03-01T00:00:00\",\"1943-04-01T00:00:00\",\"1943-05-01T00:00:00\",\"1943-06-01T00:00:00\",\"1943-07-01T00:00:00\",\"1943-08-01T00:00:00\",\"1943-09-01T00:00:00\",\"1943-10-01T00:00:00\",\"1943-11-01T00:00:00\",\"1943-12-01T00:00:00\",\"1944-01-01T00:00:00\",\"1944-02-01T00:00:00\",\"1944-03-01T00:00:00\",\"1944-04-01T00:00:00\",\"1944-05-01T00:00:00\",\"1944-06-01T00:00:00\",\"1944-07-01T00:00:00\",\"1944-08-01T00:00:00\",\"1944-09-01T00:00:00\",\"1944-10-01T00:00:00\",\"1944-11-01T00:00:00\",\"1944-12-01T00:00:00\",\"1945-01-01T00:00:00\",\"1945-02-01T00:00:00\",\"1945-03-01T00:00:00\",\"1945-04-01T00:00:00\",\"1945-05-01T00:00:00\",\"1945-06-01T00:00:00\",\"1945-07-01T00:00:00\",\"1945-08-01T00:00:00\",\"1945-09-01T00:00:00\",\"1945-10-01T00:00:00\",\"1945-11-01T00:00:00\",\"1945-12-01T00:00:00\",\"1946-01-01T00:00:00\",\"1946-02-01T00:00:00\",\"1946-03-01T00:00:00\",\"1946-04-01T00:00:00\",\"1946-05-01T00:00:00\",\"1946-06-01T00:00:00\",\"1946-07-01T00:00:00\",\"1946-08-01T00:00:00\",\"1946-09-01T00:00:00\",\"1946-10-01T00:00:00\",\"1946-11-01T00:00:00\",\"1946-12-01T00:00:00\",\"1947-01-01T00:00:00\",\"1947-02-01T00:00:00\",\"1947-03-01T00:00:00\",\"1947-04-01T00:00:00\",\"1947-05-01T00:00:00\",\"1947-06-01T00:00:00\",\"1947-07-01T00:00:00\",\"1947-08-01T00:00:00\",\"1947-09-01T00:00:00\",\"1947-10-01T00:00:00\",\"1947-11-01T00:00:00\",\"1947-12-01T00:00:00\",\"1948-01-01T00:00:00\",\"1948-02-01T00:00:00\",\"1948-03-01T00:00:00\",\"1948-04-01T00:00:00\",\"1948-05-01T00:00:00\",\"1948-06-01T00:00:00\",\"1948-07-01T00:00:00\",\"1948-08-01T00:00:00\",\"1948-09-01T00:00:00\",\"1948-10-01T00:00:00\",\"1948-11-01T00:00:00\",\"1948-12-01T00:00:00\",\"1949-01-01T00:00:00\",\"1949-02-01T00:00:00\",\"1949-03-01T00:00:00\",\"1949-04-01T00:00:00\",\"1949-05-01T00:00:00\",\"1949-06-01T00:00:00\",\"1949-07-01T00:00:00\",\"1949-08-01T00:00:00\",\"1949-09-01T00:00:00\",\"1949-10-01T00:00:00\",\"1949-11-01T00:00:00\",\"1949-12-01T00:00:00\",\"1950-01-01T00:00:00\",\"1950-02-01T00:00:00\",\"1950-03-01T00:00:00\",\"1950-04-01T00:00:00\",\"1950-05-01T00:00:00\",\"1950-06-01T00:00:00\",\"1950-07-01T00:00:00\",\"1950-08-01T00:00:00\",\"1950-09-01T00:00:00\",\"1950-10-01T00:00:00\",\"1950-11-01T00:00:00\",\"1950-12-01T00:00:00\",\"1951-01-01T00:00:00\",\"1951-02-01T00:00:00\",\"1951-03-01T00:00:00\",\"1951-04-01T00:00:00\",\"1951-05-01T00:00:00\",\"1951-06-01T00:00:00\",\"1951-07-01T00:00:00\",\"1951-08-01T00:00:00\",\"1951-09-01T00:00:00\",\"1951-10-01T00:00:00\",\"1951-11-01T00:00:00\",\"1951-12-01T00:00:00\",\"1952-01-01T00:00:00\",\"1952-02-01T00:00:00\",\"1952-03-01T00:00:00\",\"1952-04-01T00:00:00\",\"1952-05-01T00:00:00\",\"1952-06-01T00:00:00\",\"1952-07-01T00:00:00\",\"1952-08-01T00:00:00\",\"1952-09-01T00:00:00\",\"1952-10-01T00:00:00\",\"1952-11-01T00:00:00\",\"1952-12-01T00:00:00\",\"1953-01-01T00:00:00\",\"1953-02-01T00:00:00\",\"1953-03-01T00:00:00\",\"1953-04-01T00:00:00\",\"1953-05-01T00:00:00\",\"1953-06-01T00:00:00\",\"1953-07-01T00:00:00\",\"1953-08-01T00:00:00\",\"1953-09-01T00:00:00\",\"1953-10-01T00:00:00\",\"1953-11-01T00:00:00\",\"1953-12-01T00:00:00\",\"1954-01-01T00:00:00\",\"1954-02-01T00:00:00\",\"1954-03-01T00:00:00\",\"1954-04-01T00:00:00\",\"1954-05-01T00:00:00\",\"1954-06-01T00:00:00\",\"1954-07-01T00:00:00\",\"1954-08-01T00:00:00\",\"1954-09-01T00:00:00\",\"1954-10-01T00:00:00\",\"1954-11-01T00:00:00\",\"1954-12-01T00:00:00\",\"1955-01-01T00:00:00\",\"1955-02-01T00:00:00\",\"1955-03-01T00:00:00\",\"1955-04-01T00:00:00\",\"1955-05-01T00:00:00\",\"1955-06-01T00:00:00\",\"1955-07-01T00:00:00\",\"1955-08-01T00:00:00\",\"1955-09-01T00:00:00\",\"1955-10-01T00:00:00\",\"1955-11-01T00:00:00\",\"1955-12-01T00:00:00\",\"1956-01-01T00:00:00\",\"1956-02-01T00:00:00\",\"1956-03-01T00:00:00\",\"1956-04-01T00:00:00\",\"1956-05-01T00:00:00\",\"1956-06-01T00:00:00\",\"1956-07-01T00:00:00\",\"1956-08-01T00:00:00\",\"1956-09-01T00:00:00\",\"1956-10-01T00:00:00\",\"1956-11-01T00:00:00\",\"1956-12-01T00:00:00\",\"1957-01-01T00:00:00\",\"1957-02-01T00:00:00\",\"1957-03-01T00:00:00\",\"1957-04-01T00:00:00\",\"1957-05-01T00:00:00\",\"1957-06-01T00:00:00\",\"1957-07-01T00:00:00\",\"1957-08-01T00:00:00\",\"1957-09-01T00:00:00\",\"1957-10-01T00:00:00\",\"1957-11-01T00:00:00\",\"1957-12-01T00:00:00\",\"1958-01-01T00:00:00\",\"1958-02-01T00:00:00\",\"1958-03-01T00:00:00\",\"1958-04-01T00:00:00\",\"1958-05-01T00:00:00\",\"1958-06-01T00:00:00\",\"1958-07-01T00:00:00\",\"1958-08-01T00:00:00\",\"1958-09-01T00:00:00\",\"1958-10-01T00:00:00\",\"1958-11-01T00:00:00\",\"1958-12-01T00:00:00\",\"1959-01-01T00:00:00\",\"1959-02-01T00:00:00\",\"1959-03-01T00:00:00\",\"1959-04-01T00:00:00\",\"1959-05-01T00:00:00\",\"1959-06-01T00:00:00\",\"1959-07-01T00:00:00\",\"1959-08-01T00:00:00\",\"1959-09-01T00:00:00\",\"1959-10-01T00:00:00\",\"1959-11-01T00:00:00\",\"1959-12-01T00:00:00\",\"1960-01-01T00:00:00\",\"1960-02-01T00:00:00\",\"1960-03-01T00:00:00\",\"1960-04-01T00:00:00\",\"1960-05-01T00:00:00\",\"1960-06-01T00:00:00\",\"1960-07-01T00:00:00\",\"1960-08-01T00:00:00\",\"1960-09-01T00:00:00\",\"1960-10-01T00:00:00\",\"1960-11-01T00:00:00\",\"1960-12-01T00:00:00\",\"1961-01-01T00:00:00\",\"1961-02-01T00:00:00\",\"1961-03-01T00:00:00\",\"1961-04-01T00:00:00\",\"1961-05-01T00:00:00\",\"1961-06-01T00:00:00\",\"1961-07-01T00:00:00\",\"1961-08-01T00:00:00\",\"1961-09-01T00:00:00\",\"1961-10-01T00:00:00\",\"1961-11-01T00:00:00\",\"1961-12-01T00:00:00\",\"1962-01-01T00:00:00\",\"1962-02-01T00:00:00\",\"1962-03-01T00:00:00\",\"1962-04-01T00:00:00\",\"1962-05-01T00:00:00\",\"1962-06-01T00:00:00\",\"1962-07-01T00:00:00\",\"1962-08-01T00:00:00\",\"1962-09-01T00:00:00\",\"1962-10-01T00:00:00\",\"1962-11-01T00:00:00\",\"1962-12-01T00:00:00\",\"1963-01-01T00:00:00\",\"1963-02-01T00:00:00\",\"1963-03-01T00:00:00\",\"1963-04-01T00:00:00\",\"1963-05-01T00:00:00\",\"1963-06-01T00:00:00\",\"1963-07-01T00:00:00\",\"1963-08-01T00:00:00\",\"1963-09-01T00:00:00\",\"1963-10-01T00:00:00\",\"1963-11-01T00:00:00\",\"1963-12-01T00:00:00\",\"1964-01-01T00:00:00\",\"1964-02-01T00:00:00\",\"1964-03-01T00:00:00\",\"1964-04-01T00:00:00\",\"1964-05-01T00:00:00\",\"1964-06-01T00:00:00\",\"1964-07-01T00:00:00\",\"1964-08-01T00:00:00\",\"1964-09-01T00:00:00\",\"1964-10-01T00:00:00\",\"1964-11-01T00:00:00\",\"1964-12-01T00:00:00\",\"1965-01-01T00:00:00\",\"1965-02-01T00:00:00\",\"1965-03-01T00:00:00\",\"1965-04-01T00:00:00\",\"1965-05-01T00:00:00\",\"1965-06-01T00:00:00\",\"1965-07-01T00:00:00\",\"1965-08-01T00:00:00\",\"1965-09-01T00:00:00\",\"1965-10-01T00:00:00\",\"1965-11-01T00:00:00\",\"1965-12-01T00:00:00\",\"1966-01-01T00:00:00\",\"1966-02-01T00:00:00\",\"1966-03-01T00:00:00\",\"1966-04-01T00:00:00\",\"1966-05-01T00:00:00\",\"1966-06-01T00:00:00\",\"1966-07-01T00:00:00\",\"1966-08-01T00:00:00\",\"1966-09-01T00:00:00\",\"1966-10-01T00:00:00\",\"1966-11-01T00:00:00\",\"1966-12-01T00:00:00\",\"1967-01-01T00:00:00\",\"1967-02-01T00:00:00\",\"1967-03-01T00:00:00\",\"1967-04-01T00:00:00\",\"1967-05-01T00:00:00\",\"1967-06-01T00:00:00\",\"1967-07-01T00:00:00\",\"1967-08-01T00:00:00\",\"1967-09-01T00:00:00\",\"1967-10-01T00:00:00\",\"1967-11-01T00:00:00\",\"1967-12-01T00:00:00\",\"1968-01-01T00:00:00\",\"1968-02-01T00:00:00\",\"1968-03-01T00:00:00\",\"1968-04-01T00:00:00\",\"1968-05-01T00:00:00\",\"1968-06-01T00:00:00\",\"1968-07-01T00:00:00\",\"1968-08-01T00:00:00\",\"1968-09-01T00:00:00\",\"1968-10-01T00:00:00\",\"1968-11-01T00:00:00\",\"1968-12-01T00:00:00\",\"1969-01-01T00:00:00\",\"1969-02-01T00:00:00\",\"1969-03-01T00:00:00\",\"1969-04-01T00:00:00\",\"1969-05-01T00:00:00\",\"1969-06-01T00:00:00\",\"1969-07-01T00:00:00\",\"1969-08-01T00:00:00\",\"1969-09-01T00:00:00\",\"1969-10-01T00:00:00\",\"1969-11-01T00:00:00\",\"1969-12-01T00:00:00\",\"1970-01-01T00:00:00\",\"1970-02-01T00:00:00\",\"1970-03-01T00:00:00\",\"1970-04-01T00:00:00\",\"1970-05-01T00:00:00\",\"1970-06-01T00:00:00\",\"1970-07-01T00:00:00\",\"1970-08-01T00:00:00\",\"1970-09-01T00:00:00\",\"1970-10-01T00:00:00\",\"1970-11-01T00:00:00\",\"1970-12-01T00:00:00\",\"1971-01-01T00:00:00\",\"1971-02-01T00:00:00\",\"1971-03-01T00:00:00\",\"1971-04-01T00:00:00\",\"1971-05-01T00:00:00\",\"1971-06-01T00:00:00\",\"1971-07-01T00:00:00\",\"1971-08-01T00:00:00\",\"1971-09-01T00:00:00\",\"1971-10-01T00:00:00\",\"1971-11-01T00:00:00\",\"1971-12-01T00:00:00\",\"1972-01-01T00:00:00\",\"1972-02-01T00:00:00\",\"1972-03-01T00:00:00\",\"1972-04-01T00:00:00\",\"1972-05-01T00:00:00\",\"1972-06-01T00:00:00\",\"1972-07-01T00:00:00\",\"1972-08-01T00:00:00\",\"1972-09-01T00:00:00\",\"1972-10-01T00:00:00\",\"1972-11-01T00:00:00\",\"1972-12-01T00:00:00\",\"1973-01-01T00:00:00\",\"1973-02-01T00:00:00\",\"1973-03-01T00:00:00\",\"1973-04-01T00:00:00\",\"1973-05-01T00:00:00\",\"1973-06-01T00:00:00\",\"1973-07-01T00:00:00\",\"1973-08-01T00:00:00\",\"1973-09-01T00:00:00\",\"1973-10-01T00:00:00\",\"1973-11-01T00:00:00\",\"1973-12-01T00:00:00\",\"1974-01-01T00:00:00\",\"1974-02-01T00:00:00\",\"1974-03-01T00:00:00\",\"1974-04-01T00:00:00\",\"1974-05-01T00:00:00\",\"1974-06-01T00:00:00\",\"1974-07-01T00:00:00\",\"1974-08-01T00:00:00\",\"1974-09-01T00:00:00\",\"1974-10-01T00:00:00\",\"1974-11-01T00:00:00\",\"1974-12-01T00:00:00\",\"1975-01-01T00:00:00\",\"1975-02-01T00:00:00\",\"1975-03-01T00:00:00\",\"1975-04-01T00:00:00\",\"1975-05-01T00:00:00\",\"1975-06-01T00:00:00\",\"1975-07-01T00:00:00\",\"1975-08-01T00:00:00\",\"1975-09-01T00:00:00\",\"1975-10-01T00:00:00\",\"1975-11-01T00:00:00\",\"1975-12-01T00:00:00\",\"1976-01-01T00:00:00\",\"1976-02-01T00:00:00\",\"1976-03-01T00:00:00\",\"1976-04-01T00:00:00\",\"1976-05-01T00:00:00\",\"1976-06-01T00:00:00\",\"1976-07-01T00:00:00\",\"1976-08-01T00:00:00\",\"1976-09-01T00:00:00\",\"1976-10-01T00:00:00\",\"1976-11-01T00:00:00\",\"1976-12-01T00:00:00\",\"1977-01-01T00:00:00\",\"1977-02-01T00:00:00\",\"1977-03-01T00:00:00\",\"1977-04-01T00:00:00\",\"1977-05-01T00:00:00\",\"1977-06-01T00:00:00\",\"1977-07-01T00:00:00\",\"1977-08-01T00:00:00\",\"1977-09-01T00:00:00\",\"1977-10-01T00:00:00\",\"1977-11-01T00:00:00\",\"1977-12-01T00:00:00\",\"1978-01-01T00:00:00\",\"1978-02-01T00:00:00\",\"1978-03-01T00:00:00\",\"1978-04-01T00:00:00\",\"1978-05-01T00:00:00\",\"1978-06-01T00:00:00\",\"1978-07-01T00:00:00\",\"1978-08-01T00:00:00\",\"1978-09-01T00:00:00\",\"1978-10-01T00:00:00\",\"1978-11-01T00:00:00\",\"1978-12-01T00:00:00\",\"1979-01-01T00:00:00\",\"1979-02-01T00:00:00\",\"1979-03-01T00:00:00\",\"1979-04-01T00:00:00\",\"1979-05-01T00:00:00\",\"1979-06-01T00:00:00\",\"1979-07-01T00:00:00\",\"1979-08-01T00:00:00\",\"1979-09-01T00:00:00\",\"1979-10-01T00:00:00\",\"1979-11-01T00:00:00\",\"1979-12-01T00:00:00\",\"1980-01-01T00:00:00\",\"1980-02-01T00:00:00\",\"1980-03-01T00:00:00\",\"1980-04-01T00:00:00\",\"1980-05-01T00:00:00\",\"1980-06-01T00:00:00\",\"1980-07-01T00:00:00\",\"1980-08-01T00:00:00\",\"1980-09-01T00:00:00\",\"1980-10-01T00:00:00\",\"1980-11-01T00:00:00\",\"1980-12-01T00:00:00\",\"1981-01-01T00:00:00\",\"1981-02-01T00:00:00\",\"1981-03-01T00:00:00\",\"1981-04-01T00:00:00\",\"1981-05-01T00:00:00\",\"1981-06-01T00:00:00\",\"1981-07-01T00:00:00\",\"1981-08-01T00:00:00\",\"1981-09-01T00:00:00\",\"1981-10-01T00:00:00\",\"1981-11-01T00:00:00\",\"1981-12-01T00:00:00\",\"1982-01-01T00:00:00\",\"1982-02-01T00:00:00\",\"1982-03-01T00:00:00\",\"1982-04-01T00:00:00\",\"1982-05-01T00:00:00\",\"1982-06-01T00:00:00\",\"1982-07-01T00:00:00\",\"1982-08-01T00:00:00\",\"1982-09-01T00:00:00\",\"1982-10-01T00:00:00\",\"1982-11-01T00:00:00\",\"1982-12-01T00:00:00\",\"1983-01-01T00:00:00\",\"1983-02-01T00:00:00\",\"1983-03-01T00:00:00\",\"1983-04-01T00:00:00\",\"1983-05-01T00:00:00\",\"1983-06-01T00:00:00\",\"1983-07-01T00:00:00\",\"1983-08-01T00:00:00\",\"1983-09-01T00:00:00\",\"1983-10-01T00:00:00\",\"1983-11-01T00:00:00\",\"1983-12-01T00:00:00\",\"1984-01-01T00:00:00\",\"1984-02-01T00:00:00\",\"1984-03-01T00:00:00\",\"1984-04-01T00:00:00\",\"1984-05-01T00:00:00\",\"1984-06-01T00:00:00\",\"1984-07-01T00:00:00\",\"1984-08-01T00:00:00\",\"1984-09-01T00:00:00\",\"1984-10-01T00:00:00\",\"1984-11-01T00:00:00\",\"1984-12-01T00:00:00\",\"1985-01-01T00:00:00\",\"1985-02-01T00:00:00\",\"1985-03-01T00:00:00\",\"1985-04-01T00:00:00\",\"1985-05-01T00:00:00\",\"1985-06-01T00:00:00\",\"1985-07-01T00:00:00\",\"1985-08-01T00:00:00\",\"1985-09-01T00:00:00\",\"1985-10-01T00:00:00\",\"1985-11-01T00:00:00\",\"1985-12-01T00:00:00\",\"1986-01-01T00:00:00\",\"1986-02-01T00:00:00\",\"1986-03-01T00:00:00\",\"1986-04-01T00:00:00\",\"1986-05-01T00:00:00\",\"1986-06-01T00:00:00\",\"1986-07-01T00:00:00\",\"1986-08-01T00:00:00\",\"1986-09-01T00:00:00\",\"1986-10-01T00:00:00\",\"1986-11-01T00:00:00\",\"1986-12-01T00:00:00\",\"1987-01-01T00:00:00\",\"1987-02-01T00:00:00\",\"1987-03-01T00:00:00\",\"1987-04-01T00:00:00\",\"1987-05-01T00:00:00\",\"1987-06-01T00:00:00\",\"1987-07-01T00:00:00\",\"1987-08-01T00:00:00\",\"1987-09-01T00:00:00\",\"1987-10-01T00:00:00\",\"1987-11-01T00:00:00\",\"1987-12-01T00:00:00\",\"1988-01-01T00:00:00\",\"1988-02-01T00:00:00\",\"1988-03-01T00:00:00\",\"1988-04-01T00:00:00\",\"1988-05-01T00:00:00\",\"1988-06-01T00:00:00\",\"1988-07-01T00:00:00\",\"1988-08-01T00:00:00\",\"1988-09-01T00:00:00\",\"1988-10-01T00:00:00\",\"1988-11-01T00:00:00\",\"1988-12-01T00:00:00\",\"1989-01-01T00:00:00\",\"1989-02-01T00:00:00\",\"1989-03-01T00:00:00\",\"1989-04-01T00:00:00\",\"1989-05-01T00:00:00\",\"1989-06-01T00:00:00\",\"1989-07-01T00:00:00\",\"1989-08-01T00:00:00\",\"1989-09-01T00:00:00\",\"1989-10-01T00:00:00\",\"1989-11-01T00:00:00\",\"1989-12-01T00:00:00\",\"1990-01-01T00:00:00\",\"1990-02-01T00:00:00\",\"1990-03-01T00:00:00\",\"1990-04-01T00:00:00\",\"1990-05-01T00:00:00\",\"1990-06-01T00:00:00\",\"1990-07-01T00:00:00\",\"1990-08-01T00:00:00\",\"1990-09-01T00:00:00\",\"1990-10-01T00:00:00\",\"1990-11-01T00:00:00\",\"1990-12-01T00:00:00\",\"1991-01-01T00:00:00\",\"1991-02-01T00:00:00\",\"1991-03-01T00:00:00\",\"1991-04-01T00:00:00\",\"1991-05-01T00:00:00\",\"1991-06-01T00:00:00\",\"1991-07-01T00:00:00\",\"1991-08-01T00:00:00\",\"1991-09-01T00:00:00\",\"1991-10-01T00:00:00\",\"1991-11-01T00:00:00\",\"1991-12-01T00:00:00\",\"1992-01-01T00:00:00\",\"1992-02-01T00:00:00\",\"1992-03-01T00:00:00\",\"1992-04-01T00:00:00\",\"1992-05-01T00:00:00\",\"1992-06-01T00:00:00\",\"1992-07-01T00:00:00\",\"1992-08-01T00:00:00\",\"1992-09-01T00:00:00\",\"1992-10-01T00:00:00\",\"1992-11-01T00:00:00\",\"1992-12-01T00:00:00\",\"1993-01-01T00:00:00\",\"1993-02-01T00:00:00\",\"1993-03-01T00:00:00\",\"1993-04-01T00:00:00\",\"1993-05-01T00:00:00\",\"1993-06-01T00:00:00\",\"1993-07-01T00:00:00\",\"1993-08-01T00:00:00\",\"1993-09-01T00:00:00\",\"1993-10-01T00:00:00\",\"1993-11-01T00:00:00\",\"1993-12-01T00:00:00\",\"1994-01-01T00:00:00\",\"1994-02-01T00:00:00\",\"1994-03-01T00:00:00\",\"1994-04-01T00:00:00\",\"1994-05-01T00:00:00\",\"1994-06-01T00:00:00\",\"1994-07-01T00:00:00\",\"1994-08-01T00:00:00\",\"1994-09-01T00:00:00\",\"1994-10-01T00:00:00\",\"1994-11-01T00:00:00\",\"1994-12-01T00:00:00\",\"1995-01-01T00:00:00\",\"1995-02-01T00:00:00\",\"1995-03-01T00:00:00\",\"1995-04-01T00:00:00\",\"1995-05-01T00:00:00\",\"1995-06-01T00:00:00\",\"1995-07-01T00:00:00\",\"1995-08-01T00:00:00\",\"1995-09-01T00:00:00\",\"1995-10-01T00:00:00\",\"1995-11-01T00:00:00\",\"1995-12-01T00:00:00\",\"1996-01-01T00:00:00\",\"1996-02-01T00:00:00\",\"1996-03-01T00:00:00\",\"1996-04-01T00:00:00\",\"1996-05-01T00:00:00\",\"1996-06-01T00:00:00\",\"1996-07-01T00:00:00\",\"1996-08-01T00:00:00\",\"1996-09-01T00:00:00\",\"1996-10-01T00:00:00\",\"1996-11-01T00:00:00\",\"1996-12-01T00:00:00\",\"1997-01-01T00:00:00\",\"1997-02-01T00:00:00\",\"1997-03-01T00:00:00\",\"1997-04-01T00:00:00\",\"1997-05-01T00:00:00\",\"1997-06-01T00:00:00\",\"1997-07-01T00:00:00\",\"1997-08-01T00:00:00\",\"1997-09-01T00:00:00\",\"1997-10-01T00:00:00\",\"1997-11-01T00:00:00\",\"1997-12-01T00:00:00\",\"1998-01-01T00:00:00\",\"1998-02-01T00:00:00\",\"1998-03-01T00:00:00\",\"1998-04-01T00:00:00\",\"1998-05-01T00:00:00\",\"1998-06-01T00:00:00\",\"1998-07-01T00:00:00\",\"1998-08-01T00:00:00\",\"1998-09-01T00:00:00\",\"1998-10-01T00:00:00\",\"1998-11-01T00:00:00\",\"1998-12-01T00:00:00\",\"1999-01-01T00:00:00\",\"1999-02-01T00:00:00\",\"1999-03-01T00:00:00\",\"1999-04-01T00:00:00\",\"1999-05-01T00:00:00\",\"1999-06-01T00:00:00\",\"1999-07-01T00:00:00\",\"1999-08-01T00:00:00\",\"1999-09-01T00:00:00\",\"1999-10-01T00:00:00\",\"1999-11-01T00:00:00\",\"1999-12-01T00:00:00\",\"2000-01-01T00:00:00\",\"2000-02-01T00:00:00\",\"2000-03-01T00:00:00\",\"2000-04-01T00:00:00\",\"2000-05-01T00:00:00\",\"2000-06-01T00:00:00\",\"2000-07-01T00:00:00\",\"2000-08-01T00:00:00\",\"2000-09-01T00:00:00\",\"2000-10-01T00:00:00\",\"2000-11-01T00:00:00\",\"2000-12-01T00:00:00\",\"2001-01-01T00:00:00\",\"2001-02-01T00:00:00\",\"2001-03-01T00:00:00\",\"2001-04-01T00:00:00\",\"2001-05-01T00:00:00\",\"2001-06-01T00:00:00\",\"2001-07-01T00:00:00\",\"2001-08-01T00:00:00\",\"2001-09-01T00:00:00\",\"2001-10-01T00:00:00\",\"2001-11-01T00:00:00\",\"2001-12-01T00:00:00\",\"2002-01-01T00:00:00\",\"2002-02-01T00:00:00\",\"2002-03-01T00:00:00\",\"2002-04-01T00:00:00\",\"2002-05-01T00:00:00\",\"2002-06-01T00:00:00\",\"2002-07-01T00:00:00\",\"2002-08-01T00:00:00\",\"2002-09-01T00:00:00\",\"2002-10-01T00:00:00\",\"2002-11-01T00:00:00\",\"2002-12-01T00:00:00\",\"2003-01-01T00:00:00\",\"2003-02-01T00:00:00\",\"2003-03-01T00:00:00\",\"2003-04-01T00:00:00\",\"2003-05-01T00:00:00\",\"2003-06-01T00:00:00\",\"2003-07-01T00:00:00\",\"2003-08-01T00:00:00\",\"2003-09-01T00:00:00\",\"2003-10-01T00:00:00\",\"2003-11-01T00:00:00\",\"2003-12-01T00:00:00\",\"2004-01-01T00:00:00\",\"2004-02-01T00:00:00\",\"2004-03-01T00:00:00\",\"2004-04-01T00:00:00\",\"2004-05-01T00:00:00\",\"2004-06-01T00:00:00\",\"2004-07-01T00:00:00\",\"2004-08-01T00:00:00\",\"2004-09-01T00:00:00\",\"2004-10-01T00:00:00\",\"2004-11-01T00:00:00\",\"2004-12-01T00:00:00\",\"2005-01-01T00:00:00\",\"2005-02-01T00:00:00\",\"2005-03-01T00:00:00\",\"2005-04-01T00:00:00\",\"2005-05-01T00:00:00\",\"2005-06-01T00:00:00\",\"2005-07-01T00:00:00\",\"2005-08-01T00:00:00\",\"2005-09-01T00:00:00\",\"2005-10-01T00:00:00\",\"2005-11-01T00:00:00\",\"2005-12-01T00:00:00\",\"2006-01-01T00:00:00\",\"2006-02-01T00:00:00\",\"2006-03-01T00:00:00\",\"2006-04-01T00:00:00\",\"2006-05-01T00:00:00\",\"2006-06-01T00:00:00\",\"2006-07-01T00:00:00\",\"2006-08-01T00:00:00\",\"2006-09-01T00:00:00\",\"2006-10-01T00:00:00\",\"2006-11-01T00:00:00\",\"2006-12-01T00:00:00\",\"2007-01-01T00:00:00\",\"2007-02-01T00:00:00\",\"2007-03-01T00:00:00\",\"2007-04-01T00:00:00\",\"2007-05-01T00:00:00\",\"2007-06-01T00:00:00\",\"2007-07-01T00:00:00\",\"2007-08-01T00:00:00\",\"2007-09-01T00:00:00\",\"2007-10-01T00:00:00\",\"2007-11-01T00:00:00\",\"2007-12-01T00:00:00\",\"2008-01-01T00:00:00\",\"2008-02-01T00:00:00\",\"2008-03-01T00:00:00\",\"2008-04-01T00:00:00\",\"2008-05-01T00:00:00\",\"2008-06-01T00:00:00\",\"2008-07-01T00:00:00\",\"2008-08-01T00:00:00\",\"2008-09-01T00:00:00\",\"2008-10-01T00:00:00\",\"2008-11-01T00:00:00\",\"2008-12-01T00:00:00\",\"2009-01-01T00:00:00\",\"2009-02-01T00:00:00\",\"2009-03-01T00:00:00\",\"2009-04-01T00:00:00\",\"2009-05-01T00:00:00\",\"2009-06-01T00:00:00\",\"2009-07-01T00:00:00\",\"2009-08-01T00:00:00\",\"2009-09-01T00:00:00\",\"2009-10-01T00:00:00\",\"2009-11-01T00:00:00\",\"2009-12-01T00:00:00\",\"2010-01-01T00:00:00\",\"2010-02-01T00:00:00\",\"2010-03-01T00:00:00\",\"2010-04-01T00:00:00\",\"2010-05-01T00:00:00\",\"2010-06-01T00:00:00\",\"2010-07-01T00:00:00\",\"2010-08-01T00:00:00\",\"2010-09-01T00:00:00\",\"2010-10-01T00:00:00\",\"2010-11-01T00:00:00\",\"2010-12-01T00:00:00\",\"2011-01-01T00:00:00\",\"2011-02-01T00:00:00\",\"2011-03-01T00:00:00\",\"2011-04-01T00:00:00\",\"2011-05-01T00:00:00\",\"2011-06-01T00:00:00\",\"2011-07-01T00:00:00\",\"2011-08-01T00:00:00\",\"2011-09-01T00:00:00\",\"2011-10-01T00:00:00\",\"2011-11-01T00:00:00\",\"2011-12-01T00:00:00\",\"2012-01-01T00:00:00\",\"2012-02-01T00:00:00\",\"2012-03-01T00:00:00\",\"2012-04-01T00:00:00\",\"2012-05-01T00:00:00\",\"2012-06-01T00:00:00\",\"2012-07-01T00:00:00\",\"2012-08-01T00:00:00\",\"2012-09-01T00:00:00\",\"2012-10-01T00:00:00\",\"2012-11-01T00:00:00\",\"2012-12-01T00:00:00\",\"2013-01-01T00:00:00\",\"2013-02-01T00:00:00\",\"2013-03-01T00:00:00\",\"2013-04-01T00:00:00\",\"2013-05-01T00:00:00\",\"2013-06-01T00:00:00\",\"2013-07-01T00:00:00\",\"2013-08-01T00:00:00\",\"2013-09-01T00:00:00\",\"2013-10-01T00:00:00\",\"2013-11-01T00:00:00\",\"2013-12-01T00:00:00\",\"2014-01-01T00:00:00\",\"2014-02-01T00:00:00\",\"2014-03-01T00:00:00\",\"2014-04-01T00:00:00\",\"2014-05-01T00:00:00\",\"2014-06-01T00:00:00\",\"2014-07-01T00:00:00\",\"2014-08-01T00:00:00\",\"2014-09-01T00:00:00\",\"2014-10-01T00:00:00\",\"2014-11-01T00:00:00\",\"2014-12-01T00:00:00\",\"2015-01-01T00:00:00\",\"2015-02-01T00:00:00\",\"2015-03-01T00:00:00\",\"2015-04-01T00:00:00\",\"2015-05-01T00:00:00\",\"2015-06-01T00:00:00\",\"2015-07-01T00:00:00\",\"2015-08-01T00:00:00\",\"2015-09-01T00:00:00\",\"2015-10-01T00:00:00\",\"2015-11-01T00:00:00\",\"2015-12-01T00:00:00\",\"2016-01-01T00:00:00\",\"2016-02-01T00:00:00\",\"2016-03-01T00:00:00\",\"2016-04-01T00:00:00\",\"2016-05-01T00:00:00\",\"2016-06-01T00:00:00\",\"2016-07-01T00:00:00\",\"2016-08-01T00:00:00\",\"2016-09-01T00:00:00\",\"2016-10-01T00:00:00\",\"2016-11-01T00:00:00\",\"2016-12-01T00:00:00\",\"2017-01-01T00:00:00\",\"2017-02-01T00:00:00\",\"2017-03-01T00:00:00\",\"2017-04-01T00:00:00\",\"2017-05-01T00:00:00\",\"2017-06-01T00:00:00\",\"2017-07-01T00:00:00\",\"2017-08-01T00:00:00\",\"2017-09-01T00:00:00\",\"2017-10-01T00:00:00\",\"2017-11-01T00:00:00\",\"2017-12-01T00:00:00\",\"2018-01-01T00:00:00\",\"2018-02-01T00:00:00\",\"2018-03-01T00:00:00\",\"2018-04-01T00:00:00\",\"2018-05-01T00:00:00\",\"2018-06-01T00:00:00\",\"2018-07-01T00:00:00\",\"2018-08-01T00:00:00\",\"2018-09-01T00:00:00\",\"2018-10-01T00:00:00\",\"2018-11-01T00:00:00\",\"2018-12-01T00:00:00\",\"2019-01-01T00:00:00\",\"2019-02-01T00:00:00\",\"2019-03-01T00:00:00\",\"2019-04-01T00:00:00\",\"2019-05-01T00:00:00\",\"2019-06-01T00:00:00\",\"2019-07-01T00:00:00\",\"2019-08-01T00:00:00\",\"2019-09-01T00:00:00\",\"2019-10-01T00:00:00\",\"2019-11-01T00:00:00\",\"2019-12-01T00:00:00\"],\"y\":[0.0371,0.0379,0.0125,-0.0256,0.024,0.029700000000000004,-0.0027,0.0403,0.0178,0.0124,0.0543,-0.0189,0.085,0.028900000000000002,0.0541,-0.0418,0.06269999999999999,0.012700000000000001,-0.0149,-0.006500000000000001,0.09670000000000001,0.0364,0.0125,-0.0358,0.0079,0.0698,0.023100000000000002,0.0173,0.1297,-0.0004,0.0562,-0.0013000000000000002,0.0095,0.0189,-0.0504,0.1037,0.055700000000000006,0.10439999999999999,-0.0576,-0.1889,-0.1241,0.0229,0.0499,0.028999999999999998,0.078,-0.0084,-0.0076,-0.149,0.0424,0.009300000000000001,-0.1165,-0.0809,-0.0286,-0.0613,0.0514,0.1045,-0.0565,-0.08470000000000001,-0.1241,0.1343,-0.06269999999999999,0.004,-0.28,0.0766,-0.08789999999999999,-0.1278,-0.024100000000000003,0.0671,-0.1119,-0.18359999999999999,-0.20140000000000002,-0.016200000000000003,0.31570000000000004,0.32439999999999997,-0.0227,-0.11539999999999999,-0.053,0.057300000000000004,0.006999999999999999,-0.1479,0.0169,0.3517,0.1706,0.11880000000000002,-0.0901,0.11109999999999999,-0.09960000000000001,-0.07940000000000001,0.1092,0.0159,0.1024,-0.0285,-0.0038,-0.0207,-0.06480000000000001,0.026400000000000003,-0.0866,0.049100000000000005,0.0015,-0.0182,0.0743,-0.0015,-0.0294,-0.0173,-0.0271,0.0916,0.0371,0.0575,0.0717,0.020499999999999997,0.0263,0.0629,0.042300000000000004,0.0378,0.058300000000000005,0.0178,0.0117,-0.0675,0.0542,0.033,0.0647,0.0059,0.0042,0.0781,0.023700000000000002,-0.0059,0.027999999999999997,0.005,-0.0085,-0.0663,0.001,-0.0349,0.08750000000000001,-0.05,-0.1159,-0.0935,-0.078,-0.030299999999999997,0.0012,0.051,-0.23120000000000002,0.13470000000000001,-0.0318,0.2291,0.0625,-0.0184,0.0143,0.0599,-0.0141,0.0381,-0.05,0.0296,-0.0962,-0.0034999999999999996,0.06,-0.0441,0.08960000000000001,-0.050800000000000005,0.1399,-0.0049,-0.0229,0.0305,-0.023,0.0122,0.0178,0.0011,-0.2043,0.06570000000000001,0.029500000000000002,0.020499999999999997,0.0198,0.021400000000000002,-0.0189,0.0128,-0.045,-0.012700000000000001,0.0069,-0.0556,0.0138,0.0581,0.0451,-0.0006,-0.0076,-0.052199999999999996,-0.018000000000000002,-0.04360000000000001,-0.0091,-0.0267,-0.0706,-0.039900000000000005,0.0688,0.028300000000000002,0.0311,0.0161,0.024700000000000003,0.061500000000000006,0.0068000000000000005,0.0495,0.0596,0.0512,0.0418,0.0006,0.0541,0.0207,-0.0401,0.013500000000000002,0.0219,-0.0116,-0.0488,0.053200000000000004,0.0122,0.0022,0.0203,-0.0116,0.0438,0.0443,-0.0147,0.010700000000000001,0.0005,0.0036,0.0161,0.031000000000000003,0.015,0.0538,-0.0333,0.0727,0.0166,-0.0073,-0.013500000000000002,0.055700000000000006,0.039700000000000006,0.029700000000000004,0.0379,0.0053,0.055,-0.0517,0.0525,0.041600000000000005,0.03,-0.0309,-0.0195,-0.0618,-0.08810000000000001,-0.014499999999999999,0.0012,0.0467,0.011899999999999999,-0.0102,-0.0118,-0.0322,0.0028000000000000004,0.049800000000000004,0.0337,-0.0171,-0.010400000000000001,0.0236,-0.0141,0.032,-0.0435,-0.0369,0.0696,0.034300000000000004,0.0688,0.006,-0.0483,0.0049,-0.0239,0.06420000000000001,-0.087,0.0373,-0.0014000000000000002,-0.028900000000000002,0.036000000000000004,-0.0118,-0.0298,0.0037,0.0547,0.029900000000000003,0.026600000000000002,0.034,0.018600000000000002,0.0453,0.0116,0.0144,0.0197,0.041100000000000005,0.0499,-0.0509,0.0051,0.0514,0.0442,0.0040999999999999995,0.0245,0.04820000000000001,0.0535,0.0154,-0.0143,0.0533,-0.024100000000000003,-0.0178,0.0714,0.0461,0.0001,-0.0235,0.0039000000000000003,0.0424,0.0152,-0.0276,0.0517,-0.050499999999999996,0.0354,0.0449,0.0102,-0.0095,-0.0204,-0.0015,0.059500000000000004,0.0345,-0.0092,-0.005200000000000001,-0.0148,-0.028700000000000003,0.0069,-0.011000000000000001,0.0292,-0.0431,0.0064,0.0504,0.0298,0.004,0.0484,0.017,0.0396,0.0555,0.0271,0.0088,0.0421,-0.0253,0.0753,-0.020800000000000003,0.0942,0.047599999999999996,0.0048,0.0267,-0.0033000000000000004,0.0388,0.0121,0.0821,0.027999999999999997,0.0021,0.0058,-0.027999999999999997,0.0767,0.0147,-0.028700000000000003,0.04190000000000001,0.0733,0.006600000000000001,-0.0556,0.039900000000000005,0.0527,-0.0356,-0.0529,0.0064,0.0034000000000000002,0.037200000000000004,-0.0452,-0.0175,0.0232,0.0535,0.041600000000000005,0.0014000000000000002,0.0123,-0.0466,-0.060300000000000006,-0.0356,0.023,-0.0381,0.0357,-0.0187,0.0334,0.031200000000000002,0.0193,0.0298,0.0412,0.0169,0.0493,0.0245,0.026400000000000003,0.0604,0.0022,0.0039000000000000003,0.0031,0.042699999999999995,0.028399999999999998,-0.0045000000000000005,0.0358,-0.009300000000000001,-0.0433,0.0096,0.0187,0.034,-0.0755,0.014499999999999999,-0.010700000000000001,-0.0189,0.0339,0.022400000000000003,-0.024,0.0304,-0.0587,0.0009,0.042699999999999995,0.0501,0.059500000000000004,0.0273,0.0258,0.0054,0.0209,-0.0244,0.0358,0.0242,-0.016200000000000003,0.0279,0.0487,0.0059,-0.044800000000000006,0.0234,-0.0047,-0.062000000000000006,-0.0789,-0.0844,0.0681,0.0209,-0.0451,0.012700000000000001,0.1011,0.0189,0.0463,-0.0248,0.0386,0.049800000000000004,0.0161,-0.0199,0.0033000000000000004,0.052300000000000006,-0.0091,0.0354,-0.0055000000000000005,0.0257,0.0319,0.0147,0.0126,0.0091,0.0176,0.0161,0.0169,-0.013000000000000001,0.0275,0.006,0.0033000000000000004,0.0070999999999999995,0.031200000000000002,-0.0043,-0.015500000000000002,0.0336,-0.0027,-0.0396,0.0111,0.0248,0.0326,0.0217,-0.012,0.0068000000000000005,-0.0045000000000000005,-0.0187,-0.0246,0.018500000000000003,-0.0401,-0.0174,-0.0125,-0.0676,-0.0021,0.054000000000000006,0.0095,-0.0053,0.07,0.008100000000000001,0.0382,0.044500000000000005,-0.05,0.014199999999999999,0.0409,-0.009000000000000001,0.0347,-0.0176,0.0075,0.023,-0.045599999999999995,-0.0233,0.0121,0.0786,0.0097,0.0084,-0.016,0.013300000000000001,0.0301,0.0074,0.0487,-0.0458,-0.0096,-0.0351,0.0409,0.0252,0.0064,-0.04650000000000001,-0.056900000000000006,0.0504,-0.0304,0.040999999999999995,-0.0273,-0.0095,-0.0808,0.055999999999999994,0.0004,-0.08449999999999999,-0.04820000000000001,-0.0499,0.0732,0.0443,0.0285,-0.005,0.0545,0.0519,0.0347,0.0126,0.0408,0.0345,-0.0382,0.0046,-0.0386,0.04,-0.0039000000000000003,-0.0325,0.01,0.08070000000000001,0.0173,0.0301,0.0113,0.005699999999999999,0.026400000000000003,-0.013999999999999999,0.009000000000000001,0.037000000000000005,0.0019,0.014499999999999999,0.0401,0.0229,-0.005699999999999999,-0.032,0.0018,-0.0381,-0.006999999999999999,0.0016,0.0344,-0.0347,0.0286,0.0018,-0.0986,0.013200000000000002,-0.02,-0.0008,-0.0222,-0.0363,-0.0169,-0.0148,-0.08720000000000001,-0.0837,-0.12480000000000001,0.1812,-0.0463,-0.0209,0.1077,0.07110000000000001,0.0196,0.0481,0.0535,0.0424,-0.06910000000000001,-0.0168,-0.0368,0.0674,0.0319,-0.0159,0.10960000000000002,-0.0165,0.0358,-0.0106,-0.0079,0.043899999999999995,-0.0083,0.0045000000000000005,0.0253,-0.02,-0.008,0.0483,-0.0513,-0.0139,-0.018000000000000002,-0.0053,-0.0163,0.049100000000000005,-0.012700000000000001,-0.0113,-0.0017000000000000001,-0.0426,0.031400000000000004,0.005200000000000001,-0.0621,-0.015600000000000001,0.0177,0.092,0.0073,-0.0188,0.0552,0.03,-0.005600000000000001,-0.0762,0.03,0.0197,0.035,-0.0286,0.048499999999999995,0.0029,-0.0195,0.0354,0.005,0.0563,0.0031,-0.0563,0.051100000000000007,0.0105,0.0584,0.014499999999999999,-0.0942,0.0431,0.0488,0.027999999999999997,0.055700000000000006,0.0126,0.0267,0.0196,0.1283,-0.036000000000000004,-0.0552,0.0189,0.0161,-0.0275,0.0001,0.0018,0.0098,-0.052300000000000006,-0.0517,0.0517,0.050300000000000004,-0.0323,-0.0149,-0.05740000000000001,-0.0077,0.0365,-0.0209,-0.0176,-0.0172,0.1259,0.0085,0.10470000000000002,0.037000000000000005,0.0139,0.0391,0.024,0.0313,0.0768,-0.0193,0.0383,-0.0354,0.0213,0.011399999999999999,-0.010400000000000001,0.0159,-0.0016,0.0005,-0.027400000000000004,0.0074,0.018000000000000002,-0.049100000000000005,0.0268,-0.006500000000000001,0.1067,-0.0009,0.0040999999999999995,-0.011399999999999999,0.023700000000000002,0.0741,0.016,0.0001,-0.0007000000000000001,0.0599,0.0134,-0.0062,-0.004,-0.0273,0.0442,0.0708,0.0512,-0.0016,0.0753,0.059699999999999996,-0.0101,0.0536,0.0194,-0.0488,0.0723,-0.0913,0.053200000000000004,0.0263,-0.0227,0.1333,0.0347,0.0267,-0.0085,0.0098,0.0519,0.0432,0.04650000000000001,-0.022400000000000003,-0.1972,-0.0916,0.06559999999999999,0.043899999999999995,0.0373,-0.042,0.010900000000000002,0.0122,0.0438,-0.0001,-0.031400000000000004,0.0433,0.0318,-0.009000000000000001,0.0176,0.0719,-0.0296,0.0242,0.0526,0.04,-0.0076,0.09179999999999999,0.0122,0.0044,-0.0117,0.0225,0.023799999999999998,-0.068,0.0118,0.026099999999999998,-0.016200000000000003,0.0949,-0.003,0.0008,-0.0851,-0.0404,0.005200000000000001,0.0564,0.0239,0.04070000000000001,0.0671,0.022400000000000003,-0.003,0.0365,-0.042,0.0481,0.0262,-0.0165,0.0118,-0.0329,0.1164,-0.0278,0.0051,-0.0184,0.029500000000000002,0.0067,-0.0161,0.040999999999999995,-0.0183,0.0088,0.0005,0.0316,0.0115,-0.0003,0.0125,0.0181,-0.0279,0.026400000000000003,0.0029,-0.006600000000000001,0.0347,-0.006,0.0192,-0.0089,0.006600000000000001,0.0315,-0.0327,-0.0426,0.0152,0.020499999999999997,-0.0236,0.0323,0.0376,-0.0236,0.026600000000000002,-0.0313,0.014199999999999999,0.0298,0.0342,0.0265,0.0322,0.042,0.0236,0.0329,0.0023,0.051100000000000007,0.0044,0.0422,0.0192,0.0357,0.0108,0.0070999999999999995,0.0117,0.0282,0.0085,-0.0406,0.0183,0.059699999999999996,0.027000000000000003,0.0786,-0.0182,0.0684,0.0072,-0.044500000000000005,0.067,0.0592,0.0478,0.08130000000000001,-0.0632,0.0538,-0.0286,0.0512,0.0173,0.0197,0.0713,0.0533,0.016200000000000003,-0.015700000000000002,0.0514,0.0001,-0.1443,0.0668,0.08070000000000001,0.0674,0.0684,0.049400000000000006,-0.0339,0.0394,0.0296,-0.026400000000000003,0.0543,-0.0335,-0.0019,-0.0258,0.0704,0.0256,0.061200000000000004,-0.0472,-0.026000000000000002,0.10640000000000001,-0.0344,-0.0257,0.0273,-0.019,0.0727,-0.0547,-0.016399999999999998,-0.09720000000000001,-0.0019,0.0323,-0.1054,-0.07400000000000001,0.08,0.0022,-0.0244,-0.0091,-0.0677,-0.07110000000000001,0.017,0.07769999999999999,0.004,-0.018000000000000002,-0.022799999999999997,0.0332,-0.07200000000000001,-0.0072,-0.0758,-0.0645,0.0084,-0.10869999999999999,0.09380000000000001,0.053,-0.06230000000000001,-0.029900000000000003,-0.0198,0.0117,0.08470000000000001,0.0444,0.0148,0.015700000000000002,0.0129,-0.0098,0.0513,0.006600000000000001,0.0536,0.015700000000000002,0.013000000000000001,-0.0191,-0.0099,0.0096,0.0131,-0.0326,0.0042,0.0038,0.0088,0.0349,0.0352,-0.0252,0.0168,-0.0194,-0.0129,0.0296,-0.006600000000000001,0.032799999999999996,-0.008,0.0048,-0.010900000000000002,0.0364,-0.003,0.0179,0.0023,0.0115,0.0117,-0.0223,0.0013000000000000002,0.010400000000000001,0.024100000000000003,0.027400000000000004,0.032100000000000004,0.0144,0.0181,0.0125,-0.027000000000000003,0.0118,0.0443,0.0345,-0.0165,-0.026600000000000002,0.0211,0.0404,0.0197,-0.0393,-0.0074,-0.0596,-0.0317,-0.0016,0.0401,0.0076,-0.08750000000000001,-0.0070999999999999995,0.012700000000000001,-0.08070000000000001,-0.1487,-0.0632,0.0062,-0.0805,-0.0971,0.08710000000000001,0.0755,0.056100000000000004,0.0025,0.0703,0.0294,0.031400000000000004,-0.0106,0.0639,0.010700000000000001,-0.0345,0.0271,0.0567,0.0067,-0.08140000000000001,-0.0506,0.06860000000000001,-0.0437,0.0855,0.0395,-0.0055000000000000005,0.06480000000000001,0.024700000000000003,0.030299999999999997,-0.0037,0.029900000000000003,-0.013999999999999999,-0.0166,-0.0146,-0.050800000000000005,-0.062000000000000006,0.102,-0.0015,0.0139,0.0434,0.045700000000000005,0.036000000000000004,-0.0077,-0.0571,0.0434,0.0151,0.0213,0.0281,-0.0198,0.0036,0.0039000000000000003,0.048600000000000004,0.0125,0.037200000000000004,0.0199,0.0253,-0.015,0.0518,-0.0285,0.029700000000000004,0.0475,0.034,0.0252,-0.0388,0.040999999999999995,0.010700000000000001,0.0092,0.0219,0.016399999999999998,-0.011000000000000001,0.0384,-0.0096,0.0198,0.028999999999999998,-0.005699999999999999,-0.0347,0.05940000000000001,-0.0199,0.0152,0.012,-0.0181,0.026099999999999998,-0.0636,-0.025,0.0867,0.0039000000000000003,-0.0134,-0.0513,-0.005,0.0626,0.0034000000000000002,0.0179,-0.0017000000000000001,0.0351,0.0031,-0.0005,-0.0138,0.0323,0.0216,0.018600000000000002,0.042800000000000005,0.0025,0.0125,0.0149,0.0059,0.0219,0.008,0.0178,0.0267,0.030600000000000002,0.011200000000000002,0.064,-0.0348,-0.0323,0.005,0.027200000000000002,0.0059,0.0386,0.037000000000000005,0.0075,-0.0652,0.0178,-0.0876,0.0742,0.0292,0.0197,0.04360000000000001,-0.0668,0.0699,0.0161,-0.0158,0.0169,0.0282,0.0378,0.0301],\"type\":\"scatter\"}],                        {\"template\":{\"data\":{\"histogram2dcontour\":[{\"type\":\"histogram2dcontour\",\"colorbar\":{\"outlinewidth\":0,\"ticks\":\"\"},\"colorscale\":[[0.0,\"#0d0887\"],[0.1111111111111111,\"#46039f\"],[0.2222222222222222,\"#7201a8\"],[0.3333333333333333,\"#9c179e\"],[0.4444444444444444,\"#bd3786\"],[0.5555555555555556,\"#d8576b\"],[0.6666666666666666,\"#ed7953\"],[0.7777777777777778,\"#fb9f3a\"],[0.8888888888888888,\"#fdca26\"],[1.0,\"#f0f921\"]]}],\"choropleth\":[{\"type\":\"choropleth\",\"colorbar\":{\"outlinewidth\":0,\"ticks\":\"\"}}],\"histogram2d\":[{\"type\":\"histogram2d\",\"colorbar\":{\"outlinewidth\":0,\"ticks\":\"\"},\"colorscale\":[[0.0,\"#0d0887\"],[0.1111111111111111,\"#46039f\"],[0.2222222222222222,\"#7201a8\"],[0.3333333333333333,\"#9c179e\"],[0.4444444444444444,\"#bd3786\"],[0.5555555555555556,\"#d8576b\"],[0.6666666666666666,\"#ed7953\"],[0.7777777777777778,\"#fb9f3a\"],[0.8888888888888888,\"#fdca26\"],[1.0,\"#f0f921\"]]}],\"heatmap\":[{\"type\":\"heatmap\",\"colorbar\":{\"outlinewidth\":0,\"ticks\":\"\"},\"colorscale\":[[0.0,\"#0d0887\"],[0.1111111111111111,\"#46039f\"],[0.2222222222222222,\"#7201a8\"],[0.3333333333333333,\"#9c179e\"],[0.4444444444444444,\"#bd3786\"],[0.5555555555555556,\"#d8576b\"],[0.6666666666666666,\"#ed7953\"],[0.7777777777777778,\"#fb9f3a\"],[0.8888888888888888,\"#fdca26\"],[1.0,\"#f0f921\"]]}],\"heatmapgl\":[{\"type\":\"heatmapgl\",\"colorbar\":{\"outlinewidth\":0,\"ticks\":\"\"},\"colorscale\":[[0.0,\"#0d0887\"],[0.1111111111111111,\"#46039f\"],[0.2222222222222222,\"#7201a8\"],[0.3333333333333333,\"#9c179e\"],[0.4444444444444444,\"#bd3786\"],[0.5555555555555556,\"#d8576b\"],[0.6666666666666666,\"#ed7953\"],[0.7777777777777778,\"#fb9f3a\"],[0.8888888888888888,\"#fdca26\"],[1.0,\"#f0f921\"]]}],\"contourcarpet\":[{\"type\":\"contourcarpet\",\"colorbar\":{\"outlinewidth\":0,\"ticks\":\"\"}}],\"contour\":[{\"type\":\"contour\",\"colorbar\":{\"outlinewidth\":0,\"ticks\":\"\"},\"colorscale\":[[0.0,\"#0d0887\"],[0.1111111111111111,\"#46039f\"],[0.2222222222222222,\"#7201a8\"],[0.3333333333333333,\"#9c179e\"],[0.4444444444444444,\"#bd3786\"],[0.5555555555555556,\"#d8576b\"],[0.6666666666666666,\"#ed7953\"],[0.7777777777777778,\"#fb9f3a\"],[0.8888888888888888,\"#fdca26\"],[1.0,\"#f0f921\"]]}],\"surface\":[{\"type\":\"surface\",\"colorbar\":{\"outlinewidth\":0,\"ticks\":\"\"},\"colorscale\":[[0.0,\"#0d0887\"],[0.1111111111111111,\"#46039f\"],[0.2222222222222222,\"#7201a8\"],[0.3333333333333333,\"#9c179e\"],[0.4444444444444444,\"#bd3786\"],[0.5555555555555556,\"#d8576b\"],[0.6666666666666666,\"#ed7953\"],[0.7777777777777778,\"#fb9f3a\"],[0.8888888888888888,\"#fdca26\"],[1.0,\"#f0f921\"]]}],\"mesh3d\":[{\"type\":\"mesh3d\",\"colorbar\":{\"outlinewidth\":0,\"ticks\":\"\"}}],\"scatter\":[{\"fillpattern\":{\"fillmode\":\"overlay\",\"size\":10,\"solidity\":0.2},\"type\":\"scatter\"}],\"parcoords\":[{\"type\":\"parcoords\",\"line\":{\"colorbar\":{\"outlinewidth\":0,\"ticks\":\"\"}}}],\"scatterpolargl\":[{\"type\":\"scatterpolargl\",\"marker\":{\"colorbar\":{\"outlinewidth\":0,\"ticks\":\"\"}}}],\"bar\":[{\"error_x\":{\"color\":\"#2a3f5f\"},\"error_y\":{\"color\":\"#2a3f5f\"},\"marker\":{\"line\":{\"color\":\"#E5ECF6\",\"width\":0.5},\"pattern\":{\"fillmode\":\"overlay\",\"size\":10,\"solidity\":0.2}},\"type\":\"bar\"}],\"scattergeo\":[{\"type\":\"scattergeo\",\"marker\":{\"colorbar\":{\"outlinewidth\":0,\"ticks\":\"\"}}}],\"scatterpolar\":[{\"type\":\"scatterpolar\",\"marker\":{\"colorbar\":{\"outlinewidth\":0,\"ticks\":\"\"}}}],\"histogram\":[{\"marker\":{\"pattern\":{\"fillmode\":\"overlay\",\"size\":10,\"solidity\":0.2}},\"type\":\"histogram\"}],\"scattergl\":[{\"type\":\"scattergl\",\"marker\":{\"colorbar\":{\"outlinewidth\":0,\"ticks\":\"\"}}}],\"scatter3d\":[{\"type\":\"scatter3d\",\"line\":{\"colorbar\":{\"outlinewidth\":0,\"ticks\":\"\"}},\"marker\":{\"colorbar\":{\"outlinewidth\":0,\"ticks\":\"\"}}}],\"scattermapbox\":[{\"type\":\"scattermapbox\",\"marker\":{\"colorbar\":{\"outlinewidth\":0,\"ticks\":\"\"}}}],\"scatterternary\":[{\"type\":\"scatterternary\",\"marker\":{\"colorbar\":{\"outlinewidth\":0,\"ticks\":\"\"}}}],\"scattercarpet\":[{\"type\":\"scattercarpet\",\"marker\":{\"colorbar\":{\"outlinewidth\":0,\"ticks\":\"\"}}}],\"carpet\":[{\"aaxis\":{\"endlinecolor\":\"#2a3f5f\",\"gridcolor\":\"white\",\"linecolor\":\"white\",\"minorgridcolor\":\"white\",\"startlinecolor\":\"#2a3f5f\"},\"baxis\":{\"endlinecolor\":\"#2a3f5f\",\"gridcolor\":\"white\",\"linecolor\":\"white\",\"minorgridcolor\":\"white\",\"startlinecolor\":\"#2a3f5f\"},\"type\":\"carpet\"}],\"table\":[{\"cells\":{\"fill\":{\"color\":\"#EBF0F8\"},\"line\":{\"color\":\"white\"}},\"header\":{\"fill\":{\"color\":\"#C8D4E3\"},\"line\":{\"color\":\"white\"}},\"type\":\"table\"}],\"barpolar\":[{\"marker\":{\"line\":{\"color\":\"#E5ECF6\",\"width\":0.5},\"pattern\":{\"fillmode\":\"overlay\",\"size\":10,\"solidity\":0.2}},\"type\":\"barpolar\"}],\"pie\":[{\"automargin\":true,\"type\":\"pie\"}]},\"layout\":{\"autotypenumbers\":\"strict\",\"colorway\":[\"#636efa\",\"#EF553B\",\"#00cc96\",\"#ab63fa\",\"#FFA15A\",\"#19d3f3\",\"#FF6692\",\"#B6E880\",\"#FF97FF\",\"#FECB52\"],\"font\":{\"color\":\"#2a3f5f\"},\"hovermode\":\"closest\",\"hoverlabel\":{\"align\":\"left\"},\"paper_bgcolor\":\"white\",\"plot_bgcolor\":\"#E5ECF6\",\"polar\":{\"bgcolor\":\"#E5ECF6\",\"angularaxis\":{\"gridcolor\":\"white\",\"linecolor\":\"white\",\"ticks\":\"\"},\"radialaxis\":{\"gridcolor\":\"white\",\"linecolor\":\"white\",\"ticks\":\"\"}},\"ternary\":{\"bgcolor\":\"#E5ECF6\",\"aaxis\":{\"gridcolor\":\"white\",\"linecolor\":\"white\",\"ticks\":\"\"},\"baxis\":{\"gridcolor\":\"white\",\"linecolor\":\"white\",\"ticks\":\"\"},\"caxis\":{\"gridcolor\":\"white\",\"linecolor\":\"white\",\"ticks\":\"\"}},\"coloraxis\":{\"colorbar\":{\"outlinewidth\":0,\"ticks\":\"\"}},\"colorscale\":{\"sequential\":[[0.0,\"#0d0887\"],[0.1111111111111111,\"#46039f\"],[0.2222222222222222,\"#7201a8\"],[0.3333333333333333,\"#9c179e\"],[0.4444444444444444,\"#bd3786\"],[0.5555555555555556,\"#d8576b\"],[0.6666666666666666,\"#ed7953\"],[0.7777777777777778,\"#fb9f3a\"],[0.8888888888888888,\"#fdca26\"],[1.0,\"#f0f921\"]],\"sequentialminus\":[[0.0,\"#0d0887\"],[0.1111111111111111,\"#46039f\"],[0.2222222222222222,\"#7201a8\"],[0.3333333333333333,\"#9c179e\"],[0.4444444444444444,\"#bd3786\"],[0.5555555555555556,\"#d8576b\"],[0.6666666666666666,\"#ed7953\"],[0.7777777777777778,\"#fb9f3a\"],[0.8888888888888888,\"#fdca26\"],[1.0,\"#f0f921\"]],\"diverging\":[[0,\"#8e0152\"],[0.1,\"#c51b7d\"],[0.2,\"#de77ae\"],[0.3,\"#f1b6da\"],[0.4,\"#fde0ef\"],[0.5,\"#f7f7f7\"],[0.6,\"#e6f5d0\"],[0.7,\"#b8e186\"],[0.8,\"#7fbc41\"],[0.9,\"#4d9221\"],[1,\"#276419\"]]},\"xaxis\":{\"gridcolor\":\"white\",\"linecolor\":\"white\",\"ticks\":\"\",\"title\":{\"standoff\":15},\"zerolinecolor\":\"white\",\"automargin\":true,\"zerolinewidth\":2},\"yaxis\":{\"gridcolor\":\"white\",\"linecolor\":\"white\",\"ticks\":\"\",\"title\":{\"standoff\":15},\"zerolinecolor\":\"white\",\"automargin\":true,\"zerolinewidth\":2},\"scene\":{\"xaxis\":{\"backgroundcolor\":\"#E5ECF6\",\"gridcolor\":\"white\",\"linecolor\":\"white\",\"showbackground\":true,\"ticks\":\"\",\"zerolinecolor\":\"white\",\"gridwidth\":2},\"yaxis\":{\"backgroundcolor\":\"#E5ECF6\",\"gridcolor\":\"white\",\"linecolor\":\"white\",\"showbackground\":true,\"ticks\":\"\",\"zerolinecolor\":\"white\",\"gridwidth\":2},\"zaxis\":{\"backgroundcolor\":\"#E5ECF6\",\"gridcolor\":\"white\",\"linecolor\":\"white\",\"showbackground\":true,\"ticks\":\"\",\"zerolinecolor\":\"white\",\"gridwidth\":2}},\"shapedefaults\":{\"line\":{\"color\":\"#2a3f5f\"}},\"annotationdefaults\":{\"arrowcolor\":\"#2a3f5f\",\"arrowhead\":0,\"arrowwidth\":1},\"geo\":{\"bgcolor\":\"white\",\"landcolor\":\"#E5ECF6\",\"subunitcolor\":\"white\",\"showland\":true,\"showlakes\":true,\"lakecolor\":\"white\"},\"title\":{\"x\":0.05},\"mapbox\":{\"style\":\"light\"}}},\"title\":{\"font\":{\"size\":30},\"text\":\"Returns\",\"x\":0.5,\"y\":0.9},\"yaxis\":{\"zerolinecolor\":\"Black\"}},                        {\"responsive\": true}                    ).then(function(){\n",
              "                            \n",
              "var gd = document.getElementById('f8ddfb7f-e6fa-4734-ab7e-3693adb3557d');\n",
              "var x = new MutationObserver(function (mutations, observer) {{\n",
              "        var display = window.getComputedStyle(gd).display;\n",
              "        if (!display || display === 'none') {{\n",
              "            console.log([gd, 'removed!']);\n",
              "            Plotly.purge(gd);\n",
              "            observer.disconnect();\n",
              "        }}\n",
              "}});\n",
              "\n",
              "// Listen for the removal of the full notebook cells\n",
              "var notebookContainer = gd.closest('#notebook-container');\n",
              "if (notebookContainer) {{\n",
              "    x.observe(notebookContainer, {childList: true});\n",
              "}}\n",
              "\n",
              "// Listen for the clearing of the current output cell\n",
              "var outputEl = gd.closest('.output');\n",
              "if (outputEl) {{\n",
              "    x.observe(outputEl, {childList: true});\n",
              "}}\n",
              "\n",
              "                        })                };                            </script>        </div>\n",
              "</body>\n",
              "</html>"
            ]
          },
          "metadata": {}
        }
      ]
    },
    {
      "cell_type": "markdown",
      "source": [
        "Based on the graph which of two portfolios is more volatile to you? Why? Let's check your answers:"
      ],
      "metadata": {
        "id": "G9b5EWN2Yn6X"
      }
    },
    {
      "cell_type": "code",
      "source": [
        "annualize_vol(returns,12)"
      ],
      "metadata": {
        "id": "e3oCaWrSYpPS",
        "outputId": "b290cf36-29b1-4d89-815c-1c775bab027f",
        "colab": {
          "base_uri": "https://localhost:8080/"
        }
      },
      "execution_count": 59,
      "outputs": [
        {
          "output_type": "execute_result",
          "data": {
            "text/plain": [
              "SmallCap    0.341059\n",
              "LargeCap    0.173711\n",
              "dtype: float64"
            ]
          },
          "metadata": {},
          "execution_count": 59
        }
      ]
    },
    {
      "cell_type": "markdown",
      "source": [
        "Thus, large caps are less risky than small caps."
      ],
      "metadata": {
        "id": "fWPaVHJ1YvAo"
      }
    },
    {
      "cell_type": "markdown",
      "source": [
        "On the other hand let's check our expected returns on the two portfolios in both ways that we have discussed:"
      ],
      "metadata": {
        "id": "fqE6nxPmYvw-"
      }
    },
    {
      "cell_type": "code",
      "source": [
        "print(expRet(returns,12)) #Expected returns using sample mean\n",
        "print(\"*\"*50)\n",
        "expRet(returns,12,True) #Expected returns using compounding"
      ],
      "metadata": {
        "id": "py8xikjIYwvX",
        "outputId": "58eba4d3-564c-45b5-829b-4a00ebdce864",
        "colab": {
          "base_uri": "https://localhost:8080/"
        }
      },
      "execution_count": 60,
      "outputs": [
        {
          "output_type": "stream",
          "name": "stdout",
          "text": [
            "SmallCap    0.164308\n",
            "LargeCap    0.107184\n",
            "dtype: float64\n",
            "**************************************************\n"
          ]
        },
        {
          "output_type": "execute_result",
          "data": {
            "text/plain": [
              "SmallCap    0.121027\n",
              "LargeCap    0.096091\n",
              "dtype: float64"
            ]
          },
          "metadata": {},
          "execution_count": 60
        }
      ]
    },
    {
      "cell_type": "markdown",
      "source": [
        "Riskier portfolio offers higher expected returns. Which of the two portfolios is more attractive according to risk-adjusted measures (for both types of expected returns) assuming that risk free rate is 3% annually?"
      ],
      "metadata": {
        "id": "EJoonKGnY_XF"
      }
    },
    {
      "cell_type": "code",
      "source": [
        "print(sharpe(returns,12,0.05)) #Exp returns use sample mean\n",
        "print(\"_\"*50)\n",
        "sharpe(returns,12,0.05,True) #exp returns use compounding"
      ],
      "metadata": {
        "id": "Sgxb1Xf_ZDra",
        "outputId": "7d09e572-3cbe-4342-eb67-ebef56c4f7a7",
        "colab": {
          "base_uri": "https://localhost:8080/"
        }
      },
      "execution_count": 61,
      "outputs": [
        {
          "output_type": "stream",
          "name": "stdout",
          "text": [
            "SmallCap    0.335156\n",
            "LargeCap    0.329191\n",
            "dtype: float64\n",
            "__________________________________________________\n"
          ]
        },
        {
          "output_type": "execute_result",
          "data": {
            "text/plain": [
              "SmallCap    0.208255\n",
              "LargeCap    0.265333\n",
              "dtype: float64"
            ]
          },
          "metadata": {},
          "execution_count": 61
        }
      ]
    },
    {
      "cell_type": "markdown",
      "source": [
        "Both approaches give us the same conclusion - large companies outperm the small ones according to this measure."
      ],
      "metadata": {
        "id": "ITTXw1hBZWAd"
      }
    },
    {
      "cell_type": "markdown",
      "source": [
        "## <font color='orange' style=\"font-size:25px\"><b>Downside measures</b></font>"
      ],
      "metadata": {
        "id": "fiSHJGuTZbz0"
      }
    },
    {
      "cell_type": "markdown",
      "source": [
        "Returns aren't normally distributed. In practice extreme returns are more likely to happen, which isn't characteristic of normal distribution. Thus we need some method of estimating them, so that we can protect ourself from such outcomes. These measures are called downside mearures."
      ],
      "metadata": {
        "id": "Ymrv1T3wZcl2"
      }
    },
    {
      "cell_type": "markdown",
      "source": [
        "### <font color='MediumVioletRed' style=\"font-size:20px\"><b>Maximum Drawdown</b></font>"
      ],
      "metadata": {
        "id": "os1NIKQXZeN2"
      }
    },
    {
      "cell_type": "markdown",
      "source": [
        "Let us now introduce another measure of risk called the **Maximum drawdown**. It shows how much would you lose if you buy the asset at its very peak and sell it at its bottom price. This is a measure of ultimate **bad timing** risk. Investors care a lot about drawdown. Funds lose lots of clients after a large drawdown."
      ],
      "metadata": {
        "id": "VlwVwEiNZfR2"
      }
    },
    {
      "cell_type": "markdown",
      "source": [
        "How do we compute Maximum drawdown? Here is the algorithm:\n",
        "\n",
        "1. Compute a wealth index - Start with a fixed initial amount of investments (say, 1000 dollars). Using historical returns on your portfolio you compute the *wealth index*, i.e. how much money would have in your account over time.\n",
        "2. Compute previous peaks - Find the highest prior peak up to that point in time.\n",
        "3. Compute Maximal drawdown - For a given point in time, the return realized if we have purchased at the point of the highest peak and sold at that point in time is (relative) drawdown. The highest drawdown corresponds to minimum value of a drawdown, i.e. to the return obtain if we have purchased at the peak and sold at the bottom."
      ],
      "metadata": {
        "id": "ON9_Sx0xZgUQ"
      }
    },
    {
      "cell_type": "markdown",
      "source": [
        "With this measure we can get the feeling about how much we can lose if we make the ultimately bad timing decision with regard to our portfolio."
      ],
      "metadata": {
        "id": "gLWRPoynZlBg"
      }
    },
    {
      "cell_type": "markdown",
      "source": [
        "There is also risk-adjusted ratio based on drawdown. It is called **Calmar ratio**. This is ratio of the annualized return over the trailing 36 months divided by the maximum drawdown over those 36 months."
      ],
      "metadata": {
        "id": "w04TRQ8CZmJC"
      }
    },
    {
      "cell_type": "markdown",
      "source": [
        "Drawbacks of this measure are:\n",
        "* Sensitive to outliers (Drawdown defined by peak and trough).\n",
        "* Depend a lot on a frequency. E.g., a deep drawdown using daily data may completely dissapear if we consider monthly data."
      ],
      "metadata": {
        "id": "4XsP1_rUZnnP"
      }
    },
    {
      "cell_type": "markdown",
      "source": [
        "Despite this drawbacks, drawdown extremely popular with practitioners."
      ],
      "metadata": {
        "id": "LHu6blaWZpNT"
      }
    },
    {
      "cell_type": "markdown",
      "source": [
        "#### <font color='MediumPurple' style=\"font-size:16px\"><b>Step 1: Compute the wealth index from returns</b></font>"
      ],
      "metadata": {
        "id": "Cdx3bpkaaaus"
      }
    },
    {
      "cell_type": "markdown",
      "source": [
        "Let's start with cumulative returns. Cumulative return from time $0$ to time $t$ can be denoted as $r_{0,t} \\equiv cr_t$. Suppose $V_t$ is portfolio value at time $t$. Gross cumulative portfolio returns satisfy:\n",
        "\n",
        "$$1+cr_t=\\frac{V_t}{V_0}=(1+r_1)(1+r_2)\\cdots (1+r_t)$$"
      ],
      "metadata": {
        "id": "cknN-7iAabfv"
      }
    },
    {
      "cell_type": "markdown",
      "source": [
        "The wealth index at time $t$ is obtained when we multiply both sides of this equation with the initial investment ($V_0$):"
      ],
      "metadata": {
        "id": "GWqEhcGvac8J"
      }
    },
    {
      "cell_type": "markdown",
      "source": [
        "$$V_t=V_0(1+cr_t)$$"
      ],
      "metadata": {
        "id": "C-KxpBMbadul"
      }
    },
    {
      "cell_type": "markdown",
      "source": [
        "Thus, portfolio wealth at time t is equal to the product of the initial investment and the gross cumulative return up to time $t$.\n",
        "\n",
        "Suppose our initial investment is $ 1000 dollars and that we have invested this money in the Large Cap portfolio. The wealth index of this investment is computed in the following way:"
      ],
      "metadata": {
        "id": "7VjgKj0Faegf"
      }
    },
    {
      "cell_type": "code",
      "source": [
        "wealth_index= 1000*(1+returns['LargeCap']).cumprod()\n",
        "wealth_index.head()"
      ],
      "metadata": {
        "id": "X3lQ_ClPaff1",
        "outputId": "f1bea46c-774f-4d9a-f3ef-f373d9c71d45",
        "colab": {
          "base_uri": "https://localhost:8080/"
        }
      },
      "execution_count": 62,
      "outputs": [
        {
          "output_type": "execute_result",
          "data": {
            "text/plain": [
              "1926-07-01    1037.100000\n",
              "1926-08-01    1076.406090\n",
              "1926-09-01    1089.861166\n",
              "1926-10-01    1061.960720\n",
              "1926-11-01    1087.447778\n",
              "Name: LargeCap, dtype: float64"
            ]
          },
          "metadata": {},
          "execution_count": 62
        }
      ]
    },
    {
      "cell_type": "markdown",
      "source": [
        "Let's present it graphically:"
      ],
      "metadata": {
        "id": "d6jpQXrlapgU"
      }
    },
    {
      "cell_type": "code",
      "source": [
        "fig=go.Figure()\n",
        "\n",
        "fig.add_trace(go.Scatter(x=wealth_index.index,y=wealth_index.values,line=dict(color='Green')))\n",
        "\n",
        "fig.update_layout(title=dict(text='Wealth Index of LargeCap', font=dict(size=30),x=0.5,y=0.9),yaxis=dict(zerolinecolor='Black'))\n",
        "\n",
        "fig.show()"
      ],
      "metadata": {
        "id": "NeIQgjGqaqAy",
        "outputId": "5a8102bf-d52e-42ab-f1e2-c8160419a7ee",
        "colab": {
          "base_uri": "https://localhost:8080/",
          "height": 542
        }
      },
      "execution_count": 67,
      "outputs": [
        {
          "output_type": "display_data",
          "data": {
            "text/html": [
              "<html>\n",
              "<head><meta charset=\"utf-8\" /></head>\n",
              "<body>\n",
              "    <div>            <script src=\"https://cdnjs.cloudflare.com/ajax/libs/mathjax/2.7.5/MathJax.js?config=TeX-AMS-MML_SVG\"></script><script type=\"text/javascript\">if (window.MathJax && window.MathJax.Hub && window.MathJax.Hub.Config) {window.MathJax.Hub.Config({SVG: {font: \"STIX-Web\"}});}</script>                <script type=\"text/javascript\">window.PlotlyConfig = {MathJaxConfig: 'local'};</script>\n",
              "        <script charset=\"utf-8\" src=\"https://cdn.plot.ly/plotly-2.24.1.min.js\"></script>                <div id=\"9ccc85e1-c5b7-425b-a79e-44bbe3f8447f\" class=\"plotly-graph-div\" style=\"height:525px; width:100%;\"></div>            <script type=\"text/javascript\">                                    window.PLOTLYENV=window.PLOTLYENV || {};                                    if (document.getElementById(\"9ccc85e1-c5b7-425b-a79e-44bbe3f8447f\")) {                    Plotly.newPlot(                        \"9ccc85e1-c5b7-425b-a79e-44bbe3f8447f\",                        [{\"line\":{\"color\":\"Green\"},\"x\":[\"1926-07-01T00:00:00\",\"1926-08-01T00:00:00\",\"1926-09-01T00:00:00\",\"1926-10-01T00:00:00\",\"1926-11-01T00:00:00\",\"1926-12-01T00:00:00\",\"1927-01-01T00:00:00\",\"1927-02-01T00:00:00\",\"1927-03-01T00:00:00\",\"1927-04-01T00:00:00\",\"1927-05-01T00:00:00\",\"1927-06-01T00:00:00\",\"1927-07-01T00:00:00\",\"1927-08-01T00:00:00\",\"1927-09-01T00:00:00\",\"1927-10-01T00:00:00\",\"1927-11-01T00:00:00\",\"1927-12-01T00:00:00\",\"1928-01-01T00:00:00\",\"1928-02-01T00:00:00\",\"1928-03-01T00:00:00\",\"1928-04-01T00:00:00\",\"1928-05-01T00:00:00\",\"1928-06-01T00:00:00\",\"1928-07-01T00:00:00\",\"1928-08-01T00:00:00\",\"1928-09-01T00:00:00\",\"1928-10-01T00:00:00\",\"1928-11-01T00:00:00\",\"1928-12-01T00:00:00\",\"1929-01-01T00:00:00\",\"1929-02-01T00:00:00\",\"1929-03-01T00:00:00\",\"1929-04-01T00:00:00\",\"1929-05-01T00:00:00\",\"1929-06-01T00:00:00\",\"1929-07-01T00:00:00\",\"1929-08-01T00:00:00\",\"1929-09-01T00:00:00\",\"1929-10-01T00:00:00\",\"1929-11-01T00:00:00\",\"1929-12-01T00:00:00\",\"1930-01-01T00:00:00\",\"1930-02-01T00:00:00\",\"1930-03-01T00:00:00\",\"1930-04-01T00:00:00\",\"1930-05-01T00:00:00\",\"1930-06-01T00:00:00\",\"1930-07-01T00:00:00\",\"1930-08-01T00:00:00\",\"1930-09-01T00:00:00\",\"1930-10-01T00:00:00\",\"1930-11-01T00:00:00\",\"1930-12-01T00:00:00\",\"1931-01-01T00:00:00\",\"1931-02-01T00:00:00\",\"1931-03-01T00:00:00\",\"1931-04-01T00:00:00\",\"1931-05-01T00:00:00\",\"1931-06-01T00:00:00\",\"1931-07-01T00:00:00\",\"1931-08-01T00:00:00\",\"1931-09-01T00:00:00\",\"1931-10-01T00:00:00\",\"1931-11-01T00:00:00\",\"1931-12-01T00:00:00\",\"1932-01-01T00:00:00\",\"1932-02-01T00:00:00\",\"1932-03-01T00:00:00\",\"1932-04-01T00:00:00\",\"1932-05-01T00:00:00\",\"1932-06-01T00:00:00\",\"1932-07-01T00:00:00\",\"1932-08-01T00:00:00\",\"1932-09-01T00:00:00\",\"1932-10-01T00:00:00\",\"1932-11-01T00:00:00\",\"1932-12-01T00:00:00\",\"1933-01-01T00:00:00\",\"1933-02-01T00:00:00\",\"1933-03-01T00:00:00\",\"1933-04-01T00:00:00\",\"1933-05-01T00:00:00\",\"1933-06-01T00:00:00\",\"1933-07-01T00:00:00\",\"1933-08-01T00:00:00\",\"1933-09-01T00:00:00\",\"1933-10-01T00:00:00\",\"1933-11-01T00:00:00\",\"1933-12-01T00:00:00\",\"1934-01-01T00:00:00\",\"1934-02-01T00:00:00\",\"1934-03-01T00:00:00\",\"1934-04-01T00:00:00\",\"1934-05-01T00:00:00\",\"1934-06-01T00:00:00\",\"1934-07-01T00:00:00\",\"1934-08-01T00:00:00\",\"1934-09-01T00:00:00\",\"1934-10-01T00:00:00\",\"1934-11-01T00:00:00\",\"1934-12-01T00:00:00\",\"1935-01-01T00:00:00\",\"1935-02-01T00:00:00\",\"1935-03-01T00:00:00\",\"1935-04-01T00:00:00\",\"1935-05-01T00:00:00\",\"1935-06-01T00:00:00\",\"1935-07-01T00:00:00\",\"1935-08-01T00:00:00\",\"1935-09-01T00:00:00\",\"1935-10-01T00:00:00\",\"1935-11-01T00:00:00\",\"1935-12-01T00:00:00\",\"1936-01-01T00:00:00\",\"1936-02-01T00:00:00\",\"1936-03-01T00:00:00\",\"1936-04-01T00:00:00\",\"1936-05-01T00:00:00\",\"1936-06-01T00:00:00\",\"1936-07-01T00:00:00\",\"1936-08-01T00:00:00\",\"1936-09-01T00:00:00\",\"1936-10-01T00:00:00\",\"1936-11-01T00:00:00\",\"1936-12-01T00:00:00\",\"1937-01-01T00:00:00\",\"1937-02-01T00:00:00\",\"1937-03-01T00:00:00\",\"1937-04-01T00:00:00\",\"1937-05-01T00:00:00\",\"1937-06-01T00:00:00\",\"1937-07-01T00:00:00\",\"1937-08-01T00:00:00\",\"1937-09-01T00:00:00\",\"1937-10-01T00:00:00\",\"1937-11-01T00:00:00\",\"1937-12-01T00:00:00\",\"1938-01-01T00:00:00\",\"1938-02-01T00:00:00\",\"1938-03-01T00:00:00\",\"1938-04-01T00:00:00\",\"1938-05-01T00:00:00\",\"1938-06-01T00:00:00\",\"1938-07-01T00:00:00\",\"1938-08-01T00:00:00\",\"1938-09-01T00:00:00\",\"1938-10-01T00:00:00\",\"1938-11-01T00:00:00\",\"1938-12-01T00:00:00\",\"1939-01-01T00:00:00\",\"1939-02-01T00:00:00\",\"1939-03-01T00:00:00\",\"1939-04-01T00:00:00\",\"1939-05-01T00:00:00\",\"1939-06-01T00:00:00\",\"1939-07-01T00:00:00\",\"1939-08-01T00:00:00\",\"1939-09-01T00:00:00\",\"1939-10-01T00:00:00\",\"1939-11-01T00:00:00\",\"1939-12-01T00:00:00\",\"1940-01-01T00:00:00\",\"1940-02-01T00:00:00\",\"1940-03-01T00:00:00\",\"1940-04-01T00:00:00\",\"1940-05-01T00:00:00\",\"1940-06-01T00:00:00\",\"1940-07-01T00:00:00\",\"1940-08-01T00:00:00\",\"1940-09-01T00:00:00\",\"1940-10-01T00:00:00\",\"1940-11-01T00:00:00\",\"1940-12-01T00:00:00\",\"1941-01-01T00:00:00\",\"1941-02-01T00:00:00\",\"1941-03-01T00:00:00\",\"1941-04-01T00:00:00\",\"1941-05-01T00:00:00\",\"1941-06-01T00:00:00\",\"1941-07-01T00:00:00\",\"1941-08-01T00:00:00\",\"1941-09-01T00:00:00\",\"1941-10-01T00:00:00\",\"1941-11-01T00:00:00\",\"1941-12-01T00:00:00\",\"1942-01-01T00:00:00\",\"1942-02-01T00:00:00\",\"1942-03-01T00:00:00\",\"1942-04-01T00:00:00\",\"1942-05-01T00:00:00\",\"1942-06-01T00:00:00\",\"1942-07-01T00:00:00\",\"1942-08-01T00:00:00\",\"1942-09-01T00:00:00\",\"1942-10-01T00:00:00\",\"1942-11-01T00:00:00\",\"1942-12-01T00:00:00\",\"1943-01-01T00:00:00\",\"1943-02-01T00:00:00\",\"1943-03-01T00:00:00\",\"1943-04-01T00:00:00\",\"1943-05-01T00:00:00\",\"1943-06-01T00:00:00\",\"1943-07-01T00:00:00\",\"1943-08-01T00:00:00\",\"1943-09-01T00:00:00\",\"1943-10-01T00:00:00\",\"1943-11-01T00:00:00\",\"1943-12-01T00:00:00\",\"1944-01-01T00:00:00\",\"1944-02-01T00:00:00\",\"1944-03-01T00:00:00\",\"1944-04-01T00:00:00\",\"1944-05-01T00:00:00\",\"1944-06-01T00:00:00\",\"1944-07-01T00:00:00\",\"1944-08-01T00:00:00\",\"1944-09-01T00:00:00\",\"1944-10-01T00:00:00\",\"1944-11-01T00:00:00\",\"1944-12-01T00:00:00\",\"1945-01-01T00:00:00\",\"1945-02-01T00:00:00\",\"1945-03-01T00:00:00\",\"1945-04-01T00:00:00\",\"1945-05-01T00:00:00\",\"1945-06-01T00:00:00\",\"1945-07-01T00:00:00\",\"1945-08-01T00:00:00\",\"1945-09-01T00:00:00\",\"1945-10-01T00:00:00\",\"1945-11-01T00:00:00\",\"1945-12-01T00:00:00\",\"1946-01-01T00:00:00\",\"1946-02-01T00:00:00\",\"1946-03-01T00:00:00\",\"1946-04-01T00:00:00\",\"1946-05-01T00:00:00\",\"1946-06-01T00:00:00\",\"1946-07-01T00:00:00\",\"1946-08-01T00:00:00\",\"1946-09-01T00:00:00\",\"1946-10-01T00:00:00\",\"1946-11-01T00:00:00\",\"1946-12-01T00:00:00\",\"1947-01-01T00:00:00\",\"1947-02-01T00:00:00\",\"1947-03-01T00:00:00\",\"1947-04-01T00:00:00\",\"1947-05-01T00:00:00\",\"1947-06-01T00:00:00\",\"1947-07-01T00:00:00\",\"1947-08-01T00:00:00\",\"1947-09-01T00:00:00\",\"1947-10-01T00:00:00\",\"1947-11-01T00:00:00\",\"1947-12-01T00:00:00\",\"1948-01-01T00:00:00\",\"1948-02-01T00:00:00\",\"1948-03-01T00:00:00\",\"1948-04-01T00:00:00\",\"1948-05-01T00:00:00\",\"1948-06-01T00:00:00\",\"1948-07-01T00:00:00\",\"1948-08-01T00:00:00\",\"1948-09-01T00:00:00\",\"1948-10-01T00:00:00\",\"1948-11-01T00:00:00\",\"1948-12-01T00:00:00\",\"1949-01-01T00:00:00\",\"1949-02-01T00:00:00\",\"1949-03-01T00:00:00\",\"1949-04-01T00:00:00\",\"1949-05-01T00:00:00\",\"1949-06-01T00:00:00\",\"1949-07-01T00:00:00\",\"1949-08-01T00:00:00\",\"1949-09-01T00:00:00\",\"1949-10-01T00:00:00\",\"1949-11-01T00:00:00\",\"1949-12-01T00:00:00\",\"1950-01-01T00:00:00\",\"1950-02-01T00:00:00\",\"1950-03-01T00:00:00\",\"1950-04-01T00:00:00\",\"1950-05-01T00:00:00\",\"1950-06-01T00:00:00\",\"1950-07-01T00:00:00\",\"1950-08-01T00:00:00\",\"1950-09-01T00:00:00\",\"1950-10-01T00:00:00\",\"1950-11-01T00:00:00\",\"1950-12-01T00:00:00\",\"1951-01-01T00:00:00\",\"1951-02-01T00:00:00\",\"1951-03-01T00:00:00\",\"1951-04-01T00:00:00\",\"1951-05-01T00:00:00\",\"1951-06-01T00:00:00\",\"1951-07-01T00:00:00\",\"1951-08-01T00:00:00\",\"1951-09-01T00:00:00\",\"1951-10-01T00:00:00\",\"1951-11-01T00:00:00\",\"1951-12-01T00:00:00\",\"1952-01-01T00:00:00\",\"1952-02-01T00:00:00\",\"1952-03-01T00:00:00\",\"1952-04-01T00:00:00\",\"1952-05-01T00:00:00\",\"1952-06-01T00:00:00\",\"1952-07-01T00:00:00\",\"1952-08-01T00:00:00\",\"1952-09-01T00:00:00\",\"1952-10-01T00:00:00\",\"1952-11-01T00:00:00\",\"1952-12-01T00:00:00\",\"1953-01-01T00:00:00\",\"1953-02-01T00:00:00\",\"1953-03-01T00:00:00\",\"1953-04-01T00:00:00\",\"1953-05-01T00:00:00\",\"1953-06-01T00:00:00\",\"1953-07-01T00:00:00\",\"1953-08-01T00:00:00\",\"1953-09-01T00:00:00\",\"1953-10-01T00:00:00\",\"1953-11-01T00:00:00\",\"1953-12-01T00:00:00\",\"1954-01-01T00:00:00\",\"1954-02-01T00:00:00\",\"1954-03-01T00:00:00\",\"1954-04-01T00:00:00\",\"1954-05-01T00:00:00\",\"1954-06-01T00:00:00\",\"1954-07-01T00:00:00\",\"1954-08-01T00:00:00\",\"1954-09-01T00:00:00\",\"1954-10-01T00:00:00\",\"1954-11-01T00:00:00\",\"1954-12-01T00:00:00\",\"1955-01-01T00:00:00\",\"1955-02-01T00:00:00\",\"1955-03-01T00:00:00\",\"1955-04-01T00:00:00\",\"1955-05-01T00:00:00\",\"1955-06-01T00:00:00\",\"1955-07-01T00:00:00\",\"1955-08-01T00:00:00\",\"1955-09-01T00:00:00\",\"1955-10-01T00:00:00\",\"1955-11-01T00:00:00\",\"1955-12-01T00:00:00\",\"1956-01-01T00:00:00\",\"1956-02-01T00:00:00\",\"1956-03-01T00:00:00\",\"1956-04-01T00:00:00\",\"1956-05-01T00:00:00\",\"1956-06-01T00:00:00\",\"1956-07-01T00:00:00\",\"1956-08-01T00:00:00\",\"1956-09-01T00:00:00\",\"1956-10-01T00:00:00\",\"1956-11-01T00:00:00\",\"1956-12-01T00:00:00\",\"1957-01-01T00:00:00\",\"1957-02-01T00:00:00\",\"1957-03-01T00:00:00\",\"1957-04-01T00:00:00\",\"1957-05-01T00:00:00\",\"1957-06-01T00:00:00\",\"1957-07-01T00:00:00\",\"1957-08-01T00:00:00\",\"1957-09-01T00:00:00\",\"1957-10-01T00:00:00\",\"1957-11-01T00:00:00\",\"1957-12-01T00:00:00\",\"1958-01-01T00:00:00\",\"1958-02-01T00:00:00\",\"1958-03-01T00:00:00\",\"1958-04-01T00:00:00\",\"1958-05-01T00:00:00\",\"1958-06-01T00:00:00\",\"1958-07-01T00:00:00\",\"1958-08-01T00:00:00\",\"1958-09-01T00:00:00\",\"1958-10-01T00:00:00\",\"1958-11-01T00:00:00\",\"1958-12-01T00:00:00\",\"1959-01-01T00:00:00\",\"1959-02-01T00:00:00\",\"1959-03-01T00:00:00\",\"1959-04-01T00:00:00\",\"1959-05-01T00:00:00\",\"1959-06-01T00:00:00\",\"1959-07-01T00:00:00\",\"1959-08-01T00:00:00\",\"1959-09-01T00:00:00\",\"1959-10-01T00:00:00\",\"1959-11-01T00:00:00\",\"1959-12-01T00:00:00\",\"1960-01-01T00:00:00\",\"1960-02-01T00:00:00\",\"1960-03-01T00:00:00\",\"1960-04-01T00:00:00\",\"1960-05-01T00:00:00\",\"1960-06-01T00:00:00\",\"1960-07-01T00:00:00\",\"1960-08-01T00:00:00\",\"1960-09-01T00:00:00\",\"1960-10-01T00:00:00\",\"1960-11-01T00:00:00\",\"1960-12-01T00:00:00\",\"1961-01-01T00:00:00\",\"1961-02-01T00:00:00\",\"1961-03-01T00:00:00\",\"1961-04-01T00:00:00\",\"1961-05-01T00:00:00\",\"1961-06-01T00:00:00\",\"1961-07-01T00:00:00\",\"1961-08-01T00:00:00\",\"1961-09-01T00:00:00\",\"1961-10-01T00:00:00\",\"1961-11-01T00:00:00\",\"1961-12-01T00:00:00\",\"1962-01-01T00:00:00\",\"1962-02-01T00:00:00\",\"1962-03-01T00:00:00\",\"1962-04-01T00:00:00\",\"1962-05-01T00:00:00\",\"1962-06-01T00:00:00\",\"1962-07-01T00:00:00\",\"1962-08-01T00:00:00\",\"1962-09-01T00:00:00\",\"1962-10-01T00:00:00\",\"1962-11-01T00:00:00\",\"1962-12-01T00:00:00\",\"1963-01-01T00:00:00\",\"1963-02-01T00:00:00\",\"1963-03-01T00:00:00\",\"1963-04-01T00:00:00\",\"1963-05-01T00:00:00\",\"1963-06-01T00:00:00\",\"1963-07-01T00:00:00\",\"1963-08-01T00:00:00\",\"1963-09-01T00:00:00\",\"1963-10-01T00:00:00\",\"1963-11-01T00:00:00\",\"1963-12-01T00:00:00\",\"1964-01-01T00:00:00\",\"1964-02-01T00:00:00\",\"1964-03-01T00:00:00\",\"1964-04-01T00:00:00\",\"1964-05-01T00:00:00\",\"1964-06-01T00:00:00\",\"1964-07-01T00:00:00\",\"1964-08-01T00:00:00\",\"1964-09-01T00:00:00\",\"1964-10-01T00:00:00\",\"1964-11-01T00:00:00\",\"1964-12-01T00:00:00\",\"1965-01-01T00:00:00\",\"1965-02-01T00:00:00\",\"1965-03-01T00:00:00\",\"1965-04-01T00:00:00\",\"1965-05-01T00:00:00\",\"1965-06-01T00:00:00\",\"1965-07-01T00:00:00\",\"1965-08-01T00:00:00\",\"1965-09-01T00:00:00\",\"1965-10-01T00:00:00\",\"1965-11-01T00:00:00\",\"1965-12-01T00:00:00\",\"1966-01-01T00:00:00\",\"1966-02-01T00:00:00\",\"1966-03-01T00:00:00\",\"1966-04-01T00:00:00\",\"1966-05-01T00:00:00\",\"1966-06-01T00:00:00\",\"1966-07-01T00:00:00\",\"1966-08-01T00:00:00\",\"1966-09-01T00:00:00\",\"1966-10-01T00:00:00\",\"1966-11-01T00:00:00\",\"1966-12-01T00:00:00\",\"1967-01-01T00:00:00\",\"1967-02-01T00:00:00\",\"1967-03-01T00:00:00\",\"1967-04-01T00:00:00\",\"1967-05-01T00:00:00\",\"1967-06-01T00:00:00\",\"1967-07-01T00:00:00\",\"1967-08-01T00:00:00\",\"1967-09-01T00:00:00\",\"1967-10-01T00:00:00\",\"1967-11-01T00:00:00\",\"1967-12-01T00:00:00\",\"1968-01-01T00:00:00\",\"1968-02-01T00:00:00\",\"1968-03-01T00:00:00\",\"1968-04-01T00:00:00\",\"1968-05-01T00:00:00\",\"1968-06-01T00:00:00\",\"1968-07-01T00:00:00\",\"1968-08-01T00:00:00\",\"1968-09-01T00:00:00\",\"1968-10-01T00:00:00\",\"1968-11-01T00:00:00\",\"1968-12-01T00:00:00\",\"1969-01-01T00:00:00\",\"1969-02-01T00:00:00\",\"1969-03-01T00:00:00\",\"1969-04-01T00:00:00\",\"1969-05-01T00:00:00\",\"1969-06-01T00:00:00\",\"1969-07-01T00:00:00\",\"1969-08-01T00:00:00\",\"1969-09-01T00:00:00\",\"1969-10-01T00:00:00\",\"1969-11-01T00:00:00\",\"1969-12-01T00:00:00\",\"1970-01-01T00:00:00\",\"1970-02-01T00:00:00\",\"1970-03-01T00:00:00\",\"1970-04-01T00:00:00\",\"1970-05-01T00:00:00\",\"1970-06-01T00:00:00\",\"1970-07-01T00:00:00\",\"1970-08-01T00:00:00\",\"1970-09-01T00:00:00\",\"1970-10-01T00:00:00\",\"1970-11-01T00:00:00\",\"1970-12-01T00:00:00\",\"1971-01-01T00:00:00\",\"1971-02-01T00:00:00\",\"1971-03-01T00:00:00\",\"1971-04-01T00:00:00\",\"1971-05-01T00:00:00\",\"1971-06-01T00:00:00\",\"1971-07-01T00:00:00\",\"1971-08-01T00:00:00\",\"1971-09-01T00:00:00\",\"1971-10-01T00:00:00\",\"1971-11-01T00:00:00\",\"1971-12-01T00:00:00\",\"1972-01-01T00:00:00\",\"1972-02-01T00:00:00\",\"1972-03-01T00:00:00\",\"1972-04-01T00:00:00\",\"1972-05-01T00:00:00\",\"1972-06-01T00:00:00\",\"1972-07-01T00:00:00\",\"1972-08-01T00:00:00\",\"1972-09-01T00:00:00\",\"1972-10-01T00:00:00\",\"1972-11-01T00:00:00\",\"1972-12-01T00:00:00\",\"1973-01-01T00:00:00\",\"1973-02-01T00:00:00\",\"1973-03-01T00:00:00\",\"1973-04-01T00:00:00\",\"1973-05-01T00:00:00\",\"1973-06-01T00:00:00\",\"1973-07-01T00:00:00\",\"1973-08-01T00:00:00\",\"1973-09-01T00:00:00\",\"1973-10-01T00:00:00\",\"1973-11-01T00:00:00\",\"1973-12-01T00:00:00\",\"1974-01-01T00:00:00\",\"1974-02-01T00:00:00\",\"1974-03-01T00:00:00\",\"1974-04-01T00:00:00\",\"1974-05-01T00:00:00\",\"1974-06-01T00:00:00\",\"1974-07-01T00:00:00\",\"1974-08-01T00:00:00\",\"1974-09-01T00:00:00\",\"1974-10-01T00:00:00\",\"1974-11-01T00:00:00\",\"1974-12-01T00:00:00\",\"1975-01-01T00:00:00\",\"1975-02-01T00:00:00\",\"1975-03-01T00:00:00\",\"1975-04-01T00:00:00\",\"1975-05-01T00:00:00\",\"1975-06-01T00:00:00\",\"1975-07-01T00:00:00\",\"1975-08-01T00:00:00\",\"1975-09-01T00:00:00\",\"1975-10-01T00:00:00\",\"1975-11-01T00:00:00\",\"1975-12-01T00:00:00\",\"1976-01-01T00:00:00\",\"1976-02-01T00:00:00\",\"1976-03-01T00:00:00\",\"1976-04-01T00:00:00\",\"1976-05-01T00:00:00\",\"1976-06-01T00:00:00\",\"1976-07-01T00:00:00\",\"1976-08-01T00:00:00\",\"1976-09-01T00:00:00\",\"1976-10-01T00:00:00\",\"1976-11-01T00:00:00\",\"1976-12-01T00:00:00\",\"1977-01-01T00:00:00\",\"1977-02-01T00:00:00\",\"1977-03-01T00:00:00\",\"1977-04-01T00:00:00\",\"1977-05-01T00:00:00\",\"1977-06-01T00:00:00\",\"1977-07-01T00:00:00\",\"1977-08-01T00:00:00\",\"1977-09-01T00:00:00\",\"1977-10-01T00:00:00\",\"1977-11-01T00:00:00\",\"1977-12-01T00:00:00\",\"1978-01-01T00:00:00\",\"1978-02-01T00:00:00\",\"1978-03-01T00:00:00\",\"1978-04-01T00:00:00\",\"1978-05-01T00:00:00\",\"1978-06-01T00:00:00\",\"1978-07-01T00:00:00\",\"1978-08-01T00:00:00\",\"1978-09-01T00:00:00\",\"1978-10-01T00:00:00\",\"1978-11-01T00:00:00\",\"1978-12-01T00:00:00\",\"1979-01-01T00:00:00\",\"1979-02-01T00:00:00\",\"1979-03-01T00:00:00\",\"1979-04-01T00:00:00\",\"1979-05-01T00:00:00\",\"1979-06-01T00:00:00\",\"1979-07-01T00:00:00\",\"1979-08-01T00:00:00\",\"1979-09-01T00:00:00\",\"1979-10-01T00:00:00\",\"1979-11-01T00:00:00\",\"1979-12-01T00:00:00\",\"1980-01-01T00:00:00\",\"1980-02-01T00:00:00\",\"1980-03-01T00:00:00\",\"1980-04-01T00:00:00\",\"1980-05-01T00:00:00\",\"1980-06-01T00:00:00\",\"1980-07-01T00:00:00\",\"1980-08-01T00:00:00\",\"1980-09-01T00:00:00\",\"1980-10-01T00:00:00\",\"1980-11-01T00:00:00\",\"1980-12-01T00:00:00\",\"1981-01-01T00:00:00\",\"1981-02-01T00:00:00\",\"1981-03-01T00:00:00\",\"1981-04-01T00:00:00\",\"1981-05-01T00:00:00\",\"1981-06-01T00:00:00\",\"1981-07-01T00:00:00\",\"1981-08-01T00:00:00\",\"1981-09-01T00:00:00\",\"1981-10-01T00:00:00\",\"1981-11-01T00:00:00\",\"1981-12-01T00:00:00\",\"1982-01-01T00:00:00\",\"1982-02-01T00:00:00\",\"1982-03-01T00:00:00\",\"1982-04-01T00:00:00\",\"1982-05-01T00:00:00\",\"1982-06-01T00:00:00\",\"1982-07-01T00:00:00\",\"1982-08-01T00:00:00\",\"1982-09-01T00:00:00\",\"1982-10-01T00:00:00\",\"1982-11-01T00:00:00\",\"1982-12-01T00:00:00\",\"1983-01-01T00:00:00\",\"1983-02-01T00:00:00\",\"1983-03-01T00:00:00\",\"1983-04-01T00:00:00\",\"1983-05-01T00:00:00\",\"1983-06-01T00:00:00\",\"1983-07-01T00:00:00\",\"1983-08-01T00:00:00\",\"1983-09-01T00:00:00\",\"1983-10-01T00:00:00\",\"1983-11-01T00:00:00\",\"1983-12-01T00:00:00\",\"1984-01-01T00:00:00\",\"1984-02-01T00:00:00\",\"1984-03-01T00:00:00\",\"1984-04-01T00:00:00\",\"1984-05-01T00:00:00\",\"1984-06-01T00:00:00\",\"1984-07-01T00:00:00\",\"1984-08-01T00:00:00\",\"1984-09-01T00:00:00\",\"1984-10-01T00:00:00\",\"1984-11-01T00:00:00\",\"1984-12-01T00:00:00\",\"1985-01-01T00:00:00\",\"1985-02-01T00:00:00\",\"1985-03-01T00:00:00\",\"1985-04-01T00:00:00\",\"1985-05-01T00:00:00\",\"1985-06-01T00:00:00\",\"1985-07-01T00:00:00\",\"1985-08-01T00:00:00\",\"1985-09-01T00:00:00\",\"1985-10-01T00:00:00\",\"1985-11-01T00:00:00\",\"1985-12-01T00:00:00\",\"1986-01-01T00:00:00\",\"1986-02-01T00:00:00\",\"1986-03-01T00:00:00\",\"1986-04-01T00:00:00\",\"1986-05-01T00:00:00\",\"1986-06-01T00:00:00\",\"1986-07-01T00:00:00\",\"1986-08-01T00:00:00\",\"1986-09-01T00:00:00\",\"1986-10-01T00:00:00\",\"1986-11-01T00:00:00\",\"1986-12-01T00:00:00\",\"1987-01-01T00:00:00\",\"1987-02-01T00:00:00\",\"1987-03-01T00:00:00\",\"1987-04-01T00:00:00\",\"1987-05-01T00:00:00\",\"1987-06-01T00:00:00\",\"1987-07-01T00:00:00\",\"1987-08-01T00:00:00\",\"1987-09-01T00:00:00\",\"1987-10-01T00:00:00\",\"1987-11-01T00:00:00\",\"1987-12-01T00:00:00\",\"1988-01-01T00:00:00\",\"1988-02-01T00:00:00\",\"1988-03-01T00:00:00\",\"1988-04-01T00:00:00\",\"1988-05-01T00:00:00\",\"1988-06-01T00:00:00\",\"1988-07-01T00:00:00\",\"1988-08-01T00:00:00\",\"1988-09-01T00:00:00\",\"1988-10-01T00:00:00\",\"1988-11-01T00:00:00\",\"1988-12-01T00:00:00\",\"1989-01-01T00:00:00\",\"1989-02-01T00:00:00\",\"1989-03-01T00:00:00\",\"1989-04-01T00:00:00\",\"1989-05-01T00:00:00\",\"1989-06-01T00:00:00\",\"1989-07-01T00:00:00\",\"1989-08-01T00:00:00\",\"1989-09-01T00:00:00\",\"1989-10-01T00:00:00\",\"1989-11-01T00:00:00\",\"1989-12-01T00:00:00\",\"1990-01-01T00:00:00\",\"1990-02-01T00:00:00\",\"1990-03-01T00:00:00\",\"1990-04-01T00:00:00\",\"1990-05-01T00:00:00\",\"1990-06-01T00:00:00\",\"1990-07-01T00:00:00\",\"1990-08-01T00:00:00\",\"1990-09-01T00:00:00\",\"1990-10-01T00:00:00\",\"1990-11-01T00:00:00\",\"1990-12-01T00:00:00\",\"1991-01-01T00:00:00\",\"1991-02-01T00:00:00\",\"1991-03-01T00:00:00\",\"1991-04-01T00:00:00\",\"1991-05-01T00:00:00\",\"1991-06-01T00:00:00\",\"1991-07-01T00:00:00\",\"1991-08-01T00:00:00\",\"1991-09-01T00:00:00\",\"1991-10-01T00:00:00\",\"1991-11-01T00:00:00\",\"1991-12-01T00:00:00\",\"1992-01-01T00:00:00\",\"1992-02-01T00:00:00\",\"1992-03-01T00:00:00\",\"1992-04-01T00:00:00\",\"1992-05-01T00:00:00\",\"1992-06-01T00:00:00\",\"1992-07-01T00:00:00\",\"1992-08-01T00:00:00\",\"1992-09-01T00:00:00\",\"1992-10-01T00:00:00\",\"1992-11-01T00:00:00\",\"1992-12-01T00:00:00\",\"1993-01-01T00:00:00\",\"1993-02-01T00:00:00\",\"1993-03-01T00:00:00\",\"1993-04-01T00:00:00\",\"1993-05-01T00:00:00\",\"1993-06-01T00:00:00\",\"1993-07-01T00:00:00\",\"1993-08-01T00:00:00\",\"1993-09-01T00:00:00\",\"1993-10-01T00:00:00\",\"1993-11-01T00:00:00\",\"1993-12-01T00:00:00\",\"1994-01-01T00:00:00\",\"1994-02-01T00:00:00\",\"1994-03-01T00:00:00\",\"1994-04-01T00:00:00\",\"1994-05-01T00:00:00\",\"1994-06-01T00:00:00\",\"1994-07-01T00:00:00\",\"1994-08-01T00:00:00\",\"1994-09-01T00:00:00\",\"1994-10-01T00:00:00\",\"1994-11-01T00:00:00\",\"1994-12-01T00:00:00\",\"1995-01-01T00:00:00\",\"1995-02-01T00:00:00\",\"1995-03-01T00:00:00\",\"1995-04-01T00:00:00\",\"1995-05-01T00:00:00\",\"1995-06-01T00:00:00\",\"1995-07-01T00:00:00\",\"1995-08-01T00:00:00\",\"1995-09-01T00:00:00\",\"1995-10-01T00:00:00\",\"1995-11-01T00:00:00\",\"1995-12-01T00:00:00\",\"1996-01-01T00:00:00\",\"1996-02-01T00:00:00\",\"1996-03-01T00:00:00\",\"1996-04-01T00:00:00\",\"1996-05-01T00:00:00\",\"1996-06-01T00:00:00\",\"1996-07-01T00:00:00\",\"1996-08-01T00:00:00\",\"1996-09-01T00:00:00\",\"1996-10-01T00:00:00\",\"1996-11-01T00:00:00\",\"1996-12-01T00:00:00\",\"1997-01-01T00:00:00\",\"1997-02-01T00:00:00\",\"1997-03-01T00:00:00\",\"1997-04-01T00:00:00\",\"1997-05-01T00:00:00\",\"1997-06-01T00:00:00\",\"1997-07-01T00:00:00\",\"1997-08-01T00:00:00\",\"1997-09-01T00:00:00\",\"1997-10-01T00:00:00\",\"1997-11-01T00:00:00\",\"1997-12-01T00:00:00\",\"1998-01-01T00:00:00\",\"1998-02-01T00:00:00\",\"1998-03-01T00:00:00\",\"1998-04-01T00:00:00\",\"1998-05-01T00:00:00\",\"1998-06-01T00:00:00\",\"1998-07-01T00:00:00\",\"1998-08-01T00:00:00\",\"1998-09-01T00:00:00\",\"1998-10-01T00:00:00\",\"1998-11-01T00:00:00\",\"1998-12-01T00:00:00\",\"1999-01-01T00:00:00\",\"1999-02-01T00:00:00\",\"1999-03-01T00:00:00\",\"1999-04-01T00:00:00\",\"1999-05-01T00:00:00\",\"1999-06-01T00:00:00\",\"1999-07-01T00:00:00\",\"1999-08-01T00:00:00\",\"1999-09-01T00:00:00\",\"1999-10-01T00:00:00\",\"1999-11-01T00:00:00\",\"1999-12-01T00:00:00\",\"2000-01-01T00:00:00\",\"2000-02-01T00:00:00\",\"2000-03-01T00:00:00\",\"2000-04-01T00:00:00\",\"2000-05-01T00:00:00\",\"2000-06-01T00:00:00\",\"2000-07-01T00:00:00\",\"2000-08-01T00:00:00\",\"2000-09-01T00:00:00\",\"2000-10-01T00:00:00\",\"2000-11-01T00:00:00\",\"2000-12-01T00:00:00\",\"2001-01-01T00:00:00\",\"2001-02-01T00:00:00\",\"2001-03-01T00:00:00\",\"2001-04-01T00:00:00\",\"2001-05-01T00:00:00\",\"2001-06-01T00:00:00\",\"2001-07-01T00:00:00\",\"2001-08-01T00:00:00\",\"2001-09-01T00:00:00\",\"2001-10-01T00:00:00\",\"2001-11-01T00:00:00\",\"2001-12-01T00:00:00\",\"2002-01-01T00:00:00\",\"2002-02-01T00:00:00\",\"2002-03-01T00:00:00\",\"2002-04-01T00:00:00\",\"2002-05-01T00:00:00\",\"2002-06-01T00:00:00\",\"2002-07-01T00:00:00\",\"2002-08-01T00:00:00\",\"2002-09-01T00:00:00\",\"2002-10-01T00:00:00\",\"2002-11-01T00:00:00\",\"2002-12-01T00:00:00\",\"2003-01-01T00:00:00\",\"2003-02-01T00:00:00\",\"2003-03-01T00:00:00\",\"2003-04-01T00:00:00\",\"2003-05-01T00:00:00\",\"2003-06-01T00:00:00\",\"2003-07-01T00:00:00\",\"2003-08-01T00:00:00\",\"2003-09-01T00:00:00\",\"2003-10-01T00:00:00\",\"2003-11-01T00:00:00\",\"2003-12-01T00:00:00\",\"2004-01-01T00:00:00\",\"2004-02-01T00:00:00\",\"2004-03-01T00:00:00\",\"2004-04-01T00:00:00\",\"2004-05-01T00:00:00\",\"2004-06-01T00:00:00\",\"2004-07-01T00:00:00\",\"2004-08-01T00:00:00\",\"2004-09-01T00:00:00\",\"2004-10-01T00:00:00\",\"2004-11-01T00:00:00\",\"2004-12-01T00:00:00\",\"2005-01-01T00:00:00\",\"2005-02-01T00:00:00\",\"2005-03-01T00:00:00\",\"2005-04-01T00:00:00\",\"2005-05-01T00:00:00\",\"2005-06-01T00:00:00\",\"2005-07-01T00:00:00\",\"2005-08-01T00:00:00\",\"2005-09-01T00:00:00\",\"2005-10-01T00:00:00\",\"2005-11-01T00:00:00\",\"2005-12-01T00:00:00\",\"2006-01-01T00:00:00\",\"2006-02-01T00:00:00\",\"2006-03-01T00:00:00\",\"2006-04-01T00:00:00\",\"2006-05-01T00:00:00\",\"2006-06-01T00:00:00\",\"2006-07-01T00:00:00\",\"2006-08-01T00:00:00\",\"2006-09-01T00:00:00\",\"2006-10-01T00:00:00\",\"2006-11-01T00:00:00\",\"2006-12-01T00:00:00\",\"2007-01-01T00:00:00\",\"2007-02-01T00:00:00\",\"2007-03-01T00:00:00\",\"2007-04-01T00:00:00\",\"2007-05-01T00:00:00\",\"2007-06-01T00:00:00\",\"2007-07-01T00:00:00\",\"2007-08-01T00:00:00\",\"2007-09-01T00:00:00\",\"2007-10-01T00:00:00\",\"2007-11-01T00:00:00\",\"2007-12-01T00:00:00\",\"2008-01-01T00:00:00\",\"2008-02-01T00:00:00\",\"2008-03-01T00:00:00\",\"2008-04-01T00:00:00\",\"2008-05-01T00:00:00\",\"2008-06-01T00:00:00\",\"2008-07-01T00:00:00\",\"2008-08-01T00:00:00\",\"2008-09-01T00:00:00\",\"2008-10-01T00:00:00\",\"2008-11-01T00:00:00\",\"2008-12-01T00:00:00\",\"2009-01-01T00:00:00\",\"2009-02-01T00:00:00\",\"2009-03-01T00:00:00\",\"2009-04-01T00:00:00\",\"2009-05-01T00:00:00\",\"2009-06-01T00:00:00\",\"2009-07-01T00:00:00\",\"2009-08-01T00:00:00\",\"2009-09-01T00:00:00\",\"2009-10-01T00:00:00\",\"2009-11-01T00:00:00\",\"2009-12-01T00:00:00\",\"2010-01-01T00:00:00\",\"2010-02-01T00:00:00\",\"2010-03-01T00:00:00\",\"2010-04-01T00:00:00\",\"2010-05-01T00:00:00\",\"2010-06-01T00:00:00\",\"2010-07-01T00:00:00\",\"2010-08-01T00:00:00\",\"2010-09-01T00:00:00\",\"2010-10-01T00:00:00\",\"2010-11-01T00:00:00\",\"2010-12-01T00:00:00\",\"2011-01-01T00:00:00\",\"2011-02-01T00:00:00\",\"2011-03-01T00:00:00\",\"2011-04-01T00:00:00\",\"2011-05-01T00:00:00\",\"2011-06-01T00:00:00\",\"2011-07-01T00:00:00\",\"2011-08-01T00:00:00\",\"2011-09-01T00:00:00\",\"2011-10-01T00:00:00\",\"2011-11-01T00:00:00\",\"2011-12-01T00:00:00\",\"2012-01-01T00:00:00\",\"2012-02-01T00:00:00\",\"2012-03-01T00:00:00\",\"2012-04-01T00:00:00\",\"2012-05-01T00:00:00\",\"2012-06-01T00:00:00\",\"2012-07-01T00:00:00\",\"2012-08-01T00:00:00\",\"2012-09-01T00:00:00\",\"2012-10-01T00:00:00\",\"2012-11-01T00:00:00\",\"2012-12-01T00:00:00\",\"2013-01-01T00:00:00\",\"2013-02-01T00:00:00\",\"2013-03-01T00:00:00\",\"2013-04-01T00:00:00\",\"2013-05-01T00:00:00\",\"2013-06-01T00:00:00\",\"2013-07-01T00:00:00\",\"2013-08-01T00:00:00\",\"2013-09-01T00:00:00\",\"2013-10-01T00:00:00\",\"2013-11-01T00:00:00\",\"2013-12-01T00:00:00\",\"2014-01-01T00:00:00\",\"2014-02-01T00:00:00\",\"2014-03-01T00:00:00\",\"2014-04-01T00:00:00\",\"2014-05-01T00:00:00\",\"2014-06-01T00:00:00\",\"2014-07-01T00:00:00\",\"2014-08-01T00:00:00\",\"2014-09-01T00:00:00\",\"2014-10-01T00:00:00\",\"2014-11-01T00:00:00\",\"2014-12-01T00:00:00\",\"2015-01-01T00:00:00\",\"2015-02-01T00:00:00\",\"2015-03-01T00:00:00\",\"2015-04-01T00:00:00\",\"2015-05-01T00:00:00\",\"2015-06-01T00:00:00\",\"2015-07-01T00:00:00\",\"2015-08-01T00:00:00\",\"2015-09-01T00:00:00\",\"2015-10-01T00:00:00\",\"2015-11-01T00:00:00\",\"2015-12-01T00:00:00\",\"2016-01-01T00:00:00\",\"2016-02-01T00:00:00\",\"2016-03-01T00:00:00\",\"2016-04-01T00:00:00\",\"2016-05-01T00:00:00\",\"2016-06-01T00:00:00\",\"2016-07-01T00:00:00\",\"2016-08-01T00:00:00\",\"2016-09-01T00:00:00\",\"2016-10-01T00:00:00\",\"2016-11-01T00:00:00\",\"2016-12-01T00:00:00\",\"2017-01-01T00:00:00\",\"2017-02-01T00:00:00\",\"2017-03-01T00:00:00\",\"2017-04-01T00:00:00\",\"2017-05-01T00:00:00\",\"2017-06-01T00:00:00\",\"2017-07-01T00:00:00\",\"2017-08-01T00:00:00\",\"2017-09-01T00:00:00\",\"2017-10-01T00:00:00\",\"2017-11-01T00:00:00\",\"2017-12-01T00:00:00\",\"2018-01-01T00:00:00\",\"2018-02-01T00:00:00\",\"2018-03-01T00:00:00\",\"2018-04-01T00:00:00\",\"2018-05-01T00:00:00\",\"2018-06-01T00:00:00\",\"2018-07-01T00:00:00\",\"2018-08-01T00:00:00\",\"2018-09-01T00:00:00\",\"2018-10-01T00:00:00\",\"2018-11-01T00:00:00\",\"2018-12-01T00:00:00\",\"2019-01-01T00:00:00\",\"2019-02-01T00:00:00\",\"2019-03-01T00:00:00\",\"2019-04-01T00:00:00\",\"2019-05-01T00:00:00\",\"2019-06-01T00:00:00\",\"2019-07-01T00:00:00\",\"2019-08-01T00:00:00\",\"2019-09-01T00:00:00\",\"2019-10-01T00:00:00\",\"2019-11-01T00:00:00\",\"2019-12-01T00:00:00\"],\"y\":[1037.1,1076.40609,1089.8611661249997,1061.9607202721998,1087.4477775587325,1119.744976552227,1116.7216651155359,1161.725548219692,1182.4042629780024,1197.0660758389297,1262.0667637569836,1238.2137019219765,1343.4618665853445,1382.2879145296608,1457.0696907057156,1396.164177634217,1483.7036715718823,1502.5467082008452,1480.1587622486525,1470.5377302940362,1612.7387288134696,1671.4424185422797,1692.3354487740582,1631.7498397079469,1644.6406634416396,1759.4365817498663,1800.079566788288,1831.2209432937257,2068.7302996389217,2067.902807519066,2184.1189453016377,2181.2795906727456,2202.0017467841367,2243.619579798357,2130.5411529765197,2351.478270540184,2482.455610209273,2741.623975915121,2583.70643490241,2095.6442893493445,1835.5748330410909,1877.6094967177316,1971.3022106039466,2028.4699747114607,2186.690632738955,2168.322431423948,2151.843180945126,1831.218546984302,1908.8622133764366,1926.6146319608376,1702.1640273374,1564.4589575258046,1519.7154313405665,1426.5568753993898,1499.8818987949185,1656.6195572189874,1563.0205522361148,1430.6327114617159,1253.0911919693172,1421.3813390507967,1332.2607290923115,1337.589772008681,963.0646358462502,1036.835386952073,945.6975564389858,824.8374087260834,804.9588271757847,858.9715644792798,762.8526464140484,622.792900532429,497.36241036519783,489.30513931728166,643.7787717997476,852.6206053715856,833.2661176296506,737.1072076551889,698.0405256494638,738.038247769178,743.2045155035622,633.2845676605854,643.9870768540492,870.4773317836184,1018.9807645859037,1140.035679418709,1037.3184647030832,1152.5645461315958,1037.7691173368887,955.3702494203397,1059.6966806570408,1076.545857879488,1186.7841537263475,1152.9608053451466,1148.579554284835,1124.8039575111388,1051.916661064417,1079.6872609165175,986.1863441211472,1034.6080936174953,1036.1600057579217,1017.3018936531275,1092.887424351555,1091.2480932150277,1059.1653992745057,1040.841837867057,1012.6350240608597,1105.3923922648344,1146.4024500178596,1212.3205908938864,1299.2439772609782,1325.8784787948284,1360.7490827871322,1446.3402000944427,1507.5203905584378,1564.5046613215468,1655.7152830765929,1685.1870151153562,1704.903703192206,1589.8227032267323,1675.9910937416212,1731.2987998350945,1843.313832184425,1854.1893837943132,1861.9769792062496,2007.3973812822578,2054.9726992186474,2042.8483602932577,2100.048114381469,2110.548354953376,2092.6086939362726,1953.8687375282977,1955.8226062658257,1887.5643973071483,2052.7262820715237,1950.0899679679476,1724.0745406804624,1562.8735711268391,1440.9694325789458,1397.3080587718036,1398.98482844233,1470.3330546928885,1130.3920524478926,1282.6558619126238,1241.8674055038023,1526.3792281047236,1621.7779298612686,1591.9372159518214,1614.7019181399326,1711.4225630365145,1687.2915048976997,1751.577311234302,1663.998445672587,1713.2527996644956,1548.437880336771,1543.0183477555925,1635.5994486209281,1563.4695129367453,1703.5563812958776,1617.015717126047,1843.2362159519807,1834.2043584938162,1792.2010786843077,1846.863211584179,1804.3853577177429,1826.3988590818994,1858.9087587735573,1860.9535584082084,1480.7607464254113,1578.046727465561,1624.5991059257951,1657.9033875972739,1690.7298746717001,1726.9114939896747,1694.2728667532697,1715.9595594477112,1638.7413792725642,1617.9293637558026,1629.0930763657175,1538.5155013197837,1559.7470152379967,1650.3683168233242,1724.799927912056,1723.7650479553088,1710.6644335908484,1621.367750157406,1592.1831306545726,1522.7639461580334,1508.9067942479953,1468.6189828415738,1364.9344826529589,1310.4735967951058,1400.634180254609,1440.2721275558144,1485.0645907228,1508.974130633437,1546.245791660083,1641.3399078471782,1652.5010192205389,1734.2998196719557,1837.6640889244045,1931.7524902773337,2012.4997443709262,2013.7072442175486,2122.6488061297177,2166.587636416603,2079.707472196297,2107.7835230709475,2153.943982226201,2128.958232032377,2025.0650703091972,2132.7985320496464,2158.818674140652,2163.5680752237613,2207.488507150804,2181.881640467854,2277.4480563203465,2378.3390052153377,2343.377421838672,2368.451560252345,2369.635786032471,2378.1664748621884,2416.4549551074697,2491.3650587158013,2528.735534596538,2664.781506357832,2576.044282196116,2763.3227015117736,2809.1938583568685,2788.6867431908636,2751.0394721577873,2904.2723707569758,3019.5719838760283,3109.253271797146,3227.0939707982584,3244.1975688434895,3422.628435129881,3245.6785450336665,3416.0766686479337,3558.185458063688,3664.931021805599,3551.684653231806,3482.426802493786,3267.21282609967,2979.371376120289,2936.170491166545,2939.693895755945,3076.9776006877473,3113.5936341359316,3081.8349790677453,3045.4693263147456,2947.405214007411,2955.6579486066316,3102.8497144472417,3207.415749824114,3152.5689405021217,3119.7822235208996,3193.4090839959927,3148.382015911649,3249.130240420822,3107.793074962516,2993.1155104963996,3201.4363500269483,3311.2456168328727,3539.0593152709744,3560.2936711626,3388.3314868454463,3404.9343111309886,3323.556381094958,3536.928700761254,3229.215903795025,3349.6656570065797,3344.9761250867705,3248.306315071763,3365.2453424143464,3325.535447373857,3226.4344910421155,3238.372298658972,3415.5112633956173,3517.6350501711463,3611.2041425056987,3733.9850833508926,3803.437205901219,3975.7329113285437,4021.851413099955,4079.766073448594,4160.137465095531,4331.119114910957,4547.241958745015,4315.7873430448935,4337.797858494422,4560.760668421036,4762.346289965246,4781.8719097541025,4899.027771543078,5135.160910131455,5409.892018823489,5493.204355913371,5414.65153362381,5703.2524603659585,5565.804076071138,5466.732763517072,5857.0574828321905,6127.067832790754,6127.680539574034,5983.680046894045,6007.0163990769315,6261.713894397793,6356.891945592641,6181.441727894284,6501.022265226418,6172.720640832485,6391.234951517956,6678.2014008411115,6746.319055129691,6682.229024105959,6545.911552014199,6536.092684686177,6924.990199425006,7163.902361305169,7097.99445958116,7061.084888391339,6956.580832043146,6756.926962163508,6803.549758202435,6728.7107108622085,6925.189063619384,6626.713414977388,6669.124380833243,7005.248249627239,7214.00464746613,7242.860666055995,7593.415122293106,7722.503179372087,8028.314305275222,8473.885749217998,8703.528053021804,8780.119099888396,9149.762113993696,8918.273132509656,9589.819099387632,9390.35086212037,10274.92191333211,10764.00819640672,10815.67543574947,11104.45396988398,11067.809271783364,11497.240271528557,11636.356878814053,12591.70177856469,12944.2694283645,12971.452394164064,13046.686818050215,12681.37958714481,13654.041401478817,13854.755810080553,13457.12431833124,14020.97782726932,15048.715502008161,15148.037024321415,14305.806165769145,14876.607831783334,15660.605064518315,15103.087524221462,14304.134194190148,14395.680653032965,14444.625967253278,14981.966053235099,14304.781187628872,14054.447516845368,14380.510699236183,15149.86802164532,15780.102531345767,15802.194674889652,15996.561669390794,15251.121895597184,14331.479245292674,13821.278584160254,14139.167991595938,13600.465691116133,14086.00231628898,13822.594072974376,14284.268715011722,14729.937898920087,15014.225700369245,15461.649626240249,16098.669590841346,16370.737106926565,17177.81444629804,17598.670900232344,18063.27581199848,19154.29767104319,19196.437125919485,19271.30323071057,19331.044270725775,20156.47986108577,20728.923889140602,20635.643731639473,21374.399777232167,21175.617859303908,20258.71360599605,20453.197256613614,20835.672045312287,21544.084894852906,19917.506485291513,20206.310329328237,19990.102808804422,19612.28986571802,20277.146492165863,20731.354573590375,20233.80206382421,20848.90964656446,19625.078650311127,19642.741221096403,20481.48627123722,21507.608733426205,22787.311453065067,23409.405055733747,24013.367706171677,24143.039891785007,24647.62942552331,24046.227267540544,24907.0822037185,25509.833593048486,25096.5742888411,25796.768711499768,27053.071347749807,27212.684468701533,25993.556204503704,26601.80541968909,26476.776934216552,24835.216764295124,22875.71816159224,20945.007548753856,22371.362562823997,22838.924040387017,21808.88856616556,22085.86145095586,24318.742043647497,24778.36626827243,25925.604626493445,25282.649631756405,26258.559907542203,27566.23619093781,28010.052593611905,27452.65254699903,27543.246300404127,28983.758081915264,28720.005883369835,29736.69409164113,29573.142274137106,30333.172030582427,31300.80021835801,31760.921981567873,32161.109598535626,32453.7756958823,33024.96214812983,33556.66403871472,34123.771660968996,33680.1626293764,34606.36710168425,34814.005304294355,34928.89152179853,35176.886651603294,36274.405515133316,36118.42557141824,35558.58997506126,36753.35859822332,36654.12453000812,35202.621198619796,35593.37029392448,36476.0858772138,37665.206276810975,38482.54125301778,38020.750757981565,38279.29186313584,38107.03504975173,37394.43349432137,36474.53043036106,37149.30924332274,35659.62194266549,35039.14452086312,34601.15521435233,32262.117121862113,32194.366675906203,33932.86247640514,34255.22466993099,34073.671979180355,36458.82901772299,36754.145532766546,38158.15389211823,39856.19174031749,37863.382153301616,38401.042179878496,39971.644805035525,39611.90000179021,40986.43293185232,40265.07171225172,40567.05975009361,41500.10212434576,39607.6974674756,38684.83811648341,39152.92465769286,42230.344535787524,42639.97887778466,42998.15470035805,42310.18422515232,42872.90967534685,44163.384256574784,44490.19330007344,46656.86571378702,44519.98126409558,44092.589443960256,42544.939554477256,44285.02758225537,45401.0102773282,45691.5767431031,43566.9184245488,41087.96076619198,43158.79398880805,41846.766651548285,43562.48408426176,42373.22826876141,41970.68260020819,38579.451446111365,40739.900727093605,40756.196687384436,37312.29806730046,35513.845300456574,33741.70441996379,36211.59718350513,37815.77093873441,38893.520410488345,38699.0528084359,40808.151186495656,42926.094233074786,44415.62970296248,44975.2666372198,46810.25751601837,48425.21140032099,46575.368324828734,46789.615019122946,44983.535879384806,46782.877314560195,46600.42409303341,45085.91031000983,45536.76941310993,49211.586704747904,50062.947154740046,51569.84186409772,52152.58107716202,52449.85078930185,53834.52685013942,53080.84347423747,53558.5710655056,55540.23819492931,55645.76464749967,56452.62823488841,58716.378627107435,60060.98369766819,59718.636090591484,57807.63973569255,57911.6934872168,55705.257965353834,55315.32115959636,55403.82567345171,57309.71727661845,55321.07008711979,56903.252691611415,57005.678546456315,51384.91864177572,52063.199567847165,51021.93557649022,50981.11802802903,49849.337207806784,48039.806267163396,47227.933541248334,46528.96012483786,42471.634801951994,38916.75896902861,34059.94744969384,40231.60992757837,38368.88638793149,37566.976662423716,41612.940048966746,44571.62008644828,45445.22384014267,47631.13910685354,50179.40504907021,52307.01182315078,48692.59730617106,47874.561671427386,46112.77780191886,49220.779025768185,50790.92187669019,49983.34621885082,55461.520964436866,54546.40586852366,56499.1671986168,55900.27602631146,55458.663845703595,57893.299188529985,57412.78480526519,57671.14233688888,59130.222238012175,57947.61779325193,57484.03685090592,60260.515830804674,57169.15136868439,56374.50016465967,55359.7591616958,55066.35243813881,54168.77089339715,56828.45754426294,56106.7361334508,55472.730015142806,55378.426374117065,53019.30541057968,54684.11160047188,54968.46898079434,51554.927057087014,50750.67019499646,51648.9570574479,56400.66110673311,56812.38593281227,55744.313077275394,58821.39915914099,60586.04113391522,60246.75930356529,55655.95624463361,57325.63493197262,58454.94994013249,60500.87318803712,58770.548214859264,61620.91980327993,61799.62047070944,60594.527871530605,62739.57415818279,63053.2720289737,66603.17124420492,66809.64107506195,63048.25828253597,66270.02428077355,66965.85953572168,70876.66573260781,71904.37738573062,65130.985035994796,67938.13049104616,71253.51125900922,73248.60957426149,77328.55712754786,78302.89694735495,80393.58429584932,81969.29854804797,92485.95955176253,89156.46500789908,84235.02813946306,85827.0701712989,87208.88600105682,84810.64163602775,84819.12270019135,84971.79712105171,85804.52073283802,81316.94429851059,77112.85827827759,81099.59305126456,85178.90258174317,82427.62402835286,81199.4524303304,76538.60386082943,75949.25661110105,78721.40447740623,77076.12712382844,75719.58728644907,74417.21038512215,83786.33717260904,84498.52103857622,93345.51619131514,96799.30029039379,98144.81056443026,101982.27265749947,104429.84720127947,107698.50141867953,115969.74632763412,113731.53022351077,118087.44783107123,113907.15217785131,116333.37451923956,117659.57498875889,116435.9154088758,118287.24646387693,118097.98686953472,118157.03586296948,114919.53308032411,115769.93762511852,117853.79650237065,112067.17509410426,115070.57538662624,114322.61664661318,126520.8398428068,126406.97108694828,126925.23966840476,125478.29193618495,128452.12745507254,137970.43009949342,140177.95698108533,140191.9747767834,140093.84039443967,148485.46143406662,150475.16661728313,149542.22058425596,148944.05170191894,144877.87909045655,151281.48134625473,161992.21022556958,170286.21138911875,170013.75345089613,182815.7890857486,193729.8916941678,191773.2197880567,202052.26436869657,205972.07829744928,195920.64087653378,210085.70321190718,190904.87850866004,201061.01804532073,206348.92281991267,201664.80227190064,228546.72041474498,236477.29161313662,242791.23529920736,240727.5097991641,243086.6393951959,255702.83597980658,266749.1984941342,279153.0362241114,272900.0082126913,219084.12659314857,199016.02059721618,212071.47154839354,221381.409149368,229638.93571063946,219994.10041079257,222392.0361052702,225105.2189457545,234964.82753557857,234941.331052825,227564.1732577663,237417.70195982757,244967.58488215008,242762.87661821072,247035.50324669122,264797.3559301283,256959.35419459653,263177.7705661058,277020.9212978829,288101.7581497982,285912.18478785973,312158.92335138534,315967.26221627224,317357.5181700238,313644.4352074345,320701.4349996018,328334.1291525924,306007.4083702161,309618.29578898463,317699.33330907713,312552.6041094701,342213.8462394588,341187.20470074046,341460.154464501,312401.89531957195,299780.8587486613,301339.71921415435,318335.27937783266,325943.49255496287,339209.3927019498,361970.3429522506,370078.478634381,368968.2431984779,382435.5840752224,366373.28954406304,383995.84477113246,394056.53590413614,387554.6030617179,392127.74737784616,379226.74448911496,423368.73754764796,411599.08664382336,413698.2419857069,406086.1943331699,418065.73706599843,420866.77750434057,414090.8223865207,431068.546104368,423179.9917106581,426903.9756377119,427117.4276255307,440614.3383384975,445681.4032293902,445547.69880842144,451117.0450435267,459282.26355881453,446468.2884055236,458255.0512194294,459583.9908679657,456550.73652823706,472393.04708576686,469558.68880325224,478574.2156282748,474314.90510918316,477445.3834829037,492484.9130626152,476380.65640546766,456086.8404425948,463019.36041732226,472511.25730587734,461359.99163345865,476261.91936321935,494169.3675312765,482506.9704575384,495341.6558717089,479837.4620429244,486651.15400393395,501153.35839325114,518292.8032503004,532027.5625364333,549158.8500501066,572223.5217522111,585727.9968655633,604998.4479624403,606389.9443927539,637376.4705512236,640180.9270216491,667196.5621419627,680006.7361350884,704282.9766151111,711889.2327625542,716943.6463151684,725331.8869770559,745786.2461898088,752125.4292824222,721589.1368535558,734794.2180579759,778661.4328760371,799685.29156369,862540.5554805961,846842.3173708493,904766.3318790154,911280.6494685444,870728.6605671942,929067.4808251961,984068.2756900477,1031106.739268032,1114935.717170523,1044471.779845346,1100664.3616010256,1069185.3608592362,1123927.651335229,1143371.5997033287,1165896.0202174843,1249024.406458991,1315597.407323255,1336910.0853218918,1315920.596982338,1383558.9156672303,1383697.271558797,1184029.7552728625,1263122.9429250897,1365056.9644191447,1457061.8038209947,1556724.8312023508,1633627.037863747,1578247.081280166,1640430.0162826045,1688986.7447645697,1644397.494702785,1733688.2786651463,1675609.7213298639,1672426.0628593373,1629277.4704375663,1743978.604356371,1788624.4566278942,1898088.2733735212,1808498.5068702907,1761477.5456916632,1948898.7565532562,1881856.639327824,1833492.9236970989,1883547.2805140298,1847759.8821842633,1982092.025619059,1873671.5918176968,1842943.3777118865,1663809.2813982912,1660648.0437636345,1714286.9755771998,1533601.1283513631,1420114.644853362,1533723.816441631,1537098.0088378026,1499592.8174221602,1485946.5227836187,1385347.9431911677,1286849.7044302756,1308726.1494055903,1410414.1712144045,1416055.8278992623,1390566.8229970757,1358861.8994327423,1403976.1144939093,1302889.8342503477,1293509.0274437452,1195461.0431635093,1118353.8058794632,1127747.9778488504,1005161.7726566804,1099445.9469318772,1157716.5821192665,1085590.8390532364,1053131.6729655445,1032279.6658408267,1044357.3379311644,1132814.404453934,1183111.3640116886,1200621.4121990616,1219471.1683705868,1235202.3464425672,1223097.36344743,1285842.2581922833,1294328.817096352,1363704.8416927168,1385115.0077072924,1403121.502807487,1376321.882103864,1362696.2954710356,1375778.1799075576,1393800.8740643468,1348362.9655698491,1354026.0900252424,1359171.3891673384,1371132.097392011,1418984.607590992,1468932.8657781947,1431915.7575605842,1455971.9422876022,1427726.0866072227,1409308.4200899897,1451023.9493246533,1441447.1912591106,1488726.6591324091,1476816.84585935,1483905.5667194747,1467730.9960422325,1521156.4042981698,1516592.9350852752,1543739.9486233017,1547290.5505051352,1565084.3918359443,1583395.879220425,1548086.1511138093,1550098.6631102574,1566219.689206604,1603965.5837164833,1647914.240710315,1700812.2878371163,1725303.9847819705,1756531.9869065243,1778488.6367428557,1730469.4435507986,1750888.9829846981,1828453.36493092,1891535.0060210368,1860324.6784216897,1810840.0419756728,1849048.7668613594,1923750.3370425582,1961648.2186822966,1884555.4436880823,1870609.7334047905,1759121.393293865,1703357.2451264497,1700631.8735342473,1768827.2116629705,1782270.2984716091,1626321.6473553432,1614774.7636591203,1635282.4031575911,1503315.1132227734,1279772.155886547,1198890.5556345172,1206323.677079451,1109214.6210745552,1001509.8813682159,1088741.3920353875,1170941.3671340588,1236631.1778302798,1239722.7557748554,1326875.2655058277,1365885.3983116993,1408774.1998186866,1393841.1933006085,1482907.6455525174,1498774.7573599291,1447067.0282310117,1486282.5446960721,1570554.7649803392,1581077.4819057074,1452377.774878583,1378887.4594697265,1473479.1391893497,1409088.1008067753,1529565.1334257543,1589982.9561960716,1581238.0499369933,1683702.2755729104,1725289.7217795611,1777566.000349482,1770989.0061481888,1823941.5774320196,1798406.3953479712,1768552.849185195,1742731.9775870913,1654201.193125667,1551640.7191518757,1709908.072505367,1707343.210396609,1731075.2810211221,1806203.948217439,1888747.4686509762,1956742.3775224113,1941675.4612154886,1830805.792380084,1910262.76376938,1939107.7315022973,1980410.7261832964,2036060.267589047,1995746.2742907838,2002930.9608782306,2010742.391625656,2108464.471858663,2134820.277756896,2214235.592089452,2258298.880372032,2315433.842045445,2280702.3344147634,2398842.7153374483,2330475.697950331,2399690.826179456,2513676.1404229808,2599141.129197362,2664639.485653135,2561251.473609794,2666262.7840277953,2694791.7958168923,2719583.880338408,2779142.767317819,2824720.7087018313,2793648.7809061115,2900924.894092906,2873076.0151096135,2929962.9202087843,3014931.844894839,2997746.7333789384,2893724.921730689,3065612.1820814926,3004606.499658071,3050276.518452874,3086879.8366743084,3031007.3116305033,3110116.60246406,2912313.1865473455,2839505.356883662,3085690.4713254753,3097724.664163645,3056215.1536638523,2899431.316280897,2884934.159699492,3065531.0380966803,3075953.843626209,3131013.4174271184,3125690.694617492,3235402.437998566,3245432.1855563615,3243809.469463584,3199044.898784986,3302374.0490157413,3373705.3284744816,3436456.247584107,3583536.574980706,3592495.4164181575,3637401.609123384,3691598.8930993224,3713379.3265686086,3794702.3338204613,3825059.952491025,3893146.0196453654,3997093.0183698963,4119404.064732015,4165541.3902570144,4432136.039233464,4277897.705068139,4139721.6091944384,4160420.2172404104,4273583.64714935,4298797.79066753,4464731.385387298,4629926.446646627,4664650.894996477,4360515.656642707,4438132.835330947,4049352.398955956,4349814.346958488,4476828.9258896755,4565022.4557297025,4764057.434799518,4445818.39815491,4756581.104185939,4833162.0599633325,4756798.099415911,4837187.98729604,4973596.688537789,5161598.643364517,5316962.762529789],\"type\":\"scatter\"}],                        {\"template\":{\"data\":{\"histogram2dcontour\":[{\"type\":\"histogram2dcontour\",\"colorbar\":{\"outlinewidth\":0,\"ticks\":\"\"},\"colorscale\":[[0.0,\"#0d0887\"],[0.1111111111111111,\"#46039f\"],[0.2222222222222222,\"#7201a8\"],[0.3333333333333333,\"#9c179e\"],[0.4444444444444444,\"#bd3786\"],[0.5555555555555556,\"#d8576b\"],[0.6666666666666666,\"#ed7953\"],[0.7777777777777778,\"#fb9f3a\"],[0.8888888888888888,\"#fdca26\"],[1.0,\"#f0f921\"]]}],\"choropleth\":[{\"type\":\"choropleth\",\"colorbar\":{\"outlinewidth\":0,\"ticks\":\"\"}}],\"histogram2d\":[{\"type\":\"histogram2d\",\"colorbar\":{\"outlinewidth\":0,\"ticks\":\"\"},\"colorscale\":[[0.0,\"#0d0887\"],[0.1111111111111111,\"#46039f\"],[0.2222222222222222,\"#7201a8\"],[0.3333333333333333,\"#9c179e\"],[0.4444444444444444,\"#bd3786\"],[0.5555555555555556,\"#d8576b\"],[0.6666666666666666,\"#ed7953\"],[0.7777777777777778,\"#fb9f3a\"],[0.8888888888888888,\"#fdca26\"],[1.0,\"#f0f921\"]]}],\"heatmap\":[{\"type\":\"heatmap\",\"colorbar\":{\"outlinewidth\":0,\"ticks\":\"\"},\"colorscale\":[[0.0,\"#0d0887\"],[0.1111111111111111,\"#46039f\"],[0.2222222222222222,\"#7201a8\"],[0.3333333333333333,\"#9c179e\"],[0.4444444444444444,\"#bd3786\"],[0.5555555555555556,\"#d8576b\"],[0.6666666666666666,\"#ed7953\"],[0.7777777777777778,\"#fb9f3a\"],[0.8888888888888888,\"#fdca26\"],[1.0,\"#f0f921\"]]}],\"heatmapgl\":[{\"type\":\"heatmapgl\",\"colorbar\":{\"outlinewidth\":0,\"ticks\":\"\"},\"colorscale\":[[0.0,\"#0d0887\"],[0.1111111111111111,\"#46039f\"],[0.2222222222222222,\"#7201a8\"],[0.3333333333333333,\"#9c179e\"],[0.4444444444444444,\"#bd3786\"],[0.5555555555555556,\"#d8576b\"],[0.6666666666666666,\"#ed7953\"],[0.7777777777777778,\"#fb9f3a\"],[0.8888888888888888,\"#fdca26\"],[1.0,\"#f0f921\"]]}],\"contourcarpet\":[{\"type\":\"contourcarpet\",\"colorbar\":{\"outlinewidth\":0,\"ticks\":\"\"}}],\"contour\":[{\"type\":\"contour\",\"colorbar\":{\"outlinewidth\":0,\"ticks\":\"\"},\"colorscale\":[[0.0,\"#0d0887\"],[0.1111111111111111,\"#46039f\"],[0.2222222222222222,\"#7201a8\"],[0.3333333333333333,\"#9c179e\"],[0.4444444444444444,\"#bd3786\"],[0.5555555555555556,\"#d8576b\"],[0.6666666666666666,\"#ed7953\"],[0.7777777777777778,\"#fb9f3a\"],[0.8888888888888888,\"#fdca26\"],[1.0,\"#f0f921\"]]}],\"surface\":[{\"type\":\"surface\",\"colorbar\":{\"outlinewidth\":0,\"ticks\":\"\"},\"colorscale\":[[0.0,\"#0d0887\"],[0.1111111111111111,\"#46039f\"],[0.2222222222222222,\"#7201a8\"],[0.3333333333333333,\"#9c179e\"],[0.4444444444444444,\"#bd3786\"],[0.5555555555555556,\"#d8576b\"],[0.6666666666666666,\"#ed7953\"],[0.7777777777777778,\"#fb9f3a\"],[0.8888888888888888,\"#fdca26\"],[1.0,\"#f0f921\"]]}],\"mesh3d\":[{\"type\":\"mesh3d\",\"colorbar\":{\"outlinewidth\":0,\"ticks\":\"\"}}],\"scatter\":[{\"fillpattern\":{\"fillmode\":\"overlay\",\"size\":10,\"solidity\":0.2},\"type\":\"scatter\"}],\"parcoords\":[{\"type\":\"parcoords\",\"line\":{\"colorbar\":{\"outlinewidth\":0,\"ticks\":\"\"}}}],\"scatterpolargl\":[{\"type\":\"scatterpolargl\",\"marker\":{\"colorbar\":{\"outlinewidth\":0,\"ticks\":\"\"}}}],\"bar\":[{\"error_x\":{\"color\":\"#2a3f5f\"},\"error_y\":{\"color\":\"#2a3f5f\"},\"marker\":{\"line\":{\"color\":\"#E5ECF6\",\"width\":0.5},\"pattern\":{\"fillmode\":\"overlay\",\"size\":10,\"solidity\":0.2}},\"type\":\"bar\"}],\"scattergeo\":[{\"type\":\"scattergeo\",\"marker\":{\"colorbar\":{\"outlinewidth\":0,\"ticks\":\"\"}}}],\"scatterpolar\":[{\"type\":\"scatterpolar\",\"marker\":{\"colorbar\":{\"outlinewidth\":0,\"ticks\":\"\"}}}],\"histogram\":[{\"marker\":{\"pattern\":{\"fillmode\":\"overlay\",\"size\":10,\"solidity\":0.2}},\"type\":\"histogram\"}],\"scattergl\":[{\"type\":\"scattergl\",\"marker\":{\"colorbar\":{\"outlinewidth\":0,\"ticks\":\"\"}}}],\"scatter3d\":[{\"type\":\"scatter3d\",\"line\":{\"colorbar\":{\"outlinewidth\":0,\"ticks\":\"\"}},\"marker\":{\"colorbar\":{\"outlinewidth\":0,\"ticks\":\"\"}}}],\"scattermapbox\":[{\"type\":\"scattermapbox\",\"marker\":{\"colorbar\":{\"outlinewidth\":0,\"ticks\":\"\"}}}],\"scatterternary\":[{\"type\":\"scatterternary\",\"marker\":{\"colorbar\":{\"outlinewidth\":0,\"ticks\":\"\"}}}],\"scattercarpet\":[{\"type\":\"scattercarpet\",\"marker\":{\"colorbar\":{\"outlinewidth\":0,\"ticks\":\"\"}}}],\"carpet\":[{\"aaxis\":{\"endlinecolor\":\"#2a3f5f\",\"gridcolor\":\"white\",\"linecolor\":\"white\",\"minorgridcolor\":\"white\",\"startlinecolor\":\"#2a3f5f\"},\"baxis\":{\"endlinecolor\":\"#2a3f5f\",\"gridcolor\":\"white\",\"linecolor\":\"white\",\"minorgridcolor\":\"white\",\"startlinecolor\":\"#2a3f5f\"},\"type\":\"carpet\"}],\"table\":[{\"cells\":{\"fill\":{\"color\":\"#EBF0F8\"},\"line\":{\"color\":\"white\"}},\"header\":{\"fill\":{\"color\":\"#C8D4E3\"},\"line\":{\"color\":\"white\"}},\"type\":\"table\"}],\"barpolar\":[{\"marker\":{\"line\":{\"color\":\"#E5ECF6\",\"width\":0.5},\"pattern\":{\"fillmode\":\"overlay\",\"size\":10,\"solidity\":0.2}},\"type\":\"barpolar\"}],\"pie\":[{\"automargin\":true,\"type\":\"pie\"}]},\"layout\":{\"autotypenumbers\":\"strict\",\"colorway\":[\"#636efa\",\"#EF553B\",\"#00cc96\",\"#ab63fa\",\"#FFA15A\",\"#19d3f3\",\"#FF6692\",\"#B6E880\",\"#FF97FF\",\"#FECB52\"],\"font\":{\"color\":\"#2a3f5f\"},\"hovermode\":\"closest\",\"hoverlabel\":{\"align\":\"left\"},\"paper_bgcolor\":\"white\",\"plot_bgcolor\":\"#E5ECF6\",\"polar\":{\"bgcolor\":\"#E5ECF6\",\"angularaxis\":{\"gridcolor\":\"white\",\"linecolor\":\"white\",\"ticks\":\"\"},\"radialaxis\":{\"gridcolor\":\"white\",\"linecolor\":\"white\",\"ticks\":\"\"}},\"ternary\":{\"bgcolor\":\"#E5ECF6\",\"aaxis\":{\"gridcolor\":\"white\",\"linecolor\":\"white\",\"ticks\":\"\"},\"baxis\":{\"gridcolor\":\"white\",\"linecolor\":\"white\",\"ticks\":\"\"},\"caxis\":{\"gridcolor\":\"white\",\"linecolor\":\"white\",\"ticks\":\"\"}},\"coloraxis\":{\"colorbar\":{\"outlinewidth\":0,\"ticks\":\"\"}},\"colorscale\":{\"sequential\":[[0.0,\"#0d0887\"],[0.1111111111111111,\"#46039f\"],[0.2222222222222222,\"#7201a8\"],[0.3333333333333333,\"#9c179e\"],[0.4444444444444444,\"#bd3786\"],[0.5555555555555556,\"#d8576b\"],[0.6666666666666666,\"#ed7953\"],[0.7777777777777778,\"#fb9f3a\"],[0.8888888888888888,\"#fdca26\"],[1.0,\"#f0f921\"]],\"sequentialminus\":[[0.0,\"#0d0887\"],[0.1111111111111111,\"#46039f\"],[0.2222222222222222,\"#7201a8\"],[0.3333333333333333,\"#9c179e\"],[0.4444444444444444,\"#bd3786\"],[0.5555555555555556,\"#d8576b\"],[0.6666666666666666,\"#ed7953\"],[0.7777777777777778,\"#fb9f3a\"],[0.8888888888888888,\"#fdca26\"],[1.0,\"#f0f921\"]],\"diverging\":[[0,\"#8e0152\"],[0.1,\"#c51b7d\"],[0.2,\"#de77ae\"],[0.3,\"#f1b6da\"],[0.4,\"#fde0ef\"],[0.5,\"#f7f7f7\"],[0.6,\"#e6f5d0\"],[0.7,\"#b8e186\"],[0.8,\"#7fbc41\"],[0.9,\"#4d9221\"],[1,\"#276419\"]]},\"xaxis\":{\"gridcolor\":\"white\",\"linecolor\":\"white\",\"ticks\":\"\",\"title\":{\"standoff\":15},\"zerolinecolor\":\"white\",\"automargin\":true,\"zerolinewidth\":2},\"yaxis\":{\"gridcolor\":\"white\",\"linecolor\":\"white\",\"ticks\":\"\",\"title\":{\"standoff\":15},\"zerolinecolor\":\"white\",\"automargin\":true,\"zerolinewidth\":2},\"scene\":{\"xaxis\":{\"backgroundcolor\":\"#E5ECF6\",\"gridcolor\":\"white\",\"linecolor\":\"white\",\"showbackground\":true,\"ticks\":\"\",\"zerolinecolor\":\"white\",\"gridwidth\":2},\"yaxis\":{\"backgroundcolor\":\"#E5ECF6\",\"gridcolor\":\"white\",\"linecolor\":\"white\",\"showbackground\":true,\"ticks\":\"\",\"zerolinecolor\":\"white\",\"gridwidth\":2},\"zaxis\":{\"backgroundcolor\":\"#E5ECF6\",\"gridcolor\":\"white\",\"linecolor\":\"white\",\"showbackground\":true,\"ticks\":\"\",\"zerolinecolor\":\"white\",\"gridwidth\":2}},\"shapedefaults\":{\"line\":{\"color\":\"#2a3f5f\"}},\"annotationdefaults\":{\"arrowcolor\":\"#2a3f5f\",\"arrowhead\":0,\"arrowwidth\":1},\"geo\":{\"bgcolor\":\"white\",\"landcolor\":\"#E5ECF6\",\"subunitcolor\":\"white\",\"showland\":true,\"showlakes\":true,\"lakecolor\":\"white\"},\"title\":{\"x\":0.05},\"mapbox\":{\"style\":\"light\"}}},\"title\":{\"font\":{\"size\":30},\"text\":\"Wealth Index of LargeCap\",\"x\":0.5,\"y\":0.9},\"yaxis\":{\"zerolinecolor\":\"Black\"}},                        {\"responsive\": true}                    ).then(function(){\n",
              "                            \n",
              "var gd = document.getElementById('9ccc85e1-c5b7-425b-a79e-44bbe3f8447f');\n",
              "var x = new MutationObserver(function (mutations, observer) {{\n",
              "        var display = window.getComputedStyle(gd).display;\n",
              "        if (!display || display === 'none') {{\n",
              "            console.log([gd, 'removed!']);\n",
              "            Plotly.purge(gd);\n",
              "            observer.disconnect();\n",
              "        }}\n",
              "}});\n",
              "\n",
              "// Listen for the removal of the full notebook cells\n",
              "var notebookContainer = gd.closest('#notebook-container');\n",
              "if (notebookContainer) {{\n",
              "    x.observe(notebookContainer, {childList: true});\n",
              "}}\n",
              "\n",
              "// Listen for the clearing of the current output cell\n",
              "var outputEl = gd.closest('.output');\n",
              "if (outputEl) {{\n",
              "    x.observe(outputEl, {childList: true});\n",
              "}}\n",
              "\n",
              "                        })                };                            </script>        </div>\n",
              "</body>\n",
              "</html>"
            ]
          },
          "metadata": {}
        }
      ]
    },
    {
      "cell_type": "markdown",
      "source": [
        "#### <font color='MediumPurple' style=\"font-size:16px\"><b>Step 2: Compute the previous peaks</b></font>  "
      ],
      "metadata": {
        "id": "Um2qPvrkcbWx"
      }
    },
    {
      "cell_type": "markdown",
      "source": [
        "Previous peak calculated at time t is the maximal value of the portfolio for the period beginning at time $0$ and ending at time $t$. For example, for $t=5$, previous peak is the maximal value of all observations obtained from $t=0$ to $t=5$ (i.e. $0,1,2,3,4,5$).\n",
        "\n",
        "We can calculate this value for each date in the sample (our $t$) very elegantly using the <font color='mediumseagreen'><b>Pandas</b></font>' method <font color='DeepPink'><b>cummax</b></font>. It calculates the cumulative maximum, which is exactly what we need in this case:"
      ],
      "metadata": {
        "id": "17Wrc8ilccV5"
      }
    },
    {
      "cell_type": "code",
      "source": [
        "previous_peaks= wealth_index.cummax()\n",
        "previous_peaks.head()"
      ],
      "metadata": {
        "id": "dHY4lHNScd7b",
        "outputId": "98daee70-6a80-4cf8-bffc-4f7c73805fb6",
        "colab": {
          "base_uri": "https://localhost:8080/"
        }
      },
      "execution_count": 68,
      "outputs": [
        {
          "output_type": "execute_result",
          "data": {
            "text/plain": [
              "1926-07-01    1037.100000\n",
              "1926-08-01    1076.406090\n",
              "1926-09-01    1089.861166\n",
              "1926-10-01    1089.861166\n",
              "1926-11-01    1089.861166\n",
              "Name: LargeCap, dtype: float64"
            ]
          },
          "metadata": {},
          "execution_count": 68
        }
      ]
    },
    {
      "cell_type": "markdown",
      "source": [
        "Now, let us present this series of cumulative maximums (i.e. previous peaks) graphically:"
      ],
      "metadata": {
        "id": "ufhxhvdEclHB"
      }
    },
    {
      "cell_type": "code",
      "source": [
        "fig=go.Figure()\n",
        "\n",
        "fig.add_trace(go.Scatter(x=previous_peaks.index,y=previous_peaks.values,line=dict(color='SkyBlue')))\n",
        "\n",
        "fig.update_layout(title=dict(text='Previous Peaks', font=dict(size=30),x=0.5,y=0.9),yaxis=dict(zerolinecolor='Black'))\n",
        "\n",
        "fig.show()"
      ],
      "metadata": {
        "id": "pevAeubRcl2P",
        "outputId": "79f42b9c-af8c-4ed7-de1c-691ae77bf436",
        "colab": {
          "base_uri": "https://localhost:8080/",
          "height": 542
        }
      },
      "execution_count": 69,
      "outputs": [
        {
          "output_type": "display_data",
          "data": {
            "text/html": [
              "<html>\n",
              "<head><meta charset=\"utf-8\" /></head>\n",
              "<body>\n",
              "    <div>            <script src=\"https://cdnjs.cloudflare.com/ajax/libs/mathjax/2.7.5/MathJax.js?config=TeX-AMS-MML_SVG\"></script><script type=\"text/javascript\">if (window.MathJax && window.MathJax.Hub && window.MathJax.Hub.Config) {window.MathJax.Hub.Config({SVG: {font: \"STIX-Web\"}});}</script>                <script type=\"text/javascript\">window.PlotlyConfig = {MathJaxConfig: 'local'};</script>\n",
              "        <script charset=\"utf-8\" src=\"https://cdn.plot.ly/plotly-2.24.1.min.js\"></script>                <div id=\"a5d93de7-0a5e-4a78-b07f-8178e0562527\" class=\"plotly-graph-div\" style=\"height:525px; width:100%;\"></div>            <script type=\"text/javascript\">                                    window.PLOTLYENV=window.PLOTLYENV || {};                                    if (document.getElementById(\"a5d93de7-0a5e-4a78-b07f-8178e0562527\")) {                    Plotly.newPlot(                        \"a5d93de7-0a5e-4a78-b07f-8178e0562527\",                        [{\"line\":{\"color\":\"SkyBlue\"},\"x\":[\"1926-07-01T00:00:00\",\"1926-08-01T00:00:00\",\"1926-09-01T00:00:00\",\"1926-10-01T00:00:00\",\"1926-11-01T00:00:00\",\"1926-12-01T00:00:00\",\"1927-01-01T00:00:00\",\"1927-02-01T00:00:00\",\"1927-03-01T00:00:00\",\"1927-04-01T00:00:00\",\"1927-05-01T00:00:00\",\"1927-06-01T00:00:00\",\"1927-07-01T00:00:00\",\"1927-08-01T00:00:00\",\"1927-09-01T00:00:00\",\"1927-10-01T00:00:00\",\"1927-11-01T00:00:00\",\"1927-12-01T00:00:00\",\"1928-01-01T00:00:00\",\"1928-02-01T00:00:00\",\"1928-03-01T00:00:00\",\"1928-04-01T00:00:00\",\"1928-05-01T00:00:00\",\"1928-06-01T00:00:00\",\"1928-07-01T00:00:00\",\"1928-08-01T00:00:00\",\"1928-09-01T00:00:00\",\"1928-10-01T00:00:00\",\"1928-11-01T00:00:00\",\"1928-12-01T00:00:00\",\"1929-01-01T00:00:00\",\"1929-02-01T00:00:00\",\"1929-03-01T00:00:00\",\"1929-04-01T00:00:00\",\"1929-05-01T00:00:00\",\"1929-06-01T00:00:00\",\"1929-07-01T00:00:00\",\"1929-08-01T00:00:00\",\"1929-09-01T00:00:00\",\"1929-10-01T00:00:00\",\"1929-11-01T00:00:00\",\"1929-12-01T00:00:00\",\"1930-01-01T00:00:00\",\"1930-02-01T00:00:00\",\"1930-03-01T00:00:00\",\"1930-04-01T00:00:00\",\"1930-05-01T00:00:00\",\"1930-06-01T00:00:00\",\"1930-07-01T00:00:00\",\"1930-08-01T00:00:00\",\"1930-09-01T00:00:00\",\"1930-10-01T00:00:00\",\"1930-11-01T00:00:00\",\"1930-12-01T00:00:00\",\"1931-01-01T00:00:00\",\"1931-02-01T00:00:00\",\"1931-03-01T00:00:00\",\"1931-04-01T00:00:00\",\"1931-05-01T00:00:00\",\"1931-06-01T00:00:00\",\"1931-07-01T00:00:00\",\"1931-08-01T00:00:00\",\"1931-09-01T00:00:00\",\"1931-10-01T00:00:00\",\"1931-11-01T00:00:00\",\"1931-12-01T00:00:00\",\"1932-01-01T00:00:00\",\"1932-02-01T00:00:00\",\"1932-03-01T00:00:00\",\"1932-04-01T00:00:00\",\"1932-05-01T00:00:00\",\"1932-06-01T00:00:00\",\"1932-07-01T00:00:00\",\"1932-08-01T00:00:00\",\"1932-09-01T00:00:00\",\"1932-10-01T00:00:00\",\"1932-11-01T00:00:00\",\"1932-12-01T00:00:00\",\"1933-01-01T00:00:00\",\"1933-02-01T00:00:00\",\"1933-03-01T00:00:00\",\"1933-04-01T00:00:00\",\"1933-05-01T00:00:00\",\"1933-06-01T00:00:00\",\"1933-07-01T00:00:00\",\"1933-08-01T00:00:00\",\"1933-09-01T00:00:00\",\"1933-10-01T00:00:00\",\"1933-11-01T00:00:00\",\"1933-12-01T00:00:00\",\"1934-01-01T00:00:00\",\"1934-02-01T00:00:00\",\"1934-03-01T00:00:00\",\"1934-04-01T00:00:00\",\"1934-05-01T00:00:00\",\"1934-06-01T00:00:00\",\"1934-07-01T00:00:00\",\"1934-08-01T00:00:00\",\"1934-09-01T00:00:00\",\"1934-10-01T00:00:00\",\"1934-11-01T00:00:00\",\"1934-12-01T00:00:00\",\"1935-01-01T00:00:00\",\"1935-02-01T00:00:00\",\"1935-03-01T00:00:00\",\"1935-04-01T00:00:00\",\"1935-05-01T00:00:00\",\"1935-06-01T00:00:00\",\"1935-07-01T00:00:00\",\"1935-08-01T00:00:00\",\"1935-09-01T00:00:00\",\"1935-10-01T00:00:00\",\"1935-11-01T00:00:00\",\"1935-12-01T00:00:00\",\"1936-01-01T00:00:00\",\"1936-02-01T00:00:00\",\"1936-03-01T00:00:00\",\"1936-04-01T00:00:00\",\"1936-05-01T00:00:00\",\"1936-06-01T00:00:00\",\"1936-07-01T00:00:00\",\"1936-08-01T00:00:00\",\"1936-09-01T00:00:00\",\"1936-10-01T00:00:00\",\"1936-11-01T00:00:00\",\"1936-12-01T00:00:00\",\"1937-01-01T00:00:00\",\"1937-02-01T00:00:00\",\"1937-03-01T00:00:00\",\"1937-04-01T00:00:00\",\"1937-05-01T00:00:00\",\"1937-06-01T00:00:00\",\"1937-07-01T00:00:00\",\"1937-08-01T00:00:00\",\"1937-09-01T00:00:00\",\"1937-10-01T00:00:00\",\"1937-11-01T00:00:00\",\"1937-12-01T00:00:00\",\"1938-01-01T00:00:00\",\"1938-02-01T00:00:00\",\"1938-03-01T00:00:00\",\"1938-04-01T00:00:00\",\"1938-05-01T00:00:00\",\"1938-06-01T00:00:00\",\"1938-07-01T00:00:00\",\"1938-08-01T00:00:00\",\"1938-09-01T00:00:00\",\"1938-10-01T00:00:00\",\"1938-11-01T00:00:00\",\"1938-12-01T00:00:00\",\"1939-01-01T00:00:00\",\"1939-02-01T00:00:00\",\"1939-03-01T00:00:00\",\"1939-04-01T00:00:00\",\"1939-05-01T00:00:00\",\"1939-06-01T00:00:00\",\"1939-07-01T00:00:00\",\"1939-08-01T00:00:00\",\"1939-09-01T00:00:00\",\"1939-10-01T00:00:00\",\"1939-11-01T00:00:00\",\"1939-12-01T00:00:00\",\"1940-01-01T00:00:00\",\"1940-02-01T00:00:00\",\"1940-03-01T00:00:00\",\"1940-04-01T00:00:00\",\"1940-05-01T00:00:00\",\"1940-06-01T00:00:00\",\"1940-07-01T00:00:00\",\"1940-08-01T00:00:00\",\"1940-09-01T00:00:00\",\"1940-10-01T00:00:00\",\"1940-11-01T00:00:00\",\"1940-12-01T00:00:00\",\"1941-01-01T00:00:00\",\"1941-02-01T00:00:00\",\"1941-03-01T00:00:00\",\"1941-04-01T00:00:00\",\"1941-05-01T00:00:00\",\"1941-06-01T00:00:00\",\"1941-07-01T00:00:00\",\"1941-08-01T00:00:00\",\"1941-09-01T00:00:00\",\"1941-10-01T00:00:00\",\"1941-11-01T00:00:00\",\"1941-12-01T00:00:00\",\"1942-01-01T00:00:00\",\"1942-02-01T00:00:00\",\"1942-03-01T00:00:00\",\"1942-04-01T00:00:00\",\"1942-05-01T00:00:00\",\"1942-06-01T00:00:00\",\"1942-07-01T00:00:00\",\"1942-08-01T00:00:00\",\"1942-09-01T00:00:00\",\"1942-10-01T00:00:00\",\"1942-11-01T00:00:00\",\"1942-12-01T00:00:00\",\"1943-01-01T00:00:00\",\"1943-02-01T00:00:00\",\"1943-03-01T00:00:00\",\"1943-04-01T00:00:00\",\"1943-05-01T00:00:00\",\"1943-06-01T00:00:00\",\"1943-07-01T00:00:00\",\"1943-08-01T00:00:00\",\"1943-09-01T00:00:00\",\"1943-10-01T00:00:00\",\"1943-11-01T00:00:00\",\"1943-12-01T00:00:00\",\"1944-01-01T00:00:00\",\"1944-02-01T00:00:00\",\"1944-03-01T00:00:00\",\"1944-04-01T00:00:00\",\"1944-05-01T00:00:00\",\"1944-06-01T00:00:00\",\"1944-07-01T00:00:00\",\"1944-08-01T00:00:00\",\"1944-09-01T00:00:00\",\"1944-10-01T00:00:00\",\"1944-11-01T00:00:00\",\"1944-12-01T00:00:00\",\"1945-01-01T00:00:00\",\"1945-02-01T00:00:00\",\"1945-03-01T00:00:00\",\"1945-04-01T00:00:00\",\"1945-05-01T00:00:00\",\"1945-06-01T00:00:00\",\"1945-07-01T00:00:00\",\"1945-08-01T00:00:00\",\"1945-09-01T00:00:00\",\"1945-10-01T00:00:00\",\"1945-11-01T00:00:00\",\"1945-12-01T00:00:00\",\"1946-01-01T00:00:00\",\"1946-02-01T00:00:00\",\"1946-03-01T00:00:00\",\"1946-04-01T00:00:00\",\"1946-05-01T00:00:00\",\"1946-06-01T00:00:00\",\"1946-07-01T00:00:00\",\"1946-08-01T00:00:00\",\"1946-09-01T00:00:00\",\"1946-10-01T00:00:00\",\"1946-11-01T00:00:00\",\"1946-12-01T00:00:00\",\"1947-01-01T00:00:00\",\"1947-02-01T00:00:00\",\"1947-03-01T00:00:00\",\"1947-04-01T00:00:00\",\"1947-05-01T00:00:00\",\"1947-06-01T00:00:00\",\"1947-07-01T00:00:00\",\"1947-08-01T00:00:00\",\"1947-09-01T00:00:00\",\"1947-10-01T00:00:00\",\"1947-11-01T00:00:00\",\"1947-12-01T00:00:00\",\"1948-01-01T00:00:00\",\"1948-02-01T00:00:00\",\"1948-03-01T00:00:00\",\"1948-04-01T00:00:00\",\"1948-05-01T00:00:00\",\"1948-06-01T00:00:00\",\"1948-07-01T00:00:00\",\"1948-08-01T00:00:00\",\"1948-09-01T00:00:00\",\"1948-10-01T00:00:00\",\"1948-11-01T00:00:00\",\"1948-12-01T00:00:00\",\"1949-01-01T00:00:00\",\"1949-02-01T00:00:00\",\"1949-03-01T00:00:00\",\"1949-04-01T00:00:00\",\"1949-05-01T00:00:00\",\"1949-06-01T00:00:00\",\"1949-07-01T00:00:00\",\"1949-08-01T00:00:00\",\"1949-09-01T00:00:00\",\"1949-10-01T00:00:00\",\"1949-11-01T00:00:00\",\"1949-12-01T00:00:00\",\"1950-01-01T00:00:00\",\"1950-02-01T00:00:00\",\"1950-03-01T00:00:00\",\"1950-04-01T00:00:00\",\"1950-05-01T00:00:00\",\"1950-06-01T00:00:00\",\"1950-07-01T00:00:00\",\"1950-08-01T00:00:00\",\"1950-09-01T00:00:00\",\"1950-10-01T00:00:00\",\"1950-11-01T00:00:00\",\"1950-12-01T00:00:00\",\"1951-01-01T00:00:00\",\"1951-02-01T00:00:00\",\"1951-03-01T00:00:00\",\"1951-04-01T00:00:00\",\"1951-05-01T00:00:00\",\"1951-06-01T00:00:00\",\"1951-07-01T00:00:00\",\"1951-08-01T00:00:00\",\"1951-09-01T00:00:00\",\"1951-10-01T00:00:00\",\"1951-11-01T00:00:00\",\"1951-12-01T00:00:00\",\"1952-01-01T00:00:00\",\"1952-02-01T00:00:00\",\"1952-03-01T00:00:00\",\"1952-04-01T00:00:00\",\"1952-05-01T00:00:00\",\"1952-06-01T00:00:00\",\"1952-07-01T00:00:00\",\"1952-08-01T00:00:00\",\"1952-09-01T00:00:00\",\"1952-10-01T00:00:00\",\"1952-11-01T00:00:00\",\"1952-12-01T00:00:00\",\"1953-01-01T00:00:00\",\"1953-02-01T00:00:00\",\"1953-03-01T00:00:00\",\"1953-04-01T00:00:00\",\"1953-05-01T00:00:00\",\"1953-06-01T00:00:00\",\"1953-07-01T00:00:00\",\"1953-08-01T00:00:00\",\"1953-09-01T00:00:00\",\"1953-10-01T00:00:00\",\"1953-11-01T00:00:00\",\"1953-12-01T00:00:00\",\"1954-01-01T00:00:00\",\"1954-02-01T00:00:00\",\"1954-03-01T00:00:00\",\"1954-04-01T00:00:00\",\"1954-05-01T00:00:00\",\"1954-06-01T00:00:00\",\"1954-07-01T00:00:00\",\"1954-08-01T00:00:00\",\"1954-09-01T00:00:00\",\"1954-10-01T00:00:00\",\"1954-11-01T00:00:00\",\"1954-12-01T00:00:00\",\"1955-01-01T00:00:00\",\"1955-02-01T00:00:00\",\"1955-03-01T00:00:00\",\"1955-04-01T00:00:00\",\"1955-05-01T00:00:00\",\"1955-06-01T00:00:00\",\"1955-07-01T00:00:00\",\"1955-08-01T00:00:00\",\"1955-09-01T00:00:00\",\"1955-10-01T00:00:00\",\"1955-11-01T00:00:00\",\"1955-12-01T00:00:00\",\"1956-01-01T00:00:00\",\"1956-02-01T00:00:00\",\"1956-03-01T00:00:00\",\"1956-04-01T00:00:00\",\"1956-05-01T00:00:00\",\"1956-06-01T00:00:00\",\"1956-07-01T00:00:00\",\"1956-08-01T00:00:00\",\"1956-09-01T00:00:00\",\"1956-10-01T00:00:00\",\"1956-11-01T00:00:00\",\"1956-12-01T00:00:00\",\"1957-01-01T00:00:00\",\"1957-02-01T00:00:00\",\"1957-03-01T00:00:00\",\"1957-04-01T00:00:00\",\"1957-05-01T00:00:00\",\"1957-06-01T00:00:00\",\"1957-07-01T00:00:00\",\"1957-08-01T00:00:00\",\"1957-09-01T00:00:00\",\"1957-10-01T00:00:00\",\"1957-11-01T00:00:00\",\"1957-12-01T00:00:00\",\"1958-01-01T00:00:00\",\"1958-02-01T00:00:00\",\"1958-03-01T00:00:00\",\"1958-04-01T00:00:00\",\"1958-05-01T00:00:00\",\"1958-06-01T00:00:00\",\"1958-07-01T00:00:00\",\"1958-08-01T00:00:00\",\"1958-09-01T00:00:00\",\"1958-10-01T00:00:00\",\"1958-11-01T00:00:00\",\"1958-12-01T00:00:00\",\"1959-01-01T00:00:00\",\"1959-02-01T00:00:00\",\"1959-03-01T00:00:00\",\"1959-04-01T00:00:00\",\"1959-05-01T00:00:00\",\"1959-06-01T00:00:00\",\"1959-07-01T00:00:00\",\"1959-08-01T00:00:00\",\"1959-09-01T00:00:00\",\"1959-10-01T00:00:00\",\"1959-11-01T00:00:00\",\"1959-12-01T00:00:00\",\"1960-01-01T00:00:00\",\"1960-02-01T00:00:00\",\"1960-03-01T00:00:00\",\"1960-04-01T00:00:00\",\"1960-05-01T00:00:00\",\"1960-06-01T00:00:00\",\"1960-07-01T00:00:00\",\"1960-08-01T00:00:00\",\"1960-09-01T00:00:00\",\"1960-10-01T00:00:00\",\"1960-11-01T00:00:00\",\"1960-12-01T00:00:00\",\"1961-01-01T00:00:00\",\"1961-02-01T00:00:00\",\"1961-03-01T00:00:00\",\"1961-04-01T00:00:00\",\"1961-05-01T00:00:00\",\"1961-06-01T00:00:00\",\"1961-07-01T00:00:00\",\"1961-08-01T00:00:00\",\"1961-09-01T00:00:00\",\"1961-10-01T00:00:00\",\"1961-11-01T00:00:00\",\"1961-12-01T00:00:00\",\"1962-01-01T00:00:00\",\"1962-02-01T00:00:00\",\"1962-03-01T00:00:00\",\"1962-04-01T00:00:00\",\"1962-05-01T00:00:00\",\"1962-06-01T00:00:00\",\"1962-07-01T00:00:00\",\"1962-08-01T00:00:00\",\"1962-09-01T00:00:00\",\"1962-10-01T00:00:00\",\"1962-11-01T00:00:00\",\"1962-12-01T00:00:00\",\"1963-01-01T00:00:00\",\"1963-02-01T00:00:00\",\"1963-03-01T00:00:00\",\"1963-04-01T00:00:00\",\"1963-05-01T00:00:00\",\"1963-06-01T00:00:00\",\"1963-07-01T00:00:00\",\"1963-08-01T00:00:00\",\"1963-09-01T00:00:00\",\"1963-10-01T00:00:00\",\"1963-11-01T00:00:00\",\"1963-12-01T00:00:00\",\"1964-01-01T00:00:00\",\"1964-02-01T00:00:00\",\"1964-03-01T00:00:00\",\"1964-04-01T00:00:00\",\"1964-05-01T00:00:00\",\"1964-06-01T00:00:00\",\"1964-07-01T00:00:00\",\"1964-08-01T00:00:00\",\"1964-09-01T00:00:00\",\"1964-10-01T00:00:00\",\"1964-11-01T00:00:00\",\"1964-12-01T00:00:00\",\"1965-01-01T00:00:00\",\"1965-02-01T00:00:00\",\"1965-03-01T00:00:00\",\"1965-04-01T00:00:00\",\"1965-05-01T00:00:00\",\"1965-06-01T00:00:00\",\"1965-07-01T00:00:00\",\"1965-08-01T00:00:00\",\"1965-09-01T00:00:00\",\"1965-10-01T00:00:00\",\"1965-11-01T00:00:00\",\"1965-12-01T00:00:00\",\"1966-01-01T00:00:00\",\"1966-02-01T00:00:00\",\"1966-03-01T00:00:00\",\"1966-04-01T00:00:00\",\"1966-05-01T00:00:00\",\"1966-06-01T00:00:00\",\"1966-07-01T00:00:00\",\"1966-08-01T00:00:00\",\"1966-09-01T00:00:00\",\"1966-10-01T00:00:00\",\"1966-11-01T00:00:00\",\"1966-12-01T00:00:00\",\"1967-01-01T00:00:00\",\"1967-02-01T00:00:00\",\"1967-03-01T00:00:00\",\"1967-04-01T00:00:00\",\"1967-05-01T00:00:00\",\"1967-06-01T00:00:00\",\"1967-07-01T00:00:00\",\"1967-08-01T00:00:00\",\"1967-09-01T00:00:00\",\"1967-10-01T00:00:00\",\"1967-11-01T00:00:00\",\"1967-12-01T00:00:00\",\"1968-01-01T00:00:00\",\"1968-02-01T00:00:00\",\"1968-03-01T00:00:00\",\"1968-04-01T00:00:00\",\"1968-05-01T00:00:00\",\"1968-06-01T00:00:00\",\"1968-07-01T00:00:00\",\"1968-08-01T00:00:00\",\"1968-09-01T00:00:00\",\"1968-10-01T00:00:00\",\"1968-11-01T00:00:00\",\"1968-12-01T00:00:00\",\"1969-01-01T00:00:00\",\"1969-02-01T00:00:00\",\"1969-03-01T00:00:00\",\"1969-04-01T00:00:00\",\"1969-05-01T00:00:00\",\"1969-06-01T00:00:00\",\"1969-07-01T00:00:00\",\"1969-08-01T00:00:00\",\"1969-09-01T00:00:00\",\"1969-10-01T00:00:00\",\"1969-11-01T00:00:00\",\"1969-12-01T00:00:00\",\"1970-01-01T00:00:00\",\"1970-02-01T00:00:00\",\"1970-03-01T00:00:00\",\"1970-04-01T00:00:00\",\"1970-05-01T00:00:00\",\"1970-06-01T00:00:00\",\"1970-07-01T00:00:00\",\"1970-08-01T00:00:00\",\"1970-09-01T00:00:00\",\"1970-10-01T00:00:00\",\"1970-11-01T00:00:00\",\"1970-12-01T00:00:00\",\"1971-01-01T00:00:00\",\"1971-02-01T00:00:00\",\"1971-03-01T00:00:00\",\"1971-04-01T00:00:00\",\"1971-05-01T00:00:00\",\"1971-06-01T00:00:00\",\"1971-07-01T00:00:00\",\"1971-08-01T00:00:00\",\"1971-09-01T00:00:00\",\"1971-10-01T00:00:00\",\"1971-11-01T00:00:00\",\"1971-12-01T00:00:00\",\"1972-01-01T00:00:00\",\"1972-02-01T00:00:00\",\"1972-03-01T00:00:00\",\"1972-04-01T00:00:00\",\"1972-05-01T00:00:00\",\"1972-06-01T00:00:00\",\"1972-07-01T00:00:00\",\"1972-08-01T00:00:00\",\"1972-09-01T00:00:00\",\"1972-10-01T00:00:00\",\"1972-11-01T00:00:00\",\"1972-12-01T00:00:00\",\"1973-01-01T00:00:00\",\"1973-02-01T00:00:00\",\"1973-03-01T00:00:00\",\"1973-04-01T00:00:00\",\"1973-05-01T00:00:00\",\"1973-06-01T00:00:00\",\"1973-07-01T00:00:00\",\"1973-08-01T00:00:00\",\"1973-09-01T00:00:00\",\"1973-10-01T00:00:00\",\"1973-11-01T00:00:00\",\"1973-12-01T00:00:00\",\"1974-01-01T00:00:00\",\"1974-02-01T00:00:00\",\"1974-03-01T00:00:00\",\"1974-04-01T00:00:00\",\"1974-05-01T00:00:00\",\"1974-06-01T00:00:00\",\"1974-07-01T00:00:00\",\"1974-08-01T00:00:00\",\"1974-09-01T00:00:00\",\"1974-10-01T00:00:00\",\"1974-11-01T00:00:00\",\"1974-12-01T00:00:00\",\"1975-01-01T00:00:00\",\"1975-02-01T00:00:00\",\"1975-03-01T00:00:00\",\"1975-04-01T00:00:00\",\"1975-05-01T00:00:00\",\"1975-06-01T00:00:00\",\"1975-07-01T00:00:00\",\"1975-08-01T00:00:00\",\"1975-09-01T00:00:00\",\"1975-10-01T00:00:00\",\"1975-11-01T00:00:00\",\"1975-12-01T00:00:00\",\"1976-01-01T00:00:00\",\"1976-02-01T00:00:00\",\"1976-03-01T00:00:00\",\"1976-04-01T00:00:00\",\"1976-05-01T00:00:00\",\"1976-06-01T00:00:00\",\"1976-07-01T00:00:00\",\"1976-08-01T00:00:00\",\"1976-09-01T00:00:00\",\"1976-10-01T00:00:00\",\"1976-11-01T00:00:00\",\"1976-12-01T00:00:00\",\"1977-01-01T00:00:00\",\"1977-02-01T00:00:00\",\"1977-03-01T00:00:00\",\"1977-04-01T00:00:00\",\"1977-05-01T00:00:00\",\"1977-06-01T00:00:00\",\"1977-07-01T00:00:00\",\"1977-08-01T00:00:00\",\"1977-09-01T00:00:00\",\"1977-10-01T00:00:00\",\"1977-11-01T00:00:00\",\"1977-12-01T00:00:00\",\"1978-01-01T00:00:00\",\"1978-02-01T00:00:00\",\"1978-03-01T00:00:00\",\"1978-04-01T00:00:00\",\"1978-05-01T00:00:00\",\"1978-06-01T00:00:00\",\"1978-07-01T00:00:00\",\"1978-08-01T00:00:00\",\"1978-09-01T00:00:00\",\"1978-10-01T00:00:00\",\"1978-11-01T00:00:00\",\"1978-12-01T00:00:00\",\"1979-01-01T00:00:00\",\"1979-02-01T00:00:00\",\"1979-03-01T00:00:00\",\"1979-04-01T00:00:00\",\"1979-05-01T00:00:00\",\"1979-06-01T00:00:00\",\"1979-07-01T00:00:00\",\"1979-08-01T00:00:00\",\"1979-09-01T00:00:00\",\"1979-10-01T00:00:00\",\"1979-11-01T00:00:00\",\"1979-12-01T00:00:00\",\"1980-01-01T00:00:00\",\"1980-02-01T00:00:00\",\"1980-03-01T00:00:00\",\"1980-04-01T00:00:00\",\"1980-05-01T00:00:00\",\"1980-06-01T00:00:00\",\"1980-07-01T00:00:00\",\"1980-08-01T00:00:00\",\"1980-09-01T00:00:00\",\"1980-10-01T00:00:00\",\"1980-11-01T00:00:00\",\"1980-12-01T00:00:00\",\"1981-01-01T00:00:00\",\"1981-02-01T00:00:00\",\"1981-03-01T00:00:00\",\"1981-04-01T00:00:00\",\"1981-05-01T00:00:00\",\"1981-06-01T00:00:00\",\"1981-07-01T00:00:00\",\"1981-08-01T00:00:00\",\"1981-09-01T00:00:00\",\"1981-10-01T00:00:00\",\"1981-11-01T00:00:00\",\"1981-12-01T00:00:00\",\"1982-01-01T00:00:00\",\"1982-02-01T00:00:00\",\"1982-03-01T00:00:00\",\"1982-04-01T00:00:00\",\"1982-05-01T00:00:00\",\"1982-06-01T00:00:00\",\"1982-07-01T00:00:00\",\"1982-08-01T00:00:00\",\"1982-09-01T00:00:00\",\"1982-10-01T00:00:00\",\"1982-11-01T00:00:00\",\"1982-12-01T00:00:00\",\"1983-01-01T00:00:00\",\"1983-02-01T00:00:00\",\"1983-03-01T00:00:00\",\"1983-04-01T00:00:00\",\"1983-05-01T00:00:00\",\"1983-06-01T00:00:00\",\"1983-07-01T00:00:00\",\"1983-08-01T00:00:00\",\"1983-09-01T00:00:00\",\"1983-10-01T00:00:00\",\"1983-11-01T00:00:00\",\"1983-12-01T00:00:00\",\"1984-01-01T00:00:00\",\"1984-02-01T00:00:00\",\"1984-03-01T00:00:00\",\"1984-04-01T00:00:00\",\"1984-05-01T00:00:00\",\"1984-06-01T00:00:00\",\"1984-07-01T00:00:00\",\"1984-08-01T00:00:00\",\"1984-09-01T00:00:00\",\"1984-10-01T00:00:00\",\"1984-11-01T00:00:00\",\"1984-12-01T00:00:00\",\"1985-01-01T00:00:00\",\"1985-02-01T00:00:00\",\"1985-03-01T00:00:00\",\"1985-04-01T00:00:00\",\"1985-05-01T00:00:00\",\"1985-06-01T00:00:00\",\"1985-07-01T00:00:00\",\"1985-08-01T00:00:00\",\"1985-09-01T00:00:00\",\"1985-10-01T00:00:00\",\"1985-11-01T00:00:00\",\"1985-12-01T00:00:00\",\"1986-01-01T00:00:00\",\"1986-02-01T00:00:00\",\"1986-03-01T00:00:00\",\"1986-04-01T00:00:00\",\"1986-05-01T00:00:00\",\"1986-06-01T00:00:00\",\"1986-07-01T00:00:00\",\"1986-08-01T00:00:00\",\"1986-09-01T00:00:00\",\"1986-10-01T00:00:00\",\"1986-11-01T00:00:00\",\"1986-12-01T00:00:00\",\"1987-01-01T00:00:00\",\"1987-02-01T00:00:00\",\"1987-03-01T00:00:00\",\"1987-04-01T00:00:00\",\"1987-05-01T00:00:00\",\"1987-06-01T00:00:00\",\"1987-07-01T00:00:00\",\"1987-08-01T00:00:00\",\"1987-09-01T00:00:00\",\"1987-10-01T00:00:00\",\"1987-11-01T00:00:00\",\"1987-12-01T00:00:00\",\"1988-01-01T00:00:00\",\"1988-02-01T00:00:00\",\"1988-03-01T00:00:00\",\"1988-04-01T00:00:00\",\"1988-05-01T00:00:00\",\"1988-06-01T00:00:00\",\"1988-07-01T00:00:00\",\"1988-08-01T00:00:00\",\"1988-09-01T00:00:00\",\"1988-10-01T00:00:00\",\"1988-11-01T00:00:00\",\"1988-12-01T00:00:00\",\"1989-01-01T00:00:00\",\"1989-02-01T00:00:00\",\"1989-03-01T00:00:00\",\"1989-04-01T00:00:00\",\"1989-05-01T00:00:00\",\"1989-06-01T00:00:00\",\"1989-07-01T00:00:00\",\"1989-08-01T00:00:00\",\"1989-09-01T00:00:00\",\"1989-10-01T00:00:00\",\"1989-11-01T00:00:00\",\"1989-12-01T00:00:00\",\"1990-01-01T00:00:00\",\"1990-02-01T00:00:00\",\"1990-03-01T00:00:00\",\"1990-04-01T00:00:00\",\"1990-05-01T00:00:00\",\"1990-06-01T00:00:00\",\"1990-07-01T00:00:00\",\"1990-08-01T00:00:00\",\"1990-09-01T00:00:00\",\"1990-10-01T00:00:00\",\"1990-11-01T00:00:00\",\"1990-12-01T00:00:00\",\"1991-01-01T00:00:00\",\"1991-02-01T00:00:00\",\"1991-03-01T00:00:00\",\"1991-04-01T00:00:00\",\"1991-05-01T00:00:00\",\"1991-06-01T00:00:00\",\"1991-07-01T00:00:00\",\"1991-08-01T00:00:00\",\"1991-09-01T00:00:00\",\"1991-10-01T00:00:00\",\"1991-11-01T00:00:00\",\"1991-12-01T00:00:00\",\"1992-01-01T00:00:00\",\"1992-02-01T00:00:00\",\"1992-03-01T00:00:00\",\"1992-04-01T00:00:00\",\"1992-05-01T00:00:00\",\"1992-06-01T00:00:00\",\"1992-07-01T00:00:00\",\"1992-08-01T00:00:00\",\"1992-09-01T00:00:00\",\"1992-10-01T00:00:00\",\"1992-11-01T00:00:00\",\"1992-12-01T00:00:00\",\"1993-01-01T00:00:00\",\"1993-02-01T00:00:00\",\"1993-03-01T00:00:00\",\"1993-04-01T00:00:00\",\"1993-05-01T00:00:00\",\"1993-06-01T00:00:00\",\"1993-07-01T00:00:00\",\"1993-08-01T00:00:00\",\"1993-09-01T00:00:00\",\"1993-10-01T00:00:00\",\"1993-11-01T00:00:00\",\"1993-12-01T00:00:00\",\"1994-01-01T00:00:00\",\"1994-02-01T00:00:00\",\"1994-03-01T00:00:00\",\"1994-04-01T00:00:00\",\"1994-05-01T00:00:00\",\"1994-06-01T00:00:00\",\"1994-07-01T00:00:00\",\"1994-08-01T00:00:00\",\"1994-09-01T00:00:00\",\"1994-10-01T00:00:00\",\"1994-11-01T00:00:00\",\"1994-12-01T00:00:00\",\"1995-01-01T00:00:00\",\"1995-02-01T00:00:00\",\"1995-03-01T00:00:00\",\"1995-04-01T00:00:00\",\"1995-05-01T00:00:00\",\"1995-06-01T00:00:00\",\"1995-07-01T00:00:00\",\"1995-08-01T00:00:00\",\"1995-09-01T00:00:00\",\"1995-10-01T00:00:00\",\"1995-11-01T00:00:00\",\"1995-12-01T00:00:00\",\"1996-01-01T00:00:00\",\"1996-02-01T00:00:00\",\"1996-03-01T00:00:00\",\"1996-04-01T00:00:00\",\"1996-05-01T00:00:00\",\"1996-06-01T00:00:00\",\"1996-07-01T00:00:00\",\"1996-08-01T00:00:00\",\"1996-09-01T00:00:00\",\"1996-10-01T00:00:00\",\"1996-11-01T00:00:00\",\"1996-12-01T00:00:00\",\"1997-01-01T00:00:00\",\"1997-02-01T00:00:00\",\"1997-03-01T00:00:00\",\"1997-04-01T00:00:00\",\"1997-05-01T00:00:00\",\"1997-06-01T00:00:00\",\"1997-07-01T00:00:00\",\"1997-08-01T00:00:00\",\"1997-09-01T00:00:00\",\"1997-10-01T00:00:00\",\"1997-11-01T00:00:00\",\"1997-12-01T00:00:00\",\"1998-01-01T00:00:00\",\"1998-02-01T00:00:00\",\"1998-03-01T00:00:00\",\"1998-04-01T00:00:00\",\"1998-05-01T00:00:00\",\"1998-06-01T00:00:00\",\"1998-07-01T00:00:00\",\"1998-08-01T00:00:00\",\"1998-09-01T00:00:00\",\"1998-10-01T00:00:00\",\"1998-11-01T00:00:00\",\"1998-12-01T00:00:00\",\"1999-01-01T00:00:00\",\"1999-02-01T00:00:00\",\"1999-03-01T00:00:00\",\"1999-04-01T00:00:00\",\"1999-05-01T00:00:00\",\"1999-06-01T00:00:00\",\"1999-07-01T00:00:00\",\"1999-08-01T00:00:00\",\"1999-09-01T00:00:00\",\"1999-10-01T00:00:00\",\"1999-11-01T00:00:00\",\"1999-12-01T00:00:00\",\"2000-01-01T00:00:00\",\"2000-02-01T00:00:00\",\"2000-03-01T00:00:00\",\"2000-04-01T00:00:00\",\"2000-05-01T00:00:00\",\"2000-06-01T00:00:00\",\"2000-07-01T00:00:00\",\"2000-08-01T00:00:00\",\"2000-09-01T00:00:00\",\"2000-10-01T00:00:00\",\"2000-11-01T00:00:00\",\"2000-12-01T00:00:00\",\"2001-01-01T00:00:00\",\"2001-02-01T00:00:00\",\"2001-03-01T00:00:00\",\"2001-04-01T00:00:00\",\"2001-05-01T00:00:00\",\"2001-06-01T00:00:00\",\"2001-07-01T00:00:00\",\"2001-08-01T00:00:00\",\"2001-09-01T00:00:00\",\"2001-10-01T00:00:00\",\"2001-11-01T00:00:00\",\"2001-12-01T00:00:00\",\"2002-01-01T00:00:00\",\"2002-02-01T00:00:00\",\"2002-03-01T00:00:00\",\"2002-04-01T00:00:00\",\"2002-05-01T00:00:00\",\"2002-06-01T00:00:00\",\"2002-07-01T00:00:00\",\"2002-08-01T00:00:00\",\"2002-09-01T00:00:00\",\"2002-10-01T00:00:00\",\"2002-11-01T00:00:00\",\"2002-12-01T00:00:00\",\"2003-01-01T00:00:00\",\"2003-02-01T00:00:00\",\"2003-03-01T00:00:00\",\"2003-04-01T00:00:00\",\"2003-05-01T00:00:00\",\"2003-06-01T00:00:00\",\"2003-07-01T00:00:00\",\"2003-08-01T00:00:00\",\"2003-09-01T00:00:00\",\"2003-10-01T00:00:00\",\"2003-11-01T00:00:00\",\"2003-12-01T00:00:00\",\"2004-01-01T00:00:00\",\"2004-02-01T00:00:00\",\"2004-03-01T00:00:00\",\"2004-04-01T00:00:00\",\"2004-05-01T00:00:00\",\"2004-06-01T00:00:00\",\"2004-07-01T00:00:00\",\"2004-08-01T00:00:00\",\"2004-09-01T00:00:00\",\"2004-10-01T00:00:00\",\"2004-11-01T00:00:00\",\"2004-12-01T00:00:00\",\"2005-01-01T00:00:00\",\"2005-02-01T00:00:00\",\"2005-03-01T00:00:00\",\"2005-04-01T00:00:00\",\"2005-05-01T00:00:00\",\"2005-06-01T00:00:00\",\"2005-07-01T00:00:00\",\"2005-08-01T00:00:00\",\"2005-09-01T00:00:00\",\"2005-10-01T00:00:00\",\"2005-11-01T00:00:00\",\"2005-12-01T00:00:00\",\"2006-01-01T00:00:00\",\"2006-02-01T00:00:00\",\"2006-03-01T00:00:00\",\"2006-04-01T00:00:00\",\"2006-05-01T00:00:00\",\"2006-06-01T00:00:00\",\"2006-07-01T00:00:00\",\"2006-08-01T00:00:00\",\"2006-09-01T00:00:00\",\"2006-10-01T00:00:00\",\"2006-11-01T00:00:00\",\"2006-12-01T00:00:00\",\"2007-01-01T00:00:00\",\"2007-02-01T00:00:00\",\"2007-03-01T00:00:00\",\"2007-04-01T00:00:00\",\"2007-05-01T00:00:00\",\"2007-06-01T00:00:00\",\"2007-07-01T00:00:00\",\"2007-08-01T00:00:00\",\"2007-09-01T00:00:00\",\"2007-10-01T00:00:00\",\"2007-11-01T00:00:00\",\"2007-12-01T00:00:00\",\"2008-01-01T00:00:00\",\"2008-02-01T00:00:00\",\"2008-03-01T00:00:00\",\"2008-04-01T00:00:00\",\"2008-05-01T00:00:00\",\"2008-06-01T00:00:00\",\"2008-07-01T00:00:00\",\"2008-08-01T00:00:00\",\"2008-09-01T00:00:00\",\"2008-10-01T00:00:00\",\"2008-11-01T00:00:00\",\"2008-12-01T00:00:00\",\"2009-01-01T00:00:00\",\"2009-02-01T00:00:00\",\"2009-03-01T00:00:00\",\"2009-04-01T00:00:00\",\"2009-05-01T00:00:00\",\"2009-06-01T00:00:00\",\"2009-07-01T00:00:00\",\"2009-08-01T00:00:00\",\"2009-09-01T00:00:00\",\"2009-10-01T00:00:00\",\"2009-11-01T00:00:00\",\"2009-12-01T00:00:00\",\"2010-01-01T00:00:00\",\"2010-02-01T00:00:00\",\"2010-03-01T00:00:00\",\"2010-04-01T00:00:00\",\"2010-05-01T00:00:00\",\"2010-06-01T00:00:00\",\"2010-07-01T00:00:00\",\"2010-08-01T00:00:00\",\"2010-09-01T00:00:00\",\"2010-10-01T00:00:00\",\"2010-11-01T00:00:00\",\"2010-12-01T00:00:00\",\"2011-01-01T00:00:00\",\"2011-02-01T00:00:00\",\"2011-03-01T00:00:00\",\"2011-04-01T00:00:00\",\"2011-05-01T00:00:00\",\"2011-06-01T00:00:00\",\"2011-07-01T00:00:00\",\"2011-08-01T00:00:00\",\"2011-09-01T00:00:00\",\"2011-10-01T00:00:00\",\"2011-11-01T00:00:00\",\"2011-12-01T00:00:00\",\"2012-01-01T00:00:00\",\"2012-02-01T00:00:00\",\"2012-03-01T00:00:00\",\"2012-04-01T00:00:00\",\"2012-05-01T00:00:00\",\"2012-06-01T00:00:00\",\"2012-07-01T00:00:00\",\"2012-08-01T00:00:00\",\"2012-09-01T00:00:00\",\"2012-10-01T00:00:00\",\"2012-11-01T00:00:00\",\"2012-12-01T00:00:00\",\"2013-01-01T00:00:00\",\"2013-02-01T00:00:00\",\"2013-03-01T00:00:00\",\"2013-04-01T00:00:00\",\"2013-05-01T00:00:00\",\"2013-06-01T00:00:00\",\"2013-07-01T00:00:00\",\"2013-08-01T00:00:00\",\"2013-09-01T00:00:00\",\"2013-10-01T00:00:00\",\"2013-11-01T00:00:00\",\"2013-12-01T00:00:00\",\"2014-01-01T00:00:00\",\"2014-02-01T00:00:00\",\"2014-03-01T00:00:00\",\"2014-04-01T00:00:00\",\"2014-05-01T00:00:00\",\"2014-06-01T00:00:00\",\"2014-07-01T00:00:00\",\"2014-08-01T00:00:00\",\"2014-09-01T00:00:00\",\"2014-10-01T00:00:00\",\"2014-11-01T00:00:00\",\"2014-12-01T00:00:00\",\"2015-01-01T00:00:00\",\"2015-02-01T00:00:00\",\"2015-03-01T00:00:00\",\"2015-04-01T00:00:00\",\"2015-05-01T00:00:00\",\"2015-06-01T00:00:00\",\"2015-07-01T00:00:00\",\"2015-08-01T00:00:00\",\"2015-09-01T00:00:00\",\"2015-10-01T00:00:00\",\"2015-11-01T00:00:00\",\"2015-12-01T00:00:00\",\"2016-01-01T00:00:00\",\"2016-02-01T00:00:00\",\"2016-03-01T00:00:00\",\"2016-04-01T00:00:00\",\"2016-05-01T00:00:00\",\"2016-06-01T00:00:00\",\"2016-07-01T00:00:00\",\"2016-08-01T00:00:00\",\"2016-09-01T00:00:00\",\"2016-10-01T00:00:00\",\"2016-11-01T00:00:00\",\"2016-12-01T00:00:00\",\"2017-01-01T00:00:00\",\"2017-02-01T00:00:00\",\"2017-03-01T00:00:00\",\"2017-04-01T00:00:00\",\"2017-05-01T00:00:00\",\"2017-06-01T00:00:00\",\"2017-07-01T00:00:00\",\"2017-08-01T00:00:00\",\"2017-09-01T00:00:00\",\"2017-10-01T00:00:00\",\"2017-11-01T00:00:00\",\"2017-12-01T00:00:00\",\"2018-01-01T00:00:00\",\"2018-02-01T00:00:00\",\"2018-03-01T00:00:00\",\"2018-04-01T00:00:00\",\"2018-05-01T00:00:00\",\"2018-06-01T00:00:00\",\"2018-07-01T00:00:00\",\"2018-08-01T00:00:00\",\"2018-09-01T00:00:00\",\"2018-10-01T00:00:00\",\"2018-11-01T00:00:00\",\"2018-12-01T00:00:00\",\"2019-01-01T00:00:00\",\"2019-02-01T00:00:00\",\"2019-03-01T00:00:00\",\"2019-04-01T00:00:00\",\"2019-05-01T00:00:00\",\"2019-06-01T00:00:00\",\"2019-07-01T00:00:00\",\"2019-08-01T00:00:00\",\"2019-09-01T00:00:00\",\"2019-10-01T00:00:00\",\"2019-11-01T00:00:00\",\"2019-12-01T00:00:00\"],\"y\":[1037.1,1076.40609,1089.8611661249997,1089.8611661249997,1089.8611661249997,1119.744976552227,1119.744976552227,1161.725548219692,1182.4042629780024,1197.0660758389297,1262.0667637569836,1262.0667637569836,1343.4618665853445,1382.2879145296608,1457.0696907057156,1457.0696907057156,1483.7036715718823,1502.5467082008452,1502.5467082008452,1502.5467082008452,1612.7387288134696,1671.4424185422797,1692.3354487740582,1692.3354487740582,1692.3354487740582,1759.4365817498663,1800.079566788288,1831.2209432937257,2068.7302996389217,2068.7302996389217,2184.1189453016377,2184.1189453016377,2202.0017467841367,2243.619579798357,2243.619579798357,2351.478270540184,2482.455610209273,2741.623975915121,2741.623975915121,2741.623975915121,2741.623975915121,2741.623975915121,2741.623975915121,2741.623975915121,2741.623975915121,2741.623975915121,2741.623975915121,2741.623975915121,2741.623975915121,2741.623975915121,2741.623975915121,2741.623975915121,2741.623975915121,2741.623975915121,2741.623975915121,2741.623975915121,2741.623975915121,2741.623975915121,2741.623975915121,2741.623975915121,2741.623975915121,2741.623975915121,2741.623975915121,2741.623975915121,2741.623975915121,2741.623975915121,2741.623975915121,2741.623975915121,2741.623975915121,2741.623975915121,2741.623975915121,2741.623975915121,2741.623975915121,2741.623975915121,2741.623975915121,2741.623975915121,2741.623975915121,2741.623975915121,2741.623975915121,2741.623975915121,2741.623975915121,2741.623975915121,2741.623975915121,2741.623975915121,2741.623975915121,2741.623975915121,2741.623975915121,2741.623975915121,2741.623975915121,2741.623975915121,2741.623975915121,2741.623975915121,2741.623975915121,2741.623975915121,2741.623975915121,2741.623975915121,2741.623975915121,2741.623975915121,2741.623975915121,2741.623975915121,2741.623975915121,2741.623975915121,2741.623975915121,2741.623975915121,2741.623975915121,2741.623975915121,2741.623975915121,2741.623975915121,2741.623975915121,2741.623975915121,2741.623975915121,2741.623975915121,2741.623975915121,2741.623975915121,2741.623975915121,2741.623975915121,2741.623975915121,2741.623975915121,2741.623975915121,2741.623975915121,2741.623975915121,2741.623975915121,2741.623975915121,2741.623975915121,2741.623975915121,2741.623975915121,2741.623975915121,2741.623975915121,2741.623975915121,2741.623975915121,2741.623975915121,2741.623975915121,2741.623975915121,2741.623975915121,2741.623975915121,2741.623975915121,2741.623975915121,2741.623975915121,2741.623975915121,2741.623975915121,2741.623975915121,2741.623975915121,2741.623975915121,2741.623975915121,2741.623975915121,2741.623975915121,2741.623975915121,2741.623975915121,2741.623975915121,2741.623975915121,2741.623975915121,2741.623975915121,2741.623975915121,2741.623975915121,2741.623975915121,2741.623975915121,2741.623975915121,2741.623975915121,2741.623975915121,2741.623975915121,2741.623975915121,2741.623975915121,2741.623975915121,2741.623975915121,2741.623975915121,2741.623975915121,2741.623975915121,2741.623975915121,2741.623975915121,2741.623975915121,2741.623975915121,2741.623975915121,2741.623975915121,2741.623975915121,2741.623975915121,2741.623975915121,2741.623975915121,2741.623975915121,2741.623975915121,2741.623975915121,2741.623975915121,2741.623975915121,2741.623975915121,2741.623975915121,2741.623975915121,2741.623975915121,2741.623975915121,2741.623975915121,2741.623975915121,2741.623975915121,2741.623975915121,2741.623975915121,2741.623975915121,2741.623975915121,2741.623975915121,2741.623975915121,2741.623975915121,2741.623975915121,2741.623975915121,2741.623975915121,2741.623975915121,2741.623975915121,2741.623975915121,2741.623975915121,2741.623975915121,2741.623975915121,2741.623975915121,2741.623975915121,2741.623975915121,2741.623975915121,2741.623975915121,2741.623975915121,2741.623975915121,2741.623975915121,2741.623975915121,2741.623975915121,2741.623975915121,2741.623975915121,2741.623975915121,2741.623975915121,2741.623975915121,2741.623975915121,2741.623975915121,2741.623975915121,2741.623975915121,2763.3227015117736,2809.1938583568685,2809.1938583568685,2809.1938583568685,2904.2723707569758,3019.5719838760283,3109.253271797146,3227.0939707982584,3244.1975688434895,3422.628435129881,3422.628435129881,3422.628435129881,3558.185458063688,3664.931021805599,3664.931021805599,3664.931021805599,3664.931021805599,3664.931021805599,3664.931021805599,3664.931021805599,3664.931021805599,3664.931021805599,3664.931021805599,3664.931021805599,3664.931021805599,3664.931021805599,3664.931021805599,3664.931021805599,3664.931021805599,3664.931021805599,3664.931021805599,3664.931021805599,3664.931021805599,3664.931021805599,3664.931021805599,3664.931021805599,3664.931021805599,3664.931021805599,3664.931021805599,3664.931021805599,3664.931021805599,3664.931021805599,3664.931021805599,3664.931021805599,3664.931021805599,3664.931021805599,3664.931021805599,3664.931021805599,3664.931021805599,3664.931021805599,3664.931021805599,3664.931021805599,3664.931021805599,3664.931021805599,3733.9850833508926,3803.437205901219,3975.7329113285437,4021.851413099955,4079.766073448594,4160.137465095531,4331.119114910957,4547.241958745015,4547.241958745015,4547.241958745015,4560.760668421036,4762.346289965246,4781.8719097541025,4899.027771543078,5135.160910131455,5409.892018823489,5493.204355913371,5493.204355913371,5703.2524603659585,5703.2524603659585,5703.2524603659585,5857.0574828321905,6127.067832790754,6127.680539574034,6127.680539574034,6127.680539574034,6261.713894397793,6356.891945592641,6356.891945592641,6501.022265226418,6501.022265226418,6501.022265226418,6678.2014008411115,6746.319055129691,6746.319055129691,6746.319055129691,6746.319055129691,6924.990199425006,7163.902361305169,7163.902361305169,7163.902361305169,7163.902361305169,7163.902361305169,7163.902361305169,7163.902361305169,7163.902361305169,7163.902361305169,7163.902361305169,7163.902361305169,7214.00464746613,7242.860666055995,7593.415122293106,7722.503179372087,8028.314305275222,8473.885749217998,8703.528053021804,8780.119099888396,9149.762113993696,9149.762113993696,9589.819099387632,9589.819099387632,10274.92191333211,10764.00819640672,10815.67543574947,11104.45396988398,11104.45396988398,11497.240271528557,11636.356878814053,12591.70177856469,12944.2694283645,12971.452394164064,13046.686818050215,13046.686818050215,13654.041401478817,13854.755810080553,13854.755810080553,14020.97782726932,15048.715502008161,15148.037024321415,15148.037024321415,15148.037024321415,15660.605064518315,15660.605064518315,15660.605064518315,15660.605064518315,15660.605064518315,15660.605064518315,15660.605064518315,15660.605064518315,15660.605064518315,15660.605064518315,15780.102531345767,15802.194674889652,15996.561669390794,15996.561669390794,15996.561669390794,15996.561669390794,15996.561669390794,15996.561669390794,15996.561669390794,15996.561669390794,15996.561669390794,15996.561669390794,15996.561669390794,15996.561669390794,16098.669590841346,16370.737106926565,17177.81444629804,17598.670900232344,18063.27581199848,19154.29767104319,19196.437125919485,19271.30323071057,19331.044270725775,20156.47986108577,20728.923889140602,20728.923889140602,21374.399777232167,21374.399777232167,21374.399777232167,21374.399777232167,21374.399777232167,21544.084894852906,21544.084894852906,21544.084894852906,21544.084894852906,21544.084894852906,21544.084894852906,21544.084894852906,21544.084894852906,21544.084894852906,21544.084894852906,21544.084894852906,21544.084894852906,21544.084894852906,22787.311453065067,23409.405055733747,24013.367706171677,24143.039891785007,24647.62942552331,24647.62942552331,24907.0822037185,25509.833593048486,25509.833593048486,25796.768711499768,27053.071347749807,27212.684468701533,27212.684468701533,27212.684468701533,27212.684468701533,27212.684468701533,27212.684468701533,27212.684468701533,27212.684468701533,27212.684468701533,27212.684468701533,27212.684468701533,27212.684468701533,27212.684468701533,27212.684468701533,27212.684468701533,27212.684468701533,27566.23619093781,28010.052593611905,28010.052593611905,28010.052593611905,28983.758081915264,28983.758081915264,29736.69409164113,29736.69409164113,30333.172030582427,31300.80021835801,31760.921981567873,32161.109598535626,32453.7756958823,33024.96214812983,33556.66403871472,34123.771660968996,34123.771660968996,34606.36710168425,34814.005304294355,34928.89152179853,35176.886651603294,36274.405515133316,36274.405515133316,36274.405515133316,36753.35859822332,36753.35859822332,36753.35859822332,36753.35859822332,36753.35859822332,37665.206276810975,38482.54125301778,38482.54125301778,38482.54125301778,38482.54125301778,38482.54125301778,38482.54125301778,38482.54125301778,38482.54125301778,38482.54125301778,38482.54125301778,38482.54125301778,38482.54125301778,38482.54125301778,38482.54125301778,38482.54125301778,38482.54125301778,38482.54125301778,38482.54125301778,39856.19174031749,39856.19174031749,39856.19174031749,39971.644805035525,39971.644805035525,40986.43293185232,40986.43293185232,40986.43293185232,41500.10212434576,41500.10212434576,41500.10212434576,41500.10212434576,42230.344535787524,42639.97887778466,42998.15470035805,42998.15470035805,42998.15470035805,44163.384256574784,44490.19330007344,46656.86571378702,46656.86571378702,46656.86571378702,46656.86571378702,46656.86571378702,46656.86571378702,46656.86571378702,46656.86571378702,46656.86571378702,46656.86571378702,46656.86571378702,46656.86571378702,46656.86571378702,46656.86571378702,46656.86571378702,46656.86571378702,46656.86571378702,46656.86571378702,46656.86571378702,46656.86571378702,46656.86571378702,46656.86571378702,46656.86571378702,46656.86571378702,46656.86571378702,46656.86571378702,46656.86571378702,46656.86571378702,46810.25751601837,48425.21140032099,48425.21140032099,48425.21140032099,48425.21140032099,48425.21140032099,48425.21140032099,48425.21140032099,48425.21140032099,49211.586704747904,50062.947154740046,51569.84186409772,52152.58107716202,52449.85078930185,53834.52685013942,53834.52685013942,53834.52685013942,55540.23819492931,55645.76464749967,56452.62823488841,58716.378627107435,60060.98369766819,60060.98369766819,60060.98369766819,60060.98369766819,60060.98369766819,60060.98369766819,60060.98369766819,60060.98369766819,60060.98369766819,60060.98369766819,60060.98369766819,60060.98369766819,60060.98369766819,60060.98369766819,60060.98369766819,60060.98369766819,60060.98369766819,60060.98369766819,60060.98369766819,60060.98369766819,60060.98369766819,60060.98369766819,60060.98369766819,60060.98369766819,60060.98369766819,60060.98369766819,60060.98369766819,60060.98369766819,60060.98369766819,60060.98369766819,60060.98369766819,60060.98369766819,60060.98369766819,60060.98369766819,60060.98369766819,60060.98369766819,60060.98369766819,60060.98369766819,60060.98369766819,60060.98369766819,60060.98369766819,60060.98369766819,60060.98369766819,60060.98369766819,60060.98369766819,60060.98369766819,60060.98369766819,60060.98369766819,60260.515830804674,60260.515830804674,60260.515830804674,60260.515830804674,60260.515830804674,60260.515830804674,60260.515830804674,60260.515830804674,60260.515830804674,60260.515830804674,60260.515830804674,60260.515830804674,60260.515830804674,60260.515830804674,60260.515830804674,60260.515830804674,60260.515830804674,60260.515830804674,60260.515830804674,60260.515830804674,60586.04113391522,60586.04113391522,60586.04113391522,60586.04113391522,60586.04113391522,60586.04113391522,60586.04113391522,61620.91980327993,61799.62047070944,61799.62047070944,62739.57415818279,63053.2720289737,66603.17124420492,66809.64107506195,66809.64107506195,66809.64107506195,66965.85953572168,70876.66573260781,71904.37738573062,71904.37738573062,71904.37738573062,71904.37738573062,73248.60957426149,77328.55712754786,78302.89694735495,80393.58429584932,81969.29854804797,92485.95955176253,92485.95955176253,92485.95955176253,92485.95955176253,92485.95955176253,92485.95955176253,92485.95955176253,92485.95955176253,92485.95955176253,92485.95955176253,92485.95955176253,92485.95955176253,92485.95955176253,92485.95955176253,92485.95955176253,92485.95955176253,92485.95955176253,92485.95955176253,92485.95955176253,92485.95955176253,92485.95955176253,92485.95955176253,92485.95955176253,93345.51619131514,96799.30029039379,98144.81056443026,101982.27265749947,104429.84720127947,107698.50141867953,115969.74632763412,115969.74632763412,118087.44783107123,118087.44783107123,118087.44783107123,118087.44783107123,118087.44783107123,118287.24646387693,118287.24646387693,118287.24646387693,118287.24646387693,118287.24646387693,118287.24646387693,118287.24646387693,118287.24646387693,118287.24646387693,126520.8398428068,126520.8398428068,126925.23966840476,126925.23966840476,128452.12745507254,137970.43009949342,140177.95698108533,140191.9747767834,140191.9747767834,148485.46143406662,150475.16661728313,150475.16661728313,150475.16661728313,150475.16661728313,151281.48134625473,161992.21022556958,170286.21138911875,170286.21138911875,182815.7890857486,193729.8916941678,193729.8916941678,202052.26436869657,205972.07829744928,205972.07829744928,210085.70321190718,210085.70321190718,210085.70321190718,210085.70321190718,210085.70321190718,228546.72041474498,236477.29161313662,242791.23529920736,242791.23529920736,243086.6393951959,255702.83597980658,266749.1984941342,279153.0362241114,279153.0362241114,279153.0362241114,279153.0362241114,279153.0362241114,279153.0362241114,279153.0362241114,279153.0362241114,279153.0362241114,279153.0362241114,279153.0362241114,279153.0362241114,279153.0362241114,279153.0362241114,279153.0362241114,279153.0362241114,279153.0362241114,279153.0362241114,279153.0362241114,279153.0362241114,279153.0362241114,288101.7581497982,288101.7581497982,312158.92335138534,315967.26221627224,317357.5181700238,317357.5181700238,320701.4349996018,328334.1291525924,328334.1291525924,328334.1291525924,328334.1291525924,328334.1291525924,342213.8462394588,342213.8462394588,342213.8462394588,342213.8462394588,342213.8462394588,342213.8462394588,342213.8462394588,342213.8462394588,342213.8462394588,361970.3429522506,370078.478634381,370078.478634381,382435.5840752224,382435.5840752224,383995.84477113246,394056.53590413614,394056.53590413614,394056.53590413614,394056.53590413614,423368.73754764796,423368.73754764796,423368.73754764796,423368.73754764796,423368.73754764796,423368.73754764796,423368.73754764796,431068.546104368,431068.546104368,431068.546104368,431068.546104368,440614.3383384975,445681.4032293902,445681.4032293902,451117.0450435267,459282.26355881453,459282.26355881453,459282.26355881453,459583.9908679657,459583.9908679657,472393.04708576686,472393.04708576686,478574.2156282748,478574.2156282748,478574.2156282748,492484.9130626152,492484.9130626152,492484.9130626152,492484.9130626152,492484.9130626152,492484.9130626152,492484.9130626152,494169.3675312765,494169.3675312765,495341.6558717089,495341.6558717089,495341.6558717089,501153.35839325114,518292.8032503004,532027.5625364333,549158.8500501066,572223.5217522111,585727.9968655633,604998.4479624403,606389.9443927539,637376.4705512236,640180.9270216491,667196.5621419627,680006.7361350884,704282.9766151111,711889.2327625542,716943.6463151684,725331.8869770559,745786.2461898088,752125.4292824222,752125.4292824222,752125.4292824222,778661.4328760371,799685.29156369,862540.5554805961,862540.5554805961,904766.3318790154,911280.6494685444,911280.6494685444,929067.4808251961,984068.2756900477,1031106.739268032,1114935.717170523,1114935.717170523,1114935.717170523,1114935.717170523,1123927.651335229,1143371.5997033287,1165896.0202174843,1249024.406458991,1315597.407323255,1336910.0853218918,1336910.0853218918,1383558.9156672303,1383697.271558797,1383697.271558797,1383697.271558797,1383697.271558797,1457061.8038209947,1556724.8312023508,1633627.037863747,1633627.037863747,1640430.0162826045,1688986.7447645697,1688986.7447645697,1733688.2786651463,1733688.2786651463,1733688.2786651463,1733688.2786651463,1743978.604356371,1788624.4566278942,1898088.2733735212,1898088.2733735212,1898088.2733735212,1948898.7565532562,1948898.7565532562,1948898.7565532562,1948898.7565532562,1948898.7565532562,1982092.025619059,1982092.025619059,1982092.025619059,1982092.025619059,1982092.025619059,1982092.025619059,1982092.025619059,1982092.025619059,1982092.025619059,1982092.025619059,1982092.025619059,1982092.025619059,1982092.025619059,1982092.025619059,1982092.025619059,1982092.025619059,1982092.025619059,1982092.025619059,1982092.025619059,1982092.025619059,1982092.025619059,1982092.025619059,1982092.025619059,1982092.025619059,1982092.025619059,1982092.025619059,1982092.025619059,1982092.025619059,1982092.025619059,1982092.025619059,1982092.025619059,1982092.025619059,1982092.025619059,1982092.025619059,1982092.025619059,1982092.025619059,1982092.025619059,1982092.025619059,1982092.025619059,1982092.025619059,1982092.025619059,1982092.025619059,1982092.025619059,1982092.025619059,1982092.025619059,1982092.025619059,1982092.025619059,1982092.025619059,1982092.025619059,1982092.025619059,1982092.025619059,1982092.025619059,1982092.025619059,1982092.025619059,1982092.025619059,1982092.025619059,1982092.025619059,1982092.025619059,1982092.025619059,1982092.025619059,1982092.025619059,1982092.025619059,1982092.025619059,1982092.025619059,1982092.025619059,1982092.025619059,1982092.025619059,1982092.025619059,1982092.025619059,1982092.025619059,1982092.025619059,1982092.025619059,1982092.025619059,1982092.025619059,1982092.025619059,1982092.025619059,1982092.025619059,1982092.025619059,1982092.025619059,1982092.025619059,1982092.025619059,1982092.025619059,1982092.025619059,1982092.025619059,1982092.025619059,1982092.025619059,1982092.025619059,1982092.025619059,1982092.025619059,1982092.025619059,1982092.025619059,1982092.025619059,1982092.025619059,1982092.025619059,1982092.025619059,1982092.025619059,1982092.025619059,1982092.025619059,1982092.025619059,1982092.025619059,1982092.025619059,1982092.025619059,1982092.025619059,1982092.025619059,1982092.025619059,1982092.025619059,1982092.025619059,1982092.025619059,1982092.025619059,1982092.025619059,1982092.025619059,1982092.025619059,1982092.025619059,1982092.025619059,1982092.025619059,1982092.025619059,1982092.025619059,1982092.025619059,1982092.025619059,1982092.025619059,1982092.025619059,1982092.025619059,1982092.025619059,1982092.025619059,1982092.025619059,1982092.025619059,1982092.025619059,1982092.025619059,1982092.025619059,1982092.025619059,1982092.025619059,1982092.025619059,1982092.025619059,1982092.025619059,1982092.025619059,1982092.025619059,1982092.025619059,1982092.025619059,1982092.025619059,1982092.025619059,1982092.025619059,1982092.025619059,1982092.025619059,1982092.025619059,1982092.025619059,2036060.267589047,2036060.267589047,2036060.267589047,2036060.267589047,2108464.471858663,2134820.277756896,2214235.592089452,2258298.880372032,2315433.842045445,2315433.842045445,2398842.7153374483,2398842.7153374483,2399690.826179456,2513676.1404229808,2599141.129197362,2664639.485653135,2664639.485653135,2666262.7840277953,2694791.7958168923,2719583.880338408,2779142.767317819,2824720.7087018313,2824720.7087018313,2900924.894092906,2900924.894092906,2929962.9202087843,3014931.844894839,3014931.844894839,3014931.844894839,3065612.1820814926,3065612.1820814926,3065612.1820814926,3086879.8366743084,3086879.8366743084,3110116.60246406,3110116.60246406,3110116.60246406,3110116.60246406,3110116.60246406,3110116.60246406,3110116.60246406,3110116.60246406,3110116.60246406,3110116.60246406,3131013.4174271184,3131013.4174271184,3235402.437998566,3245432.1855563615,3245432.1855563615,3245432.1855563615,3302374.0490157413,3373705.3284744816,3436456.247584107,3583536.574980706,3592495.4164181575,3637401.609123384,3691598.8930993224,3713379.3265686086,3794702.3338204613,3825059.952491025,3893146.0196453654,3997093.0183698963,4119404.064732015,4165541.3902570144,4432136.039233464,4432136.039233464,4432136.039233464,4432136.039233464,4432136.039233464,4432136.039233464,4464731.385387298,4629926.446646627,4664650.894996477,4664650.894996477,4664650.894996477,4664650.894996477,4664650.894996477,4664650.894996477,4664650.894996477,4764057.434799518,4764057.434799518,4764057.434799518,4833162.0599633325,4833162.0599633325,4837187.98729604,4973596.688537789,5161598.643364517,5316962.762529789],\"type\":\"scatter\"}],                        {\"template\":{\"data\":{\"histogram2dcontour\":[{\"type\":\"histogram2dcontour\",\"colorbar\":{\"outlinewidth\":0,\"ticks\":\"\"},\"colorscale\":[[0.0,\"#0d0887\"],[0.1111111111111111,\"#46039f\"],[0.2222222222222222,\"#7201a8\"],[0.3333333333333333,\"#9c179e\"],[0.4444444444444444,\"#bd3786\"],[0.5555555555555556,\"#d8576b\"],[0.6666666666666666,\"#ed7953\"],[0.7777777777777778,\"#fb9f3a\"],[0.8888888888888888,\"#fdca26\"],[1.0,\"#f0f921\"]]}],\"choropleth\":[{\"type\":\"choropleth\",\"colorbar\":{\"outlinewidth\":0,\"ticks\":\"\"}}],\"histogram2d\":[{\"type\":\"histogram2d\",\"colorbar\":{\"outlinewidth\":0,\"ticks\":\"\"},\"colorscale\":[[0.0,\"#0d0887\"],[0.1111111111111111,\"#46039f\"],[0.2222222222222222,\"#7201a8\"],[0.3333333333333333,\"#9c179e\"],[0.4444444444444444,\"#bd3786\"],[0.5555555555555556,\"#d8576b\"],[0.6666666666666666,\"#ed7953\"],[0.7777777777777778,\"#fb9f3a\"],[0.8888888888888888,\"#fdca26\"],[1.0,\"#f0f921\"]]}],\"heatmap\":[{\"type\":\"heatmap\",\"colorbar\":{\"outlinewidth\":0,\"ticks\":\"\"},\"colorscale\":[[0.0,\"#0d0887\"],[0.1111111111111111,\"#46039f\"],[0.2222222222222222,\"#7201a8\"],[0.3333333333333333,\"#9c179e\"],[0.4444444444444444,\"#bd3786\"],[0.5555555555555556,\"#d8576b\"],[0.6666666666666666,\"#ed7953\"],[0.7777777777777778,\"#fb9f3a\"],[0.8888888888888888,\"#fdca26\"],[1.0,\"#f0f921\"]]}],\"heatmapgl\":[{\"type\":\"heatmapgl\",\"colorbar\":{\"outlinewidth\":0,\"ticks\":\"\"},\"colorscale\":[[0.0,\"#0d0887\"],[0.1111111111111111,\"#46039f\"],[0.2222222222222222,\"#7201a8\"],[0.3333333333333333,\"#9c179e\"],[0.4444444444444444,\"#bd3786\"],[0.5555555555555556,\"#d8576b\"],[0.6666666666666666,\"#ed7953\"],[0.7777777777777778,\"#fb9f3a\"],[0.8888888888888888,\"#fdca26\"],[1.0,\"#f0f921\"]]}],\"contourcarpet\":[{\"type\":\"contourcarpet\",\"colorbar\":{\"outlinewidth\":0,\"ticks\":\"\"}}],\"contour\":[{\"type\":\"contour\",\"colorbar\":{\"outlinewidth\":0,\"ticks\":\"\"},\"colorscale\":[[0.0,\"#0d0887\"],[0.1111111111111111,\"#46039f\"],[0.2222222222222222,\"#7201a8\"],[0.3333333333333333,\"#9c179e\"],[0.4444444444444444,\"#bd3786\"],[0.5555555555555556,\"#d8576b\"],[0.6666666666666666,\"#ed7953\"],[0.7777777777777778,\"#fb9f3a\"],[0.8888888888888888,\"#fdca26\"],[1.0,\"#f0f921\"]]}],\"surface\":[{\"type\":\"surface\",\"colorbar\":{\"outlinewidth\":0,\"ticks\":\"\"},\"colorscale\":[[0.0,\"#0d0887\"],[0.1111111111111111,\"#46039f\"],[0.2222222222222222,\"#7201a8\"],[0.3333333333333333,\"#9c179e\"],[0.4444444444444444,\"#bd3786\"],[0.5555555555555556,\"#d8576b\"],[0.6666666666666666,\"#ed7953\"],[0.7777777777777778,\"#fb9f3a\"],[0.8888888888888888,\"#fdca26\"],[1.0,\"#f0f921\"]]}],\"mesh3d\":[{\"type\":\"mesh3d\",\"colorbar\":{\"outlinewidth\":0,\"ticks\":\"\"}}],\"scatter\":[{\"fillpattern\":{\"fillmode\":\"overlay\",\"size\":10,\"solidity\":0.2},\"type\":\"scatter\"}],\"parcoords\":[{\"type\":\"parcoords\",\"line\":{\"colorbar\":{\"outlinewidth\":0,\"ticks\":\"\"}}}],\"scatterpolargl\":[{\"type\":\"scatterpolargl\",\"marker\":{\"colorbar\":{\"outlinewidth\":0,\"ticks\":\"\"}}}],\"bar\":[{\"error_x\":{\"color\":\"#2a3f5f\"},\"error_y\":{\"color\":\"#2a3f5f\"},\"marker\":{\"line\":{\"color\":\"#E5ECF6\",\"width\":0.5},\"pattern\":{\"fillmode\":\"overlay\",\"size\":10,\"solidity\":0.2}},\"type\":\"bar\"}],\"scattergeo\":[{\"type\":\"scattergeo\",\"marker\":{\"colorbar\":{\"outlinewidth\":0,\"ticks\":\"\"}}}],\"scatterpolar\":[{\"type\":\"scatterpolar\",\"marker\":{\"colorbar\":{\"outlinewidth\":0,\"ticks\":\"\"}}}],\"histogram\":[{\"marker\":{\"pattern\":{\"fillmode\":\"overlay\",\"size\":10,\"solidity\":0.2}},\"type\":\"histogram\"}],\"scattergl\":[{\"type\":\"scattergl\",\"marker\":{\"colorbar\":{\"outlinewidth\":0,\"ticks\":\"\"}}}],\"scatter3d\":[{\"type\":\"scatter3d\",\"line\":{\"colorbar\":{\"outlinewidth\":0,\"ticks\":\"\"}},\"marker\":{\"colorbar\":{\"outlinewidth\":0,\"ticks\":\"\"}}}],\"scattermapbox\":[{\"type\":\"scattermapbox\",\"marker\":{\"colorbar\":{\"outlinewidth\":0,\"ticks\":\"\"}}}],\"scatterternary\":[{\"type\":\"scatterternary\",\"marker\":{\"colorbar\":{\"outlinewidth\":0,\"ticks\":\"\"}}}],\"scattercarpet\":[{\"type\":\"scattercarpet\",\"marker\":{\"colorbar\":{\"outlinewidth\":0,\"ticks\":\"\"}}}],\"carpet\":[{\"aaxis\":{\"endlinecolor\":\"#2a3f5f\",\"gridcolor\":\"white\",\"linecolor\":\"white\",\"minorgridcolor\":\"white\",\"startlinecolor\":\"#2a3f5f\"},\"baxis\":{\"endlinecolor\":\"#2a3f5f\",\"gridcolor\":\"white\",\"linecolor\":\"white\",\"minorgridcolor\":\"white\",\"startlinecolor\":\"#2a3f5f\"},\"type\":\"carpet\"}],\"table\":[{\"cells\":{\"fill\":{\"color\":\"#EBF0F8\"},\"line\":{\"color\":\"white\"}},\"header\":{\"fill\":{\"color\":\"#C8D4E3\"},\"line\":{\"color\":\"white\"}},\"type\":\"table\"}],\"barpolar\":[{\"marker\":{\"line\":{\"color\":\"#E5ECF6\",\"width\":0.5},\"pattern\":{\"fillmode\":\"overlay\",\"size\":10,\"solidity\":0.2}},\"type\":\"barpolar\"}],\"pie\":[{\"automargin\":true,\"type\":\"pie\"}]},\"layout\":{\"autotypenumbers\":\"strict\",\"colorway\":[\"#636efa\",\"#EF553B\",\"#00cc96\",\"#ab63fa\",\"#FFA15A\",\"#19d3f3\",\"#FF6692\",\"#B6E880\",\"#FF97FF\",\"#FECB52\"],\"font\":{\"color\":\"#2a3f5f\"},\"hovermode\":\"closest\",\"hoverlabel\":{\"align\":\"left\"},\"paper_bgcolor\":\"white\",\"plot_bgcolor\":\"#E5ECF6\",\"polar\":{\"bgcolor\":\"#E5ECF6\",\"angularaxis\":{\"gridcolor\":\"white\",\"linecolor\":\"white\",\"ticks\":\"\"},\"radialaxis\":{\"gridcolor\":\"white\",\"linecolor\":\"white\",\"ticks\":\"\"}},\"ternary\":{\"bgcolor\":\"#E5ECF6\",\"aaxis\":{\"gridcolor\":\"white\",\"linecolor\":\"white\",\"ticks\":\"\"},\"baxis\":{\"gridcolor\":\"white\",\"linecolor\":\"white\",\"ticks\":\"\"},\"caxis\":{\"gridcolor\":\"white\",\"linecolor\":\"white\",\"ticks\":\"\"}},\"coloraxis\":{\"colorbar\":{\"outlinewidth\":0,\"ticks\":\"\"}},\"colorscale\":{\"sequential\":[[0.0,\"#0d0887\"],[0.1111111111111111,\"#46039f\"],[0.2222222222222222,\"#7201a8\"],[0.3333333333333333,\"#9c179e\"],[0.4444444444444444,\"#bd3786\"],[0.5555555555555556,\"#d8576b\"],[0.6666666666666666,\"#ed7953\"],[0.7777777777777778,\"#fb9f3a\"],[0.8888888888888888,\"#fdca26\"],[1.0,\"#f0f921\"]],\"sequentialminus\":[[0.0,\"#0d0887\"],[0.1111111111111111,\"#46039f\"],[0.2222222222222222,\"#7201a8\"],[0.3333333333333333,\"#9c179e\"],[0.4444444444444444,\"#bd3786\"],[0.5555555555555556,\"#d8576b\"],[0.6666666666666666,\"#ed7953\"],[0.7777777777777778,\"#fb9f3a\"],[0.8888888888888888,\"#fdca26\"],[1.0,\"#f0f921\"]],\"diverging\":[[0,\"#8e0152\"],[0.1,\"#c51b7d\"],[0.2,\"#de77ae\"],[0.3,\"#f1b6da\"],[0.4,\"#fde0ef\"],[0.5,\"#f7f7f7\"],[0.6,\"#e6f5d0\"],[0.7,\"#b8e186\"],[0.8,\"#7fbc41\"],[0.9,\"#4d9221\"],[1,\"#276419\"]]},\"xaxis\":{\"gridcolor\":\"white\",\"linecolor\":\"white\",\"ticks\":\"\",\"title\":{\"standoff\":15},\"zerolinecolor\":\"white\",\"automargin\":true,\"zerolinewidth\":2},\"yaxis\":{\"gridcolor\":\"white\",\"linecolor\":\"white\",\"ticks\":\"\",\"title\":{\"standoff\":15},\"zerolinecolor\":\"white\",\"automargin\":true,\"zerolinewidth\":2},\"scene\":{\"xaxis\":{\"backgroundcolor\":\"#E5ECF6\",\"gridcolor\":\"white\",\"linecolor\":\"white\",\"showbackground\":true,\"ticks\":\"\",\"zerolinecolor\":\"white\",\"gridwidth\":2},\"yaxis\":{\"backgroundcolor\":\"#E5ECF6\",\"gridcolor\":\"white\",\"linecolor\":\"white\",\"showbackground\":true,\"ticks\":\"\",\"zerolinecolor\":\"white\",\"gridwidth\":2},\"zaxis\":{\"backgroundcolor\":\"#E5ECF6\",\"gridcolor\":\"white\",\"linecolor\":\"white\",\"showbackground\":true,\"ticks\":\"\",\"zerolinecolor\":\"white\",\"gridwidth\":2}},\"shapedefaults\":{\"line\":{\"color\":\"#2a3f5f\"}},\"annotationdefaults\":{\"arrowcolor\":\"#2a3f5f\",\"arrowhead\":0,\"arrowwidth\":1},\"geo\":{\"bgcolor\":\"white\",\"landcolor\":\"#E5ECF6\",\"subunitcolor\":\"white\",\"showland\":true,\"showlakes\":true,\"lakecolor\":\"white\"},\"title\":{\"x\":0.05},\"mapbox\":{\"style\":\"light\"}}},\"title\":{\"font\":{\"size\":30},\"text\":\"Previous Peaks\",\"x\":0.5,\"y\":0.9},\"yaxis\":{\"zerolinecolor\":\"Black\"}},                        {\"responsive\": true}                    ).then(function(){\n",
              "                            \n",
              "var gd = document.getElementById('a5d93de7-0a5e-4a78-b07f-8178e0562527');\n",
              "var x = new MutationObserver(function (mutations, observer) {{\n",
              "        var display = window.getComputedStyle(gd).display;\n",
              "        if (!display || display === 'none') {{\n",
              "            console.log([gd, 'removed!']);\n",
              "            Plotly.purge(gd);\n",
              "            observer.disconnect();\n",
              "        }}\n",
              "}});\n",
              "\n",
              "// Listen for the removal of the full notebook cells\n",
              "var notebookContainer = gd.closest('#notebook-container');\n",
              "if (notebookContainer) {{\n",
              "    x.observe(notebookContainer, {childList: true});\n",
              "}}\n",
              "\n",
              "// Listen for the clearing of the current output cell\n",
              "var outputEl = gd.closest('.output');\n",
              "if (outputEl) {{\n",
              "    x.observe(outputEl, {childList: true});\n",
              "}}\n",
              "\n",
              "                        })                };                            </script>        </div>\n",
              "</body>\n",
              "</html>"
            ]
          },
          "metadata": {}
        }
      ]
    },
    {
      "cell_type": "markdown",
      "source": [
        "#### <font color='MediumPurple' style=\"font-size:16px\"><b>Step 3: Compute drawdowns</b></font>"
      ],
      "metadata": {
        "id": "ct6T9LIddL_2"
      }
    },
    {
      "cell_type": "markdown",
      "source": [
        "We can speak of **absolute** and **relative** drawdowns. Absolute drawdown is the difference between the wealth index at time $t$ and the previous peak calculated at time $t$ (for each $t$ in our sample).\n",
        "\n",
        " On the other hand, the relative drawdown is the absolute drawdown divided by the value of previous peak at time $t$ (for each $t$ in the sample).\n",
        "\n",
        "Below we focus on *relative drawdowns*. Let's calculate them:"
      ],
      "metadata": {
        "id": "kyu9VYyQdM-9"
      }
    },
    {
      "cell_type": "code",
      "source": [
        "drawdowns = (wealth_index-previous_peaks)/previous_peaks\n",
        "drawdowns.head()"
      ],
      "metadata": {
        "id": "mY8tJkY7dN6j",
        "outputId": "aab89826-5e16-48b8-d870-08d565ce6af4",
        "colab": {
          "base_uri": "https://localhost:8080/"
        }
      },
      "execution_count": 70,
      "outputs": [
        {
          "output_type": "execute_result",
          "data": {
            "text/plain": [
              "1926-07-01    0.000000\n",
              "1926-08-01    0.000000\n",
              "1926-09-01    0.000000\n",
              "1926-10-01   -0.025600\n",
              "1926-11-01   -0.002214\n",
              "Name: LargeCap, dtype: float64"
            ]
          },
          "metadata": {},
          "execution_count": 70
        }
      ]
    },
    {
      "cell_type": "markdown",
      "source": [
        "Next, let's present drawdowns graphically. Here I would like to show you the beauty of <font color='mediumseagreen'><b>Plotly</b></font>'s **rangeslider**:"
      ],
      "metadata": {
        "id": "eG67FtSGdVNa"
      }
    },
    {
      "cell_type": "code",
      "source": [
        "fig= go.Figure()\n",
        "\n",
        "fig.add_trace(go.Scatter(x=drawdowns.index,y=drawdowns.values,line=dict(color='Purple')))\n",
        "\n",
        "fig.update_layout(title=dict(text=\"Drawdowns\",font=dict(size=30),x=0.5,y=0.9),yaxis=dict(zerolinecolor='black'),\n",
        "                  xaxis_rangeslider_visible=True,height=600,width=1000)\n",
        "\n",
        "fig.show()"
      ],
      "metadata": {
        "id": "lHT_2esDdacZ",
        "outputId": "5e0afe85-3e78-418e-d346-38caed168a8a",
        "colab": {
          "base_uri": "https://localhost:8080/",
          "height": 637
        }
      },
      "execution_count": 74,
      "outputs": [
        {
          "output_type": "display_data",
          "data": {
            "text/html": [
              "<html>\n",
              "<head><meta charset=\"utf-8\" /></head>\n",
              "<body>\n",
              "    <div>            <script src=\"https://cdnjs.cloudflare.com/ajax/libs/mathjax/2.7.5/MathJax.js?config=TeX-AMS-MML_SVG\"></script><script type=\"text/javascript\">if (window.MathJax && window.MathJax.Hub && window.MathJax.Hub.Config) {window.MathJax.Hub.Config({SVG: {font: \"STIX-Web\"}});}</script>                <script type=\"text/javascript\">window.PlotlyConfig = {MathJaxConfig: 'local'};</script>\n",
              "        <script charset=\"utf-8\" src=\"https://cdn.plot.ly/plotly-2.24.1.min.js\"></script>                <div id=\"45918283-4564-450e-aeaa-42822c1b90bb\" class=\"plotly-graph-div\" style=\"height:600px; width:1000px;\"></div>            <script type=\"text/javascript\">                                    window.PLOTLYENV=window.PLOTLYENV || {};                                    if (document.getElementById(\"45918283-4564-450e-aeaa-42822c1b90bb\")) {                    Plotly.newPlot(                        \"45918283-4564-450e-aeaa-42822c1b90bb\",                        [{\"line\":{\"color\":\"Purple\"},\"x\":[\"1926-07-01T00:00:00\",\"1926-08-01T00:00:00\",\"1926-09-01T00:00:00\",\"1926-10-01T00:00:00\",\"1926-11-01T00:00:00\",\"1926-12-01T00:00:00\",\"1927-01-01T00:00:00\",\"1927-02-01T00:00:00\",\"1927-03-01T00:00:00\",\"1927-04-01T00:00:00\",\"1927-05-01T00:00:00\",\"1927-06-01T00:00:00\",\"1927-07-01T00:00:00\",\"1927-08-01T00:00:00\",\"1927-09-01T00:00:00\",\"1927-10-01T00:00:00\",\"1927-11-01T00:00:00\",\"1927-12-01T00:00:00\",\"1928-01-01T00:00:00\",\"1928-02-01T00:00:00\",\"1928-03-01T00:00:00\",\"1928-04-01T00:00:00\",\"1928-05-01T00:00:00\",\"1928-06-01T00:00:00\",\"1928-07-01T00:00:00\",\"1928-08-01T00:00:00\",\"1928-09-01T00:00:00\",\"1928-10-01T00:00:00\",\"1928-11-01T00:00:00\",\"1928-12-01T00:00:00\",\"1929-01-01T00:00:00\",\"1929-02-01T00:00:00\",\"1929-03-01T00:00:00\",\"1929-04-01T00:00:00\",\"1929-05-01T00:00:00\",\"1929-06-01T00:00:00\",\"1929-07-01T00:00:00\",\"1929-08-01T00:00:00\",\"1929-09-01T00:00:00\",\"1929-10-01T00:00:00\",\"1929-11-01T00:00:00\",\"1929-12-01T00:00:00\",\"1930-01-01T00:00:00\",\"1930-02-01T00:00:00\",\"1930-03-01T00:00:00\",\"1930-04-01T00:00:00\",\"1930-05-01T00:00:00\",\"1930-06-01T00:00:00\",\"1930-07-01T00:00:00\",\"1930-08-01T00:00:00\",\"1930-09-01T00:00:00\",\"1930-10-01T00:00:00\",\"1930-11-01T00:00:00\",\"1930-12-01T00:00:00\",\"1931-01-01T00:00:00\",\"1931-02-01T00:00:00\",\"1931-03-01T00:00:00\",\"1931-04-01T00:00:00\",\"1931-05-01T00:00:00\",\"1931-06-01T00:00:00\",\"1931-07-01T00:00:00\",\"1931-08-01T00:00:00\",\"1931-09-01T00:00:00\",\"1931-10-01T00:00:00\",\"1931-11-01T00:00:00\",\"1931-12-01T00:00:00\",\"1932-01-01T00:00:00\",\"1932-02-01T00:00:00\",\"1932-03-01T00:00:00\",\"1932-04-01T00:00:00\",\"1932-05-01T00:00:00\",\"1932-06-01T00:00:00\",\"1932-07-01T00:00:00\",\"1932-08-01T00:00:00\",\"1932-09-01T00:00:00\",\"1932-10-01T00:00:00\",\"1932-11-01T00:00:00\",\"1932-12-01T00:00:00\",\"1933-01-01T00:00:00\",\"1933-02-01T00:00:00\",\"1933-03-01T00:00:00\",\"1933-04-01T00:00:00\",\"1933-05-01T00:00:00\",\"1933-06-01T00:00:00\",\"1933-07-01T00:00:00\",\"1933-08-01T00:00:00\",\"1933-09-01T00:00:00\",\"1933-10-01T00:00:00\",\"1933-11-01T00:00:00\",\"1933-12-01T00:00:00\",\"1934-01-01T00:00:00\",\"1934-02-01T00:00:00\",\"1934-03-01T00:00:00\",\"1934-04-01T00:00:00\",\"1934-05-01T00:00:00\",\"1934-06-01T00:00:00\",\"1934-07-01T00:00:00\",\"1934-08-01T00:00:00\",\"1934-09-01T00:00:00\",\"1934-10-01T00:00:00\",\"1934-11-01T00:00:00\",\"1934-12-01T00:00:00\",\"1935-01-01T00:00:00\",\"1935-02-01T00:00:00\",\"1935-03-01T00:00:00\",\"1935-04-01T00:00:00\",\"1935-05-01T00:00:00\",\"1935-06-01T00:00:00\",\"1935-07-01T00:00:00\",\"1935-08-01T00:00:00\",\"1935-09-01T00:00:00\",\"1935-10-01T00:00:00\",\"1935-11-01T00:00:00\",\"1935-12-01T00:00:00\",\"1936-01-01T00:00:00\",\"1936-02-01T00:00:00\",\"1936-03-01T00:00:00\",\"1936-04-01T00:00:00\",\"1936-05-01T00:00:00\",\"1936-06-01T00:00:00\",\"1936-07-01T00:00:00\",\"1936-08-01T00:00:00\",\"1936-09-01T00:00:00\",\"1936-10-01T00:00:00\",\"1936-11-01T00:00:00\",\"1936-12-01T00:00:00\",\"1937-01-01T00:00:00\",\"1937-02-01T00:00:00\",\"1937-03-01T00:00:00\",\"1937-04-01T00:00:00\",\"1937-05-01T00:00:00\",\"1937-06-01T00:00:00\",\"1937-07-01T00:00:00\",\"1937-08-01T00:00:00\",\"1937-09-01T00:00:00\",\"1937-10-01T00:00:00\",\"1937-11-01T00:00:00\",\"1937-12-01T00:00:00\",\"1938-01-01T00:00:00\",\"1938-02-01T00:00:00\",\"1938-03-01T00:00:00\",\"1938-04-01T00:00:00\",\"1938-05-01T00:00:00\",\"1938-06-01T00:00:00\",\"1938-07-01T00:00:00\",\"1938-08-01T00:00:00\",\"1938-09-01T00:00:00\",\"1938-10-01T00:00:00\",\"1938-11-01T00:00:00\",\"1938-12-01T00:00:00\",\"1939-01-01T00:00:00\",\"1939-02-01T00:00:00\",\"1939-03-01T00:00:00\",\"1939-04-01T00:00:00\",\"1939-05-01T00:00:00\",\"1939-06-01T00:00:00\",\"1939-07-01T00:00:00\",\"1939-08-01T00:00:00\",\"1939-09-01T00:00:00\",\"1939-10-01T00:00:00\",\"1939-11-01T00:00:00\",\"1939-12-01T00:00:00\",\"1940-01-01T00:00:00\",\"1940-02-01T00:00:00\",\"1940-03-01T00:00:00\",\"1940-04-01T00:00:00\",\"1940-05-01T00:00:00\",\"1940-06-01T00:00:00\",\"1940-07-01T00:00:00\",\"1940-08-01T00:00:00\",\"1940-09-01T00:00:00\",\"1940-10-01T00:00:00\",\"1940-11-01T00:00:00\",\"1940-12-01T00:00:00\",\"1941-01-01T00:00:00\",\"1941-02-01T00:00:00\",\"1941-03-01T00:00:00\",\"1941-04-01T00:00:00\",\"1941-05-01T00:00:00\",\"1941-06-01T00:00:00\",\"1941-07-01T00:00:00\",\"1941-08-01T00:00:00\",\"1941-09-01T00:00:00\",\"1941-10-01T00:00:00\",\"1941-11-01T00:00:00\",\"1941-12-01T00:00:00\",\"1942-01-01T00:00:00\",\"1942-02-01T00:00:00\",\"1942-03-01T00:00:00\",\"1942-04-01T00:00:00\",\"1942-05-01T00:00:00\",\"1942-06-01T00:00:00\",\"1942-07-01T00:00:00\",\"1942-08-01T00:00:00\",\"1942-09-01T00:00:00\",\"1942-10-01T00:00:00\",\"1942-11-01T00:00:00\",\"1942-12-01T00:00:00\",\"1943-01-01T00:00:00\",\"1943-02-01T00:00:00\",\"1943-03-01T00:00:00\",\"1943-04-01T00:00:00\",\"1943-05-01T00:00:00\",\"1943-06-01T00:00:00\",\"1943-07-01T00:00:00\",\"1943-08-01T00:00:00\",\"1943-09-01T00:00:00\",\"1943-10-01T00:00:00\",\"1943-11-01T00:00:00\",\"1943-12-01T00:00:00\",\"1944-01-01T00:00:00\",\"1944-02-01T00:00:00\",\"1944-03-01T00:00:00\",\"1944-04-01T00:00:00\",\"1944-05-01T00:00:00\",\"1944-06-01T00:00:00\",\"1944-07-01T00:00:00\",\"1944-08-01T00:00:00\",\"1944-09-01T00:00:00\",\"1944-10-01T00:00:00\",\"1944-11-01T00:00:00\",\"1944-12-01T00:00:00\",\"1945-01-01T00:00:00\",\"1945-02-01T00:00:00\",\"1945-03-01T00:00:00\",\"1945-04-01T00:00:00\",\"1945-05-01T00:00:00\",\"1945-06-01T00:00:00\",\"1945-07-01T00:00:00\",\"1945-08-01T00:00:00\",\"1945-09-01T00:00:00\",\"1945-10-01T00:00:00\",\"1945-11-01T00:00:00\",\"1945-12-01T00:00:00\",\"1946-01-01T00:00:00\",\"1946-02-01T00:00:00\",\"1946-03-01T00:00:00\",\"1946-04-01T00:00:00\",\"1946-05-01T00:00:00\",\"1946-06-01T00:00:00\",\"1946-07-01T00:00:00\",\"1946-08-01T00:00:00\",\"1946-09-01T00:00:00\",\"1946-10-01T00:00:00\",\"1946-11-01T00:00:00\",\"1946-12-01T00:00:00\",\"1947-01-01T00:00:00\",\"1947-02-01T00:00:00\",\"1947-03-01T00:00:00\",\"1947-04-01T00:00:00\",\"1947-05-01T00:00:00\",\"1947-06-01T00:00:00\",\"1947-07-01T00:00:00\",\"1947-08-01T00:00:00\",\"1947-09-01T00:00:00\",\"1947-10-01T00:00:00\",\"1947-11-01T00:00:00\",\"1947-12-01T00:00:00\",\"1948-01-01T00:00:00\",\"1948-02-01T00:00:00\",\"1948-03-01T00:00:00\",\"1948-04-01T00:00:00\",\"1948-05-01T00:00:00\",\"1948-06-01T00:00:00\",\"1948-07-01T00:00:00\",\"1948-08-01T00:00:00\",\"1948-09-01T00:00:00\",\"1948-10-01T00:00:00\",\"1948-11-01T00:00:00\",\"1948-12-01T00:00:00\",\"1949-01-01T00:00:00\",\"1949-02-01T00:00:00\",\"1949-03-01T00:00:00\",\"1949-04-01T00:00:00\",\"1949-05-01T00:00:00\",\"1949-06-01T00:00:00\",\"1949-07-01T00:00:00\",\"1949-08-01T00:00:00\",\"1949-09-01T00:00:00\",\"1949-10-01T00:00:00\",\"1949-11-01T00:00:00\",\"1949-12-01T00:00:00\",\"1950-01-01T00:00:00\",\"1950-02-01T00:00:00\",\"1950-03-01T00:00:00\",\"1950-04-01T00:00:00\",\"1950-05-01T00:00:00\",\"1950-06-01T00:00:00\",\"1950-07-01T00:00:00\",\"1950-08-01T00:00:00\",\"1950-09-01T00:00:00\",\"1950-10-01T00:00:00\",\"1950-11-01T00:00:00\",\"1950-12-01T00:00:00\",\"1951-01-01T00:00:00\",\"1951-02-01T00:00:00\",\"1951-03-01T00:00:00\",\"1951-04-01T00:00:00\",\"1951-05-01T00:00:00\",\"1951-06-01T00:00:00\",\"1951-07-01T00:00:00\",\"1951-08-01T00:00:00\",\"1951-09-01T00:00:00\",\"1951-10-01T00:00:00\",\"1951-11-01T00:00:00\",\"1951-12-01T00:00:00\",\"1952-01-01T00:00:00\",\"1952-02-01T00:00:00\",\"1952-03-01T00:00:00\",\"1952-04-01T00:00:00\",\"1952-05-01T00:00:00\",\"1952-06-01T00:00:00\",\"1952-07-01T00:00:00\",\"1952-08-01T00:00:00\",\"1952-09-01T00:00:00\",\"1952-10-01T00:00:00\",\"1952-11-01T00:00:00\",\"1952-12-01T00:00:00\",\"1953-01-01T00:00:00\",\"1953-02-01T00:00:00\",\"1953-03-01T00:00:00\",\"1953-04-01T00:00:00\",\"1953-05-01T00:00:00\",\"1953-06-01T00:00:00\",\"1953-07-01T00:00:00\",\"1953-08-01T00:00:00\",\"1953-09-01T00:00:00\",\"1953-10-01T00:00:00\",\"1953-11-01T00:00:00\",\"1953-12-01T00:00:00\",\"1954-01-01T00:00:00\",\"1954-02-01T00:00:00\",\"1954-03-01T00:00:00\",\"1954-04-01T00:00:00\",\"1954-05-01T00:00:00\",\"1954-06-01T00:00:00\",\"1954-07-01T00:00:00\",\"1954-08-01T00:00:00\",\"1954-09-01T00:00:00\",\"1954-10-01T00:00:00\",\"1954-11-01T00:00:00\",\"1954-12-01T00:00:00\",\"1955-01-01T00:00:00\",\"1955-02-01T00:00:00\",\"1955-03-01T00:00:00\",\"1955-04-01T00:00:00\",\"1955-05-01T00:00:00\",\"1955-06-01T00:00:00\",\"1955-07-01T00:00:00\",\"1955-08-01T00:00:00\",\"1955-09-01T00:00:00\",\"1955-10-01T00:00:00\",\"1955-11-01T00:00:00\",\"1955-12-01T00:00:00\",\"1956-01-01T00:00:00\",\"1956-02-01T00:00:00\",\"1956-03-01T00:00:00\",\"1956-04-01T00:00:00\",\"1956-05-01T00:00:00\",\"1956-06-01T00:00:00\",\"1956-07-01T00:00:00\",\"1956-08-01T00:00:00\",\"1956-09-01T00:00:00\",\"1956-10-01T00:00:00\",\"1956-11-01T00:00:00\",\"1956-12-01T00:00:00\",\"1957-01-01T00:00:00\",\"1957-02-01T00:00:00\",\"1957-03-01T00:00:00\",\"1957-04-01T00:00:00\",\"1957-05-01T00:00:00\",\"1957-06-01T00:00:00\",\"1957-07-01T00:00:00\",\"1957-08-01T00:00:00\",\"1957-09-01T00:00:00\",\"1957-10-01T00:00:00\",\"1957-11-01T00:00:00\",\"1957-12-01T00:00:00\",\"1958-01-01T00:00:00\",\"1958-02-01T00:00:00\",\"1958-03-01T00:00:00\",\"1958-04-01T00:00:00\",\"1958-05-01T00:00:00\",\"1958-06-01T00:00:00\",\"1958-07-01T00:00:00\",\"1958-08-01T00:00:00\",\"1958-09-01T00:00:00\",\"1958-10-01T00:00:00\",\"1958-11-01T00:00:00\",\"1958-12-01T00:00:00\",\"1959-01-01T00:00:00\",\"1959-02-01T00:00:00\",\"1959-03-01T00:00:00\",\"1959-04-01T00:00:00\",\"1959-05-01T00:00:00\",\"1959-06-01T00:00:00\",\"1959-07-01T00:00:00\",\"1959-08-01T00:00:00\",\"1959-09-01T00:00:00\",\"1959-10-01T00:00:00\",\"1959-11-01T00:00:00\",\"1959-12-01T00:00:00\",\"1960-01-01T00:00:00\",\"1960-02-01T00:00:00\",\"1960-03-01T00:00:00\",\"1960-04-01T00:00:00\",\"1960-05-01T00:00:00\",\"1960-06-01T00:00:00\",\"1960-07-01T00:00:00\",\"1960-08-01T00:00:00\",\"1960-09-01T00:00:00\",\"1960-10-01T00:00:00\",\"1960-11-01T00:00:00\",\"1960-12-01T00:00:00\",\"1961-01-01T00:00:00\",\"1961-02-01T00:00:00\",\"1961-03-01T00:00:00\",\"1961-04-01T00:00:00\",\"1961-05-01T00:00:00\",\"1961-06-01T00:00:00\",\"1961-07-01T00:00:00\",\"1961-08-01T00:00:00\",\"1961-09-01T00:00:00\",\"1961-10-01T00:00:00\",\"1961-11-01T00:00:00\",\"1961-12-01T00:00:00\",\"1962-01-01T00:00:00\",\"1962-02-01T00:00:00\",\"1962-03-01T00:00:00\",\"1962-04-01T00:00:00\",\"1962-05-01T00:00:00\",\"1962-06-01T00:00:00\",\"1962-07-01T00:00:00\",\"1962-08-01T00:00:00\",\"1962-09-01T00:00:00\",\"1962-10-01T00:00:00\",\"1962-11-01T00:00:00\",\"1962-12-01T00:00:00\",\"1963-01-01T00:00:00\",\"1963-02-01T00:00:00\",\"1963-03-01T00:00:00\",\"1963-04-01T00:00:00\",\"1963-05-01T00:00:00\",\"1963-06-01T00:00:00\",\"1963-07-01T00:00:00\",\"1963-08-01T00:00:00\",\"1963-09-01T00:00:00\",\"1963-10-01T00:00:00\",\"1963-11-01T00:00:00\",\"1963-12-01T00:00:00\",\"1964-01-01T00:00:00\",\"1964-02-01T00:00:00\",\"1964-03-01T00:00:00\",\"1964-04-01T00:00:00\",\"1964-05-01T00:00:00\",\"1964-06-01T00:00:00\",\"1964-07-01T00:00:00\",\"1964-08-01T00:00:00\",\"1964-09-01T00:00:00\",\"1964-10-01T00:00:00\",\"1964-11-01T00:00:00\",\"1964-12-01T00:00:00\",\"1965-01-01T00:00:00\",\"1965-02-01T00:00:00\",\"1965-03-01T00:00:00\",\"1965-04-01T00:00:00\",\"1965-05-01T00:00:00\",\"1965-06-01T00:00:00\",\"1965-07-01T00:00:00\",\"1965-08-01T00:00:00\",\"1965-09-01T00:00:00\",\"1965-10-01T00:00:00\",\"1965-11-01T00:00:00\",\"1965-12-01T00:00:00\",\"1966-01-01T00:00:00\",\"1966-02-01T00:00:00\",\"1966-03-01T00:00:00\",\"1966-04-01T00:00:00\",\"1966-05-01T00:00:00\",\"1966-06-01T00:00:00\",\"1966-07-01T00:00:00\",\"1966-08-01T00:00:00\",\"1966-09-01T00:00:00\",\"1966-10-01T00:00:00\",\"1966-11-01T00:00:00\",\"1966-12-01T00:00:00\",\"1967-01-01T00:00:00\",\"1967-02-01T00:00:00\",\"1967-03-01T00:00:00\",\"1967-04-01T00:00:00\",\"1967-05-01T00:00:00\",\"1967-06-01T00:00:00\",\"1967-07-01T00:00:00\",\"1967-08-01T00:00:00\",\"1967-09-01T00:00:00\",\"1967-10-01T00:00:00\",\"1967-11-01T00:00:00\",\"1967-12-01T00:00:00\",\"1968-01-01T00:00:00\",\"1968-02-01T00:00:00\",\"1968-03-01T00:00:00\",\"1968-04-01T00:00:00\",\"1968-05-01T00:00:00\",\"1968-06-01T00:00:00\",\"1968-07-01T00:00:00\",\"1968-08-01T00:00:00\",\"1968-09-01T00:00:00\",\"1968-10-01T00:00:00\",\"1968-11-01T00:00:00\",\"1968-12-01T00:00:00\",\"1969-01-01T00:00:00\",\"1969-02-01T00:00:00\",\"1969-03-01T00:00:00\",\"1969-04-01T00:00:00\",\"1969-05-01T00:00:00\",\"1969-06-01T00:00:00\",\"1969-07-01T00:00:00\",\"1969-08-01T00:00:00\",\"1969-09-01T00:00:00\",\"1969-10-01T00:00:00\",\"1969-11-01T00:00:00\",\"1969-12-01T00:00:00\",\"1970-01-01T00:00:00\",\"1970-02-01T00:00:00\",\"1970-03-01T00:00:00\",\"1970-04-01T00:00:00\",\"1970-05-01T00:00:00\",\"1970-06-01T00:00:00\",\"1970-07-01T00:00:00\",\"1970-08-01T00:00:00\",\"1970-09-01T00:00:00\",\"1970-10-01T00:00:00\",\"1970-11-01T00:00:00\",\"1970-12-01T00:00:00\",\"1971-01-01T00:00:00\",\"1971-02-01T00:00:00\",\"1971-03-01T00:00:00\",\"1971-04-01T00:00:00\",\"1971-05-01T00:00:00\",\"1971-06-01T00:00:00\",\"1971-07-01T00:00:00\",\"1971-08-01T00:00:00\",\"1971-09-01T00:00:00\",\"1971-10-01T00:00:00\",\"1971-11-01T00:00:00\",\"1971-12-01T00:00:00\",\"1972-01-01T00:00:00\",\"1972-02-01T00:00:00\",\"1972-03-01T00:00:00\",\"1972-04-01T00:00:00\",\"1972-05-01T00:00:00\",\"1972-06-01T00:00:00\",\"1972-07-01T00:00:00\",\"1972-08-01T00:00:00\",\"1972-09-01T00:00:00\",\"1972-10-01T00:00:00\",\"1972-11-01T00:00:00\",\"1972-12-01T00:00:00\",\"1973-01-01T00:00:00\",\"1973-02-01T00:00:00\",\"1973-03-01T00:00:00\",\"1973-04-01T00:00:00\",\"1973-05-01T00:00:00\",\"1973-06-01T00:00:00\",\"1973-07-01T00:00:00\",\"1973-08-01T00:00:00\",\"1973-09-01T00:00:00\",\"1973-10-01T00:00:00\",\"1973-11-01T00:00:00\",\"1973-12-01T00:00:00\",\"1974-01-01T00:00:00\",\"1974-02-01T00:00:00\",\"1974-03-01T00:00:00\",\"1974-04-01T00:00:00\",\"1974-05-01T00:00:00\",\"1974-06-01T00:00:00\",\"1974-07-01T00:00:00\",\"1974-08-01T00:00:00\",\"1974-09-01T00:00:00\",\"1974-10-01T00:00:00\",\"1974-11-01T00:00:00\",\"1974-12-01T00:00:00\",\"1975-01-01T00:00:00\",\"1975-02-01T00:00:00\",\"1975-03-01T00:00:00\",\"1975-04-01T00:00:00\",\"1975-05-01T00:00:00\",\"1975-06-01T00:00:00\",\"1975-07-01T00:00:00\",\"1975-08-01T00:00:00\",\"1975-09-01T00:00:00\",\"1975-10-01T00:00:00\",\"1975-11-01T00:00:00\",\"1975-12-01T00:00:00\",\"1976-01-01T00:00:00\",\"1976-02-01T00:00:00\",\"1976-03-01T00:00:00\",\"1976-04-01T00:00:00\",\"1976-05-01T00:00:00\",\"1976-06-01T00:00:00\",\"1976-07-01T00:00:00\",\"1976-08-01T00:00:00\",\"1976-09-01T00:00:00\",\"1976-10-01T00:00:00\",\"1976-11-01T00:00:00\",\"1976-12-01T00:00:00\",\"1977-01-01T00:00:00\",\"1977-02-01T00:00:00\",\"1977-03-01T00:00:00\",\"1977-04-01T00:00:00\",\"1977-05-01T00:00:00\",\"1977-06-01T00:00:00\",\"1977-07-01T00:00:00\",\"1977-08-01T00:00:00\",\"1977-09-01T00:00:00\",\"1977-10-01T00:00:00\",\"1977-11-01T00:00:00\",\"1977-12-01T00:00:00\",\"1978-01-01T00:00:00\",\"1978-02-01T00:00:00\",\"1978-03-01T00:00:00\",\"1978-04-01T00:00:00\",\"1978-05-01T00:00:00\",\"1978-06-01T00:00:00\",\"1978-07-01T00:00:00\",\"1978-08-01T00:00:00\",\"1978-09-01T00:00:00\",\"1978-10-01T00:00:00\",\"1978-11-01T00:00:00\",\"1978-12-01T00:00:00\",\"1979-01-01T00:00:00\",\"1979-02-01T00:00:00\",\"1979-03-01T00:00:00\",\"1979-04-01T00:00:00\",\"1979-05-01T00:00:00\",\"1979-06-01T00:00:00\",\"1979-07-01T00:00:00\",\"1979-08-01T00:00:00\",\"1979-09-01T00:00:00\",\"1979-10-01T00:00:00\",\"1979-11-01T00:00:00\",\"1979-12-01T00:00:00\",\"1980-01-01T00:00:00\",\"1980-02-01T00:00:00\",\"1980-03-01T00:00:00\",\"1980-04-01T00:00:00\",\"1980-05-01T00:00:00\",\"1980-06-01T00:00:00\",\"1980-07-01T00:00:00\",\"1980-08-01T00:00:00\",\"1980-09-01T00:00:00\",\"1980-10-01T00:00:00\",\"1980-11-01T00:00:00\",\"1980-12-01T00:00:00\",\"1981-01-01T00:00:00\",\"1981-02-01T00:00:00\",\"1981-03-01T00:00:00\",\"1981-04-01T00:00:00\",\"1981-05-01T00:00:00\",\"1981-06-01T00:00:00\",\"1981-07-01T00:00:00\",\"1981-08-01T00:00:00\",\"1981-09-01T00:00:00\",\"1981-10-01T00:00:00\",\"1981-11-01T00:00:00\",\"1981-12-01T00:00:00\",\"1982-01-01T00:00:00\",\"1982-02-01T00:00:00\",\"1982-03-01T00:00:00\",\"1982-04-01T00:00:00\",\"1982-05-01T00:00:00\",\"1982-06-01T00:00:00\",\"1982-07-01T00:00:00\",\"1982-08-01T00:00:00\",\"1982-09-01T00:00:00\",\"1982-10-01T00:00:00\",\"1982-11-01T00:00:00\",\"1982-12-01T00:00:00\",\"1983-01-01T00:00:00\",\"1983-02-01T00:00:00\",\"1983-03-01T00:00:00\",\"1983-04-01T00:00:00\",\"1983-05-01T00:00:00\",\"1983-06-01T00:00:00\",\"1983-07-01T00:00:00\",\"1983-08-01T00:00:00\",\"1983-09-01T00:00:00\",\"1983-10-01T00:00:00\",\"1983-11-01T00:00:00\",\"1983-12-01T00:00:00\",\"1984-01-01T00:00:00\",\"1984-02-01T00:00:00\",\"1984-03-01T00:00:00\",\"1984-04-01T00:00:00\",\"1984-05-01T00:00:00\",\"1984-06-01T00:00:00\",\"1984-07-01T00:00:00\",\"1984-08-01T00:00:00\",\"1984-09-01T00:00:00\",\"1984-10-01T00:00:00\",\"1984-11-01T00:00:00\",\"1984-12-01T00:00:00\",\"1985-01-01T00:00:00\",\"1985-02-01T00:00:00\",\"1985-03-01T00:00:00\",\"1985-04-01T00:00:00\",\"1985-05-01T00:00:00\",\"1985-06-01T00:00:00\",\"1985-07-01T00:00:00\",\"1985-08-01T00:00:00\",\"1985-09-01T00:00:00\",\"1985-10-01T00:00:00\",\"1985-11-01T00:00:00\",\"1985-12-01T00:00:00\",\"1986-01-01T00:00:00\",\"1986-02-01T00:00:00\",\"1986-03-01T00:00:00\",\"1986-04-01T00:00:00\",\"1986-05-01T00:00:00\",\"1986-06-01T00:00:00\",\"1986-07-01T00:00:00\",\"1986-08-01T00:00:00\",\"1986-09-01T00:00:00\",\"1986-10-01T00:00:00\",\"1986-11-01T00:00:00\",\"1986-12-01T00:00:00\",\"1987-01-01T00:00:00\",\"1987-02-01T00:00:00\",\"1987-03-01T00:00:00\",\"1987-04-01T00:00:00\",\"1987-05-01T00:00:00\",\"1987-06-01T00:00:00\",\"1987-07-01T00:00:00\",\"1987-08-01T00:00:00\",\"1987-09-01T00:00:00\",\"1987-10-01T00:00:00\",\"1987-11-01T00:00:00\",\"1987-12-01T00:00:00\",\"1988-01-01T00:00:00\",\"1988-02-01T00:00:00\",\"1988-03-01T00:00:00\",\"1988-04-01T00:00:00\",\"1988-05-01T00:00:00\",\"1988-06-01T00:00:00\",\"1988-07-01T00:00:00\",\"1988-08-01T00:00:00\",\"1988-09-01T00:00:00\",\"1988-10-01T00:00:00\",\"1988-11-01T00:00:00\",\"1988-12-01T00:00:00\",\"1989-01-01T00:00:00\",\"1989-02-01T00:00:00\",\"1989-03-01T00:00:00\",\"1989-04-01T00:00:00\",\"1989-05-01T00:00:00\",\"1989-06-01T00:00:00\",\"1989-07-01T00:00:00\",\"1989-08-01T00:00:00\",\"1989-09-01T00:00:00\",\"1989-10-01T00:00:00\",\"1989-11-01T00:00:00\",\"1989-12-01T00:00:00\",\"1990-01-01T00:00:00\",\"1990-02-01T00:00:00\",\"1990-03-01T00:00:00\",\"1990-04-01T00:00:00\",\"1990-05-01T00:00:00\",\"1990-06-01T00:00:00\",\"1990-07-01T00:00:00\",\"1990-08-01T00:00:00\",\"1990-09-01T00:00:00\",\"1990-10-01T00:00:00\",\"1990-11-01T00:00:00\",\"1990-12-01T00:00:00\",\"1991-01-01T00:00:00\",\"1991-02-01T00:00:00\",\"1991-03-01T00:00:00\",\"1991-04-01T00:00:00\",\"1991-05-01T00:00:00\",\"1991-06-01T00:00:00\",\"1991-07-01T00:00:00\",\"1991-08-01T00:00:00\",\"1991-09-01T00:00:00\",\"1991-10-01T00:00:00\",\"1991-11-01T00:00:00\",\"1991-12-01T00:00:00\",\"1992-01-01T00:00:00\",\"1992-02-01T00:00:00\",\"1992-03-01T00:00:00\",\"1992-04-01T00:00:00\",\"1992-05-01T00:00:00\",\"1992-06-01T00:00:00\",\"1992-07-01T00:00:00\",\"1992-08-01T00:00:00\",\"1992-09-01T00:00:00\",\"1992-10-01T00:00:00\",\"1992-11-01T00:00:00\",\"1992-12-01T00:00:00\",\"1993-01-01T00:00:00\",\"1993-02-01T00:00:00\",\"1993-03-01T00:00:00\",\"1993-04-01T00:00:00\",\"1993-05-01T00:00:00\",\"1993-06-01T00:00:00\",\"1993-07-01T00:00:00\",\"1993-08-01T00:00:00\",\"1993-09-01T00:00:00\",\"1993-10-01T00:00:00\",\"1993-11-01T00:00:00\",\"1993-12-01T00:00:00\",\"1994-01-01T00:00:00\",\"1994-02-01T00:00:00\",\"1994-03-01T00:00:00\",\"1994-04-01T00:00:00\",\"1994-05-01T00:00:00\",\"1994-06-01T00:00:00\",\"1994-07-01T00:00:00\",\"1994-08-01T00:00:00\",\"1994-09-01T00:00:00\",\"1994-10-01T00:00:00\",\"1994-11-01T00:00:00\",\"1994-12-01T00:00:00\",\"1995-01-01T00:00:00\",\"1995-02-01T00:00:00\",\"1995-03-01T00:00:00\",\"1995-04-01T00:00:00\",\"1995-05-01T00:00:00\",\"1995-06-01T00:00:00\",\"1995-07-01T00:00:00\",\"1995-08-01T00:00:00\",\"1995-09-01T00:00:00\",\"1995-10-01T00:00:00\",\"1995-11-01T00:00:00\",\"1995-12-01T00:00:00\",\"1996-01-01T00:00:00\",\"1996-02-01T00:00:00\",\"1996-03-01T00:00:00\",\"1996-04-01T00:00:00\",\"1996-05-01T00:00:00\",\"1996-06-01T00:00:00\",\"1996-07-01T00:00:00\",\"1996-08-01T00:00:00\",\"1996-09-01T00:00:00\",\"1996-10-01T00:00:00\",\"1996-11-01T00:00:00\",\"1996-12-01T00:00:00\",\"1997-01-01T00:00:00\",\"1997-02-01T00:00:00\",\"1997-03-01T00:00:00\",\"1997-04-01T00:00:00\",\"1997-05-01T00:00:00\",\"1997-06-01T00:00:00\",\"1997-07-01T00:00:00\",\"1997-08-01T00:00:00\",\"1997-09-01T00:00:00\",\"1997-10-01T00:00:00\",\"1997-11-01T00:00:00\",\"1997-12-01T00:00:00\",\"1998-01-01T00:00:00\",\"1998-02-01T00:00:00\",\"1998-03-01T00:00:00\",\"1998-04-01T00:00:00\",\"1998-05-01T00:00:00\",\"1998-06-01T00:00:00\",\"1998-07-01T00:00:00\",\"1998-08-01T00:00:00\",\"1998-09-01T00:00:00\",\"1998-10-01T00:00:00\",\"1998-11-01T00:00:00\",\"1998-12-01T00:00:00\",\"1999-01-01T00:00:00\",\"1999-02-01T00:00:00\",\"1999-03-01T00:00:00\",\"1999-04-01T00:00:00\",\"1999-05-01T00:00:00\",\"1999-06-01T00:00:00\",\"1999-07-01T00:00:00\",\"1999-08-01T00:00:00\",\"1999-09-01T00:00:00\",\"1999-10-01T00:00:00\",\"1999-11-01T00:00:00\",\"1999-12-01T00:00:00\",\"2000-01-01T00:00:00\",\"2000-02-01T00:00:00\",\"2000-03-01T00:00:00\",\"2000-04-01T00:00:00\",\"2000-05-01T00:00:00\",\"2000-06-01T00:00:00\",\"2000-07-01T00:00:00\",\"2000-08-01T00:00:00\",\"2000-09-01T00:00:00\",\"2000-10-01T00:00:00\",\"2000-11-01T00:00:00\",\"2000-12-01T00:00:00\",\"2001-01-01T00:00:00\",\"2001-02-01T00:00:00\",\"2001-03-01T00:00:00\",\"2001-04-01T00:00:00\",\"2001-05-01T00:00:00\",\"2001-06-01T00:00:00\",\"2001-07-01T00:00:00\",\"2001-08-01T00:00:00\",\"2001-09-01T00:00:00\",\"2001-10-01T00:00:00\",\"2001-11-01T00:00:00\",\"2001-12-01T00:00:00\",\"2002-01-01T00:00:00\",\"2002-02-01T00:00:00\",\"2002-03-01T00:00:00\",\"2002-04-01T00:00:00\",\"2002-05-01T00:00:00\",\"2002-06-01T00:00:00\",\"2002-07-01T00:00:00\",\"2002-08-01T00:00:00\",\"2002-09-01T00:00:00\",\"2002-10-01T00:00:00\",\"2002-11-01T00:00:00\",\"2002-12-01T00:00:00\",\"2003-01-01T00:00:00\",\"2003-02-01T00:00:00\",\"2003-03-01T00:00:00\",\"2003-04-01T00:00:00\",\"2003-05-01T00:00:00\",\"2003-06-01T00:00:00\",\"2003-07-01T00:00:00\",\"2003-08-01T00:00:00\",\"2003-09-01T00:00:00\",\"2003-10-01T00:00:00\",\"2003-11-01T00:00:00\",\"2003-12-01T00:00:00\",\"2004-01-01T00:00:00\",\"2004-02-01T00:00:00\",\"2004-03-01T00:00:00\",\"2004-04-01T00:00:00\",\"2004-05-01T00:00:00\",\"2004-06-01T00:00:00\",\"2004-07-01T00:00:00\",\"2004-08-01T00:00:00\",\"2004-09-01T00:00:00\",\"2004-10-01T00:00:00\",\"2004-11-01T00:00:00\",\"2004-12-01T00:00:00\",\"2005-01-01T00:00:00\",\"2005-02-01T00:00:00\",\"2005-03-01T00:00:00\",\"2005-04-01T00:00:00\",\"2005-05-01T00:00:00\",\"2005-06-01T00:00:00\",\"2005-07-01T00:00:00\",\"2005-08-01T00:00:00\",\"2005-09-01T00:00:00\",\"2005-10-01T00:00:00\",\"2005-11-01T00:00:00\",\"2005-12-01T00:00:00\",\"2006-01-01T00:00:00\",\"2006-02-01T00:00:00\",\"2006-03-01T00:00:00\",\"2006-04-01T00:00:00\",\"2006-05-01T00:00:00\",\"2006-06-01T00:00:00\",\"2006-07-01T00:00:00\",\"2006-08-01T00:00:00\",\"2006-09-01T00:00:00\",\"2006-10-01T00:00:00\",\"2006-11-01T00:00:00\",\"2006-12-01T00:00:00\",\"2007-01-01T00:00:00\",\"2007-02-01T00:00:00\",\"2007-03-01T00:00:00\",\"2007-04-01T00:00:00\",\"2007-05-01T00:00:00\",\"2007-06-01T00:00:00\",\"2007-07-01T00:00:00\",\"2007-08-01T00:00:00\",\"2007-09-01T00:00:00\",\"2007-10-01T00:00:00\",\"2007-11-01T00:00:00\",\"2007-12-01T00:00:00\",\"2008-01-01T00:00:00\",\"2008-02-01T00:00:00\",\"2008-03-01T00:00:00\",\"2008-04-01T00:00:00\",\"2008-05-01T00:00:00\",\"2008-06-01T00:00:00\",\"2008-07-01T00:00:00\",\"2008-08-01T00:00:00\",\"2008-09-01T00:00:00\",\"2008-10-01T00:00:00\",\"2008-11-01T00:00:00\",\"2008-12-01T00:00:00\",\"2009-01-01T00:00:00\",\"2009-02-01T00:00:00\",\"2009-03-01T00:00:00\",\"2009-04-01T00:00:00\",\"2009-05-01T00:00:00\",\"2009-06-01T00:00:00\",\"2009-07-01T00:00:00\",\"2009-08-01T00:00:00\",\"2009-09-01T00:00:00\",\"2009-10-01T00:00:00\",\"2009-11-01T00:00:00\",\"2009-12-01T00:00:00\",\"2010-01-01T00:00:00\",\"2010-02-01T00:00:00\",\"2010-03-01T00:00:00\",\"2010-04-01T00:00:00\",\"2010-05-01T00:00:00\",\"2010-06-01T00:00:00\",\"2010-07-01T00:00:00\",\"2010-08-01T00:00:00\",\"2010-09-01T00:00:00\",\"2010-10-01T00:00:00\",\"2010-11-01T00:00:00\",\"2010-12-01T00:00:00\",\"2011-01-01T00:00:00\",\"2011-02-01T00:00:00\",\"2011-03-01T00:00:00\",\"2011-04-01T00:00:00\",\"2011-05-01T00:00:00\",\"2011-06-01T00:00:00\",\"2011-07-01T00:00:00\",\"2011-08-01T00:00:00\",\"2011-09-01T00:00:00\",\"2011-10-01T00:00:00\",\"2011-11-01T00:00:00\",\"2011-12-01T00:00:00\",\"2012-01-01T00:00:00\",\"2012-02-01T00:00:00\",\"2012-03-01T00:00:00\",\"2012-04-01T00:00:00\",\"2012-05-01T00:00:00\",\"2012-06-01T00:00:00\",\"2012-07-01T00:00:00\",\"2012-08-01T00:00:00\",\"2012-09-01T00:00:00\",\"2012-10-01T00:00:00\",\"2012-11-01T00:00:00\",\"2012-12-01T00:00:00\",\"2013-01-01T00:00:00\",\"2013-02-01T00:00:00\",\"2013-03-01T00:00:00\",\"2013-04-01T00:00:00\",\"2013-05-01T00:00:00\",\"2013-06-01T00:00:00\",\"2013-07-01T00:00:00\",\"2013-08-01T00:00:00\",\"2013-09-01T00:00:00\",\"2013-10-01T00:00:00\",\"2013-11-01T00:00:00\",\"2013-12-01T00:00:00\",\"2014-01-01T00:00:00\",\"2014-02-01T00:00:00\",\"2014-03-01T00:00:00\",\"2014-04-01T00:00:00\",\"2014-05-01T00:00:00\",\"2014-06-01T00:00:00\",\"2014-07-01T00:00:00\",\"2014-08-01T00:00:00\",\"2014-09-01T00:00:00\",\"2014-10-01T00:00:00\",\"2014-11-01T00:00:00\",\"2014-12-01T00:00:00\",\"2015-01-01T00:00:00\",\"2015-02-01T00:00:00\",\"2015-03-01T00:00:00\",\"2015-04-01T00:00:00\",\"2015-05-01T00:00:00\",\"2015-06-01T00:00:00\",\"2015-07-01T00:00:00\",\"2015-08-01T00:00:00\",\"2015-09-01T00:00:00\",\"2015-10-01T00:00:00\",\"2015-11-01T00:00:00\",\"2015-12-01T00:00:00\",\"2016-01-01T00:00:00\",\"2016-02-01T00:00:00\",\"2016-03-01T00:00:00\",\"2016-04-01T00:00:00\",\"2016-05-01T00:00:00\",\"2016-06-01T00:00:00\",\"2016-07-01T00:00:00\",\"2016-08-01T00:00:00\",\"2016-09-01T00:00:00\",\"2016-10-01T00:00:00\",\"2016-11-01T00:00:00\",\"2016-12-01T00:00:00\",\"2017-01-01T00:00:00\",\"2017-02-01T00:00:00\",\"2017-03-01T00:00:00\",\"2017-04-01T00:00:00\",\"2017-05-01T00:00:00\",\"2017-06-01T00:00:00\",\"2017-07-01T00:00:00\",\"2017-08-01T00:00:00\",\"2017-09-01T00:00:00\",\"2017-10-01T00:00:00\",\"2017-11-01T00:00:00\",\"2017-12-01T00:00:00\",\"2018-01-01T00:00:00\",\"2018-02-01T00:00:00\",\"2018-03-01T00:00:00\",\"2018-04-01T00:00:00\",\"2018-05-01T00:00:00\",\"2018-06-01T00:00:00\",\"2018-07-01T00:00:00\",\"2018-08-01T00:00:00\",\"2018-09-01T00:00:00\",\"2018-10-01T00:00:00\",\"2018-11-01T00:00:00\",\"2018-12-01T00:00:00\",\"2019-01-01T00:00:00\",\"2019-02-01T00:00:00\",\"2019-03-01T00:00:00\",\"2019-04-01T00:00:00\",\"2019-05-01T00:00:00\",\"2019-06-01T00:00:00\",\"2019-07-01T00:00:00\",\"2019-08-01T00:00:00\",\"2019-09-01T00:00:00\",\"2019-10-01T00:00:00\",\"2019-11-01T00:00:00\",\"2019-12-01T00:00:00\"],\"y\":[0.0,0.0,0.0,-0.025599999999999984,-0.002214400000000054,0.0,-0.002700000000000055,0.0,0.0,0.0,0.0,-0.018900000000000094,0.0,0.0,0.0,-0.041799999999999865,0.0,0.0,-0.014900000000000068,-0.02130315000000006,0.0,0.0,0.0,-0.035800000000000054,-0.028182820000000077,0.0,0.0,0.0,0.0,-0.00040000000000012785,0.0,-0.0012999999999999978,0.0,0.0,-0.0504,0.0,0.0,0.0,-0.05759999999999998,-0.23561936000000006,-0.33047899742400005,-0.3151469664650097,-0.28097280009161363,-0.26012101129427057,-0.20241045017522347,-0.20911020239375164,-0.21512096485555912,-0.3320679410920808,-0.303747621794385,-0.29727247467707274,-0.37914023137719377,-0.42936778665877867,-0.44568786796033766,-0.47966720165436894,-0.4529220958194035,-0.3957524548325312,-0.4298924411344931,-0.47818055137040155,-0.5429383449453347,-0.481554964671493,-0.5140614683865905,-0.5121177142601367,-0.6487247542672985,-0.6218170704441736,-0.6550593499521307,-0.6991427650282483,-0.7063934243910676,-0.6866924231677083,-0.7217515410152417,-0.7728379580848433,-0.818588393326556,-0.8215272613546656,-0.7651834177643336,-0.6890089184870836,-0.6960684160374268,-0.7311421208267077,-0.7453915884228922,-0.7308025264395239,-0.7289181441246007,-0.7690111506085722,-0.7651074390538571,-0.6824957253690985,-0.6283294961170668,-0.5841750402557744,-0.6216408691287291,-0.5796051696889309,-0.6214764947879134,-0.6515312611017531,-0.6134784748140646,-0.6073327825636081,-0.5671236594981216,-0.5794606352024252,-0.581058684788656,-0.5897307700135308,-0.616316216116654,-0.6061869642221337,-0.6402911731204969,-0.6226294697207133,-0.6220634139252944,-0.628941859791854,-0.6013722399743887,-0.6019701816144272,-0.6136722582749631,-0.6203557282068062,-0.6306440879724017,-0.5968110864306737,-0.5818527777372517,-0.5578093124571437,-0.5261042401603209,-0.5163893770836074,-0.5036704177009064,-0.47245128697429345,-0.450135976413306,-0.42935111632172895,-0.3960822864032858,-0.3853325511012643,-0.37814094194914905,-0.4201164283675814,-0.3886867387851043,-0.3685134011650128,-0.32765621822038915,-0.3236893899078894,-0.3208488853455025,-0.2678071832909862,-0.2504542135349825,-0.254876533675126,-0.23401307661802948,-0.23018314200111975,-0.23672658529411014,-0.2873316126891106,-0.28661894430179985,-0.3115159431456671,-0.251273588170913,-0.2887099087623673,-0.37114843033680894,-0.42994605210031733,-0.47441026003649256,-0.4903356291573868,-0.4897240319123757,-0.46369995753990695,-0.5876925273566804,-0.5321547107916254,-0.5470321909884517,-0.44325726594390585,-0.40846084506540004,-0.41934516551619666,-0.4110418013830782,-0.3757632052859246,-0.384564944091393,-0.3611168684612751,-0.39306102503821133,-0.3750956313793424,-0.4352114316406497,-0.43718819162990735,-0.40341948312770176,-0.42972868392177005,-0.3786323740011607,-0.4101978494019017,-0.3276845285332279,-0.330978874343415,-0.3462994581209508,-0.32636159159363987,-0.34185527498698615,-0.3338259093418273,-0.32196801052811186,-0.3212221753396927,-0.45989648491779356,-0.42441168397689255,-0.4074318286542108,-0.39528418114162217,-0.3833108079282262,-0.37011365921789013,-0.3820185110586721,-0.37410834800022325,-0.40227347234021316,-0.4098645992414925,-0.4057926649762588,-0.43883059280357883,-0.4310864549842682,-0.3980325780188542,-0.37088384728750456,-0.37126131697913206,-0.3760397309700907,-0.408610457013452,-0.41925546878720993,-0.4445759303480875,-0.44963028938191985,-0.4643251606554226,-0.5021438043131498,-0.522008266521055,-0.48912243525770366,-0.47466460017549666,-0.4583266692409547,-0.4496057286157341,-0.43601099011254274,-0.40132566600446407,-0.3972546805332945,-0.3674187872196925,-0.3297169469379861,-0.2953984546212111,-0.2659461100243777,-0.2655056776903924,-0.22576953485344273,-0.20974296422490898,-0.2414322713594901,-0.23119160702284314,-0.21435470321664343,-0.2234681886593304,-0.26136294105275504,-0.22206744951676163,-0.2125766724008661,-0.2108443410801481,-0.19482448120407506,-0.2041645172221079,-0.16930692307643613,-0.1325072197687223,-0.14525936363812214,-0.13611363882905028,-0.1356816956484649,-0.13257014975279927,-0.11860452916381928,-0.09128126956789766,-0.07765048861141627,-0.028028084898710396,-0.06039474967158336,0.0,0.0,-0.007299999999999932,-0.020701449999999812,0.0,0.0,0.0,0.0,0.0,0.0,-0.05169999999999987,-0.0019142499999999483,0.0,0.0,-0.0309,-0.04979744999999992,-0.10851996758999989,-0.18705935844532098,-0.1988469977478637,-0.19788561414516112,-0.16042687232574024,-0.15043595210641655,-0.15910150539493104,-0.16902410763127093,-0.19578153136554396,-0.19352971965336752,-0.15336749969210525,-0.12483598443172918,-0.13980128909794656,-0.1487473556913279,-0.1286577932856433,-0.14094371840031578,-0.11345391738912587,-0.1520186719826989,-0.1833091829865372,-0.1264675021224004,-0.09650533744519871,-0.034344904661428366,-0.02855097408939704,-0.07547196204087915,-0.07094177465487957,-0.09314626624062795,-0.034926256533276384,-0.11888767221488125,-0.08602218238849625,-0.08730175133315236,-0.1136787307196242,-0.08177116502553071,-0.09260626527822945,-0.11964659857293838,-0.11638929098765811,-0.0680557852046831,-0.04019065318230312,-0.014659724556952415,0.0,0.0,0.0,0.0,0.0,0.0,0.0,0.0,-0.05090000000000003,-0.04605959000000011,0.0,0.0,0.0,0.0,0.0,0.0,0.0,-0.014299999999999952,0.0,-0.024100000000000114,-0.04147102000000007,0.0,0.0,0.0,-0.023499999999999917,-0.019691649999999894,0.0,0.0,-0.02760000000000001,0.0,-0.050499999999999934,-0.016887699999999745,0.0,0.0,-0.009500000000000001,-0.02970619999999984,-0.031161640699999937,0.0,0.0,-0.009200000000000104,-0.014352160000000056,-0.028939748032000157,-0.05680917726348178,-0.05030116058659985,-0.06074784782014727,-0.03332168497649573,-0.07498552035400878,-0.06906542768427454,-0.02214632523956192,0.0,0.0,0.0,0.0,0.0,0.0,0.0,0.0,0.0,-0.025300000000000027,0.0,-0.02080000000000005,0.0,0.0,0.0,0.0,-0.0032999999999998655,0.0,0.0,0.0,0.0,0.0,0.0,-0.027999999999999994,0.0,0.0,-0.028700000000000066,0.0,0.0,0.0,-0.055599999999999934,-0.0179184399999999,0.0,-0.035600000000000034,-0.08661675999999996,-0.08077110726399997,-0.07764572902869751,-0.04333415014856511,-0.08657544656184998,-0.10256037624701754,-0.08173977697594817,-0.032612855044161386,0.0,0.0,0.0,-0.046599999999999975,-0.10409001999999994,-0.13598441528799995,-0.11611205683962413,-0.1497881874740344,-0.11943562576685741,-0.13590217956501713,-0.10704131236248862,-0.0791810013081983,-0.06140919463344651,-0.03343918863352319,0.0,0.0,0.0,0.0,0.0,0.0,0.0,0.0,0.0,0.0,0.0,-0.004499999999999821,0.0,-0.009300000000000024,-0.052197309999999934,-0.04309840417599987,-0.025204344334091123,0.0,-0.07549999999999991,-0.062094750000000073,-0.07213033617500017,-0.08966707282129263,-0.058806786589934344,-0.03772405860954899,-0.06081868120291971,-0.03226756911148861,-0.08907346280464427,-0.08825362892116863,-0.04932205887610252,-0.0016930940257952366,0.0,0.0,0.0,0.0,0.0,-0.024399999999999953,0.0,0.0,-0.016200000000000016,0.0,0.0,0.0,-0.0448,-0.022448319999999966,-0.027042812896,-0.08736615849644805,-0.1593729685910782,-0.23032189004199122,-0.1779068107538507,-0.16072506309860624,-0.19857636275285923,-0.18839828255982055,-0.10634534892661848,-0.08945527602133167,-0.04729705530111935,-0.07092408832965166,-0.03506175813917619,0.0,0.0,-0.019899999999999918,-0.0166656699999999,0.0,-0.009100000000000023,0.0,-0.005499999999999903,0.0,0.0,0.0,0.0,0.0,0.0,0.0,0.0,-0.013000000000000018,0.0,0.0,0.0,0.0,0.0,-0.004299999999999973,-0.019733350000000028,0.0,-0.0026999999999998904,-0.04219307999999999,-0.03156142318799979,-0.007544146483062413,0.0,0.0,-0.012000000000000005,-0.00528159999999997,-0.009757832799999996,-0.02827536132664005,-0.05217978743800476,-0.03464511350560779,-0.07335584445403312,-0.08947945276053279,-0.10086095960102616,-0.16164275873199677,-0.16340330893865954,-0.11822708762134708,-0.10985024495374987,-0.11456803865549503,-0.05258780136137952,-0.044913762552406596,-0.00842946828190851,0.0,-0.04999999999999995,-0.036510000000000035,0.0,-0.008999999999999947,0.0,-0.017599999999999973,-0.010231999999999937,0.0,-0.045599999999999835,-0.06783751999999992,-0.056558353991999905,0.0,0.0,0.0,-0.016000000000000018,-0.002912799999999967,0.0,0.0,0.0,-0.04579999999999986,-0.05496031999999997,-0.08813121276799987,-0.050835779370211255,-0.02691684101034067,-0.020689108792806853,-0.06622706523394144,-0.11935874522213001,-0.07497442598132546,-0.1030952034314932,-0.06632210677218445,-0.0918115132573039,-0.10043930388135935,-0.17312380812774553,-0.1268187413828992,-0.1264694688794525,-0.20028279875913865,-0.23882916785894817,-0.2768115923827867,-0.22387420094520685,-0.18949182804707954,-0.16639234514642115,-0.17056038342068905,-0.1253559243171167,-0.07996189678917492,-0.04803657460775939,-0.036041835447817236,0.0,0.0,-0.03819999999999994,-0.03377571999999995,-0.07107197720799983,-0.03391485629631989,-0.0376825883567642,-0.06895790423516931,-0.059647483277521014,0.0,0.0,0.0,0.0,0.0,0.0,-0.013999999999999967,-0.005125999999999986,0.0,0.0,0.0,0.0,0.0,-0.005699999999999963,-0.03751760000000005,-0.03578513168000005,-0.07252171816299212,-0.07901406613585116,-0.07754048864166851,-0.045807881450941904,-0.07891834796459422,-0.052575412716381664,-0.050870048459271164,-0.14445426168118702,-0.13316105793537863,-0.15049783677667108,-0.15117743850724974,-0.1700212993723888,-0.20014952620517112,-0.21366699921230373,-0.22530472762396161,-0.29285815537515225,-0.352045927770252,-0.4329105959845245,-0.3301539959769203,-0.36116786596318895,-0.3745194575645584,-0.30715520314426137,-0.25789393808781835,-0.24334865927433955,-0.20695372978543522,-0.16452575432895594,-0.1291016463125037,-0.1892807225523097,-0.20290080641343095,-0.2322340567374166,-0.18048663216151864,-0.15434415572747107,-0.16779008365140421,-0.07657987681959819,-0.09181630885207478,-0.05930333270897917,-0.069274717382264,-0.07662744711494421,-0.036091392043290225,-0.04409183348933086,-0.03979024674003292,-0.01549693998255563,-0.035187001182904576,-0.04290550517344123,0.0,-0.05130000000000007,-0.06448693000000015,-0.08132616526000008,-0.0861951365841221,-0.10109015585780089,-0.05695368251041906,-0.06893037074253676,-0.07945145755314613,-0.08101639007530574,-0.12016509185809775,-0.09253827574244201,-0.08781947477630253,-0.14446588539269414,-0.15781221758056801,-0.14290549383174408,-0.06405279926426448,-0.05722038469889346,-0.07494464146655437,-0.02388158567550832,0.0,-0.005600000000000075,-0.0813732800000001,-0.0538144784000001,-0.03517462362448003,-0.0014057354513368951,-0.029965531417428568,0.0,0.0,-0.019499999999999962,0.0,0.0,0.0,0.0,-0.056299999999999926,-0.008076930000000085,0.0,0.0,0.0,-0.09420000000000002,-0.05516002000000016,-0.009051828976000128,0.0,0.0,0.0,0.0,0.0,0.0,-0.03599999999999994,-0.08921279999999988,-0.07199892192000004,-0.05705810456291194,-0.08298900668743191,-0.08289730558810068,-0.08124652073815906,-0.07224273664139302,-0.12076444151504824,-0.1662209198887202,-0.12311454144696689,-0.07900720288174927,-0.10875527022866881,-0.12203481670226161,-0.1724300182235519,-0.17880230708323047,-0.14882859129176845,-0.16661807373377055,-0.1812855956360561,-0.19536748339111587,-0.0940642495500572,-0.08636379567123267,0.0,0.0,0.0,0.0,0.0,0.0,0.0,-0.019300000000000088,0.0,-0.03539999999999996,-0.014854019999999852,-0.0036233558279998427,-0.01398567292738868,0.0,-0.0016000000000000218,-0.0011008000000001096,-0.028470638080000187,-0.021281320801792108,-0.003664384576224371,-0.05258446329353171,-0.027193726909798453,-0.03351696768488463,0.0,-0.0008999999999999712,0.0,-0.011399999999999945,0.0,0.0,0.0,0.0,-0.0006999999999999018,0.0,0.0,-0.006200000000000087,-0.010175200000000065,-0.037197417040000076,0.0,0.0,0.0,-0.001600000000000188,0.0,0.0,-0.010099999999999987,0.0,0.0,-0.048799999999999844,0.0,-0.09130000000000008,-0.042957160000000195,-0.01778693330800019,-0.04008316992190863,0.0,0.0,0.0,-0.008499999999999943,0.0,0.0,0.0,0.0,-0.022400000000000024,-0.21518272000000002,-0.28707198284799995,-0.2403039049228288,-0.20695324634894105,-0.17737260243775643,-0.2119229531353708,-0.20333291332454634,-0.19361357486710584,-0.15829384944628494,-0.15837802006134039,-0.1848049502314143,-0.14950700457643457,-0.12246132732196517,-0.13035917537606753,-0.11505349686268634,-0.05142584328711354,-0.07950363832581493,-0.05722762637329957,-0.00763779952053524,0.0,-0.007600000000000013,0.0,0.0,0.0,-0.011700000000000006,0.0,0.0,-0.06800000000000006,-0.05700240000000008,-0.03239016264000007,-0.04806544200523204,0.0,-0.0029999999999999697,-0.002202400000000085,-0.08711497576000016,-0.123995530739296,-0.1194403074991403,-0.06977674084209179,-0.04754440494821777,-0.00877946222961037,0.0,0.0,-0.0029999999999999662,0.0,-0.04199999999999999,0.0,0.0,-0.016500000000000035,-0.004894700000000012,-0.03763366437000015,0.0,-0.02779999999999997,-0.022841779999999874,-0.040821491247999865,-0.012525725239815823,-0.005909647598922703,-0.02191450227258006,0.0,-0.01829999999999985,-0.009661039999999949,-0.009165870520000044,0.0,0.0,-0.0002999999999999029,0.0,0.0,-0.02790000000000007,-0.0022365600000000424,0.0,-0.006600000000000103,0.0,-0.00600000000000003,0.0,-0.008899999999999927,-0.0023587400000000627,0.0,-0.03270000000000006,-0.07390697999999997,-0.05983036609599989,-0.040556888600967934,-0.06319974602998507,-0.03294109782675361,0.0,-0.023599999999999954,0.0,-0.03129999999999993,-0.017544459999999942,0.0,0.0,0.0,0.0,0.0,0.0,0.0,0.0,0.0,0.0,0.0,0.0,0.0,0.0,0.0,0.0,0.0,0.0,-0.04060000000000005,-0.02304298000000005,0.0,0.0,0.0,-0.01819999999999998,0.0,0.0,-0.04449999999999995,0.0,0.0,0.0,0.0,-0.06319999999999996,-0.012800160000000007,-0.041034075424000026,0.0,0.0,0.0,0.0,0.0,0.0,-0.01570000000000009,0.0,0.0,-0.14430000000000007,-0.08713924000000005,-0.013471376667999913,0.0,0.0,0.0,-0.033899999999999944,0.0,0.0,-0.0264,0.0,-0.03350000000000002,-0.035336349999999926,-0.06022467217,0.0,0.0,0.0,-0.047200000000000124,-0.07197280000000013,0.0,-0.03440000000000003,-0.05921592000000012,-0.033532514616000056,-0.051895396838296005,0.0,-0.05469999999999988,-0.0702029199999999,-0.1605791961759999,-0.16217409570326546,-0.13511231899448098,-0.2262714805724626,-0.28352739101010044,-0.22620958229090854,-0.22450724337194852,-0.24342926663367298,-0.2503140603073065,-0.3010677984245018,-0.3507618779565198,-0.33972482988178065,-0.288421449163595,-0.28557513496024933,-0.2984347825309648,-0.31443046948925885,-0.29166956107630226,-0.34266935267880855,-0.34740213333952114,-0.3968690516323854,-0.43577099780209644,-0.4310314741836342,-0.49287835293987314,-0.44531034244563317,-0.4159117905952518,-0.4523004860411675,-0.4686767015085367,-0.47919690281866767,-0.47310350658164607,-0.42847537358911153,-0.4030996801764681,-0.3942655554430798,-0.3847555246635362,-0.3768188709316959,-0.38292604599656527,-0.351270152156189,-0.34698853516042,-0.3119871206450184,-0.3011853184391452,-0.2921007275788542,-0.30562160368209806,-0.3124959498056454,-0.3058959109237796,-0.296803147356881,-0.31972736475304664,-0.31687021968500945,-0.31427432651981246,-0.3082399405931868,-0.2840975145198891,-0.25889774703098933,-0.2775735238058084,-0.26543675900574587,-0.2796872858810344,-0.288979319893169,-0.26793310776200685,-0.2727647492507776,-0.24891143302620325,-0.2549201415619936,-0.2513437582414912,-0.2595041112766589,-0.2325500609271293,-0.23485241074434793,-0.22115626889667175,-0.21936492831513413,-0.21038762499075817,-0.20114916020315,-0.2189635339306198,-0.21794818652472955,-0.2098148476645868,-0.19077138549330322,-0.1685985214558197,-0.14191053399455145,-0.1295540456840731,-0.11379897391095478,-0.1027214610848418,-0.12694798163555107,-0.11664596781885049,-0.07751338419322568,-0.045687595947891985,-0.061433750614751766,-0.08639961284839931,-0.06712264467950062,-0.029434399524552464,-0.010314257195186178,-0.04920890688741538,-0.05624476097644848,-0.11249257322225215,-0.14062655865110663,-0.14200155615726492,-0.10759581855917132,-0.10081354678022098,-0.17949236143695171,-0.18531796567074932,-0.17497150383476787,-0.24155130347530213,-0.3543326246485247,-0.39513880277073793,-0.3913886633479166,-0.44038187594840933,-0.4947207957938188,-0.45071097710746044,-0.4092396558790739,-0.3760980005738898,-0.3745382455753246,-0.3305682842392699,-0.31088699179590434,-0.28924884333829576,-0.2967828055989098,-0.25184722687668015,-0.24384199220426073,-0.2699294434732137,-0.25014453139133774,-0.20762772632122672,-0.20231883208757898,-0.26725007915565,-0.30432722515037414,-0.25660407279568986,-0.2890904748145181,-0.22830771041115958,-0.19782586497240037,-0.2022378227150521,-0.1505428336269875,-0.12956124161757418,-0.10318694723858658,-0.10650515553380388,-0.07978965968426463,-0.092672604448685,-0.10773423921483676,-0.12076131932230011,-0.16542664430072726,-0.21717019235408216,-0.13732155197419854,-0.1386155696462372,-0.1266423260643198,-0.08873860301551117,-0.04709395717331993,-0.012789339631559465,-0.020390861716396515,-0.07632654351239035,-0.036239115500827916,-0.0216863261448906,-0.0008482448917766948,0.0,-0.019800000000000078,-0.016271280000000072,-0.012434737991999916,0.0,0.0,0.0,0.0,0.0,-0.014999999999999975,0.0,-0.028499999999999994,0.0,0.0,0.0,0.0,-0.038799999999999786,0.0,0.0,0.0,0.0,0.0,-0.010999999999999885,0.0,-0.009600000000000126,0.0,0.0,-0.005700000000000001,-0.040202210000000155,0.0,-0.01989999999999998,-0.0050024799999998934,0.0,-0.018100000000000047,0.0,-0.06360000000000005,-0.08701000000000006,-0.007853767000000072,-0.003984396691299982,-0.017331005775636496,-0.0677419251793463,-0.07240321555344961,-0.014335656847095576,-0.010984398080375685,0.0,-0.0017000000000000491,0.0,0.0,-0.0004999999999997712,-0.014293099999999875,0.0,0.0,0.0,0.0,0.0,0.0,0.0,0.0,0.0,0.0,0.0,0.0,0.0,0.0,0.0,-0.034799999999999984,-0.06597595999999999,-0.06130583980000004,-0.03577335864256004,-0.030084421458551273,0.0,0.0,0.0,-0.06519999999999998,-0.04856055999999997,-0.13190665494400003,-0.06749412874084477,-0.04026495730007757,-0.02135817695888902,0.0,-0.06680000000000018,-0.0015693200000000043,0.0,-0.0158000000000001,0.0,0.0,0.0,0.0],\"type\":\"scatter\"}],                        {\"template\":{\"data\":{\"histogram2dcontour\":[{\"type\":\"histogram2dcontour\",\"colorbar\":{\"outlinewidth\":0,\"ticks\":\"\"},\"colorscale\":[[0.0,\"#0d0887\"],[0.1111111111111111,\"#46039f\"],[0.2222222222222222,\"#7201a8\"],[0.3333333333333333,\"#9c179e\"],[0.4444444444444444,\"#bd3786\"],[0.5555555555555556,\"#d8576b\"],[0.6666666666666666,\"#ed7953\"],[0.7777777777777778,\"#fb9f3a\"],[0.8888888888888888,\"#fdca26\"],[1.0,\"#f0f921\"]]}],\"choropleth\":[{\"type\":\"choropleth\",\"colorbar\":{\"outlinewidth\":0,\"ticks\":\"\"}}],\"histogram2d\":[{\"type\":\"histogram2d\",\"colorbar\":{\"outlinewidth\":0,\"ticks\":\"\"},\"colorscale\":[[0.0,\"#0d0887\"],[0.1111111111111111,\"#46039f\"],[0.2222222222222222,\"#7201a8\"],[0.3333333333333333,\"#9c179e\"],[0.4444444444444444,\"#bd3786\"],[0.5555555555555556,\"#d8576b\"],[0.6666666666666666,\"#ed7953\"],[0.7777777777777778,\"#fb9f3a\"],[0.8888888888888888,\"#fdca26\"],[1.0,\"#f0f921\"]]}],\"heatmap\":[{\"type\":\"heatmap\",\"colorbar\":{\"outlinewidth\":0,\"ticks\":\"\"},\"colorscale\":[[0.0,\"#0d0887\"],[0.1111111111111111,\"#46039f\"],[0.2222222222222222,\"#7201a8\"],[0.3333333333333333,\"#9c179e\"],[0.4444444444444444,\"#bd3786\"],[0.5555555555555556,\"#d8576b\"],[0.6666666666666666,\"#ed7953\"],[0.7777777777777778,\"#fb9f3a\"],[0.8888888888888888,\"#fdca26\"],[1.0,\"#f0f921\"]]}],\"heatmapgl\":[{\"type\":\"heatmapgl\",\"colorbar\":{\"outlinewidth\":0,\"ticks\":\"\"},\"colorscale\":[[0.0,\"#0d0887\"],[0.1111111111111111,\"#46039f\"],[0.2222222222222222,\"#7201a8\"],[0.3333333333333333,\"#9c179e\"],[0.4444444444444444,\"#bd3786\"],[0.5555555555555556,\"#d8576b\"],[0.6666666666666666,\"#ed7953\"],[0.7777777777777778,\"#fb9f3a\"],[0.8888888888888888,\"#fdca26\"],[1.0,\"#f0f921\"]]}],\"contourcarpet\":[{\"type\":\"contourcarpet\",\"colorbar\":{\"outlinewidth\":0,\"ticks\":\"\"}}],\"contour\":[{\"type\":\"contour\",\"colorbar\":{\"outlinewidth\":0,\"ticks\":\"\"},\"colorscale\":[[0.0,\"#0d0887\"],[0.1111111111111111,\"#46039f\"],[0.2222222222222222,\"#7201a8\"],[0.3333333333333333,\"#9c179e\"],[0.4444444444444444,\"#bd3786\"],[0.5555555555555556,\"#d8576b\"],[0.6666666666666666,\"#ed7953\"],[0.7777777777777778,\"#fb9f3a\"],[0.8888888888888888,\"#fdca26\"],[1.0,\"#f0f921\"]]}],\"surface\":[{\"type\":\"surface\",\"colorbar\":{\"outlinewidth\":0,\"ticks\":\"\"},\"colorscale\":[[0.0,\"#0d0887\"],[0.1111111111111111,\"#46039f\"],[0.2222222222222222,\"#7201a8\"],[0.3333333333333333,\"#9c179e\"],[0.4444444444444444,\"#bd3786\"],[0.5555555555555556,\"#d8576b\"],[0.6666666666666666,\"#ed7953\"],[0.7777777777777778,\"#fb9f3a\"],[0.8888888888888888,\"#fdca26\"],[1.0,\"#f0f921\"]]}],\"mesh3d\":[{\"type\":\"mesh3d\",\"colorbar\":{\"outlinewidth\":0,\"ticks\":\"\"}}],\"scatter\":[{\"fillpattern\":{\"fillmode\":\"overlay\",\"size\":10,\"solidity\":0.2},\"type\":\"scatter\"}],\"parcoords\":[{\"type\":\"parcoords\",\"line\":{\"colorbar\":{\"outlinewidth\":0,\"ticks\":\"\"}}}],\"scatterpolargl\":[{\"type\":\"scatterpolargl\",\"marker\":{\"colorbar\":{\"outlinewidth\":0,\"ticks\":\"\"}}}],\"bar\":[{\"error_x\":{\"color\":\"#2a3f5f\"},\"error_y\":{\"color\":\"#2a3f5f\"},\"marker\":{\"line\":{\"color\":\"#E5ECF6\",\"width\":0.5},\"pattern\":{\"fillmode\":\"overlay\",\"size\":10,\"solidity\":0.2}},\"type\":\"bar\"}],\"scattergeo\":[{\"type\":\"scattergeo\",\"marker\":{\"colorbar\":{\"outlinewidth\":0,\"ticks\":\"\"}}}],\"scatterpolar\":[{\"type\":\"scatterpolar\",\"marker\":{\"colorbar\":{\"outlinewidth\":0,\"ticks\":\"\"}}}],\"histogram\":[{\"marker\":{\"pattern\":{\"fillmode\":\"overlay\",\"size\":10,\"solidity\":0.2}},\"type\":\"histogram\"}],\"scattergl\":[{\"type\":\"scattergl\",\"marker\":{\"colorbar\":{\"outlinewidth\":0,\"ticks\":\"\"}}}],\"scatter3d\":[{\"type\":\"scatter3d\",\"line\":{\"colorbar\":{\"outlinewidth\":0,\"ticks\":\"\"}},\"marker\":{\"colorbar\":{\"outlinewidth\":0,\"ticks\":\"\"}}}],\"scattermapbox\":[{\"type\":\"scattermapbox\",\"marker\":{\"colorbar\":{\"outlinewidth\":0,\"ticks\":\"\"}}}],\"scatterternary\":[{\"type\":\"scatterternary\",\"marker\":{\"colorbar\":{\"outlinewidth\":0,\"ticks\":\"\"}}}],\"scattercarpet\":[{\"type\":\"scattercarpet\",\"marker\":{\"colorbar\":{\"outlinewidth\":0,\"ticks\":\"\"}}}],\"carpet\":[{\"aaxis\":{\"endlinecolor\":\"#2a3f5f\",\"gridcolor\":\"white\",\"linecolor\":\"white\",\"minorgridcolor\":\"white\",\"startlinecolor\":\"#2a3f5f\"},\"baxis\":{\"endlinecolor\":\"#2a3f5f\",\"gridcolor\":\"white\",\"linecolor\":\"white\",\"minorgridcolor\":\"white\",\"startlinecolor\":\"#2a3f5f\"},\"type\":\"carpet\"}],\"table\":[{\"cells\":{\"fill\":{\"color\":\"#EBF0F8\"},\"line\":{\"color\":\"white\"}},\"header\":{\"fill\":{\"color\":\"#C8D4E3\"},\"line\":{\"color\":\"white\"}},\"type\":\"table\"}],\"barpolar\":[{\"marker\":{\"line\":{\"color\":\"#E5ECF6\",\"width\":0.5},\"pattern\":{\"fillmode\":\"overlay\",\"size\":10,\"solidity\":0.2}},\"type\":\"barpolar\"}],\"pie\":[{\"automargin\":true,\"type\":\"pie\"}]},\"layout\":{\"autotypenumbers\":\"strict\",\"colorway\":[\"#636efa\",\"#EF553B\",\"#00cc96\",\"#ab63fa\",\"#FFA15A\",\"#19d3f3\",\"#FF6692\",\"#B6E880\",\"#FF97FF\",\"#FECB52\"],\"font\":{\"color\":\"#2a3f5f\"},\"hovermode\":\"closest\",\"hoverlabel\":{\"align\":\"left\"},\"paper_bgcolor\":\"white\",\"plot_bgcolor\":\"#E5ECF6\",\"polar\":{\"bgcolor\":\"#E5ECF6\",\"angularaxis\":{\"gridcolor\":\"white\",\"linecolor\":\"white\",\"ticks\":\"\"},\"radialaxis\":{\"gridcolor\":\"white\",\"linecolor\":\"white\",\"ticks\":\"\"}},\"ternary\":{\"bgcolor\":\"#E5ECF6\",\"aaxis\":{\"gridcolor\":\"white\",\"linecolor\":\"white\",\"ticks\":\"\"},\"baxis\":{\"gridcolor\":\"white\",\"linecolor\":\"white\",\"ticks\":\"\"},\"caxis\":{\"gridcolor\":\"white\",\"linecolor\":\"white\",\"ticks\":\"\"}},\"coloraxis\":{\"colorbar\":{\"outlinewidth\":0,\"ticks\":\"\"}},\"colorscale\":{\"sequential\":[[0.0,\"#0d0887\"],[0.1111111111111111,\"#46039f\"],[0.2222222222222222,\"#7201a8\"],[0.3333333333333333,\"#9c179e\"],[0.4444444444444444,\"#bd3786\"],[0.5555555555555556,\"#d8576b\"],[0.6666666666666666,\"#ed7953\"],[0.7777777777777778,\"#fb9f3a\"],[0.8888888888888888,\"#fdca26\"],[1.0,\"#f0f921\"]],\"sequentialminus\":[[0.0,\"#0d0887\"],[0.1111111111111111,\"#46039f\"],[0.2222222222222222,\"#7201a8\"],[0.3333333333333333,\"#9c179e\"],[0.4444444444444444,\"#bd3786\"],[0.5555555555555556,\"#d8576b\"],[0.6666666666666666,\"#ed7953\"],[0.7777777777777778,\"#fb9f3a\"],[0.8888888888888888,\"#fdca26\"],[1.0,\"#f0f921\"]],\"diverging\":[[0,\"#8e0152\"],[0.1,\"#c51b7d\"],[0.2,\"#de77ae\"],[0.3,\"#f1b6da\"],[0.4,\"#fde0ef\"],[0.5,\"#f7f7f7\"],[0.6,\"#e6f5d0\"],[0.7,\"#b8e186\"],[0.8,\"#7fbc41\"],[0.9,\"#4d9221\"],[1,\"#276419\"]]},\"xaxis\":{\"gridcolor\":\"white\",\"linecolor\":\"white\",\"ticks\":\"\",\"title\":{\"standoff\":15},\"zerolinecolor\":\"white\",\"automargin\":true,\"zerolinewidth\":2},\"yaxis\":{\"gridcolor\":\"white\",\"linecolor\":\"white\",\"ticks\":\"\",\"title\":{\"standoff\":15},\"zerolinecolor\":\"white\",\"automargin\":true,\"zerolinewidth\":2},\"scene\":{\"xaxis\":{\"backgroundcolor\":\"#E5ECF6\",\"gridcolor\":\"white\",\"linecolor\":\"white\",\"showbackground\":true,\"ticks\":\"\",\"zerolinecolor\":\"white\",\"gridwidth\":2},\"yaxis\":{\"backgroundcolor\":\"#E5ECF6\",\"gridcolor\":\"white\",\"linecolor\":\"white\",\"showbackground\":true,\"ticks\":\"\",\"zerolinecolor\":\"white\",\"gridwidth\":2},\"zaxis\":{\"backgroundcolor\":\"#E5ECF6\",\"gridcolor\":\"white\",\"linecolor\":\"white\",\"showbackground\":true,\"ticks\":\"\",\"zerolinecolor\":\"white\",\"gridwidth\":2}},\"shapedefaults\":{\"line\":{\"color\":\"#2a3f5f\"}},\"annotationdefaults\":{\"arrowcolor\":\"#2a3f5f\",\"arrowhead\":0,\"arrowwidth\":1},\"geo\":{\"bgcolor\":\"white\",\"landcolor\":\"#E5ECF6\",\"subunitcolor\":\"white\",\"showland\":true,\"showlakes\":true,\"lakecolor\":\"white\"},\"title\":{\"x\":0.05},\"mapbox\":{\"style\":\"light\"}}},\"title\":{\"font\":{\"size\":30},\"text\":\"Drawdowns\",\"x\":0.5,\"y\":0.9},\"yaxis\":{\"zerolinecolor\":\"black\"},\"xaxis\":{\"rangeslider\":{\"visible\":true}},\"height\":600,\"width\":1000},                        {\"responsive\": true}                    ).then(function(){\n",
              "                            \n",
              "var gd = document.getElementById('45918283-4564-450e-aeaa-42822c1b90bb');\n",
              "var x = new MutationObserver(function (mutations, observer) {{\n",
              "        var display = window.getComputedStyle(gd).display;\n",
              "        if (!display || display === 'none') {{\n",
              "            console.log([gd, 'removed!']);\n",
              "            Plotly.purge(gd);\n",
              "            observer.disconnect();\n",
              "        }}\n",
              "}});\n",
              "\n",
              "// Listen for the removal of the full notebook cells\n",
              "var notebookContainer = gd.closest('#notebook-container');\n",
              "if (notebookContainer) {{\n",
              "    x.observe(notebookContainer, {childList: true});\n",
              "}}\n",
              "\n",
              "// Listen for the clearing of the current output cell\n",
              "var outputEl = gd.closest('.output');\n",
              "if (outputEl) {{\n",
              "    x.observe(outputEl, {childList: true});\n",
              "}}\n",
              "\n",
              "                        })                };                            </script>        </div>\n",
              "</body>\n",
              "</html>"
            ]
          },
          "metadata": {}
        }
      ]
    },
    {
      "cell_type": "markdown",
      "source": [
        "What is the maximum drawdown? To answear that question we will use <font color='mediumseagreen'><b>Pandas</b></font>' method <font color='DeepPink'><b>min</b></font> which finds the minimal value of data set:"
      ],
      "metadata": {
        "id": "yWkC_XNFeOga"
      }
    },
    {
      "cell_type": "code",
      "source": [
        "drawdowns.min()"
      ],
      "metadata": {
        "id": "odPDWvVVePgC",
        "outputId": "e456d1a1-76ed-45bd-c3c7-216126ec8ab1",
        "colab": {
          "base_uri": "https://localhost:8080/"
        }
      },
      "execution_count": 75,
      "outputs": [
        {
          "output_type": "execute_result",
          "data": {
            "text/plain": [
              "-0.8215272613546656"
            ]
          },
          "metadata": {},
          "execution_count": 75
        }
      ]
    },
    {
      "cell_type": "markdown",
      "source": [
        "This is, by definition, the Maximum drawdown. It tells us that we would have lost maximally about 82% of our wealth if we had invested in this portfolio at the peak value and sold when it was at its lowest value.  "
      ],
      "metadata": {
        "id": "UfXDy00YeSv7"
      }
    },
    {
      "cell_type": "markdown",
      "source": [
        "Instead of looking at drawdowns for the whole period of data, suppose that I want to find the largest drawdown since 1970. If you remember, <font color='mediumseagreen'><b>Pandas</b></font> can extract parts of data set based on date rage that you give. So, in this example we can write the following:"
      ],
      "metadata": {
        "id": "5xLrQFW6eToV"
      }
    },
    {
      "cell_type": "code",
      "source": [
        "drawdowns[\"1970\":].min()"
      ],
      "metadata": {
        "id": "TUsn1e5NeXdm",
        "outputId": "a46c1d28-751e-4bb0-eec2-ef90ec869ff1",
        "colab": {
          "base_uri": "https://localhost:8080/"
        }
      },
      "execution_count": 78,
      "outputs": [
        {
          "output_type": "execute_result",
          "data": {
            "text/plain": [
              "-0.4947207957938188"
            ]
          },
          "metadata": {},
          "execution_count": 78
        }
      ]
    },
    {
      "cell_type": "markdown",
      "source": [
        "So, when did this happen? For this we use <font color='mediumseagreen'><b>Pandas</b></font>' method <font color='DeepPink'><b>idxmin</b></font> which show us the index value of the row in which minimum was found:"
      ],
      "metadata": {
        "id": "KzS8P0lHejE9"
      }
    },
    {
      "cell_type": "code",
      "source": [
        "drawdowns[\"1970\":].idxmin()"
      ],
      "metadata": {
        "id": "KTnV9jPEelc0",
        "outputId": "2af0e4b4-b498-472e-e901-8d9d90b45079",
        "colab": {
          "base_uri": "https://localhost:8080/"
        }
      },
      "execution_count": 79,
      "outputs": [
        {
          "output_type": "execute_result",
          "data": {
            "text/plain": [
              "Timestamp('2009-02-01 00:00:00')"
            ]
          },
          "metadata": {},
          "execution_count": 79
        }
      ]
    },
    {
      "cell_type": "markdown",
      "source": [
        "Since we are here, let's find when did occur maximal drawdown for entire sample of data:"
      ],
      "metadata": {
        "id": "vbalBBgreupA"
      }
    },
    {
      "cell_type": "code",
      "source": [
        "drawdowns.idxmin()"
      ],
      "metadata": {
        "id": "q8IvGUVBewOU",
        "outputId": "6e0a64b3-7a4f-41b7-8e27-b67482ca7d3c",
        "colab": {
          "base_uri": "https://localhost:8080/"
        }
      },
      "execution_count": 80,
      "outputs": [
        {
          "output_type": "execute_result",
          "data": {
            "text/plain": [
              "Timestamp('1932-06-01 00:00:00')"
            ]
          },
          "metadata": {},
          "execution_count": 80
        }
      ]
    },
    {
      "cell_type": "markdown",
      "source": [
        "#### <font color='MediumPurple' style=\"font-size:16px\"><b>The function that calculates drawdowns</b></font>"
      ],
      "metadata": {
        "id": "d2oNigupe1GH"
      }
    },
    {
      "cell_type": "markdown",
      "source": [
        "Everything that we have seen previously can be put in single function in following way:"
      ],
      "metadata": {
        "id": "9rnyE2cwe16N"
      }
    },
    {
      "cell_type": "code",
      "source": [
        "def drawdown(ret: pd.Series):\n",
        "  \"\"\"Computes and returns a dataframe which contains wealth index,previous peaks and relative drawdowns. Parameters are:\n",
        "  -ret: time series of asset returns\"\"\"\n",
        "  wealth_index=1000*(1+ret).cumprod()\n",
        "  previous_peaks = wealth_index.cummax()\n",
        "  drawdowns = (wealth_index-previous_peaks)/previous_peaks\n",
        "  return pd.DataFrame({\"Wealth\":wealth_index,\"Peaks\":previous_peaks,\"Drawdowns\":drawdowns})\n",
        ""
      ],
      "metadata": {
        "id": "KjYNadU7e2e8"
      },
      "execution_count": 81,
      "outputs": []
    },
    {
      "cell_type": "markdown",
      "source": [
        "The function take as an argument series of returns or dataframe of returns. This is the only argument.\n",
        "\n",
        "Note that as output we have <font color='DodgerBlue'><b>pd.DataFrame</b></font> which consists of wealth index, previous peaks and drawdowns. Let's use it to calculate this values for the same portfolio as in previous example:"
      ],
      "metadata": {
        "id": "-c8FU_Vsfmvq"
      }
    },
    {
      "cell_type": "code",
      "source": [
        "df_largecap = drawdown(returns['LargeCap'])\n",
        "df_largecap.head()"
      ],
      "metadata": {
        "id": "aUI34UBcfoni",
        "outputId": "3ef8da0a-5fe0-45d8-b147-2f04f2c95420",
        "colab": {
          "base_uri": "https://localhost:8080/",
          "height": 206
        }
      },
      "execution_count": 82,
      "outputs": [
        {
          "output_type": "execute_result",
          "data": {
            "text/plain": [
              "                 Wealth        Peaks  Drawdowns\n",
              "1926-07-01  1037.100000  1037.100000   0.000000\n",
              "1926-08-01  1076.406090  1076.406090   0.000000\n",
              "1926-09-01  1089.861166  1089.861166   0.000000\n",
              "1926-10-01  1061.960720  1089.861166  -0.025600\n",
              "1926-11-01  1087.447778  1089.861166  -0.002214"
            ],
            "text/html": [
              "\n",
              "  <div id=\"df-a0468408-dd3e-4c96-8441-cecb4eadfd95\" class=\"colab-df-container\">\n",
              "    <div>\n",
              "<style scoped>\n",
              "    .dataframe tbody tr th:only-of-type {\n",
              "        vertical-align: middle;\n",
              "    }\n",
              "\n",
              "    .dataframe tbody tr th {\n",
              "        vertical-align: top;\n",
              "    }\n",
              "\n",
              "    .dataframe thead th {\n",
              "        text-align: right;\n",
              "    }\n",
              "</style>\n",
              "<table border=\"1\" class=\"dataframe\">\n",
              "  <thead>\n",
              "    <tr style=\"text-align: right;\">\n",
              "      <th></th>\n",
              "      <th>Wealth</th>\n",
              "      <th>Peaks</th>\n",
              "      <th>Drawdowns</th>\n",
              "    </tr>\n",
              "  </thead>\n",
              "  <tbody>\n",
              "    <tr>\n",
              "      <th>1926-07-01</th>\n",
              "      <td>1037.100000</td>\n",
              "      <td>1037.100000</td>\n",
              "      <td>0.000000</td>\n",
              "    </tr>\n",
              "    <tr>\n",
              "      <th>1926-08-01</th>\n",
              "      <td>1076.406090</td>\n",
              "      <td>1076.406090</td>\n",
              "      <td>0.000000</td>\n",
              "    </tr>\n",
              "    <tr>\n",
              "      <th>1926-09-01</th>\n",
              "      <td>1089.861166</td>\n",
              "      <td>1089.861166</td>\n",
              "      <td>0.000000</td>\n",
              "    </tr>\n",
              "    <tr>\n",
              "      <th>1926-10-01</th>\n",
              "      <td>1061.960720</td>\n",
              "      <td>1089.861166</td>\n",
              "      <td>-0.025600</td>\n",
              "    </tr>\n",
              "    <tr>\n",
              "      <th>1926-11-01</th>\n",
              "      <td>1087.447778</td>\n",
              "      <td>1089.861166</td>\n",
              "      <td>-0.002214</td>\n",
              "    </tr>\n",
              "  </tbody>\n",
              "</table>\n",
              "</div>\n",
              "    <div class=\"colab-df-buttons\">\n",
              "\n",
              "  <div class=\"colab-df-container\">\n",
              "    <button class=\"colab-df-convert\" onclick=\"convertToInteractive('df-a0468408-dd3e-4c96-8441-cecb4eadfd95')\"\n",
              "            title=\"Convert this dataframe to an interactive table.\"\n",
              "            style=\"display:none;\">\n",
              "\n",
              "  <svg xmlns=\"http://www.w3.org/2000/svg\" height=\"24px\" viewBox=\"0 -960 960 960\">\n",
              "    <path d=\"M120-120v-720h720v720H120Zm60-500h600v-160H180v160Zm220 220h160v-160H400v160Zm0 220h160v-160H400v160ZM180-400h160v-160H180v160Zm440 0h160v-160H620v160ZM180-180h160v-160H180v160Zm440 0h160v-160H620v160Z\"/>\n",
              "  </svg>\n",
              "    </button>\n",
              "\n",
              "  <style>\n",
              "    .colab-df-container {\n",
              "      display:flex;\n",
              "      gap: 12px;\n",
              "    }\n",
              "\n",
              "    .colab-df-convert {\n",
              "      background-color: #E8F0FE;\n",
              "      border: none;\n",
              "      border-radius: 50%;\n",
              "      cursor: pointer;\n",
              "      display: none;\n",
              "      fill: #1967D2;\n",
              "      height: 32px;\n",
              "      padding: 0 0 0 0;\n",
              "      width: 32px;\n",
              "    }\n",
              "\n",
              "    .colab-df-convert:hover {\n",
              "      background-color: #E2EBFA;\n",
              "      box-shadow: 0px 1px 2px rgba(60, 64, 67, 0.3), 0px 1px 3px 1px rgba(60, 64, 67, 0.15);\n",
              "      fill: #174EA6;\n",
              "    }\n",
              "\n",
              "    .colab-df-buttons div {\n",
              "      margin-bottom: 4px;\n",
              "    }\n",
              "\n",
              "    [theme=dark] .colab-df-convert {\n",
              "      background-color: #3B4455;\n",
              "      fill: #D2E3FC;\n",
              "    }\n",
              "\n",
              "    [theme=dark] .colab-df-convert:hover {\n",
              "      background-color: #434B5C;\n",
              "      box-shadow: 0px 1px 3px 1px rgba(0, 0, 0, 0.15);\n",
              "      filter: drop-shadow(0px 1px 2px rgba(0, 0, 0, 0.3));\n",
              "      fill: #FFFFFF;\n",
              "    }\n",
              "  </style>\n",
              "\n",
              "    <script>\n",
              "      const buttonEl =\n",
              "        document.querySelector('#df-a0468408-dd3e-4c96-8441-cecb4eadfd95 button.colab-df-convert');\n",
              "      buttonEl.style.display =\n",
              "        google.colab.kernel.accessAllowed ? 'block' : 'none';\n",
              "\n",
              "      async function convertToInteractive(key) {\n",
              "        const element = document.querySelector('#df-a0468408-dd3e-4c96-8441-cecb4eadfd95');\n",
              "        const dataTable =\n",
              "          await google.colab.kernel.invokeFunction('convertToInteractive',\n",
              "                                                    [key], {});\n",
              "        if (!dataTable) return;\n",
              "\n",
              "        const docLinkHtml = 'Like what you see? Visit the ' +\n",
              "          '<a target=\"_blank\" href=https://colab.research.google.com/notebooks/data_table.ipynb>data table notebook</a>'\n",
              "          + ' to learn more about interactive tables.';\n",
              "        element.innerHTML = '';\n",
              "        dataTable['output_type'] = 'display_data';\n",
              "        await google.colab.output.renderOutput(dataTable, element);\n",
              "        const docLink = document.createElement('div');\n",
              "        docLink.innerHTML = docLinkHtml;\n",
              "        element.appendChild(docLink);\n",
              "      }\n",
              "    </script>\n",
              "  </div>\n",
              "\n",
              "\n",
              "<div id=\"df-e0ed1960-69ba-4865-9dd9-300d7e148022\">\n",
              "  <button class=\"colab-df-quickchart\" onclick=\"quickchart('df-e0ed1960-69ba-4865-9dd9-300d7e148022')\"\n",
              "            title=\"Suggest charts.\"\n",
              "            style=\"display:none;\">\n",
              "\n",
              "<svg xmlns=\"http://www.w3.org/2000/svg\" height=\"24px\"viewBox=\"0 0 24 24\"\n",
              "     width=\"24px\">\n",
              "    <g>\n",
              "        <path d=\"M19 3H5c-1.1 0-2 .9-2 2v14c0 1.1.9 2 2 2h14c1.1 0 2-.9 2-2V5c0-1.1-.9-2-2-2zM9 17H7v-7h2v7zm4 0h-2V7h2v10zm4 0h-2v-4h2v4z\"/>\n",
              "    </g>\n",
              "</svg>\n",
              "  </button>\n",
              "\n",
              "<style>\n",
              "  .colab-df-quickchart {\n",
              "    background-color: #E8F0FE;\n",
              "    border: none;\n",
              "    border-radius: 50%;\n",
              "    cursor: pointer;\n",
              "    display: none;\n",
              "    fill: #1967D2;\n",
              "    height: 32px;\n",
              "    padding: 0 0 0 0;\n",
              "    width: 32px;\n",
              "  }\n",
              "\n",
              "  .colab-df-quickchart:hover {\n",
              "    background-color: #E2EBFA;\n",
              "    box-shadow: 0px 1px 2px rgba(60, 64, 67, 0.3), 0px 1px 3px 1px rgba(60, 64, 67, 0.15);\n",
              "    fill: #174EA6;\n",
              "  }\n",
              "\n",
              "  [theme=dark] .colab-df-quickchart {\n",
              "    background-color: #3B4455;\n",
              "    fill: #D2E3FC;\n",
              "  }\n",
              "\n",
              "  [theme=dark] .colab-df-quickchart:hover {\n",
              "    background-color: #434B5C;\n",
              "    box-shadow: 0px 1px 3px 1px rgba(0, 0, 0, 0.15);\n",
              "    filter: drop-shadow(0px 1px 2px rgba(0, 0, 0, 0.3));\n",
              "    fill: #FFFFFF;\n",
              "  }\n",
              "</style>\n",
              "\n",
              "  <script>\n",
              "    async function quickchart(key) {\n",
              "      const charts = await google.colab.kernel.invokeFunction(\n",
              "          'suggestCharts', [key], {});\n",
              "    }\n",
              "    (() => {\n",
              "      let quickchartButtonEl =\n",
              "        document.querySelector('#df-e0ed1960-69ba-4865-9dd9-300d7e148022 button');\n",
              "      quickchartButtonEl.style.display =\n",
              "        google.colab.kernel.accessAllowed ? 'block' : 'none';\n",
              "    })();\n",
              "  </script>\n",
              "</div>\n",
              "    </div>\n",
              "  </div>\n"
            ]
          },
          "metadata": {},
          "execution_count": 82
        }
      ]
    },
    {
      "cell_type": "markdown",
      "source": [
        "Let's plot wealth and previous peaks on the same graph. Difference between this two lines is absolute drawdown:"
      ],
      "metadata": {
        "id": "H-y38WXcfxIO"
      }
    }
  ]
}