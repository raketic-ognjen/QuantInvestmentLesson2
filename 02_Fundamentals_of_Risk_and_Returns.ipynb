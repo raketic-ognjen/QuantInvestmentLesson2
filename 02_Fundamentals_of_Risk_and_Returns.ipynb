{
  "nbformat": 4,
  "nbformat_minor": 0,
  "metadata": {
    "colab": {
      "provenance": []
    },
    "kernelspec": {
      "name": "python3",
      "display_name": "Python 3"
    },
    "language_info": {
      "name": "python"
    }
  },
  "cells": [
    {
      "cell_type": "markdown",
      "source": [
        "# <font color='tomato' style=\"font-size:40px\"><center><b>02. Fundamentals of Risk and Returns</b></center></font>"
      ],
      "metadata": {
        "id": "B8wR_RJ3kUrA"
      }
    }
  ]
}